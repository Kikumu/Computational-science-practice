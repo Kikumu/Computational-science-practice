{
 "cells": [
  {
   "cell_type": "markdown",
   "metadata": {},
   "source": [
    "# Part 1: Simulating the robot"
   ]
  },
  {
   "cell_type": "code",
   "execution_count": 1,
   "metadata": {},
   "outputs": [],
   "source": [
    "import numpy as np\n",
    "import random as rand\n",
    "import numpy as np\n",
    "import matplotlib.pyplot as plt\n",
    "import math\n",
    "import csv\n",
    "from scipy.stats import norm\n",
    "import seaborn as sns\n",
    "import pandas as pd\n",
    "\n",
    "def func(U,x):\n",
    "    #-2x+2U\n",
    "    val = -(2*x) + 2*U\n",
    "    return val\n",
    "def simulation(x,t,h):\n",
    "    save = 0\n",
    "    U_save = []\n",
    "    t_save = []\n",
    "    x_save = []\n",
    "    x_exact_save = []\n",
    "\n",
    "    U_array = []\n",
    "    t_array = []\n",
    "    x_array = []\n",
    "    x_exact_array = []\n",
    "    while(t <= 15):\n",
    "        if(t <= 5):\n",
    "            U = 2\n",
    "        elif(t < 5 or t <= 10):\n",
    "            U = 1\n",
    "        elif(t < 10 or t <=15):\n",
    "            U = 3\n",
    "        #print(\"U value:\", x)\n",
    "        U_array.append(U)\n",
    "        k = h * func(U,x)\n",
    "        x = x + k\n",
    "        t = t + h\n",
    "        #value under graph\n",
    "        x_exact = U - math.exp(-2*t)\n",
    "        t_array.append(t)\n",
    "        x_array.append(x)\n",
    "        x_exact_array.append(x_exact)\n",
    "        save+=1\n",
    "        #save every 10th integral if h<=0.01\n",
    "        if(save%10 == 0):\n",
    "            U_save.append(U)\n",
    "            t_save.append(t)\n",
    "            x_save.append(x)\n",
    "            x_exact_save.append(x_exact)\n",
    "            #print(\"save1: \",save)\n",
    "        #print(\"Where it is: \",x,\"Exact pos= \",x_exact,\"Time: \",t)\n",
    "    return U_save,t_save,x_save,x_exact_save,U_array,t_array,x_array,x_exact_array "
   ]
  },
  {
   "cell_type": "markdown",
   "metadata": {},
   "source": [
    "The following step sizes were provided to measure against: 0.75, .5, 0.25, 0.01, 0.001\n"
   ]
  },
  {
   "cell_type": "markdown",
   "metadata": {},
   "source": [
    "## Step size 0.001"
   ]
  },
  {
   "cell_type": "code",
   "execution_count": 2,
   "metadata": {},
   "outputs": [],
   "source": [
    "U_save1 = []\n",
    "t_save1 = []\n",
    "x_save1 = []\n",
    "x_exact_save1 = []\n",
    "\n",
    "\n",
    "##saves every time\n",
    "U_array1 = []\n",
    "t_array1 = []\n",
    "x_array1 = []\n",
    "x_exact_array1 = []\n",
    "\n",
    "#step size \n",
    "U_save1,t_save1,x_save1,x_exact_save1,U_array1,t_array1,x_array1,x_exact_array1=simulation(0,0,0.001)\n",
    "\n",
    "#0.35 for bell curve"
   ]
  },
  {
   "cell_type": "markdown",
   "metadata": {},
   "source": [
    "## Step size 0.01"
   ]
  },
  {
   "cell_type": "code",
   "execution_count": 3,
   "metadata": {},
   "outputs": [],
   "source": [
    "U_save2 = []\n",
    "t_save2 = []\n",
    "x_save2 = []\n",
    "x_exact_save2 = []\n",
    "\n",
    "\n",
    "##saves every time\n",
    "U_array2 = []\n",
    "t_array2 = []\n",
    "x_array2 = []\n",
    "x_exact_array2 = []\n",
    "\n",
    "#step size \n",
    "U_save2,t_save2,x_save2,x_exact_save2,U_array2,t_array2,x_array2,x_exact_array2=simulation(0,0,0.01)\n",
    "\n",
    "#0.35 for bell curve"
   ]
  },
  {
   "cell_type": "markdown",
   "metadata": {},
   "source": [
    "## Step size 0.25"
   ]
  },
  {
   "cell_type": "code",
   "execution_count": 4,
   "metadata": {},
   "outputs": [],
   "source": [
    "U_save3 = []\n",
    "t_save3 = []\n",
    "x_save3 = []\n",
    "x_exact_save3 = []\n",
    "\n",
    "\n",
    "##saves every time\n",
    "U_array3 = []\n",
    "t_array3 = []\n",
    "x_array3 = []\n",
    "x_exact_array3 = []\n",
    "\n",
    "#step size \n",
    "U_save3,t_save3,x_save3,x_exact_save3,U_array3,t_array3,x_array3,x_exact_array3=simulation(0,0,0.25)"
   ]
  },
  {
   "cell_type": "markdown",
   "metadata": {},
   "source": [
    "## Step size 0.5"
   ]
  },
  {
   "cell_type": "code",
   "execution_count": 5,
   "metadata": {},
   "outputs": [],
   "source": [
    "U_save4 = []\n",
    "t_save4 = []\n",
    "x_save4 = []\n",
    "x_exact_save4 = []\n",
    "\n",
    "\n",
    "##saves every time\n",
    "U_array4 = []\n",
    "t_array4 = []\n",
    "x_array4 = []\n",
    "x_exact_array4 = []\n",
    "\n",
    "#step size \n",
    "U_save4,t_save4,x_save4,x_exact_save4,U_array4,t_array4,x_array4,x_exact_array4=simulation(0,0,0.5)"
   ]
  },
  {
   "cell_type": "markdown",
   "metadata": {},
   "source": [
    "## Step size 0.75"
   ]
  },
  {
   "cell_type": "code",
   "execution_count": 6,
   "metadata": {},
   "outputs": [],
   "source": [
    "U_save5 = []\n",
    "t_save5 = []\n",
    "x_save5 = []\n",
    "x_exact_save5 = []\n",
    "\n",
    "\n",
    "##saves every time\n",
    "U_array5 = []\n",
    "t_array5 = []\n",
    "x_array5 = []\n",
    "x_exact_array5 = []\n",
    "\n",
    "#step size \n",
    "U_save5,t_save5,x_save5,x_exact_save5,U_array5,t_array5,x_array5,x_exact_array5=simulation(0,0,0.75)"
   ]
  },
  {
   "cell_type": "markdown",
   "metadata": {},
   "source": [
    "## Saving values into a dataframe and plotting it "
   ]
  },
  {
   "cell_type": "code",
   "execution_count": 7,
   "metadata": {},
   "outputs": [],
   "source": [
    "data1 = {'X':x_array1,'T':t_array1}\n",
    "df1 = pd.DataFrame(data1)\n",
    "data2 = {'X':x_array2,'T':t_array2}\n",
    "df2= pd.DataFrame(data2)\n",
    "data3 = {'X':x_array3,'T':t_array3}\n",
    "df3= pd.DataFrame(data3)\n",
    "data4= {'X':x_array4,'T':t_array4}\n",
    "df4= pd.DataFrame(data4)\n",
    "data5= {'X':x_array5,'T':t_array5}\n",
    "df5= pd.DataFrame(data5)"
   ]
  },
  {
   "cell_type": "code",
   "execution_count": 8,
   "metadata": {},
   "outputs": [
    {
     "data": {
      "image/png": "[encoded data removed]",
      "text/plain": [
       "<Figure size 432x288 with 1 Axes>"
      ]
     },
     "metadata": {
      "needs_background": "light"
     },
     "output_type": "display_data"
    }
   ],
   "source": [
    "plt3 = sns.lineplot(x=\"T\", y=\"X\", data=df1) #blue\n",
    "plt4 = sns.lineplot(x=\"T\", y=\"X\", data=df2) #Orange\n",
    "plt5 = sns.lineplot(x=\"T\", y=\"X\", data=df3) #Green\n",
    "plt6 = sns.lineplot(x=\"T\", y=\"X\", data=df4) #Red\n",
    "plt7 = sns.lineplot(x=\"T\", y=\"X\", data=df5) #Purple"
   ]
  },
  {
   "cell_type": "markdown",
   "metadata": {},
   "source": [
    "# Part 2: Random Noise using Box Muller Method"
   ]
  },
  {
   "cell_type": "markdown",
   "metadata": {},
   "source": [
    "## Initialise/Compute standard deviation and mean"
   ]
  },
  {
   "cell_type": "code",
   "execution_count": 9,
   "metadata": {},
   "outputs": [
    {
     "name": "stdout",
     "output_type": "stream",
     "text": [
      "deviation:  0.0431 mean:  0.5 DEVIATION:  0.7789244866974134 MEAN:  1.900142980914039\n"
     ]
    }
   ],
   "source": [
    "import statistics as stat\n",
    "std_dev1 = stat.stdev(x_array1)\n",
    "_mean1 = stat.mean(x_array1)\n",
    "\n",
    "std_dev = 0.0431\n",
    "_mean = 0.5\n",
    "print(\"deviation: \",std_dev,\"mean: \",_mean,\"DEVIATION: \",std_dev1,\"MEAN: \",_mean1)"
   ]
  },
  {
   "cell_type": "markdown",
   "metadata": {},
   "source": [
    "## compute box muller algorithm"
   ]
  },
  {
   "cell_type": "code",
   "execution_count": 10,
   "metadata": {},
   "outputs": [],
   "source": [
    "def box_muller(array,standard_deviation,mean):\n",
    "    random_vls = []\n",
    "    i = 0\n",
    "    it = 0\n",
    "    while i < len(array):\n",
    "        if(it == 0):\n",
    "            z1 =  rand.uniform(0,2*np.pi)\n",
    "            b  =  standard_deviation*np.sqrt(-2*math.log(rand.uniform(0,1)))\n",
    "            z2 =  b*(math.sin(z1))+mean\n",
    "            z3 =  b*(math.cos(z1))+mean\n",
    "            noise = array[i] + z2\n",
    "            random_vls.append(noise)\n",
    "            it = 1\n",
    "            i = i + 1\n",
    "        else:\n",
    "            it = 0\n",
    "            noise = array[i] + z3\n",
    "            random_vls.append(noise)\n",
    "            i= i + 1\n",
    "    return random_vls"
   ]
  },
  {
   "cell_type": "code",
   "execution_count": 11,
   "metadata": {},
   "outputs": [],
   "source": [
    "random_vals = []\n",
    "random_vals = box_muller(x_array1,std_dev,_mean)"
   ]
  },
  {
   "cell_type": "markdown",
   "metadata": {},
   "source": [
    "## Noise plot"
   ]
  },
  {
   "cell_type": "code",
   "execution_count": 12,
   "metadata": {},
   "outputs": [
    {
     "data": {
      "image/png": "[encoded data removed]",
      "text/plain": [
       "<Figure size 432x288 with 1 Axes>"
      ]
     },
     "metadata": {
      "needs_background": "light"
     },
     "output_type": "display_data"
    }
   ],
   "source": [
    "y = random_vals\n",
    "x = t_array1\n",
    "plt.plot(x,y,\"b\") #actual\n",
    "plt.show()"
   ]
  },
  {
   "cell_type": "markdown",
   "metadata": {},
   "source": [
    "## Proof that numbers generated fall within a gaussian distribution"
   ]
  },
  {
   "cell_type": "code",
   "execution_count": 13,
   "metadata": {},
   "outputs": [
    {
     "data": {
      "text/plain": [
       "<matplotlib.axes._subplots.AxesSubplot at 0x2a0e11b0f48>"
      ]
     },
     "execution_count": 13,
     "metadata": {},
     "output_type": "execute_result"
    },
    {
     "data": {
      "image/png": "[encoded data removed]",
      "text/plain": [
       "<Figure size 432x288 with 1 Axes>"
      ]
     },
     "metadata": {
      "needs_background": "light"
     },
     "output_type": "display_data"
    }
   ],
   "source": [
    "sns.distplot(random_vals)"
   ]
  },
  {
   "cell_type": "markdown",
   "metadata": {},
   "source": [
    "# Part 3: Adding an intelligent agent to track the noise"
   ]
  },
  {
   "cell_type": "code",
   "execution_count": 14,
   "metadata": {},
   "outputs": [],
   "source": [
    "def sigmoid_activation(val):\n",
    "  sigmoid = 1/1+np.exp(-val)\n",
    "  return sigmoid\n",
    "\n",
    "def predict_step(noise1,weights1):\n",
    "    net_sum1 = 0\n",
    "    net_sum1 = weights1[0]\n",
    "    net_sum1+=weights1[1]*noise1\n",
    "    return 1.0 if net_sum1 >= 0.005 else 0.0\n",
    "\n",
    "def predict(noise2,weights2):\n",
    "    net_sum = 0\n",
    "    net_sum = weights2[0]\n",
    "    net_sum += weights2[1]*noise2\n",
    "    activation2 = sigmoid_activation(net_sum)\n",
    "    return activation2, net_sum\n",
    "\n",
    "def train_weights(array, lr, loops):\n",
    "    weights3 = [-0.10,rand.uniform(0,1)]\n",
    "    for loop in range(loops):\n",
    "        net_array = []\n",
    "        error_array = []\n",
    "        sum_error = 0.0\n",
    "        for a in array:\n",
    "            prediction, netwrk_sum = predict(a,weights3)\n",
    "            Target = a\n",
    "            delta = Target - prediction\n",
    "            error = delta\n",
    "            error_array.append(error)\n",
    "            net_array.append(prediction)\n",
    "            weights3_change_bias= -lr*Target*error\n",
    "            weights3[0] = weights3[0] + weights3_change_bias\n",
    "            weights3_change= -lr*Target*error\n",
    "            weights3[1] = weights3[1] + weights3_change\n",
    "            sum_error += error**2\n",
    "        print('>epoch=%d, lrate=%.3f, error=%.3f' % (loop, lr, sum_error))\n",
    "    return net_array,error_array\n",
    "\n",
    "def train_weights_step(array, lr, loops):\n",
    "    weights3 = [-0.10,rand.uniform(0,1)]\n",
    "    for loop in range(loops):\n",
    "        net_array = []\n",
    "        sum_error = 0.0\n",
    "        for a in array:\n",
    "            prediction = predict_step(a,weights3)\n",
    "            Target = a\n",
    "            delta = Target - prediction\n",
    "            error = delta\n",
    "            net_array.append(prediction)\n",
    "            weights3_change_bias= -lr*Target*error\n",
    "            weights3[0] = weights3[0] + weights3_change_bias\n",
    "            weights3_change= -lr*Target*error\n",
    "            weights3[1] = weights3[1] + weights3_change\n",
    "            #print(\"weight\",weights3[1])\n",
    "            sum_error += error**2\n",
    "        print('>epoch=%d, lrate=%.3f, error=%.3f' % (loop, lr, sum_error))\n",
    "    return net_array"
   ]
  },
  {
   "cell_type": "markdown",
   "metadata": {},
   "source": [
    "## Train network using sigmoid"
   ]
  },
  {
   "cell_type": "code",
   "execution_count": 15,
   "metadata": {},
   "outputs": [
    {
     "name": "stdout",
     "output_type": "stream",
     "text": [
      ">epoch=0, lrate=0.007, error=149.834\n",
      ">epoch=1, lrate=0.007, error=316.116\n",
      ">epoch=2, lrate=0.007, error=316.116\n",
      ">epoch=3, lrate=0.007, error=316.116\n",
      ">epoch=4, lrate=0.007, error=316.116\n"
     ]
    }
   ],
   "source": [
    "values,e = train_weights(random_vals, 0.006531,5)\n",
    "#0.006531\n",
    "\n",
    "#save to dataframe\n",
    "data6= {'Noise_values':random_vals,'Trained':values,'T':t_array1}\n",
    "df6= pd.DataFrame(data6)"
   ]
  },
  {
   "cell_type": "code",
   "execution_count": 16,
   "metadata": {},
   "outputs": [
    {
     "data": {
      "text/plain": [
       "15001"
      ]
     },
     "execution_count": 16,
     "metadata": {},
     "output_type": "execute_result"
    }
   ],
   "source": [
    "len(values)"
   ]
  },
  {
   "cell_type": "markdown",
   "metadata": {},
   "source": [
    "## Network prediction(blue) against noise values(yellow)"
   ]
  },
  {
   "cell_type": "code",
   "execution_count": null,
   "metadata": {},
   "outputs": [],
   "source": []
  },
  {
   "cell_type": "code",
   "execution_count": 17,
   "metadata": {},
   "outputs": [
    {
     "data": {
      "image/png": "[encoded data removed]",
      "text/plain": [
       "<Figure size 432x288 with 1 Axes>"
      ]
     },
     "metadata": {
      "needs_background": "light"
     },
     "output_type": "display_data"
    }
   ],
   "source": [
    "y_axis = values #network output\n",
    "y = random_vals\n",
    "x_axis = x = t_array1\n",
    "plt.plot(x,y,\"y\") #actual\n",
    "plt.plot(x_axis,y_axis,\"b\")#noise\n",
    "plt.show()"
   ]
  },
  {
   "cell_type": "markdown",
   "metadata": {},
   "source": [
    "## Train network using step function"
   ]
  },
  {
   "cell_type": "code",
   "execution_count": 18,
   "metadata": {},
   "outputs": [
    {
     "name": "stdout",
     "output_type": "stream",
     "text": [
      ">epoch=0, lrate=0.007, error=95125.871\n",
      ">epoch=1, lrate=0.007, error=95552.629\n",
      ">epoch=2, lrate=0.007, error=95552.629\n"
     ]
    }
   ],
   "source": [
    "values1 = train_weights_step(random_vals, 0.006531,3)"
   ]
  },
  {
   "cell_type": "code",
   "execution_count": 19,
   "metadata": {},
   "outputs": [
    {
     "data": {
      "image/png": "[encoded data removed]",
      "text/plain": [
       "<Figure size 432x288 with 1 Axes>"
      ]
     },
     "metadata": {
      "needs_background": "light"
     },
     "output_type": "display_data"
    }
   ],
   "source": [
    "y_axis = values1 #network output\n",
    "y = random_vals\n",
    "x_axis = x = t_array1\n",
    "plt.plot(x,y,\"y\") #actual\n",
    "plt.plot(x_axis,y_axis,\"b\")#noise\n",
    "plt.show()"
   ]
  },
  {
   "cell_type": "code",
   "execution_count": 20,
   "metadata": {},
   "outputs": [
    {
     "data": {
      "text/html": [
       "<div>\n",
       "<style scoped>\n",
       "    .dataframe tbody tr th:only-of-type {\n",
       "        vertical-align: middle;\n",
       "    }\n",
       "\n",
       "    .dataframe tbody tr th {\n",
       "        vertical-align: top;\n",
       "    }\n",
       "\n",
       "    .dataframe thead th {\n",
       "        text-align: right;\n",
       "    }\n",
       "</style>\n",
       "<table border=\"1\" class=\"dataframe\">\n",
       "  <thead>\n",
       "    <tr style=\"text-align: right;\">\n",
       "      <th></th>\n",
       "      <th>Noise_values</th>\n",
       "      <th>Trained</th>\n",
       "      <th>T</th>\n",
       "    </tr>\n",
       "  </thead>\n",
       "  <tbody>\n",
       "    <tr>\n",
       "      <td>0</td>\n",
       "      <td>0.499122</td>\n",
       "      <td>2.997061</td>\n",
       "      <td>0.001</td>\n",
       "    </tr>\n",
       "    <tr>\n",
       "      <td>1</td>\n",
       "      <td>0.493334</td>\n",
       "      <td>2.972069</td>\n",
       "      <td>0.002</td>\n",
       "    </tr>\n",
       "    <tr>\n",
       "      <td>2</td>\n",
       "      <td>0.536487</td>\n",
       "      <td>2.953640</td>\n",
       "      <td>0.003</td>\n",
       "    </tr>\n",
       "    <tr>\n",
       "      <td>3</td>\n",
       "      <td>0.509525</td>\n",
       "      <td>2.925767</td>\n",
       "      <td>0.004</td>\n",
       "    </tr>\n",
       "    <tr>\n",
       "      <td>4</td>\n",
       "      <td>0.497262</td>\n",
       "      <td>2.901548</td>\n",
       "      <td>0.005</td>\n",
       "    </tr>\n",
       "    <tr>\n",
       "      <td>...</td>\n",
       "      <td>...</td>\n",
       "      <td>...</td>\n",
       "      <td>...</td>\n",
       "    </tr>\n",
       "    <tr>\n",
       "      <td>14996</td>\n",
       "      <td>3.484244</td>\n",
       "      <td>3.487792</td>\n",
       "      <td>14.997</td>\n",
       "    </tr>\n",
       "    <tr>\n",
       "      <td>14997</td>\n",
       "      <td>3.503186</td>\n",
       "      <td>3.490378</td>\n",
       "      <td>14.998</td>\n",
       "    </tr>\n",
       "    <tr>\n",
       "      <td>14998</td>\n",
       "      <td>3.492849</td>\n",
       "      <td>3.491753</td>\n",
       "      <td>14.999</td>\n",
       "    </tr>\n",
       "    <tr>\n",
       "      <td>14999</td>\n",
       "      <td>3.522397</td>\n",
       "      <td>3.497509</td>\n",
       "      <td>15.000</td>\n",
       "    </tr>\n",
       "    <tr>\n",
       "      <td>15000</td>\n",
       "      <td>3.503577</td>\n",
       "      <td>3.500459</td>\n",
       "      <td>15.001</td>\n",
       "    </tr>\n",
       "  </tbody>\n",
       "</table>\n",
       "<p>15001 rows × 3 columns</p>\n",
       "</div>"
      ],
      "text/plain": [
       "       Noise_values   Trained       T\n",
       "0          0.499122  2.997061   0.001\n",
       "1          0.493334  2.972069   0.002\n",
       "2          0.536487  2.953640   0.003\n",
       "3          0.509525  2.925767   0.004\n",
       "4          0.497262  2.901548   0.005\n",
       "...             ...       ...     ...\n",
       "14996      3.484244  3.487792  14.997\n",
       "14997      3.503186  3.490378  14.998\n",
       "14998      3.492849  3.491753  14.999\n",
       "14999      3.522397  3.497509  15.000\n",
       "15000      3.503577  3.500459  15.001\n",
       "\n",
       "[15001 rows x 3 columns]"
      ]
     },
     "execution_count": 20,
     "metadata": {},
     "output_type": "execute_result"
    }
   ],
   "source": [
    "df6"
   ]
  },
  {
   "cell_type": "markdown",
   "metadata": {},
   "source": [
    "## Perceptron values against different noise samples(Sigmoid)"
   ]
  },
  {
   "cell_type": "markdown",
   "metadata": {},
   "source": [
    "### Adding noise to other step sizes using box muller"
   ]
  },
  {
   "cell_type": "markdown",
   "metadata": {},
   "source": [
    "#### Example 1(step size =0.1)"
   ]
  },
  {
   "cell_type": "code",
   "execution_count": 21,
   "metadata": {},
   "outputs": [
    {
     "name": "stdout",
     "output_type": "stream",
     "text": [
      ">epoch=0, lrate=0.007, error=54.247\n",
      ">epoch=1, lrate=0.007, error=80.836\n",
      ">epoch=2, lrate=0.007, error=80.836\n",
      ">epoch=3, lrate=0.007, error=80.836\n",
      ">epoch=4, lrate=0.007, error=80.836\n"
     ]
    }
   ],
   "source": [
    "random_vals1 = []\n",
    "random_vals1 = box_muller(x_array2,std_dev,_mean)\n",
    "values1,e1 = train_weights(random_vals1, 0.006531,5)"
   ]
  },
  {
   "cell_type": "code",
   "execution_count": 22,
   "metadata": {},
   "outputs": [
    {
     "data": {
      "image/png": "[encoded data removed]",
      "text/plain": [
       "<Figure size 432x288 with 1 Axes>"
      ]
     },
     "metadata": {
      "needs_background": "light"
     },
     "output_type": "display_data"
    }
   ],
   "source": [
    "y_axis = values1 #network output\n",
    "y = random_vals1\n",
    "x_axis = x = t_array2\n",
    "plt.plot(x,y,\"y\") #actual\n",
    "plt.plot(x_axis,y_axis,\"b\")#noise\n",
    "plt.show()"
   ]
  },
  {
   "cell_type": "code",
   "execution_count": 23,
   "metadata": {},
   "outputs": [
    {
     "data": {
      "text/html": [
       "<div>\n",
       "<style scoped>\n",
       "    .dataframe tbody tr th:only-of-type {\n",
       "        vertical-align: middle;\n",
       "    }\n",
       "\n",
       "    .dataframe tbody tr th {\n",
       "        vertical-align: top;\n",
       "    }\n",
       "\n",
       "    .dataframe thead th {\n",
       "        text-align: right;\n",
       "    }\n",
       "</style>\n",
       "<table border=\"1\" class=\"dataframe\">\n",
       "  <thead>\n",
       "    <tr style=\"text-align: right;\">\n",
       "      <th></th>\n",
       "      <th>Noise_values</th>\n",
       "      <th>Network_output</th>\n",
       "      <th>Error</th>\n",
       "      <th>T</th>\n",
       "    </tr>\n",
       "  </thead>\n",
       "  <tbody>\n",
       "    <tr>\n",
       "      <td>0</td>\n",
       "      <td>0.568050</td>\n",
       "      <td>2.529922</td>\n",
       "      <td>-1.961872</td>\n",
       "      <td>0.01</td>\n",
       "    </tr>\n",
       "    <tr>\n",
       "      <td>1</td>\n",
       "      <td>0.567967</td>\n",
       "      <td>2.512540</td>\n",
       "      <td>-1.944573</td>\n",
       "      <td>0.02</td>\n",
       "    </tr>\n",
       "    <tr>\n",
       "      <td>2</td>\n",
       "      <td>0.667542</td>\n",
       "      <td>2.518529</td>\n",
       "      <td>-1.850988</td>\n",
       "      <td>0.03</td>\n",
       "    </tr>\n",
       "    <tr>\n",
       "      <td>3</td>\n",
       "      <td>0.632542</td>\n",
       "      <td>2.490637</td>\n",
       "      <td>-1.858095</td>\n",
       "      <td>0.04</td>\n",
       "    </tr>\n",
       "    <tr>\n",
       "      <td>4</td>\n",
       "      <td>0.666576</td>\n",
       "      <td>2.478980</td>\n",
       "      <td>-1.812404</td>\n",
       "      <td>0.05</td>\n",
       "    </tr>\n",
       "    <tr>\n",
       "      <td>...</td>\n",
       "      <td>...</td>\n",
       "      <td>...</td>\n",
       "      <td>...</td>\n",
       "      <td>...</td>\n",
       "    </tr>\n",
       "    <tr>\n",
       "      <td>1496</td>\n",
       "      <td>3.486147</td>\n",
       "      <td>3.491448</td>\n",
       "      <td>-0.005301</td>\n",
       "      <td>14.97</td>\n",
       "    </tr>\n",
       "    <tr>\n",
       "      <td>1497</td>\n",
       "      <td>3.510201</td>\n",
       "      <td>3.500136</td>\n",
       "      <td>0.010066</td>\n",
       "      <td>14.98</td>\n",
       "    </tr>\n",
       "    <tr>\n",
       "      <td>1498</td>\n",
       "      <td>3.510064</td>\n",
       "      <td>3.502682</td>\n",
       "      <td>0.007383</td>\n",
       "      <td>14.99</td>\n",
       "    </tr>\n",
       "    <tr>\n",
       "      <td>1499</td>\n",
       "      <td>3.511089</td>\n",
       "      <td>3.505023</td>\n",
       "      <td>0.006066</td>\n",
       "      <td>15.00</td>\n",
       "    </tr>\n",
       "    <tr>\n",
       "      <td>1500</td>\n",
       "      <td>3.503802</td>\n",
       "      <td>3.503533</td>\n",
       "      <td>0.000269</td>\n",
       "      <td>15.01</td>\n",
       "    </tr>\n",
       "  </tbody>\n",
       "</table>\n",
       "<p>1501 rows × 4 columns</p>\n",
       "</div>"
      ],
      "text/plain": [
       "      Noise_values  Network_output     Error      T\n",
       "0         0.568050        2.529922 -1.961872   0.01\n",
       "1         0.567967        2.512540 -1.944573   0.02\n",
       "2         0.667542        2.518529 -1.850988   0.03\n",
       "3         0.632542        2.490637 -1.858095   0.04\n",
       "4         0.666576        2.478980 -1.812404   0.05\n",
       "...            ...             ...       ...    ...\n",
       "1496      3.486147        3.491448 -0.005301  14.97\n",
       "1497      3.510201        3.500136  0.010066  14.98\n",
       "1498      3.510064        3.502682  0.007383  14.99\n",
       "1499      3.511089        3.505023  0.006066  15.00\n",
       "1500      3.503802        3.503533  0.000269  15.01\n",
       "\n",
       "[1501 rows x 4 columns]"
      ]
     },
     "execution_count": 23,
     "metadata": {},
     "output_type": "execute_result"
    }
   ],
   "source": [
    "data7= {'Noise_values':random_vals1,'Network_output':values1,'Error':e1,'T':t_array2}\n",
    "vis= pd.DataFrame(data7)\n",
    "vis"
   ]
  },
  {
   "cell_type": "markdown",
   "metadata": {},
   "source": [
    "#### Example 2(step size = 0.25)"
   ]
  },
  {
   "cell_type": "code",
   "execution_count": 24,
   "metadata": {},
   "outputs": [
    {
     "name": "stdout",
     "output_type": "stream",
     "text": [
      ">epoch=0, lrate=0.007, error=64.169\n",
      ">epoch=1, lrate=0.007, error=39.955\n",
      ">epoch=2, lrate=0.007, error=40.658\n",
      ">epoch=3, lrate=0.007, error=40.659\n",
      ">epoch=4, lrate=0.007, error=40.659\n"
     ]
    }
   ],
   "source": [
    "random_vals2 = []\n",
    "random_vals2 = box_muller(x_array3,std_dev,_mean)\n",
    "values2,e2 = train_weights(random_vals2, 0.006531,5)"
   ]
  },
  {
   "cell_type": "code",
   "execution_count": 25,
   "metadata": {},
   "outputs": [
    {
     "data": {
      "image/png": "[encoded data removed]",
      "text/plain": [
       "<Figure size 432x288 with 1 Axes>"
      ]
     },
     "metadata": {
      "needs_background": "light"
     },
     "output_type": "display_data"
    }
   ],
   "source": [
    "y_axis = values2 #network output\n",
    "y = random_vals2 # x noise\n",
    "x_axis = x = t_array3\n",
    "plt.plot(x,y,\"y\") #actual\n",
    "plt.plot(x_axis,y_axis,\"b\")#noise\n",
    "plt.show()"
   ]
  },
  {
   "cell_type": "code",
   "execution_count": 26,
   "metadata": {},
   "outputs": [
    {
     "data": {
      "text/html": [
       "<div>\n",
       "<style scoped>\n",
       "    .dataframe tbody tr th:only-of-type {\n",
       "        vertical-align: middle;\n",
       "    }\n",
       "\n",
       "    .dataframe tbody tr th {\n",
       "        vertical-align: top;\n",
       "    }\n",
       "\n",
       "    .dataframe thead th {\n",
       "        text-align: right;\n",
       "    }\n",
       "</style>\n",
       "<table border=\"1\" class=\"dataframe\">\n",
       "  <thead>\n",
       "    <tr style=\"text-align: right;\">\n",
       "      <th></th>\n",
       "      <th>Noise_values</th>\n",
       "      <th>Network_output</th>\n",
       "      <th>Error</th>\n",
       "      <th>T</th>\n",
       "    </tr>\n",
       "  </thead>\n",
       "  <tbody>\n",
       "    <tr>\n",
       "      <td>0</td>\n",
       "      <td>1.500318</td>\n",
       "      <td>3.545782</td>\n",
       "      <td>-2.045464</td>\n",
       "      <td>0.25</td>\n",
       "    </tr>\n",
       "    <tr>\n",
       "      <td>1</td>\n",
       "      <td>2.007488</td>\n",
       "      <td>3.373116</td>\n",
       "      <td>-1.365628</td>\n",
       "      <td>0.50</td>\n",
       "    </tr>\n",
       "    <tr>\n",
       "      <td>2</td>\n",
       "      <td>2.248295</td>\n",
       "      <td>3.217744</td>\n",
       "      <td>-0.969449</td>\n",
       "      <td>0.75</td>\n",
       "    </tr>\n",
       "    <tr>\n",
       "      <td>3</td>\n",
       "      <td>2.387736</td>\n",
       "      <td>3.096433</td>\n",
       "      <td>-0.708696</td>\n",
       "      <td>1.00</td>\n",
       "    </tr>\n",
       "    <tr>\n",
       "      <td>4</td>\n",
       "      <td>2.449707</td>\n",
       "      <td>3.009050</td>\n",
       "      <td>-0.559343</td>\n",
       "      <td>1.25</td>\n",
       "    </tr>\n",
       "    <tr>\n",
       "      <td>...</td>\n",
       "      <td>...</td>\n",
       "      <td>...</td>\n",
       "      <td>...</td>\n",
       "      <td>...</td>\n",
       "    </tr>\n",
       "    <tr>\n",
       "      <td>56</td>\n",
       "      <td>3.395980</td>\n",
       "      <td>3.342057</td>\n",
       "      <td>0.053923</td>\n",
       "      <td>14.25</td>\n",
       "    </tr>\n",
       "    <tr>\n",
       "      <td>57</td>\n",
       "      <td>3.503247</td>\n",
       "      <td>3.347104</td>\n",
       "      <td>0.156143</td>\n",
       "      <td>14.50</td>\n",
       "    </tr>\n",
       "    <tr>\n",
       "      <td>58</td>\n",
       "      <td>3.402829</td>\n",
       "      <td>3.391254</td>\n",
       "      <td>0.011575</td>\n",
       "      <td>14.75</td>\n",
       "    </tr>\n",
       "    <tr>\n",
       "      <td>59</td>\n",
       "      <td>3.489771</td>\n",
       "      <td>3.388742</td>\n",
       "      <td>0.101029</td>\n",
       "      <td>15.00</td>\n",
       "    </tr>\n",
       "    <tr>\n",
       "      <td>60</td>\n",
       "      <td>3.547630</td>\n",
       "      <td>3.410382</td>\n",
       "      <td>0.137248</td>\n",
       "      <td>15.25</td>\n",
       "    </tr>\n",
       "  </tbody>\n",
       "</table>\n",
       "<p>61 rows × 4 columns</p>\n",
       "</div>"
      ],
      "text/plain": [
       "    Noise_values  Network_output     Error      T\n",
       "0       1.500318        3.545782 -2.045464   0.25\n",
       "1       2.007488        3.373116 -1.365628   0.50\n",
       "2       2.248295        3.217744 -0.969449   0.75\n",
       "3       2.387736        3.096433 -0.708696   1.00\n",
       "4       2.449707        3.009050 -0.559343   1.25\n",
       "..           ...             ...       ...    ...\n",
       "56      3.395980        3.342057  0.053923  14.25\n",
       "57      3.503247        3.347104  0.156143  14.50\n",
       "58      3.402829        3.391254  0.011575  14.75\n",
       "59      3.489771        3.388742  0.101029  15.00\n",
       "60      3.547630        3.410382  0.137248  15.25\n",
       "\n",
       "[61 rows x 4 columns]"
      ]
     },
     "execution_count": 26,
     "metadata": {},
     "output_type": "execute_result"
    }
   ],
   "source": [
    "data8= {'Noise_values':random_vals2,'Network_output':values2,'Error':e2,'T':t_array3}\n",
    "vis1= pd.DataFrame(data8)\n",
    "vis1"
   ]
  },
  {
   "cell_type": "markdown",
   "metadata": {},
   "source": [
    "#### Example 3(step size = 0.5)"
   ]
  },
  {
   "cell_type": "code",
   "execution_count": 27,
   "metadata": {},
   "outputs": [
    {
     "name": "stdout",
     "output_type": "stream",
     "text": [
      ">epoch=0, lrate=0.007, error=13.222\n",
      ">epoch=1, lrate=0.007, error=13.007\n",
      ">epoch=2, lrate=0.007, error=13.190\n",
      ">epoch=3, lrate=0.007, error=13.195\n",
      ">epoch=4, lrate=0.007, error=13.195\n"
     ]
    }
   ],
   "source": [
    "random_vals3 = []\n",
    "random_vals3 = box_muller(x_array4,std_dev,_mean)\n",
    "values3,e3 = train_weights(random_vals3, 0.006531,5)"
   ]
  },
  {
   "cell_type": "code",
   "execution_count": 28,
   "metadata": {},
   "outputs": [
    {
     "data": {
      "image/png": "[encoded data removed]",
      "text/plain": [
       "<Figure size 432x288 with 1 Axes>"
      ]
     },
     "metadata": {
      "needs_background": "light"
     },
     "output_type": "display_data"
    }
   ],
   "source": [
    "y_axis = values3 #network output\n",
    "y = random_vals3 # x noise\n",
    "x_axis = x = t_array4\n",
    "plt.plot(x,y,\"y\") #actual\n",
    "plt.plot(x_axis,y_axis,\"b\")#noise\n",
    "plt.show()"
   ]
  },
  {
   "cell_type": "code",
   "execution_count": 29,
   "metadata": {},
   "outputs": [
    {
     "data": {
      "text/html": [
       "<div>\n",
       "<style scoped>\n",
       "    .dataframe tbody tr th:only-of-type {\n",
       "        vertical-align: middle;\n",
       "    }\n",
       "\n",
       "    .dataframe tbody tr th {\n",
       "        vertical-align: top;\n",
       "    }\n",
       "\n",
       "    .dataframe thead th {\n",
       "        text-align: right;\n",
       "    }\n",
       "</style>\n",
       "<table border=\"1\" class=\"dataframe\">\n",
       "  <thead>\n",
       "    <tr style=\"text-align: right;\">\n",
       "      <th></th>\n",
       "      <th>Noise_values</th>\n",
       "      <th>Network_output</th>\n",
       "      <th>Error</th>\n",
       "      <th>T</th>\n",
       "    </tr>\n",
       "  </thead>\n",
       "  <tbody>\n",
       "    <tr>\n",
       "      <td>0</td>\n",
       "      <td>2.509522</td>\n",
       "      <td>2.997059</td>\n",
       "      <td>-0.487536</td>\n",
       "      <td>0.5</td>\n",
       "    </tr>\n",
       "    <tr>\n",
       "      <td>1</td>\n",
       "      <td>2.469540</td>\n",
       "      <td>2.929428</td>\n",
       "      <td>-0.459888</td>\n",
       "      <td>1.0</td>\n",
       "    </tr>\n",
       "    <tr>\n",
       "      <td>2</td>\n",
       "      <td>2.485242</td>\n",
       "      <td>2.884927</td>\n",
       "      <td>-0.399685</td>\n",
       "      <td>1.5</td>\n",
       "    </tr>\n",
       "    <tr>\n",
       "      <td>3</td>\n",
       "      <td>2.484728</td>\n",
       "      <td>2.842649</td>\n",
       "      <td>-0.357920</td>\n",
       "      <td>2.0</td>\n",
       "    </tr>\n",
       "    <tr>\n",
       "      <td>4</td>\n",
       "      <td>2.507299</td>\n",
       "      <td>2.811467</td>\n",
       "      <td>-0.304167</td>\n",
       "      <td>2.5</td>\n",
       "    </tr>\n",
       "    <tr>\n",
       "      <td>5</td>\n",
       "      <td>2.530854</td>\n",
       "      <td>2.785791</td>\n",
       "      <td>-0.254938</td>\n",
       "      <td>3.0</td>\n",
       "    </tr>\n",
       "    <tr>\n",
       "      <td>6</td>\n",
       "      <td>2.477481</td>\n",
       "      <td>2.747124</td>\n",
       "      <td>-0.269643</td>\n",
       "      <td>3.5</td>\n",
       "    </tr>\n",
       "    <tr>\n",
       "      <td>7</td>\n",
       "      <td>2.510419</td>\n",
       "      <td>2.728031</td>\n",
       "      <td>-0.217612</td>\n",
       "      <td>4.0</td>\n",
       "    </tr>\n",
       "    <tr>\n",
       "      <td>8</td>\n",
       "      <td>2.531759</td>\n",
       "      <td>2.711025</td>\n",
       "      <td>-0.179265</td>\n",
       "      <td>4.5</td>\n",
       "    </tr>\n",
       "    <tr>\n",
       "      <td>9</td>\n",
       "      <td>2.456802</td>\n",
       "      <td>2.677983</td>\n",
       "      <td>-0.221181</td>\n",
       "      <td>5.0</td>\n",
       "    </tr>\n",
       "    <tr>\n",
       "      <td>10</td>\n",
       "      <td>2.413239</td>\n",
       "      <td>2.649101</td>\n",
       "      <td>-0.235862</td>\n",
       "      <td>5.5</td>\n",
       "    </tr>\n",
       "    <tr>\n",
       "      <td>11</td>\n",
       "      <td>1.522646</td>\n",
       "      <td>2.472126</td>\n",
       "      <td>-0.949480</td>\n",
       "      <td>6.0</td>\n",
       "    </tr>\n",
       "    <tr>\n",
       "      <td>12</td>\n",
       "      <td>1.524241</td>\n",
       "      <td>2.437714</td>\n",
       "      <td>-0.913473</td>\n",
       "      <td>6.5</td>\n",
       "    </tr>\n",
       "    <tr>\n",
       "      <td>13</td>\n",
       "      <td>1.456361</td>\n",
       "      <td>2.396087</td>\n",
       "      <td>-0.939726</td>\n",
       "      <td>7.0</td>\n",
       "    </tr>\n",
       "    <tr>\n",
       "      <td>14</td>\n",
       "      <td>1.516106</td>\n",
       "      <td>2.372784</td>\n",
       "      <td>-0.856678</td>\n",
       "      <td>7.5</td>\n",
       "    </tr>\n",
       "    <tr>\n",
       "      <td>15</td>\n",
       "      <td>1.481948</td>\n",
       "      <td>2.340253</td>\n",
       "      <td>-0.858305</td>\n",
       "      <td>8.0</td>\n",
       "    </tr>\n",
       "    <tr>\n",
       "      <td>16</td>\n",
       "      <td>1.430455</td>\n",
       "      <td>2.308249</td>\n",
       "      <td>-0.877794</td>\n",
       "      <td>8.5</td>\n",
       "    </tr>\n",
       "    <tr>\n",
       "      <td>17</td>\n",
       "      <td>1.486202</td>\n",
       "      <td>2.286783</td>\n",
       "      <td>-0.800582</td>\n",
       "      <td>9.0</td>\n",
       "    </tr>\n",
       "    <tr>\n",
       "      <td>18</td>\n",
       "      <td>1.507101</td>\n",
       "      <td>2.263560</td>\n",
       "      <td>-0.756459</td>\n",
       "      <td>9.5</td>\n",
       "    </tr>\n",
       "    <tr>\n",
       "      <td>19</td>\n",
       "      <td>1.477795</td>\n",
       "      <td>2.238538</td>\n",
       "      <td>-0.760742</td>\n",
       "      <td>10.0</td>\n",
       "    </tr>\n",
       "    <tr>\n",
       "      <td>20</td>\n",
       "      <td>1.483259</td>\n",
       "      <td>2.216463</td>\n",
       "      <td>-0.733204</td>\n",
       "      <td>10.5</td>\n",
       "    </tr>\n",
       "    <tr>\n",
       "      <td>21</td>\n",
       "      <td>3.509844</td>\n",
       "      <td>2.272938</td>\n",
       "      <td>1.236906</td>\n",
       "      <td>11.0</td>\n",
       "    </tr>\n",
       "    <tr>\n",
       "      <td>22</td>\n",
       "      <td>3.504514</td>\n",
       "      <td>2.446114</td>\n",
       "      <td>1.058400</td>\n",
       "      <td>11.5</td>\n",
       "    </tr>\n",
       "    <tr>\n",
       "      <td>23</td>\n",
       "      <td>3.506657</td>\n",
       "      <td>2.613135</td>\n",
       "      <td>0.893522</td>\n",
       "      <td>12.0</td>\n",
       "    </tr>\n",
       "    <tr>\n",
       "      <td>24</td>\n",
       "      <td>3.530171</td>\n",
       "      <td>2.773313</td>\n",
       "      <td>0.756858</td>\n",
       "      <td>12.5</td>\n",
       "    </tr>\n",
       "    <tr>\n",
       "      <td>25</td>\n",
       "      <td>3.465548</td>\n",
       "      <td>2.904164</td>\n",
       "      <td>0.561385</td>\n",
       "      <td>13.0</td>\n",
       "    </tr>\n",
       "    <tr>\n",
       "      <td>26</td>\n",
       "      <td>3.549658</td>\n",
       "      <td>3.038222</td>\n",
       "      <td>0.511436</td>\n",
       "      <td>13.5</td>\n",
       "    </tr>\n",
       "    <tr>\n",
       "      <td>27</td>\n",
       "      <td>3.457379</td>\n",
       "      <td>3.122373</td>\n",
       "      <td>0.335007</td>\n",
       "      <td>14.0</td>\n",
       "    </tr>\n",
       "    <tr>\n",
       "      <td>28</td>\n",
       "      <td>3.481474</td>\n",
       "      <td>3.203300</td>\n",
       "      <td>0.278174</td>\n",
       "      <td>14.5</td>\n",
       "    </tr>\n",
       "    <tr>\n",
       "      <td>29</td>\n",
       "      <td>3.408118</td>\n",
       "      <td>3.240192</td>\n",
       "      <td>0.167926</td>\n",
       "      <td>15.0</td>\n",
       "    </tr>\n",
       "    <tr>\n",
       "      <td>30</td>\n",
       "      <td>3.513254</td>\n",
       "      <td>3.316962</td>\n",
       "      <td>0.196292</td>\n",
       "      <td>15.5</td>\n",
       "    </tr>\n",
       "  </tbody>\n",
       "</table>\n",
       "</div>"
      ],
      "text/plain": [
       "    Noise_values  Network_output     Error     T\n",
       "0       2.509522        2.997059 -0.487536   0.5\n",
       "1       2.469540        2.929428 -0.459888   1.0\n",
       "2       2.485242        2.884927 -0.399685   1.5\n",
       "3       2.484728        2.842649 -0.357920   2.0\n",
       "4       2.507299        2.811467 -0.304167   2.5\n",
       "5       2.530854        2.785791 -0.254938   3.0\n",
       "6       2.477481        2.747124 -0.269643   3.5\n",
       "7       2.510419        2.728031 -0.217612   4.0\n",
       "8       2.531759        2.711025 -0.179265   4.5\n",
       "9       2.456802        2.677983 -0.221181   5.0\n",
       "10      2.413239        2.649101 -0.235862   5.5\n",
       "11      1.522646        2.472126 -0.949480   6.0\n",
       "12      1.524241        2.437714 -0.913473   6.5\n",
       "13      1.456361        2.396087 -0.939726   7.0\n",
       "14      1.516106        2.372784 -0.856678   7.5\n",
       "15      1.481948        2.340253 -0.858305   8.0\n",
       "16      1.430455        2.308249 -0.877794   8.5\n",
       "17      1.486202        2.286783 -0.800582   9.0\n",
       "18      1.507101        2.263560 -0.756459   9.5\n",
       "19      1.477795        2.238538 -0.760742  10.0\n",
       "20      1.483259        2.216463 -0.733204  10.5\n",
       "21      3.509844        2.272938  1.236906  11.0\n",
       "22      3.504514        2.446114  1.058400  11.5\n",
       "23      3.506657        2.613135  0.893522  12.0\n",
       "24      3.530171        2.773313  0.756858  12.5\n",
       "25      3.465548        2.904164  0.561385  13.0\n",
       "26      3.549658        3.038222  0.511436  13.5\n",
       "27      3.457379        3.122373  0.335007  14.0\n",
       "28      3.481474        3.203300  0.278174  14.5\n",
       "29      3.408118        3.240192  0.167926  15.0\n",
       "30      3.513254        3.316962  0.196292  15.5"
      ]
     },
     "execution_count": 29,
     "metadata": {},
     "output_type": "execute_result"
    }
   ],
   "source": [
    "data9= {'Noise_values':random_vals3,'Network_output':values3,'Error':e3,'T':t_array4}\n",
    "vis2= pd.DataFrame(data9)\n",
    "vis2"
   ]
  },
  {
   "cell_type": "markdown",
   "metadata": {},
   "source": [
    "#### Example 4(step size = 0.75)"
   ]
  },
  {
   "cell_type": "code",
   "execution_count": 30,
   "metadata": {},
   "outputs": [
    {
     "name": "stdout",
     "output_type": "stream",
     "text": [
      ">epoch=0, lrate=0.007, error=40.216\n",
      ">epoch=1, lrate=0.007, error=19.659\n",
      ">epoch=2, lrate=0.007, error=20.743\n",
      ">epoch=3, lrate=0.007, error=20.976\n",
      ">epoch=4, lrate=0.007, error=20.989\n"
     ]
    }
   ],
   "source": [
    "random_vals4 = []\n",
    "random_vals4 = box_muller(x_array5,std_dev,_mean)\n",
    "values4,e4 = train_weights(random_vals4, 0.006531,5)"
   ]
  },
  {
   "cell_type": "code",
   "execution_count": 31,
   "metadata": {},
   "outputs": [
    {
     "data": {
      "image/png": "[encoded data removed]",
      "text/plain": [
       "<Figure size 432x288 with 1 Axes>"
      ]
     },
     "metadata": {
      "needs_background": "light"
     },
     "output_type": "display_data"
    }
   ],
   "source": [
    "y_axis = values4 #network output\n",
    "y = random_vals4 # x noise\n",
    "x_axis = x = t_array5\n",
    "plt.plot(x,y,\"y\") #actual\n",
    "plt.plot(x_axis,y_axis,\"b\")#noise\n",
    "plt.show()"
   ]
  },
  {
   "cell_type": "code",
   "execution_count": 32,
   "metadata": {},
   "outputs": [
    {
     "data": {
      "text/html": [
       "<div>\n",
       "<style scoped>\n",
       "    .dataframe tbody tr th:only-of-type {\n",
       "        vertical-align: middle;\n",
       "    }\n",
       "\n",
       "    .dataframe tbody tr th {\n",
       "        vertical-align: top;\n",
       "    }\n",
       "\n",
       "    .dataframe thead th {\n",
       "        text-align: right;\n",
       "    }\n",
       "</style>\n",
       "<table border=\"1\" class=\"dataframe\">\n",
       "  <thead>\n",
       "    <tr style=\"text-align: right;\">\n",
       "      <th></th>\n",
       "      <th>Noise_values</th>\n",
       "      <th>Network_output</th>\n",
       "      <th>Error</th>\n",
       "      <th>T</th>\n",
       "    </tr>\n",
       "  </thead>\n",
       "  <tbody>\n",
       "    <tr>\n",
       "      <td>0</td>\n",
       "      <td>3.572965</td>\n",
       "      <td>3.330647</td>\n",
       "      <td>0.242318</td>\n",
       "      <td>0.75</td>\n",
       "    </tr>\n",
       "    <tr>\n",
       "      <td>1</td>\n",
       "      <td>1.971724</td>\n",
       "      <td>3.184595</td>\n",
       "      <td>-1.212870</td>\n",
       "      <td>1.50</td>\n",
       "    </tr>\n",
       "    <tr>\n",
       "      <td>2</td>\n",
       "      <td>2.781081</td>\n",
       "      <td>3.155788</td>\n",
       "      <td>-0.374706</td>\n",
       "      <td>2.25</td>\n",
       "    </tr>\n",
       "    <tr>\n",
       "      <td>3</td>\n",
       "      <td>2.287689</td>\n",
       "      <td>3.065925</td>\n",
       "      <td>-0.778236</td>\n",
       "      <td>3.00</td>\n",
       "    </tr>\n",
       "    <tr>\n",
       "      <td>4</td>\n",
       "      <td>2.647521</td>\n",
       "      <td>3.004613</td>\n",
       "      <td>-0.357093</td>\n",
       "      <td>3.75</td>\n",
       "    </tr>\n",
       "    <tr>\n",
       "      <td>5</td>\n",
       "      <td>2.475324</td>\n",
       "      <td>2.954464</td>\n",
       "      <td>-0.479141</td>\n",
       "      <td>4.50</td>\n",
       "    </tr>\n",
       "    <tr>\n",
       "      <td>6</td>\n",
       "      <td>2.576997</td>\n",
       "      <td>2.904216</td>\n",
       "      <td>-0.327219</td>\n",
       "      <td>5.25</td>\n",
       "    </tr>\n",
       "    <tr>\n",
       "      <td>7</td>\n",
       "      <td>0.993845</td>\n",
       "      <td>2.857975</td>\n",
       "      <td>-1.864130</td>\n",
       "      <td>6.00</td>\n",
       "    </tr>\n",
       "    <tr>\n",
       "      <td>8</td>\n",
       "      <td>1.731645</td>\n",
       "      <td>2.801665</td>\n",
       "      <td>-1.070020</td>\n",
       "      <td>6.75</td>\n",
       "    </tr>\n",
       "    <tr>\n",
       "      <td>9</td>\n",
       "      <td>1.394955</td>\n",
       "      <td>2.755518</td>\n",
       "      <td>-1.360563</td>\n",
       "      <td>7.50</td>\n",
       "    </tr>\n",
       "    <tr>\n",
       "      <td>10</td>\n",
       "      <td>1.615271</td>\n",
       "      <td>2.691634</td>\n",
       "      <td>-1.076363</td>\n",
       "      <td>8.25</td>\n",
       "    </tr>\n",
       "    <tr>\n",
       "      <td>11</td>\n",
       "      <td>1.453551</td>\n",
       "      <td>2.654096</td>\n",
       "      <td>-1.200545</td>\n",
       "      <td>9.00</td>\n",
       "    </tr>\n",
       "    <tr>\n",
       "      <td>12</td>\n",
       "      <td>1.442495</td>\n",
       "      <td>2.609484</td>\n",
       "      <td>-1.166989</td>\n",
       "      <td>9.75</td>\n",
       "    </tr>\n",
       "    <tr>\n",
       "      <td>13</td>\n",
       "      <td>1.591841</td>\n",
       "      <td>2.551180</td>\n",
       "      <td>-0.959338</td>\n",
       "      <td>10.50</td>\n",
       "    </tr>\n",
       "    <tr>\n",
       "      <td>14</td>\n",
       "      <td>4.517669</td>\n",
       "      <td>2.205870</td>\n",
       "      <td>2.311799</td>\n",
       "      <td>11.25</td>\n",
       "    </tr>\n",
       "    <tr>\n",
       "      <td>15</td>\n",
       "      <td>2.915571</td>\n",
       "      <td>2.782490</td>\n",
       "      <td>0.133081</td>\n",
       "      <td>12.00</td>\n",
       "    </tr>\n",
       "    <tr>\n",
       "      <td>16</td>\n",
       "      <td>3.782925</td>\n",
       "      <td>2.790163</td>\n",
       "      <td>0.992762</td>\n",
       "      <td>12.75</td>\n",
       "    </tr>\n",
       "    <tr>\n",
       "      <td>17</td>\n",
       "      <td>3.390678</td>\n",
       "      <td>2.998794</td>\n",
       "      <td>0.391885</td>\n",
       "      <td>13.50</td>\n",
       "    </tr>\n",
       "    <tr>\n",
       "      <td>18</td>\n",
       "      <td>3.574617</td>\n",
       "      <td>3.086652</td>\n",
       "      <td>0.487964</td>\n",
       "      <td>14.25</td>\n",
       "    </tr>\n",
       "    <tr>\n",
       "      <td>19</td>\n",
       "      <td>3.466532</td>\n",
       "      <td>3.189242</td>\n",
       "      <td>0.277289</td>\n",
       "      <td>15.00</td>\n",
       "    </tr>\n",
       "    <tr>\n",
       "      <td>20</td>\n",
       "      <td>3.542015</td>\n",
       "      <td>3.259054</td>\n",
       "      <td>0.282961</td>\n",
       "      <td>15.75</td>\n",
       "    </tr>\n",
       "  </tbody>\n",
       "</table>\n",
       "</div>"
      ],
      "text/plain": [
       "    Noise_values  Network_output     Error      T\n",
       "0       3.572965        3.330647  0.242318   0.75\n",
       "1       1.971724        3.184595 -1.212870   1.50\n",
       "2       2.781081        3.155788 -0.374706   2.25\n",
       "3       2.287689        3.065925 -0.778236   3.00\n",
       "4       2.647521        3.004613 -0.357093   3.75\n",
       "5       2.475324        2.954464 -0.479141   4.50\n",
       "6       2.576997        2.904216 -0.327219   5.25\n",
       "7       0.993845        2.857975 -1.864130   6.00\n",
       "8       1.731645        2.801665 -1.070020   6.75\n",
       "9       1.394955        2.755518 -1.360563   7.50\n",
       "10      1.615271        2.691634 -1.076363   8.25\n",
       "11      1.453551        2.654096 -1.200545   9.00\n",
       "12      1.442495        2.609484 -1.166989   9.75\n",
       "13      1.591841        2.551180 -0.959338  10.50\n",
       "14      4.517669        2.205870  2.311799  11.25\n",
       "15      2.915571        2.782490  0.133081  12.00\n",
       "16      3.782925        2.790163  0.992762  12.75\n",
       "17      3.390678        2.998794  0.391885  13.50\n",
       "18      3.574617        3.086652  0.487964  14.25\n",
       "19      3.466532        3.189242  0.277289  15.00\n",
       "20      3.542015        3.259054  0.282961  15.75"
      ]
     },
     "execution_count": 32,
     "metadata": {},
     "output_type": "execute_result"
    }
   ],
   "source": [
    "#itr,input,output,error\n",
    "data_10= {'Noise_values':random_vals4,'Network_output':values4,'Error':e4,'T':t_array5}\n",
    "vis3= pd.DataFrame(data_10)\n",
    "vis3"
   ]
  },
  {
   "cell_type": "markdown",
   "metadata": {},
   "source": [
    "# Perceptron model with different learning rates"
   ]
  },
  {
   "cell_type": "markdown",
   "metadata": {},
   "source": [
    "## Example 1"
   ]
  },
  {
   "cell_type": "code",
   "execution_count": 33,
   "metadata": {},
   "outputs": [
    {
     "name": "stdout",
     "output_type": "stream",
     "text": [
      ">epoch=0, lrate=0.007, error=80.761\n",
      ">epoch=1, lrate=0.007, error=172.769\n",
      ">epoch=2, lrate=0.007, error=172.769\n",
      ">epoch=3, lrate=0.007, error=172.769\n",
      ">epoch=4, lrate=0.007, error=172.769\n"
     ]
    }
   ],
   "source": [
    "random_vals1 = []\n",
    "random_vals1 = box_muller(x_array2,std_dev,_mean)\n",
    "values1,e1 = train_weights(random_vals1, 0.006531,5)"
   ]
  },
  {
   "cell_type": "code",
   "execution_count": 34,
   "metadata": {},
   "outputs": [
    {
     "data": {
      "image/png": "[encoded data removed]",
      "text/plain": [
       "<Figure size 432x288 with 1 Axes>"
      ]
     },
     "metadata": {
      "needs_background": "light"
     },
     "output_type": "display_data"
    }
   ],
   "source": [
    "y_axis = values1 #network output\n",
    "y = random_vals1\n",
    "x_axis = x = t_array2\n",
    "plt.plot(x,y,\"y\") #actual\n",
    "plt.plot(x_axis,y_axis,\"b\")#noise\n",
    "plt.show()"
   ]
  },
  {
   "cell_type": "markdown",
   "metadata": {},
   "source": [
    "## Example 2"
   ]
  },
  {
   "cell_type": "code",
   "execution_count": 35,
   "metadata": {},
   "outputs": [
    {
     "name": "stdout",
     "output_type": "stream",
     "text": [
      ">epoch=0, lrate=0.065, error=1124.004\n",
      ">epoch=1, lrate=0.065, error=1153.284\n",
      ">epoch=2, lrate=0.065, error=1153.284\n",
      ">epoch=3, lrate=0.065, error=1153.284\n",
      ">epoch=4, lrate=0.065, error=1153.284\n"
     ]
    }
   ],
   "source": [
    "random_vals1 = []\n",
    "random_vals1 = box_muller(x_array2,std_dev,_mean)\n",
    "values1,e1 = train_weights(random_vals1, 0.06531,5)"
   ]
  },
  {
   "cell_type": "code",
   "execution_count": 36,
   "metadata": {},
   "outputs": [
    {
     "data": {
      "image/png": "[encoded data removed]",
      "text/plain": [
       "<Figure size 432x288 with 1 Axes>"
      ]
     },
     "metadata": {
      "needs_background": "light"
     },
     "output_type": "display_data"
    }
   ],
   "source": [
    "y_axis = values1 #network output\n",
    "y = random_vals1\n",
    "x_axis = x = t_array2\n",
    "plt.plot(x,y,\"y\") #x_noise values\n",
    "plt.plot(x_axis,y_axis,\"b\")#percebtron(blue)\n",
    "plt.show()"
   ]
  },
  {
   "cell_type": "markdown",
   "metadata": {},
   "source": [
    "## Example 3"
   ]
  },
  {
   "cell_type": "code",
   "execution_count": 37,
   "metadata": {},
   "outputs": [
    {
     "name": "stdout",
     "output_type": "stream",
     "text": [
      ">epoch=0, lrate=0.653, error=10177456698934.900\n",
      ">epoch=1, lrate=0.653, error=3862.285\n",
      ">epoch=2, lrate=0.653, error=3862.285\n",
      ">epoch=3, lrate=0.653, error=3862.285\n",
      ">epoch=4, lrate=0.653, error=3862.285\n"
     ]
    }
   ],
   "source": [
    "random_vals1 = []\n",
    "random_vals1 = box_muller(x_array2,std_dev,_mean)\n",
    "values1,e1 = train_weights(random_vals1, 0.6531,5)"
   ]
  },
  {
   "cell_type": "code",
   "execution_count": 38,
   "metadata": {},
   "outputs": [
    {
     "data": {
      "image/png": "[encoded data removed]",
      "text/plain": [
       "<Figure size 432x288 with 1 Axes>"
      ]
     },
     "metadata": {
      "needs_background": "light"
     },
     "output_type": "display_data"
    }
   ],
   "source": [
    "y_axis = values1 #network output\n",
    "y = random_vals1\n",
    "x_axis = x = t_array2\n",
    "plt.plot(x,y,\"y\") #x_noise values\n",
    "plt.plot(x_axis,y_axis,\"b\")#percebtron(blue)\n",
    "plt.show()"
   ]
  },
  {
   "cell_type": "code",
   "execution_count": null,
   "metadata": {},
   "outputs": [],
   "source": []
  }
 ],
 "metadata": {
  "kernelspec": {
   "display_name": "Python 3",
   "language": "python",
   "name": "python3"
  },
  "language_info": {
   "codemirror_mode": {
    "name": "ipython",
    "version": 3
   },
   "file_extension": ".py",
   "mimetype": "text/x-python",
   "name": "python",
   "nbconvert_exporter": "python",
   "pygments_lexer": "ipython3",
   "version": "3.7.4"
  }
 },
 "nbformat": 4,
 "nbformat_minor": 2
}
