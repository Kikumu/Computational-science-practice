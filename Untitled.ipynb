{
 "cells": [
  {
   "cell_type": "code",
   "execution_count": null,
   "metadata": {},
   "outputs": [],
   "source": []
  },
  {
   "cell_type": "markdown",
   "metadata": {},
   "source": [
    "# Robot Simulation (Part 1)"
   ]
  },
  {
   "cell_type": "code",
   "execution_count": 1,
   "metadata": {},
   "outputs": [],
   "source": [
    "import numpy as np\n",
    "import random as rand\n",
    "import numpy as np\n",
    "import matplotlib.pyplot as plt\n",
    "import math\n",
    "import csv\n",
    "from scipy.stats import norm\n",
    "#import seaborn as sns\n",
    "\n",
    "def func(U,x):\n",
    "    #-2x+2U\n",
    "    val = -(2*x) + 2*U\n",
    "    return val"
   ]
  },
  {
   "cell_type": "code",
   "execution_count": 2,
   "metadata": {},
   "outputs": [],
   "source": [
    "##SIMULATION\n",
    "def simulation(x,t,h):\n",
    "    save = 0\n",
    "    U_save = []\n",
    "    t_save = []\n",
    "    x_save = []\n",
    "    x_exact_save = []\n",
    "\n",
    "\n",
    "    ##saves every time\n",
    "    U_array = []\n",
    "    t_array = []\n",
    "    x_array = []\n",
    "    x_exact_array = []\n",
    "    while(t <= 15):\n",
    "        if(t <= 5):\n",
    "            U = 2\n",
    "        elif(t < 5 or t <= 10):\n",
    "            U = 1\n",
    "        elif(t < 10 or t <=15):\n",
    "            U = 3\n",
    "        #print(\"U value:\", x)\n",
    "        U_array.append(U)\n",
    "        k = h * func(U,x)\n",
    "        x = x + k\n",
    "        t = t + h\n",
    "        #value under graph\n",
    "        x_exact = U - math.exp(-2*t)\n",
    "        t_array.append(t)\n",
    "        x_array.append(x)\n",
    "        x_exact_array.append(x_exact)\n",
    "        save+=1\n",
    "        #print(\"save: \",save)\n",
    "        if(save%10 == 0):\n",
    "            U_save.append(U)\n",
    "            t_save.append(t)\n",
    "            x_save.append(x)\n",
    "            x_exact_save.append(x_exact)\n",
    "            #print(\"save1: \",save)\n",
    "        #print(\"Where it is: \",x,\"Exact pos= \",x_exact,\"Time: \",t)\n",
    "    return U_save,t_save,x_save,x_exact_save,U_array,t_array,x_array,x_exact_array \n",
    "    #plt.fill_between(x_axis,y_axis, where = [(x>0)and (x <2)for x_axis in x_axis], color = 'green')"
   ]
  },
  {
   "cell_type": "code",
   "execution_count": 3,
   "metadata": {},
   "outputs": [],
   "source": [
    "#0.75, .5, 0.25, 0.01, 0.001"
   ]
  },
  {
   "cell_type": "code",
   "execution_count": 4,
   "metadata": {},
   "outputs": [],
   "source": [
    "U_save1 = []\n",
    "t_save1 = []\n",
    "x_save1 = []\n",
    "x_exact_save1 = []\n",
    "\n",
    "\n",
    "##saves every time\n",
    "U_array1 = []\n",
    "t_array1 = []\n",
    "x_array1 = []\n",
    "x_exact_array1 = []\n",
    "\n",
    "#step size \n",
    "U_save1,t_save1,x_save1,x_exact_save1,U_array1,t_array1,x_array1,x_exact_array1=simulation(0,0,0.01)\n",
    "\n",
    "#0.35 for bell curve"
   ]
  },
  {
   "cell_type": "code",
   "execution_count": 5,
   "metadata": {},
   "outputs": [],
   "source": [
    "U_save2 = []\n",
    "t_save2 = []\n",
    "x_save2 = []\n",
    "x_exact_save2 = []\n",
    "\n",
    "\n",
    "##saves every time\n",
    "U_array2 = []\n",
    "t_array2 = []\n",
    "x_array2 = []\n",
    "x_exact_array2 = []\n",
    "\n",
    "#step size \n",
    "U_save2,t_save2,x_save2,x_exact_save2,U_array2,t_array2,x_array2,x_exact_array2=simulation(0,0,0.5)"
   ]
  },
  {
   "cell_type": "code",
   "execution_count": 6,
   "metadata": {},
   "outputs": [],
   "source": [
    "U_save3 = []\n",
    "t_save3 = []\n",
    "x_save3 = []\n",
    "x_exact_save3 = []\n",
    "\n",
    "\n",
    "##saves every time\n",
    "U_array3 = []\n",
    "t_array3 = []\n",
    "x_array3 = []\n",
    "x_exact_array3 = []\n",
    "\n",
    "#step size \n",
    "U_save3,t_save3,x_save3,x_exact_save3,U_array3,t_array3,x_array3,x_exact_array3=simulation(0,0,0.25)"
   ]
  },
  {
   "cell_type": "code",
   "execution_count": 7,
   "metadata": {},
   "outputs": [],
   "source": [
    "U_save4 = []\n",
    "t_save4 = []\n",
    "x_save4 = []\n",
    "x_exact_save4 = []\n",
    "\n",
    "\n",
    "##saves every time\n",
    "U_array4 = []\n",
    "t_array4 = []\n",
    "x_array4 = []\n",
    "x_exact_array4 = []\n",
    "\n",
    "#step size \n",
    "U_save4,t_save4,x_save4,x_exact_save4,U_array4,t_array4,x_array4,x_exact_array4=simulation(0,0,0.01)"
   ]
  },
  {
   "cell_type": "code",
   "execution_count": 8,
   "metadata": {},
   "outputs": [],
   "source": [
    "U_save5 = []\n",
    "t_save5 = []\n",
    "x_save5 = []\n",
    "x_exact_save5 = []\n",
    "\n",
    "\n",
    "##saves every time\n",
    "U_array5 = []\n",
    "t_array5 = []\n",
    "x_array5 = []\n",
    "x_exact_array5 = []\n",
    "\n",
    "#step size \n",
    "U_save5,t_save5,x_save5,x_exact_save5,U_array5,t_array5,x_array5,x_exact_array5=simulation(0,0,0.001)"
   ]
  },
  {
   "cell_type": "code",
   "execution_count": null,
   "metadata": {},
   "outputs": [],
   "source": []
  },
  {
   "cell_type": "code",
   "execution_count": 9,
   "metadata": {},
   "outputs": [
    {
     "data": {
      "image/png": "[encoded data removed]",
      "text/plain": [
       "<Figure size 432x288 with 1 Axes>"
      ]
     },
     "metadata": {
      "needs_background": "light"
     },
     "output_type": "display_data"
    }
   ],
   "source": [
    "#plt.figure()\n",
    "#plt.plot(t_array)\n",
    "y_axis = x_array1\n",
    "#y = x_save2\n",
    "#y1 = x_exact_save1\n",
    "x_axis = x = t_array1\n",
    "#x = t_array\n",
    "#plt.plot(x,y1,\"y\") #actual\n",
    "#plt.plot(x,y,\"r\")  #robot\n",
    "plt.plot(x_axis,y_axis,\"g\")#noise\n",
    "plt.show()\n",
    "#IF MEAN INCREASED IT GOES TOO FAR UP(0R LOW)\n",
    "#IF STD DEVIATION INCREASED MORE NOISE IS GENERATED WITHIN LINE"
   ]
  },
  {
   "cell_type": "code",
   "execution_count": 10,
   "metadata": {},
   "outputs": [
    {
     "data": {
      "image/png": "[encoded data removed]",
      "text/plain": [
       "<Figure size 432x288 with 1 Axes>"
      ]
     },
     "metadata": {
      "needs_background": "light"
     },
     "output_type": "display_data"
    }
   ],
   "source": [
    "y_axis = x_array2\n",
    "x_axis = t_array2\n",
    "plt.plot(x_axis,y_axis)\n",
    "plt.show()"
   ]
  },
  {
   "cell_type": "code",
   "execution_count": 11,
   "metadata": {},
   "outputs": [
    {
     "data": {
      "text/plain": [
       "[<matplotlib.lines.Line2D at 0x186644ed488>]"
      ]
     },
     "execution_count": 11,
     "metadata": {},
     "output_type": "execute_result"
    },
    {
     "data": {
      "image/png": "[encoded data removed]",
      "text/plain": [
       "<Figure size 432x288 with 1 Axes>"
      ]
     },
     "metadata": {
      "needs_background": "light"
     },
     "output_type": "display_data"
    }
   ],
   "source": [
    "y_axis = x_array3\n",
    "x_axis = t_array3\n",
    "plt.plot(x_axis,y_axis)\n",
    "#plt.fill_between(x_axis,y_axis, where = [(x>0)and (x <2)for x_axis in x_axis], color = 'green')\n",
    "#plt.show()"
   ]
  },
  {
   "cell_type": "code",
   "execution_count": 12,
   "metadata": {},
   "outputs": [
    {
     "data": {
      "text/plain": [
       "[<matplotlib.lines.Line2D at 0x18664565a88>]"
      ]
     },
     "execution_count": 12,
     "metadata": {},
     "output_type": "execute_result"
    },
    {
     "data": {
      "image/png": "[encoded data removed]",
      "text/plain": [
       "<Figure size 432x288 with 1 Axes>"
      ]
     },
     "metadata": {
      "needs_background": "light"
     },
     "output_type": "display_data"
    }
   ],
   "source": [
    "#len(x_save1)\n",
    "y_axis = x_array4\n",
    "x_axis = t_array4\n",
    "plt.plot(x_axis,y_axis)"
   ]
  },
  {
   "cell_type": "code",
   "execution_count": 13,
   "metadata": {},
   "outputs": [
    {
     "data": {
      "text/plain": [
       "[<matplotlib.lines.Line2D at 0x186655a3b88>]"
      ]
     },
     "execution_count": 13,
     "metadata": {},
     "output_type": "execute_result"
    },
    {
     "data": {
      "image/png": "[encoded data removed]",
      "text/plain": [
       "<Figure size 432x288 with 1 Axes>"
      ]
     },
     "metadata": {
      "needs_background": "light"
     },
     "output_type": "display_data"
    }
   ],
   "source": [
    "y_axis = x_array5\n",
    "x_axis = t_array5\n",
    "plt.plot(x_axis,y_axis)"
   ]
  },
  {
   "cell_type": "code",
   "execution_count": 14,
   "metadata": {},
   "outputs": [],
   "source": [
    "##seems x_array5 is most stable, we will use x_array_exact as a poiint of reference\n",
    "#y_axis = x_exact_array5\n",
    "#x_axis = t_array5\n",
    "#plt.plot(x_axis,y_axis)"
   ]
  },
  {
   "cell_type": "code",
   "execution_count": 15,
   "metadata": {},
   "outputs": [
    {
     "name": "stdout",
     "output_type": "stream",
     "text": [
      "0.9980019986673332\n",
      "0.9960079893439915\n",
      "0.9940179640539353\n",
      "0.9920319148370607\n",
      "0.9900498337491681\n"
     ]
    }
   ],
   "source": [
    "###plot graph for first 9 values\n",
    "#error against what? step size?\n",
    "i = 0\n",
    "\n",
    "error_diff1 = []\n",
    "error_diff2 = []\n",
    "error_diff3 = []\n",
    "error_diff4 = []\n",
    "error_diff5 = []\n",
    "while i < 5:\n",
    "    error_diff1.append(abs(x_exact_array5[i] - x_array1[i]))\n",
    "    error_diff2.append(abs(x_exact_array5[i] - x_array2[i]))\n",
    "    error_diff3.append(abs(x_exact_array5[i] - x_array3[i]))\n",
    "    error_diff4.append(abs(x_exact_array5[i] - x_array4[i]))\n",
    "    error_diff5.append(abs(x_exact_array5[i] - x_array5[i]))\n",
    "    print(error_diff2[i])\n",
    "    i+=1\n",
    "    \n",
    "    \n",
    "    \n",
    "    "
   ]
  },
  {
   "cell_type": "code",
   "execution_count": 16,
   "metadata": {},
   "outputs": [],
   "source": [
    "error_x = [1,2,3,4,5]\n"
   ]
  },
  {
   "cell_type": "code",
   "execution_count": 17,
   "metadata": {},
   "outputs": [
    {
     "data": {
      "image/png": "[encoded data removed]",
      "text/plain": [
       "<Figure size 432x288 with 1 Axes>"
      ]
     },
     "metadata": {
      "needs_background": "light"
     },
     "output_type": "display_data"
    }
   ],
   "source": [
    "y_axis = error_diff1\n",
    "y = error_diff2\n",
    "y1 = error_diff3\n",
    "y2 = error_diff4\n",
    "y3 = error_diff5\n",
    "x_axis = x = error_x\n",
    "#x = t_array\n",
    "plt.plot(x,y3,\"o\") #actual\n",
    "plt.plot(x,y2,\"y\") #actual\n",
    "plt.plot(x,y1,\"y\") #actual\n",
    "plt.plot(x,y,\"r\")  #robot\n",
    "plt.plot(x_axis,y_axis,\"b\")#noise\n",
    "plt.show()"
   ]
  },
  {
   "cell_type": "code",
   "execution_count": 129,
   "metadata": {},
   "outputs": [
    {
     "name": "stdout",
     "output_type": "stream",
     "text": [
      "deviation:  0.031 mean:  0.5 DEVIATION:  0.7788423858773182 MEAN:  1.9020679681999237\n"
     ]
    }
   ],
   "source": [
    "import statistics as stat\n",
    "std_dev1 = stat.stdev(x_array1)\n",
    "_mean1 = stat.mean(x_array1)\n",
    "\n",
    "std_dev = 0.031\n",
    "_mean = 0.5\n",
    "print(\"deviation: \",std_dev,\"mean: \",_mean,\"DEVIATION: \",std_dev1,\"MEAN: \",_mean1)"
   ]
  },
  {
   "cell_type": "markdown",
   "metadata": {},
   "source": [
    "# Box Muller (Part 2)"
   ]
  },
  {
   "cell_type": "code",
   "execution_count": 130,
   "metadata": {},
   "outputs": [
    {
     "name": "stdout",
     "output_type": "stream",
     "text": [
      "nose1:  0.5316922372523806 0.04\n",
      "nose2:  1.145000745051937 0.664784056489811\n",
      "nose1:  0.6386048884235846 0.117616\n",
      "nose2:  1.6381978379243807 1.108599192098098\n",
      "nose1:  0.70646282353928 0.1921584064\n",
      "nose2:  1.9235801274236164 1.4048937146157585\n",
      "nose1:  0.7703360535953725 0.26374893350656003\n",
      "nose2:  2.0626886724142284 1.6027022998359184\n",
      "nose1:  0.7799598732727 0.33250447573970027\n",
      "nose2:  2.237318515095671 1.734760888210494\n",
      "nose1:  0.9113148575155978 0.39853729850040814\n",
      "nose2:  2.3448593806211497 1.8229242545480853\n",
      "nose1:  0.9562881477449529 0.461955221479792\n",
      "nose2:  2.359070752717358 1.881782820731826\n",
      "nose1:  1.0353519965329627 0.5228617947091923\n",
      "nose2:  2.4329280645711777 1.921077268722166\n",
      "nose1:  1.061020686999103 0.5813564676387082\n",
      "nose2:  2.4718066702391317 1.9473105554462329\n",
      "nose1:  1.1259322539148295 0.6375347515202153\n",
      "nose2:  2.4616704876372406 1.9648241067885572\n",
      "nose1:  1.2119026090349516 0.6914883753600147\n",
      "nose2:  2.4633213103356093 1.976516293278435\n",
      "nose1:  1.2286502758626723 0.7433054356957581\n",
      "nose2:  2.478761743752656 1.9843220901863245\n",
      "nose1:  1.3070650253416614 0.7930705404422062\n",
      "nose2:  2.459927850031269 1.9895333024279327\n",
      "nose1:  1.3415299894539434 0.8408649470406948\n",
      "nose2:  2.473889410500318 1.993012349262938\n",
      "nose1:  1.3763471807998666 0.8867666951378833\n",
      "nose2:  2.52087373142555 1.9953349886640968\n",
      "nose1:  1.4138183046005695 0.9308507340104231\n",
      "nose2:  2.5057098249222314 1.996885601243823\n",
      "nose1:  1.4968623701005441 0.9731890449436104\n",
      "nose2:  2.4593315438628913 1.997920802563152\n",
      "nose1:  1.4892277655029402 1.0138507587638435\n",
      "nose2:  2.4615976728246443 1.9986119112163077\n",
      "nose1:  1.5217461618886463 1.0529022687167953\n",
      "nose2:  2.486900290443162 1.9990733008625035\n",
      "nose1:  1.5924296231437178 1.0904073388756101\n",
      "nose2:  2.522588442183925 1.9993813282683885\n",
      "nose1:  1.6422248773504324 1.126427208256136\n",
      "nose2:  2.4910256045191495 1.9995869698200772\n",
      "nose1:  1.673021489826366 1.161020690809193\n",
      "nose2:  2.493667547339038 1.9997242577593084\n",
      "nose1:  1.700284865865414 1.1942442714531487\n",
      "nose2:  2.5273401614984023 1.9998159122819648\n",
      "nose1:  1.726745637045609 1.2261521983036041\n",
      "nose2:  2.5142695155231656 1.9998771015719374\n",
      "nose1:  1.8528486313933779 1.2567965712507814\n",
      "nose2:  2.511310889962502 1.9999179520297095\n",
      "nose1:  1.835213073950679 1.2862274270292504\n",
      "nose2:  2.1860091445157717 1.68117784836086\n",
      "nose1:  1.8225829456052098 1.3144928209188922\n",
      "nose2:  1.9341852419318828 1.4547597617486931\n",
      "nose1:  1.8749899453182606 1.3416389052105042\n",
      "nose2:  1.896935493125175 1.303601242176875\n",
      "nose1:  1.8854567182098219 1.3677100045641681\n",
      "nose2:  1.6829325207158927 1.2026866095120312\n",
      "nose1:  1.914969292351072 1.392748688383427\n",
      "nose2:  1.6197145050547666 1.135315196278244\n",
      "nose1:  1.8717778597752543 1.4167958403234433\n",
      "nose2:  1.5305279157072997 1.0903375037349612\n",
      "nose1:  2.00611180306928 1.4398907250466348\n",
      "nose2:  1.5477980690992095 1.0603100376419157\n",
      "nose1:  1.9648096375700668 1.4620710523347882\n",
      "nose2:  1.5183030116605931 1.040263461906593\n",
      "nose1:  1.9526709325395442 1.4833730386623305\n",
      "nose2:  1.5443711536664213 1.0268802081392985\n",
      "nose1:  2.0305973993551545 1.5038314663313024\n",
      "nose2:  1.5788940491262786 1.0179454412362317\n",
      "nose1:  2.016853191255596 1.5234797402645828\n",
      "nose2:  1.5203168719414366 1.0119805196259708\n",
      "nose1:  2.0293354111371675 1.5423499425501053\n",
      "nose2:  1.5035696689485922 1.0079982904080662\n",
      "nose1:  2.0779277950162847 1.5604728848251213\n",
      "nose2:  1.4497462576614826 1.005339722436837\n",
      "nose1:  2.061550048926873 1.5778781585860464\n",
      "nose2:  1.5054667895117952 1.0035648412657916\n",
      "nose1:  2.1638357521710354 1.594594183506039\n",
      "nose2:  1.4814727804450611 1.0023799164470837\n",
      "nose1:  2.1939409145277065 1.6106482538392\n",
      "nose2:  1.4612155443335555 1.0015888511921844\n",
      "nose1:  2.1440148940200014 1.6260665829871677\n",
      "nose2:  1.4804558244037962 1.0010607297218348\n",
      "nose1:  2.1144721203578873 1.6408743463008757\n",
      "nose2:  1.4667148965898429 1.0007081516181744\n",
      "nose1:  2.156792707494418 1.655095722187361\n",
      "nose2:  1.4637612465176413 1.000472767665504\n",
      "nose1:  2.2127383654576316 1.6687539315887416\n",
      "nose2:  1.4683779797835017 1.0003156234622788\n",
      "nose1:  2.2329270290782923 1.6818712758978276\n",
      "nose2:  1.5109138085640859 1.0002107127394901\n",
      "nose1:  2.23596335225579 1.6944691733722737\n",
      "nose2:  1.5018156489454997 1.000140673504634\n",
      "nose1:  2.1937109157557373 1.7065681941067317\n",
      "nose2:  1.49596274224595 1.000093914753108\n",
      "nose1:  2.209558405944759 1.718188093620105\n",
      "nose2:  1.518734679706622 1.00006269823784\n",
      "nose1:  2.263842583069954 1.7293478451127489\n",
      "nose2:  1.5010200669101668 1.0000418578433972\n",
      "nose1:  2.2514122828106773 1.740065670446284\n",
      "nose2:  2.1408059026064317 1.6375626961501473\n",
      "nose1:  2.3186268958017235 1.7503590698966112\n",
      "nose2:  2.5911039355496124 2.0904259949333204\n",
      "nose1:  2.2239532258428762 1.7602448507287054\n",
      "nose2:  2.8856261904665543 2.3927611433162768\n",
      "nose1:  2.2279651760585755 1.7697391546398487\n",
      "nose2:  3.0960363463023226 2.5946024985184963\n",
      "nose1:  2.2976619998543493 1.7788574841161107\n",
      "nose2:  3.231856085290601 2.7293533962813505\n",
      "nose1:  2.296932908201577 1.7876147277451127\n",
      "nose2:  3.289308863781622 2.8193141698289876\n",
      "nose1:  2.2966044234268113 1.7960251845264061\n",
      "nose2:  3.3689215031090773 2.8793726993946454\n",
      "nose1:  2.306185801549858 1.8041025872191605\n",
      "nose2:  3.4554197087367204 2.9194682525045677\n",
      "nose1:  2.3158269428909626 1.811860124765282\n",
      "nose2:  3.448777687940295 2.9462363633926816\n",
      "nose1:  2.28485792646419 1.8193104638245767\n",
      "nose2:  3.4649369460704964 2.96410696761041\n",
      "nose1:  2.3226358936170133 1.8264657694571236\n",
      "nose2:  3.4819063151434873 2.976037525446247\n",
      "nose1:  2.288216090582069 1.8333377249866214\n",
      "nose2:  3.470462289821655 2.9840024609649354\n",
      "nose1:  2.3238441308405493 1.8399375510771512\n",
      "nose2:  3.482680307776456 2.989319915411728\n",
      "nose1:  2.3498274399029517 1.846276024054496\n",
      "nose2:  3.531139239990103 2.9928698903898505\n",
      "nose1:  2.334372698061848 1.852363493501938\n",
      "nose2:  3.507334758774272 2.9952398819847765\n",
      "nose1:  2.3840186704845223 1.8582098991592613\n",
      "nose2:  3.490380370284365 2.9968221072665413\n",
      "nose1:  2.3847012829081495 1.8638247871525546\n",
      "nose2:  3.475629369782084 2.99787841347776\n",
      "nose1:  2.388143848147936 1.8692173255813134\n",
      "nose2:  3.504518728674876 2.998583611924984\n",
      "nose1:  2.4329473962943613 1.8743963194882933\n",
      "nose2:  3.5129891742238786 2.9990544080300205\n",
      "nose1:  2.3806706426198554 1.879370225236557\n",
      "nose2:  3.4871282021689884 2.999368715262815\n",
      "nose1:  2.373961486956353 1.8841471643171894\n",
      "nose2:  3.474767056839544 2.999578549277009\n",
      "nose1:  2.3788607575030567 1.8887349366102286\n",
      "nose2:  3.4878474350733866 2.999718636137629\n",
      "nose1:  2.3605737257956836 1.8931410331204637\n",
      "nose2:  3.4861281759166425 2.999812159242517\n",
      "nose1:  2.4425711691930663 1.8973726482088935\n",
      "nose2:  3.5089594542700544 2.9998745960128836\n",
      "nose1:  2.4441124747993017 1.9014366913398213\n",
      "nose2:  3.536307026657082 2.9999162792985112\n"
     ]
    },
    {
     "data": {
      "image/png": "[encoded data removed]",
      "text/plain": [
       "<Figure size 432x288 with 1 Axes>"
      ]
     },
     "metadata": {
      "needs_background": "light"
     },
     "output_type": "display_data"
    }
   ],
   "source": [
    "#BOX MULLER METHOD\n",
    "\n",
    "random_vals = []\n",
    "i = 0\n",
    "it = 0\n",
    "while i < len(x_save1):\n",
    " if(it==0):\n",
    "    z1 = rand.uniform(0,2*np.pi) #values from 0 to (2*np.pi) our a#\n",
    "    b = std_dev*np.sqrt(-2*math.log(rand.uniform(0,1)))\n",
    "    z2 = b *(math.sin(z1))+_mean\n",
    "    z3 = b*(math.cos(z1))+_mean\n",
    "    noise = x_array1[i] + z2\n",
    "    random_vals.append(noise)\n",
    "    print(\"nose1: \",noise,x_array1[i])\n",
    "    it = 1\n",
    "    i = i + 1\n",
    " else:\n",
    "    it = 0\n",
    "    noise = x_save1[i] + z3\n",
    "    random_vals.append(noise)  \n",
    "    print(\"nose2: \",noise,x_save1[i])\n",
    "    i = i + 1\n",
    "    #print(\"nose2: \",noise,x_array[i])\n",
    "        \n",
    "#meu is mean sigma is std deviation\n",
    "y_axis = x_array1\n",
    "x_axis = t_array1\n",
    "plt.xlabel(\"Time\")\n",
    "plt.ylabel(\"Distance\")\n",
    "#plt.plot(random_vals,color =\"red\")\n",
    "plt.plot(x_axis,y_axis,)\n",
    "plt.show()\n"
   ]
  },
  {
   "cell_type": "code",
   "execution_count": null,
   "metadata": {},
   "outputs": [],
   "source": []
  },
  {
   "cell_type": "code",
   "execution_count": 131,
   "metadata": {},
   "outputs": [],
   "source": [
    "i = 0\n",
    "x_noise = []\n",
    "while i < len(x_save1):\n",
    "    x_noise.append(x_array1[i] + random_vals[i])\n",
    "    i = i + 1"
   ]
  },
  {
   "cell_type": "markdown",
   "metadata": {},
   "source": [
    "## value represented in a gaussian distribution "
   ]
  },
  {
   "cell_type": "code",
   "execution_count": 132,
   "metadata": {},
   "outputs": [],
   "source": [
    "\n",
    "#sns.distplot(x_noise)"
   ]
  },
  {
   "cell_type": "code",
   "execution_count": 133,
   "metadata": {},
   "outputs": [
    {
     "data": {
      "image/png": "[encoded data removed]",
      "text/plain": [
       "<Figure size 432x288 with 1 Axes>"
      ]
     },
     "metadata": {
      "needs_background": "light"
     },
     "output_type": "display_data"
    }
   ],
   "source": [
    "#plt.figure()\n",
    "#plt.plot(t_array)\n",
    "y_axis = random_vals #random_vals\n",
    "y = x_save1\n",
    "y1 = x_exact_save1\n",
    "x_axis = x = t_save1\n",
    "#x = t_array\n",
    "plt.plot(x,y1,\"y\") #actual\n",
    "plt.plot(x,y,\"r\")  #robot\n",
    "plt.plot(x_axis,y_axis,\"b\")#noise\n",
    "plt.show()\n",
    "#IF MEAN INCREASED IT GOES TOO FAR UP(0R LOW)\n",
    "#IF STD DEVIATION INCREASED MORE NOISE IS GENERATED WITHIN LINE"
   ]
  },
  {
   "cell_type": "code",
   "execution_count": 134,
   "metadata": {},
   "outputs": [
    {
     "name": "stdout",
     "output_type": "stream",
     "text": [
      "0.019126239040500814\n",
      "0.3076572396195679\n",
      "0.5538162214863271\n",
      "0.27420029514437316\n",
      "0.04707253234620967\n",
      "0.3998270395559347\n"
     ]
    }
   ],
   "source": [
    "##################################PART 3#####################################################################################\n",
    "##APPLY WITH SINGLE PERCEPTRON AND TST\n",
    "rand_array = []\n",
    "for i in range(6):\n",
    "    rand_number = rand.uniform(0,1)\n",
    "    rand_array.append(rand_number)\n",
    "    print(rand_number)\n",
    "    \n",
    "#(done once)"
   ]
  },
  {
   "cell_type": "code",
   "execution_count": 135,
   "metadata": {},
   "outputs": [
    {
     "name": "stdout",
     "output_type": "stream",
     "text": [
      "[0.01093432 0.17588526 0.31661243 0.15675818 0.026911   0.22857801]\n"
     ]
    }
   ],
   "source": [
    "#store in a numpy array\n",
    "#2 inputs, noise(random_vals) and x\n",
    "\n",
    "activation_vals1 =np.dot(x_noise[0],rand_array)\n",
    "print(activation_vals1)"
   ]
  },
  {
   "cell_type": "code",
   "execution_count": 136,
   "metadata": {},
   "outputs": [],
   "source": [
    "#activation_vals =np.dot(random_vals[0],rand_array2)"
   ]
  },
  {
   "cell_type": "code",
   "execution_count": 137,
   "metadata": {},
   "outputs": [],
   "source": [
    "#add em up\n",
    "#print(activation_vals1 + activation_vals)\n",
    "#activation_map = activation_vals1 + activation_vals"
   ]
  },
  {
   "cell_type": "code",
   "execution_count": 138,
   "metadata": {},
   "outputs": [],
   "source": [
    "import math\n",
    "def sigmoid_activation(val):\n",
    "  sigmoid = 1/1+np.exp(-val)\n",
    "  return sigmoid"
   ]
  },
  {
   "cell_type": "code",
   "execution_count": 139,
   "metadata": {},
   "outputs": [],
   "source": [
    "c = 0\n",
    "activation_array = []\n",
    "for i in range(len(activation_vals1)):\n",
    "    activate = sigmoid_activation(activation_vals1[c])\n",
    "    c += 1\n",
    "    activation_array.append(activate)\n",
    "    "
   ]
  },
  {
   "cell_type": "code",
   "execution_count": 140,
   "metadata": {},
   "outputs": [
    {
     "data": {
      "text/plain": [
       "[1.9891252400265338,\n",
       " 1.838714215554381,\n",
       " 1.7286130855691306,\n",
       " 1.8549107681861177,\n",
       " 1.9734478732351224,\n",
       " 1.7956642212316427]"
      ]
     },
     "execution_count": 140,
     "metadata": {},
     "output_type": "execute_result"
    }
   ],
   "source": [
    "activation_array"
   ]
  },
  {
   "cell_type": "code",
   "execution_count": 141,
   "metadata": {},
   "outputs": [],
   "source": [
    "#generate new weights for final layer(done once)"
   ]
  },
  {
   "cell_type": "code",
   "execution_count": null,
   "metadata": {},
   "outputs": [],
   "source": []
  },
  {
   "cell_type": "code",
   "execution_count": null,
   "metadata": {},
   "outputs": [],
   "source": []
  },
  {
   "cell_type": "code",
   "execution_count": 142,
   "metadata": {},
   "outputs": [],
   "source": [
    "#error\n",
    "#error = x_array[0] - output\n",
    "#print(error)"
   ]
  },
  {
   "cell_type": "code",
   "execution_count": 143,
   "metadata": {},
   "outputs": [],
   "source": [
    "#x_noise\n",
    "#MSE = np.square(np.subtract(x_array[0],output)).mean() \n",
    "#cost_func = 0.5*(x_array[0] - output)\n",
    "#ideally when training is finished, cost func is 0\n",
    "#print(MSE)"
   ]
  },
  {
   "cell_type": "code",
   "execution_count": 144,
   "metadata": {},
   "outputs": [],
   "source": [
    "###BACK PROPAGATE###\n",
    "#slope (change in weight)is input value(target_value - output_value)\n",
    "#new weight is old weight plus slope"
   ]
  },
  {
   "cell_type": "code",
   "execution_count": 145,
   "metadata": {},
   "outputs": [],
   "source": [
    "#iterating through all weights and changing it\n",
    "#should i take OG weight input or input depending on network nodes(maintain LR betwen std dev)\n",
    "\n",
    "#weight_change =  -x_noise[0]*(x_array[0] - output)\n",
    "#print (weight_change)"
   ]
  },
  {
   "cell_type": "code",
   "execution_count": null,
   "metadata": {},
   "outputs": [],
   "source": []
  },
  {
   "cell_type": "code",
   "execution_count": 146,
   "metadata": {},
   "outputs": [
    {
     "data": {
      "text/plain": [
       "150"
      ]
     },
     "execution_count": 146,
     "metadata": {},
     "output_type": "execute_result"
    }
   ],
   "source": []
  },
  {
   "cell_type": "code",
   "execution_count": 147,
   "metadata": {},
   "outputs": [],
   "source": []
  },
  {
   "cell_type": "code",
   "execution_count": 148,
   "metadata": {},
   "outputs": [
    {
     "name": "stdout",
     "output_type": "stream",
     "text": [
      "[1.1812692469220183, 1.329679953964361, 1.4511883639059737, 1.5506710358827787, 1.6321205588285579, 1.698805788087798, 1.7534030360583936, 1.7981034820053448, 1.8347011117784136, 1.8646647167633874, 1.8891968416376663, 1.9092820467105875, 1.9257264217856662, 1.939189937374782, 1.9502129316321362, 1.9592377960216338, 1.966626730039674, 1.9726762775527076, 1.9776292281438346, 1.9816843611112658, 1.9850044231795223, 1.9877226600969315, 1.9899481642553662, 1.9917702529509798, 1.9932620530009144, 1.9944834355792391, 1.9954834190573871, 1.996302136283517, 1.996972445254624, 1.9975212478233335, 1.9979705693637042, 1.998338442726826, 1.998639631962452, 1.998886224852155, 1.9990881180344455, 1.9992534141916232, 1.9993887472388703, 1.9994995485665594, 1.9995902650210202, 1.9996645373720974, 1.9997253464300278, 1.999775132675821, 1.9998158942063324, 1.9998492669249046, 1.9998765901959132, 1.999898960598163, 1.9999172759344435, 1.999932271263509, 1.9999445484005678, 1.9999546000702375, 0.9999628296813159, 0.9999695675169916, 0.9999750839902685, 0.9999796004965888, 0.9999832982992097, 0.9999863258039343, 0.9999888045151574, 0.9999908339122637, 0.9999924954420849, 0.9999938557876467, 0.9999949695443929, 0.9999958814112925, 0.9999966279847659, 0.999997239227428, 0.999997739670593, 0.9999981493988024, 0.9999984848558878, 0.99999875950492, 0.999998984368529, 0.9999991684712809, 0.9999993192018656, 0.9999994426096307, 0.9999995436473632, 0.999999626370062, 0.9999996940976795, 0.9999997495483628, 0.9999997949475424, 0.999999832117247, 0.9999998625492272, 0.9999998874648253, 0.9999999078639916, 0.9999999245654165, 0.9999999382393866, 0.9999999494346865, 0.9999999586006229, 0.9999999661050567, 0.9999999722491676, 0.99999997727954, 0.9999999813980607, 0.9999999847700203, 0.9999999875307473, 0.9999999897910393, 0.9999999916416099, 0.9999999931567289, 0.9999999943972036, 0.9999999954128183, 0.9999999962443332, 0.9999999969251201, 0.9999999974825012, 0.9999999979388464, 2.9999999983124703, 2.9999999986183674, 2.999999998868815, 2.999999999073864, 2.999999999241744, 2.9999999993791926, 2.9999999994917257, 2.9999999995838604, 2.9999999996592934, 2.9999999997210534, 2.999999999771618, 2.9999999998130162, 2.999999999846911, 2.999999999874661, 2.999999999897381, 2.9999999999159828, 2.9999999999312124, 2.9999999999436815, 2.99999999995389, 2.999999999962249, 2.999999999969092, 2.9999999999746945, 2.9999999999792815, 2.999999999983037, 2.999999999986112, 2.9999999999886295, 2.9999999999906906, 2.999999999992378, 2.9999999999937597, 2.9999999999948908, 2.999999999995817, 2.999999999996575, 2.999999999997196, 2.9999999999977045, 2.9999999999981206, 2.9999999999984612, 2.99999999999874, 2.9999999999989684, 2.9999999999991553, 2.9999999999993086, 2.999999999999434, 2.9999999999995364, 2.9999999999996207, 2.999999999999689, 2.9999999999997455, 2.9999999999997917, 2.9999999999998295, 2.9999999999998606, 2.999999999999886, 2.9999999999999063]\n"
     ]
    }
   ],
   "source": [
    "print(x_exact_save1)"
   ]
  },
  {
   "cell_type": "code",
   "execution_count": 149,
   "metadata": {},
   "outputs": [],
   "source": [
    "def sigmoid_activation(val):\n",
    "  sigmoid = 1/1+np.exp(-val)\n",
    "  return sigmoid"
   ]
  },
  {
   "cell_type": "code",
   "execution_count": 150,
   "metadata": {},
   "outputs": [],
   "source": [
    "def predict_step(noise1,weights1):\n",
    "    activation1 = 1\n",
    "    activation1 +=weights1*noise1\n",
    "    print(activation1)\n",
    "    return 1.0 if activation1 >= 0.8 else 0.0"
   ]
  },
  {
   "cell_type": "code",
   "execution_count": 309,
   "metadata": {},
   "outputs": [],
   "source": [
    "def predict(noise2,weights2):\n",
    "    net_sum = 0\n",
    "    net_sum = weights2[0]\n",
    "    net_sum += weights2[1]*noise2\n",
    "    activation2 = sigmoid_activation(net_sum)\n",
    "    return activation2, net_sum"
   ]
  },
  {
   "cell_type": "code",
   "execution_count": 370,
   "metadata": {},
   "outputs": [],
   "source": [
    "def train_weights(array, lr, loops):\n",
    "    weights3 = [-0.10,rand.uniform(0,1)]\n",
    "    for loop in range(loops):\n",
    "        net_array = []\n",
    "        sum_error = 0.0\n",
    "        for a in array:\n",
    "            prediction, netwrk_sum = predict(a,weights3)\n",
    "            Target = a\n",
    "            delta = Target - prediction\n",
    "            error = delta\n",
    "            net_array.append(prediction)\n",
    "            #weights3[0] = weights3[0] + lr * delta * a #bias\n",
    "            weights3_change_bias= -lr*Target*error\n",
    "            weights3[0] = weights3[0] + weights3_change_bias\n",
    "            #print(\"Target\",Target)\n",
    "            #weights3[1] = weights3[1] + lr * delta * a #weight\n",
    "            weights3_change= -lr*Target*error\n",
    "            weights3[1] = weights3[1] + weights3_change\n",
    "            #print(\"weight\",weights3[1])\n",
    "            sum_error += error**2\n",
    "        print('>epoch=%d, lrate=%.3f, error=%.3f' % (loop, lr, error))\n",
    "    return net_array"
   ]
  },
  {
   "cell_type": "code",
   "execution_count": 371,
   "metadata": {},
   "outputs": [],
   "source": [
    "def train_weights2(array, lr, epoch):\n",
    "    #network_out = []\n",
    "    weights = rand.uniform(0,1)\n",
    "    for epoch in range(epoch):\n",
    "        network_out = []\n",
    "        for a in array:\n",
    "            prediction = predict(a,weights)\n",
    "            network_out.append(prediction)\n",
    "            delta = a - prediction\n",
    "            weights = weights + lr * delta * a\n",
    "            error = delta\n",
    "        print('>epoch=%d, lrate=%.3f, error=%.3f' % (epoch, lr, error))\n",
    "    return network_out\n"
   ]
  },
  {
   "cell_type": "code",
   "execution_count": 372,
   "metadata": {},
   "outputs": [],
   "source": [
    "import random as rand"
   ]
  },
  {
   "cell_type": "code",
   "execution_count": 373,
   "metadata": {},
   "outputs": [
    {
     "name": "stdout",
     "output_type": "stream",
     "text": [
      "1.2307886977467948\n",
      "Expected=0, Predicted=1\n"
     ]
    }
   ],
   "source": [
    "w = [1.0,rand.uniform(0,1)]\n",
    "#w = rand.uniform(0,1)\n",
    "prediction, sus = predict(x_noise[0],w)\n",
    "expected = x_noise[0]\n",
    "print(prediction)\n",
    "print(\"Expected=%d, Predicted=%d\" % (x_noise[0], prediction))"
   ]
  },
  {
   "cell_type": "code",
   "execution_count": 363,
   "metadata": {},
   "outputs": [],
   "source": [
    "q = np.square(np.subtract(x_noise[0],w)).mean()"
   ]
  },
  {
   "cell_type": "code",
   "execution_count": 377,
   "metadata": {},
   "outputs": [
    {
     "name": "stdout",
     "output_type": "stream",
     "text": [
      ">epoch=0, lrate=0.007, error=0.540\n",
      ">epoch=1, lrate=0.007, error=0.540\n",
      ">epoch=2, lrate=0.007, error=0.540\n",
      ">epoch=3, lrate=0.007, error=0.540\n",
      ">epoch=4, lrate=0.007, error=0.540\n",
      ">epoch=5, lrate=0.007, error=0.540\n",
      ">epoch=6, lrate=0.007, error=0.540\n",
      ">epoch=7, lrate=0.007, error=0.540\n",
      ">epoch=8, lrate=0.007, error=0.540\n",
      ">epoch=9, lrate=0.007, error=0.540\n"
     ]
    }
   ],
   "source": [
    "#es = [1,rand.uniform(0,1)]\n",
    "w1 = train_weights(x_noise, 0.006531,10)"
   ]
  },
  {
   "cell_type": "code",
   "execution_count": 375,
   "metadata": {},
   "outputs": [
    {
     "data": {
      "text/plain": [
       "150"
      ]
     },
     "execution_count": 375,
     "metadata": {},
     "output_type": "execute_result"
    }
   ],
   "source": [
    "len(w1)"
   ]
  },
  {
   "cell_type": "code",
   "execution_count": 376,
   "metadata": {},
   "outputs": [
    {
     "data": {
      "image/png": "[encoded data removed]",
      "text/plain": [
       "<Figure size 432x288 with 1 Axes>"
      ]
     },
     "metadata": {
      "needs_background": "light"
     },
     "output_type": "display_data"
    }
   ],
   "source": [
    "y_axis = w1 #random_vals\n",
    "y = x_noise\n",
    "y1 = x_noise\n",
    "x_axis = x = t_save1\n",
    "#x = t_array\n",
    "plt.plot(x,y1,\"y\") #actual\n",
    "plt.plot(x_axis,y_axis,\"b\")#noise\n",
    "plt.show()\n",
    "#IF MEAN INCREASED IT GOES TOO FAR UP(0R LOW)\n",
    "#IF STD DEVIATION INCREASED MORE NOISE IS GENERATED WITHIN LINE"
   ]
  },
  {
   "cell_type": "code",
   "execution_count": null,
   "metadata": {},
   "outputs": [],
   "source": []
  },
  {
   "cell_type": "code",
   "execution_count": 208,
   "metadata": {},
   "outputs": [
    {
     "data": {
      "text/plain": [
       "1.0"
      ]
     },
     "execution_count": 208,
     "metadata": {},
     "output_type": "execute_result"
    }
   ],
   "source": [
    "w1[149]"
   ]
  },
  {
   "cell_type": "code",
   "execution_count": null,
   "metadata": {},
   "outputs": [],
   "source": []
  },
  {
   "cell_type": "code",
   "execution_count": null,
   "metadata": {},
   "outputs": [],
   "source": []
  },
  {
   "cell_type": "code",
   "execution_count": null,
   "metadata": {},
   "outputs": [],
   "source": []
  },
  {
   "cell_type": "code",
   "execution_count": 209,
   "metadata": {},
   "outputs": [
    {
     "data": {
      "text/plain": [
       "150"
      ]
     },
     "execution_count": 209,
     "metadata": {},
     "output_type": "execute_result"
    }
   ],
   "source": [
    "len(w1)"
   ]
  },
  {
   "cell_type": "code",
   "execution_count": null,
   "metadata": {},
   "outputs": [],
   "source": []
  },
  {
   "cell_type": "code",
   "execution_count": 210,
   "metadata": {},
   "outputs": [
    {
     "data": {
      "text/plain": [
       "[1.0000135061801698,\n",
       " 1.0000000000374587,\n",
       " 1.0000003620102111,\n",
       " 1.0000000000000004,\n",
       " 1.000000022010865,\n",
       " 1.0,\n",
       " 1.0000000015181527,\n",
       " 1.0,\n",
       " 1.0000000003181584,\n",
       " 1.0,\n",
       " 1.0000000000063318,\n",
       " 1.0,\n",
       " 1.0000000000007134,\n",
       " 1.0,\n",
       " 1.0000000000000426,\n",
       " 1.0,\n",
       " 1.0000000000000075,\n",
       " 1.0,\n",
       " 1.0000000000000007,\n",
       " 1.0,\n",
       " 1.0,\n",
       " 1.0,\n",
       " 1.0,\n",
       " 1.0,\n",
       " 1.0,\n",
       " 1.0,\n",
       " 1.0,\n",
       " 1.0,\n",
       " 1.0,\n",
       " 1.0,\n",
       " 1.0,\n",
       " 1.0,\n",
       " 1.0,\n",
       " 1.0,\n",
       " 1.0,\n",
       " 1.0,\n",
       " 1.0,\n",
       " 1.0,\n",
       " 1.0,\n",
       " 1.0,\n",
       " 1.0,\n",
       " 1.0,\n",
       " 1.0,\n",
       " 1.0,\n",
       " 1.0,\n",
       " 1.0,\n",
       " 1.0,\n",
       " 1.0,\n",
       " 1.0,\n",
       " 1.0,\n",
       " 1.0,\n",
       " 1.0,\n",
       " 1.0,\n",
       " 1.0,\n",
       " 1.0,\n",
       " 1.0,\n",
       " 1.0,\n",
       " 1.0,\n",
       " 1.0,\n",
       " 1.0,\n",
       " 1.0,\n",
       " 1.0,\n",
       " 1.0,\n",
       " 1.0,\n",
       " 1.0,\n",
       " 1.0,\n",
       " 1.0,\n",
       " 1.0,\n",
       " 1.0,\n",
       " 1.0,\n",
       " 1.0,\n",
       " 1.0,\n",
       " 1.0,\n",
       " 1.0,\n",
       " 1.0,\n",
       " 1.0,\n",
       " 1.0,\n",
       " 1.0,\n",
       " 1.0,\n",
       " 1.0,\n",
       " 1.0,\n",
       " 1.0,\n",
       " 1.0,\n",
       " 1.0,\n",
       " 1.0,\n",
       " 1.0,\n",
       " 1.0,\n",
       " 1.0,\n",
       " 1.0,\n",
       " 1.0,\n",
       " 1.0,\n",
       " 1.0,\n",
       " 1.0,\n",
       " 1.0,\n",
       " 1.0,\n",
       " 1.0,\n",
       " 1.0,\n",
       " 1.0,\n",
       " 1.0,\n",
       " 1.0,\n",
       " 1.0,\n",
       " 1.0,\n",
       " 1.0,\n",
       " 1.0,\n",
       " 1.0,\n",
       " 1.0,\n",
       " 1.0,\n",
       " 1.0,\n",
       " 1.0,\n",
       " 1.0,\n",
       " 1.0,\n",
       " 1.0,\n",
       " 1.0,\n",
       " 1.0,\n",
       " 1.0,\n",
       " 1.0,\n",
       " 1.0,\n",
       " 1.0,\n",
       " 1.0,\n",
       " 1.0,\n",
       " 1.0,\n",
       " 1.0,\n",
       " 1.0,\n",
       " 1.0,\n",
       " 1.0,\n",
       " 1.0,\n",
       " 1.0,\n",
       " 1.0,\n",
       " 1.0,\n",
       " 1.0,\n",
       " 1.0,\n",
       " 1.0,\n",
       " 1.0,\n",
       " 1.0,\n",
       " 1.0,\n",
       " 1.0,\n",
       " 1.0,\n",
       " 1.0,\n",
       " 1.0,\n",
       " 1.0,\n",
       " 1.0,\n",
       " 1.0,\n",
       " 1.0,\n",
       " 1.0,\n",
       " 1.0,\n",
       " 1.0,\n",
       " 1.0,\n",
       " 1.0,\n",
       " 1.0,\n",
       " 1.0]"
      ]
     },
     "execution_count": 210,
     "metadata": {},
     "output_type": "execute_result"
    }
   ],
   "source": [
    "w1"
   ]
  },
  {
   "cell_type": "code",
   "execution_count": 211,
   "metadata": {},
   "outputs": [
    {
     "ename": "AttributeError",
     "evalue": "'list' object has no attribute 'get'",
     "output_type": "error",
     "traceback": [
      "\u001b[1;31m---------------------------------------------------------------------------\u001b[0m",
      "\u001b[1;31mAttributeError\u001b[0m                            Traceback (most recent call last)",
      "\u001b[1;32m<ipython-input-211-22bd8288c85c>\u001b[0m in \u001b[0;36m<module>\u001b[1;34m\u001b[0m\n\u001b[0;32m      1\u001b[0m \u001b[1;32mimport\u001b[0m \u001b[0mseaborn\u001b[0m \u001b[1;32mas\u001b[0m \u001b[0msns\u001b[0m\u001b[1;33m\u001b[0m\u001b[1;33m\u001b[0m\u001b[0m\n\u001b[1;32m----> 2\u001b[1;33m \u001b[0mplt3\u001b[0m \u001b[1;33m=\u001b[0m \u001b[0msns\u001b[0m\u001b[1;33m.\u001b[0m\u001b[0mlineplot\u001b[0m\u001b[1;33m(\u001b[0m\u001b[0mx\u001b[0m\u001b[1;33m=\u001b[0m\u001b[1;34m\"T\"\u001b[0m\u001b[1;33m,\u001b[0m \u001b[0my\u001b[0m\u001b[1;33m=\u001b[0m\u001b[1;34m\"U\"\u001b[0m\u001b[1;33m,\u001b[0m \u001b[0mdata\u001b[0m\u001b[1;33m=\u001b[0m\u001b[0mx_array1\u001b[0m\u001b[1;33m)\u001b[0m \u001b[1;31m#blue\u001b[0m\u001b[1;33m\u001b[0m\u001b[1;33m\u001b[0m\u001b[0m\n\u001b[0m\u001b[0;32m      3\u001b[0m \u001b[0mplt4\u001b[0m \u001b[1;33m=\u001b[0m \u001b[0msns\u001b[0m\u001b[1;33m.\u001b[0m\u001b[0mlineplot\u001b[0m\u001b[1;33m(\u001b[0m\u001b[0mx\u001b[0m\u001b[1;33m=\u001b[0m\u001b[1;34m\"T\"\u001b[0m\u001b[1;33m,\u001b[0m \u001b[0my\u001b[0m\u001b[1;33m=\u001b[0m\u001b[1;34m\"U\"\u001b[0m\u001b[1;33m,\u001b[0m \u001b[0mdata\u001b[0m\u001b[1;33m=\u001b[0m\u001b[0mx_array2\u001b[0m\u001b[1;33m)\u001b[0m \u001b[1;31m#Orange\u001b[0m\u001b[1;33m\u001b[0m\u001b[1;33m\u001b[0m\u001b[0m\n\u001b[0;32m      4\u001b[0m \u001b[0mplt5\u001b[0m \u001b[1;33m=\u001b[0m \u001b[0msns\u001b[0m\u001b[1;33m.\u001b[0m\u001b[0mlineplot\u001b[0m\u001b[1;33m(\u001b[0m\u001b[0mx\u001b[0m\u001b[1;33m=\u001b[0m\u001b[1;34m\"T\"\u001b[0m\u001b[1;33m,\u001b[0m \u001b[0my\u001b[0m\u001b[1;33m=\u001b[0m\u001b[1;34m\"U\"\u001b[0m\u001b[1;33m,\u001b[0m \u001b[0mdata\u001b[0m\u001b[1;33m=\u001b[0m\u001b[0mx_array3\u001b[0m\u001b[1;33m)\u001b[0m \u001b[1;31m#Green\u001b[0m\u001b[1;33m\u001b[0m\u001b[1;33m\u001b[0m\u001b[0m\n\u001b[0;32m      5\u001b[0m \u001b[0mplt6\u001b[0m \u001b[1;33m=\u001b[0m \u001b[0msns\u001b[0m\u001b[1;33m.\u001b[0m\u001b[0mlineplot\u001b[0m\u001b[1;33m(\u001b[0m\u001b[0mx\u001b[0m\u001b[1;33m=\u001b[0m\u001b[1;34m\"T\"\u001b[0m\u001b[1;33m,\u001b[0m \u001b[0my\u001b[0m\u001b[1;33m=\u001b[0m\u001b[1;34m\"U\"\u001b[0m\u001b[1;33m,\u001b[0m \u001b[0mdata\u001b[0m\u001b[1;33m=\u001b[0m\u001b[0mx_array4\u001b[0m\u001b[1;33m)\u001b[0m \u001b[1;31m#Red\u001b[0m\u001b[1;33m\u001b[0m\u001b[1;33m\u001b[0m\u001b[0m\n",
      "\u001b[1;32m~\\Anaconda3\\lib\\site-packages\\seaborn\\relational.py\u001b[0m in \u001b[0;36mlineplot\u001b[1;34m(x, y, hue, size, style, data, palette, hue_order, hue_norm, sizes, size_order, size_norm, dashes, markers, style_order, units, estimator, ci, n_boot, sort, err_style, err_kws, legend, ax, **kwargs)\u001b[0m\n\u001b[0;32m   1076\u001b[0m         \u001b[0mdashes\u001b[0m\u001b[1;33m=\u001b[0m\u001b[0mdashes\u001b[0m\u001b[1;33m,\u001b[0m \u001b[0mmarkers\u001b[0m\u001b[1;33m=\u001b[0m\u001b[0mmarkers\u001b[0m\u001b[1;33m,\u001b[0m \u001b[0mstyle_order\u001b[0m\u001b[1;33m=\u001b[0m\u001b[0mstyle_order\u001b[0m\u001b[1;33m,\u001b[0m\u001b[1;33m\u001b[0m\u001b[1;33m\u001b[0m\u001b[0m\n\u001b[0;32m   1077\u001b[0m         \u001b[0munits\u001b[0m\u001b[1;33m=\u001b[0m\u001b[0munits\u001b[0m\u001b[1;33m,\u001b[0m \u001b[0mestimator\u001b[0m\u001b[1;33m=\u001b[0m\u001b[0mestimator\u001b[0m\u001b[1;33m,\u001b[0m \u001b[0mci\u001b[0m\u001b[1;33m=\u001b[0m\u001b[0mci\u001b[0m\u001b[1;33m,\u001b[0m \u001b[0mn_boot\u001b[0m\u001b[1;33m=\u001b[0m\u001b[0mn_boot\u001b[0m\u001b[1;33m,\u001b[0m\u001b[1;33m\u001b[0m\u001b[1;33m\u001b[0m\u001b[0m\n\u001b[1;32m-> 1078\u001b[1;33m         \u001b[0msort\u001b[0m\u001b[1;33m=\u001b[0m\u001b[0msort\u001b[0m\u001b[1;33m,\u001b[0m \u001b[0merr_style\u001b[0m\u001b[1;33m=\u001b[0m\u001b[0merr_style\u001b[0m\u001b[1;33m,\u001b[0m \u001b[0merr_kws\u001b[0m\u001b[1;33m=\u001b[0m\u001b[0merr_kws\u001b[0m\u001b[1;33m,\u001b[0m \u001b[0mlegend\u001b[0m\u001b[1;33m=\u001b[0m\u001b[0mlegend\u001b[0m\u001b[1;33m,\u001b[0m\u001b[1;33m\u001b[0m\u001b[1;33m\u001b[0m\u001b[0m\n\u001b[0m\u001b[0;32m   1079\u001b[0m     )\n\u001b[0;32m   1080\u001b[0m \u001b[1;33m\u001b[0m\u001b[0m\n",
      "\u001b[1;32m~\\Anaconda3\\lib\\site-packages\\seaborn\\relational.py\u001b[0m in \u001b[0;36m__init__\u001b[1;34m(self, x, y, hue, size, style, data, palette, hue_order, hue_norm, sizes, size_order, size_norm, dashes, markers, style_order, units, estimator, ci, n_boot, sort, err_style, err_kws, legend)\u001b[0m\n\u001b[0;32m    661\u001b[0m \u001b[1;33m\u001b[0m\u001b[0m\n\u001b[0;32m    662\u001b[0m         plot_data = self.establish_variables(\n\u001b[1;32m--> 663\u001b[1;33m             \u001b[0mx\u001b[0m\u001b[1;33m,\u001b[0m \u001b[0my\u001b[0m\u001b[1;33m,\u001b[0m \u001b[0mhue\u001b[0m\u001b[1;33m,\u001b[0m \u001b[0msize\u001b[0m\u001b[1;33m,\u001b[0m \u001b[0mstyle\u001b[0m\u001b[1;33m,\u001b[0m \u001b[0munits\u001b[0m\u001b[1;33m,\u001b[0m \u001b[0mdata\u001b[0m\u001b[1;33m\u001b[0m\u001b[1;33m\u001b[0m\u001b[0m\n\u001b[0m\u001b[0;32m    664\u001b[0m         )\n\u001b[0;32m    665\u001b[0m \u001b[1;33m\u001b[0m\u001b[0m\n",
      "\u001b[1;32m~\\Anaconda3\\lib\\site-packages\\seaborn\\relational.py\u001b[0m in \u001b[0;36mestablish_variables\u001b[1;34m(self, x, y, hue, size, style, units, data)\u001b[0m\n\u001b[0;32m    129\u001b[0m             \u001b[1;31m# Use variables as from the dataframe if specified\u001b[0m\u001b[1;33m\u001b[0m\u001b[1;33m\u001b[0m\u001b[1;33m\u001b[0m\u001b[0m\n\u001b[0;32m    130\u001b[0m             \u001b[1;32mif\u001b[0m \u001b[0mdata\u001b[0m \u001b[1;32mis\u001b[0m \u001b[1;32mnot\u001b[0m \u001b[1;32mNone\u001b[0m\u001b[1;33m:\u001b[0m\u001b[1;33m\u001b[0m\u001b[1;33m\u001b[0m\u001b[0m\n\u001b[1;32m--> 131\u001b[1;33m                 \u001b[0mx\u001b[0m \u001b[1;33m=\u001b[0m \u001b[0mdata\u001b[0m\u001b[1;33m.\u001b[0m\u001b[0mget\u001b[0m\u001b[1;33m(\u001b[0m\u001b[0mx\u001b[0m\u001b[1;33m,\u001b[0m \u001b[0mx\u001b[0m\u001b[1;33m)\u001b[0m\u001b[1;33m\u001b[0m\u001b[1;33m\u001b[0m\u001b[0m\n\u001b[0m\u001b[0;32m    132\u001b[0m                 \u001b[0my\u001b[0m \u001b[1;33m=\u001b[0m \u001b[0mdata\u001b[0m\u001b[1;33m.\u001b[0m\u001b[0mget\u001b[0m\u001b[1;33m(\u001b[0m\u001b[0my\u001b[0m\u001b[1;33m,\u001b[0m \u001b[0my\u001b[0m\u001b[1;33m)\u001b[0m\u001b[1;33m\u001b[0m\u001b[1;33m\u001b[0m\u001b[0m\n\u001b[0;32m    133\u001b[0m                 \u001b[0mhue\u001b[0m \u001b[1;33m=\u001b[0m \u001b[0mdata\u001b[0m\u001b[1;33m.\u001b[0m\u001b[0mget\u001b[0m\u001b[1;33m(\u001b[0m\u001b[0mhue\u001b[0m\u001b[1;33m,\u001b[0m \u001b[0mhue\u001b[0m\u001b[1;33m)\u001b[0m\u001b[1;33m\u001b[0m\u001b[1;33m\u001b[0m\u001b[0m\n",
      "\u001b[1;31mAttributeError\u001b[0m: 'list' object has no attribute 'get'"
     ]
    }
   ],
   "source": [
    "import seaborn as sns\n",
    "plt3 = sns.lineplot(x=\"T\", y=\"U\", data=x_array1) #blue\n",
    "plt4 = sns.lineplot(x=\"T\", y=\"U\", data=x_array2) #Orange\n",
    "plt5 = sns.lineplot(x=\"T\", y=\"U\", data=x_array3) #Green\n",
    "plt6 = sns.lineplot(x=\"T\", y=\"U\", data=x_array4) #Red\n",
    "plt7 = sns.lineplot(x=\"T\", y=\"U\", data=x_array5) #Purple"
   ]
  },
  {
   "cell_type": "code",
   "execution_count": null,
   "metadata": {},
   "outputs": [],
   "source": [
    "\n"
   ]
  }
 ],
 "metadata": {
  "kernelspec": {
   "display_name": "Python 3",
   "language": "python",
   "name": "python3"
  },
  "language_info": {
   "codemirror_mode": {
    "name": "ipython",
    "version": 3
   },
   "file_extension": ".py",
   "mimetype": "text/x-python",
   "name": "python",
   "nbconvert_exporter": "python",
   "pygments_lexer": "ipython3",
   "version": "3.7.4"
  }
 },
 "nbformat": 4,
 "nbformat_minor": 2
}
