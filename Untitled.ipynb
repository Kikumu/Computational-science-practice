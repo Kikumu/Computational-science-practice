{
 "cells": [
  {
   "cell_type": "code",
   "execution_count": null,
   "metadata": {},
   "outputs": [],
   "source": []
  },
  {
   "cell_type": "markdown",
   "metadata": {},
   "source": [
    "# Robot Simulation (Part 1)"
   ]
  },
  {
   "cell_type": "code",
   "execution_count": 1,
   "metadata": {},
   "outputs": [],
   "source": [
    "import numpy as np\n",
    "import random as rand\n",
    "import numpy as np\n",
    "import matplotlib.pyplot as plt\n",
    "import math\n",
    "import csv\n",
    "from scipy.stats import norm\n",
    "import seaborn as sns\n",
    "\n",
    "def func(U,x):\n",
    "    #-2x+2U\n",
    "    val = -(2*x) + 2*U\n",
    "    return val"
   ]
  },
  {
   "cell_type": "code",
   "execution_count": 2,
   "metadata": {},
   "outputs": [],
   "source": [
    "##SIMULATION\n",
    "def simulation(x,t,h):\n",
    "    save = 0\n",
    "    U_save = []\n",
    "    t_save = []\n",
    "    x_save = []\n",
    "    x_exact_save = []\n",
    "\n",
    "\n",
    "    ##saves every time\n",
    "    U_array = []\n",
    "    t_array = []\n",
    "    x_array = []\n",
    "    x_exact_array = []\n",
    "    while(t <= 15):\n",
    "        if(t <= 5):\n",
    "            U = 2\n",
    "        elif(t < 5 or t <= 10):\n",
    "            U = 1\n",
    "        elif(t < 10 or t <=15):\n",
    "            U = 3\n",
    "        #print(\"U value:\", x)\n",
    "        U_array.append(U)\n",
    "        k = h * func(U,x)\n",
    "        x = x + k\n",
    "        t = t + h\n",
    "        #value under graph\n",
    "        x_exact = U - math.exp(-2*t)\n",
    "        t_array.append(t)\n",
    "        x_array.append(x)\n",
    "        x_exact_array.append(x_exact)\n",
    "        save+=1\n",
    "        #print(\"save: \",save)\n",
    "        if(save%10 == 0):\n",
    "            U_save.append(U)\n",
    "            t_save.append(t)\n",
    "            x_save.append(x)\n",
    "            x_exact_save.append(x_exact)\n",
    "            #print(\"save1: \",save)\n",
    "        #print(\"Where it is: \",x,\"Exact pos= \",x_exact,\"Time: \",t)\n",
    "    return U_save,t_save,x_save,x_exact_save,U_array,t_array,x_array,x_exact_array \n",
    "    #plt.fill_between(x_axis,y_axis, where = [(x>0)and (x <2)for x_axis in x_axis], color = 'green')"
   ]
  },
  {
   "cell_type": "code",
   "execution_count": 3,
   "metadata": {},
   "outputs": [],
   "source": [
    "#0.75, .5, 0.25, 0.01, 0.001"
   ]
  },
  {
   "cell_type": "code",
   "execution_count": 4,
   "metadata": {},
   "outputs": [],
   "source": [
    "U_save1 = []\n",
    "t_save1 = []\n",
    "x_save1 = []\n",
    "x_exact_save1 = []\n",
    "\n",
    "\n",
    "##saves every time\n",
    "U_array1 = []\n",
    "t_array1 = []\n",
    "x_array1 = []\n",
    "x_exact_array1 = []\n",
    "\n",
    "#step size \n",
    "U_save1,t_save1,x_save1,x_exact_save1,U_array1,t_array1,x_array1,x_exact_array1=simulation(0,0,0.75)\n",
    "\n",
    "#0.35 for bell curve"
   ]
  },
  {
   "cell_type": "code",
   "execution_count": 5,
   "metadata": {},
   "outputs": [],
   "source": [
    "U_save2 = []\n",
    "t_save2 = []\n",
    "x_save2 = []\n",
    "x_exact_save2 = []\n",
    "\n",
    "\n",
    "##saves every time\n",
    "U_array2 = []\n",
    "t_array2 = []\n",
    "x_array2 = []\n",
    "x_exact_array2 = []\n",
    "\n",
    "#step size \n",
    "U_save2,t_save2,x_save2,x_exact_save2,U_array2,t_array2,x_array2,x_exact_array2=simulation(0,0,0.5)"
   ]
  },
  {
   "cell_type": "code",
   "execution_count": 6,
   "metadata": {},
   "outputs": [],
   "source": [
    "U_save3 = []\n",
    "t_save3 = []\n",
    "x_save3 = []\n",
    "x_exact_save3 = []\n",
    "\n",
    "\n",
    "##saves every time\n",
    "U_array3 = []\n",
    "t_array3 = []\n",
    "x_array3 = []\n",
    "x_exact_array3 = []\n",
    "\n",
    "#step size \n",
    "U_save3,t_save3,x_save3,x_exact_save3,U_array3,t_array3,x_array3,x_exact_array3=simulation(0,0,0.25)"
   ]
  },
  {
   "cell_type": "code",
   "execution_count": 7,
   "metadata": {},
   "outputs": [],
   "source": [
    "U_save4 = []\n",
    "t_save4 = []\n",
    "x_save4 = []\n",
    "x_exact_save4 = []\n",
    "\n",
    "\n",
    "##saves every time\n",
    "U_array4 = []\n",
    "t_array4 = []\n",
    "x_array4 = []\n",
    "x_exact_array4 = []\n",
    "\n",
    "#step size \n",
    "U_save4,t_save4,x_save4,x_exact_save4,U_array4,t_array4,x_array4,x_exact_array4=simulation(0,0,0.01)"
   ]
  },
  {
   "cell_type": "code",
   "execution_count": 8,
   "metadata": {},
   "outputs": [],
   "source": [
    "U_save5 = []\n",
    "t_save5 = []\n",
    "x_save5 = []\n",
    "x_exact_save5 = []\n",
    "\n",
    "\n",
    "##saves every time\n",
    "U_array5 = []\n",
    "t_array5 = []\n",
    "x_array5 = []\n",
    "x_exact_array5 = []\n",
    "\n",
    "#step size \n",
    "U_save5,t_save5,x_save5,x_exact_save5,U_array5,t_array5,x_array5,x_exact_array5=simulation(0,0,0.001)"
   ]
  },
  {
   "cell_type": "code",
   "execution_count": 9,
   "metadata": {},
   "outputs": [
    {
     "data": {
      "image/png": "[encoded data removed]",
      "text/plain": [
       "<Figure size 432x288 with 1 Axes>"
      ]
     },
     "metadata": {
      "needs_background": "light"
     },
     "output_type": "display_data"
    }
   ],
   "source": [
    "#plt.figure()\n",
    "#plt.plot(t_array)\n",
    "y_axis = x_array1\n",
    "#y = x_save2\n",
    "#y1 = x_exact_save1\n",
    "x_axis = x = t_array1\n",
    "#x = t_array\n",
    "#plt.plot(x,y1,\"y\") #actual\n",
    "#plt.plot(x,y,\"r\")  #robot\n",
    "plt.plot(x_axis,y_axis,\"g\")#noise\n",
    "plt.show()\n",
    "#IF MEAN INCREASED IT GOES TOO FAR UP(0R LOW)\n",
    "#IF STD DEVIATION INCREASED MORE NOISE IS GENERATED WITHIN LINE"
   ]
  },
  {
   "cell_type": "code",
   "execution_count": 10,
   "metadata": {},
   "outputs": [
    {
     "data": {
      "image/png": "[encoded data removed]",
      "text/plain": [
       "<Figure size 432x288 with 1 Axes>"
      ]
     },
     "metadata": {
      "needs_background": "light"
     },
     "output_type": "display_data"
    }
   ],
   "source": [
    "y_axis = x_array2\n",
    "x_axis = t_array2\n",
    "plt.plot(x_axis,y_axis)\n",
    "plt.show()"
   ]
  },
  {
   "cell_type": "code",
   "execution_count": 11,
   "metadata": {},
   "outputs": [
    {
     "data": {
      "text/plain": [
       "[<matplotlib.lines.Line2D at 0x1a868e76d08>]"
      ]
     },
     "execution_count": 11,
     "metadata": {},
     "output_type": "execute_result"
    },
    {
     "data": {
      "image/png": "[encoded data removed]",
      "text/plain": [
       "<Figure size 432x288 with 1 Axes>"
      ]
     },
     "metadata": {
      "needs_background": "light"
     },
     "output_type": "display_data"
    }
   ],
   "source": [
    "y_axis = x_array3\n",
    "x_axis = t_array3\n",
    "plt.plot(x_axis,y_axis)\n",
    "#plt.fill_between(x_axis,y_axis, where = [(x>0)and (x <2)for x_axis in x_axis], color = 'green')\n",
    "#plt.show()"
   ]
  },
  {
   "cell_type": "code",
   "execution_count": 12,
   "metadata": {},
   "outputs": [
    {
     "data": {
      "text/plain": [
       "[<matplotlib.lines.Line2D at 0x1a868ef0848>]"
      ]
     },
     "execution_count": 12,
     "metadata": {},
     "output_type": "execute_result"
    },
    {
     "data": {
      "image/png": "[encoded data removed]",
      "text/plain": [
       "<Figure size 432x288 with 1 Axes>"
      ]
     },
     "metadata": {
      "needs_background": "light"
     },
     "output_type": "display_data"
    }
   ],
   "source": [
    "#len(x_save1)\n",
    "y_axis = x_array4\n",
    "x_axis = t_array4\n",
    "plt.plot(x_axis,y_axis)"
   ]
  },
  {
   "cell_type": "code",
   "execution_count": 13,
   "metadata": {},
   "outputs": [
    {
     "data": {
      "text/plain": [
       "[<matplotlib.lines.Line2D at 0x1a868f62b48>]"
      ]
     },
     "execution_count": 13,
     "metadata": {},
     "output_type": "execute_result"
    },
    {
     "data": {
      "image/png": "[encoded data removed]",
      "text/plain": [
       "<Figure size 432x288 with 1 Axes>"
      ]
     },
     "metadata": {
      "needs_background": "light"
     },
     "output_type": "display_data"
    }
   ],
   "source": [
    "y_axis = x_array5\n",
    "x_axis = t_array5\n",
    "plt.plot(x_axis,y_axis)"
   ]
  },
  {
   "cell_type": "code",
   "execution_count": 14,
   "metadata": {},
   "outputs": [],
   "source": [
    "##seems x_array5 is most stable, we will use x_array_exact as a poiint of reference\n",
    "#y_axis = x_exact_array5\n",
    "#x_axis = t_array5\n",
    "#plt.plot(x_axis,y_axis)"
   ]
  },
  {
   "cell_type": "code",
   "execution_count": 15,
   "metadata": {},
   "outputs": [
    {
     "name": "stdout",
     "output_type": "stream",
     "text": [
      "0.9980019986673332\n",
      "0.9960079893439915\n",
      "0.9940179640539353\n",
      "0.9920319148370607\n",
      "0.9900498337491681\n"
     ]
    }
   ],
   "source": [
    "###plot graph for first 9 values\n",
    "#error against what? step size?\n",
    "i = 0\n",
    "\n",
    "error_diff1 = []\n",
    "error_diff2 = []\n",
    "error_diff3 = []\n",
    "error_diff4 = []\n",
    "error_diff5 = []\n",
    "while i < 5:\n",
    "    error_diff1.append(abs(x_exact_array5[i] - x_array1[i]))\n",
    "    error_diff2.append(abs(x_exact_array5[i] - x_array2[i]))\n",
    "    error_diff3.append(abs(x_exact_array5[i] - x_array3[i]))\n",
    "    error_diff4.append(abs(x_exact_array5[i] - x_array4[i]))\n",
    "    error_diff5.append(abs(x_exact_array5[i] - x_array5[i]))\n",
    "    print(error_diff2[i])\n",
    "    i+=1\n",
    "    \n",
    "    \n",
    "    \n",
    "    "
   ]
  },
  {
   "cell_type": "code",
   "execution_count": 16,
   "metadata": {},
   "outputs": [],
   "source": [
    "error_x = [1,2,3,4,5]\n"
   ]
  },
  {
   "cell_type": "code",
   "execution_count": 17,
   "metadata": {},
   "outputs": [
    {
     "data": {
      "image/png": "[encoded data removed]",
      "text/plain": [
       "<Figure size 432x288 with 1 Axes>"
      ]
     },
     "metadata": {
      "needs_background": "light"
     },
     "output_type": "display_data"
    }
   ],
   "source": [
    "y_axis = error_diff1\n",
    "y = error_diff2\n",
    "y1 = error_diff3\n",
    "y2 = error_diff4\n",
    "y3 = error_diff5\n",
    "x_axis = x = error_x\n",
    "#x = t_array\n",
    "plt.plot(x,y3,\"o\") #actual\n",
    "plt.plot(x,y2,\"y\") #actual\n",
    "plt.plot(x,y1,\"y\") #actual\n",
    "plt.plot(x,y,\"r\")  #robot\n",
    "plt.plot(x_axis,y_axis,\"b\")#noise\n",
    "plt.show()"
   ]
  },
  {
   "cell_type": "code",
   "execution_count": 18,
   "metadata": {},
   "outputs": [
    {
     "name": "stdout",
     "output_type": "stream",
     "text": [
      "deviation:  0.231 mean:  0.0 DEVIATION:  0.9747884335476061 MEAN:  2.047868047441755\n"
     ]
    }
   ],
   "source": [
    "import statistics as stat\n",
    "std_dev1 = stat.stdev(x_array1)\n",
    "_mean1 = stat.mean(x_array1)\n",
    "\n",
    "std_dev = 0.231\n",
    "_mean = 0.0\n",
    "print(\"deviation: \",std_dev,\"mean: \",_mean,\"DEVIATION: \",std_dev1,\"MEAN: \",_mean1)"
   ]
  },
  {
   "cell_type": "markdown",
   "metadata": {},
   "source": [
    "# Box Muller (Part 2)"
   ]
  },
  {
   "cell_type": "code",
   "execution_count": 19,
   "metadata": {},
   "outputs": [
    {
     "name": "stdout",
     "output_type": "stream",
     "text": [
      "nose1:  3.275056661708517 3.0\n",
      "nose2:  2.9295899074234137 2.968626022338867\n"
     ]
    },
    {
     "data": {
      "image/png": "[encoded data removed]",
      "text/plain": [
       "<Figure size 432x288 with 1 Axes>"
      ]
     },
     "metadata": {
      "needs_background": "light"
     },
     "output_type": "display_data"
    }
   ],
   "source": [
    "#BOX MULLER METHOD\n",
    "\n",
    "random_vals = []\n",
    "i = 0\n",
    "it = 0\n",
    "while i < len(x_save1):\n",
    " if(it==0):\n",
    "    z1 = rand.uniform(0,2*np.pi) #values from 0 to (2*np.pi) our a#\n",
    "    b = std_dev*np.sqrt(-2*math.log(rand.uniform(0,1)))\n",
    "    z2 = b *(math.sin(z1))+_mean\n",
    "    z3 = b*(math.cos(z1))+_mean\n",
    "    noise = x_array1[i] + z2\n",
    "    random_vals.append(noise)\n",
    "    print(\"nose1: \",noise,x_array1[i])\n",
    "    it = 1\n",
    "    i = i + 1\n",
    " else:\n",
    "    it = 0\n",
    "    noise = x_save1[i] + z3\n",
    "    random_vals.append(noise)  \n",
    "    print(\"nose2: \",noise,x_save1[i])\n",
    "    i = i + 1\n",
    "    #print(\"nose2: \",noise,x_array[i])\n",
    "        \n",
    "#meu is mean sigma is std deviation\n",
    "y_axis = x_array1\n",
    "x_axis = t_array1\n",
    "plt.xlabel(\"Time\")\n",
    "plt.ylabel(\"Distance\")\n",
    "#plt.plot(random_vals,color =\"red\")\n",
    "plt.plot(x_axis,y_axis,)\n",
    "plt.show()\n"
   ]
  },
  {
   "cell_type": "code",
   "execution_count": null,
   "metadata": {},
   "outputs": [],
   "source": []
  },
  {
   "cell_type": "code",
   "execution_count": 20,
   "metadata": {},
   "outputs": [],
   "source": [
    "i = 0\n",
    "x_noise = []\n",
    "while i < len(x_save1):\n",
    "    x_noise.append(x_array1[i] + random_vals[i])\n",
    "    i = i + 1"
   ]
  },
  {
   "cell_type": "markdown",
   "metadata": {},
   "source": [
    "## value represented in a gaussian distribution "
   ]
  },
  {
   "cell_type": "code",
   "execution_count": 21,
   "metadata": {},
   "outputs": [
    {
     "data": {
      "text/plain": [
       "<matplotlib.axes._subplots.AxesSubplot at 0x1a869058508>"
      ]
     },
     "execution_count": 21,
     "metadata": {},
     "output_type": "execute_result"
    },
    {
     "data": {
      "image/png": "[encoded data removed]",
      "text/plain": [
       "<Figure size 432x288 with 1 Axes>"
      ]
     },
     "metadata": {
      "needs_background": "light"
     },
     "output_type": "display_data"
    }
   ],
   "source": [
    "\n",
    "sns.distplot(x_noise)"
   ]
  },
  {
   "cell_type": "code",
   "execution_count": 22,
   "metadata": {},
   "outputs": [
    {
     "data": {
      "image/png": "[encoded data removed]",
      "text/plain": [
       "<Figure size 432x288 with 1 Axes>"
      ]
     },
     "metadata": {
      "needs_background": "light"
     },
     "output_type": "display_data"
    }
   ],
   "source": [
    "#plt.figure()\n",
    "#plt.plot(t_array)\n",
    "y_axis = random_vals #random_vals\n",
    "y = x_save1\n",
    "y1 = x_exact_save1\n",
    "x_axis = x = t_save1\n",
    "#x = t_array\n",
    "plt.plot(x,y1,\"y\") #actual\n",
    "plt.plot(x,y,\"r\")  #robot\n",
    "plt.plot(x_axis,y_axis,\"b\")#noise\n",
    "plt.show()\n",
    "#IF MEAN INCREASED IT GOES TOO FAR UP(0R LOW)\n",
    "#IF STD DEVIATION INCREASED MORE NOISE IS GENERATED WITHIN LINE"
   ]
  },
  {
   "cell_type": "code",
   "execution_count": 23,
   "metadata": {},
   "outputs": [
    {
     "name": "stdout",
     "output_type": "stream",
     "text": [
      "0.5216661853036146\n",
      "0.5706623318591063\n",
      "0.008420987841792238\n",
      "0.054713253863912126\n",
      "0.2966323024919828\n",
      "0.6023377823126943\n"
     ]
    }
   ],
   "source": [
    "##################################PART 3#####################################################################################\n",
    "##APPLY WITH SINGLE PERCEPTRON AND TST\n",
    "rand_array = []\n",
    "for i in range(6):\n",
    "    rand_number = rand.uniform(0,1)\n",
    "    rand_array.append(rand_number)\n",
    "    print(rand_number)\n",
    "    \n",
    "#(done once)"
   ]
  },
  {
   "cell_type": "code",
   "execution_count": 24,
   "metadata": {},
   "outputs": [
    {
     "name": "stdout",
     "output_type": "stream",
     "text": [
      "[3.27348487 3.58093847 0.05284218 0.34332877 1.86138451 3.77970371]\n"
     ]
    }
   ],
   "source": [
    "#store in a numpy array\n",
    "#2 inputs, noise(random_vals) and x\n",
    "\n",
    "activation_vals1 =np.dot(x_noise[0],rand_array)\n",
    "print(activation_vals1)"
   ]
  },
  {
   "cell_type": "code",
   "execution_count": 25,
   "metadata": {},
   "outputs": [],
   "source": [
    "#activation_vals =np.dot(random_vals[0],rand_array2)"
   ]
  },
  {
   "cell_type": "code",
   "execution_count": 26,
   "metadata": {},
   "outputs": [],
   "source": [
    "#add em up\n",
    "#print(activation_vals1 + activation_vals)\n",
    "#activation_map = activation_vals1 + activation_vals"
   ]
  },
  {
   "cell_type": "code",
   "execution_count": 27,
   "metadata": {},
   "outputs": [],
   "source": [
    "import math\n",
    "def sigmoid_activation(val):\n",
    "  sigmoid = 1/1+np.exp(-val)\n",
    "  return sigmoid"
   ]
  },
  {
   "cell_type": "code",
   "execution_count": 28,
   "metadata": {},
   "outputs": [],
   "source": [
    "c = 0\n",
    "activation_array = []\n",
    "for i in range(len(activation_vals1)):\n",
    "    activate = sigmoid_activation(activation_vals1[c])\n",
    "    c += 1\n",
    "    activation_array.append(activate)\n",
    "    "
   ]
  },
  {
   "cell_type": "code",
   "execution_count": 29,
   "metadata": {},
   "outputs": [
    {
     "data": {
      "text/plain": [
       "[1.0378742100825062,\n",
       " 1.0278495501005371,\n",
       " 1.948529701559053,\n",
       " 1.7094049434712126,\n",
       " 1.1554572498358477,\n",
       " 1.0228294544823076]"
      ]
     },
     "execution_count": 29,
     "metadata": {},
     "output_type": "execute_result"
    }
   ],
   "source": [
    "activation_array"
   ]
  },
  {
   "cell_type": "code",
   "execution_count": 30,
   "metadata": {},
   "outputs": [],
   "source": [
    "#generate new weights for final layer(done once)\n",
    "c = 0\n",
    "weights_2 = []\n",
    "for i in range(len(activation_array)):\n",
    "    rand_number = rand.uniform(0,1)\n",
    "    weights_2.append(rand_number)"
   ]
  },
  {
   "cell_type": "code",
   "execution_count": 31,
   "metadata": {},
   "outputs": [
    {
     "data": {
      "text/plain": [
       "[0.39177575030835676,\n",
       " 0.8963308277414715,\n",
       " 0.5774621983767918,\n",
       " 0.47582825675319496,\n",
       " 0.5607435176895791,\n",
       " 0.8055434814751139]"
      ]
     },
     "execution_count": 31,
     "metadata": {},
     "output_type": "execute_result"
    }
   ],
   "source": [
    "weights_2"
   ]
  },
  {
   "cell_type": "code",
   "execution_count": 32,
   "metadata": {},
   "outputs": [
    {
     "data": {
      "text/plain": [
       "4.7383413673498955"
      ]
     },
     "execution_count": 32,
     "metadata": {},
     "output_type": "execute_result"
    }
   ],
   "source": [
    "output = np.dot(activation_array,weights_2)\n",
    "np.dot(activation_array,weights_2) #output"
   ]
  },
  {
   "cell_type": "code",
   "execution_count": 33,
   "metadata": {},
   "outputs": [],
   "source": [
    "#error\n",
    "#error = x_array[0] - output\n",
    "#print(error)"
   ]
  },
  {
   "cell_type": "code",
   "execution_count": 34,
   "metadata": {},
   "outputs": [],
   "source": [
    "#x_noise\n",
    "#MSE = np.square(np.subtract(x_array[0],output)).mean() \n",
    "#cost_func = 0.5*(x_array[0] - output)\n",
    "#ideally when training is finished, cost func is 0\n",
    "#print(MSE)"
   ]
  },
  {
   "cell_type": "code",
   "execution_count": 35,
   "metadata": {},
   "outputs": [],
   "source": [
    "###BACK PROPAGATE###\n",
    "#slope (change in weight)is input value(target_value - output_value)\n",
    "#new weight is old weight plus slope"
   ]
  },
  {
   "cell_type": "code",
   "execution_count": 36,
   "metadata": {},
   "outputs": [
    {
     "ename": "NameError",
     "evalue": "name 'x_array' is not defined",
     "output_type": "error",
     "traceback": [
      "\u001b[1;31m---------------------------------------------------------------------------\u001b[0m",
      "\u001b[1;31mNameError\u001b[0m                                 Traceback (most recent call last)",
      "\u001b[1;32m<ipython-input-36-f6b36d7f0e43>\u001b[0m in \u001b[0;36m<module>\u001b[1;34m\u001b[0m\n\u001b[0;32m      2\u001b[0m \u001b[1;31m#should i take OG weight input or input depending on network nodes(maintain LR betwen std dev)\u001b[0m\u001b[1;33m\u001b[0m\u001b[1;33m\u001b[0m\u001b[1;33m\u001b[0m\u001b[0m\n\u001b[0;32m      3\u001b[0m \u001b[1;33m\u001b[0m\u001b[0m\n\u001b[1;32m----> 4\u001b[1;33m \u001b[0mweight_change\u001b[0m \u001b[1;33m=\u001b[0m  \u001b[1;33m-\u001b[0m\u001b[0mx_noise\u001b[0m\u001b[1;33m[\u001b[0m\u001b[1;36m0\u001b[0m\u001b[1;33m]\u001b[0m\u001b[1;33m*\u001b[0m\u001b[1;33m(\u001b[0m\u001b[0mx_array\u001b[0m\u001b[1;33m[\u001b[0m\u001b[1;36m0\u001b[0m\u001b[1;33m]\u001b[0m \u001b[1;33m-\u001b[0m \u001b[0moutput\u001b[0m\u001b[1;33m)\u001b[0m\u001b[1;33m\u001b[0m\u001b[1;33m\u001b[0m\u001b[0m\n\u001b[0m\u001b[0;32m      5\u001b[0m \u001b[0mprint\u001b[0m \u001b[1;33m(\u001b[0m\u001b[0mweight_change\u001b[0m\u001b[1;33m)\u001b[0m\u001b[1;33m\u001b[0m\u001b[1;33m\u001b[0m\u001b[0m\n",
      "\u001b[1;31mNameError\u001b[0m: name 'x_array' is not defined"
     ]
    }
   ],
   "source": [
    "#iterating through all weights and changing it\n",
    "#should i take OG weight input or input depending on network nodes(maintain LR betwen std dev)\n",
    "\n",
    "weight_change =  -x_noise[0]*(x_array[0] - output)\n",
    "print (weight_change)"
   ]
  },
  {
   "cell_type": "code",
   "execution_count": null,
   "metadata": {},
   "outputs": [],
   "source": [
    "MSE = 80\n",
    "act_array = [] #actual\n",
    "#out_array = [] #ntwork output\n",
    "hidden_activations = []\n",
    "cost = 0\n",
    "while(MSE > 0.021):\n",
    "    i = 0\n",
    "    while i < len(x_noise):\n",
    "        activation_vals1 =np.dot(x_noise[i],rand_array)\n",
    "        c = 0\n",
    "        #hidden node input for this case is the input cause it only has 1 hiddenlayer\n",
    "        #so: net(1) =x_noise[i]\n",
    "        for k in range(len(activation_vals1)):\n",
    "            activate = sigmoid_activation(activation_vals1[c])\n",
    "            activation_vals1[c] = activate\n",
    "            print(\"activation: \", activate)\n",
    "            #these are outputs from hidden node therefore x = activation_vals1[i]\n",
    "            c+=1\n",
    "        output = np.dot(activation_vals1,weights_2)\n",
    "        activate_out = sigmoid_activation(output)\n",
    "        out_array.append(output)\n",
    "        act_array.append(x_array[i])\n",
    "        #error every 10 samples \n",
    "        if(i%10 == 0):\n",
    "            w = i - 1\n",
    "            cost = 0.5*(x_array[i] - out_array[i])\n",
    "            MSE = np.square(np.subtract(act_array,out_array)).mean()\n",
    "            #change weights\n",
    "            #2 weight changes. First from output layer whose inputs are activations from hidden layer\n",
    "            LR = 0.28\n",
    "            weight_change = -LR*x_noise[i]*(MSE)\n",
    "            #change all weights\n",
    "            z = 0\n",
    "            while z < len(rand_array):\n",
    "                rand_array[z] = rand_array[z]+weight_change\n",
    "                weights_2[z] = weights_2[z] + weight_change\n",
    "                z+=1\n",
    "            print(\"Cost: \",cost)\n",
    "        i +=1   "
   ]
  },
  {
   "cell_type": "code",
   "execution_count": null,
   "metadata": {},
   "outputs": [],
   "source": [
    "len(x_noise)"
   ]
  },
  {
   "cell_type": "code",
   "execution_count": null,
   "metadata": {},
   "outputs": [],
   "source": [
    "#x = n*(1 - n)(SIGMOID DERIVATIVE)"
   ]
  },
  {
   "cell_type": "code",
   "execution_count": null,
   "metadata": {},
   "outputs": [],
   "source": [
    "print(x_exact_save1)"
   ]
  },
  {
   "cell_type": "code",
   "execution_count": null,
   "metadata": {},
   "outputs": [],
   "source": []
  },
  {
   "cell_type": "code",
   "execution_count": null,
   "metadata": {},
   "outputs": [],
   "source": []
  }
 ],
 "metadata": {
  "kernelspec": {
   "display_name": "Python 3",
   "language": "python",
   "name": "python3"
  },
  "language_info": {
   "codemirror_mode": {
    "name": "ipython",
    "version": 3
   },
   "file_extension": ".py",
   "mimetype": "text/x-python",
   "name": "python",
   "nbconvert_exporter": "python",
   "pygments_lexer": "ipython3",
   "version": "3.7.4"
  }
 },
 "nbformat": 4,
 "nbformat_minor": 2
}
