{
 "cells": [
  {
   "cell_type": "markdown",
   "metadata": {},
   "source": [
    "# Part 1: Simulating the robot"
   ]
  },
  {
   "cell_type": "code",
   "execution_count": 1,
   "metadata": {},
   "outputs": [],
   "source": [
    "import numpy as np\n",
    "import random as rand\n",
    "import numpy as np\n",
    "import matplotlib.pyplot as plt\n",
    "import math\n",
    "import csv\n",
    "from scipy.stats import norm\n",
    "import seaborn as sns\n",
    "import pandas as pd\n",
    "\n",
    "def func(U,x):\n",
    "    #-2x+2U\n",
    "    val = -(2*x) + 2*U\n",
    "    return val\n",
    "def simulation(x,t,h):\n",
    "    save = 0\n",
    "    U_save = []\n",
    "    t_save = []\n",
    "    x_save = []\n",
    "    x_exact_save = []\n",
    "\n",
    "    U_array = []\n",
    "    t_array = []\n",
    "    x_array = []\n",
    "    x_exact_array = []\n",
    "    while(t <= 15):\n",
    "        if(t <= 5):\n",
    "            U = 2\n",
    "        elif(t < 5 or t <= 10):\n",
    "            U = 1\n",
    "        elif(t < 10 or t <=15):\n",
    "            U = 3\n",
    "        #print(\"U value:\", x)\n",
    "        U_array.append(U)\n",
    "        k = h * func(U,x)\n",
    "        x = x + k\n",
    "        t = t + h\n",
    "        #value under graph\n",
    "        x_exact = U - math.exp(-2*t)\n",
    "        t_array.append(t)\n",
    "        x_array.append(x)\n",
    "        x_exact_array.append(x_exact)\n",
    "        save+=1\n",
    "        #save every 10th integral if h<=0.01\n",
    "        if(save%10 == 0):\n",
    "            U_save.append(U)\n",
    "            t_save.append(t)\n",
    "            x_save.append(x)\n",
    "            x_exact_save.append(x_exact)\n",
    "            #print(\"save1: \",save)\n",
    "        #print(\"Where it is: \",x,\"Exact pos= \",x_exact,\"Time: \",t)\n",
    "    return U_save,t_save,x_save,x_exact_save,U_array,t_array,x_array,x_exact_array "
   ]
  },
  {
   "cell_type": "markdown",
   "metadata": {},
   "source": [
    "The following step sizes were provided to measure against: 0.75, .5, 0.25, 0.01, 0.001\n"
   ]
  },
  {
   "cell_type": "markdown",
   "metadata": {},
   "source": [
    "## Step size 0.001"
   ]
  },
  {
   "cell_type": "code",
   "execution_count": 2,
   "metadata": {},
   "outputs": [],
   "source": [
    "U_save1 = []\n",
    "t_save1 = []\n",
    "x_save1 = []\n",
    "x_exact_save1 = []\n",
    "\n",
    "\n",
    "##saves every time\n",
    "U_array1 = []\n",
    "t_array1 = []\n",
    "x_array1 = []\n",
    "x_exact_array1 = []\n",
    "\n",
    "#step size \n",
    "U_save1,t_save1,x_save1,x_exact_save1,U_array1,t_array1,x_array1,x_exact_array1=simulation(0,0,0.001)\n",
    "\n",
    "#0.35 for bell curve"
   ]
  },
  {
   "cell_type": "markdown",
   "metadata": {},
   "source": [
    "## Step size 0.01"
   ]
  },
  {
   "cell_type": "code",
   "execution_count": 3,
   "metadata": {},
   "outputs": [],
   "source": [
    "U_save2 = []\n",
    "t_save2 = []\n",
    "x_save2 = []\n",
    "x_exact_save2 = []\n",
    "\n",
    "\n",
    "##saves every time\n",
    "U_array2 = []\n",
    "t_array2 = []\n",
    "x_array2 = []\n",
    "x_exact_array2 = []\n",
    "\n",
    "#step size \n",
    "U_save2,t_save2,x_save2,x_exact_save2,U_array2,t_array2,x_array2,x_exact_array2=simulation(0,0,0.01)\n",
    "\n",
    "#0.35 for bell curve"
   ]
  },
  {
   "cell_type": "markdown",
   "metadata": {},
   "source": [
    "## Step size 0.25"
   ]
  },
  {
   "cell_type": "code",
   "execution_count": 4,
   "metadata": {},
   "outputs": [],
   "source": [
    "U_save3 = []\n",
    "t_save3 = []\n",
    "x_save3 = []\n",
    "x_exact_save3 = []\n",
    "\n",
    "\n",
    "##saves every time\n",
    "U_array3 = []\n",
    "t_array3 = []\n",
    "x_array3 = []\n",
    "x_exact_array3 = []\n",
    "\n",
    "#step size \n",
    "U_save3,t_save3,x_save3,x_exact_save3,U_array3,t_array3,x_array3,x_exact_array3=simulation(0,0,0.25)"
   ]
  },
  {
   "cell_type": "markdown",
   "metadata": {},
   "source": [
    "## Step size 0.5"
   ]
  },
  {
   "cell_type": "code",
   "execution_count": 5,
   "metadata": {},
   "outputs": [],
   "source": [
    "U_save4 = []\n",
    "t_save4 = []\n",
    "x_save4 = []\n",
    "x_exact_save4 = []\n",
    "\n",
    "\n",
    "##saves every time\n",
    "U_array4 = []\n",
    "t_array4 = []\n",
    "x_array4 = []\n",
    "x_exact_array4 = []\n",
    "\n",
    "#step size \n",
    "U_save4,t_save4,x_save4,x_exact_save4,U_array4,t_array4,x_array4,x_exact_array4=simulation(0,0,0.5)"
   ]
  },
  {
   "cell_type": "markdown",
   "metadata": {},
   "source": [
    "## Step size 0.75"
   ]
  },
  {
   "cell_type": "code",
   "execution_count": 6,
   "metadata": {},
   "outputs": [],
   "source": [
    "U_save5 = []\n",
    "t_save5 = []\n",
    "x_save5 = []\n",
    "x_exact_save5 = []\n",
    "\n",
    "\n",
    "##saves every time\n",
    "U_array5 = []\n",
    "t_array5 = []\n",
    "x_array5 = []\n",
    "x_exact_array5 = []\n",
    "\n",
    "#step size \n",
    "U_save5,t_save5,x_save5,x_exact_save5,U_array5,t_array5,x_array5,x_exact_array5=simulation(0,0,0.75)"
   ]
  },
  {
   "cell_type": "markdown",
   "metadata": {},
   "source": [
    "## Saving values into a dataframe and plotting it "
   ]
  },
  {
   "cell_type": "code",
   "execution_count": 7,
   "metadata": {},
   "outputs": [],
   "source": [
    "data1 = {'X':x_array1,'T':t_array1}\n",
    "df1 = pd.DataFrame(data1)\n",
    "data2 = {'X':x_array2,'T':t_array2}\n",
    "df2= pd.DataFrame(data2)\n",
    "data3 = {'X':x_array3,'T':t_array3}\n",
    "df3= pd.DataFrame(data3)\n",
    "data4= {'X':x_array4,'T':t_array4}\n",
    "df4= pd.DataFrame(data4)\n",
    "data5= {'X':x_array5,'T':t_array5}\n",
    "df5= pd.DataFrame(data5)"
   ]
  },
  {
   "cell_type": "code",
   "execution_count": 8,
   "metadata": {},
   "outputs": [
    {
     "data": {
      "image/png": "[encoded data removed]",
      "text/plain": [
       "<Figure size 432x288 with 1 Axes>"
      ]
     },
     "metadata": {
      "needs_background": "light"
     },
     "output_type": "display_data"
    }
   ],
   "source": [
    "plt3 = sns.lineplot(x=\"T\", y=\"X\", data=df1) #blue\n",
    "plt4 = sns.lineplot(x=\"T\", y=\"X\", data=df2) #Orange\n",
    "plt5 = sns.lineplot(x=\"T\", y=\"X\", data=df3) #Green\n",
    "plt6 = sns.lineplot(x=\"T\", y=\"X\", data=df4) #Red\n",
    "plt7 = sns.lineplot(x=\"T\", y=\"X\", data=df5) #Purple"
   ]
  },
  {
   "cell_type": "markdown",
   "metadata": {},
   "source": [
    "## Error evaluation against step size"
   ]
  },
  {
   "cell_type": "code",
   "execution_count": null,
   "metadata": {},
   "outputs": [],
   "source": []
  },
  {
   "cell_type": "code",
   "execution_count": null,
   "metadata": {},
   "outputs": [],
   "source": []
  },
  {
   "cell_type": "code",
   "execution_count": null,
   "metadata": {},
   "outputs": [],
   "source": []
  },
  {
   "cell_type": "code",
   "execution_count": null,
   "metadata": {},
   "outputs": [],
   "source": []
  },
  {
   "cell_type": "markdown",
   "metadata": {},
   "source": [
    "# Part 2: Random Noise using Box Muller Method"
   ]
  },
  {
   "cell_type": "markdown",
   "metadata": {},
   "source": [
    "## Initialise/Compute standard deviation and mean"
   ]
  },
  {
   "cell_type": "code",
   "execution_count": 9,
   "metadata": {},
   "outputs": [
    {
     "name": "stdout",
     "output_type": "stream",
     "text": [
      "deviation:  0.0431 mean:  0.5 DEVIATION:  0.7789244866974134 MEAN:  1.900142980914039\n"
     ]
    }
   ],
   "source": [
    "import statistics as stat\n",
    "std_dev1 = stat.stdev(x_array1)\n",
    "_mean1 = stat.mean(x_array1)\n",
    "\n",
    "std_dev = 0.0431\n",
    "_mean = 0.5\n",
    "print(\"deviation: \",std_dev,\"mean: \",_mean,\"DEVIATION: \",std_dev1,\"MEAN: \",_mean1)"
   ]
  },
  {
   "cell_type": "markdown",
   "metadata": {},
   "source": [
    "## compute box muller algorithm"
   ]
  },
  {
   "cell_type": "code",
   "execution_count": 10,
   "metadata": {},
   "outputs": [],
   "source": [
    "def box_muller(array,standard_deviation,mean):\n",
    "    random_vls = []\n",
    "    i = 0\n",
    "    it = 0\n",
    "    while i < len(array):\n",
    "        if(it == 0):\n",
    "            z1 =  rand.uniform(0,2*np.pi)\n",
    "            b  =  standard_deviation*np.sqrt(-2*math.log(rand.uniform(0,1)))\n",
    "            z2 =  b*(math.sin(z1))+mean\n",
    "            z3 =  b*(math.cos(z1))+mean\n",
    "            noise = array[i] + z2\n",
    "            random_vls.append(noise)\n",
    "            it = 1\n",
    "            i = i + 1\n",
    "        else:\n",
    "            it = 0\n",
    "            noise = array[i] + z3\n",
    "            random_vls.append(noise)\n",
    "            i= i + 1\n",
    "    return random_vls"
   ]
  },
  {
   "cell_type": "code",
   "execution_count": 11,
   "metadata": {},
   "outputs": [],
   "source": [
    "random_vals = []\n",
    "random_vals = box_muller(x_save2,std_dev,_mean)"
   ]
  },
  {
   "cell_type": "markdown",
   "metadata": {},
   "source": [
    "## Noise plot"
   ]
  },
  {
   "cell_type": "code",
   "execution_count": 12,
   "metadata": {},
   "outputs": [
    {
     "data": {
      "image/png": "[encoded data removed]",
      "text/plain": [
       "<Figure size 432x288 with 1 Axes>"
      ]
     },
     "metadata": {
      "needs_background": "light"
     },
     "output_type": "display_data"
    }
   ],
   "source": [
    "y = random_vals\n",
    "x = t_save2\n",
    "plt.plot(x,y,\"b\") #actual\n",
    "plt.show()"
   ]
  },
  {
   "cell_type": "markdown",
   "metadata": {},
   "source": [
    "## Proof that numbers generated fall within a gaussian distribution"
   ]
  },
  {
   "cell_type": "code",
   "execution_count": 13,
   "metadata": {},
   "outputs": [
    {
     "data": {
      "text/plain": [
       "<matplotlib.axes._subplots.AxesSubplot at 0x1cbc7314cc8>"
      ]
     },
     "execution_count": 13,
     "metadata": {},
     "output_type": "execute_result"
    },
    {
     "data": {
      "image/png": "[encoded data removed]",
      "text/plain": [
       "<Figure size 432x288 with 1 Axes>"
      ]
     },
     "metadata": {
      "needs_background": "light"
     },
     "output_type": "display_data"
    }
   ],
   "source": [
    "sns.distplot(random_vals)"
   ]
  },
  {
   "cell_type": "markdown",
   "metadata": {},
   "source": [
    "# Part 3: Adding an intelligent agent to track the noise"
   ]
  },
  {
   "cell_type": "code",
   "execution_count": 116,
   "metadata": {},
   "outputs": [],
   "source": [
    "##--------------------------------SINGLE PERCEPTRON-----------------------------------------------##\n",
    "def sigmoid_activation(val):\n",
    "  sigmoid = 1/1+np.exp(-val)\n",
    "  return sigmoid\n",
    "\n",
    "def predict_step(noise1,weights1):\n",
    "    net_sum1 = 0\n",
    "    net_sum1 = weights1[0]\n",
    "    net_sum1+=weights1[1]*noise1\n",
    "    #print(\"netsum:  \",net_sum1)\n",
    "    return 1.0 if net_sum1 >= 0.5 else 0.0\n",
    "\n",
    "def predict(noise2,weights2):\n",
    "    net_sum = 0\n",
    "    net_sum = weights2[0]\n",
    "    net_sum += weights2[1]*noise2\n",
    "    activation2 = sigmoid_activation(net_sum)\n",
    "    return activation2, net_sum\n",
    "\n",
    "def train_weights(array, lr, loops):\n",
    "    weights3 = [-0.10,rand.uniform(0,1)]\n",
    "    for loop in range(loops):\n",
    "        net_array = []\n",
    "        error_array = []\n",
    "        sum_error = 0.0\n",
    "        for a in array:\n",
    "            prediction, netwrk_sum = predict(a,weights3)\n",
    "            Target = a\n",
    "            delta = Target - prediction\n",
    "            error = delta\n",
    "            error_array.append(error)\n",
    "            net_array.append(prediction)\n",
    "            weights3_change_bias= -lr*Target*error\n",
    "            weights3[0] = weights3[0] + weights3_change_bias\n",
    "            weights3_change= -lr*Target*error\n",
    "            weights3[1] = weights3[1] + weights3_change\n",
    "            sum_error += error**2\n",
    "        print('>epoch=%d, lrate=%.3f, error=%.3f' % (loop, lr, error))\n",
    "    return net_array,error_array\n",
    "\n",
    "def train_weights_step(array, lr, loops):\n",
    "    weights3 = [-0.10,rand.uniform(0,1)]\n",
    "    for loop in range(loops):\n",
    "        net_array = []\n",
    "        sum_error = 0.0\n",
    "        for a in array:\n",
    "            prediction = predict_step(a,weights3)\n",
    "            Target = a\n",
    "            delta = Target - prediction\n",
    "            error = delta\n",
    "            net_array.append(prediction)\n",
    "            #------------------------WEIGHTS UPDATED BY CORRESPONDING CURRENT ERROR-----------------------\n",
    "            weights3_change_bias= -lr*a*error\n",
    "            weights3[0] = weights3[0] + weights3_change_bias\n",
    "            weights3_change= -lr*a*error\n",
    "            weights3[1] = weights3[1] + weights3_change\n",
    "            #print(\"weight\",weights3[1])\n",
    "            sum_error += error**2\n",
    "        print('>epoch=%d, lrate=%.3f, error=%.3f' % (loop, lr, error))\n",
    "    return net_array\n",
    "####---------------------------------------MULTI PERCEPTRON---------------------------------------------####\n",
    "def train_weights3(array, lr, loops):\n",
    "    weights3 = [-0.10,rand.uniform(0,1),rand.uniform(0,1),rand.uniform(0,1)]\n",
    "    for loop in range(loops):\n",
    "        net_array = []\n",
    "        error_array = []\n",
    "        sum_error = 0.0\n",
    "        c = 0\n",
    "        for a in array:\n",
    "            prediction, netwrk_sum = predict3(a,weights3)\n",
    "            if c == 0:\n",
    "                Target = a[2]\n",
    "                #print(1)\n",
    "            elif c==1:\n",
    "                Target = a[1]\n",
    "            else:\n",
    "                Target = a[0]\n",
    "            delta = Target - prediction\n",
    "            error = delta\n",
    "            error_array.append(error)\n",
    "            net_array.append(prediction)\n",
    "            #------------------------WEIGHTS UPDATED BY CORRESPONDING CURRENT ERROR AND INPUT----------------------------------\n",
    "            weights3_change_bias = -a[0] *lr*(error) \n",
    "            #print(weights3_change_bias)\n",
    "            weights3[0] = weights3[0] + weights3_change_bias\n",
    "            weights3_change= -a[0]*(error)*lr\n",
    "            for i in range(len(a)-1):\n",
    "                weights3[i + 1] = weights3[i +1] + weights3_change\n",
    "            sum_error += error**2\n",
    "            c = c + 1\n",
    "        print('>epoch=%d, lrate=%.3f, error=%.3f, , sum_error=%.3f' % (loop, lr, error, sum_error))\n",
    "    return net_array,error_array\n",
    "\n",
    "def predict3(noise2,weights2):\n",
    "    net_sum = 0\n",
    "    net_sum = weights2[0]\n",
    "    for i in range(len(noise2)-1):\n",
    "        net_sum += weights2[i + 1] * noise2[i]\n",
    "    activation2 = sigmoid_activation(net_sum)\n",
    "    #print(\"activation\",activation2,\"sum\",net_sum)\n",
    "    return activation2, net_sum\n",
    "\n",
    "def triple_converter(array):\n",
    "    triple_array = []\n",
    "    c = 0\n",
    "    while c < len(array):\n",
    "        if c == 0:\n",
    "            triple_array.append([0,0,array[c]])\n",
    "        elif c == 1:\n",
    "            triple_array.append([0,array[c],array[c-1]])\n",
    "        else:\n",
    "            triple_array.append([array[c],array[c-1],array[c-2]])\n",
    "        c = c + 1\n",
    "    return triple_array"
   ]
  },
  {
   "cell_type": "markdown",
   "metadata": {},
   "source": [
    "## Train network using sigmoid"
   ]
  },
  {
   "cell_type": "code",
   "execution_count": 117,
   "metadata": {},
   "outputs": [
    {
     "name": "stdout",
     "output_type": "stream",
     "text": [
      ">epoch=0, lrate=0.010, error=0.086, , sum_error=46.051\n",
      ">epoch=1, lrate=0.010, error=0.086, , sum_error=38.541\n",
      ">epoch=2, lrate=0.010, error=0.086, , sum_error=38.541\n",
      ">epoch=3, lrate=0.010, error=0.086, , sum_error=38.541\n",
      ">epoch=4, lrate=0.010, error=0.086, , sum_error=38.541\n",
      ">epoch=5, lrate=0.010, error=0.086, , sum_error=38.541\n",
      ">epoch=6, lrate=0.010, error=0.086, , sum_error=38.541\n",
      ">epoch=7, lrate=0.010, error=0.086, , sum_error=38.541\n",
      ">epoch=8, lrate=0.010, error=0.086, , sum_error=38.541\n",
      ">epoch=9, lrate=0.010, error=0.086, , sum_error=38.541\n",
      ">epoch=10, lrate=0.010, error=0.086, , sum_error=38.541\n",
      ">epoch=11, lrate=0.010, error=0.086, , sum_error=38.541\n"
     ]
    }
   ],
   "source": [
    "dat1 = triple_converter(random_vals)\n",
    "\n",
    "values,e = train_weights3(dat1, 0.01,12)\n",
    "#0.006531\n",
    "\n",
    "#save to dataframe\n",
    "data6= {'Noise_values':dat1,'Trained':values,'Error':e,'T':t_save2}\n",
    "df6= pd.DataFrame(data6)"
   ]
  },
  {
   "cell_type": "code",
   "execution_count": 118,
   "metadata": {},
   "outputs": [
    {
     "data": {
      "text/html": [
       "<div>\n",
       "<style scoped>\n",
       "    .dataframe tbody tr th:only-of-type {\n",
       "        vertical-align: middle;\n",
       "    }\n",
       "\n",
       "    .dataframe tbody tr th {\n",
       "        vertical-align: top;\n",
       "    }\n",
       "\n",
       "    .dataframe thead th {\n",
       "        text-align: right;\n",
       "    }\n",
       "</style>\n",
       "<table border=\"1\" class=\"dataframe\">\n",
       "  <thead>\n",
       "    <tr style=\"text-align: right;\">\n",
       "      <th></th>\n",
       "      <th>Noise_values</th>\n",
       "      <th>Trained</th>\n",
       "      <th>Error</th>\n",
       "      <th>T</th>\n",
       "    </tr>\n",
       "  </thead>\n",
       "  <tbody>\n",
       "    <tr>\n",
       "      <td>0</td>\n",
       "      <td>[0, 0, 0.9363873984793333]</td>\n",
       "      <td>3.235165</td>\n",
       "      <td>-2.298778</td>\n",
       "      <td>0.1</td>\n",
       "    </tr>\n",
       "    <tr>\n",
       "      <td>1</td>\n",
       "      <td>[0, 1.1401439949910985, 0.9363873984793333]</td>\n",
       "      <td>3.673314</td>\n",
       "      <td>-2.533170</td>\n",
       "      <td>0.2</td>\n",
       "    </tr>\n",
       "    <tr>\n",
       "      <td>2</td>\n",
       "      <td>[1.4153431815359716, 1.1401439949910985, 0.936...</td>\n",
       "      <td>3.235646</td>\n",
       "      <td>-1.820303</td>\n",
       "      <td>0.3</td>\n",
       "    </tr>\n",
       "    <tr>\n",
       "      <td>3</td>\n",
       "      <td>[1.5699292584850162, 1.4153431815359716, 1.140...</td>\n",
       "      <td>3.065835</td>\n",
       "      <td>-1.495906</td>\n",
       "      <td>0.4</td>\n",
       "    </tr>\n",
       "    <tr>\n",
       "      <td>4</td>\n",
       "      <td>[1.7723371864898443, 1.5699292584850162, 1.415...</td>\n",
       "      <td>2.846076</td>\n",
       "      <td>-1.073739</td>\n",
       "      <td>0.5</td>\n",
       "    </tr>\n",
       "    <tr>\n",
       "      <td>...</td>\n",
       "      <td>...</td>\n",
       "      <td>...</td>\n",
       "      <td>...</td>\n",
       "      <td>...</td>\n",
       "    </tr>\n",
       "    <tr>\n",
       "      <td>145</td>\n",
       "      <td>[3.5057900411819154, 3.4903380282810876, 3.497...</td>\n",
       "      <td>3.485446</td>\n",
       "      <td>0.020344</td>\n",
       "      <td>14.6</td>\n",
       "    </tr>\n",
       "    <tr>\n",
       "      <td>146</td>\n",
       "      <td>[3.583354338048263, 3.5057900411819154, 3.4903...</td>\n",
       "      <td>3.481495</td>\n",
       "      <td>0.101860</td>\n",
       "      <td>14.7</td>\n",
       "    </tr>\n",
       "    <tr>\n",
       "      <td>147</td>\n",
       "      <td>[3.531202362925555, 3.583354338048263, 3.50579...</td>\n",
       "      <td>3.604566</td>\n",
       "      <td>-0.073364</td>\n",
       "      <td>14.8</td>\n",
       "    </tr>\n",
       "    <tr>\n",
       "      <td>148</td>\n",
       "      <td>[3.4212912382233966, 3.531202362925555, 3.5833...</td>\n",
       "      <td>3.564165</td>\n",
       "      <td>-0.142874</td>\n",
       "      <td>14.9</td>\n",
       "    </tr>\n",
       "    <tr>\n",
       "      <td>149</td>\n",
       "      <td>[3.4894099127090454, 3.4212912382233966, 3.531...</td>\n",
       "      <td>3.403736</td>\n",
       "      <td>0.085674</td>\n",
       "      <td>15.0</td>\n",
       "    </tr>\n",
       "  </tbody>\n",
       "</table>\n",
       "<p>150 rows × 4 columns</p>\n",
       "</div>"
      ],
      "text/plain": [
       "                                          Noise_values   Trained     Error  \\\n",
       "0                           [0, 0, 0.9363873984793333]  3.235165 -2.298778   \n",
       "1          [0, 1.1401439949910985, 0.9363873984793333]  3.673314 -2.533170   \n",
       "2    [1.4153431815359716, 1.1401439949910985, 0.936...  3.235646 -1.820303   \n",
       "3    [1.5699292584850162, 1.4153431815359716, 1.140...  3.065835 -1.495906   \n",
       "4    [1.7723371864898443, 1.5699292584850162, 1.415...  2.846076 -1.073739   \n",
       "..                                                 ...       ...       ...   \n",
       "145  [3.5057900411819154, 3.4903380282810876, 3.497...  3.485446  0.020344   \n",
       "146  [3.583354338048263, 3.5057900411819154, 3.4903...  3.481495  0.101860   \n",
       "147  [3.531202362925555, 3.583354338048263, 3.50579...  3.604566 -0.073364   \n",
       "148  [3.4212912382233966, 3.531202362925555, 3.5833...  3.564165 -0.142874   \n",
       "149  [3.4894099127090454, 3.4212912382233966, 3.531...  3.403736  0.085674   \n",
       "\n",
       "        T  \n",
       "0     0.1  \n",
       "1     0.2  \n",
       "2     0.3  \n",
       "3     0.4  \n",
       "4     0.5  \n",
       "..    ...  \n",
       "145  14.6  \n",
       "146  14.7  \n",
       "147  14.8  \n",
       "148  14.9  \n",
       "149  15.0  \n",
       "\n",
       "[150 rows x 4 columns]"
      ]
     },
     "execution_count": 118,
     "metadata": {},
     "output_type": "execute_result"
    }
   ],
   "source": [
    "df6"
   ]
  },
  {
   "cell_type": "markdown",
   "metadata": {},
   "source": [
    "## Network prediction(blue) against noise values(yellow)"
   ]
  },
  {
   "cell_type": "code",
   "execution_count": null,
   "metadata": {},
   "outputs": [],
   "source": []
  },
  {
   "cell_type": "code",
   "execution_count": 119,
   "metadata": {},
   "outputs": [
    {
     "data": {
      "image/png": "[encoded data removed]",
      "text/plain": [
       "<Figure size 432x288 with 1 Axes>"
      ]
     },
     "metadata": {
      "needs_background": "light"
     },
     "output_type": "display_data"
    }
   ],
   "source": [
    "y_axis = values #network output\n",
    "y = random_vals\n",
    "x_axis = x = t_save2\n",
    "plt.plot(x,y,\"y\") #actual\n",
    "plt.plot(x_axis,y_axis,\"b\")#noise\n",
    "plt.show()"
   ]
  },
  {
   "cell_type": "markdown",
   "metadata": {},
   "source": [
    "## Train network using step function"
   ]
  },
  {
   "cell_type": "code",
   "execution_count": 120,
   "metadata": {},
   "outputs": [
    {
     "name": "stdout",
     "output_type": "stream",
     "text": [
      ">epoch=0, lrate=0.007, error=3.489\n",
      ">epoch=1, lrate=0.007, error=3.489\n",
      ">epoch=2, lrate=0.007, error=3.489\n",
      ">epoch=3, lrate=0.007, error=3.489\n",
      ">epoch=4, lrate=0.007, error=3.489\n",
      ">epoch=5, lrate=0.007, error=3.489\n",
      ">epoch=6, lrate=0.007, error=3.489\n",
      ">epoch=7, lrate=0.007, error=3.489\n",
      ">epoch=8, lrate=0.007, error=3.489\n",
      ">epoch=9, lrate=0.007, error=3.489\n"
     ]
    }
   ],
   "source": [
    "values1 = train_weights_step(random_vals, 0.006531,10)"
   ]
  },
  {
   "cell_type": "code",
   "execution_count": 121,
   "metadata": {},
   "outputs": [
    {
     "data": {
      "image/png": "[encoded data removed]",
      "text/plain": [
       "<Figure size 432x288 with 1 Axes>"
      ]
     },
     "metadata": {
      "needs_background": "light"
     },
     "output_type": "display_data"
    }
   ],
   "source": [
    "y_axis = values1 #network output\n",
    "y = random_vals\n",
    "x_axis = x = t_save2\n",
    "plt.plot(x,y,\"y\") #robot\n",
    "plt.plot(x_axis,y_axis,\"b\")#tracker\n",
    "plt.show()"
   ]
  },
  {
   "cell_type": "code",
   "execution_count": null,
   "metadata": {},
   "outputs": [],
   "source": [
    "df6"
   ]
  },
  {
   "cell_type": "markdown",
   "metadata": {},
   "source": [
    "## Perceptron values against different noise samples(Sigmoid)"
   ]
  },
  {
   "cell_type": "markdown",
   "metadata": {},
   "source": [
    "### Adding noise to other step sizes using box muller"
   ]
  },
  {
   "cell_type": "markdown",
   "metadata": {},
   "source": [
    "#### Example 1(step size =0.1)"
   ]
  },
  {
   "cell_type": "code",
   "execution_count": 76,
   "metadata": {},
   "outputs": [
    {
     "name": "stdout",
     "output_type": "stream",
     "text": [
      ">epoch=0, lrate=0.010, error=0.079, , sum_error=43.791\n"
     ]
    }
   ],
   "source": [
    "random_vals1 = []\n",
    "random_vals1 = box_muller(x_save1,std_dev,_mean)\n",
    "random_vals_t1 = []\n",
    "random_vals_t1 = triple_converter(random_vals1)\n",
    "\n",
    "#values,e = train_weights3(dat1, 0.01,1)\n",
    "#0.006531\n",
    "values1,e1 = train_weights3(random_vals_t1, 0.01,1)"
   ]
  },
  {
   "cell_type": "code",
   "execution_count": 77,
   "metadata": {},
   "outputs": [
    {
     "data": {
      "image/png": "[encoded data removed]",
      "text/plain": [
       "<Figure size 432x288 with 1 Axes>"
      ]
     },
     "metadata": {
      "needs_background": "light"
     },
     "output_type": "display_data"
    }
   ],
   "source": [
    "y_axis = values1 #network output\n",
    "y = random_vals1\n",
    "x_axis = x = t_save1\n",
    "plt.plot(x,y,\"y\") #actual\n",
    "plt.plot(x_axis,y_axis,\"b\")#noise\n",
    "plt.show()"
   ]
  },
  {
   "cell_type": "markdown",
   "metadata": {},
   "source": [
    "## Error representation "
   ]
  },
  {
   "cell_type": "code",
   "execution_count": 78,
   "metadata": {},
   "outputs": [
    {
     "data": {
      "image/png": "[encoded data removed]",
      "text/plain": [
       "<Figure size 432x288 with 1 Axes>"
      ]
     },
     "metadata": {
      "needs_background": "light"
     },
     "output_type": "display_data"
    }
   ],
   "source": [
    "e_array = e1\n",
    "c = 0\n",
    "while c < len(e_array):\n",
    "    e_array[c] = abs(e_array[c])\n",
    "    c=c+1\n",
    "    \n",
    "y_axis = e_array #network output\n",
    "#y = x_array2\n",
    "x_axis = x = t_save1\n",
    "#plt.plot(x,y,\"y\") #x_noise values\n",
    "plt.plot(x_axis,y_axis,\"b\")#percebtron(blue)\n",
    "plt.show()"
   ]
  },
  {
   "cell_type": "code",
   "execution_count": 79,
   "metadata": {},
   "outputs": [
    {
     "data": {
      "text/plain": [
       "1500"
      ]
     },
     "execution_count": 79,
     "metadata": {},
     "output_type": "execute_result"
    }
   ],
   "source": [
    "len(e1)"
   ]
  },
  {
   "cell_type": "code",
   "execution_count": 80,
   "metadata": {},
   "outputs": [
    {
     "data": {
      "text/html": [
       "<div>\n",
       "<style scoped>\n",
       "    .dataframe tbody tr th:only-of-type {\n",
       "        vertical-align: middle;\n",
       "    }\n",
       "\n",
       "    .dataframe tbody tr th {\n",
       "        vertical-align: top;\n",
       "    }\n",
       "\n",
       "    .dataframe thead th {\n",
       "        text-align: right;\n",
       "    }\n",
       "</style>\n",
       "<table border=\"1\" class=\"dataframe\">\n",
       "  <thead>\n",
       "    <tr style=\"text-align: right;\">\n",
       "      <th></th>\n",
       "      <th>Noise_values</th>\n",
       "      <th>Network_output</th>\n",
       "      <th>Error</th>\n",
       "      <th>T</th>\n",
       "    </tr>\n",
       "  </thead>\n",
       "  <tbody>\n",
       "    <tr>\n",
       "      <td>0</td>\n",
       "      <td>[0, 0, 0.5660989878917942]</td>\n",
       "      <td>2.105171</td>\n",
       "      <td>1.539072</td>\n",
       "      <td>0.01</td>\n",
       "    </tr>\n",
       "    <tr>\n",
       "      <td>1</td>\n",
       "      <td>[0, 0.5790254600107857, 0.5660989878917942]</td>\n",
       "      <td>1.971071</td>\n",
       "      <td>1.392045</td>\n",
       "      <td>0.02</td>\n",
       "    </tr>\n",
       "    <tr>\n",
       "      <td>2</td>\n",
       "      <td>[0.627435334185479, 0.5790254600107857, 0.5660...</td>\n",
       "      <td>1.522742</td>\n",
       "      <td>0.895307</td>\n",
       "      <td>0.03</td>\n",
       "    </tr>\n",
       "    <tr>\n",
       "      <td>3</td>\n",
       "      <td>[0.6780114189075086, 0.627435334185479, 0.5790...</td>\n",
       "      <td>1.485608</td>\n",
       "      <td>0.807596</td>\n",
       "      <td>0.04</td>\n",
       "    </tr>\n",
       "    <tr>\n",
       "      <td>4</td>\n",
       "      <td>[0.6895287169718609, 0.6780114189075086, 0.627...</td>\n",
       "      <td>1.468446</td>\n",
       "      <td>0.778918</td>\n",
       "      <td>0.05</td>\n",
       "    </tr>\n",
       "    <tr>\n",
       "      <td>...</td>\n",
       "      <td>...</td>\n",
       "      <td>...</td>\n",
       "      <td>...</td>\n",
       "      <td>...</td>\n",
       "    </tr>\n",
       "    <tr>\n",
       "      <td>1495</td>\n",
       "      <td>[3.476979144233681, 3.564246773396724, 3.51912...</td>\n",
       "      <td>3.675934</td>\n",
       "      <td>0.198955</td>\n",
       "      <td>14.96</td>\n",
       "    </tr>\n",
       "    <tr>\n",
       "      <td>1496</td>\n",
       "      <td>[3.4887646294408494, 3.476979144233681, 3.5642...</td>\n",
       "      <td>3.432858</td>\n",
       "      <td>0.055907</td>\n",
       "      <td>14.97</td>\n",
       "    </tr>\n",
       "    <tr>\n",
       "      <td>1497</td>\n",
       "      <td>[3.4608042951455977, 3.4887646294408494, 3.476...</td>\n",
       "      <td>3.507699</td>\n",
       "      <td>0.046894</td>\n",
       "      <td>14.98</td>\n",
       "    </tr>\n",
       "    <tr>\n",
       "      <td>1498</td>\n",
       "      <td>[3.462854547389596, 3.4608042951455977, 3.4887...</td>\n",
       "      <td>3.445829</td>\n",
       "      <td>0.017026</td>\n",
       "      <td>14.99</td>\n",
       "    </tr>\n",
       "    <tr>\n",
       "      <td>1499</td>\n",
       "      <td>[3.503409319861826, 3.462854547389596, 3.46080...</td>\n",
       "      <td>3.423954</td>\n",
       "      <td>0.079455</td>\n",
       "      <td>15.00</td>\n",
       "    </tr>\n",
       "  </tbody>\n",
       "</table>\n",
       "<p>1500 rows × 4 columns</p>\n",
       "</div>"
      ],
      "text/plain": [
       "                                           Noise_values  Network_output  \\\n",
       "0                            [0, 0, 0.5660989878917942]        2.105171   \n",
       "1           [0, 0.5790254600107857, 0.5660989878917942]        1.971071   \n",
       "2     [0.627435334185479, 0.5790254600107857, 0.5660...        1.522742   \n",
       "3     [0.6780114189075086, 0.627435334185479, 0.5790...        1.485608   \n",
       "4     [0.6895287169718609, 0.6780114189075086, 0.627...        1.468446   \n",
       "...                                                 ...             ...   \n",
       "1495  [3.476979144233681, 3.564246773396724, 3.51912...        3.675934   \n",
       "1496  [3.4887646294408494, 3.476979144233681, 3.5642...        3.432858   \n",
       "1497  [3.4608042951455977, 3.4887646294408494, 3.476...        3.507699   \n",
       "1498  [3.462854547389596, 3.4608042951455977, 3.4887...        3.445829   \n",
       "1499  [3.503409319861826, 3.462854547389596, 3.46080...        3.423954   \n",
       "\n",
       "         Error      T  \n",
       "0     1.539072   0.01  \n",
       "1     1.392045   0.02  \n",
       "2     0.895307   0.03  \n",
       "3     0.807596   0.04  \n",
       "4     0.778918   0.05  \n",
       "...        ...    ...  \n",
       "1495  0.198955  14.96  \n",
       "1496  0.055907  14.97  \n",
       "1497  0.046894  14.98  \n",
       "1498  0.017026  14.99  \n",
       "1499  0.079455  15.00  \n",
       "\n",
       "[1500 rows x 4 columns]"
      ]
     },
     "execution_count": 80,
     "metadata": {},
     "output_type": "execute_result"
    }
   ],
   "source": [
    "data7= {'Noise_values':random_vals_t1,'Network_output':values1,'Error':e1,'T':t_save1}\n",
    "vis= pd.DataFrame(data7)\n",
    "vis"
   ]
  },
  {
   "cell_type": "markdown",
   "metadata": {},
   "source": [
    "#### Example 2(step size = 0.01)"
   ]
  },
  {
   "cell_type": "code",
   "execution_count": 81,
   "metadata": {},
   "outputs": [
    {
     "name": "stdout",
     "output_type": "stream",
     "text": [
      ">epoch=0, lrate=0.010, error=-0.047, , sum_error=35.686\n",
      ">epoch=1, lrate=0.010, error=-0.047, , sum_error=35.233\n",
      ">epoch=2, lrate=0.010, error=-0.047, , sum_error=35.233\n",
      ">epoch=3, lrate=0.010, error=-0.047, , sum_error=35.233\n",
      ">epoch=4, lrate=0.010, error=-0.047, , sum_error=35.233\n",
      ">epoch=5, lrate=0.010, error=-0.047, , sum_error=35.233\n",
      ">epoch=6, lrate=0.010, error=-0.047, , sum_error=35.233\n",
      ">epoch=7, lrate=0.010, error=-0.047, , sum_error=35.233\n",
      ">epoch=8, lrate=0.010, error=-0.047, , sum_error=35.233\n",
      ">epoch=9, lrate=0.010, error=-0.047, , sum_error=35.233\n"
     ]
    }
   ],
   "source": [
    "random_vals2 = []\n",
    "random_vals2 = box_muller(x_save2,std_dev,_mean)\n",
    "random_vals_t2 =[]\n",
    "random_vals_t2 = triple_converter(random_vals2)\n",
    "values2,e2 =train_weights3(random_vals_t2,0.01,10)"
   ]
  },
  {
   "cell_type": "code",
   "execution_count": 82,
   "metadata": {},
   "outputs": [
    {
     "data": {
      "image/png": "[encoded data removed]",
      "text/plain": [
       "<Figure size 432x288 with 1 Axes>"
      ]
     },
     "metadata": {
      "needs_background": "light"
     },
     "output_type": "display_data"
    }
   ],
   "source": [
    "y_axis = values2 #network output\n",
    "y = random_vals2 # x noise\n",
    "x_axis = x = t_save2\n",
    "plt.plot(x,y,\"y\") #actual\n",
    "plt.plot(x_axis,y_axis,\"b\")#noise\n",
    "plt.show()"
   ]
  },
  {
   "cell_type": "markdown",
   "metadata": {},
   "source": [
    "## Error representation"
   ]
  },
  {
   "cell_type": "code",
   "execution_count": 83,
   "metadata": {},
   "outputs": [
    {
     "data": {
      "image/png": "[encoded data removed]",
      "text/plain": [
       "<Figure size 432x288 with 1 Axes>"
      ]
     },
     "metadata": {
      "needs_background": "light"
     },
     "output_type": "display_data"
    }
   ],
   "source": [
    "e_array = e2\n",
    "c = 0\n",
    "while c < len(e_array):\n",
    "    e_array[c] = abs(e_array[c])\n",
    "    c=c+1\n",
    "    \n",
    "y_axis = e_array #network output\n",
    "#y = x_array2\n",
    "x_axis = x = t_save2\n",
    "#plt.plot(x,y,\"y\") #x_noise values\n",
    "plt.plot(x_axis,y_axis,\"b\")#percebtron(blue)\n",
    "plt.show()"
   ]
  },
  {
   "cell_type": "code",
   "execution_count": 84,
   "metadata": {},
   "outputs": [
    {
     "data": {
      "text/plain": [
       "150"
      ]
     },
     "execution_count": 84,
     "metadata": {},
     "output_type": "execute_result"
    }
   ],
   "source": [
    "len(values2)"
   ]
  },
  {
   "cell_type": "code",
   "execution_count": 85,
   "metadata": {},
   "outputs": [
    {
     "data": {
      "text/html": [
       "<div>\n",
       "<style scoped>\n",
       "    .dataframe tbody tr th:only-of-type {\n",
       "        vertical-align: middle;\n",
       "    }\n",
       "\n",
       "    .dataframe tbody tr th {\n",
       "        vertical-align: top;\n",
       "    }\n",
       "\n",
       "    .dataframe thead th {\n",
       "        text-align: right;\n",
       "    }\n",
       "</style>\n",
       "<table border=\"1\" class=\"dataframe\">\n",
       "  <thead>\n",
       "    <tr style=\"text-align: right;\">\n",
       "      <th></th>\n",
       "      <th>Noise_values</th>\n",
       "      <th>Network_output</th>\n",
       "      <th>Error</th>\n",
       "      <th>T</th>\n",
       "    </tr>\n",
       "  </thead>\n",
       "  <tbody>\n",
       "    <tr>\n",
       "      <td>0</td>\n",
       "      <td>[0, 0, 0.9447277927214542]</td>\n",
       "      <td>2.877623</td>\n",
       "      <td>1.932896</td>\n",
       "      <td>0.1</td>\n",
       "    </tr>\n",
       "    <tr>\n",
       "      <td>1</td>\n",
       "      <td>[0, 1.1700612914148498, 0.9447277927214542]</td>\n",
       "      <td>4.076733</td>\n",
       "      <td>2.906671</td>\n",
       "      <td>0.2</td>\n",
       "    </tr>\n",
       "    <tr>\n",
       "      <td>2</td>\n",
       "      <td>[1.402317874039579, 1.1700612914148498, 0.9447...</td>\n",
       "      <td>2.901769</td>\n",
       "      <td>1.499451</td>\n",
       "      <td>0.3</td>\n",
       "    </tr>\n",
       "    <tr>\n",
       "      <td>3</td>\n",
       "      <td>[1.6204417873746237, 1.402317874039579, 1.1700...</td>\n",
       "      <td>2.788538</td>\n",
       "      <td>1.168096</td>\n",
       "      <td>0.4</td>\n",
       "    </tr>\n",
       "    <tr>\n",
       "      <td>4</td>\n",
       "      <td>[1.790126779362448, 1.6204417873746237, 1.4023...</td>\n",
       "      <td>2.688116</td>\n",
       "      <td>0.897989</td>\n",
       "      <td>0.5</td>\n",
       "    </tr>\n",
       "    <tr>\n",
       "      <td>...</td>\n",
       "      <td>...</td>\n",
       "      <td>...</td>\n",
       "      <td>...</td>\n",
       "      <td>...</td>\n",
       "    </tr>\n",
       "    <tr>\n",
       "      <td>145</td>\n",
       "      <td>[3.4786828897897784, 3.4629368475514384, 3.552...</td>\n",
       "      <td>3.409016</td>\n",
       "      <td>0.069667</td>\n",
       "      <td>14.6</td>\n",
       "    </tr>\n",
       "    <tr>\n",
       "      <td>146</td>\n",
       "      <td>[3.427112857527625, 3.4786828897897784, 3.4629...</td>\n",
       "      <td>3.516330</td>\n",
       "      <td>0.089218</td>\n",
       "      <td>14.7</td>\n",
       "    </tr>\n",
       "    <tr>\n",
       "      <td>147</td>\n",
       "      <td>[3.4460362617337426, 3.427112857527625, 3.4786...</td>\n",
       "      <td>3.388031</td>\n",
       "      <td>0.058005</td>\n",
       "      <td>14.8</td>\n",
       "    </tr>\n",
       "    <tr>\n",
       "      <td>148</td>\n",
       "      <td>[3.4869910465674767, 3.4460362617337426, 3.427...</td>\n",
       "      <td>3.411098</td>\n",
       "      <td>0.075893</td>\n",
       "      <td>14.9</td>\n",
       "    </tr>\n",
       "    <tr>\n",
       "      <td>149</td>\n",
       "      <td>[3.4718191680029897, 3.4869910465674767, 3.446...</td>\n",
       "      <td>3.518362</td>\n",
       "      <td>0.046543</td>\n",
       "      <td>15.0</td>\n",
       "    </tr>\n",
       "  </tbody>\n",
       "</table>\n",
       "<p>150 rows × 4 columns</p>\n",
       "</div>"
      ],
      "text/plain": [
       "                                          Noise_values  Network_output  \\\n",
       "0                           [0, 0, 0.9447277927214542]        2.877623   \n",
       "1          [0, 1.1700612914148498, 0.9447277927214542]        4.076733   \n",
       "2    [1.402317874039579, 1.1700612914148498, 0.9447...        2.901769   \n",
       "3    [1.6204417873746237, 1.402317874039579, 1.1700...        2.788538   \n",
       "4    [1.790126779362448, 1.6204417873746237, 1.4023...        2.688116   \n",
       "..                                                 ...             ...   \n",
       "145  [3.4786828897897784, 3.4629368475514384, 3.552...        3.409016   \n",
       "146  [3.427112857527625, 3.4786828897897784, 3.4629...        3.516330   \n",
       "147  [3.4460362617337426, 3.427112857527625, 3.4786...        3.388031   \n",
       "148  [3.4869910465674767, 3.4460362617337426, 3.427...        3.411098   \n",
       "149  [3.4718191680029897, 3.4869910465674767, 3.446...        3.518362   \n",
       "\n",
       "        Error     T  \n",
       "0    1.932896   0.1  \n",
       "1    2.906671   0.2  \n",
       "2    1.499451   0.3  \n",
       "3    1.168096   0.4  \n",
       "4    0.897989   0.5  \n",
       "..        ...   ...  \n",
       "145  0.069667  14.6  \n",
       "146  0.089218  14.7  \n",
       "147  0.058005  14.8  \n",
       "148  0.075893  14.9  \n",
       "149  0.046543  15.0  \n",
       "\n",
       "[150 rows x 4 columns]"
      ]
     },
     "execution_count": 85,
     "metadata": {},
     "output_type": "execute_result"
    }
   ],
   "source": [
    "data8= {'Noise_values':random_vals_t2,'Network_output':values2,'Error':e2,'T':t_save2}\n",
    "vis1= pd.DataFrame(data8)\n",
    "vis1"
   ]
  },
  {
   "cell_type": "markdown",
   "metadata": {},
   "source": [
    "#### Example 3(step size = 0.5)"
   ]
  },
  {
   "cell_type": "code",
   "execution_count": 86,
   "metadata": {},
   "outputs": [
    {
     "name": "stdout",
     "output_type": "stream",
     "text": [
      ">epoch=0, lrate=0.011, error=-0.122, , sum_error=36.469\n",
      ">epoch=1, lrate=0.011, error=-0.123, , sum_error=18.235\n",
      ">epoch=2, lrate=0.011, error=-0.123, , sum_error=18.237\n",
      ">epoch=3, lrate=0.011, error=-0.123, , sum_error=18.237\n",
      ">epoch=4, lrate=0.011, error=-0.123, , sum_error=18.237\n"
     ]
    }
   ],
   "source": [
    "random_vals3 = []\n",
    "random_vals3 = box_muller(x_array4,std_dev,_mean)\n",
    "random_vals_t3 = []\n",
    "random_vals_t3 = triple_converter(random_vals3)\n",
    "values3,e3 = train_weights3(random_vals_t3, 0.011,5)"
   ]
  },
  {
   "cell_type": "code",
   "execution_count": 87,
   "metadata": {},
   "outputs": [
    {
     "data": {
      "image/png": "[encoded data removed]",
      "text/plain": [
       "<Figure size 432x288 with 1 Axes>"
      ]
     },
     "metadata": {
      "needs_background": "light"
     },
     "output_type": "display_data"
    }
   ],
   "source": [
    "y_axis = values3 #network output\n",
    "y = random_vals3 # x noise\n",
    "x_axis = x = t_array4\n",
    "plt.plot(x,y,\"y\") #actual\n",
    "plt.plot(x_axis,y_axis,\"b\")#noise\n",
    "plt.show()"
   ]
  },
  {
   "cell_type": "markdown",
   "metadata": {},
   "source": [
    "## Error representation"
   ]
  },
  {
   "cell_type": "code",
   "execution_count": 88,
   "metadata": {},
   "outputs": [
    {
     "data": {
      "image/png": "[encoded data removed]",
      "text/plain": [
       "<Figure size 432x288 with 1 Axes>"
      ]
     },
     "metadata": {
      "needs_background": "light"
     },
     "output_type": "display_data"
    }
   ],
   "source": [
    "e_array = e3\n",
    "c = 0\n",
    "while c < len(e_array):\n",
    "    e_array[c] = abs(e_array[c])\n",
    "    c=c+1\n",
    "    \n",
    "y_axis = e_array #network output\n",
    "#y = x_array2\n",
    "x_axis = x = t_array4\n",
    "#plt.plot(x,y,\"y\") #x_noise values\n",
    "plt.plot(x_axis,y_axis,\"b\")#percebtron(blue)\n",
    "plt.show()"
   ]
  },
  {
   "cell_type": "code",
   "execution_count": 89,
   "metadata": {},
   "outputs": [
    {
     "data": {
      "text/html": [
       "<div>\n",
       "<style scoped>\n",
       "    .dataframe tbody tr th:only-of-type {\n",
       "        vertical-align: middle;\n",
       "    }\n",
       "\n",
       "    .dataframe tbody tr th {\n",
       "        vertical-align: top;\n",
       "    }\n",
       "\n",
       "    .dataframe thead th {\n",
       "        text-align: right;\n",
       "    }\n",
       "</style>\n",
       "<table border=\"1\" class=\"dataframe\">\n",
       "  <thead>\n",
       "    <tr style=\"text-align: right;\">\n",
       "      <th></th>\n",
       "      <th>Noise_values</th>\n",
       "      <th>Network_output</th>\n",
       "      <th>Error</th>\n",
       "      <th>T</th>\n",
       "    </tr>\n",
       "  </thead>\n",
       "  <tbody>\n",
       "    <tr>\n",
       "      <td>0</td>\n",
       "      <td>[0, 0, 2.4598355176516984]</td>\n",
       "      <td>3.220183</td>\n",
       "      <td>0.760347</td>\n",
       "      <td>0.5</td>\n",
       "    </tr>\n",
       "    <tr>\n",
       "      <td>1</td>\n",
       "      <td>[0, 2.4959937014746756, 2.4598355176516984]</td>\n",
       "      <td>3.550114</td>\n",
       "      <td>1.054121</td>\n",
       "      <td>1.0</td>\n",
       "    </tr>\n",
       "    <tr>\n",
       "      <td>2</td>\n",
       "      <td>[2.5077360293563276, 2.4959937014746756, 2.459...</td>\n",
       "      <td>3.372083</td>\n",
       "      <td>0.864347</td>\n",
       "      <td>1.5</td>\n",
       "    </tr>\n",
       "    <tr>\n",
       "      <td>3</td>\n",
       "      <td>[2.4033689442322492, 2.5077360293563276, 2.495...</td>\n",
       "      <td>3.067816</td>\n",
       "      <td>0.664447</td>\n",
       "      <td>2.0</td>\n",
       "    </tr>\n",
       "    <tr>\n",
       "      <td>4</td>\n",
       "      <td>[2.5229337940411334, 2.4033689442322492, 2.507...</td>\n",
       "      <td>2.845565</td>\n",
       "      <td>0.322631</td>\n",
       "      <td>2.5</td>\n",
       "    </tr>\n",
       "    <tr>\n",
       "      <td>5</td>\n",
       "      <td>[2.540809940999607, 2.5229337940411334, 2.4033...</td>\n",
       "      <td>2.748786</td>\n",
       "      <td>0.207976</td>\n",
       "      <td>3.0</td>\n",
       "    </tr>\n",
       "    <tr>\n",
       "      <td>6</td>\n",
       "      <td>[2.5125572283402864, 2.540809940999607, 2.5229...</td>\n",
       "      <td>2.692261</td>\n",
       "      <td>0.179704</td>\n",
       "      <td>3.5</td>\n",
       "    </tr>\n",
       "    <tr>\n",
       "      <td>7</td>\n",
       "      <td>[2.484839641247729, 2.5125572283402864, 2.5408...</td>\n",
       "      <td>2.646504</td>\n",
       "      <td>0.161664</td>\n",
       "      <td>4.0</td>\n",
       "    </tr>\n",
       "    <tr>\n",
       "      <td>8</td>\n",
       "      <td>[2.5124098128186434, 2.484839641247729, 2.5125...</td>\n",
       "      <td>2.599720</td>\n",
       "      <td>0.087310</td>\n",
       "      <td>4.5</td>\n",
       "    </tr>\n",
       "    <tr>\n",
       "      <td>9</td>\n",
       "      <td>[2.4820981960711883, 2.5124098128186434, 2.484...</td>\n",
       "      <td>2.580828</td>\n",
       "      <td>0.098730</td>\n",
       "      <td>5.0</td>\n",
       "    </tr>\n",
       "    <tr>\n",
       "      <td>10</td>\n",
       "      <td>[2.4255052286568572, 2.4820981960711883, 2.512...</td>\n",
       "      <td>2.564994</td>\n",
       "      <td>0.139489</td>\n",
       "      <td>5.5</td>\n",
       "    </tr>\n",
       "    <tr>\n",
       "      <td>11</td>\n",
       "      <td>[1.5307086419561995, 2.4255052286568572, 2.482...</td>\n",
       "      <td>2.680939</td>\n",
       "      <td>1.150230</td>\n",
       "      <td>6.0</td>\n",
       "    </tr>\n",
       "    <tr>\n",
       "      <td>12</td>\n",
       "      <td>[1.4387337694323492, 1.5307086419561995, 2.425...</td>\n",
       "      <td>2.598183</td>\n",
       "      <td>1.159449</td>\n",
       "      <td>6.5</td>\n",
       "    </tr>\n",
       "    <tr>\n",
       "      <td>13</td>\n",
       "      <td>[1.5026203184914175, 1.4387337694323492, 1.530...</td>\n",
       "      <td>2.480278</td>\n",
       "      <td>0.977658</td>\n",
       "      <td>7.0</td>\n",
       "    </tr>\n",
       "    <tr>\n",
       "      <td>14</td>\n",
       "      <td>[1.5635501726529868, 1.5026203184914175, 1.438...</td>\n",
       "      <td>2.369324</td>\n",
       "      <td>0.805774</td>\n",
       "      <td>7.5</td>\n",
       "    </tr>\n",
       "    <tr>\n",
       "      <td>15</td>\n",
       "      <td>[1.5148614924136155, 1.5635501726529868, 1.502...</td>\n",
       "      <td>2.298245</td>\n",
       "      <td>0.783384</td>\n",
       "      <td>8.0</td>\n",
       "    </tr>\n",
       "    <tr>\n",
       "      <td>16</td>\n",
       "      <td>[1.5634599078209654, 1.5148614924136155, 1.563...</td>\n",
       "      <td>2.225910</td>\n",
       "      <td>0.662450</td>\n",
       "      <td>8.5</td>\n",
       "    </tr>\n",
       "    <tr>\n",
       "      <td>17</td>\n",
       "      <td>[1.4655645787424305, 1.5634599078209654, 1.514...</td>\n",
       "      <td>2.186436</td>\n",
       "      <td>0.720872</td>\n",
       "      <td>9.0</td>\n",
       "    </tr>\n",
       "    <tr>\n",
       "      <td>18</td>\n",
       "      <td>[1.4225947314464067, 1.4655645787424305, 1.563...</td>\n",
       "      <td>2.156084</td>\n",
       "      <td>0.733490</td>\n",
       "      <td>9.5</td>\n",
       "    </tr>\n",
       "    <tr>\n",
       "      <td>19</td>\n",
       "      <td>[1.4838752258145902, 1.4225947314464067, 1.465...</td>\n",
       "      <td>2.097224</td>\n",
       "      <td>0.613349</td>\n",
       "      <td>10.0</td>\n",
       "    </tr>\n",
       "    <tr>\n",
       "      <td>20</td>\n",
       "      <td>[1.5027828284185725, 1.4838752258145902, 1.422...</td>\n",
       "      <td>2.041350</td>\n",
       "      <td>0.538567</td>\n",
       "      <td>10.5</td>\n",
       "    </tr>\n",
       "    <tr>\n",
       "      <td>21</td>\n",
       "      <td>[3.5444596185215516, 1.5027828284185725, 1.483...</td>\n",
       "      <td>1.617142</td>\n",
       "      <td>1.927317</td>\n",
       "      <td>11.0</td>\n",
       "    </tr>\n",
       "    <tr>\n",
       "      <td>22</td>\n",
       "      <td>[3.5183178317079986, 3.5444596185215516, 1.502...</td>\n",
       "      <td>1.832674</td>\n",
       "      <td>1.685644</td>\n",
       "      <td>11.5</td>\n",
       "    </tr>\n",
       "    <tr>\n",
       "      <td>23</td>\n",
       "      <td>[3.475367647705836, 3.5183178317079986, 3.5444...</td>\n",
       "      <td>2.415353</td>\n",
       "      <td>1.060015</td>\n",
       "      <td>12.0</td>\n",
       "    </tr>\n",
       "    <tr>\n",
       "      <td>24</td>\n",
       "      <td>[3.5291499726405107, 3.475367647705836, 3.5183...</td>\n",
       "      <td>2.948527</td>\n",
       "      <td>0.580623</td>\n",
       "      <td>12.5</td>\n",
       "    </tr>\n",
       "    <tr>\n",
       "      <td>25</td>\n",
       "      <td>[3.508879200399993, 3.5291499726405107, 3.4753...</td>\n",
       "      <td>3.341741</td>\n",
       "      <td>0.167138</td>\n",
       "      <td>13.0</td>\n",
       "    </tr>\n",
       "    <tr>\n",
       "      <td>26</td>\n",
       "      <td>[3.480741927746009, 3.508879200399993, 3.52914...</td>\n",
       "      <td>3.465446</td>\n",
       "      <td>0.015296</td>\n",
       "      <td>13.5</td>\n",
       "    </tr>\n",
       "    <tr>\n",
       "      <td>27</td>\n",
       "      <td>[3.526673369885765, 3.480741927746009, 3.50887...</td>\n",
       "      <td>3.469951</td>\n",
       "      <td>0.056723</td>\n",
       "      <td>14.0</td>\n",
       "    </tr>\n",
       "    <tr>\n",
       "      <td>28</td>\n",
       "      <td>[3.4864400339655677, 3.526673369885765, 3.4807...</td>\n",
       "      <td>3.523261</td>\n",
       "      <td>0.036821</td>\n",
       "      <td>14.5</td>\n",
       "    </tr>\n",
       "    <tr>\n",
       "      <td>29</td>\n",
       "      <td>[3.5359880966059336, 3.4864400339655677, 3.526...</td>\n",
       "      <td>3.485810</td>\n",
       "      <td>0.050178</td>\n",
       "      <td>15.0</td>\n",
       "    </tr>\n",
       "    <tr>\n",
       "      <td>30</td>\n",
       "      <td>[3.416582657646911, 3.5359880966059336, 3.4864...</td>\n",
       "      <td>3.539910</td>\n",
       "      <td>0.123327</td>\n",
       "      <td>15.5</td>\n",
       "    </tr>\n",
       "  </tbody>\n",
       "</table>\n",
       "</div>"
      ],
      "text/plain": [
       "                                         Noise_values  Network_output  \\\n",
       "0                          [0, 0, 2.4598355176516984]        3.220183   \n",
       "1         [0, 2.4959937014746756, 2.4598355176516984]        3.550114   \n",
       "2   [2.5077360293563276, 2.4959937014746756, 2.459...        3.372083   \n",
       "3   [2.4033689442322492, 2.5077360293563276, 2.495...        3.067816   \n",
       "4   [2.5229337940411334, 2.4033689442322492, 2.507...        2.845565   \n",
       "5   [2.540809940999607, 2.5229337940411334, 2.4033...        2.748786   \n",
       "6   [2.5125572283402864, 2.540809940999607, 2.5229...        2.692261   \n",
       "7   [2.484839641247729, 2.5125572283402864, 2.5408...        2.646504   \n",
       "8   [2.5124098128186434, 2.484839641247729, 2.5125...        2.599720   \n",
       "9   [2.4820981960711883, 2.5124098128186434, 2.484...        2.580828   \n",
       "10  [2.4255052286568572, 2.4820981960711883, 2.512...        2.564994   \n",
       "11  [1.5307086419561995, 2.4255052286568572, 2.482...        2.680939   \n",
       "12  [1.4387337694323492, 1.5307086419561995, 2.425...        2.598183   \n",
       "13  [1.5026203184914175, 1.4387337694323492, 1.530...        2.480278   \n",
       "14  [1.5635501726529868, 1.5026203184914175, 1.438...        2.369324   \n",
       "15  [1.5148614924136155, 1.5635501726529868, 1.502...        2.298245   \n",
       "16  [1.5634599078209654, 1.5148614924136155, 1.563...        2.225910   \n",
       "17  [1.4655645787424305, 1.5634599078209654, 1.514...        2.186436   \n",
       "18  [1.4225947314464067, 1.4655645787424305, 1.563...        2.156084   \n",
       "19  [1.4838752258145902, 1.4225947314464067, 1.465...        2.097224   \n",
       "20  [1.5027828284185725, 1.4838752258145902, 1.422...        2.041350   \n",
       "21  [3.5444596185215516, 1.5027828284185725, 1.483...        1.617142   \n",
       "22  [3.5183178317079986, 3.5444596185215516, 1.502...        1.832674   \n",
       "23  [3.475367647705836, 3.5183178317079986, 3.5444...        2.415353   \n",
       "24  [3.5291499726405107, 3.475367647705836, 3.5183...        2.948527   \n",
       "25  [3.508879200399993, 3.5291499726405107, 3.4753...        3.341741   \n",
       "26  [3.480741927746009, 3.508879200399993, 3.52914...        3.465446   \n",
       "27  [3.526673369885765, 3.480741927746009, 3.50887...        3.469951   \n",
       "28  [3.4864400339655677, 3.526673369885765, 3.4807...        3.523261   \n",
       "29  [3.5359880966059336, 3.4864400339655677, 3.526...        3.485810   \n",
       "30  [3.416582657646911, 3.5359880966059336, 3.4864...        3.539910   \n",
       "\n",
       "       Error     T  \n",
       "0   0.760347   0.5  \n",
       "1   1.054121   1.0  \n",
       "2   0.864347   1.5  \n",
       "3   0.664447   2.0  \n",
       "4   0.322631   2.5  \n",
       "5   0.207976   3.0  \n",
       "6   0.179704   3.5  \n",
       "7   0.161664   4.0  \n",
       "8   0.087310   4.5  \n",
       "9   0.098730   5.0  \n",
       "10  0.139489   5.5  \n",
       "11  1.150230   6.0  \n",
       "12  1.159449   6.5  \n",
       "13  0.977658   7.0  \n",
       "14  0.805774   7.5  \n",
       "15  0.783384   8.0  \n",
       "16  0.662450   8.5  \n",
       "17  0.720872   9.0  \n",
       "18  0.733490   9.5  \n",
       "19  0.613349  10.0  \n",
       "20  0.538567  10.5  \n",
       "21  1.927317  11.0  \n",
       "22  1.685644  11.5  \n",
       "23  1.060015  12.0  \n",
       "24  0.580623  12.5  \n",
       "25  0.167138  13.0  \n",
       "26  0.015296  13.5  \n",
       "27  0.056723  14.0  \n",
       "28  0.036821  14.5  \n",
       "29  0.050178  15.0  \n",
       "30  0.123327  15.5  "
      ]
     },
     "execution_count": 89,
     "metadata": {},
     "output_type": "execute_result"
    }
   ],
   "source": [
    "data9= {'Noise_values':random_vals_t3,'Network_output':values3,'Error':e3,'T':t_array4}\n",
    "vis2= pd.DataFrame(data9)\n",
    "vis2"
   ]
  },
  {
   "cell_type": "markdown",
   "metadata": {},
   "source": [
    "#### Example 4(step size = 0.75)"
   ]
  },
  {
   "cell_type": "code",
   "execution_count": 90,
   "metadata": {},
   "outputs": [
    {
     "name": "stdout",
     "output_type": "stream",
     "text": [
      ">epoch=0, lrate=0.010, error=0.112, , sum_error=22.247\n",
      ">epoch=1, lrate=0.010, error=0.099, , sum_error=23.650\n",
      ">epoch=2, lrate=0.010, error=0.099, , sum_error=23.663\n",
      ">epoch=3, lrate=0.010, error=0.099, , sum_error=23.663\n",
      ">epoch=4, lrate=0.010, error=0.099, , sum_error=23.663\n"
     ]
    }
   ],
   "source": [
    "random_vals4 = []\n",
    "random_vals4 = box_muller(x_array5,std_dev,_mean)\n",
    "random_vals_t4 = triple_converter(random_vals4)\n",
    "values4,e4 = train_weights3(random_vals_t4, 0.01,5)"
   ]
  },
  {
   "cell_type": "code",
   "execution_count": 91,
   "metadata": {},
   "outputs": [
    {
     "data": {
      "image/png": "[encoded data removed]",
      "text/plain": [
       "<Figure size 432x288 with 1 Axes>"
      ]
     },
     "metadata": {
      "needs_background": "light"
     },
     "output_type": "display_data"
    }
   ],
   "source": [
    "y_axis = values4 #network output\n",
    "y = random_vals4 # x noise\n",
    "x_axis = x = t_array5\n",
    "plt.plot(x,y,\"y\") #actual\n",
    "plt.plot(x_axis,y_axis,\"b\")#noise\n",
    "plt.show()"
   ]
  },
  {
   "cell_type": "markdown",
   "metadata": {},
   "source": [
    "## Error representation"
   ]
  },
  {
   "cell_type": "code",
   "execution_count": 92,
   "metadata": {},
   "outputs": [
    {
     "data": {
      "image/png": "[encoded data removed]",
      "text/plain": [
       "<Figure size 432x288 with 1 Axes>"
      ]
     },
     "metadata": {
      "needs_background": "light"
     },
     "output_type": "display_data"
    }
   ],
   "source": [
    "e_array = e4\n",
    "c = 0\n",
    "while c < len(e_array):\n",
    "    e_array[c] = abs(e_array[c])\n",
    "    c=c+1\n",
    "    \n",
    "y_axis = e_array #network output\n",
    "#y = x_array2\n",
    "x_axis = x = t_array5\n",
    "#plt.plot(x,y,\"y\") #x_noise values\n",
    "plt.plot(x_axis,y_axis,\"b\")#percebtron(blue)\n",
    "plt.show()"
   ]
  },
  {
   "cell_type": "code",
   "execution_count": 93,
   "metadata": {},
   "outputs": [
    {
     "data": {
      "text/html": [
       "<div>\n",
       "<style scoped>\n",
       "    .dataframe tbody tr th:only-of-type {\n",
       "        vertical-align: middle;\n",
       "    }\n",
       "\n",
       "    .dataframe tbody tr th {\n",
       "        vertical-align: top;\n",
       "    }\n",
       "\n",
       "    .dataframe thead th {\n",
       "        text-align: right;\n",
       "    }\n",
       "</style>\n",
       "<table border=\"1\" class=\"dataframe\">\n",
       "  <thead>\n",
       "    <tr style=\"text-align: right;\">\n",
       "      <th></th>\n",
       "      <th>Noise_values</th>\n",
       "      <th>Network_output</th>\n",
       "      <th>Error</th>\n",
       "      <th>T</th>\n",
       "    </tr>\n",
       "  </thead>\n",
       "  <tbody>\n",
       "    <tr>\n",
       "      <td>0</td>\n",
       "      <td>[0, 0, 3.4855735696190355]</td>\n",
       "      <td>2.540747</td>\n",
       "      <td>0.944826</td>\n",
       "      <td>0.75</td>\n",
       "    </tr>\n",
       "    <tr>\n",
       "      <td>1</td>\n",
       "      <td>[0, 1.9486915395705542, 3.4855735696190355]</td>\n",
       "      <td>3.405714</td>\n",
       "      <td>1.457022</td>\n",
       "      <td>1.50</td>\n",
       "    </tr>\n",
       "    <tr>\n",
       "      <td>2</td>\n",
       "      <td>[2.763434267935626, 1.9486915395705542, 3.4855...</td>\n",
       "      <td>2.902722</td>\n",
       "      <td>0.139287</td>\n",
       "      <td>2.25</td>\n",
       "    </tr>\n",
       "    <tr>\n",
       "      <td>3</td>\n",
       "      <td>[2.3461147853172557, 2.763434267935626, 1.9486...</td>\n",
       "      <td>3.319813</td>\n",
       "      <td>0.973698</td>\n",
       "      <td>3.00</td>\n",
       "    </tr>\n",
       "    <tr>\n",
       "      <td>4</td>\n",
       "      <td>[2.6239948219069795, 2.3461147853172557, 2.763...</td>\n",
       "      <td>2.797924</td>\n",
       "      <td>0.173929</td>\n",
       "      <td>3.75</td>\n",
       "    </tr>\n",
       "    <tr>\n",
       "      <td>5</td>\n",
       "      <td>[2.4335713782473194, 2.6239948219069795, 2.346...</td>\n",
       "      <td>2.889579</td>\n",
       "      <td>0.456008</td>\n",
       "      <td>4.50</td>\n",
       "    </tr>\n",
       "    <tr>\n",
       "      <td>6</td>\n",
       "      <td>[2.469272331597782, 2.4335713782473194, 2.6239...</td>\n",
       "      <td>2.697426</td>\n",
       "      <td>0.228154</td>\n",
       "      <td>5.25</td>\n",
       "    </tr>\n",
       "    <tr>\n",
       "      <td>7</td>\n",
       "      <td>[0.963456034175246, 2.469272331597782, 2.43357...</td>\n",
       "      <td>3.018558</td>\n",
       "      <td>2.055102</td>\n",
       "      <td>6.00</td>\n",
       "    </tr>\n",
       "    <tr>\n",
       "      <td>8</td>\n",
       "      <td>[1.7922382521453208, 0.963456034175246, 2.4692...</td>\n",
       "      <td>2.278708</td>\n",
       "      <td>0.486469</td>\n",
       "      <td>6.75</td>\n",
       "    </tr>\n",
       "    <tr>\n",
       "      <td>9</td>\n",
       "      <td>[1.3459589552049622, 1.7922382521453208, 0.963...</td>\n",
       "      <td>2.508668</td>\n",
       "      <td>1.162709</td>\n",
       "      <td>7.50</td>\n",
       "    </tr>\n",
       "    <tr>\n",
       "      <td>10</td>\n",
       "      <td>[1.5808046342749773, 1.3459589552049622, 1.792...</td>\n",
       "      <td>2.276310</td>\n",
       "      <td>0.695505</td>\n",
       "      <td>8.25</td>\n",
       "    </tr>\n",
       "    <tr>\n",
       "      <td>11</td>\n",
       "      <td>[1.5170041441028899, 1.5808046342749773, 1.345...</td>\n",
       "      <td>2.274139</td>\n",
       "      <td>0.757135</td>\n",
       "      <td>9.00</td>\n",
       "    </tr>\n",
       "    <tr>\n",
       "      <td>12</td>\n",
       "      <td>[1.5535145885496773, 1.5170041441028899, 1.580...</td>\n",
       "      <td>2.197990</td>\n",
       "      <td>0.644475</td>\n",
       "      <td>9.75</td>\n",
       "    </tr>\n",
       "    <tr>\n",
       "      <td>13</td>\n",
       "      <td>[1.5126423916420109, 1.5535145885496773, 1.517...</td>\n",
       "      <td>2.164454</td>\n",
       "      <td>0.651812</td>\n",
       "      <td>10.50</td>\n",
       "    </tr>\n",
       "    <tr>\n",
       "      <td>14</td>\n",
       "      <td>[4.517253663098782, 1.5126423916420109, 1.5535...</td>\n",
       "      <td>1.576452</td>\n",
       "      <td>2.940802</td>\n",
       "      <td>11.25</td>\n",
       "    </tr>\n",
       "    <tr>\n",
       "      <td>15</td>\n",
       "      <td>[2.9643115528696202, 4.517253663098782, 1.5126...</td>\n",
       "      <td>4.318225</td>\n",
       "      <td>1.353914</td>\n",
       "      <td>12.00</td>\n",
       "    </tr>\n",
       "    <tr>\n",
       "      <td>16</td>\n",
       "      <td>[3.6491385886321392, 2.9643115528696202, 4.517...</td>\n",
       "      <td>2.619469</td>\n",
       "      <td>1.029669</td>\n",
       "      <td>12.75</td>\n",
       "    </tr>\n",
       "    <tr>\n",
       "      <td>17</td>\n",
       "      <td>[3.390013130246511, 3.6491385886321392, 2.9643...</td>\n",
       "      <td>3.572690</td>\n",
       "      <td>0.182677</td>\n",
       "      <td>13.50</td>\n",
       "    </tr>\n",
       "    <tr>\n",
       "      <td>18</td>\n",
       "      <td>[3.567276134881925, 3.390013130246511, 3.64913...</td>\n",
       "      <td>3.274417</td>\n",
       "      <td>0.292859</td>\n",
       "      <td>14.25</td>\n",
       "    </tr>\n",
       "    <tr>\n",
       "      <td>19</td>\n",
       "      <td>[3.489475470493291, 3.567276134881925, 3.39001...</td>\n",
       "      <td>3.590868</td>\n",
       "      <td>0.101393</td>\n",
       "      <td>15.00</td>\n",
       "    </tr>\n",
       "    <tr>\n",
       "      <td>20</td>\n",
       "      <td>[3.558006269749716, 3.489475470493291, 3.56727...</td>\n",
       "      <td>3.459391</td>\n",
       "      <td>0.098615</td>\n",
       "      <td>15.75</td>\n",
       "    </tr>\n",
       "  </tbody>\n",
       "</table>\n",
       "</div>"
      ],
      "text/plain": [
       "                                         Noise_values  Network_output  \\\n",
       "0                          [0, 0, 3.4855735696190355]        2.540747   \n",
       "1         [0, 1.9486915395705542, 3.4855735696190355]        3.405714   \n",
       "2   [2.763434267935626, 1.9486915395705542, 3.4855...        2.902722   \n",
       "3   [2.3461147853172557, 2.763434267935626, 1.9486...        3.319813   \n",
       "4   [2.6239948219069795, 2.3461147853172557, 2.763...        2.797924   \n",
       "5   [2.4335713782473194, 2.6239948219069795, 2.346...        2.889579   \n",
       "6   [2.469272331597782, 2.4335713782473194, 2.6239...        2.697426   \n",
       "7   [0.963456034175246, 2.469272331597782, 2.43357...        3.018558   \n",
       "8   [1.7922382521453208, 0.963456034175246, 2.4692...        2.278708   \n",
       "9   [1.3459589552049622, 1.7922382521453208, 0.963...        2.508668   \n",
       "10  [1.5808046342749773, 1.3459589552049622, 1.792...        2.276310   \n",
       "11  [1.5170041441028899, 1.5808046342749773, 1.345...        2.274139   \n",
       "12  [1.5535145885496773, 1.5170041441028899, 1.580...        2.197990   \n",
       "13  [1.5126423916420109, 1.5535145885496773, 1.517...        2.164454   \n",
       "14  [4.517253663098782, 1.5126423916420109, 1.5535...        1.576452   \n",
       "15  [2.9643115528696202, 4.517253663098782, 1.5126...        4.318225   \n",
       "16  [3.6491385886321392, 2.9643115528696202, 4.517...        2.619469   \n",
       "17  [3.390013130246511, 3.6491385886321392, 2.9643...        3.572690   \n",
       "18  [3.567276134881925, 3.390013130246511, 3.64913...        3.274417   \n",
       "19  [3.489475470493291, 3.567276134881925, 3.39001...        3.590868   \n",
       "20  [3.558006269749716, 3.489475470493291, 3.56727...        3.459391   \n",
       "\n",
       "       Error      T  \n",
       "0   0.944826   0.75  \n",
       "1   1.457022   1.50  \n",
       "2   0.139287   2.25  \n",
       "3   0.973698   3.00  \n",
       "4   0.173929   3.75  \n",
       "5   0.456008   4.50  \n",
       "6   0.228154   5.25  \n",
       "7   2.055102   6.00  \n",
       "8   0.486469   6.75  \n",
       "9   1.162709   7.50  \n",
       "10  0.695505   8.25  \n",
       "11  0.757135   9.00  \n",
       "12  0.644475   9.75  \n",
       "13  0.651812  10.50  \n",
       "14  2.940802  11.25  \n",
       "15  1.353914  12.00  \n",
       "16  1.029669  12.75  \n",
       "17  0.182677  13.50  \n",
       "18  0.292859  14.25  \n",
       "19  0.101393  15.00  \n",
       "20  0.098615  15.75  "
      ]
     },
     "execution_count": 93,
     "metadata": {},
     "output_type": "execute_result"
    }
   ],
   "source": [
    "#itr,input,output,error\n",
    "data_10= {'Noise_values':random_vals_t4,'Network_output':values4,'Error':e4,'T':t_array5}\n",
    "vis3= pd.DataFrame(data_10)\n",
    "vis3"
   ]
  },
  {
   "cell_type": "markdown",
   "metadata": {},
   "source": [
    "# Perceptron model with different learning rates"
   ]
  },
  {
   "cell_type": "markdown",
   "metadata": {},
   "source": [
    "## Example 1"
   ]
  },
  {
   "cell_type": "code",
   "execution_count": 94,
   "metadata": {},
   "outputs": [
    {
     "name": "stdout",
     "output_type": "stream",
     "text": [
      ">epoch=0, lrate=0.007, error=0.015\n",
      ">epoch=1, lrate=0.007, error=0.015\n",
      ">epoch=2, lrate=0.007, error=0.015\n",
      ">epoch=3, lrate=0.007, error=0.015\n",
      ">epoch=4, lrate=0.007, error=0.015\n"
     ]
    }
   ],
   "source": [
    "random_vals1 = []\n",
    "random_vals1 = box_muller(x_save2,std_dev,_mean)\n",
    "values1,e1 = train_weights(random_vals1, 0.006531,5)"
   ]
  },
  {
   "cell_type": "code",
   "execution_count": 95,
   "metadata": {},
   "outputs": [
    {
     "data": {
      "image/png": "[encoded data removed]",
      "text/plain": [
       "<Figure size 432x288 with 1 Axes>"
      ]
     },
     "metadata": {
      "needs_background": "light"
     },
     "output_type": "display_data"
    }
   ],
   "source": [
    "y_axis = values1 #network output\n",
    "y = random_vals1\n",
    "x_axis = x = t_save2\n",
    "plt.plot(x,y,\"y\") #actual\n",
    "plt.plot(x_axis,y_axis,\"b\")#noise\n",
    "plt.show()"
   ]
  },
  {
   "cell_type": "code",
   "execution_count": 96,
   "metadata": {},
   "outputs": [
    {
     "data": {
      "image/png": "[encoded data removed]",
      "text/plain": [
       "<Figure size 432x288 with 1 Axes>"
      ]
     },
     "metadata": {
      "needs_background": "light"
     },
     "output_type": "display_data"
    }
   ],
   "source": [
    "y_axis = values2 #network output\n",
    "y = random_vals2 # x noise\n",
    "x_axis = x = t_save2\n",
    "plt.plot(x,y,\"y\") #actual\n",
    "plt.plot(x_axis,y_axis,\"b\")#noise\n",
    "plt.show()"
   ]
  },
  {
   "cell_type": "markdown",
   "metadata": {},
   "source": [
    "## Example 2"
   ]
  },
  {
   "cell_type": "code",
   "execution_count": 97,
   "metadata": {},
   "outputs": [
    {
     "name": "stdout",
     "output_type": "stream",
     "text": [
      ">epoch=0, lrate=0.065, error=-1.139\n",
      ">epoch=1, lrate=0.065, error=-1.139\n",
      ">epoch=2, lrate=0.065, error=-1.139\n",
      ">epoch=3, lrate=0.065, error=-1.139\n",
      ">epoch=4, lrate=0.065, error=-1.139\n"
     ]
    }
   ],
   "source": [
    "random_vals1 = []\n",
    "random_vals1 = box_muller(x_array2,std_dev,_mean)\n",
    "values1,e1 = train_weights(random_vals1, 0.06531,5)"
   ]
  },
  {
   "cell_type": "code",
   "execution_count": 98,
   "metadata": {},
   "outputs": [
    {
     "data": {
      "image/png": "[encoded data removed]",
      "text/plain": [
       "<Figure size 432x288 with 1 Axes>"
      ]
     },
     "metadata": {
      "needs_background": "light"
     },
     "output_type": "display_data"
    }
   ],
   "source": [
    "y_axis = values1 #network output\n",
    "y = random_vals1\n",
    "x_axis = x = t_array2\n",
    "plt.plot(x,y,\"y\") #x_noise values\n",
    "plt.plot(x_axis,y_axis,\"b\")#percebtron(blue)\n",
    "plt.show()"
   ]
  },
  {
   "cell_type": "code",
   "execution_count": null,
   "metadata": {},
   "outputs": [],
   "source": []
  },
  {
   "cell_type": "markdown",
   "metadata": {},
   "source": [
    "## Example 3"
   ]
  },
  {
   "cell_type": "code",
   "execution_count": 99,
   "metadata": {},
   "outputs": [
    {
     "name": "stdout",
     "output_type": "stream",
     "text": [
      ">epoch=0, lrate=0.653, error=2.494\n",
      ">epoch=1, lrate=0.653, error=2.494\n",
      ">epoch=2, lrate=0.653, error=2.494\n",
      ">epoch=3, lrate=0.653, error=2.494\n",
      ">epoch=4, lrate=0.653, error=2.494\n"
     ]
    }
   ],
   "source": [
    "random_vals8 = []\n",
    "random_vals8 = box_muller(x_array2,std_dev,_mean)\n",
    "values8,e8 = train_weights(random_vals8, 0.6531,5)"
   ]
  },
  {
   "cell_type": "code",
   "execution_count": 100,
   "metadata": {},
   "outputs": [
    {
     "data": {
      "image/png": "[encoded data removed]",
      "text/plain": [
       "<Figure size 432x288 with 1 Axes>"
      ]
     },
     "metadata": {
      "needs_background": "light"
     },
     "output_type": "display_data"
    }
   ],
   "source": [
    "y_axis = values8 #network output\n",
    "y = random_vals8\n",
    "x_axis = x = t_array2\n",
    "plt.plot(x,y,\"y\") #x_noise values\n",
    "plt.plot(x_axis,y_axis,\"b\")#percebtron(blue)\n",
    "plt.show()"
   ]
  },
  {
   "cell_type": "code",
   "execution_count": 101,
   "metadata": {},
   "outputs": [
    {
     "data": {
      "text/html": [
       "<div>\n",
       "<style scoped>\n",
       "    .dataframe tbody tr th:only-of-type {\n",
       "        vertical-align: middle;\n",
       "    }\n",
       "\n",
       "    .dataframe tbody tr th {\n",
       "        vertical-align: top;\n",
       "    }\n",
       "\n",
       "    .dataframe thead th {\n",
       "        text-align: right;\n",
       "    }\n",
       "</style>\n",
       "<table border=\"1\" class=\"dataframe\">\n",
       "  <thead>\n",
       "    <tr style=\"text-align: right;\">\n",
       "      <th></th>\n",
       "      <th>Noise_values</th>\n",
       "      <th>Network_output</th>\n",
       "      <th>Error</th>\n",
       "      <th>T</th>\n",
       "    </tr>\n",
       "  </thead>\n",
       "  <tbody>\n",
       "    <tr>\n",
       "      <td>0</td>\n",
       "      <td>0.524737</td>\n",
       "      <td>1.0</td>\n",
       "      <td>-0.475263</td>\n",
       "      <td>0.01</td>\n",
       "    </tr>\n",
       "    <tr>\n",
       "      <td>1</td>\n",
       "      <td>0.602418</td>\n",
       "      <td>1.0</td>\n",
       "      <td>-0.397582</td>\n",
       "      <td>0.02</td>\n",
       "    </tr>\n",
       "    <tr>\n",
       "      <td>2</td>\n",
       "      <td>0.569800</td>\n",
       "      <td>1.0</td>\n",
       "      <td>-0.430200</td>\n",
       "      <td>0.03</td>\n",
       "    </tr>\n",
       "    <tr>\n",
       "      <td>3</td>\n",
       "      <td>0.696805</td>\n",
       "      <td>1.0</td>\n",
       "      <td>-0.303195</td>\n",
       "      <td>0.04</td>\n",
       "    </tr>\n",
       "    <tr>\n",
       "      <td>4</td>\n",
       "      <td>0.672428</td>\n",
       "      <td>1.0</td>\n",
       "      <td>-0.327572</td>\n",
       "      <td>0.05</td>\n",
       "    </tr>\n",
       "    <tr>\n",
       "      <td>...</td>\n",
       "      <td>...</td>\n",
       "      <td>...</td>\n",
       "      <td>...</td>\n",
       "      <td>...</td>\n",
       "    </tr>\n",
       "    <tr>\n",
       "      <td>1496</td>\n",
       "      <td>3.507754</td>\n",
       "      <td>1.0</td>\n",
       "      <td>2.507754</td>\n",
       "      <td>14.97</td>\n",
       "    </tr>\n",
       "    <tr>\n",
       "      <td>1497</td>\n",
       "      <td>3.544929</td>\n",
       "      <td>1.0</td>\n",
       "      <td>2.544929</td>\n",
       "      <td>14.98</td>\n",
       "    </tr>\n",
       "    <tr>\n",
       "      <td>1498</td>\n",
       "      <td>3.470592</td>\n",
       "      <td>1.0</td>\n",
       "      <td>2.470592</td>\n",
       "      <td>14.99</td>\n",
       "    </tr>\n",
       "    <tr>\n",
       "      <td>1499</td>\n",
       "      <td>3.519390</td>\n",
       "      <td>1.0</td>\n",
       "      <td>2.519390</td>\n",
       "      <td>15.00</td>\n",
       "    </tr>\n",
       "    <tr>\n",
       "      <td>1500</td>\n",
       "      <td>3.493640</td>\n",
       "      <td>1.0</td>\n",
       "      <td>2.493640</td>\n",
       "      <td>15.01</td>\n",
       "    </tr>\n",
       "  </tbody>\n",
       "</table>\n",
       "<p>1501 rows × 4 columns</p>\n",
       "</div>"
      ],
      "text/plain": [
       "      Noise_values  Network_output     Error      T\n",
       "0         0.524737             1.0 -0.475263   0.01\n",
       "1         0.602418             1.0 -0.397582   0.02\n",
       "2         0.569800             1.0 -0.430200   0.03\n",
       "3         0.696805             1.0 -0.303195   0.04\n",
       "4         0.672428             1.0 -0.327572   0.05\n",
       "...            ...             ...       ...    ...\n",
       "1496      3.507754             1.0  2.507754  14.97\n",
       "1497      3.544929             1.0  2.544929  14.98\n",
       "1498      3.470592             1.0  2.470592  14.99\n",
       "1499      3.519390             1.0  2.519390  15.00\n",
       "1500      3.493640             1.0  2.493640  15.01\n",
       "\n",
       "[1501 rows x 4 columns]"
      ]
     },
     "execution_count": 101,
     "metadata": {},
     "output_type": "execute_result"
    }
   ],
   "source": [
    "data_11= {'Noise_values':random_vals8,'Network_output':values8,'Error':e8,'T':t_array2}\n",
    "vis8= pd.DataFrame(data_11)\n",
    "vis8"
   ]
  },
  {
   "cell_type": "code",
   "execution_count": 102,
   "metadata": {},
   "outputs": [
    {
     "ename": "NameError",
     "evalue": "name 'df' is not defined",
     "output_type": "error",
     "traceback": [
      "\u001b[1;31m---------------------------------------------------------------------------\u001b[0m",
      "\u001b[1;31mNameError\u001b[0m                                 Traceback (most recent call last)",
      "\u001b[1;32m<ipython-input-102-d0fed2326857>\u001b[0m in \u001b[0;36m<module>\u001b[1;34m\u001b[0m\n\u001b[1;32m----> 1\u001b[1;33m \u001b[0mdf\u001b[0m\u001b[1;33m.\u001b[0m\u001b[0mto_csv\u001b[0m\u001b[1;33m(\u001b[0m\u001b[1;34mr'Path where you want to store the exported CSV file\\File Name.csv'\u001b[0m\u001b[1;33m,\u001b[0m \u001b[0mindex\u001b[0m \u001b[1;33m=\u001b[0m \u001b[1;32mFalse\u001b[0m\u001b[1;33m)\u001b[0m\u001b[1;33m\u001b[0m\u001b[1;33m\u001b[0m\u001b[0m\n\u001b[0m",
      "\u001b[1;31mNameError\u001b[0m: name 'df' is not defined"
     ]
    }
   ],
   "source": [
    "df.to_csv(r'Path where you want to store the exported CSV file\\File Name.csv', index = False)"
   ]
  },
  {
   "cell_type": "code",
   "execution_count": 122,
   "metadata": {},
   "outputs": [
    {
     "name": "stdout",
     "output_type": "stream",
     "text": [
      ">epoch=0, lrate=0.011, error=0.000, , sum_error=108.694\n",
      ">epoch=1, lrate=0.011, error=0.000, , sum_error=164.232\n",
      ">epoch=2, lrate=0.011, error=0.000, , sum_error=164.232\n",
      ">epoch=3, lrate=0.011, error=0.000, , sum_error=164.232\n",
      ">epoch=4, lrate=0.011, error=0.000, , sum_error=164.232\n"
     ]
    }
   ],
   "source": [
    "random_vals3 = []\n",
    "random_vals3 = box_muller(x_array4,std_dev,_mean)\n",
    "random_vals_t3 = []\n",
    "random_vals_t3 = triple_converter(x_array2)\n",
    "values3,e3 = train_weights3(random_vals_t3, 0.011,5)"
   ]
  },
  {
   "cell_type": "code",
   "execution_count": 124,
   "metadata": {},
   "outputs": [
    {
     "data": {
      "image/png": "[encoded data removed]",
      "text/plain": [
       "<Figure size 432x288 with 1 Axes>"
      ]
     },
     "metadata": {
      "needs_background": "light"
     },
     "output_type": "display_data"
    }
   ],
   "source": [
    "y_axis = values3 #network output\n",
    "y = x_array2\n",
    "x_axis = x = t_array2\n",
    "plt.plot(x,y,\"y\") #u_values\n",
    "plt.plot(x_axis,y_axis,\"b\")#percebtron(blue)\n",
    "plt.show()"
   ]
  },
  {
   "cell_type": "code",
   "execution_count": null,
   "metadata": {},
   "outputs": [],
   "source": []
  },
  {
   "cell_type": "code",
   "execution_count": 105,
   "metadata": {},
   "outputs": [
    {
     "name": "stdout",
     "output_type": "stream",
     "text": [
      ">epoch=0, lrate=0.011, error=0.000\n",
      ">epoch=1, lrate=0.011, error=0.000\n",
      ">epoch=2, lrate=0.011, error=0.000\n",
      ">epoch=3, lrate=0.011, error=0.000\n",
      ">epoch=4, lrate=0.011, error=0.000\n"
     ]
    }
   ],
   "source": [
    "random_vals3 = []\n",
    "random_vals3 = box_muller(x_array4,std_dev,_mean)\n",
    "random_vals_t3 = []\n",
    "random_vals_t3 = triple_converter(x_array2)\n",
    "values3,e3 = train_weights(x_array2, 0.011,5)"
   ]
  },
  {
   "cell_type": "code",
   "execution_count": 106,
   "metadata": {
    "scrolled": false
   },
   "outputs": [
    {
     "data": {
      "image/png": "[encoded data removed]",
      "text/plain": [
       "<Figure size 432x288 with 1 Axes>"
      ]
     },
     "metadata": {
      "needs_background": "light"
     },
     "output_type": "display_data"
    }
   ],
   "source": [
    "y_axis = values3 #network output\n",
    "y = x_array2\n",
    "x_axis = x = t_array2\n",
    "plt.plot(x,y,\"y\") #x_noise values\n",
    "plt.plot(x_axis,y_axis,\"b\")#percebtron(blue)\n",
    "plt.show()"
   ]
  },
  {
   "cell_type": "code",
   "execution_count": 107,
   "metadata": {},
   "outputs": [
    {
     "data": {
      "text/plain": [
       "1501"
      ]
     },
     "execution_count": 107,
     "metadata": {},
     "output_type": "execute_result"
    }
   ],
   "source": [
    "len(values3)"
   ]
  },
  {
   "cell_type": "code",
   "execution_count": 108,
   "metadata": {},
   "outputs": [
    {
     "data": {
      "image/png": "[encoded data removed]",
      "text/plain": [
       "<Figure size 432x288 with 1 Axes>"
      ]
     },
     "metadata": {
      "needs_background": "light"
     },
     "output_type": "display_data"
    }
   ],
   "source": [
    "e_array = e3\n",
    "c = 0\n",
    "while c < len(e_array):\n",
    "    e_array[c] = abs(e_array[c])\n",
    "    c=c+1\n",
    "    \n",
    "y_axis = e_array #network output\n",
    "#y = x_array2\n",
    "x_axis = x = t_array2\n",
    "#plt.plot(x,y,\"y\") #x_noise values\n",
    "plt.plot(x_axis,y_axis,\"b\")#percebtron(blue)\n",
    "plt.show()"
   ]
  },
  {
   "cell_type": "code",
   "execution_count": 109,
   "metadata": {},
   "outputs": [
    {
     "data": {
      "image/png": "[encoded data removed]",
      "text/plain": [
       "<Figure size 432x288 with 1 Axes>"
      ]
     },
     "metadata": {
      "needs_background": "light"
     },
     "output_type": "display_data"
    }
   ],
   "source": [
    "y_axis = e_array #network output\n",
    "#y = x_array2\n",
    "x_axis = x = t_array2\n",
    "#plt.plot(x,y,\"y\") #x_noise values\n",
    "plt.plot(x_axis,y_axis,\"b\")#percebtron(blue)\n",
    "plt.show()"
   ]
  },
  {
   "cell_type": "code",
   "execution_count": null,
   "metadata": {},
   "outputs": [],
   "source": []
  },
  {
   "cell_type": "code",
   "execution_count": null,
   "metadata": {},
   "outputs": [],
   "source": []
  },
  {
   "cell_type": "code",
   "execution_count": null,
   "metadata": {},
   "outputs": [],
   "source": []
  }
 ],
 "metadata": {
  "kernelspec": {
   "display_name": "Python 3",
   "language": "python",
   "name": "python3"
  },
  "language_info": {
   "codemirror_mode": {
    "name": "ipython",
    "version": 3
   },
   "file_extension": ".py",
   "mimetype": "text/x-python",
   "name": "python",
   "nbconvert_exporter": "python",
   "pygments_lexer": "ipython3",
   "version": "3.7.4"
  }
 },
 "nbformat": 4,
 "nbformat_minor": 2
}
