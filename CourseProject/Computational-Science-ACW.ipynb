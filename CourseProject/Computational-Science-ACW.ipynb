{
 "cells": [
  {
   "cell_type": "markdown",
   "metadata": {},
   "source": [
    "# Part 1: Simulating the robot"
   ]
  },
  {
   "cell_type": "code",
   "execution_count": 1,
   "metadata": {},
   "outputs": [],
   "source": [
    "import numpy as np\n",
    "import random as rand\n",
    "import numpy as np\n",
    "import matplotlib.pyplot as plt\n",
    "import math\n",
    "import csv\n",
    "from scipy.stats import norm\n",
    "import seaborn as sns\n",
    "import pandas as pd\n",
    "\n",
    "def func(U,x):\n",
    "    #-2x+2U\n",
    "    val = -(2*x) + 2*U\n",
    "    return val\n",
    "def simulation(x,t,h):\n",
    "    save = 0\n",
    "    U_save = []\n",
    "    t_save = []\n",
    "    x_save = []\n",
    "    x_exact_save = []\n",
    "\n",
    "    U_array = []\n",
    "    t_array = []\n",
    "    x_array = []\n",
    "    x_exact_array = []\n",
    "    while(t <= 15):\n",
    "        if(t <= 5):\n",
    "            U = 2\n",
    "        elif(t < 5 or t <= 10):\n",
    "            U = 1\n",
    "        elif(t < 10 or t <=15):\n",
    "            U = 3\n",
    "        #print(\"U value:\", x)\n",
    "        U_array.append(U)\n",
    "        k = h * func(U,x)\n",
    "        x = x + k\n",
    "        t = t + h\n",
    "        #value under graph\n",
    "        x_exact = U - math.exp(-2*t)\n",
    "        t_array.append(t)\n",
    "        x_array.append(x)\n",
    "        x_exact_array.append(x_exact)\n",
    "        save+=1\n",
    "        #save every 10th integral if h<=0.01\n",
    "        if(save%10 == 0 and h <= 0.01):\n",
    "            U_save.append(U)\n",
    "            t_save.append(t)\n",
    "            x_save.append(x)\n",
    "            x_exact_save.append(x_exact)\n",
    "            #print(\"save1: \",save)\n",
    "        #print(\"Where it is: \",x,\"Exact pos= \",x_exact,\"Time: \",t)\n",
    "    return U_save,t_save,x_save,x_exact_save,U_array,t_array,x_array,x_exact_array "
   ]
  },
  {
   "cell_type": "markdown",
   "metadata": {},
   "source": [
    "The following step sizes were provided to measure against: 0.75, .5, 0.25, 0.01, 0.001\n"
   ]
  },
  {
   "cell_type": "markdown",
   "metadata": {},
   "source": [
    "## Step size 0.001"
   ]
  },
  {
   "cell_type": "code",
   "execution_count": 2,
   "metadata": {},
   "outputs": [],
   "source": [
    "U_save1 = []\n",
    "t_save1 = []\n",
    "x_save1 = []\n",
    "x_exact_save1 = []\n",
    "\n",
    "\n",
    "##saves every time\n",
    "U_array1 = []\n",
    "t_array1 = []\n",
    "x_array1 = []\n",
    "x_exact_array1 = []\n",
    "\n",
    "#step size \n",
    "U_save1,t_save1,x_save1,x_exact_save1,U_array1,t_array1,x_array1,x_exact_array1=simulation(0,0,0.001)\n",
    "\n",
    "#0.35 for bell curve"
   ]
  },
  {
   "cell_type": "markdown",
   "metadata": {},
   "source": [
    "## Step size 0.01"
   ]
  },
  {
   "cell_type": "code",
   "execution_count": 3,
   "metadata": {},
   "outputs": [],
   "source": [
    "U_save2 = []\n",
    "t_save2 = []\n",
    "x_save2 = []\n",
    "x_exact_save2 = []\n",
    "\n",
    "\n",
    "##saves every time\n",
    "U_array2 = []\n",
    "t_array2 = []\n",
    "x_array2 = []\n",
    "x_exact_array2 = []\n",
    "\n",
    "#step size \n",
    "U_save2,t_save2,x_save2,x_exact_save2,U_array2,t_array2,x_array2,x_exact_array2=simulation(0,0,0.01)\n",
    "\n",
    "#0.35 for bell curve"
   ]
  },
  {
   "cell_type": "markdown",
   "metadata": {},
   "source": [
    "## Step size 0.25"
   ]
  },
  {
   "cell_type": "code",
   "execution_count": 4,
   "metadata": {},
   "outputs": [],
   "source": [
    "U_save3 = []\n",
    "t_save3 = []\n",
    "x_save3 = []\n",
    "x_exact_save3 = []\n",
    "\n",
    "\n",
    "##saves every time\n",
    "U_array3 = []\n",
    "t_array3 = []\n",
    "x_array3 = []\n",
    "x_exact_array3 = []\n",
    "\n",
    "#step size \n",
    "U_save3,t_save3,x_save3,x_exact_save3,U_array3,t_array3,x_array3,x_exact_array3=simulation(0,0,0.25)"
   ]
  },
  {
   "cell_type": "markdown",
   "metadata": {},
   "source": [
    "## Step size 0.5"
   ]
  },
  {
   "cell_type": "code",
   "execution_count": 5,
   "metadata": {},
   "outputs": [],
   "source": [
    "U_save4 = []\n",
    "t_save4 = []\n",
    "x_save4 = []\n",
    "x_exact_save4 = []\n",
    "\n",
    "\n",
    "##saves every time\n",
    "U_array4 = []\n",
    "t_array4 = []\n",
    "x_array4 = []\n",
    "x_exact_array4 = []\n",
    "\n",
    "#step size \n",
    "U_save4,t_save4,x_save4,x_exact_save4,U_array4,t_array4,x_array4,x_exact_array4=simulation(0,0,0.5)"
   ]
  },
  {
   "cell_type": "markdown",
   "metadata": {},
   "source": [
    "## Step size 0.75"
   ]
  },
  {
   "cell_type": "code",
   "execution_count": 6,
   "metadata": {},
   "outputs": [],
   "source": [
    "U_save5 = []\n",
    "t_save5 = []\n",
    "x_save5 = []\n",
    "x_exact_save5 = []\n",
    "\n",
    "\n",
    "##saves every time\n",
    "U_array5 = []\n",
    "t_array5 = []\n",
    "x_array5 = []\n",
    "x_exact_array5 = []\n",
    "\n",
    "#step size \n",
    "U_save5,t_save5,x_save5,x_exact_save5,U_array5,t_array5,x_array5,x_exact_array5=simulation(0,0,0.75)"
   ]
  },
  {
   "cell_type": "markdown",
   "metadata": {},
   "source": [
    "## Step Size 1"
   ]
  },
  {
   "cell_type": "code",
   "execution_count": 7,
   "metadata": {},
   "outputs": [],
   "source": [
    "U_save6 = []\n",
    "t_save6 = []\n",
    "x_save6 = []\n",
    "x_exact_save6 = []\n",
    "\n",
    "\n",
    "##saves every time\n",
    "U_array6 = []\n",
    "t_array6 = []\n",
    "x_array6 = []\n",
    "x_exact_array6 = []\n",
    "\n",
    "#step size \n",
    "U_save6,t_save6,x_save6,x_exact_save6,U_array6,t_array6,x_array6,x_exact_array6=simulation(0,0,1)"
   ]
  },
  {
   "cell_type": "markdown",
   "metadata": {},
   "source": [
    "## Saving values into a dataframe and plotting it "
   ]
  },
  {
   "cell_type": "code",
   "execution_count": 15,
   "metadata": {},
   "outputs": [],
   "source": [
    "data1 = {'X':x_array1,'T':t_array1}\n",
    "df1 = pd.DataFrame(data1)\n",
    "data2 = {'X':x_array2,'T':t_array2}\n",
    "df2= pd.DataFrame(data2)\n",
    "data3 = {'X':x_array3,'T':t_array3}\n",
    "df3= pd.DataFrame(data3)\n",
    "data4= {'X':x_array4,'T':t_array4}\n",
    "df4= pd.DataFrame(data4)\n",
    "data5= {'X':x_array5,'T':t_array5}\n",
    "df5= pd.DataFrame(data5)\n",
    "data6= {'X':x_array6,'T':t_array6}\n",
    "df6= pd.DataFrame(data6)"
   ]
  },
  {
   "cell_type": "code",
   "execution_count": 16,
   "metadata": {},
   "outputs": [
    {
     "data": {
      "image/png": "[encoded data removed]",
      "text/plain": [
       "<Figure size 432x288 with 1 Axes>"
      ]
     },
     "metadata": {
      "needs_background": "light"
     },
     "output_type": "display_data"
    }
   ],
   "source": [
    "plt3 = sns.lineplot(x=\"T\", y=\"X\", data=df1) #blue\n",
    "plt4 = sns.lineplot(x=\"T\", y=\"X\", data=df2) #Orange\n",
    "plt5 = sns.lineplot(x=\"T\", y=\"X\", data=df3) #Green\n",
    "plt6 = sns.lineplot(x=\"T\", y=\"X\", data=df4) #Red\n",
    "plt7 = sns.lineplot(x=\"T\", y=\"X\", data=df5) #Purple\n",
    "plt8 = sns.lineplot(x=\"T\", y=\"X\", data=df6) #Purple"
   ]
  },
  {
   "cell_type": "markdown",
   "metadata": {},
   "source": [
    "## Error evaluation against step size"
   ]
  },
  {
   "cell_type": "code",
   "execution_count": 18,
   "metadata": {},
   "outputs": [
    {
     "data": {
      "text/html": [
       "<div>\n",
       "<style scoped>\n",
       "    .dataframe tbody tr th:only-of-type {\n",
       "        vertical-align: middle;\n",
       "    }\n",
       "\n",
       "    .dataframe tbody tr th {\n",
       "        vertical-align: top;\n",
       "    }\n",
       "\n",
       "    .dataframe thead th {\n",
       "        text-align: right;\n",
       "    }\n",
       "</style>\n",
       "<table border=\"1\" class=\"dataframe\">\n",
       "  <thead>\n",
       "    <tr style=\"text-align: right;\">\n",
       "      <th></th>\n",
       "      <th>H = 0.001</th>\n",
       "      <th>Time(H = 0.001)</th>\n",
       "      <th>H(Exact)0.001</th>\n",
       "      <th>H = 0.01</th>\n",
       "      <th>Time(H = 0.01)</th>\n",
       "      <th>H(Exact)0.01</th>\n",
       "      <th>H = 0.25</th>\n",
       "      <th>Time(H = 0.25)</th>\n",
       "      <th>H(Exact)0.25</th>\n",
       "      <th>H = 0.5</th>\n",
       "      <th>Time(H = 0.5)</th>\n",
       "      <th>H(Exact)0.5</th>\n",
       "      <th>H = 0.75</th>\n",
       "      <th>Time(H = 0.75)</th>\n",
       "      <th>H(Exact)0.75</th>\n",
       "      <th>H = 1</th>\n",
       "      <th>Time(H = 1)</th>\n",
       "      <th>H(Exact)0.75</th>\n",
       "    </tr>\n",
       "  </thead>\n",
       "  <tbody>\n",
       "    <tr>\n",
       "      <td>0</td>\n",
       "      <td>0.039642</td>\n",
       "      <td>0.01</td>\n",
       "      <td>1.019801</td>\n",
       "      <td>0.365854</td>\n",
       "      <td>0.1</td>\n",
       "      <td>1.181269</td>\n",
       "      <td>1.0000</td>\n",
       "      <td>0.25</td>\n",
       "      <td>1.393469</td>\n",
       "      <td>2.0</td>\n",
       "      <td>0.5</td>\n",
       "      <td>1.632121</td>\n",
       "      <td>3.0000</td>\n",
       "      <td>0.75</td>\n",
       "      <td>1.776870</td>\n",
       "      <td>4.0</td>\n",
       "      <td>1.0</td>\n",
       "      <td>1.864665</td>\n",
       "    </tr>\n",
       "    <tr>\n",
       "      <td>1</td>\n",
       "      <td>0.078498</td>\n",
       "      <td>0.02</td>\n",
       "      <td>1.039211</td>\n",
       "      <td>0.664784</td>\n",
       "      <td>0.2</td>\n",
       "      <td>1.329680</td>\n",
       "      <td>1.5000</td>\n",
       "      <td>0.50</td>\n",
       "      <td>1.632121</td>\n",
       "      <td>2.0</td>\n",
       "      <td>1.0</td>\n",
       "      <td>1.864665</td>\n",
       "      <td>1.5000</td>\n",
       "      <td>1.50</td>\n",
       "      <td>1.950213</td>\n",
       "      <td>0.0</td>\n",
       "      <td>2.0</td>\n",
       "      <td>1.981684</td>\n",
       "    </tr>\n",
       "    <tr>\n",
       "      <td>2</td>\n",
       "      <td>0.116584</td>\n",
       "      <td>0.03</td>\n",
       "      <td>1.058235</td>\n",
       "      <td>0.909031</td>\n",
       "      <td>0.3</td>\n",
       "      <td>1.451188</td>\n",
       "      <td>1.7500</td>\n",
       "      <td>0.75</td>\n",
       "      <td>1.776870</td>\n",
       "      <td>2.0</td>\n",
       "      <td>1.5</td>\n",
       "      <td>1.950213</td>\n",
       "      <td>2.2500</td>\n",
       "      <td>2.25</td>\n",
       "      <td>1.988891</td>\n",
       "      <td>4.0</td>\n",
       "      <td>3.0</td>\n",
       "      <td>1.997521</td>\n",
       "    </tr>\n",
       "    <tr>\n",
       "      <td>3</td>\n",
       "      <td>0.153915</td>\n",
       "      <td>0.04</td>\n",
       "      <td>1.076884</td>\n",
       "      <td>1.108599</td>\n",
       "      <td>0.4</td>\n",
       "      <td>1.550671</td>\n",
       "      <td>1.8750</td>\n",
       "      <td>1.00</td>\n",
       "      <td>1.864665</td>\n",
       "      <td>2.0</td>\n",
       "      <td>2.0</td>\n",
       "      <td>1.981684</td>\n",
       "      <td>1.8750</td>\n",
       "      <td>3.00</td>\n",
       "      <td>1.997521</td>\n",
       "      <td>0.0</td>\n",
       "      <td>4.0</td>\n",
       "      <td>1.999665</td>\n",
       "    </tr>\n",
       "    <tr>\n",
       "      <td>4</td>\n",
       "      <td>0.190506</td>\n",
       "      <td>0.05</td>\n",
       "      <td>1.095163</td>\n",
       "      <td>1.271661</td>\n",
       "      <td>0.5</td>\n",
       "      <td>1.632121</td>\n",
       "      <td>1.9375</td>\n",
       "      <td>1.25</td>\n",
       "      <td>1.917915</td>\n",
       "      <td>2.0</td>\n",
       "      <td>2.5</td>\n",
       "      <td>1.993262</td>\n",
       "      <td>2.0625</td>\n",
       "      <td>3.75</td>\n",
       "      <td>1.999447</td>\n",
       "      <td>4.0</td>\n",
       "      <td>5.0</td>\n",
       "      <td>1.999955</td>\n",
       "    </tr>\n",
       "    <tr>\n",
       "      <td>...</td>\n",
       "      <td>...</td>\n",
       "      <td>...</td>\n",
       "      <td>...</td>\n",
       "      <td>...</td>\n",
       "      <td>...</td>\n",
       "      <td>...</td>\n",
       "      <td>...</td>\n",
       "      <td>...</td>\n",
       "      <td>...</td>\n",
       "      <td>...</td>\n",
       "      <td>...</td>\n",
       "      <td>...</td>\n",
       "      <td>...</td>\n",
       "      <td>...</td>\n",
       "      <td>...</td>\n",
       "      <td>...</td>\n",
       "      <td>...</td>\n",
       "      <td>...</td>\n",
       "    </tr>\n",
       "    <tr>\n",
       "      <td>1495</td>\n",
       "      <td>2.999902</td>\n",
       "      <td>14.96</td>\n",
       "      <td>3.000000</td>\n",
       "      <td>NaN</td>\n",
       "      <td>NaN</td>\n",
       "      <td>NaN</td>\n",
       "      <td>NaN</td>\n",
       "      <td>NaN</td>\n",
       "      <td>NaN</td>\n",
       "      <td>NaN</td>\n",
       "      <td>NaN</td>\n",
       "      <td>NaN</td>\n",
       "      <td>NaN</td>\n",
       "      <td>NaN</td>\n",
       "      <td>NaN</td>\n",
       "      <td>NaN</td>\n",
       "      <td>NaN</td>\n",
       "      <td>NaN</td>\n",
       "    </tr>\n",
       "    <tr>\n",
       "      <td>1496</td>\n",
       "      <td>2.999904</td>\n",
       "      <td>14.97</td>\n",
       "      <td>3.000000</td>\n",
       "      <td>NaN</td>\n",
       "      <td>NaN</td>\n",
       "      <td>NaN</td>\n",
       "      <td>NaN</td>\n",
       "      <td>NaN</td>\n",
       "      <td>NaN</td>\n",
       "      <td>NaN</td>\n",
       "      <td>NaN</td>\n",
       "      <td>NaN</td>\n",
       "      <td>NaN</td>\n",
       "      <td>NaN</td>\n",
       "      <td>NaN</td>\n",
       "      <td>NaN</td>\n",
       "      <td>NaN</td>\n",
       "      <td>NaN</td>\n",
       "    </tr>\n",
       "    <tr>\n",
       "      <td>1497</td>\n",
       "      <td>2.999906</td>\n",
       "      <td>14.98</td>\n",
       "      <td>3.000000</td>\n",
       "      <td>NaN</td>\n",
       "      <td>NaN</td>\n",
       "      <td>NaN</td>\n",
       "      <td>NaN</td>\n",
       "      <td>NaN</td>\n",
       "      <td>NaN</td>\n",
       "      <td>NaN</td>\n",
       "      <td>NaN</td>\n",
       "      <td>NaN</td>\n",
       "      <td>NaN</td>\n",
       "      <td>NaN</td>\n",
       "      <td>NaN</td>\n",
       "      <td>NaN</td>\n",
       "      <td>NaN</td>\n",
       "      <td>NaN</td>\n",
       "    </tr>\n",
       "    <tr>\n",
       "      <td>1498</td>\n",
       "      <td>2.999908</td>\n",
       "      <td>14.99</td>\n",
       "      <td>3.000000</td>\n",
       "      <td>NaN</td>\n",
       "      <td>NaN</td>\n",
       "      <td>NaN</td>\n",
       "      <td>NaN</td>\n",
       "      <td>NaN</td>\n",
       "      <td>NaN</td>\n",
       "      <td>NaN</td>\n",
       "      <td>NaN</td>\n",
       "      <td>NaN</td>\n",
       "      <td>NaN</td>\n",
       "      <td>NaN</td>\n",
       "      <td>NaN</td>\n",
       "      <td>NaN</td>\n",
       "      <td>NaN</td>\n",
       "      <td>NaN</td>\n",
       "    </tr>\n",
       "    <tr>\n",
       "      <td>1499</td>\n",
       "      <td>2.999910</td>\n",
       "      <td>15.00</td>\n",
       "      <td>3.000000</td>\n",
       "      <td>NaN</td>\n",
       "      <td>NaN</td>\n",
       "      <td>NaN</td>\n",
       "      <td>NaN</td>\n",
       "      <td>NaN</td>\n",
       "      <td>NaN</td>\n",
       "      <td>NaN</td>\n",
       "      <td>NaN</td>\n",
       "      <td>NaN</td>\n",
       "      <td>NaN</td>\n",
       "      <td>NaN</td>\n",
       "      <td>NaN</td>\n",
       "      <td>NaN</td>\n",
       "      <td>NaN</td>\n",
       "      <td>NaN</td>\n",
       "    </tr>\n",
       "  </tbody>\n",
       "</table>\n",
       "<p>1500 rows × 18 columns</p>\n",
       "</div>"
      ],
      "text/plain": [
       "      H = 0.001  Time(H = 0.001)  H(Exact)0.001  H = 0.01  Time(H = 0.01)  \\\n",
       "0      0.039642             0.01       1.019801  0.365854             0.1   \n",
       "1      0.078498             0.02       1.039211  0.664784             0.2   \n",
       "2      0.116584             0.03       1.058235  0.909031             0.3   \n",
       "3      0.153915             0.04       1.076884  1.108599             0.4   \n",
       "4      0.190506             0.05       1.095163  1.271661             0.5   \n",
       "...         ...              ...            ...       ...             ...   \n",
       "1495   2.999902            14.96       3.000000       NaN             NaN   \n",
       "1496   2.999904            14.97       3.000000       NaN             NaN   \n",
       "1497   2.999906            14.98       3.000000       NaN             NaN   \n",
       "1498   2.999908            14.99       3.000000       NaN             NaN   \n",
       "1499   2.999910            15.00       3.000000       NaN             NaN   \n",
       "\n",
       "      H(Exact)0.01  H = 0.25  Time(H = 0.25)  H(Exact)0.25  H = 0.5  \\\n",
       "0         1.181269    1.0000            0.25      1.393469      2.0   \n",
       "1         1.329680    1.5000            0.50      1.632121      2.0   \n",
       "2         1.451188    1.7500            0.75      1.776870      2.0   \n",
       "3         1.550671    1.8750            1.00      1.864665      2.0   \n",
       "4         1.632121    1.9375            1.25      1.917915      2.0   \n",
       "...            ...       ...             ...           ...      ...   \n",
       "1495           NaN       NaN             NaN           NaN      NaN   \n",
       "1496           NaN       NaN             NaN           NaN      NaN   \n",
       "1497           NaN       NaN             NaN           NaN      NaN   \n",
       "1498           NaN       NaN             NaN           NaN      NaN   \n",
       "1499           NaN       NaN             NaN           NaN      NaN   \n",
       "\n",
       "      Time(H = 0.5)  H(Exact)0.5  H = 0.75  Time(H = 0.75)  H(Exact)0.75  \\\n",
       "0               0.5     1.632121    3.0000            0.75      1.776870   \n",
       "1               1.0     1.864665    1.5000            1.50      1.950213   \n",
       "2               1.5     1.950213    2.2500            2.25      1.988891   \n",
       "3               2.0     1.981684    1.8750            3.00      1.997521   \n",
       "4               2.5     1.993262    2.0625            3.75      1.999447   \n",
       "...             ...          ...       ...             ...           ...   \n",
       "1495            NaN          NaN       NaN             NaN           NaN   \n",
       "1496            NaN          NaN       NaN             NaN           NaN   \n",
       "1497            NaN          NaN       NaN             NaN           NaN   \n",
       "1498            NaN          NaN       NaN             NaN           NaN   \n",
       "1499            NaN          NaN       NaN             NaN           NaN   \n",
       "\n",
       "      H = 1  Time(H = 1)  H(Exact)0.75  \n",
       "0       4.0          1.0      1.864665  \n",
       "1       0.0          2.0      1.981684  \n",
       "2       4.0          3.0      1.997521  \n",
       "3       0.0          4.0      1.999665  \n",
       "4       4.0          5.0      1.999955  \n",
       "...     ...          ...           ...  \n",
       "1495    NaN          NaN           NaN  \n",
       "1496    NaN          NaN           NaN  \n",
       "1497    NaN          NaN           NaN  \n",
       "1498    NaN          NaN           NaN  \n",
       "1499    NaN          NaN           NaN  \n",
       "\n",
       "[1500 rows x 18 columns]"
      ]
     },
     "execution_count": 18,
     "metadata": {},
     "output_type": "execute_result"
    }
   ],
   "source": [
    "data2 = {'H = 0.001':x_save1,'Time(H = 0.001)':t_save1}\n",
    "df2= pd.DataFrame(data2)\n",
    "data2_1 = {'H(Exact)0.001':x_exact_save1}\n",
    "df2_1 = pd.DataFrame(data2_1)\n",
    "data3 = {'H = 0.01':x_save2,'Time(H = 0.01)':t_save2}\n",
    "df3= pd.DataFrame(data3)\n",
    "data3_1 = {'H(Exact)0.01':x_exact_save2}\n",
    "df3_1 = pd.DataFrame(data3_1)\n",
    "data4= {'H = 0.25':x_array3,'Time(H = 0.25)':t_array3}\n",
    "df4= pd.DataFrame(data4)\n",
    "data4_1 = {'H(Exact)0.25':x_exact_array3}\n",
    "df4_1 = pd.DataFrame(data4_1)\n",
    "data5= {'H = 0.5':x_array4,'Time(H = 0.5)':t_array4}\n",
    "df5= pd.DataFrame(data5)\n",
    "data5_1 = {'H(Exact)0.5':x_exact_array4}\n",
    "df5_1 = pd.DataFrame(data5_1)\n",
    "data6= {'H = 0.75':x_array5,'Time(H = 0.75)':t_array5}\n",
    "df6= pd.DataFrame(data6)\n",
    "data6_1 = {'H(Exact)0.75':x_exact_array5}\n",
    "df6_1 = pd.DataFrame(data6_1)\n",
    "data7= {'H = 1':x_array6,'Time(H = 1)':t_array6}\n",
    "df7= pd.DataFrame(data7)\n",
    "data7_1 = {'H(Exact)0.75':x_exact_array6}\n",
    "df7_1 = pd.DataFrame(data7_1)\n",
    "frames = [df2,df2_1, df3,df3_1,df4,df4_1,df5,df5_1,df6,df6_1,df7,df7_1]\n",
    "result = pd.concat(frames, axis=1, sort=False)\n",
    "result"
   ]
  },
  {
   "cell_type": "code",
   "execution_count": 20,
   "metadata": {},
   "outputs": [],
   "source": [
    "result.to_csv(\"Step_sizes1.csv\")"
   ]
  },
  {
   "cell_type": "code",
   "execution_count": null,
   "metadata": {},
   "outputs": [],
   "source": []
  },
  {
   "cell_type": "markdown",
   "metadata": {},
   "source": [
    "# Part 2: Random Noise using Box Muller Method"
   ]
  },
  {
   "cell_type": "markdown",
   "metadata": {},
   "source": [
    "## Initialise/Compute standard deviation and mean"
   ]
  },
  {
   "cell_type": "code",
   "execution_count": 11,
   "metadata": {},
   "outputs": [
    {
     "name": "stdout",
     "output_type": "stream",
     "text": [
      "deviation:  0.0431 mean:  0.5 DEVIATION:  0.7789244866974134 MEAN:  1.900142980914039\n"
     ]
    }
   ],
   "source": [
    "import statistics as stat\n",
    "std_dev1 = stat.stdev(x_array1)   #calculate standard deviation of input array\n",
    "_mean1 = stat.mean(x_array1)      #calculate mean of input array\n",
    "\n",
    "std_dev = 0.0431                  #set custom standard deviation\n",
    "_mean = 0.5                       #set custom mean\n",
    "print(\"deviation: \",std_dev,\"mean: \",_mean,\"DEVIATION: \",std_dev1,\"MEAN: \",_mean1)"
   ]
  },
  {
   "cell_type": "markdown",
   "metadata": {},
   "source": [
    "## compute box muller algorithm"
   ]
  },
  {
   "cell_type": "code",
   "execution_count": 12,
   "metadata": {},
   "outputs": [],
   "source": [
    "def box_muller(array,standard_deviation,mean):\n",
    "    random_vls = []\n",
    "    i = 0\n",
    "    it = 0                    #switches between the 2 random numbers generated\n",
    "    box_1 = []                #saves value from one of the numbers generated\n",
    "    box_2 = []                #saves values from the other number generated\n",
    "    while i < len(array):     #while its not end of the input array\n",
    "        if(it == 0):\n",
    "            z1 =  rand.uniform(0,2*np.pi)       #generate random number between 0 and 2 * pi\n",
    "            b  =  standard_deviation*np.sqrt(-2*math.log(rand.uniform(0,1)))     \n",
    "            z2 =  b*(math.sin(z1))+mean\n",
    "            z3 =  b*(math.cos(z1))+mean\n",
    "            box_1.append(z2)\n",
    "            noise = array[i] + z2\n",
    "            random_vls.append(noise)\n",
    "            it = 1\n",
    "            i = i + 1\n",
    "        else:\n",
    "            it = 0\n",
    "            box_2.append(z3)\n",
    "            noise = array[i] + z3\n",
    "            random_vls.append(noise)\n",
    "            i= i + 1\n",
    "    return random_vls,box_1,box_2"
   ]
  },
  {
   "cell_type": "code",
   "execution_count": 13,
   "metadata": {},
   "outputs": [],
   "source": [
    "random_vals = []\n",
    "random_vals,b1,b2 = box_muller(x_save2,std_dev,_mean)"
   ]
  },
  {
   "cell_type": "markdown",
   "metadata": {},
   "source": [
    "## Noise plot"
   ]
  },
  {
   "cell_type": "code",
   "execution_count": 14,
   "metadata": {},
   "outputs": [
    {
     "data": {
      "image/png": "[encoded data removed]",
      "text/plain": [
       "<Figure size 432x288 with 1 Axes>"
      ]
     },
     "metadata": {
      "needs_background": "light"
     },
     "output_type": "display_data"
    }
   ],
   "source": [
    "y = random_vals\n",
    "x = t_save2\n",
    "plt.plot(x,y,\"b\") #actual\n",
    "plt.show()"
   ]
  },
  {
   "cell_type": "markdown",
   "metadata": {},
   "source": [
    "## Proof that numbers generated fall within a gaussian distribution"
   ]
  },
  {
   "cell_type": "code",
   "execution_count": 15,
   "metadata": {},
   "outputs": [
    {
     "data": {
      "text/plain": [
       "<matplotlib.axes._subplots.AxesSubplot at 0x20fc7804f48>"
      ]
     },
     "execution_count": 15,
     "metadata": {},
     "output_type": "execute_result"
    },
    {
     "data": {
      "image/png": "[encoded data removed]",
      "text/plain": [
       "<Figure size 432x288 with 1 Axes>"
      ]
     },
     "metadata": {
      "needs_background": "light"
     },
     "output_type": "display_data"
    }
   ],
   "source": [
    "sns.distplot(b1)"
   ]
  },
  {
   "cell_type": "code",
   "execution_count": 16,
   "metadata": {},
   "outputs": [
    {
     "data": {
      "text/plain": [
       "<matplotlib.axes._subplots.AxesSubplot at 0x20fc28e7148>"
      ]
     },
     "execution_count": 16,
     "metadata": {},
     "output_type": "execute_result"
    },
    {
     "data": {
      "image/png": "[encoded data removed]",
      "text/plain": [
       "<Figure size 432x288 with 1 Axes>"
      ]
     },
     "metadata": {
      "needs_background": "light"
     },
     "output_type": "display_data"
    }
   ],
   "source": [
    "sns.distplot(b2)"
   ]
  },
  {
   "cell_type": "code",
   "execution_count": 17,
   "metadata": {},
   "outputs": [
    {
     "data": {
      "text/plain": [
       "<matplotlib.axes._subplots.AxesSubplot at 0x20fc7b2aa48>"
      ]
     },
     "execution_count": 17,
     "metadata": {},
     "output_type": "execute_result"
    },
    {
     "data": {
      "image/png": "[encoded data removed]",
      "text/plain": [
       "<Figure size 432x288 with 1 Axes>"
      ]
     },
     "metadata": {
      "needs_background": "light"
     },
     "output_type": "display_data"
    }
   ],
   "source": [
    "sns.distplot(random_vals)"
   ]
  },
  {
   "cell_type": "markdown",
   "metadata": {},
   "source": [
    "# Part 3: Adding an intelligent agent to track the noise"
   ]
  },
  {
   "cell_type": "markdown",
   "metadata": {},
   "source": [
    "## Sigmoid Activation"
   ]
  },
  {
   "cell_type": "code",
   "execution_count": 18,
   "metadata": {},
   "outputs": [],
   "source": [
    "def sigmoid_activation(val):\n",
    "  sigmoid = 1/1+np.exp(-val)#sigmoid activation function\n",
    "  return sigmoid\n",
    "\n",
    "def train_weights3(array, lr, loops):\n",
    "    weights3 = [1,rand.uniform(0,1),rand.uniform(0,1),rand.uniform(0,1)]#weights initialisation\n",
    "    weights3_1 = []         #save weights\n",
    "    itr_array = []          #saves number of epochs done\n",
    "    sum_error_array = []    #saves sum_error generated per epoch\n",
    "    Accuracy_array = []\n",
    "    Accuracy_out = []\n",
    "    for loop in range(loops):               #for each epoch in epochs\n",
    "        net_array = []                      #saves network predictions\n",
    "        error_array = []                    #saves error\n",
    "        sum_error = 0.0                     #a variable that keeps track of error generated\n",
    "        c = 0                               #counter for initialising\n",
    "        w_adaptor = 0                       #used to iterate through saved weights in order to update them\n",
    "        if loop < 1:                        #if its less than one epoch, create new weights and append them to an array\n",
    "            for a in array:                 #for each input in input array\n",
    "                weights3_1.append([weights3[0],weights3[1],weights3[2],weights3[3]])  #append new weights to empty weight array\n",
    "                prediction, netwrk_sum = predict3(a,weights3)                         #predict function for sigmoid network\n",
    "                if c == 0:\n",
    "                    Target = a[2]\n",
    "                    #print(1)\n",
    "                elif c==1:\n",
    "                    Target = a[1]\n",
    "                else:\n",
    "                    Target = a[0]\n",
    "                delta = Target - prediction  #calculate error of the prediction\n",
    "                error = delta\n",
    "                Accuracy = accuracy(Target, prediction)\n",
    "                Accuracy_array.append(Accuracy)\n",
    "                error_array.append(error)    #save error\n",
    "                net_array.append(prediction) #save network\n",
    "                #------------------------WEIGHTS UPDATED BY CORRESPONDING CURRENT ERROR AND INPUT----------------------------------\n",
    "                weights3_change_bias = -a[0] *lr*(error)         #calculate weight change for bias\n",
    "                weights3[0] = weights3[0] + weights3_change_bias #add weight change calculated to current bias\n",
    "                weights3_change= -a[0]*(error)*lr                #calculate weight change for input weights\n",
    "                for i in range(len(a)):                          #iterate over every input weight\n",
    "                    weights3[i + 1] = weights3[i +1] + weights3_change     #update each input weight\n",
    "                sum_error += error**2                            #calculate sum error\n",
    "                c = c + 1                                        #increase counter\n",
    "            Average_accuracy = np.average(Accuracy_array)\n",
    "            Accuracy_out.append(Average_accuracy)\n",
    "            #Average_accuracy = int(sum(Accuracy_array))/len(Accuracy_array)\n",
    "            print('>epoch=%d, lrate=%.3f, error=%.3f,sum_error=%.3f,accuracy=%.3f' % (loop, lr, error, sum_error,Average_accuracy))\n",
    "            sum_error_array.append(sum_error)                    #append sum_error\n",
    "            itr_array.append(loop)                                #append iteration\n",
    "        else:\n",
    "            for a in array:\n",
    "                prediction, netwrk_sum = predict3(a,weights3_1[w_adaptor]) #calculate prediction based on created weights\n",
    "                if c == 0:\n",
    "                    Target = a[2]\n",
    "                    #print(1)\n",
    "                elif c==1:\n",
    "                    Target = a[1]\n",
    "                else:\n",
    "                    Target = a[0]\n",
    "                delta = Target - prediction        #calculate error change\n",
    "                error = delta \n",
    "                Accuracy = accuracy(Target, prediction)\n",
    "                #print(\"Accuracy\",Accuracy)\n",
    "                Accuracy_array[c] = Accuracy\n",
    "                error_array.append(error)          #append error\n",
    "                net_array.append(prediction)       #append network prediction \n",
    "                #------------------------WEIGHTS UPDATED BY CORRESPONDING CURRENT ERROR AND INPUT----------------------------------\n",
    "                weights3_change_bias = -a[0] *lr*(error) #calculate weight change for bias\n",
    "                weights3_1[w_adaptor][0] = weights3_1[w_adaptor][0] + weights3_change_bias #add weight change to current bias\n",
    "                weights3_change= -a[0]*(error)*lr  #calculate weight change\n",
    "                for i in range(len(a)):            #iterate through each input\n",
    "                     weights3_1[w_adaptor][i + 1] =  weights3_1[w_adaptor][i +1] + weights3_change #for each input weight add weight change\n",
    "                sum_error += error**2          #calculate error squared\n",
    "                c = c + 1                      #increment counter\n",
    "                w_adaptor = w_adaptor + 1      #increment weight adaptor\n",
    "            Average_accuracy = np.average(Accuracy_array)\n",
    "            Accuracy_out.append(Average_accuracy)\n",
    "            #Average_accuracy = int(sum(Accuracy_array))/len(Accuracy_array)\n",
    "            print('>epoch=%d, lrate=%.3f, error=%.3f,sum_error=%.3f,accuracy=%.3f' % (loop, lr, error, sum_error,Average_accuracy))\n",
    "            sum_error_array.append(sum_error)  #append error\n",
    "            itr_array.append(loop)             #append iteration\n",
    "    return net_array,error_array,weights3_1,sum_error_array,itr_array,Accuracy_out\n",
    "            \n",
    "def predict3(noise2,weights2):\n",
    "    net_sum = 0\n",
    "    net_sum = weights2[0] #obtain bias from weight array\n",
    "    for i in range(len(noise2)-1):\n",
    "        net_sum += weights2[i + 1] * noise2[i] #multiply input by respective weight to obtain a summation\n",
    "    activation2 = sigmoid_activation(net_sum)  #implement sigmoid function to summation obtained\n",
    "    return activation2, net_sum                #return activation and network sum\n",
    "\n",
    "def triple_converter(array):                   #converts input into a tuple so that we can pass 3 input weights per prediction\n",
    "    triple_array = []\n",
    "    c = 0                                      #counter\n",
    "    while c < len(array):\n",
    "        if c == 0:\n",
    "            triple_array.append([0,0,array[c]])\n",
    "        elif c == 1:\n",
    "            triple_array.append([0,array[c],array[c-1]])\n",
    "        else:\n",
    "            triple_array.append([array[c],array[c-1],array[c-2]])\n",
    "        c = c + 1                              #increment counter\n",
    "    return triple_array\n",
    "\n",
    "\n",
    "##----------------------------------------ACCURACY CALCULATOR--------------------------------------##\n",
    "def accuracy(Target, Predicted):\n",
    "    Expected = abs(Target - Predicted)\n",
    "    Example = Target - Expected\n",
    "    result = Example/Target * 100\n",
    "    return result\n"
   ]
  },
  {
   "cell_type": "markdown",
   "metadata": {},
   "source": [
    "## Step function activation"
   ]
  },
  {
   "cell_type": "code",
   "execution_count": 19,
   "metadata": {},
   "outputs": [],
   "source": [
    "##--------------------------------SINGLE PERCEPTRON-----------------------------------------------##\n",
    "def predict_step(noise1,weights1):\n",
    "    net_sum = 0                                #net_sum initialise\n",
    "    out = 0                                    #initialise output of step function\n",
    "    net_sum = weights1[0]                      #grab bias from weights and set as current net_sum \n",
    "    for i in range(len(noise1)-1):             #for every input\n",
    "        net_sum += weights1[i + 1] * noise1[i] #multiply each input to weight and add result to netsum\n",
    "    if net_sum > 1: #if netsum is greater than 1                        \n",
    "        out = 1     #set output of step to 1\n",
    "    else:           #else\n",
    "        out = 0     #set output to 0\n",
    "    return out      #return output\n",
    "\n",
    "def train_weights_step(array, lr, loops):\n",
    "    weights3 = [1,rand.uniform(0,1),rand.uniform(0,1),rand.uniform(0,1)] #initialise weights\n",
    "    weights3_1 = []             #append/save created weights\n",
    "    for loop in range(loops):   #for each epoch in epochs\n",
    "        net_array = []          #append network values\n",
    "        error_array = []        #append error array\n",
    "        sum_error = 0.0         #keep track of sum_error\n",
    "        c = 0                   #counter variable\n",
    "        w_adaptor = 0           #weight counter(used to iterate through each value in weights array)\n",
    "        if loop < 1:            #if its less than one epoch, create new weights and append them to an array\n",
    "            for a in array:     #for each input in array input\n",
    "                weights3_1.append([weights3[0],weights3[1],weights3[2],weights3[3]]) #append weights created\n",
    "                prediction = predict_step(a,weights3)                                #grab weights created and predict\n",
    "                if c == 0:\n",
    "                    Target = a[2]\n",
    "                    #print(1)\n",
    "                elif c==1:\n",
    "                    Target = a[1]\n",
    "                else:\n",
    "                    Target = a[0]\n",
    "                delta = Target - prediction      #calculate error\n",
    "                error = delta\n",
    "                error_array.append(error)        #append error\n",
    "                net_array.append(prediction)\n",
    "                #------------------------WEIGHTS UPDATED BY CORRESPONDING CURRENT ERROR AND INPUT----------------------------------\n",
    "                weights3_change_bias = -a[0]*lr*error           #calculate weight change for bias\n",
    "                weights3[0] = weights3[0] + weights3_change_bias#add calculated weight change to bias\n",
    "                weights3_change= -a[0]*lr*error                 #calculate weight change for inputs\n",
    "                for i in range(len(a)):                         #for each input in input array\n",
    "                    weights3[i + 1] = weights3[i +1] + weights3_change #obtain respective weight and add it with the weight change\n",
    "                sum_error += error**2            #calculate sum_error\n",
    "                c = c + 1                        #increment counter\n",
    "            print('>epoch=%d, lrate=%.3f, error=%.3f, , sum_error=%.3f' % (loop, lr, error, sum_error))\n",
    "        else:                               #if epoch is > 1\n",
    "            for a in array:                 #for each input in input array\n",
    "                prediction = predict_step(a,weights3_1[w_adaptor]) #calculate predictions using weights from previous epoch\n",
    "                if c == 0:\n",
    "                    Target = a[2]\n",
    "                elif c==1:\n",
    "                    Target = a[1]\n",
    "                else:\n",
    "                    Target = a[0]\n",
    "                delta = prediction - Target #calculate error\n",
    "                error = delta\n",
    "                error_array.append(error)   #append error\n",
    "                net_array.append(prediction)#append predictions\n",
    "                #------------------------WEIGHTS UPDATED BY CORRESPONDING CURRENT ERROR AND INPUT----------------------------------\n",
    "            \n",
    "                weights3_change_bias = -a[0] *lr*(error) #calulate weight change for bias\n",
    "                weights3_1[w_adaptor][0] = weights3_1[w_adaptor][0] + weights3_change_bias #update bias weight in the saved weights array\n",
    "                weights3_change= -a[0]*(error)*lr       #calculate weight change for weights in input\n",
    "                for i in range(len(a)):                 #for each input in input array\n",
    "                     weights3_1[w_adaptor][i + 1] =  weights3_1[w_adaptor][i +1] + weights3_change #update respective weights in weights array\n",
    "                sum_error += error**2                   #calculate sum_error\n",
    "                c = c + 1                               #increment counter\n",
    "                w_adaptor = w_adaptor + 1               #increment weight counter\n",
    "            print('>epoch=%d, lrate=%.3f, error=%.3f, , sum_error=%.3f' % (loop, lr, error, sum_error))\n",
    "    return net_array,error_array,weights3_1"
   ]
  },
  {
   "cell_type": "markdown",
   "metadata": {},
   "source": [
    "# Implement weights function(sigmoid)"
   ]
  },
  {
   "cell_type": "code",
   "execution_count": 20,
   "metadata": {},
   "outputs": [],
   "source": [
    "def implement_weights3(array,weights):\n",
    "    net_array = []\n",
    "    error_array = []\n",
    "    sum_error = 0.0\n",
    "    w_adaptor = 0\n",
    "    for a in array: #loop through each input in array\n",
    "        prediction, netwrk_sum = predict3(a,weights[w_adaptor]) #grab saved weight and predict\n",
    "        net_array.append(prediction)   #append prediction\n",
    "        Target = a[0]                  #current input\n",
    "        error = Target - prediction    #error calculation\n",
    "        error_array.append(error)      #append error\n",
    "        sum_error += error**2          #calculate sum_error\n",
    "        w_adaptor = w_adaptor + 1      #increment weight counter\n",
    "    print('>error=%.3f,sum_error=%.3f' % (error, sum_error))\n",
    "    return net_array,sum_error\n",
    "            \n",
    "def predict3(noise2,weights2):\n",
    "    net_sum = 0\n",
    "    net_sum = weights2[0]\n",
    "    for i in range(len(noise2)-1):\n",
    "        net_sum += weights2[i + 1] * noise2[i]\n",
    "    activation2 = sigmoid_activation(net_sum)\n",
    "    return activation2, net_sum\n",
    "#x_save2"
   ]
  },
  {
   "cell_type": "markdown",
   "metadata": {},
   "source": [
    "## Train network using sigmoid"
   ]
  },
  {
   "cell_type": "code",
   "execution_count": 21,
   "metadata": {},
   "outputs": [
    {
     "name": "stdout",
     "output_type": "stream",
     "text": [
      ">epoch=0, lrate=0.010, error=-0.024,sum_error=58.809,accuracy=80.522\n",
      ">epoch=1, lrate=0.010, error=-0.024,sum_error=58.809,accuracy=80.522\n",
      ">epoch=2, lrate=0.010, error=-0.007,sum_error=53.693,accuracy=81.823\n",
      ">epoch=3, lrate=0.010, error=-0.002,sum_error=49.481,accuracy=82.882\n",
      ">epoch=4, lrate=0.010, error=-0.001,sum_error=45.884,accuracy=83.805\n"
     ]
    }
   ],
   "source": [
    "dat1 = triple_converter(random_vals)\n",
    "values,e,w,test,itrArray,accuracy_array = train_weights3(dat1, 0.01,5)\n",
    "#0.006531\n",
    "\n",
    "#save to dataframe\n",
    "data6= {'Noise_values':dat1,'Output of Perceptron':values,'Error':e,'T':t_save2}\n",
    "df6= pd.DataFrame(data6)"
   ]
  },
  {
   "cell_type": "markdown",
   "metadata": {},
   "source": [
    "## Implementation during training"
   ]
  },
  {
   "cell_type": "code",
   "execution_count": 22,
   "metadata": {},
   "outputs": [
    {
     "data": {
      "image/png": "[encoded data removed]",
      "text/plain": [
       "<Figure size 432x288 with 1 Axes>"
      ]
     },
     "metadata": {
      "needs_background": "light"
     },
     "output_type": "display_data"
    }
   ],
   "source": [
    "y_axis = values #network output\n",
    "y = random_vals\n",
    "x_axis = x = t_save2\n",
    "plt.plot(x,y,\"y\") #actual\n",
    "plt.plot(x_axis,y_axis,\"b\")#noise\n",
    "plt.show()"
   ]
  },
  {
   "cell_type": "markdown",
   "metadata": {},
   "source": [
    "## Weights implementation on unseen but similar data"
   ]
  },
  {
   "cell_type": "code",
   "execution_count": 23,
   "metadata": {},
   "outputs": [
    {
     "name": "stdout",
     "output_type": "stream",
     "text": [
      ">error=-0.203,sum_error=44.051\n"
     ]
    }
   ],
   "source": [
    "dat1 = triple_converter(x_save2)\n",
    "net_array,sum_error_array = implement_weights3(dat1,w) #use trained weights(w) on unseen data"
   ]
  },
  {
   "cell_type": "markdown",
   "metadata": {},
   "source": [
    "## Network ouput on unseen data(blue)"
   ]
  },
  {
   "cell_type": "code",
   "execution_count": 24,
   "metadata": {},
   "outputs": [
    {
     "data": {
      "image/png": "[encoded data removed]",
      "text/plain": [
       "<Figure size 432x288 with 1 Axes>"
      ]
     },
     "metadata": {
      "needs_background": "light"
     },
     "output_type": "display_data"
    }
   ],
   "source": [
    "y_axis = net_array #network output\n",
    "y = x_save2\n",
    "x_axis = x = t_save2\n",
    "plt.plot(x,y,\"y\") #actual\n",
    "plt.plot(x_axis,y_axis,\"b\")#noise\n",
    "plt.show()"
   ]
  },
  {
   "cell_type": "markdown",
   "metadata": {},
   "source": [
    "### Error plot per iteration"
   ]
  },
  {
   "cell_type": "code",
   "execution_count": 25,
   "metadata": {},
   "outputs": [
    {
     "data": {
      "image/png": "[encoded data removed]",
      "text/plain": [
       "<Figure size 432x288 with 1 Axes>"
      ]
     },
     "metadata": {
      "needs_background": "light"
     },
     "output_type": "display_data"
    }
   ],
   "source": [
    "error_dataframe = {'Error':test,'Epochs':itrArray}\n",
    "error_df = pd.DataFrame(error_dataframe)\n",
    "error_plt = sns.lineplot(x=\"Epochs\", y=\"Error\", data=error_df) #blue"
   ]
  },
  {
   "cell_type": "markdown",
   "metadata": {},
   "source": [
    "## Accuracy plot"
   ]
  },
  {
   "cell_type": "code",
   "execution_count": 26,
   "metadata": {},
   "outputs": [
    {
     "data": {
      "text/plain": [
       "5"
      ]
     },
     "execution_count": 26,
     "metadata": {},
     "output_type": "execute_result"
    }
   ],
   "source": [
    "len(test)"
   ]
  },
  {
   "cell_type": "code",
   "execution_count": 27,
   "metadata": {},
   "outputs": [
    {
     "data": {
      "image/png": "[encoded data removed]",
      "text/plain": [
       "<Figure size 432x288 with 1 Axes>"
      ]
     },
     "metadata": {
      "needs_background": "light"
     },
     "output_type": "display_data"
    }
   ],
   "source": [
    "error_dataframe = {'Accuracy':accuracy_array,'Epochs':itrArray}\n",
    "error_df = pd.DataFrame(error_dataframe)\n",
    "error_plt = sns.lineplot(x=\"Epochs\", y=\"Accuracy\", data=error_df) #blue"
   ]
  },
  {
   "cell_type": "markdown",
   "metadata": {},
   "source": [
    "## Dataframe containing noise values, trained values and error"
   ]
  },
  {
   "cell_type": "code",
   "execution_count": 28,
   "metadata": {},
   "outputs": [
    {
     "data": {
      "text/html": [
       "<div>\n",
       "<style scoped>\n",
       "    .dataframe tbody tr th:only-of-type {\n",
       "        vertical-align: middle;\n",
       "    }\n",
       "\n",
       "    .dataframe tbody tr th {\n",
       "        vertical-align: top;\n",
       "    }\n",
       "\n",
       "    .dataframe thead th {\n",
       "        text-align: right;\n",
       "    }\n",
       "</style>\n",
       "<table border=\"1\" class=\"dataframe\">\n",
       "  <thead>\n",
       "    <tr style=\"text-align: right;\">\n",
       "      <th></th>\n",
       "      <th>Noise_values</th>\n",
       "      <th>Output of Perceptron</th>\n",
       "      <th>Error</th>\n",
       "      <th>T</th>\n",
       "    </tr>\n",
       "  </thead>\n",
       "  <tbody>\n",
       "    <tr>\n",
       "      <td>0</td>\n",
       "      <td>[0, 0, 0.912354202994902]</td>\n",
       "      <td>1.367879</td>\n",
       "      <td>-0.455525</td>\n",
       "      <td>0.1</td>\n",
       "    </tr>\n",
       "    <tr>\n",
       "      <td>1</td>\n",
       "      <td>[0, 1.1737416327188175, 0.912354202994902]</td>\n",
       "      <td>1.139292</td>\n",
       "      <td>0.034450</td>\n",
       "      <td>0.2</td>\n",
       "    </tr>\n",
       "    <tr>\n",
       "      <td>2</td>\n",
       "      <td>[1.3611939097934838, 1.1737416327188175, 0.912...</td>\n",
       "      <td>1.037919</td>\n",
       "      <td>0.323275</td>\n",
       "      <td>0.3</td>\n",
       "    </tr>\n",
       "    <tr>\n",
       "      <td>3</td>\n",
       "      <td>[1.5791767602094091, 1.3611939097934838, 1.173...</td>\n",
       "      <td>1.028171</td>\n",
       "      <td>0.551006</td>\n",
       "      <td>0.4</td>\n",
       "    </tr>\n",
       "    <tr>\n",
       "      <td>4</td>\n",
       "      <td>[1.8071062578852057, 1.5791767602094091, 1.361...</td>\n",
       "      <td>1.021259</td>\n",
       "      <td>0.785847</td>\n",
       "      <td>0.5</td>\n",
       "    </tr>\n",
       "    <tr>\n",
       "      <td>...</td>\n",
       "      <td>...</td>\n",
       "      <td>...</td>\n",
       "      <td>...</td>\n",
       "      <td>...</td>\n",
       "    </tr>\n",
       "    <tr>\n",
       "      <td>145</td>\n",
       "      <td>[3.462991132191783, 3.519481920551863, 3.50192...</td>\n",
       "      <td>3.464812</td>\n",
       "      <td>-0.001821</td>\n",
       "      <td>14.6</td>\n",
       "    </tr>\n",
       "    <tr>\n",
       "      <td>146</td>\n",
       "      <td>[3.458484915897716, 3.462991132191783, 3.51948...</td>\n",
       "      <td>3.458255</td>\n",
       "      <td>0.000230</td>\n",
       "      <td>14.7</td>\n",
       "    </tr>\n",
       "    <tr>\n",
       "      <td>147</td>\n",
       "      <td>[3.5220908794582035, 3.458484915897716, 3.4629...</td>\n",
       "      <td>3.520499</td>\n",
       "      <td>0.001592</td>\n",
       "      <td>14.8</td>\n",
       "    </tr>\n",
       "    <tr>\n",
       "      <td>148</td>\n",
       "      <td>[3.5372821282099034, 3.5220908794582035, 3.458...</td>\n",
       "      <td>3.537313</td>\n",
       "      <td>-0.000031</td>\n",
       "      <td>14.9</td>\n",
       "    </tr>\n",
       "    <tr>\n",
       "      <td>149</td>\n",
       "      <td>[3.519220756016273, 3.5372821282099034, 3.5220...</td>\n",
       "      <td>3.519778</td>\n",
       "      <td>-0.000558</td>\n",
       "      <td>15.0</td>\n",
       "    </tr>\n",
       "  </tbody>\n",
       "</table>\n",
       "<p>150 rows × 4 columns</p>\n",
       "</div>"
      ],
      "text/plain": [
       "                                          Noise_values  Output of Perceptron  \\\n",
       "0                            [0, 0, 0.912354202994902]              1.367879   \n",
       "1           [0, 1.1737416327188175, 0.912354202994902]              1.139292   \n",
       "2    [1.3611939097934838, 1.1737416327188175, 0.912...              1.037919   \n",
       "3    [1.5791767602094091, 1.3611939097934838, 1.173...              1.028171   \n",
       "4    [1.8071062578852057, 1.5791767602094091, 1.361...              1.021259   \n",
       "..                                                 ...                   ...   \n",
       "145  [3.462991132191783, 3.519481920551863, 3.50192...              3.464812   \n",
       "146  [3.458484915897716, 3.462991132191783, 3.51948...              3.458255   \n",
       "147  [3.5220908794582035, 3.458484915897716, 3.4629...              3.520499   \n",
       "148  [3.5372821282099034, 3.5220908794582035, 3.458...              3.537313   \n",
       "149  [3.519220756016273, 3.5372821282099034, 3.5220...              3.519778   \n",
       "\n",
       "        Error     T  \n",
       "0   -0.455525   0.1  \n",
       "1    0.034450   0.2  \n",
       "2    0.323275   0.3  \n",
       "3    0.551006   0.4  \n",
       "4    0.785847   0.5  \n",
       "..        ...   ...  \n",
       "145 -0.001821  14.6  \n",
       "146  0.000230  14.7  \n",
       "147  0.001592  14.8  \n",
       "148 -0.000031  14.9  \n",
       "149 -0.000558  15.0  \n",
       "\n",
       "[150 rows x 4 columns]"
      ]
     },
     "execution_count": 28,
     "metadata": {},
     "output_type": "execute_result"
    }
   ],
   "source": [
    "df6"
   ]
  },
  {
   "cell_type": "markdown",
   "metadata": {},
   "source": [
    "## Train network using step function"
   ]
  },
  {
   "cell_type": "code",
   "execution_count": 29,
   "metadata": {},
   "outputs": [
    {
     "name": "stdout",
     "output_type": "stream",
     "text": [
      ">epoch=0, lrate=0.010, error=3.000, , sum_error=597.396\n",
      ">epoch=1, lrate=0.010, error=-3.000, , sum_error=597.396\n",
      ">epoch=2, lrate=0.010, error=-3.000, , sum_error=594.466\n",
      ">epoch=3, lrate=0.010, error=-3.000, , sum_error=591.524\n",
      ">epoch=4, lrate=0.010, error=-3.000, , sum_error=588.571\n",
      ">epoch=5, lrate=0.010, error=-3.000, , sum_error=585.609\n",
      ">epoch=6, lrate=0.010, error=-3.000, , sum_error=582.640\n",
      ">epoch=7, lrate=0.010, error=-3.000, , sum_error=579.666\n",
      ">epoch=8, lrate=0.010, error=-3.000, , sum_error=576.687\n",
      ">epoch=9, lrate=0.010, error=-3.000, , sum_error=573.704\n",
      ">epoch=10, lrate=0.010, error=-3.000, , sum_error=570.718\n",
      ">epoch=11, lrate=0.010, error=-3.000, , sum_error=567.730\n",
      ">epoch=12, lrate=0.010, error=-3.000, , sum_error=564.739\n",
      ">epoch=13, lrate=0.010, error=-3.000, , sum_error=561.747\n",
      ">epoch=14, lrate=0.010, error=-3.000, , sum_error=558.753\n",
      ">epoch=15, lrate=0.010, error=-3.000, , sum_error=555.758\n",
      ">epoch=16, lrate=0.010, error=-3.000, , sum_error=552.762\n",
      ">epoch=17, lrate=0.010, error=-3.000, , sum_error=549.765\n",
      ">epoch=18, lrate=0.010, error=-3.000, , sum_error=546.768\n",
      ">epoch=19, lrate=0.010, error=-3.000, , sum_error=543.770\n",
      ">epoch=20, lrate=0.010, error=-3.000, , sum_error=540.772\n",
      ">epoch=21, lrate=0.010, error=-3.000, , sum_error=537.774\n",
      ">epoch=22, lrate=0.010, error=-3.000, , sum_error=534.775\n",
      ">epoch=23, lrate=0.010, error=-3.000, , sum_error=531.776\n",
      ">epoch=24, lrate=0.010, error=-3.000, , sum_error=528.777\n",
      ">epoch=25, lrate=0.010, error=-3.000, , sum_error=525.778\n",
      ">epoch=26, lrate=0.010, error=-3.000, , sum_error=522.778\n",
      ">epoch=27, lrate=0.010, error=-3.000, , sum_error=519.779\n",
      ">epoch=28, lrate=0.010, error=-3.000, , sum_error=516.779\n",
      ">epoch=29, lrate=0.010, error=-3.000, , sum_error=513.779\n",
      ">epoch=30, lrate=0.010, error=-3.000, , sum_error=510.779\n",
      ">epoch=31, lrate=0.010, error=-3.000, , sum_error=507.780\n",
      ">epoch=32, lrate=0.010, error=-3.000, , sum_error=482.083\n",
      ">epoch=33, lrate=0.010, error=-3.000, , sum_error=468.332\n",
      ">epoch=34, lrate=0.010, error=-3.000, , sum_error=458.624\n",
      ">epoch=35, lrate=0.010, error=-3.000, , sum_error=449.724\n",
      ">epoch=36, lrate=0.010, error=-3.000, , sum_error=444.812\n",
      ">epoch=37, lrate=0.010, error=-3.000, , sum_error=436.098\n",
      ">epoch=38, lrate=0.010, error=-3.000, , sum_error=426.205\n",
      ">epoch=39, lrate=0.010, error=-3.000, , sum_error=418.577\n",
      ">epoch=40, lrate=0.010, error=-3.000, , sum_error=410.095\n",
      ">epoch=41, lrate=0.010, error=-3.000, , sum_error=405.121\n",
      ">epoch=42, lrate=0.010, error=-3.000, , sum_error=400.143\n",
      ">epoch=43, lrate=0.010, error=-3.000, , sum_error=395.160\n",
      ">epoch=44, lrate=0.010, error=-3.000, , sum_error=390.174\n",
      ">epoch=45, lrate=0.010, error=-3.000, , sum_error=385.186\n",
      ">epoch=46, lrate=0.010, error=-3.000, , sum_error=377.015\n",
      ">epoch=47, lrate=0.010, error=-3.000, , sum_error=369.660\n",
      ">epoch=48, lrate=0.010, error=-3.000, , sum_error=364.666\n",
      ">epoch=49, lrate=0.010, error=-3.000, , sum_error=359.672\n",
      ">epoch=50, lrate=0.010, error=-3.000, , sum_error=354.676\n",
      ">epoch=51, lrate=0.010, error=-3.000, , sum_error=349.679\n",
      ">epoch=52, lrate=0.010, error=-3.000, , sum_error=344.682\n",
      ">epoch=53, lrate=0.010, error=-3.000, , sum_error=339.684\n",
      ">epoch=54, lrate=0.010, error=-3.000, , sum_error=334.686\n",
      ">epoch=55, lrate=0.010, error=-3.000, , sum_error=326.914\n",
      ">epoch=56, lrate=0.010, error=-3.000, , sum_error=319.802\n",
      ">epoch=57, lrate=0.010, error=-3.000, , sum_error=314.803\n",
      ">epoch=58, lrate=0.010, error=-3.000, , sum_error=309.804\n",
      ">epoch=59, lrate=0.010, error=-3.000, , sum_error=304.805\n",
      ">epoch=60, lrate=0.010, error=-3.000, , sum_error=299.806\n",
      ">epoch=61, lrate=0.010, error=-3.000, , sum_error=294.806\n",
      ">epoch=62, lrate=0.010, error=-3.000, , sum_error=289.806\n",
      ">epoch=63, lrate=0.010, error=-3.000, , sum_error=284.807\n",
      ">epoch=64, lrate=0.010, error=-3.000, , sum_error=279.807\n",
      ">epoch=65, lrate=0.010, error=-3.000, , sum_error=272.898\n",
      ">epoch=66, lrate=0.010, error=-2.000, , sum_error=267.898\n",
      ">epoch=67, lrate=0.010, error=-2.000, , sum_error=267.898\n",
      ">epoch=68, lrate=0.010, error=-2.000, , sum_error=267.898\n",
      ">epoch=69, lrate=0.010, error=-2.000, , sum_error=267.898\n",
      ">epoch=70, lrate=0.010, error=-2.000, , sum_error=267.898\n",
      ">epoch=71, lrate=0.010, error=-2.000, , sum_error=265.623\n",
      ">epoch=72, lrate=0.010, error=-2.000, , sum_error=265.623\n",
      ">epoch=73, lrate=0.010, error=-2.000, , sum_error=265.623\n",
      ">epoch=74, lrate=0.010, error=-2.000, , sum_error=263.879\n",
      ">epoch=75, lrate=0.010, error=-2.000, , sum_error=263.879\n",
      ">epoch=76, lrate=0.010, error=-2.000, , sum_error=263.879\n",
      ">epoch=77, lrate=0.010, error=-2.000, , sum_error=263.879\n",
      ">epoch=78, lrate=0.010, error=-2.000, , sum_error=263.879\n",
      ">epoch=79, lrate=0.010, error=-2.000, , sum_error=263.879\n",
      ">epoch=80, lrate=0.010, error=-2.000, , sum_error=263.879\n",
      ">epoch=81, lrate=0.010, error=-2.000, , sum_error=263.879\n",
      ">epoch=82, lrate=0.010, error=-2.000, , sum_error=263.879\n",
      ">epoch=83, lrate=0.010, error=-2.000, , sum_error=262.272\n",
      ">epoch=84, lrate=0.010, error=-2.000, , sum_error=262.272\n",
      ">epoch=85, lrate=0.010, error=-2.000, , sum_error=262.272\n",
      ">epoch=86, lrate=0.010, error=-2.000, , sum_error=262.272\n",
      ">epoch=87, lrate=0.010, error=-2.000, , sum_error=262.272\n",
      ">epoch=88, lrate=0.010, error=-2.000, , sum_error=262.272\n",
      ">epoch=89, lrate=0.010, error=-2.000, , sum_error=262.272\n",
      ">epoch=90, lrate=0.010, error=-2.000, , sum_error=262.272\n",
      ">epoch=91, lrate=0.010, error=-2.000, , sum_error=262.272\n",
      ">epoch=92, lrate=0.010, error=-2.000, , sum_error=260.776\n",
      ">epoch=93, lrate=0.010, error=-2.000, , sum_error=260.776\n",
      ">epoch=94, lrate=0.010, error=-2.000, , sum_error=260.776\n",
      ">epoch=95, lrate=0.010, error=-2.000, , sum_error=260.776\n",
      ">epoch=96, lrate=0.010, error=-2.000, , sum_error=260.776\n",
      ">epoch=97, lrate=0.010, error=-2.000, , sum_error=260.776\n",
      ">epoch=98, lrate=0.010, error=-2.000, , sum_error=260.776\n",
      ">epoch=99, lrate=0.010, error=-2.000, , sum_error=260.776\n"
     ]
    }
   ],
   "source": [
    "values1,x,y = train_weights_step(dat1, 0.01,100)"
   ]
  },
  {
   "cell_type": "code",
   "execution_count": 30,
   "metadata": {},
   "outputs": [
    {
     "data": {
      "image/png": "[encoded data removed]",
      "text/plain": [
       "<Figure size 432x288 with 1 Axes>"
      ]
     },
     "metadata": {
      "needs_background": "light"
     },
     "output_type": "display_data"
    }
   ],
   "source": [
    "\n",
    "y_axis = random_vals #network output\n",
    "y = values1\n",
    "x_axis = x = t_save2\n",
    "plt.plot(x,y,\"y\") #robot\n",
    "plt.plot(x_axis,y_axis,\"b\")#tracker\n",
    "plt.show()\n"
   ]
  },
  {
   "cell_type": "markdown",
   "metadata": {},
   "source": [
    "# Perceptron model with different learning rates"
   ]
  },
  {
   "cell_type": "markdown",
   "metadata": {},
   "source": [
    "#### Example 1(Learning rate =0.5)"
   ]
  },
  {
   "cell_type": "code",
   "execution_count": 31,
   "metadata": {},
   "outputs": [
    {
     "name": "stdout",
     "output_type": "stream",
     "text": [
      ">epoch=0, lrate=0.500, error=2.531,sum_error=19100268.970,accuracy=-1113.678\n",
      ">epoch=1, lrate=0.500, error=2.531,sum_error=19100268.970,accuracy=-1113.678\n",
      ">epoch=2, lrate=0.500, error=2.531,sum_error=15175440.800,accuracy=-982.752\n",
      ">epoch=3, lrate=0.500, error=2.531,sum_error=1959969.991,accuracy=-335.779\n",
      ">epoch=4, lrate=0.500, error=2.531,sum_error=19937223.264,accuracy=-1143.101\n",
      ">epoch=5, lrate=0.500, error=2.531,sum_error=24746484.149,accuracy=-1254.942\n",
      ">epoch=6, lrate=0.500, error=2.531,sum_error=3063514.469,accuracy=-426.118\n",
      ">epoch=7, lrate=0.500, error=2.531,sum_error=390.911,accuracy=46.160\n",
      ">epoch=8, lrate=0.500, error=2.531,sum_error=1507010.138,accuracy=-292.338\n",
      ">epoch=9, lrate=0.500, error=2.531,sum_error=389.853,accuracy=46.374\n",
      ">epoch=10, lrate=0.500, error=2.531,sum_error=2054327.783,accuracy=-363.770\n",
      ">epoch=11, lrate=0.500, error=2.531,sum_error=967.281,accuracy=36.004\n",
      ">epoch=12, lrate=0.500, error=2.531,sum_error=10823523.647,accuracy=-834.232\n",
      ">epoch=13, lrate=0.500, error=2.531,sum_error=388.746,accuracy=46.517\n",
      ">epoch=14, lrate=0.500, error=2.531,sum_error=399.720,accuracy=45.537\n",
      ">epoch=15, lrate=0.500, error=2.531,sum_error=237924.847,accuracy=-140.343\n",
      ">epoch=16, lrate=0.500, error=2.531,sum_error=4446.161,accuracy=29.021\n",
      ">epoch=17, lrate=0.500, error=2.531,sum_error=41730.639,accuracy=-34.497\n",
      ">epoch=18, lrate=0.500, error=2.531,sum_error=506304.567,accuracy=-151.945\n",
      ">epoch=19, lrate=0.500, error=2.531,sum_error=392.154,accuracy=46.001\n",
      ">epoch=20, lrate=0.500, error=2.531,sum_error=389.567,accuracy=46.330\n",
      ">epoch=21, lrate=0.500, error=2.531,sum_error=1653965.858,accuracy=-444.564\n",
      ">epoch=22, lrate=0.500, error=2.531,sum_error=1098.868,accuracy=36.383\n",
      ">epoch=23, lrate=0.500, error=2.531,sum_error=390.088,accuracy=46.394\n",
      ">epoch=24, lrate=0.500, error=2.531,sum_error=887.855,accuracy=39.873\n",
      ">epoch=25, lrate=0.500, error=2.531,sum_error=390.130,accuracy=46.420\n",
      ">epoch=26, lrate=0.500, error=2.531,sum_error=393.965,accuracy=45.932\n",
      ">epoch=27, lrate=0.500, error=2.531,sum_error=390.502,accuracy=46.254\n",
      ">epoch=28, lrate=0.500, error=2.531,sum_error=390.537,accuracy=46.238\n",
      ">epoch=29, lrate=0.500, error=2.531,sum_error=390.117,accuracy=46.388\n",
      ">epoch=30, lrate=0.500, error=2.531,sum_error=389.208,accuracy=46.518\n",
      ">epoch=31, lrate=0.500, error=2.531,sum_error=395.467,accuracy=45.950\n",
      ">epoch=32, lrate=0.500, error=2.531,sum_error=994.350,accuracy=38.744\n",
      ">epoch=33, lrate=0.500, error=2.531,sum_error=390.603,accuracy=46.219\n",
      ">epoch=34, lrate=0.500, error=2.531,sum_error=390.093,accuracy=46.317\n",
      ">epoch=35, lrate=0.500, error=2.531,sum_error=464.849,accuracy=43.041\n",
      ">epoch=36, lrate=0.500, error=2.531,sum_error=390.632,accuracy=46.210\n",
      ">epoch=37, lrate=0.500, error=2.531,sum_error=390.570,accuracy=46.230\n",
      ">epoch=38, lrate=0.500, error=2.531,sum_error=390.574,accuracy=46.225\n",
      ">epoch=39, lrate=0.500, error=2.531,sum_error=389.970,accuracy=46.422\n"
     ]
    },
    {
     "ename": "ValueError",
     "evalue": "too many values to unpack (expected 5)",
     "output_type": "error",
     "traceback": [
      "\u001b[1;31m---------------------------------------------------------------------------\u001b[0m",
      "\u001b[1;31mValueError\u001b[0m                                Traceback (most recent call last)",
      "\u001b[1;32m<ipython-input-31-842d24cf8878>\u001b[0m in \u001b[0;36m<module>\u001b[1;34m\u001b[0m\n\u001b[0;32m      3\u001b[0m \u001b[0mrandom_vals_t1\u001b[0m \u001b[1;33m=\u001b[0m \u001b[1;33m[\u001b[0m\u001b[1;33m]\u001b[0m\u001b[1;33m\u001b[0m\u001b[1;33m\u001b[0m\u001b[0m\n\u001b[0;32m      4\u001b[0m \u001b[0mrandom_vals_t1\u001b[0m \u001b[1;33m=\u001b[0m \u001b[0mtriple_converter\u001b[0m\u001b[1;33m(\u001b[0m\u001b[0mrandom_vals1\u001b[0m\u001b[1;33m)\u001b[0m \u001b[1;31m#convert input to tuple\u001b[0m\u001b[1;33m\u001b[0m\u001b[1;33m\u001b[0m\u001b[0m\n\u001b[1;32m----> 5\u001b[1;33m \u001b[0mvalues1\u001b[0m\u001b[1;33m,\u001b[0m\u001b[0me1\u001b[0m\u001b[1;33m,\u001b[0m\u001b[0mw1\u001b[0m\u001b[1;33m,\u001b[0m\u001b[0mtest1\u001b[0m\u001b[1;33m,\u001b[0m\u001b[0mitrArray1\u001b[0m \u001b[1;33m=\u001b[0m \u001b[0mtrain_weights3\u001b[0m\u001b[1;33m(\u001b[0m\u001b[0mrandom_vals_t1\u001b[0m\u001b[1;33m,\u001b[0m \u001b[1;36m0.5\u001b[0m\u001b[1;33m,\u001b[0m\u001b[1;36m40\u001b[0m\u001b[1;33m)\u001b[0m\u001b[1;33m\u001b[0m\u001b[1;33m\u001b[0m\u001b[0m\n\u001b[0m",
      "\u001b[1;31mValueError\u001b[0m: too many values to unpack (expected 5)"
     ]
    }
   ],
   "source": [
    "random_vals1 = []\n",
    "random_vals1,_,_ = box_muller(x_save2,std_dev,_mean) #call box muller\n",
    "random_vals_t1 = []\n",
    "random_vals_t1 = triple_converter(random_vals1) #convert input to tuple\n",
    "values1,e1,w1,test1,itrArray1 = train_weights3(random_vals_t1, 0.5,40)"
   ]
  },
  {
   "cell_type": "markdown",
   "metadata": {},
   "source": [
    "## Network representation"
   ]
  },
  {
   "cell_type": "code",
   "execution_count": null,
   "metadata": {},
   "outputs": [],
   "source": [
    "y_axis = values1 #network output\n",
    "y = random_vals1 # x noise\n",
    "x_axis = x = t_save2\n",
    "plt.plot(x,y,\"y\") #actual\n",
    "plt.plot(x_axis,y_axis,\"b\")#noise\n",
    "plt.show()"
   ]
  },
  {
   "cell_type": "markdown",
   "metadata": {},
   "source": [
    "## Error representation "
   ]
  },
  {
   "cell_type": "code",
   "execution_count": null,
   "metadata": {},
   "outputs": [],
   "source": [
    "error_dataframe = {'Error':test1,'Epochs':itrArray1}\n",
    "error_df1 = pd.DataFrame(error_dataframe)\n",
    "error_plt = sns.lineplot(x=\"Epochs\", y=\"Error\", data=error_df1) #blue"
   ]
  },
  {
   "cell_type": "markdown",
   "metadata": {},
   "source": [
    "#### Example 2(learning rate = 0.2)"
   ]
  },
  {
   "cell_type": "code",
   "execution_count": null,
   "metadata": {},
   "outputs": [],
   "source": [
    "random_vals2 = []\n",
    "random_vals2,_,_ = box_muller(x_save2,std_dev,_mean)\n",
    "random_vals_t2 =[]\n",
    "random_vals_t2 = triple_converter(random_vals2)\n",
    "values1,e1,w1,test1,itrArray1 = train_weights3(random_vals_t2, 0.2,40)"
   ]
  },
  {
   "cell_type": "markdown",
   "metadata": {},
   "source": [
    "## Network Representation"
   ]
  },
  {
   "cell_type": "code",
   "execution_count": null,
   "metadata": {},
   "outputs": [],
   "source": [
    "y_axis = values1 #network output\n",
    "y = random_vals2 # x noise\n",
    "x_axis = x = t_save2\n",
    "plt.plot(x,y,\"y\") #actual\n",
    "plt.plot(x_axis,y_axis,\"b\")#noise\n",
    "plt.show()"
   ]
  },
  {
   "cell_type": "markdown",
   "metadata": {},
   "source": [
    "## Error representation"
   ]
  },
  {
   "cell_type": "code",
   "execution_count": null,
   "metadata": {},
   "outputs": [],
   "source": [
    "error_dataframe = {'Error':test1,'Epochs':itrArray1}\n",
    "error_df1 = pd.DataFrame(error_dataframe)\n",
    "error_plt = sns.lineplot(x=\"Epochs\", y=\"Error\", data=error_df1) #blue"
   ]
  },
  {
   "cell_type": "markdown",
   "metadata": {},
   "source": [
    "#### Example 3(Learning rate = 0.01)"
   ]
  },
  {
   "cell_type": "code",
   "execution_count": null,
   "metadata": {},
   "outputs": [],
   "source": [
    "random_vals2 = []\n",
    "random_vals2,_,_ = box_muller(x_save2,std_dev,_mean)\n",
    "random_vals_t2 =[]\n",
    "random_vals_t2 = triple_converter(random_vals2)\n",
    "values1,e1,w1,test1,itrArray1 = train_weights3(random_vals_t2, 0.01,40)"
   ]
  },
  {
   "cell_type": "markdown",
   "metadata": {},
   "source": [
    "## Network Representation"
   ]
  },
  {
   "cell_type": "code",
   "execution_count": null,
   "metadata": {},
   "outputs": [],
   "source": [
    "y_axis = values1 #network output\n",
    "y = random_vals2 # x noise\n",
    "x_axis = x = t_save2\n",
    "plt.plot(x,y,\"y\") #actual\n",
    "plt.plot(x_axis,y_axis,\"b\")#noise\n",
    "plt.show()"
   ]
  },
  {
   "cell_type": "markdown",
   "metadata": {},
   "source": [
    "## Error representation"
   ]
  },
  {
   "cell_type": "code",
   "execution_count": null,
   "metadata": {},
   "outputs": [],
   "source": [
    "error_dataframe = {'Error':test1,'Epochs':itrArray1}\n",
    "error_df1 = pd.DataFrame(error_dataframe)\n",
    "error_plt = sns.lineplot(x=\"Epochs\", y=\"Error\", data=error_df1) #blue"
   ]
  },
  {
   "cell_type": "code",
   "execution_count": null,
   "metadata": {},
   "outputs": [],
   "source": []
  },
  {
   "cell_type": "code",
   "execution_count": null,
   "metadata": {},
   "outputs": [],
   "source": []
  },
  {
   "cell_type": "code",
   "execution_count": null,
   "metadata": {},
   "outputs": [],
   "source": []
  },
  {
   "cell_type": "code",
   "execution_count": null,
   "metadata": {},
   "outputs": [],
   "source": []
  },
  {
   "cell_type": "code",
   "execution_count": null,
   "metadata": {},
   "outputs": [],
   "source": []
  },
  {
   "cell_type": "code",
   "execution_count": null,
   "metadata": {},
   "outputs": [],
   "source": []
  }
 ],
 "metadata": {
  "kernelspec": {
   "display_name": "Python 3",
   "language": "python",
   "name": "python3"
  },
  "language_info": {
   "codemirror_mode": {
    "name": "ipython",
    "version": 3
   },
   "file_extension": ".py",
   "mimetype": "text/x-python",
   "name": "python",
   "nbconvert_exporter": "python",
   "pygments_lexer": "ipython3",
   "version": "3.7.4"
  }
 },
 "nbformat": 4,
 "nbformat_minor": 2
}
