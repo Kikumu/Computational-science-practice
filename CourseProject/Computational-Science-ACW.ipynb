{
 "cells": [
  {
   "cell_type": "markdown",
   "metadata": {},
   "source": [
    "# Part 1: Simulating the robot"
   ]
  },
  {
   "cell_type": "code",
   "execution_count": 1,
   "metadata": {},
   "outputs": [],
   "source": [
    "import numpy as np\n",
    "import random as rand\n",
    "import numpy as np\n",
    "import matplotlib.pyplot as plt\n",
    "import math\n",
    "import csv\n",
    "from scipy.stats import norm\n",
    "import seaborn as sns\n",
    "import pandas as pd\n",
    "\n",
    "def func(U,x):\n",
    "    #-2x+2U\n",
    "    val = -(2*x) + 2*U\n",
    "    return val\n",
    "def simulation(x,t,h):\n",
    "    save = 0\n",
    "    U_save = []\n",
    "    t_save = []\n",
    "    x_save = []\n",
    "    x_exact_save = []\n",
    "\n",
    "    U_array = []\n",
    "    t_array = []\n",
    "    x_array = []\n",
    "    x_exact_array = []\n",
    "    while(t <= 15):\n",
    "        if(t <= 5):\n",
    "            U = 2\n",
    "        elif(t < 5 or t <= 10):\n",
    "            U = 1\n",
    "        elif(t < 10 or t <=15):\n",
    "            U = 3\n",
    "        #print(\"U value:\", x)\n",
    "        U_array.append(U)\n",
    "        k = h * func(U,x)\n",
    "        x = x + k\n",
    "        t = t + h\n",
    "        #value under graph\n",
    "        x_exact = U - math.exp(-2*t)\n",
    "        t_array.append(t)\n",
    "        x_array.append(x)\n",
    "        x_exact_array.append(x_exact)\n",
    "        save+=1\n",
    "        #save every 10th integral if h<=0.01\n",
    "        if(save%10 == 0):\n",
    "            U_save.append(U)\n",
    "            t_save.append(t)\n",
    "            x_save.append(x)\n",
    "            x_exact_save.append(x_exact)\n",
    "            #print(\"save1: \",save)\n",
    "        #print(\"Where it is: \",x,\"Exact pos= \",x_exact,\"Time: \",t)\n",
    "    return U_save,t_save,x_save,x_exact_save,U_array,t_array,x_array,x_exact_array "
   ]
  },
  {
   "cell_type": "markdown",
   "metadata": {},
   "source": [
    "The following step sizes were provided to measure against: 0.75, .5, 0.25, 0.01, 0.001\n"
   ]
  },
  {
   "cell_type": "markdown",
   "metadata": {},
   "source": [
    "## Step size 0.001"
   ]
  },
  {
   "cell_type": "code",
   "execution_count": 2,
   "metadata": {},
   "outputs": [],
   "source": [
    "U_save1 = []\n",
    "t_save1 = []\n",
    "x_save1 = []\n",
    "x_exact_save1 = []\n",
    "\n",
    "\n",
    "##saves every time\n",
    "U_array1 = []\n",
    "t_array1 = []\n",
    "x_array1 = []\n",
    "x_exact_array1 = []\n",
    "\n",
    "#step size \n",
    "U_save1,t_save1,x_save1,x_exact_save1,U_array1,t_array1,x_array1,x_exact_array1=simulation(0,0,0.001)\n",
    "\n",
    "#0.35 for bell curve"
   ]
  },
  {
   "cell_type": "markdown",
   "metadata": {},
   "source": [
    "## Step size 0.01"
   ]
  },
  {
   "cell_type": "code",
   "execution_count": 3,
   "metadata": {},
   "outputs": [],
   "source": [
    "U_save2 = []\n",
    "t_save2 = []\n",
    "x_save2 = []\n",
    "x_exact_save2 = []\n",
    "\n",
    "\n",
    "##saves every time\n",
    "U_array2 = []\n",
    "t_array2 = []\n",
    "x_array2 = []\n",
    "x_exact_array2 = []\n",
    "\n",
    "#step size \n",
    "U_save2,t_save2,x_save2,x_exact_save2,U_array2,t_array2,x_array2,x_exact_array2=simulation(0,0,0.01)\n",
    "\n",
    "#0.35 for bell curve"
   ]
  },
  {
   "cell_type": "markdown",
   "metadata": {},
   "source": [
    "## Step size 0.25"
   ]
  },
  {
   "cell_type": "code",
   "execution_count": 4,
   "metadata": {},
   "outputs": [],
   "source": [
    "U_save3 = []\n",
    "t_save3 = []\n",
    "x_save3 = []\n",
    "x_exact_save3 = []\n",
    "\n",
    "\n",
    "##saves every time\n",
    "U_array3 = []\n",
    "t_array3 = []\n",
    "x_array3 = []\n",
    "x_exact_array3 = []\n",
    "\n",
    "#step size \n",
    "U_save3,t_save3,x_save3,x_exact_save3,U_array3,t_array3,x_array3,x_exact_array3=simulation(0,0,0.25)"
   ]
  },
  {
   "cell_type": "markdown",
   "metadata": {},
   "source": [
    "## Step size 0.5"
   ]
  },
  {
   "cell_type": "code",
   "execution_count": 5,
   "metadata": {},
   "outputs": [],
   "source": [
    "U_save4 = []\n",
    "t_save4 = []\n",
    "x_save4 = []\n",
    "x_exact_save4 = []\n",
    "\n",
    "\n",
    "##saves every time\n",
    "U_array4 = []\n",
    "t_array4 = []\n",
    "x_array4 = []\n",
    "x_exact_array4 = []\n",
    "\n",
    "#step size \n",
    "U_save4,t_save4,x_save4,x_exact_save4,U_array4,t_array4,x_array4,x_exact_array4=simulation(0,0,0.5)"
   ]
  },
  {
   "cell_type": "markdown",
   "metadata": {},
   "source": [
    "## Step size 0.75"
   ]
  },
  {
   "cell_type": "code",
   "execution_count": 6,
   "metadata": {},
   "outputs": [],
   "source": [
    "U_save5 = []\n",
    "t_save5 = []\n",
    "x_save5 = []\n",
    "x_exact_save5 = []\n",
    "\n",
    "\n",
    "##saves every time\n",
    "U_array5 = []\n",
    "t_array5 = []\n",
    "x_array5 = []\n",
    "x_exact_array5 = []\n",
    "\n",
    "#step size \n",
    "U_save5,t_save5,x_save5,x_exact_save5,U_array5,t_array5,x_array5,x_exact_array5=simulation(0,0,0.75)"
   ]
  },
  {
   "cell_type": "markdown",
   "metadata": {},
   "source": [
    "## Saving values into a dataframe and plotting it "
   ]
  },
  {
   "cell_type": "code",
   "execution_count": 7,
   "metadata": {},
   "outputs": [],
   "source": [
    "data1 = {'X':x_array1,'T':t_array1}\n",
    "df1 = pd.DataFrame(data1)\n",
    "data2 = {'X':x_array2,'T':t_array2}\n",
    "df2= pd.DataFrame(data2)\n",
    "data3 = {'X':x_array3,'T':t_array3}\n",
    "df3= pd.DataFrame(data3)\n",
    "data4= {'X':x_array4,'T':t_array4}\n",
    "df4= pd.DataFrame(data4)\n",
    "data5= {'X':x_array5,'T':t_array5}\n",
    "df5= pd.DataFrame(data5)"
   ]
  },
  {
   "cell_type": "code",
   "execution_count": 8,
   "metadata": {},
   "outputs": [
    {
     "data": {
      "image/png": "[encoded data removed]",
      "text/plain": [
       "<Figure size 432x288 with 1 Axes>"
      ]
     },
     "metadata": {
      "needs_background": "light"
     },
     "output_type": "display_data"
    }
   ],
   "source": [
    "plt3 = sns.lineplot(x=\"T\", y=\"X\", data=df1) #blue\n",
    "plt4 = sns.lineplot(x=\"T\", y=\"X\", data=df2) #Orange\n",
    "plt5 = sns.lineplot(x=\"T\", y=\"X\", data=df3) #Green\n",
    "plt6 = sns.lineplot(x=\"T\", y=\"X\", data=df4) #Red\n",
    "plt7 = sns.lineplot(x=\"T\", y=\"X\", data=df5) #Purple"
   ]
  },
  {
   "cell_type": "markdown",
   "metadata": {},
   "source": [
    "## Error evaluation against step size"
   ]
  },
  {
   "cell_type": "code",
   "execution_count": null,
   "metadata": {},
   "outputs": [],
   "source": []
  },
  {
   "cell_type": "code",
   "execution_count": null,
   "metadata": {},
   "outputs": [],
   "source": []
  },
  {
   "cell_type": "code",
   "execution_count": null,
   "metadata": {},
   "outputs": [],
   "source": []
  },
  {
   "cell_type": "code",
   "execution_count": null,
   "metadata": {},
   "outputs": [],
   "source": []
  },
  {
   "cell_type": "markdown",
   "metadata": {},
   "source": [
    "# Part 2: Random Noise using Box Muller Method"
   ]
  },
  {
   "cell_type": "markdown",
   "metadata": {},
   "source": [
    "## Initialise/Compute standard deviation and mean"
   ]
  },
  {
   "cell_type": "code",
   "execution_count": 9,
   "metadata": {},
   "outputs": [
    {
     "name": "stdout",
     "output_type": "stream",
     "text": [
      "deviation:  0.0431 mean:  0.5 DEVIATION:  0.7789244866974134 MEAN:  1.900142980914039\n"
     ]
    }
   ],
   "source": [
    "import statistics as stat\n",
    "std_dev1 = stat.stdev(x_array1)\n",
    "_mean1 = stat.mean(x_array1)\n",
    "\n",
    "std_dev = 0.0431\n",
    "_mean = 0.5\n",
    "print(\"deviation: \",std_dev,\"mean: \",_mean,\"DEVIATION: \",std_dev1,\"MEAN: \",_mean1)"
   ]
  },
  {
   "cell_type": "markdown",
   "metadata": {},
   "source": [
    "## compute box muller algorithm"
   ]
  },
  {
   "cell_type": "code",
   "execution_count": 10,
   "metadata": {},
   "outputs": [],
   "source": [
    "def box_muller(array,standard_deviation,mean):\n",
    "    random_vls = []\n",
    "    i = 0\n",
    "    it = 0\n",
    "    while i < len(array):\n",
    "        if(it == 0):\n",
    "            z1 =  rand.uniform(0,2*np.pi)\n",
    "            b  =  standard_deviation*np.sqrt(-2*math.log(rand.uniform(0,1)))\n",
    "            z2 =  b*(math.sin(z1))+mean\n",
    "            z3 =  b*(math.cos(z1))+mean\n",
    "            noise = array[i] + z2\n",
    "            random_vls.append(noise)\n",
    "            it = 1\n",
    "            i = i + 1\n",
    "        else:\n",
    "            it = 0\n",
    "            noise = array[i] + z3\n",
    "            random_vls.append(noise)\n",
    "            i= i + 1\n",
    "    return random_vls"
   ]
  },
  {
   "cell_type": "code",
   "execution_count": 11,
   "metadata": {},
   "outputs": [],
   "source": [
    "random_vals = []\n",
    "random_vals = box_muller(x_save2,std_dev,_mean)"
   ]
  },
  {
   "cell_type": "markdown",
   "metadata": {},
   "source": [
    "## Noise plot"
   ]
  },
  {
   "cell_type": "code",
   "execution_count": 12,
   "metadata": {},
   "outputs": [
    {
     "data": {
      "image/png": "[encoded data removed]",
      "text/plain": [
       "<Figure size 432x288 with 1 Axes>"
      ]
     },
     "metadata": {
      "needs_background": "light"
     },
     "output_type": "display_data"
    }
   ],
   "source": [
    "y = random_vals\n",
    "x = t_save2\n",
    "plt.plot(x,y,\"b\") #actual\n",
    "plt.show()"
   ]
  },
  {
   "cell_type": "markdown",
   "metadata": {},
   "source": [
    "## Proof that numbers generated fall within a gaussian distribution"
   ]
  },
  {
   "cell_type": "code",
   "execution_count": 13,
   "metadata": {},
   "outputs": [
    {
     "data": {
      "text/plain": [
       "<matplotlib.axes._subplots.AxesSubplot at 0x22483c3f908>"
      ]
     },
     "execution_count": 13,
     "metadata": {},
     "output_type": "execute_result"
    },
    {
     "data": {
      "image/png": "[encoded data removed]",
      "text/plain": [
       "<Figure size 432x288 with 1 Axes>"
      ]
     },
     "metadata": {
      "needs_background": "light"
     },
     "output_type": "display_data"
    }
   ],
   "source": [
    "sns.distplot(random_vals)"
   ]
  },
  {
   "cell_type": "markdown",
   "metadata": {},
   "source": [
    "# Part 3: Adding an intelligent agent to track the noise"
   ]
  },
  {
   "cell_type": "markdown",
   "metadata": {},
   "source": [
    "## Sigmoid Activation"
   ]
  },
  {
   "cell_type": "code",
   "execution_count": 14,
   "metadata": {},
   "outputs": [],
   "source": [
    "def sigmoid_activation(val):\n",
    "  sigmoid = 1/1+np.exp(-val)\n",
    "  return sigmoid\n",
    "\n",
    "def train_weights3(array, lr, loops):\n",
    "    weights3 = [1,rand.uniform(0,1),rand.uniform(0,1),rand.uniform(0,1)]\n",
    "    itr = 0\n",
    "    weights3_1 = []\n",
    "    for loop in range(loops):\n",
    "        net_array = []\n",
    "        error_array = []\n",
    "        sum_error = 0.0\n",
    "        c = 0\n",
    "        w_adaptor = 0\n",
    "        if itr < 1:\n",
    "            for a in array:\n",
    "                weights3_1.append([weights3[0],weights3[1],weights3[2],weights3[3]])\n",
    "                prediction, netwrk_sum = predict3(a,weights3)\n",
    "                #print(weights3)\n",
    "                if c == 0:\n",
    "                    Target = a[2]\n",
    "                    #print(1)\n",
    "                elif c==1:\n",
    "                    Target = a[1]\n",
    "                else:\n",
    "                    Target = a[0]\n",
    "                delta = Target - prediction\n",
    "                error = delta\n",
    "                error_array.append(error)\n",
    "                net_array.append(prediction)\n",
    "                #------------------------WEIGHTS UPDATED BY CORRESPONDING CURRENT ERROR AND INPUT----------------------------------\n",
    "                weights3_change_bias = -a[0] *lr*(error) \n",
    "                #print(weights3_change_bias)\n",
    "                weights3[0] = weights3[0] + weights3_change_bias\n",
    "                weights3_change= -a[0]*(error)*lr\n",
    "            \n",
    "                for i in range(len(a)):\n",
    "                    weights3[i + 1] = weights3[i +1] + weights3_change\n",
    "                sum_error += error**2\n",
    "                c = c + 1\n",
    "            print('>epoch=%d, lrate=%.3f, error=%.3f, , sum_error=%.3f' % (loop, lr, error, sum_error))\n",
    "            itr+=1\n",
    "        else:\n",
    "            for a in array:\n",
    "                #weights3_1.append([weights3[0],weights3[1],weights3[2],weights3[3]])\n",
    "                prediction, netwrk_sum = predict3(a,weights3_1[w_adaptor])\n",
    "                #print(weights3_1)\n",
    "                if c == 0:\n",
    "                    Target = a[2]\n",
    "                    #print(1)\n",
    "                elif c==1:\n",
    "                    Target = a[1]\n",
    "                else:\n",
    "                    Target = a[0]\n",
    "                delta = Target - prediction\n",
    "                error = delta\n",
    "                error_array.append(error)\n",
    "                net_array.append(prediction)\n",
    "                #------------------------WEIGHTS UPDATED BY CORRESPONDING CURRENT ERROR AND INPUT----------------------------------\n",
    "                weights3_change_bias = -a[0] *lr*(error) \n",
    "                #print(weights3_change_bias)\n",
    "                weights3_1[w_adaptor][0] = weights3_1[w_adaptor][0] + weights3_change_bias\n",
    "                weights3_change= -a[0]*(error)*lr\n",
    "                for i in range(len(a)):\n",
    "                     weights3_1[w_adaptor][i + 1] =  weights3_1[w_adaptor][i +1] + weights3_change\n",
    "                sum_error += error**2\n",
    "                c = c + 1\n",
    "                w_adaptor = w_adaptor + 1\n",
    "            print('>epoch=%d, lrate=%.3f, error=%.3f, , sum_error=%.3f' % (loop, lr, error, sum_error))\n",
    "            itr+=1\n",
    "    return net_array,error_array,weights3_1\n",
    "            \n",
    "def predict3(noise2,weights2):\n",
    "    net_sum = 0\n",
    "    net_sum = weights2[0]\n",
    "    for i in range(len(noise2)-1):\n",
    "        net_sum += weights2[i + 1] * noise2[i]\n",
    "    activation2 = sigmoid_activation(net_sum)\n",
    "    #print(\"activation\",activation2,\"sum\",net_sum)\n",
    "    return activation2, net_sum\n",
    "\n",
    "def triple_converter(array):\n",
    "    triple_array = []\n",
    "    c = 0\n",
    "    while c < len(array):\n",
    "        if c == 0:\n",
    "            triple_array.append([0,0,array[c]])\n",
    "        elif c == 1:\n",
    "            triple_array.append([0,array[c],array[c-1]])\n",
    "        else:\n",
    "            triple_array.append([array[c],array[c-1],array[c-2]])\n",
    "        c = c + 1\n",
    "    return triple_array"
   ]
  },
  {
   "cell_type": "markdown",
   "metadata": {},
   "source": [
    "## Step function activation"
   ]
  },
  {
   "cell_type": "code",
   "execution_count": 15,
   "metadata": {},
   "outputs": [],
   "source": [
    "##--------------------------------SINGLE PERCEPTRON-----------------------------------------------##\n",
    "def predict_step(noise1,weights1):\n",
    "    net_sum = 0\n",
    "    out = 0\n",
    "    net_sum = weights1[0]\n",
    "    for i in range(len(noise1)-1):\n",
    "        net_sum += weights1[i + 1] * noise1[i]\n",
    "    #print(\"netsum: \",net_sum)\n",
    "    if net_sum > 1:\n",
    "        out = 1\n",
    "    else:\n",
    "        out = 0\n",
    "    return out\n",
    "\n",
    "def train_weights_step(array, lr, loops):\n",
    "    weights3 = [1,rand.uniform(0,1),rand.uniform(0,1),rand.uniform(0,1)]\n",
    "    itr = 0\n",
    "    weights3_1 = []\n",
    "    for loop in range(loops):\n",
    "        net_array = []\n",
    "        error_array = []\n",
    "        sum_error = 0.0\n",
    "        c = 0\n",
    "        w_adaptor = 0\n",
    "        if itr < 1:\n",
    "            for a in array:\n",
    "                weights3_1.append([weights3[0],weights3[1],weights3[2],weights3[3]])\n",
    "                prediction = predict_step(a,weights3)\n",
    "                #print(\"prediction: \", prediction)\n",
    "                #print(weights3)\n",
    "                #print(weights3)\n",
    "                if c == 0:\n",
    "                    Target = a[2]\n",
    "                    #print(1)\n",
    "                elif c==1:\n",
    "                    Target = a[1]\n",
    "                else:\n",
    "                    Target = a[0]\n",
    "                delta = Target - prediction\n",
    "                error = delta\n",
    "                #print(\"input\",a[0])\n",
    "                #print(\"error\", error)\n",
    "                error_array.append(error)\n",
    "                net_array.append(prediction)\n",
    "                #------------------------WEIGHTS UPDATED BY CORRESPONDING CURRENT ERROR AND INPUT----------------------------------\n",
    "                weights3_change_bias = -a[0]*lr*error \n",
    "                #print(weights3_change_bias)\n",
    "                weights3[0] = weights3[0] + weights3_change_bias\n",
    "                weights3_change= -a[0]*lr*error\n",
    "                for i in range(len(a)):\n",
    "                    weights3[i + 1] = weights3[i +1] + weights3_change\n",
    "                sum_error += error**2\n",
    "                c = c + 1\n",
    "            print('>epoch=%d, lrate=%.3f, error=%.3f, , sum_error=%.3f' % (loop, lr, error, sum_error))\n",
    "            itr+=1\n",
    "        else:\n",
    "            for a in array:\n",
    "                #weights3_1.append([weights3[0],weights3[1],weights3[2],weights3[3]])\n",
    "                prediction = predict_step(a,weights3_1[w_adaptor])\n",
    "                #print(\"prediction1: \", prediction)\n",
    "                if c == 0:\n",
    "                    Target = a[2]\n",
    "                    #print(1)\n",
    "                elif c==1:\n",
    "                    Target = a[1]\n",
    "                else:\n",
    "                    Target = a[0]\n",
    "                delta = prediction - Target\n",
    "                error = delta\n",
    "                #print(\"error\",error)\n",
    "                error_array.append(error)\n",
    "                net_array.append(prediction)\n",
    "                #------------------------WEIGHTS UPDATED BY CORRESPONDING CURRENT ERROR AND INPUT----------------------------------\n",
    "            \n",
    "                weights3_change_bias = -a[0] *lr*(error) \n",
    "                #print(weights3_change_bias)\n",
    "                weights3_1[w_adaptor][0] = weights3_1[w_adaptor][0] + weights3_change_bias\n",
    "                weights3_change= -a[0]*(error)*lr\n",
    "                for i in range(len(a)):\n",
    "                     weights3_1[w_adaptor][i + 1] =  weights3_1[w_adaptor][i +1] + weights3_change\n",
    "                sum_error += error**2\n",
    "                c = c + 1\n",
    "                w_adaptor = w_adaptor + 1\n",
    "            print('>epoch=%d, lrate=%.3f, error=%.3f, , sum_error=%.3f' % (loop, lr, error, sum_error))\n",
    "            itr+=1\n",
    "    return net_array,error_array,weights3_1"
   ]
  },
  {
   "cell_type": "code",
   "execution_count": null,
   "metadata": {},
   "outputs": [],
   "source": []
  },
  {
   "cell_type": "code",
   "execution_count": 16,
   "metadata": {},
   "outputs": [],
   "source": [
    "#values1"
   ]
  },
  {
   "cell_type": "code",
   "execution_count": null,
   "metadata": {},
   "outputs": [],
   "source": []
  },
  {
   "cell_type": "markdown",
   "metadata": {},
   "source": [
    "## Train network using sigmoid"
   ]
  },
  {
   "cell_type": "code",
   "execution_count": 17,
   "metadata": {},
   "outputs": [
    {
     "name": "stdout",
     "output_type": "stream",
     "text": [
      ">epoch=0, lrate=0.010, error=0.014, , sum_error=26.332\n",
      ">epoch=1, lrate=0.010, error=0.014, , sum_error=26.332\n",
      ">epoch=2, lrate=0.010, error=0.005, , sum_error=22.802\n",
      ">epoch=3, lrate=0.010, error=0.002, , sum_error=19.914\n",
      ">epoch=4, lrate=0.010, error=0.001, , sum_error=17.485\n",
      ">epoch=5, lrate=0.010, error=0.000, , sum_error=15.396\n",
      ">epoch=6, lrate=0.010, error=0.000, , sum_error=13.573\n",
      ">epoch=7, lrate=0.010, error=0.000, , sum_error=11.964\n",
      ">epoch=8, lrate=0.010, error=0.000, , sum_error=10.540\n",
      ">epoch=9, lrate=0.010, error=0.000, , sum_error=9.277\n",
      ">epoch=10, lrate=0.010, error=0.000, , sum_error=8.161\n",
      ">epoch=11, lrate=0.010, error=0.000, , sum_error=7.177\n",
      ">epoch=12, lrate=0.010, error=0.000, , sum_error=6.313\n",
      ">epoch=13, lrate=0.010, error=0.000, , sum_error=5.557\n",
      ">epoch=14, lrate=0.010, error=0.000, , sum_error=4.898\n",
      ">epoch=15, lrate=0.010, error=0.000, , sum_error=4.325\n",
      ">epoch=16, lrate=0.010, error=0.000, , sum_error=3.828\n",
      ">epoch=17, lrate=0.010, error=0.000, , sum_error=3.397\n",
      ">epoch=18, lrate=0.010, error=0.000, , sum_error=3.024\n",
      ">epoch=19, lrate=0.010, error=0.000, , sum_error=2.701\n",
      ">epoch=20, lrate=0.010, error=0.000, , sum_error=2.421\n",
      ">epoch=21, lrate=0.010, error=0.000, , sum_error=2.178\n",
      ">epoch=22, lrate=0.010, error=0.000, , sum_error=1.967\n",
      ">epoch=23, lrate=0.010, error=0.000, , sum_error=1.783\n",
      ">epoch=24, lrate=0.010, error=0.000, , sum_error=1.622\n",
      ">epoch=25, lrate=0.010, error=0.000, , sum_error=1.482\n",
      ">epoch=26, lrate=0.010, error=0.000, , sum_error=1.359\n",
      ">epoch=27, lrate=0.010, error=0.000, , sum_error=1.250\n",
      ">epoch=28, lrate=0.010, error=0.000, , sum_error=1.154\n",
      ">epoch=29, lrate=0.010, error=0.000, , sum_error=1.069\n",
      ">epoch=30, lrate=0.010, error=0.000, , sum_error=0.993\n",
      ">epoch=31, lrate=0.010, error=0.000, , sum_error=0.926\n",
      ">epoch=32, lrate=0.010, error=0.000, , sum_error=0.865\n",
      ">epoch=33, lrate=0.010, error=0.000, , sum_error=0.811\n",
      ">epoch=34, lrate=0.010, error=0.000, , sum_error=0.762\n",
      ">epoch=35, lrate=0.010, error=0.000, , sum_error=0.718\n",
      ">epoch=36, lrate=0.010, error=0.000, , sum_error=0.678\n",
      ">epoch=37, lrate=0.010, error=0.000, , sum_error=0.641\n",
      ">epoch=38, lrate=0.010, error=0.000, , sum_error=0.608\n",
      ">epoch=39, lrate=0.010, error=0.000, , sum_error=0.578\n",
      ">epoch=40, lrate=0.010, error=0.000, , sum_error=0.551\n",
      ">epoch=41, lrate=0.010, error=0.000, , sum_error=0.526\n",
      ">epoch=42, lrate=0.010, error=0.000, , sum_error=0.503\n",
      ">epoch=43, lrate=0.010, error=0.000, , sum_error=0.482\n",
      ">epoch=44, lrate=0.010, error=0.000, , sum_error=0.463\n",
      ">epoch=45, lrate=0.010, error=0.000, , sum_error=0.446\n",
      ">epoch=46, lrate=0.010, error=0.000, , sum_error=0.429\n",
      ">epoch=47, lrate=0.010, error=0.000, , sum_error=0.415\n",
      ">epoch=48, lrate=0.010, error=0.000, , sum_error=0.401\n",
      ">epoch=49, lrate=0.010, error=0.000, , sum_error=0.388\n",
      ">epoch=50, lrate=0.010, error=0.000, , sum_error=0.377\n",
      ">epoch=51, lrate=0.010, error=0.000, , sum_error=0.366\n",
      ">epoch=52, lrate=0.010, error=0.000, , sum_error=0.356\n",
      ">epoch=53, lrate=0.010, error=0.000, , sum_error=0.347\n",
      ">epoch=54, lrate=0.010, error=0.000, , sum_error=0.339\n",
      ">epoch=55, lrate=0.010, error=0.000, , sum_error=0.331\n",
      ">epoch=56, lrate=0.010, error=0.000, , sum_error=0.324\n",
      ">epoch=57, lrate=0.010, error=0.000, , sum_error=0.317\n",
      ">epoch=58, lrate=0.010, error=0.000, , sum_error=0.311\n",
      ">epoch=59, lrate=0.010, error=0.000, , sum_error=0.305\n",
      ">epoch=60, lrate=0.010, error=0.000, , sum_error=0.300\n",
      ">epoch=61, lrate=0.010, error=0.000, , sum_error=0.295\n",
      ">epoch=62, lrate=0.010, error=0.000, , sum_error=0.290\n",
      ">epoch=63, lrate=0.010, error=0.000, , sum_error=0.286\n",
      ">epoch=64, lrate=0.010, error=0.000, , sum_error=0.282\n",
      ">epoch=65, lrate=0.010, error=0.000, , sum_error=0.278\n",
      ">epoch=66, lrate=0.010, error=0.000, , sum_error=0.275\n",
      ">epoch=67, lrate=0.010, error=0.000, , sum_error=0.271\n",
      ">epoch=68, lrate=0.010, error=0.000, , sum_error=0.268\n",
      ">epoch=69, lrate=0.010, error=0.000, , sum_error=0.266\n",
      ">epoch=70, lrate=0.010, error=0.000, , sum_error=0.263\n",
      ">epoch=71, lrate=0.010, error=0.000, , sum_error=0.261\n",
      ">epoch=72, lrate=0.010, error=0.000, , sum_error=0.258\n",
      ">epoch=73, lrate=0.010, error=0.000, , sum_error=0.256\n",
      ">epoch=74, lrate=0.010, error=0.000, , sum_error=0.254\n",
      ">epoch=75, lrate=0.010, error=0.000, , sum_error=0.252\n",
      ">epoch=76, lrate=0.010, error=0.000, , sum_error=0.251\n",
      ">epoch=77, lrate=0.010, error=0.000, , sum_error=0.249\n",
      ">epoch=78, lrate=0.010, error=0.000, , sum_error=0.247\n",
      ">epoch=79, lrate=0.010, error=0.000, , sum_error=0.246\n",
      ">epoch=80, lrate=0.010, error=0.000, , sum_error=0.245\n",
      ">epoch=81, lrate=0.010, error=0.000, , sum_error=0.243\n",
      ">epoch=82, lrate=0.010, error=0.000, , sum_error=0.242\n",
      ">epoch=83, lrate=0.010, error=0.000, , sum_error=0.241\n",
      ">epoch=84, lrate=0.010, error=0.000, , sum_error=0.240\n",
      ">epoch=85, lrate=0.010, error=0.000, , sum_error=0.239\n",
      ">epoch=86, lrate=0.010, error=0.000, , sum_error=0.238\n",
      ">epoch=87, lrate=0.010, error=0.000, , sum_error=0.237\n",
      ">epoch=88, lrate=0.010, error=0.000, , sum_error=0.236\n",
      ">epoch=89, lrate=0.010, error=0.000, , sum_error=0.236\n",
      ">epoch=90, lrate=0.010, error=0.000, , sum_error=0.235\n",
      ">epoch=91, lrate=0.010, error=0.000, , sum_error=0.234\n",
      ">epoch=92, lrate=0.010, error=0.000, , sum_error=0.234\n",
      ">epoch=93, lrate=0.010, error=0.000, , sum_error=0.233\n",
      ">epoch=94, lrate=0.010, error=0.000, , sum_error=0.232\n",
      ">epoch=95, lrate=0.010, error=0.000, , sum_error=0.232\n",
      ">epoch=96, lrate=0.010, error=0.000, , sum_error=0.231\n",
      ">epoch=97, lrate=0.010, error=0.000, , sum_error=0.231\n",
      ">epoch=98, lrate=0.010, error=0.000, , sum_error=0.230\n",
      ">epoch=99, lrate=0.010, error=0.000, , sum_error=0.230\n"
     ]
    }
   ],
   "source": [
    "dat1 = triple_converter(random_vals)\n",
    "values,e,w = train_weights3(dat1, 0.01,100)\n",
    "#0.006531\n",
    "\n",
    "#save to dataframe\n",
    "data6= {'Noise_values':dat1,'Trained':values,'Error':e,'T':t_save2}\n",
    "df6= pd.DataFrame(data6)"
   ]
  },
  {
   "cell_type": "code",
   "execution_count": 18,
   "metadata": {},
   "outputs": [
    {
     "data": {
      "text/plain": [
       "[1.0, 0.07655973226345947, 0.6227217874942342, 0.26199299388763686]"
      ]
     },
     "execution_count": 18,
     "metadata": {},
     "output_type": "execute_result"
    }
   ],
   "source": [
    "w[0]"
   ]
  },
  {
   "cell_type": "code",
   "execution_count": 19,
   "metadata": {},
   "outputs": [
    {
     "data": {
      "text/plain": [
       "[1.0, 0.07655973226345947, 0.6227217874942342, 0.26199299388763686]"
      ]
     },
     "execution_count": 19,
     "metadata": {},
     "output_type": "execute_result"
    }
   ],
   "source": [
    "w[0]"
   ]
  },
  {
   "cell_type": "code",
   "execution_count": 20,
   "metadata": {},
   "outputs": [
    {
     "data": {
      "text/html": [
       "<div>\n",
       "<style scoped>\n",
       "    .dataframe tbody tr th:only-of-type {\n",
       "        vertical-align: middle;\n",
       "    }\n",
       "\n",
       "    .dataframe tbody tr th {\n",
       "        vertical-align: top;\n",
       "    }\n",
       "\n",
       "    .dataframe thead th {\n",
       "        text-align: right;\n",
       "    }\n",
       "</style>\n",
       "<table border=\"1\" class=\"dataframe\">\n",
       "  <thead>\n",
       "    <tr style=\"text-align: right;\">\n",
       "      <th></th>\n",
       "      <th>Noise_values</th>\n",
       "      <th>Trained</th>\n",
       "      <th>Error</th>\n",
       "      <th>T</th>\n",
       "    </tr>\n",
       "  </thead>\n",
       "  <tbody>\n",
       "    <tr>\n",
       "      <td>0</td>\n",
       "      <td>[0, 0, 0.8987998071646269]</td>\n",
       "      <td>1.367879</td>\n",
       "      <td>-0.469080</td>\n",
       "      <td>0.1</td>\n",
       "    </tr>\n",
       "    <tr>\n",
       "      <td>1</td>\n",
       "      <td>[0, 1.2241610564575898, 0.8987998071646269]</td>\n",
       "      <td>1.171648</td>\n",
       "      <td>0.052513</td>\n",
       "      <td>0.2</td>\n",
       "    </tr>\n",
       "    <tr>\n",
       "      <td>2</td>\n",
       "      <td>[1.4879586425888833, 1.2241610564575898, 0.898...</td>\n",
       "      <td>1.423446</td>\n",
       "      <td>0.064513</td>\n",
       "      <td>0.3</td>\n",
       "    </tr>\n",
       "    <tr>\n",
       "      <td>3</td>\n",
       "      <td>[1.6268299354709828, 1.4879586425888833, 1.224...</td>\n",
       "      <td>1.592213</td>\n",
       "      <td>0.034617</td>\n",
       "      <td>0.4</td>\n",
       "    </tr>\n",
       "    <tr>\n",
       "      <td>4</td>\n",
       "      <td>[1.7858206894485908, 1.6268299354709828, 1.487...</td>\n",
       "      <td>1.777391</td>\n",
       "      <td>0.008429</td>\n",
       "      <td>0.5</td>\n",
       "    </tr>\n",
       "    <tr>\n",
       "      <td>...</td>\n",
       "      <td>...</td>\n",
       "      <td>...</td>\n",
       "      <td>...</td>\n",
       "      <td>...</td>\n",
       "    </tr>\n",
       "    <tr>\n",
       "      <td>145</td>\n",
       "      <td>[3.4883944732714167, 3.5151947005259454, 3.525...</td>\n",
       "      <td>3.488394</td>\n",
       "      <td>0.000000</td>\n",
       "      <td>14.6</td>\n",
       "    </tr>\n",
       "    <tr>\n",
       "      <td>146</td>\n",
       "      <td>[3.415371726003145, 3.4883944732714167, 3.5151...</td>\n",
       "      <td>3.415372</td>\n",
       "      <td>0.000000</td>\n",
       "      <td>14.7</td>\n",
       "    </tr>\n",
       "    <tr>\n",
       "      <td>147</td>\n",
       "      <td>[3.573880691766092, 3.415371726003145, 3.48839...</td>\n",
       "      <td>3.573881</td>\n",
       "      <td>0.000000</td>\n",
       "      <td>14.8</td>\n",
       "    </tr>\n",
       "    <tr>\n",
       "      <td>148</td>\n",
       "      <td>[3.527018174902204, 3.573880691766092, 3.41537...</td>\n",
       "      <td>3.527018</td>\n",
       "      <td>0.000000</td>\n",
       "      <td>14.9</td>\n",
       "    </tr>\n",
       "    <tr>\n",
       "      <td>149</td>\n",
       "      <td>[3.4355472808323024, 3.527018174902204, 3.5738...</td>\n",
       "      <td>3.435547</td>\n",
       "      <td>0.000000</td>\n",
       "      <td>15.0</td>\n",
       "    </tr>\n",
       "  </tbody>\n",
       "</table>\n",
       "<p>150 rows × 4 columns</p>\n",
       "</div>"
      ],
      "text/plain": [
       "                                          Noise_values   Trained     Error  \\\n",
       "0                           [0, 0, 0.8987998071646269]  1.367879 -0.469080   \n",
       "1          [0, 1.2241610564575898, 0.8987998071646269]  1.171648  0.052513   \n",
       "2    [1.4879586425888833, 1.2241610564575898, 0.898...  1.423446  0.064513   \n",
       "3    [1.6268299354709828, 1.4879586425888833, 1.224...  1.592213  0.034617   \n",
       "4    [1.7858206894485908, 1.6268299354709828, 1.487...  1.777391  0.008429   \n",
       "..                                                 ...       ...       ...   \n",
       "145  [3.4883944732714167, 3.5151947005259454, 3.525...  3.488394  0.000000   \n",
       "146  [3.415371726003145, 3.4883944732714167, 3.5151...  3.415372  0.000000   \n",
       "147  [3.573880691766092, 3.415371726003145, 3.48839...  3.573881  0.000000   \n",
       "148  [3.527018174902204, 3.573880691766092, 3.41537...  3.527018  0.000000   \n",
       "149  [3.4355472808323024, 3.527018174902204, 3.5738...  3.435547  0.000000   \n",
       "\n",
       "        T  \n",
       "0     0.1  \n",
       "1     0.2  \n",
       "2     0.3  \n",
       "3     0.4  \n",
       "4     0.5  \n",
       "..    ...  \n",
       "145  14.6  \n",
       "146  14.7  \n",
       "147  14.8  \n",
       "148  14.9  \n",
       "149  15.0  \n",
       "\n",
       "[150 rows x 4 columns]"
      ]
     },
     "execution_count": 20,
     "metadata": {},
     "output_type": "execute_result"
    }
   ],
   "source": [
    "df6"
   ]
  },
  {
   "cell_type": "markdown",
   "metadata": {},
   "source": [
    "## Network prediction(blue) against noise values(yellow)"
   ]
  },
  {
   "cell_type": "code",
   "execution_count": null,
   "metadata": {},
   "outputs": [],
   "source": []
  },
  {
   "cell_type": "code",
   "execution_count": 21,
   "metadata": {},
   "outputs": [
    {
     "data": {
      "image/png": "[encoded data removed]",
      "text/plain": [
       "<Figure size 432x288 with 1 Axes>"
      ]
     },
     "metadata": {
      "needs_background": "light"
     },
     "output_type": "display_data"
    }
   ],
   "source": [
    "y_axis = values #network output\n",
    "y = random_vals\n",
    "x_axis = x = t_save2\n",
    "plt.plot(x,y,\"y\") #actual\n",
    "plt.plot(x_axis,y_axis,\"b\")#noise\n",
    "plt.show()"
   ]
  },
  {
   "cell_type": "markdown",
   "metadata": {},
   "source": [
    "## Train network using step function"
   ]
  },
  {
   "cell_type": "code",
   "execution_count": 51,
   "metadata": {},
   "outputs": [
    {
     "name": "stdout",
     "output_type": "stream",
     "text": [
      ">epoch=0, lrate=0.010, error=3.436, , sum_error=894.605\n",
      ">epoch=1, lrate=0.010, error=-3.436, , sum_error=894.605\n",
      ">epoch=2, lrate=0.010, error=-3.436, , sum_error=890.588\n",
      ">epoch=3, lrate=0.010, error=-3.436, , sum_error=886.640\n",
      ">epoch=4, lrate=0.010, error=-3.436, , sum_error=882.740\n",
      ">epoch=5, lrate=0.010, error=-3.436, , sum_error=878.760\n",
      ">epoch=6, lrate=0.010, error=-3.436, , sum_error=874.796\n",
      ">epoch=7, lrate=0.010, error=-3.436, , sum_error=870.909\n",
      ">epoch=8, lrate=0.010, error=-3.436, , sum_error=863.052\n",
      ">epoch=9, lrate=0.010, error=-3.436, , sum_error=863.052\n",
      ">epoch=10, lrate=0.010, error=-3.436, , sum_error=855.066\n",
      ">epoch=11, lrate=0.010, error=-3.436, , sum_error=850.980\n",
      ">epoch=12, lrate=0.010, error=-3.436, , sum_error=850.980\n",
      ">epoch=13, lrate=0.010, error=-3.436, , sum_error=847.134\n",
      ">epoch=14, lrate=0.010, error=-3.436, , sum_error=839.207\n",
      ">epoch=15, lrate=0.010, error=-3.436, , sum_error=835.083\n",
      ">epoch=16, lrate=0.010, error=-3.436, , sum_error=835.083\n",
      ">epoch=17, lrate=0.010, error=-3.436, , sum_error=831.159\n",
      ">epoch=18, lrate=0.010, error=-3.436, , sum_error=827.286\n",
      ">epoch=19, lrate=0.010, error=-3.436, , sum_error=823.321\n",
      ">epoch=20, lrate=0.010, error=-3.436, , sum_error=815.346\n",
      ">epoch=21, lrate=0.010, error=-3.436, , sum_error=815.346\n",
      ">epoch=22, lrate=0.010, error=-3.436, , sum_error=807.364\n",
      ">epoch=23, lrate=0.010, error=-3.436, , sum_error=803.265\n",
      ">epoch=24, lrate=0.010, error=-3.436, , sum_error=799.226\n",
      ">epoch=25, lrate=0.010, error=-3.436, , sum_error=799.226\n",
      ">epoch=26, lrate=0.010, error=-3.436, , sum_error=799.226\n",
      ">epoch=27, lrate=0.010, error=-3.436, , sum_error=791.271\n",
      ">epoch=28, lrate=0.010, error=-3.436, , sum_error=783.361\n",
      ">epoch=29, lrate=0.010, error=-3.436, , sum_error=783.361\n",
      ">epoch=30, lrate=0.010, error=-3.436, , sum_error=779.366\n",
      ">epoch=31, lrate=0.010, error=-3.436, , sum_error=779.366\n",
      ">epoch=32, lrate=0.010, error=-3.436, , sum_error=779.366\n",
      ">epoch=33, lrate=0.010, error=-3.436, , sum_error=775.576\n",
      ">epoch=34, lrate=0.010, error=-3.436, , sum_error=775.576\n",
      ">epoch=35, lrate=0.010, error=-3.436, , sum_error=775.576\n",
      ">epoch=36, lrate=0.010, error=-3.436, , sum_error=770.024\n",
      ">epoch=37, lrate=0.010, error=-3.436, , sum_error=753.254\n",
      ">epoch=38, lrate=0.010, error=-3.436, , sum_error=741.850\n",
      ">epoch=39, lrate=0.010, error=-3.436, , sum_error=721.055\n",
      ">epoch=40, lrate=0.010, error=-3.436, , sum_error=705.053\n",
      ">epoch=41, lrate=0.010, error=-3.436, , sum_error=700.224\n",
      ">epoch=42, lrate=0.010, error=-3.436, , sum_error=688.402\n",
      ">epoch=43, lrate=0.010, error=-3.436, , sum_error=682.421\n",
      ">epoch=44, lrate=0.010, error=-3.436, , sum_error=676.579\n",
      ">epoch=45, lrate=0.010, error=-3.436, , sum_error=666.156\n",
      ">epoch=46, lrate=0.010, error=-3.436, , sum_error=654.141\n",
      ">epoch=47, lrate=0.010, error=-3.436, , sum_error=650.990\n",
      ">epoch=48, lrate=0.010, error=-3.436, , sum_error=634.769\n",
      ">epoch=49, lrate=0.010, error=-3.436, , sum_error=634.769\n"
     ]
    }
   ],
   "source": [
    "values1,x,y = train_weights_step(dat1, 0.01,50)"
   ]
  },
  {
   "cell_type": "code",
   "execution_count": 52,
   "metadata": {},
   "outputs": [
    {
     "data": {
      "image/png": "[encoded data removed]",
      "text/plain": [
       "<Figure size 432x288 with 1 Axes>"
      ]
     },
     "metadata": {
      "needs_background": "light"
     },
     "output_type": "display_data"
    }
   ],
   "source": [
    "\n",
    "y_axis = random_vals #network output\n",
    "y = values1\n",
    "x_axis = x = t_save2\n",
    "plt.plot(x,y,\"y\") #robot\n",
    "plt.plot(x_axis,y_axis,\"b\")#tracker\n",
    "plt.show()\n"
   ]
  },
  {
   "cell_type": "markdown",
   "metadata": {},
   "source": [
    "## Perceptron values against different noise samples(Sigmoid)"
   ]
  },
  {
   "cell_type": "markdown",
   "metadata": {},
   "source": [
    "### Adding noise to other step sizes using box muller"
   ]
  },
  {
   "cell_type": "markdown",
   "metadata": {},
   "source": [
    "#### Example 1(step size =0.1)"
   ]
  },
  {
   "cell_type": "code",
   "execution_count": 24,
   "metadata": {},
   "outputs": [
    {
     "name": "stdout",
     "output_type": "stream",
     "text": [
      ">epoch=0, lrate=0.010, error=0.138, , sum_error=34.639\n",
      ">epoch=1, lrate=0.010, error=0.138, , sum_error=34.639\n",
      ">epoch=2, lrate=0.010, error=0.047, , sum_error=29.951\n",
      ">epoch=3, lrate=0.010, error=0.015, , sum_error=27.716\n",
      ">epoch=4, lrate=0.010, error=0.005, , sum_error=25.972\n",
      ">epoch=5, lrate=0.010, error=0.002, , sum_error=24.459\n",
      ">epoch=6, lrate=0.010, error=0.001, , sum_error=23.107\n",
      ">epoch=7, lrate=0.010, error=0.000, , sum_error=21.884\n",
      ">epoch=8, lrate=0.010, error=0.000, , sum_error=20.765\n",
      ">epoch=9, lrate=0.010, error=0.000, , sum_error=19.735\n",
      ">epoch=10, lrate=0.010, error=0.000, , sum_error=18.782\n",
      ">epoch=11, lrate=0.010, error=0.000, , sum_error=17.896\n",
      ">epoch=12, lrate=0.010, error=0.000, , sum_error=17.071\n",
      ">epoch=13, lrate=0.010, error=0.000, , sum_error=16.299\n",
      ">epoch=14, lrate=0.010, error=0.000, , sum_error=15.577\n",
      ">epoch=15, lrate=0.010, error=0.000, , sum_error=14.899\n",
      ">epoch=16, lrate=0.010, error=0.000, , sum_error=14.262\n",
      ">epoch=17, lrate=0.010, error=0.000, , sum_error=13.662\n",
      ">epoch=18, lrate=0.010, error=0.000, , sum_error=13.097\n",
      ">epoch=19, lrate=0.010, error=0.000, , sum_error=12.563\n",
      ">epoch=20, lrate=0.010, error=0.000, , sum_error=12.059\n",
      ">epoch=21, lrate=0.010, error=0.000, , sum_error=11.583\n",
      ">epoch=22, lrate=0.010, error=0.000, , sum_error=11.133\n",
      ">epoch=23, lrate=0.010, error=0.000, , sum_error=10.706\n",
      ">epoch=24, lrate=0.010, error=0.000, , sum_error=10.302\n",
      ">epoch=25, lrate=0.010, error=0.000, , sum_error=9.919\n",
      ">epoch=26, lrate=0.010, error=0.000, , sum_error=9.556\n",
      ">epoch=27, lrate=0.010, error=0.000, , sum_error=9.212\n",
      ">epoch=28, lrate=0.010, error=0.000, , sum_error=8.885\n",
      ">epoch=29, lrate=0.010, error=0.000, , sum_error=8.575\n",
      ">epoch=30, lrate=0.010, error=0.000, , sum_error=8.281\n",
      ">epoch=31, lrate=0.010, error=-0.000, , sum_error=8.001\n",
      ">epoch=32, lrate=0.010, error=0.000, , sum_error=7.736\n",
      ">epoch=33, lrate=0.010, error=-0.000, , sum_error=7.484\n",
      ">epoch=34, lrate=0.010, error=0.000, , sum_error=7.244\n",
      ">epoch=35, lrate=0.010, error=-0.000, , sum_error=7.017\n",
      ">epoch=36, lrate=0.010, error=0.000, , sum_error=6.801\n",
      ">epoch=37, lrate=0.010, error=-0.000, , sum_error=6.596\n",
      ">epoch=38, lrate=0.010, error=0.000, , sum_error=6.401\n",
      ">epoch=39, lrate=0.010, error=-0.000, , sum_error=6.216\n"
     ]
    }
   ],
   "source": [
    "random_vals1 = []\n",
    "random_vals1 = box_muller(x_save1,std_dev,_mean)\n",
    "random_vals_t1 = []\n",
    "random_vals_t1 = triple_converter(random_vals1)\n",
    "\n",
    "#values,e = train_weights3(dat1, 0.01,1)\n",
    "#0.006531\n",
    "values1,e1,w = train_weights3(random_vals_t1, 0.01,40)"
   ]
  },
  {
   "cell_type": "code",
   "execution_count": 25,
   "metadata": {},
   "outputs": [
    {
     "data": {
      "image/png": "[encoded data removed]",
      "text/plain": [
       "<Figure size 432x288 with 1 Axes>"
      ]
     },
     "metadata": {
      "needs_background": "light"
     },
     "output_type": "display_data"
    }
   ],
   "source": [
    "y_axis = values1 #network output\n",
    "y = random_vals1\n",
    "x_axis = x = t_save1\n",
    "plt.plot(x,y,\"y\") #actual\n",
    "plt.plot(x_axis,y_axis,\"b\")#noise\n",
    "plt.show()"
   ]
  },
  {
   "cell_type": "markdown",
   "metadata": {},
   "source": [
    "## Error representation "
   ]
  },
  {
   "cell_type": "code",
   "execution_count": 26,
   "metadata": {},
   "outputs": [
    {
     "data": {
      "image/png": "[encoded data removed]",
      "text/plain": [
       "<Figure size 432x288 with 1 Axes>"
      ]
     },
     "metadata": {
      "needs_background": "light"
     },
     "output_type": "display_data"
    }
   ],
   "source": [
    "e_array = e1\n",
    "c = 0\n",
    "while c < len(e_array):\n",
    "    e_array[c] = abs(e_array[c])\n",
    "    c=c+1\n",
    "    \n",
    "y_axis = e_array #network output\n",
    "#y = x_array2\n",
    "x_axis = x = t_save1\n",
    "#plt.plot(x,y,\"y\") #x_noise values\n",
    "plt.plot(x_axis,y_axis,\"b\")#percebtron(blue)\n",
    "plt.show()"
   ]
  },
  {
   "cell_type": "code",
   "execution_count": 27,
   "metadata": {},
   "outputs": [
    {
     "data": {
      "text/plain": [
       "1500"
      ]
     },
     "execution_count": 27,
     "metadata": {},
     "output_type": "execute_result"
    }
   ],
   "source": [
    "len(e1)"
   ]
  },
  {
   "cell_type": "code",
   "execution_count": 28,
   "metadata": {},
   "outputs": [
    {
     "data": {
      "text/html": [
       "<div>\n",
       "<style scoped>\n",
       "    .dataframe tbody tr th:only-of-type {\n",
       "        vertical-align: middle;\n",
       "    }\n",
       "\n",
       "    .dataframe tbody tr th {\n",
       "        vertical-align: top;\n",
       "    }\n",
       "\n",
       "    .dataframe thead th {\n",
       "        text-align: right;\n",
       "    }\n",
       "</style>\n",
       "<table border=\"1\" class=\"dataframe\">\n",
       "  <thead>\n",
       "    <tr style=\"text-align: right;\">\n",
       "      <th></th>\n",
       "      <th>Noise_values</th>\n",
       "      <th>Network_output</th>\n",
       "      <th>Error</th>\n",
       "      <th>T</th>\n",
       "    </tr>\n",
       "  </thead>\n",
       "  <tbody>\n",
       "    <tr>\n",
       "      <td>0</td>\n",
       "      <td>[0, 0, 0.5642590160527738]</td>\n",
       "      <td>1.367879</td>\n",
       "      <td>8.036204e-01</td>\n",
       "      <td>0.01</td>\n",
       "    </tr>\n",
       "    <tr>\n",
       "      <td>1</td>\n",
       "      <td>[0, 0.5693820840000667, 0.5642590160527738]</td>\n",
       "      <td>1.287524</td>\n",
       "      <td>7.181423e-01</td>\n",
       "      <td>0.02</td>\n",
       "    </tr>\n",
       "    <tr>\n",
       "      <td>2</td>\n",
       "      <td>[0.560509863568758, 0.5693820840000667, 0.5642...</td>\n",
       "      <td>1.142529</td>\n",
       "      <td>5.820194e-01</td>\n",
       "      <td>0.03</td>\n",
       "    </tr>\n",
       "    <tr>\n",
       "      <td>3</td>\n",
       "      <td>[0.5915422964485009, 0.560509863568758, 0.5693...</td>\n",
       "      <td>1.138541</td>\n",
       "      <td>5.469987e-01</td>\n",
       "      <td>0.04</td>\n",
       "    </tr>\n",
       "    <tr>\n",
       "      <td>4</td>\n",
       "      <td>[0.6614500116953703, 0.5915422964485009, 0.560...</td>\n",
       "      <td>1.128433</td>\n",
       "      <td>4.669833e-01</td>\n",
       "      <td>0.05</td>\n",
       "    </tr>\n",
       "    <tr>\n",
       "      <td>...</td>\n",
       "      <td>...</td>\n",
       "      <td>...</td>\n",
       "      <td>...</td>\n",
       "      <td>...</td>\n",
       "    </tr>\n",
       "    <tr>\n",
       "      <td>1495</td>\n",
       "      <td>[3.5325387817425957, 3.4771269756903003, 3.579...</td>\n",
       "      <td>3.532539</td>\n",
       "      <td>0.000000e+00</td>\n",
       "      <td>14.96</td>\n",
       "    </tr>\n",
       "    <tr>\n",
       "      <td>1496</td>\n",
       "      <td>[3.5414260333936713, 3.5325387817425957, 3.477...</td>\n",
       "      <td>3.541426</td>\n",
       "      <td>0.000000e+00</td>\n",
       "      <td>14.97</td>\n",
       "    </tr>\n",
       "    <tr>\n",
       "      <td>1497</td>\n",
       "      <td>[3.551160956719939, 3.5414260333936713, 3.5325...</td>\n",
       "      <td>3.551161</td>\n",
       "      <td>0.000000e+00</td>\n",
       "      <td>14.98</td>\n",
       "    </tr>\n",
       "    <tr>\n",
       "      <td>1498</td>\n",
       "      <td>[3.4087306447409786, 3.551160956719939, 3.5414...</td>\n",
       "      <td>3.408731</td>\n",
       "      <td>4.440892e-16</td>\n",
       "      <td>14.99</td>\n",
       "    </tr>\n",
       "    <tr>\n",
       "      <td>1499</td>\n",
       "      <td>[3.482782171796071, 3.4087306447409786, 3.5511...</td>\n",
       "      <td>3.482782</td>\n",
       "      <td>4.440892e-16</td>\n",
       "      <td>15.00</td>\n",
       "    </tr>\n",
       "  </tbody>\n",
       "</table>\n",
       "<p>1500 rows × 4 columns</p>\n",
       "</div>"
      ],
      "text/plain": [
       "                                           Noise_values  Network_output  \\\n",
       "0                            [0, 0, 0.5642590160527738]        1.367879   \n",
       "1           [0, 0.5693820840000667, 0.5642590160527738]        1.287524   \n",
       "2     [0.560509863568758, 0.5693820840000667, 0.5642...        1.142529   \n",
       "3     [0.5915422964485009, 0.560509863568758, 0.5693...        1.138541   \n",
       "4     [0.6614500116953703, 0.5915422964485009, 0.560...        1.128433   \n",
       "...                                                 ...             ...   \n",
       "1495  [3.5325387817425957, 3.4771269756903003, 3.579...        3.532539   \n",
       "1496  [3.5414260333936713, 3.5325387817425957, 3.477...        3.541426   \n",
       "1497  [3.551160956719939, 3.5414260333936713, 3.5325...        3.551161   \n",
       "1498  [3.4087306447409786, 3.551160956719939, 3.5414...        3.408731   \n",
       "1499  [3.482782171796071, 3.4087306447409786, 3.5511...        3.482782   \n",
       "\n",
       "             Error      T  \n",
       "0     8.036204e-01   0.01  \n",
       "1     7.181423e-01   0.02  \n",
       "2     5.820194e-01   0.03  \n",
       "3     5.469987e-01   0.04  \n",
       "4     4.669833e-01   0.05  \n",
       "...            ...    ...  \n",
       "1495  0.000000e+00  14.96  \n",
       "1496  0.000000e+00  14.97  \n",
       "1497  0.000000e+00  14.98  \n",
       "1498  4.440892e-16  14.99  \n",
       "1499  4.440892e-16  15.00  \n",
       "\n",
       "[1500 rows x 4 columns]"
      ]
     },
     "execution_count": 28,
     "metadata": {},
     "output_type": "execute_result"
    }
   ],
   "source": [
    "data7= {'Noise_values':random_vals_t1,'Network_output':values1,'Error':e1,'T':t_save1}\n",
    "vis= pd.DataFrame(data7)\n",
    "vis"
   ]
  },
  {
   "cell_type": "markdown",
   "metadata": {},
   "source": [
    "#### Example 2(step size = 0.01)"
   ]
  },
  {
   "cell_type": "code",
   "execution_count": 29,
   "metadata": {},
   "outputs": [
    {
     "name": "stdout",
     "output_type": "stream",
     "text": [
      ">epoch=0, lrate=0.010, error=0.029, , sum_error=52.030\n",
      ">epoch=1, lrate=0.010, error=0.029, , sum_error=52.030\n",
      ">epoch=2, lrate=0.010, error=0.008, , sum_error=47.372\n",
      ">epoch=3, lrate=0.010, error=0.002, , sum_error=43.461\n",
      ">epoch=4, lrate=0.010, error=0.001, , sum_error=40.077\n",
      ">epoch=5, lrate=0.010, error=0.000, , sum_error=37.068\n",
      ">epoch=6, lrate=0.010, error=0.000, , sum_error=34.331\n",
      ">epoch=7, lrate=0.010, error=0.000, , sum_error=31.801\n",
      ">epoch=8, lrate=0.010, error=0.000, , sum_error=29.438\n",
      ">epoch=9, lrate=0.010, error=0.000, , sum_error=27.217\n",
      ">epoch=10, lrate=0.010, error=0.000, , sum_error=25.125\n",
      ">epoch=11, lrate=0.010, error=0.000, , sum_error=23.153\n",
      ">epoch=12, lrate=0.010, error=0.000, , sum_error=21.296\n",
      ">epoch=13, lrate=0.010, error=0.000, , sum_error=19.549\n",
      ">epoch=14, lrate=0.010, error=0.000, , sum_error=17.912\n",
      ">epoch=15, lrate=0.010, error=0.000, , sum_error=16.381\n",
      ">epoch=16, lrate=0.010, error=0.000, , sum_error=14.955\n",
      ">epoch=17, lrate=0.010, error=0.000, , sum_error=13.633\n",
      ">epoch=18, lrate=0.010, error=0.000, , sum_error=12.412\n",
      ">epoch=19, lrate=0.010, error=0.000, , sum_error=11.288\n"
     ]
    }
   ],
   "source": [
    "random_vals2 = []\n",
    "random_vals2 = box_muller(x_save2,std_dev,_mean)\n",
    "random_vals_t2 =[]\n",
    "random_vals_t2 = triple_converter(random_vals2)\n",
    "values2,e2,w =train_weights3(random_vals_t2,0.01,20)"
   ]
  },
  {
   "cell_type": "code",
   "execution_count": 30,
   "metadata": {},
   "outputs": [
    {
     "data": {
      "image/png": "[encoded data removed]",
      "text/plain": [
       "<Figure size 432x288 with 1 Axes>"
      ]
     },
     "metadata": {
      "needs_background": "light"
     },
     "output_type": "display_data"
    }
   ],
   "source": [
    "y_axis = values2 #network output\n",
    "y = random_vals2 # x noise\n",
    "x_axis = x = t_save2\n",
    "plt.plot(x,y,\"y\") #actual\n",
    "plt.plot(x_axis,y_axis,\"b\")#noise\n",
    "plt.show()"
   ]
  },
  {
   "cell_type": "markdown",
   "metadata": {},
   "source": [
    "## Error representation"
   ]
  },
  {
   "cell_type": "code",
   "execution_count": 31,
   "metadata": {},
   "outputs": [
    {
     "data": {
      "image/png": "[encoded data removed]",
      "text/plain": [
       "<Figure size 432x288 with 1 Axes>"
      ]
     },
     "metadata": {
      "needs_background": "light"
     },
     "output_type": "display_data"
    }
   ],
   "source": [
    "e_array = e2\n",
    "c = 0\n",
    "while c < len(e_array):\n",
    "    e_array[c] = abs(e_array[c])\n",
    "    c=c+1\n",
    "    \n",
    "y_axis = e_array #network output\n",
    "#y = x_array2\n",
    "x_axis = x = t_save2\n",
    "#plt.plot(x,y,\"y\") #x_noise values\n",
    "plt.plot(x_axis,y_axis,\"b\")#percebtron(blue)\n",
    "plt.show()"
   ]
  },
  {
   "cell_type": "code",
   "execution_count": 32,
   "metadata": {},
   "outputs": [
    {
     "data": {
      "text/plain": [
       "150"
      ]
     },
     "execution_count": 32,
     "metadata": {},
     "output_type": "execute_result"
    }
   ],
   "source": [
    "len(values2)"
   ]
  },
  {
   "cell_type": "code",
   "execution_count": 33,
   "metadata": {},
   "outputs": [
    {
     "data": {
      "text/html": [
       "<div>\n",
       "<style scoped>\n",
       "    .dataframe tbody tr th:only-of-type {\n",
       "        vertical-align: middle;\n",
       "    }\n",
       "\n",
       "    .dataframe tbody tr th {\n",
       "        vertical-align: top;\n",
       "    }\n",
       "\n",
       "    .dataframe thead th {\n",
       "        text-align: right;\n",
       "    }\n",
       "</style>\n",
       "<table border=\"1\" class=\"dataframe\">\n",
       "  <thead>\n",
       "    <tr style=\"text-align: right;\">\n",
       "      <th></th>\n",
       "      <th>Noise_values</th>\n",
       "      <th>Network_output</th>\n",
       "      <th>Error</th>\n",
       "      <th>T</th>\n",
       "    </tr>\n",
       "  </thead>\n",
       "  <tbody>\n",
       "    <tr>\n",
       "      <td>0</td>\n",
       "      <td>[0, 0, 0.8249607062005877]</td>\n",
       "      <td>1.367879</td>\n",
       "      <td>5.429187e-01</td>\n",
       "      <td>0.1</td>\n",
       "    </tr>\n",
       "    <tr>\n",
       "      <td>1</td>\n",
       "      <td>[0, 1.2093681322218446, 0.8249607062005877]</td>\n",
       "      <td>1.118425</td>\n",
       "      <td>9.094313e-02</td>\n",
       "      <td>0.2</td>\n",
       "    </tr>\n",
       "    <tr>\n",
       "      <td>2</td>\n",
       "      <td>[1.3972809405382753, 1.2093681322218446, 0.824...</td>\n",
       "      <td>1.064226</td>\n",
       "      <td>3.330554e-01</td>\n",
       "      <td>0.3</td>\n",
       "    </tr>\n",
       "    <tr>\n",
       "      <td>3</td>\n",
       "      <td>[1.58658276611587, 1.3972809405382753, 1.20936...</td>\n",
       "      <td>1.065532</td>\n",
       "      <td>5.210512e-01</td>\n",
       "      <td>0.4</td>\n",
       "    </tr>\n",
       "    <tr>\n",
       "      <td>4</td>\n",
       "      <td>[1.8304115303275639, 1.58658276611587, 1.39728...</td>\n",
       "      <td>1.082365</td>\n",
       "      <td>7.480466e-01</td>\n",
       "      <td>0.5</td>\n",
       "    </tr>\n",
       "    <tr>\n",
       "      <td>...</td>\n",
       "      <td>...</td>\n",
       "      <td>...</td>\n",
       "      <td>...</td>\n",
       "      <td>...</td>\n",
       "    </tr>\n",
       "    <tr>\n",
       "      <td>145</td>\n",
       "      <td>[3.5186300586110697, 3.590920086138388, 3.5497...</td>\n",
       "      <td>3.518630</td>\n",
       "      <td>2.114309e-12</td>\n",
       "      <td>14.6</td>\n",
       "    </tr>\n",
       "    <tr>\n",
       "      <td>146</td>\n",
       "      <td>[3.522374259328576, 3.5186300586110697, 3.5909...</td>\n",
       "      <td>3.522374</td>\n",
       "      <td>5.546674e-13</td>\n",
       "      <td>14.7</td>\n",
       "    </tr>\n",
       "    <tr>\n",
       "      <td>147</td>\n",
       "      <td>[3.4963576960887854, 3.522374259328576, 3.5186...</td>\n",
       "      <td>3.496358</td>\n",
       "      <td>3.407941e-12</td>\n",
       "      <td>14.8</td>\n",
       "    </tr>\n",
       "    <tr>\n",
       "      <td>148</td>\n",
       "      <td>[3.410574836424737, 3.4963576960887854, 3.5223...</td>\n",
       "      <td>3.410575</td>\n",
       "      <td>1.777196e-10</td>\n",
       "      <td>14.9</td>\n",
       "    </tr>\n",
       "    <tr>\n",
       "      <td>149</td>\n",
       "      <td>[3.532678386223999, 3.410574836424737, 3.49635...</td>\n",
       "      <td>3.532678</td>\n",
       "      <td>5.928591e-12</td>\n",
       "      <td>15.0</td>\n",
       "    </tr>\n",
       "  </tbody>\n",
       "</table>\n",
       "<p>150 rows × 4 columns</p>\n",
       "</div>"
      ],
      "text/plain": [
       "                                          Noise_values  Network_output  \\\n",
       "0                           [0, 0, 0.8249607062005877]        1.367879   \n",
       "1          [0, 1.2093681322218446, 0.8249607062005877]        1.118425   \n",
       "2    [1.3972809405382753, 1.2093681322218446, 0.824...        1.064226   \n",
       "3    [1.58658276611587, 1.3972809405382753, 1.20936...        1.065532   \n",
       "4    [1.8304115303275639, 1.58658276611587, 1.39728...        1.082365   \n",
       "..                                                 ...             ...   \n",
       "145  [3.5186300586110697, 3.590920086138388, 3.5497...        3.518630   \n",
       "146  [3.522374259328576, 3.5186300586110697, 3.5909...        3.522374   \n",
       "147  [3.4963576960887854, 3.522374259328576, 3.5186...        3.496358   \n",
       "148  [3.410574836424737, 3.4963576960887854, 3.5223...        3.410575   \n",
       "149  [3.532678386223999, 3.410574836424737, 3.49635...        3.532678   \n",
       "\n",
       "            Error     T  \n",
       "0    5.429187e-01   0.1  \n",
       "1    9.094313e-02   0.2  \n",
       "2    3.330554e-01   0.3  \n",
       "3    5.210512e-01   0.4  \n",
       "4    7.480466e-01   0.5  \n",
       "..            ...   ...  \n",
       "145  2.114309e-12  14.6  \n",
       "146  5.546674e-13  14.7  \n",
       "147  3.407941e-12  14.8  \n",
       "148  1.777196e-10  14.9  \n",
       "149  5.928591e-12  15.0  \n",
       "\n",
       "[150 rows x 4 columns]"
      ]
     },
     "execution_count": 33,
     "metadata": {},
     "output_type": "execute_result"
    }
   ],
   "source": [
    "data8= {'Noise_values':random_vals_t2,'Network_output':values2,'Error':e2,'T':t_save2}\n",
    "vis1= pd.DataFrame(data8)\n",
    "vis1"
   ]
  },
  {
   "cell_type": "markdown",
   "metadata": {},
   "source": [
    "#### Example 3(step size = 0.5)"
   ]
  },
  {
   "cell_type": "code",
   "execution_count": 34,
   "metadata": {},
   "outputs": [
    {
     "name": "stdout",
     "output_type": "stream",
     "text": [
      ">epoch=0, lrate=0.011, error=-0.094, , sum_error=23.840\n",
      ">epoch=1, lrate=0.011, error=-0.094, , sum_error=23.840\n",
      ">epoch=2, lrate=0.011, error=-0.018, , sum_error=19.778\n",
      ">epoch=3, lrate=0.011, error=-0.004, , sum_error=16.734\n",
      ">epoch=4, lrate=0.011, error=-0.001, , sum_error=14.250\n",
      ">epoch=5, lrate=0.011, error=-0.000, , sum_error=12.195\n",
      ">epoch=6, lrate=0.011, error=-0.000, , sum_error=10.543\n",
      ">epoch=7, lrate=0.011, error=-0.000, , sum_error=9.164\n",
      ">epoch=8, lrate=0.011, error=-0.000, , sum_error=7.952\n",
      ">epoch=9, lrate=0.011, error=-0.000, , sum_error=6.873\n",
      ">epoch=10, lrate=0.011, error=-0.000, , sum_error=5.932\n",
      ">epoch=11, lrate=0.011, error=-0.000, , sum_error=5.137\n",
      ">epoch=12, lrate=0.011, error=-0.000, , sum_error=4.489\n",
      ">epoch=13, lrate=0.011, error=-0.000, , sum_error=3.980\n",
      ">epoch=14, lrate=0.011, error=-0.000, , sum_error=3.595\n",
      ">epoch=15, lrate=0.011, error=-0.000, , sum_error=3.314\n",
      ">epoch=16, lrate=0.011, error=-0.000, , sum_error=3.117\n",
      ">epoch=17, lrate=0.011, error=-0.000, , sum_error=2.983\n",
      ">epoch=18, lrate=0.011, error=-0.000, , sum_error=2.894\n",
      ">epoch=19, lrate=0.011, error=-0.000, , sum_error=2.836\n",
      ">epoch=20, lrate=0.011, error=-0.000, , sum_error=2.799\n",
      ">epoch=21, lrate=0.011, error=-0.000, , sum_error=2.776\n",
      ">epoch=22, lrate=0.011, error=0.000, , sum_error=2.762\n",
      ">epoch=23, lrate=0.011, error=0.000, , sum_error=2.753\n",
      ">epoch=24, lrate=0.011, error=0.000, , sum_error=2.747\n",
      ">epoch=25, lrate=0.011, error=0.000, , sum_error=2.743\n",
      ">epoch=26, lrate=0.011, error=0.000, , sum_error=2.741\n",
      ">epoch=27, lrate=0.011, error=0.000, , sum_error=2.739\n",
      ">epoch=28, lrate=0.011, error=0.000, , sum_error=2.738\n",
      ">epoch=29, lrate=0.011, error=0.000, , sum_error=2.737\n",
      ">epoch=30, lrate=0.011, error=0.000, , sum_error=2.737\n",
      ">epoch=31, lrate=0.011, error=0.000, , sum_error=2.736\n",
      ">epoch=32, lrate=0.011, error=0.000, , sum_error=2.735\n",
      ">epoch=33, lrate=0.011, error=0.000, , sum_error=2.735\n",
      ">epoch=34, lrate=0.011, error=0.000, , sum_error=2.735\n",
      ">epoch=35, lrate=0.011, error=0.000, , sum_error=2.734\n",
      ">epoch=36, lrate=0.011, error=0.000, , sum_error=2.734\n",
      ">epoch=37, lrate=0.011, error=0.000, , sum_error=2.734\n",
      ">epoch=38, lrate=0.011, error=0.000, , sum_error=2.733\n",
      ">epoch=39, lrate=0.011, error=0.000, , sum_error=2.733\n",
      ">epoch=40, lrate=0.011, error=0.000, , sum_error=2.733\n",
      ">epoch=41, lrate=0.011, error=0.000, , sum_error=2.733\n",
      ">epoch=42, lrate=0.011, error=0.000, , sum_error=2.732\n",
      ">epoch=43, lrate=0.011, error=0.000, , sum_error=2.732\n",
      ">epoch=44, lrate=0.011, error=0.000, , sum_error=2.732\n",
      ">epoch=45, lrate=0.011, error=0.000, , sum_error=2.732\n",
      ">epoch=46, lrate=0.011, error=0.000, , sum_error=2.732\n",
      ">epoch=47, lrate=0.011, error=0.000, , sum_error=2.731\n",
      ">epoch=48, lrate=0.011, error=0.000, , sum_error=2.731\n",
      ">epoch=49, lrate=0.011, error=0.000, , sum_error=2.731\n",
      ">epoch=50, lrate=0.011, error=0.000, , sum_error=2.731\n",
      ">epoch=51, lrate=0.011, error=0.000, , sum_error=2.731\n",
      ">epoch=52, lrate=0.011, error=0.000, , sum_error=2.731\n",
      ">epoch=53, lrate=0.011, error=0.000, , sum_error=2.731\n",
      ">epoch=54, lrate=0.011, error=0.000, , sum_error=2.731\n",
      ">epoch=55, lrate=0.011, error=0.000, , sum_error=2.731\n",
      ">epoch=56, lrate=0.011, error=0.000, , sum_error=2.730\n",
      ">epoch=57, lrate=0.011, error=0.000, , sum_error=2.730\n",
      ">epoch=58, lrate=0.011, error=0.000, , sum_error=2.730\n",
      ">epoch=59, lrate=0.011, error=0.000, , sum_error=2.730\n",
      ">epoch=60, lrate=0.011, error=0.000, , sum_error=2.730\n",
      ">epoch=61, lrate=0.011, error=0.000, , sum_error=2.730\n",
      ">epoch=62, lrate=0.011, error=0.000, , sum_error=2.730\n",
      ">epoch=63, lrate=0.011, error=0.000, , sum_error=2.730\n",
      ">epoch=64, lrate=0.011, error=0.000, , sum_error=2.730\n",
      ">epoch=65, lrate=0.011, error=0.000, , sum_error=2.730\n",
      ">epoch=66, lrate=0.011, error=0.000, , sum_error=2.730\n",
      ">epoch=67, lrate=0.011, error=0.000, , sum_error=2.730\n",
      ">epoch=68, lrate=0.011, error=0.000, , sum_error=2.730\n",
      ">epoch=69, lrate=0.011, error=0.000, , sum_error=2.730\n",
      ">epoch=70, lrate=0.011, error=0.000, , sum_error=2.730\n",
      ">epoch=71, lrate=0.011, error=0.000, , sum_error=2.730\n",
      ">epoch=72, lrate=0.011, error=0.000, , sum_error=2.730\n",
      ">epoch=73, lrate=0.011, error=0.000, , sum_error=2.730\n",
      ">epoch=74, lrate=0.011, error=0.000, , sum_error=2.730\n",
      ">epoch=75, lrate=0.011, error=0.000, , sum_error=2.729\n",
      ">epoch=76, lrate=0.011, error=0.000, , sum_error=2.729\n",
      ">epoch=77, lrate=0.011, error=0.000, , sum_error=2.729\n",
      ">epoch=78, lrate=0.011, error=0.000, , sum_error=2.729\n",
      ">epoch=79, lrate=0.011, error=0.000, , sum_error=2.729\n",
      ">epoch=80, lrate=0.011, error=0.000, , sum_error=2.729\n",
      ">epoch=81, lrate=0.011, error=0.000, , sum_error=2.729\n",
      ">epoch=82, lrate=0.011, error=0.000, , sum_error=2.729\n",
      ">epoch=83, lrate=0.011, error=0.000, , sum_error=2.729\n",
      ">epoch=84, lrate=0.011, error=0.000, , sum_error=2.729\n",
      ">epoch=85, lrate=0.011, error=0.000, , sum_error=2.729\n",
      ">epoch=86, lrate=0.011, error=0.000, , sum_error=2.729\n",
      ">epoch=87, lrate=0.011, error=0.000, , sum_error=2.729\n",
      ">epoch=88, lrate=0.011, error=0.000, , sum_error=2.729\n",
      ">epoch=89, lrate=0.011, error=0.000, , sum_error=2.729\n",
      ">epoch=90, lrate=0.011, error=0.000, , sum_error=2.729\n",
      ">epoch=91, lrate=0.011, error=0.000, , sum_error=2.729\n",
      ">epoch=92, lrate=0.011, error=0.000, , sum_error=2.729\n",
      ">epoch=93, lrate=0.011, error=0.000, , sum_error=2.729\n",
      ">epoch=94, lrate=0.011, error=0.000, , sum_error=2.729\n",
      ">epoch=95, lrate=0.011, error=0.000, , sum_error=2.729\n",
      ">epoch=96, lrate=0.011, error=0.000, , sum_error=2.729\n",
      ">epoch=97, lrate=0.011, error=0.000, , sum_error=2.729\n",
      ">epoch=98, lrate=0.011, error=0.000, , sum_error=2.729\n",
      ">epoch=99, lrate=0.011, error=0.000, , sum_error=2.729\n"
     ]
    }
   ],
   "source": [
    "random_vals3 = []\n",
    "random_vals3 = box_muller(x_array4,std_dev,_mean)\n",
    "random_vals_t3 = []\n",
    "random_vals_t3 = triple_converter(random_vals3)\n",
    "values3,e3,w = train_weights3(random_vals_t3, 0.011,100)"
   ]
  },
  {
   "cell_type": "code",
   "execution_count": 35,
   "metadata": {},
   "outputs": [
    {
     "data": {
      "image/png": "[encoded data removed]",
      "text/plain": [
       "<Figure size 432x288 with 1 Axes>"
      ]
     },
     "metadata": {
      "needs_background": "light"
     },
     "output_type": "display_data"
    }
   ],
   "source": [
    "y_axis = values3 #network output\n",
    "y = random_vals3 # x noise\n",
    "x_axis = x = t_array4\n",
    "plt.plot(x,y,\"y\") #actual\n",
    "plt.plot(x_axis,y_axis,\"b\")#noise\n",
    "plt.show()"
   ]
  },
  {
   "cell_type": "markdown",
   "metadata": {},
   "source": [
    "## Error representation"
   ]
  },
  {
   "cell_type": "code",
   "execution_count": 36,
   "metadata": {},
   "outputs": [
    {
     "data": {
      "image/png": "[encoded data removed]",
      "text/plain": [
       "<Figure size 432x288 with 1 Axes>"
      ]
     },
     "metadata": {
      "needs_background": "light"
     },
     "output_type": "display_data"
    }
   ],
   "source": [
    "e_array = e3\n",
    "c = 0\n",
    "while c < len(e_array):\n",
    "    e_array[c] = abs(e_array[c])\n",
    "    c=c+1\n",
    "    \n",
    "y_axis = e_array #network output\n",
    "#y = x_array2\n",
    "x_axis = x = t_array4\n",
    "#plt.plot(x,y,\"y\") #x_noise values\n",
    "plt.plot(x_axis,y_axis,\"b\")#percebtron(blue)\n",
    "plt.show()"
   ]
  },
  {
   "cell_type": "code",
   "execution_count": 37,
   "metadata": {},
   "outputs": [
    {
     "data": {
      "text/html": [
       "<div>\n",
       "<style scoped>\n",
       "    .dataframe tbody tr th:only-of-type {\n",
       "        vertical-align: middle;\n",
       "    }\n",
       "\n",
       "    .dataframe tbody tr th {\n",
       "        vertical-align: top;\n",
       "    }\n",
       "\n",
       "    .dataframe thead th {\n",
       "        text-align: right;\n",
       "    }\n",
       "</style>\n",
       "<table border=\"1\" class=\"dataframe\">\n",
       "  <thead>\n",
       "    <tr style=\"text-align: right;\">\n",
       "      <th></th>\n",
       "      <th>Noise_values</th>\n",
       "      <th>Network_output</th>\n",
       "      <th>Error</th>\n",
       "      <th>T</th>\n",
       "    </tr>\n",
       "  </thead>\n",
       "  <tbody>\n",
       "    <tr>\n",
       "      <td>0</td>\n",
       "      <td>[0, 0, 2.419063637103549]</td>\n",
       "      <td>1.367879</td>\n",
       "      <td>1.051184e+00</td>\n",
       "      <td>0.5</td>\n",
       "    </tr>\n",
       "    <tr>\n",
       "      <td>1</td>\n",
       "      <td>[0, 2.549889458803278, 2.419063637103549]</td>\n",
       "      <td>1.275510</td>\n",
       "      <td>1.274380e+00</td>\n",
       "      <td>1.0</td>\n",
       "    </tr>\n",
       "    <tr>\n",
       "      <td>2</td>\n",
       "      <td>[2.481070060754707, 2.549889458803278, 2.41906...</td>\n",
       "      <td>2.481070</td>\n",
       "      <td>4.269385e-11</td>\n",
       "      <td>1.5</td>\n",
       "    </tr>\n",
       "    <tr>\n",
       "      <td>3</td>\n",
       "      <td>[2.5623440074720336, 2.481070060754707, 2.5498...</td>\n",
       "      <td>2.562344</td>\n",
       "      <td>2.081446e-12</td>\n",
       "      <td>2.0</td>\n",
       "    </tr>\n",
       "    <tr>\n",
       "      <td>4</td>\n",
       "      <td>[2.408688682569232, 2.5623440074720336, 2.4810...</td>\n",
       "      <td>2.408689</td>\n",
       "      <td>2.873453e-10</td>\n",
       "      <td>2.5</td>\n",
       "    </tr>\n",
       "    <tr>\n",
       "      <td>5</td>\n",
       "      <td>[2.4387145220814737, 2.408688682569232, 2.5623...</td>\n",
       "      <td>2.438715</td>\n",
       "      <td>1.669069e-10</td>\n",
       "      <td>3.0</td>\n",
       "    </tr>\n",
       "    <tr>\n",
       "      <td>6</td>\n",
       "      <td>[2.5002472032333487, 2.4387145220814737, 2.408...</td>\n",
       "      <td>2.500247</td>\n",
       "      <td>1.251355e-11</td>\n",
       "      <td>3.5</td>\n",
       "    </tr>\n",
       "    <tr>\n",
       "      <td>7</td>\n",
       "      <td>[2.4601573633952083, 2.5002472032333487, 2.438...</td>\n",
       "      <td>2.460157</td>\n",
       "      <td>2.930767e-11</td>\n",
       "      <td>4.0</td>\n",
       "    </tr>\n",
       "    <tr>\n",
       "      <td>8</td>\n",
       "      <td>[2.5231401177414523, 2.4601573633952083, 2.500...</td>\n",
       "      <td>2.523140</td>\n",
       "      <td>2.719158e-12</td>\n",
       "      <td>4.5</td>\n",
       "    </tr>\n",
       "    <tr>\n",
       "      <td>9</td>\n",
       "      <td>[2.516198058025023, 2.5231401177414523, 2.4601...</td>\n",
       "      <td>2.516198</td>\n",
       "      <td>1.852740e-12</td>\n",
       "      <td>5.0</td>\n",
       "    </tr>\n",
       "    <tr>\n",
       "      <td>10</td>\n",
       "      <td>[2.5382155352802043, 2.516198058025023, 2.5231...</td>\n",
       "      <td>2.538216</td>\n",
       "      <td>6.119549e-13</td>\n",
       "      <td>5.5</td>\n",
       "    </tr>\n",
       "    <tr>\n",
       "      <td>11</td>\n",
       "      <td>[1.5229500522590262, 2.5382155352802043, 2.516...</td>\n",
       "      <td>1.524279</td>\n",
       "      <td>1.328468e-03</td>\n",
       "      <td>6.0</td>\n",
       "    </tr>\n",
       "    <tr>\n",
       "      <td>12</td>\n",
       "      <td>[1.4180371854652656, 1.5229500522590262, 2.538...</td>\n",
       "      <td>1.426056</td>\n",
       "      <td>8.018950e-03</td>\n",
       "      <td>6.5</td>\n",
       "    </tr>\n",
       "    <tr>\n",
       "      <td>13</td>\n",
       "      <td>[1.4573465316133256, 1.4180371854652656, 1.522...</td>\n",
       "      <td>1.461250</td>\n",
       "      <td>3.903195e-03</td>\n",
       "      <td>7.0</td>\n",
       "    </tr>\n",
       "    <tr>\n",
       "      <td>14</td>\n",
       "      <td>[1.5472860657447745, 1.4573465316133256, 1.418...</td>\n",
       "      <td>1.546818</td>\n",
       "      <td>4.676286e-04</td>\n",
       "      <td>7.5</td>\n",
       "    </tr>\n",
       "    <tr>\n",
       "      <td>15</td>\n",
       "      <td>[1.4677755038978062, 1.5472860657447745, 1.457...</td>\n",
       "      <td>1.470996</td>\n",
       "      <td>3.220809e-03</td>\n",
       "      <td>8.0</td>\n",
       "    </tr>\n",
       "    <tr>\n",
       "      <td>16</td>\n",
       "      <td>[1.5064102813026028, 1.4677755038978062, 1.547...</td>\n",
       "      <td>1.507242</td>\n",
       "      <td>8.315844e-04</td>\n",
       "      <td>8.5</td>\n",
       "    </tr>\n",
       "    <tr>\n",
       "      <td>17</td>\n",
       "      <td>[1.4628014321785145, 1.5064102813026028, 1.467...</td>\n",
       "      <td>1.466188</td>\n",
       "      <td>3.386373e-03</td>\n",
       "      <td>9.0</td>\n",
       "    </tr>\n",
       "    <tr>\n",
       "      <td>18</td>\n",
       "      <td>[1.4671542341699784, 1.4628014321785145, 1.506...</td>\n",
       "      <td>1.470058</td>\n",
       "      <td>2.903631e-03</td>\n",
       "      <td>9.5</td>\n",
       "    </tr>\n",
       "    <tr>\n",
       "      <td>19</td>\n",
       "      <td>[1.5242720822271283, 1.4671542341699784, 1.462...</td>\n",
       "      <td>1.524257</td>\n",
       "      <td>1.507178e-05</td>\n",
       "      <td>10.0</td>\n",
       "    </tr>\n",
       "    <tr>\n",
       "      <td>20</td>\n",
       "      <td>[1.5114353246875516, 1.5242720822271283, 1.467...</td>\n",
       "      <td>1.512028</td>\n",
       "      <td>5.925159e-04</td>\n",
       "      <td>10.5</td>\n",
       "    </tr>\n",
       "    <tr>\n",
       "      <td>21</td>\n",
       "      <td>[3.4894258914196348, 1.5114353246875516, 1.524...</td>\n",
       "      <td>3.489426</td>\n",
       "      <td>0.000000e+00</td>\n",
       "      <td>11.0</td>\n",
       "    </tr>\n",
       "    <tr>\n",
       "      <td>22</td>\n",
       "      <td>[3.448620190750912, 3.4894258914196348, 1.5114...</td>\n",
       "      <td>3.448620</td>\n",
       "      <td>0.000000e+00</td>\n",
       "      <td>11.5</td>\n",
       "    </tr>\n",
       "    <tr>\n",
       "      <td>23</td>\n",
       "      <td>[3.4967950924477322, 3.448620190750912, 3.4894...</td>\n",
       "      <td>3.496795</td>\n",
       "      <td>0.000000e+00</td>\n",
       "      <td>12.0</td>\n",
       "    </tr>\n",
       "    <tr>\n",
       "      <td>24</td>\n",
       "      <td>[3.3872401452049172, 3.4967950924477322, 3.448...</td>\n",
       "      <td>3.387240</td>\n",
       "      <td>0.000000e+00</td>\n",
       "      <td>12.5</td>\n",
       "    </tr>\n",
       "    <tr>\n",
       "      <td>25</td>\n",
       "      <td>[3.468936294486908, 3.3872401452049172, 3.4967...</td>\n",
       "      <td>3.468936</td>\n",
       "      <td>0.000000e+00</td>\n",
       "      <td>13.0</td>\n",
       "    </tr>\n",
       "    <tr>\n",
       "      <td>26</td>\n",
       "      <td>[3.4813525075911667, 3.468936294486908, 3.3872...</td>\n",
       "      <td>3.481353</td>\n",
       "      <td>0.000000e+00</td>\n",
       "      <td>13.5</td>\n",
       "    </tr>\n",
       "    <tr>\n",
       "      <td>27</td>\n",
       "      <td>[3.5511653048287566, 3.4813525075911667, 3.468...</td>\n",
       "      <td>3.551165</td>\n",
       "      <td>0.000000e+00</td>\n",
       "      <td>14.0</td>\n",
       "    </tr>\n",
       "    <tr>\n",
       "      <td>28</td>\n",
       "      <td>[3.4963056345319914, 3.5511653048287566, 3.481...</td>\n",
       "      <td>3.496306</td>\n",
       "      <td>0.000000e+00</td>\n",
       "      <td>14.5</td>\n",
       "    </tr>\n",
       "    <tr>\n",
       "      <td>29</td>\n",
       "      <td>[3.5693724474562116, 3.4963056345319914, 3.551...</td>\n",
       "      <td>3.569372</td>\n",
       "      <td>0.000000e+00</td>\n",
       "      <td>15.0</td>\n",
       "    </tr>\n",
       "    <tr>\n",
       "      <td>30</td>\n",
       "      <td>[3.5198915267194097, 3.5693724474562116, 3.496...</td>\n",
       "      <td>3.519892</td>\n",
       "      <td>0.000000e+00</td>\n",
       "      <td>15.5</td>\n",
       "    </tr>\n",
       "  </tbody>\n",
       "</table>\n",
       "</div>"
      ],
      "text/plain": [
       "                                         Noise_values  Network_output  \\\n",
       "0                           [0, 0, 2.419063637103549]        1.367879   \n",
       "1           [0, 2.549889458803278, 2.419063637103549]        1.275510   \n",
       "2   [2.481070060754707, 2.549889458803278, 2.41906...        2.481070   \n",
       "3   [2.5623440074720336, 2.481070060754707, 2.5498...        2.562344   \n",
       "4   [2.408688682569232, 2.5623440074720336, 2.4810...        2.408689   \n",
       "5   [2.4387145220814737, 2.408688682569232, 2.5623...        2.438715   \n",
       "6   [2.5002472032333487, 2.4387145220814737, 2.408...        2.500247   \n",
       "7   [2.4601573633952083, 2.5002472032333487, 2.438...        2.460157   \n",
       "8   [2.5231401177414523, 2.4601573633952083, 2.500...        2.523140   \n",
       "9   [2.516198058025023, 2.5231401177414523, 2.4601...        2.516198   \n",
       "10  [2.5382155352802043, 2.516198058025023, 2.5231...        2.538216   \n",
       "11  [1.5229500522590262, 2.5382155352802043, 2.516...        1.524279   \n",
       "12  [1.4180371854652656, 1.5229500522590262, 2.538...        1.426056   \n",
       "13  [1.4573465316133256, 1.4180371854652656, 1.522...        1.461250   \n",
       "14  [1.5472860657447745, 1.4573465316133256, 1.418...        1.546818   \n",
       "15  [1.4677755038978062, 1.5472860657447745, 1.457...        1.470996   \n",
       "16  [1.5064102813026028, 1.4677755038978062, 1.547...        1.507242   \n",
       "17  [1.4628014321785145, 1.5064102813026028, 1.467...        1.466188   \n",
       "18  [1.4671542341699784, 1.4628014321785145, 1.506...        1.470058   \n",
       "19  [1.5242720822271283, 1.4671542341699784, 1.462...        1.524257   \n",
       "20  [1.5114353246875516, 1.5242720822271283, 1.467...        1.512028   \n",
       "21  [3.4894258914196348, 1.5114353246875516, 1.524...        3.489426   \n",
       "22  [3.448620190750912, 3.4894258914196348, 1.5114...        3.448620   \n",
       "23  [3.4967950924477322, 3.448620190750912, 3.4894...        3.496795   \n",
       "24  [3.3872401452049172, 3.4967950924477322, 3.448...        3.387240   \n",
       "25  [3.468936294486908, 3.3872401452049172, 3.4967...        3.468936   \n",
       "26  [3.4813525075911667, 3.468936294486908, 3.3872...        3.481353   \n",
       "27  [3.5511653048287566, 3.4813525075911667, 3.468...        3.551165   \n",
       "28  [3.4963056345319914, 3.5511653048287566, 3.481...        3.496306   \n",
       "29  [3.5693724474562116, 3.4963056345319914, 3.551...        3.569372   \n",
       "30  [3.5198915267194097, 3.5693724474562116, 3.496...        3.519892   \n",
       "\n",
       "           Error     T  \n",
       "0   1.051184e+00   0.5  \n",
       "1   1.274380e+00   1.0  \n",
       "2   4.269385e-11   1.5  \n",
       "3   2.081446e-12   2.0  \n",
       "4   2.873453e-10   2.5  \n",
       "5   1.669069e-10   3.0  \n",
       "6   1.251355e-11   3.5  \n",
       "7   2.930767e-11   4.0  \n",
       "8   2.719158e-12   4.5  \n",
       "9   1.852740e-12   5.0  \n",
       "10  6.119549e-13   5.5  \n",
       "11  1.328468e-03   6.0  \n",
       "12  8.018950e-03   6.5  \n",
       "13  3.903195e-03   7.0  \n",
       "14  4.676286e-04   7.5  \n",
       "15  3.220809e-03   8.0  \n",
       "16  8.315844e-04   8.5  \n",
       "17  3.386373e-03   9.0  \n",
       "18  2.903631e-03   9.5  \n",
       "19  1.507178e-05  10.0  \n",
       "20  5.925159e-04  10.5  \n",
       "21  0.000000e+00  11.0  \n",
       "22  0.000000e+00  11.5  \n",
       "23  0.000000e+00  12.0  \n",
       "24  0.000000e+00  12.5  \n",
       "25  0.000000e+00  13.0  \n",
       "26  0.000000e+00  13.5  \n",
       "27  0.000000e+00  14.0  \n",
       "28  0.000000e+00  14.5  \n",
       "29  0.000000e+00  15.0  \n",
       "30  0.000000e+00  15.5  "
      ]
     },
     "execution_count": 37,
     "metadata": {},
     "output_type": "execute_result"
    }
   ],
   "source": [
    "data9= {'Noise_values':random_vals_t3,'Network_output':values3,'Error':e3,'T':t_array4}\n",
    "vis2= pd.DataFrame(data9)\n",
    "vis2"
   ]
  },
  {
   "cell_type": "markdown",
   "metadata": {},
   "source": [
    "#### Example 4(step size = 0.75)"
   ]
  },
  {
   "cell_type": "code",
   "execution_count": 38,
   "metadata": {},
   "outputs": [
    {
     "name": "stdout",
     "output_type": "stream",
     "text": [
      ">epoch=0, lrate=0.010, error=1.468, , sum_error=55.849\n",
      ">epoch=1, lrate=0.010, error=1.468, , sum_error=55.849\n",
      ">epoch=2, lrate=0.010, error=0.930, , sum_error=50.336\n",
      ">epoch=3, lrate=0.010, error=0.454, , sum_error=44.037\n",
      ">epoch=4, lrate=0.010, error=0.172, , sum_error=37.046\n",
      ">epoch=5, lrate=0.010, error=0.055, , sum_error=28.908\n",
      ">epoch=6, lrate=0.010, error=0.017, , sum_error=21.414\n",
      ">epoch=7, lrate=0.010, error=0.005, , sum_error=18.440\n",
      ">epoch=8, lrate=0.010, error=0.001, , sum_error=17.374\n",
      ">epoch=9, lrate=0.010, error=0.000, , sum_error=16.604\n",
      ">epoch=10, lrate=0.010, error=0.000, , sum_error=15.987\n",
      ">epoch=11, lrate=0.010, error=0.000, , sum_error=15.445\n",
      ">epoch=12, lrate=0.010, error=0.000, , sum_error=14.899\n",
      ">epoch=13, lrate=0.010, error=0.000, , sum_error=14.304\n",
      ">epoch=14, lrate=0.010, error=0.000, , sum_error=13.640\n"
     ]
    }
   ],
   "source": [
    "random_vals4 = []\n",
    "random_vals4 = box_muller(x_array5,std_dev,_mean)\n",
    "random_vals_t4 = triple_converter(random_vals4)\n",
    "values4,e4,w = train_weights3(random_vals_t4, 0.01,15)"
   ]
  },
  {
   "cell_type": "code",
   "execution_count": 39,
   "metadata": {},
   "outputs": [
    {
     "data": {
      "image/png": "[encoded data removed]",
      "text/plain": [
       "<Figure size 432x288 with 1 Axes>"
      ]
     },
     "metadata": {
      "needs_background": "light"
     },
     "output_type": "display_data"
    }
   ],
   "source": [
    "y_axis = values4 #network output\n",
    "y = random_vals4 # x noise\n",
    "x_axis = x = t_array5\n",
    "plt.plot(x,y,\"y\") #actual\n",
    "plt.plot(x_axis,y_axis,\"b\")#noise\n",
    "plt.show()"
   ]
  },
  {
   "cell_type": "markdown",
   "metadata": {},
   "source": [
    "## Error representation"
   ]
  },
  {
   "cell_type": "code",
   "execution_count": 40,
   "metadata": {},
   "outputs": [
    {
     "data": {
      "image/png": "[encoded data removed]",
      "text/plain": [
       "<Figure size 432x288 with 1 Axes>"
      ]
     },
     "metadata": {
      "needs_background": "light"
     },
     "output_type": "display_data"
    }
   ],
   "source": [
    "e_array = e4\n",
    "c = 0\n",
    "while c < len(e_array):\n",
    "    e_array[c] = abs(e_array[c])\n",
    "    c=c+1\n",
    "    \n",
    "y_axis = e_array #network output\n",
    "#y = x_array2\n",
    "x_axis = x = t_array5\n",
    "#plt.plot(x,y,\"y\") #x_noise values\n",
    "plt.plot(x_axis,y_axis,\"b\")#percebtron(blue)\n",
    "plt.show()"
   ]
  },
  {
   "cell_type": "code",
   "execution_count": 41,
   "metadata": {},
   "outputs": [
    {
     "data": {
      "text/html": [
       "<div>\n",
       "<style scoped>\n",
       "    .dataframe tbody tr th:only-of-type {\n",
       "        vertical-align: middle;\n",
       "    }\n",
       "\n",
       "    .dataframe tbody tr th {\n",
       "        vertical-align: top;\n",
       "    }\n",
       "\n",
       "    .dataframe thead th {\n",
       "        text-align: right;\n",
       "    }\n",
       "</style>\n",
       "<table border=\"1\" class=\"dataframe\">\n",
       "  <thead>\n",
       "    <tr style=\"text-align: right;\">\n",
       "      <th></th>\n",
       "      <th>Noise_values</th>\n",
       "      <th>Network_output</th>\n",
       "      <th>Error</th>\n",
       "      <th>T</th>\n",
       "    </tr>\n",
       "  </thead>\n",
       "  <tbody>\n",
       "    <tr>\n",
       "      <td>0</td>\n",
       "      <td>[0, 0, 3.4478286164981804]</td>\n",
       "      <td>1.367879</td>\n",
       "      <td>2.079949e+00</td>\n",
       "      <td>0.75</td>\n",
       "    </tr>\n",
       "    <tr>\n",
       "      <td>1</td>\n",
       "      <td>[0, 1.9469484988243633, 3.4478286164981804]</td>\n",
       "      <td>1.118136</td>\n",
       "      <td>8.288125e-01</td>\n",
       "      <td>1.50</td>\n",
       "    </tr>\n",
       "    <tr>\n",
       "      <td>2</td>\n",
       "      <td>[2.703035500156344, 1.9469484988243633, 3.4478...</td>\n",
       "      <td>1.293088</td>\n",
       "      <td>1.409947e+00</td>\n",
       "      <td>2.25</td>\n",
       "    </tr>\n",
       "    <tr>\n",
       "      <td>3</td>\n",
       "      <td>[2.291543544884867, 2.703035500156344, 1.94694...</td>\n",
       "      <td>1.129475</td>\n",
       "      <td>1.162068e+00</td>\n",
       "      <td>3.00</td>\n",
       "    </tr>\n",
       "    <tr>\n",
       "      <td>4</td>\n",
       "      <td>[2.6122447551948547, 2.291543544884867, 2.7030...</td>\n",
       "      <td>1.334997</td>\n",
       "      <td>1.277248e+00</td>\n",
       "      <td>3.75</td>\n",
       "    </tr>\n",
       "    <tr>\n",
       "      <td>5</td>\n",
       "      <td>[2.509929628780578, 2.6122447551948547, 2.2915...</td>\n",
       "      <td>1.319436</td>\n",
       "      <td>1.190494e+00</td>\n",
       "      <td>4.50</td>\n",
       "    </tr>\n",
       "    <tr>\n",
       "      <td>6</td>\n",
       "      <td>[2.471689713020732, 2.509929628780578, 2.61224...</td>\n",
       "      <td>1.348210</td>\n",
       "      <td>1.123479e+00</td>\n",
       "      <td>5.25</td>\n",
       "    </tr>\n",
       "    <tr>\n",
       "      <td>7</td>\n",
       "      <td>[1.0307102957628191, 2.471689713020732, 2.5099...</td>\n",
       "      <td>1.081985</td>\n",
       "      <td>5.127467e-02</td>\n",
       "      <td>6.00</td>\n",
       "    </tr>\n",
       "    <tr>\n",
       "      <td>8</td>\n",
       "      <td>[1.7907844800615798, 1.0307102957628191, 2.471...</td>\n",
       "      <td>1.162940</td>\n",
       "      <td>6.278441e-01</td>\n",
       "      <td>6.75</td>\n",
       "    </tr>\n",
       "    <tr>\n",
       "      <td>9</td>\n",
       "      <td>[1.383188725042893, 1.7907844800615798, 1.0307...</td>\n",
       "      <td>1.113624</td>\n",
       "      <td>2.695650e-01</td>\n",
       "      <td>7.50</td>\n",
       "    </tr>\n",
       "    <tr>\n",
       "      <td>10</td>\n",
       "      <td>[1.558682935220797, 1.383188725042893, 1.79078...</td>\n",
       "      <td>1.138691</td>\n",
       "      <td>4.199923e-01</td>\n",
       "      <td>8.25</td>\n",
       "    </tr>\n",
       "    <tr>\n",
       "      <td>11</td>\n",
       "      <td>[1.3894905698693356, 1.558682935220797, 1.3831...</td>\n",
       "      <td>1.127262</td>\n",
       "      <td>2.622287e-01</td>\n",
       "      <td>9.00</td>\n",
       "    </tr>\n",
       "    <tr>\n",
       "      <td>12</td>\n",
       "      <td>[1.4811711252652437, 1.3894905698693356, 1.558...</td>\n",
       "      <td>1.139443</td>\n",
       "      <td>3.417278e-01</td>\n",
       "      <td>9.75</td>\n",
       "    </tr>\n",
       "    <tr>\n",
       "      <td>13</td>\n",
       "      <td>[1.5215295826568722, 1.4811711252652437, 1.389...</td>\n",
       "      <td>1.141223</td>\n",
       "      <td>3.803070e-01</td>\n",
       "      <td>10.50</td>\n",
       "    </tr>\n",
       "    <tr>\n",
       "      <td>14</td>\n",
       "      <td>[4.517240082914614, 1.5215295826568722, 1.4811...</td>\n",
       "      <td>4.517240</td>\n",
       "      <td>2.516283e-08</td>\n",
       "      <td>11.25</td>\n",
       "    </tr>\n",
       "    <tr>\n",
       "      <td>15</td>\n",
       "      <td>[2.9800692861835207, 4.517240082914614, 1.5215...</td>\n",
       "      <td>2.945498</td>\n",
       "      <td>3.457083e-02</td>\n",
       "      <td>12.00</td>\n",
       "    </tr>\n",
       "    <tr>\n",
       "      <td>16</td>\n",
       "      <td>[3.6461031540478075, 2.9800692861835207, 4.517...</td>\n",
       "      <td>3.646048</td>\n",
       "      <td>5.535088e-05</td>\n",
       "      <td>12.75</td>\n",
       "    </tr>\n",
       "    <tr>\n",
       "      <td>17</td>\n",
       "      <td>[3.3667045700303966, 3.6461031540478075, 2.980...</td>\n",
       "      <td>3.366425</td>\n",
       "      <td>2.793178e-04</td>\n",
       "      <td>13.50</td>\n",
       "    </tr>\n",
       "    <tr>\n",
       "      <td>18</td>\n",
       "      <td>[3.6070302366599805, 3.3667045700303966, 3.646...</td>\n",
       "      <td>3.607028</td>\n",
       "      <td>2.508945e-06</td>\n",
       "      <td>14.25</td>\n",
       "    </tr>\n",
       "    <tr>\n",
       "      <td>19</td>\n",
       "      <td>[3.5100850300544373, 3.6070302366599805, 3.366...</td>\n",
       "      <td>3.510083</td>\n",
       "      <td>2.264575e-06</td>\n",
       "      <td>15.00</td>\n",
       "    </tr>\n",
       "    <tr>\n",
       "      <td>20</td>\n",
       "      <td>[3.5159811715090212, 3.5100850300544373, 3.607...</td>\n",
       "      <td>3.515980</td>\n",
       "      <td>8.456273e-07</td>\n",
       "      <td>15.75</td>\n",
       "    </tr>\n",
       "  </tbody>\n",
       "</table>\n",
       "</div>"
      ],
      "text/plain": [
       "                                         Noise_values  Network_output  \\\n",
       "0                          [0, 0, 3.4478286164981804]        1.367879   \n",
       "1         [0, 1.9469484988243633, 3.4478286164981804]        1.118136   \n",
       "2   [2.703035500156344, 1.9469484988243633, 3.4478...        1.293088   \n",
       "3   [2.291543544884867, 2.703035500156344, 1.94694...        1.129475   \n",
       "4   [2.6122447551948547, 2.291543544884867, 2.7030...        1.334997   \n",
       "5   [2.509929628780578, 2.6122447551948547, 2.2915...        1.319436   \n",
       "6   [2.471689713020732, 2.509929628780578, 2.61224...        1.348210   \n",
       "7   [1.0307102957628191, 2.471689713020732, 2.5099...        1.081985   \n",
       "8   [1.7907844800615798, 1.0307102957628191, 2.471...        1.162940   \n",
       "9   [1.383188725042893, 1.7907844800615798, 1.0307...        1.113624   \n",
       "10  [1.558682935220797, 1.383188725042893, 1.79078...        1.138691   \n",
       "11  [1.3894905698693356, 1.558682935220797, 1.3831...        1.127262   \n",
       "12  [1.4811711252652437, 1.3894905698693356, 1.558...        1.139443   \n",
       "13  [1.5215295826568722, 1.4811711252652437, 1.389...        1.141223   \n",
       "14  [4.517240082914614, 1.5215295826568722, 1.4811...        4.517240   \n",
       "15  [2.9800692861835207, 4.517240082914614, 1.5215...        2.945498   \n",
       "16  [3.6461031540478075, 2.9800692861835207, 4.517...        3.646048   \n",
       "17  [3.3667045700303966, 3.6461031540478075, 2.980...        3.366425   \n",
       "18  [3.6070302366599805, 3.3667045700303966, 3.646...        3.607028   \n",
       "19  [3.5100850300544373, 3.6070302366599805, 3.366...        3.510083   \n",
       "20  [3.5159811715090212, 3.5100850300544373, 3.607...        3.515980   \n",
       "\n",
       "           Error      T  \n",
       "0   2.079949e+00   0.75  \n",
       "1   8.288125e-01   1.50  \n",
       "2   1.409947e+00   2.25  \n",
       "3   1.162068e+00   3.00  \n",
       "4   1.277248e+00   3.75  \n",
       "5   1.190494e+00   4.50  \n",
       "6   1.123479e+00   5.25  \n",
       "7   5.127467e-02   6.00  \n",
       "8   6.278441e-01   6.75  \n",
       "9   2.695650e-01   7.50  \n",
       "10  4.199923e-01   8.25  \n",
       "11  2.622287e-01   9.00  \n",
       "12  3.417278e-01   9.75  \n",
       "13  3.803070e-01  10.50  \n",
       "14  2.516283e-08  11.25  \n",
       "15  3.457083e-02  12.00  \n",
       "16  5.535088e-05  12.75  \n",
       "17  2.793178e-04  13.50  \n",
       "18  2.508945e-06  14.25  \n",
       "19  2.264575e-06  15.00  \n",
       "20  8.456273e-07  15.75  "
      ]
     },
     "execution_count": 41,
     "metadata": {},
     "output_type": "execute_result"
    }
   ],
   "source": [
    "#itr,input,output,error\n",
    "data_10= {'Noise_values':random_vals_t4,'Network_output':values4,'Error':e4,'T':t_array5}\n",
    "vis3= pd.DataFrame(data_10)\n",
    "vis3"
   ]
  },
  {
   "cell_type": "markdown",
   "metadata": {},
   "source": [
    "# Perceptron model with different learning rates"
   ]
  },
  {
   "cell_type": "markdown",
   "metadata": {},
   "source": [
    "## Example 1"
   ]
  },
  {
   "cell_type": "code",
   "execution_count": 42,
   "metadata": {},
   "outputs": [
    {
     "ename": "NameError",
     "evalue": "name 'train_weights' is not defined",
     "output_type": "error",
     "traceback": [
      "\u001b[1;31m---------------------------------------------------------------------------\u001b[0m",
      "\u001b[1;31mNameError\u001b[0m                                 Traceback (most recent call last)",
      "\u001b[1;32m<ipython-input-42-a07cc1d34111>\u001b[0m in \u001b[0;36m<module>\u001b[1;34m\u001b[0m\n\u001b[0;32m      1\u001b[0m \u001b[0mrandom_vals1\u001b[0m \u001b[1;33m=\u001b[0m \u001b[1;33m[\u001b[0m\u001b[1;33m]\u001b[0m\u001b[1;33m\u001b[0m\u001b[1;33m\u001b[0m\u001b[0m\n\u001b[0;32m      2\u001b[0m \u001b[0mrandom_vals1\u001b[0m \u001b[1;33m=\u001b[0m \u001b[0mbox_muller\u001b[0m\u001b[1;33m(\u001b[0m\u001b[0mx_save2\u001b[0m\u001b[1;33m,\u001b[0m\u001b[0mstd_dev\u001b[0m\u001b[1;33m,\u001b[0m\u001b[0m_mean\u001b[0m\u001b[1;33m)\u001b[0m\u001b[1;33m\u001b[0m\u001b[1;33m\u001b[0m\u001b[0m\n\u001b[1;32m----> 3\u001b[1;33m \u001b[0mvalues1\u001b[0m\u001b[1;33m,\u001b[0m\u001b[0me1\u001b[0m \u001b[1;33m=\u001b[0m \u001b[0mtrain_weights\u001b[0m\u001b[1;33m(\u001b[0m\u001b[0mrandom_vals1\u001b[0m\u001b[1;33m,\u001b[0m \u001b[1;36m0.006531\u001b[0m\u001b[1;33m,\u001b[0m\u001b[1;36m5\u001b[0m\u001b[1;33m)\u001b[0m\u001b[1;33m\u001b[0m\u001b[1;33m\u001b[0m\u001b[0m\n\u001b[0m",
      "\u001b[1;31mNameError\u001b[0m: name 'train_weights' is not defined"
     ]
    }
   ],
   "source": [
    "random_vals1 = []\n",
    "random_vals1 = box_muller(x_save2,std_dev,_mean)\n",
    "values1,e1 = train_weights(random_vals1, 0.006531,5)"
   ]
  },
  {
   "cell_type": "code",
   "execution_count": null,
   "metadata": {},
   "outputs": [],
   "source": [
    "y_axis = values1 #network output\n",
    "y = random_vals1\n",
    "x_axis = x = t_save2\n",
    "plt.plot(x,y,\"y\") #actual\n",
    "plt.plot(x_axis,y_axis,\"b\")#noise\n",
    "plt.show()"
   ]
  },
  {
   "cell_type": "code",
   "execution_count": null,
   "metadata": {},
   "outputs": [],
   "source": [
    "y_axis = values2 #network output\n",
    "y = random_vals2 # x noise\n",
    "x_axis = x = t_save2\n",
    "plt.plot(x,y,\"y\") #actual\n",
    "plt.plot(x_axis,y_axis,\"b\")#noise\n",
    "plt.show()"
   ]
  },
  {
   "cell_type": "markdown",
   "metadata": {},
   "source": [
    "## Example 2"
   ]
  },
  {
   "cell_type": "code",
   "execution_count": null,
   "metadata": {},
   "outputs": [],
   "source": [
    "random_vals1 = []\n",
    "random_vals1 = box_muller(x_array2,std_dev,_mean)\n",
    "values1,e1 = train_weights(random_vals1, 0.06531,5)"
   ]
  },
  {
   "cell_type": "code",
   "execution_count": null,
   "metadata": {},
   "outputs": [],
   "source": [
    "y_axis = values1 #network output\n",
    "y = random_vals1\n",
    "x_axis = x = t_array2\n",
    "plt.plot(x,y,\"y\") #x_noise values\n",
    "plt.plot(x_axis,y_axis,\"b\")#percebtron(blue)\n",
    "plt.show()"
   ]
  },
  {
   "cell_type": "code",
   "execution_count": null,
   "metadata": {},
   "outputs": [],
   "source": []
  },
  {
   "cell_type": "markdown",
   "metadata": {},
   "source": [
    "## Example 3"
   ]
  },
  {
   "cell_type": "code",
   "execution_count": null,
   "metadata": {},
   "outputs": [],
   "source": [
    "random_vals8 = []\n",
    "random_vals8 = box_muller(x_array2,std_dev,_mean)\n",
    "values8,e8 = train_weights(random_vals8, 0.6531,5)"
   ]
  },
  {
   "cell_type": "code",
   "execution_count": null,
   "metadata": {},
   "outputs": [],
   "source": [
    "y_axis = values8 #network output\n",
    "y = random_vals8\n",
    "x_axis = x = t_array2\n",
    "plt.plot(x,y,\"y\") #x_noise values\n",
    "plt.plot(x_axis,y_axis,\"b\")#percebtron(blue)\n",
    "plt.show()"
   ]
  },
  {
   "cell_type": "code",
   "execution_count": null,
   "metadata": {},
   "outputs": [],
   "source": [
    "data_11= {'Noise_values':random_vals8,'Network_output':values8,'Error':e8,'T':t_array2}\n",
    "vis8= pd.DataFrame(data_11)\n",
    "vis8"
   ]
  },
  {
   "cell_type": "code",
   "execution_count": null,
   "metadata": {},
   "outputs": [],
   "source": [
    "#df.to_csv(r'Path where you want to store the exported CSV file\\File Name.csv', index = False)"
   ]
  },
  {
   "cell_type": "code",
   "execution_count": null,
   "metadata": {},
   "outputs": [],
   "source": [
    "random_vals3 = []\n",
    "random_vals3 = box_muller(x_array4,std_dev,_mean)\n",
    "random_vals_t3 = []\n",
    "random_vals_t3 = triple_converter(x_array2)\n",
    "values3,e3,w = train_weights3(random_vals_t3, 0.011,100)"
   ]
  },
  {
   "cell_type": "code",
   "execution_count": null,
   "metadata": {},
   "outputs": [],
   "source": [
    "y_axis = values3 #network output\n",
    "y = x_array2\n",
    "x_axis = x = t_array2\n",
    "plt.plot(x,y,\"y\") #u_values\n",
    "plt.plot(x_axis,y_axis,\"b\")#percebtron(blue)\n",
    "plt.show()"
   ]
  },
  {
   "cell_type": "code",
   "execution_count": null,
   "metadata": {},
   "outputs": [],
   "source": [
    "w"
   ]
  },
  {
   "cell_type": "code",
   "execution_count": null,
   "metadata": {},
   "outputs": [],
   "source": [
    "random_vals3 = []\n",
    "random_vals3 = box_muller(x_array4,std_dev,_mean)\n",
    "random_vals_t3 = []\n",
    "random_vals_t3 = triple_converter(x_array2)\n",
    "values3,e3 = train_weights(x_array2, 0.011,5)"
   ]
  },
  {
   "cell_type": "code",
   "execution_count": null,
   "metadata": {
    "scrolled": false
   },
   "outputs": [],
   "source": [
    "y_axis = values3 #network output\n",
    "y = x_array2\n",
    "x_axis = x = t_array2\n",
    "plt.plot(x,y,\"y\") #x_noise values\n",
    "plt.plot(x_axis,y_axis,\"b\")#percebtron(blue)\n",
    "plt.show()"
   ]
  },
  {
   "cell_type": "code",
   "execution_count": null,
   "metadata": {},
   "outputs": [],
   "source": [
    "len(values3)"
   ]
  },
  {
   "cell_type": "code",
   "execution_count": null,
   "metadata": {},
   "outputs": [],
   "source": [
    "e_array = e3\n",
    "c = 0\n",
    "while c < len(e_array):\n",
    "    e_array[c] = abs(e_array[c])\n",
    "    c=c+1\n",
    "    \n",
    "y_axis = e_array #network output\n",
    "#y = x_array2\n",
    "x_axis = x = t_array2\n",
    "#plt.plot(x,y,\"y\") #x_noise values\n",
    "plt.plot(x_axis,y_axis,\"b\")#percebtron(blue)\n",
    "plt.show()"
   ]
  },
  {
   "cell_type": "code",
   "execution_count": null,
   "metadata": {},
   "outputs": [],
   "source": [
    "y_axis = e_array #network output\n",
    "#y = x_array2\n",
    "x_axis = x = t_array2\n",
    "#plt.plot(x,y,\"y\") #x_noise values\n",
    "plt.plot(x_axis,y_axis,\"b\")#percebtron(blue)\n",
    "plt.show()"
   ]
  },
  {
   "cell_type": "code",
   "execution_count": null,
   "metadata": {},
   "outputs": [],
   "source": []
  },
  {
   "cell_type": "code",
   "execution_count": null,
   "metadata": {},
   "outputs": [],
   "source": []
  },
  {
   "cell_type": "code",
   "execution_count": null,
   "metadata": {},
   "outputs": [],
   "source": []
  },
  {
   "cell_type": "code",
   "execution_count": null,
   "metadata": {},
   "outputs": [],
   "source": []
  },
  {
   "cell_type": "code",
   "execution_count": null,
   "metadata": {},
   "outputs": [],
   "source": []
  },
  {
   "cell_type": "code",
   "execution_count": null,
   "metadata": {},
   "outputs": [],
   "source": []
  }
 ],
 "metadata": {
  "kernelspec": {
   "display_name": "Python 3",
   "language": "python",
   "name": "python3"
  },
  "language_info": {
   "codemirror_mode": {
    "name": "ipython",
    "version": 3
   },
   "file_extension": ".py",
   "mimetype": "text/x-python",
   "name": "python",
   "nbconvert_exporter": "python",
   "pygments_lexer": "ipython3",
   "version": "3.7.4"
  }
 },
 "nbformat": 4,
 "nbformat_minor": 2
}
