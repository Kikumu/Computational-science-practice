{
 "cells": [
  {
   "cell_type": "markdown",
   "metadata": {},
   "source": [
    "# Part 1: Simulating the robot"
   ]
  },
  {
   "cell_type": "code",
   "execution_count": 1,
   "metadata": {},
   "outputs": [],
   "source": [
    "import numpy as np\n",
    "import random as rand\n",
    "import numpy as np\n",
    "import matplotlib.pyplot as plt\n",
    "import math\n",
    "import csv\n",
    "from scipy.stats import norm\n",
    "import seaborn as sns\n",
    "import pandas as pd\n",
    "\n",
    "def func(U,x):\n",
    "    #-2x+2U\n",
    "    val = -(2*x) + 2*U\n",
    "    return val\n",
    "def simulation(x,t,h):\n",
    "    save = 0\n",
    "    U_save = []\n",
    "    t_save = []\n",
    "    x_save = []\n",
    "    x_exact_save = []\n",
    "\n",
    "    U_array = []\n",
    "    t_array = []\n",
    "    x_array = []\n",
    "    x_exact_array = []\n",
    "    while(t <= 15):\n",
    "        if(t <= 5):\n",
    "            U = 2\n",
    "        elif(t < 5 or t <= 10):\n",
    "            U = 1\n",
    "        elif(t < 10 or t <=15):\n",
    "            U = 3\n",
    "        #print(\"U value:\", x)\n",
    "        U_array.append(U)\n",
    "        k = h * func(U,x)\n",
    "        x = x + k\n",
    "        t = t + h\n",
    "        #value under graph\n",
    "        x_exact = U - math.exp(-2*t)\n",
    "        t_array.append(t)\n",
    "        x_array.append(x)\n",
    "        x_exact_array.append(x_exact)\n",
    "        save+=1\n",
    "        #save every 10th integral if h<=0.01\n",
    "        if(save%10 == 0):\n",
    "            U_save.append(U)\n",
    "            t_save.append(t)\n",
    "            x_save.append(x)\n",
    "            x_exact_save.append(x_exact)\n",
    "            #print(\"save1: \",save)\n",
    "        #print(\"Where it is: \",x,\"Exact pos= \",x_exact,\"Time: \",t)\n",
    "    return U_save,t_save,x_save,x_exact_save,U_array,t_array,x_array,x_exact_array "
   ]
  },
  {
   "cell_type": "markdown",
   "metadata": {},
   "source": [
    "The following step sizes were provided to measure against: 0.75, .5, 0.25, 0.01, 0.001\n"
   ]
  },
  {
   "cell_type": "markdown",
   "metadata": {},
   "source": [
    "## Step size 0.001"
   ]
  },
  {
   "cell_type": "code",
   "execution_count": 2,
   "metadata": {},
   "outputs": [],
   "source": [
    "U_save1 = []\n",
    "t_save1 = []\n",
    "x_save1 = []\n",
    "x_exact_save1 = []\n",
    "\n",
    "\n",
    "##saves every time\n",
    "U_array1 = []\n",
    "t_array1 = []\n",
    "x_array1 = []\n",
    "x_exact_array1 = []\n",
    "\n",
    "#step size \n",
    "U_save1,t_save1,x_save1,x_exact_save1,U_array1,t_array1,x_array1,x_exact_array1=simulation(0,0,0.001)\n",
    "\n",
    "#0.35 for bell curve"
   ]
  },
  {
   "cell_type": "markdown",
   "metadata": {},
   "source": [
    "## Step size 0.01"
   ]
  },
  {
   "cell_type": "code",
   "execution_count": 3,
   "metadata": {},
   "outputs": [],
   "source": [
    "U_save2 = []\n",
    "t_save2 = []\n",
    "x_save2 = []\n",
    "x_exact_save2 = []\n",
    "\n",
    "\n",
    "##saves every time\n",
    "U_array2 = []\n",
    "t_array2 = []\n",
    "x_array2 = []\n",
    "x_exact_array2 = []\n",
    "\n",
    "#step size \n",
    "U_save2,t_save2,x_save2,x_exact_save2,U_array2,t_array2,x_array2,x_exact_array2=simulation(0,0,0.01)\n",
    "\n",
    "#0.35 for bell curve"
   ]
  },
  {
   "cell_type": "markdown",
   "metadata": {},
   "source": [
    "## Step size 0.25"
   ]
  },
  {
   "cell_type": "code",
   "execution_count": 4,
   "metadata": {},
   "outputs": [],
   "source": [
    "U_save3 = []\n",
    "t_save3 = []\n",
    "x_save3 = []\n",
    "x_exact_save3 = []\n",
    "\n",
    "\n",
    "##saves every time\n",
    "U_array3 = []\n",
    "t_array3 = []\n",
    "x_array3 = []\n",
    "x_exact_array3 = []\n",
    "\n",
    "#step size \n",
    "U_save3,t_save3,x_save3,x_exact_save3,U_array3,t_array3,x_array3,x_exact_array3=simulation(0,0,0.25)"
   ]
  },
  {
   "cell_type": "markdown",
   "metadata": {},
   "source": [
    "## Step size 0.5"
   ]
  },
  {
   "cell_type": "code",
   "execution_count": 5,
   "metadata": {},
   "outputs": [],
   "source": [
    "U_save4 = []\n",
    "t_save4 = []\n",
    "x_save4 = []\n",
    "x_exact_save4 = []\n",
    "\n",
    "\n",
    "##saves every time\n",
    "U_array4 = []\n",
    "t_array4 = []\n",
    "x_array4 = []\n",
    "x_exact_array4 = []\n",
    "\n",
    "#step size \n",
    "U_save4,t_save4,x_save4,x_exact_save4,U_array4,t_array4,x_array4,x_exact_array4=simulation(0,0,0.5)"
   ]
  },
  {
   "cell_type": "markdown",
   "metadata": {},
   "source": [
    "## Step size 0.75"
   ]
  },
  {
   "cell_type": "code",
   "execution_count": 6,
   "metadata": {},
   "outputs": [],
   "source": [
    "U_save5 = []\n",
    "t_save5 = []\n",
    "x_save5 = []\n",
    "x_exact_save5 = []\n",
    "\n",
    "\n",
    "##saves every time\n",
    "U_array5 = []\n",
    "t_array5 = []\n",
    "x_array5 = []\n",
    "x_exact_array5 = []\n",
    "\n",
    "#step size \n",
    "U_save5,t_save5,x_save5,x_exact_save5,U_array5,t_array5,x_array5,x_exact_array5=simulation(0,0,0.75)"
   ]
  },
  {
   "cell_type": "markdown",
   "metadata": {},
   "source": [
    "## Saving values into a dataframe and plotting it "
   ]
  },
  {
   "cell_type": "code",
   "execution_count": 7,
   "metadata": {},
   "outputs": [],
   "source": [
    "data1 = {'X':x_array1,'T':t_array1}\n",
    "df1 = pd.DataFrame(data1)\n",
    "data2 = {'X':x_array2,'T':t_array2}\n",
    "df2= pd.DataFrame(data2)\n",
    "data3 = {'X':x_array3,'T':t_array3}\n",
    "df3= pd.DataFrame(data3)\n",
    "data4= {'X':x_array4,'T':t_array4}\n",
    "df4= pd.DataFrame(data4)\n",
    "data5= {'X':x_array5,'T':t_array5}\n",
    "df5= pd.DataFrame(data5)"
   ]
  },
  {
   "cell_type": "code",
   "execution_count": 8,
   "metadata": {},
   "outputs": [
    {
     "data": {
      "image/png": "[encoded data removed]",
      "text/plain": [
       "<Figure size 432x288 with 1 Axes>"
      ]
     },
     "metadata": {
      "needs_background": "light"
     },
     "output_type": "display_data"
    }
   ],
   "source": [
    "plt3 = sns.lineplot(x=\"T\", y=\"X\", data=df1) #blue\n",
    "plt4 = sns.lineplot(x=\"T\", y=\"X\", data=df2) #Orange\n",
    "plt5 = sns.lineplot(x=\"T\", y=\"X\", data=df3) #Green\n",
    "plt6 = sns.lineplot(x=\"T\", y=\"X\", data=df4) #Red\n",
    "plt7 = sns.lineplot(x=\"T\", y=\"X\", data=df5) #Purple"
   ]
  },
  {
   "cell_type": "markdown",
   "metadata": {},
   "source": [
    "## Error evaluation against step size"
   ]
  },
  {
   "cell_type": "code",
   "execution_count": null,
   "metadata": {},
   "outputs": [],
   "source": []
  },
  {
   "cell_type": "code",
   "execution_count": null,
   "metadata": {},
   "outputs": [],
   "source": []
  },
  {
   "cell_type": "code",
   "execution_count": null,
   "metadata": {},
   "outputs": [],
   "source": []
  },
  {
   "cell_type": "code",
   "execution_count": null,
   "metadata": {},
   "outputs": [],
   "source": []
  },
  {
   "cell_type": "markdown",
   "metadata": {},
   "source": [
    "# Part 2: Random Noise using Box Muller Method"
   ]
  },
  {
   "cell_type": "markdown",
   "metadata": {},
   "source": [
    "## Initialise/Compute standard deviation and mean"
   ]
  },
  {
   "cell_type": "code",
   "execution_count": 9,
   "metadata": {},
   "outputs": [
    {
     "name": "stdout",
     "output_type": "stream",
     "text": [
      "deviation:  0.0431 mean:  0.5 DEVIATION:  0.7789244866974134 MEAN:  1.900142980914039\n"
     ]
    }
   ],
   "source": [
    "import statistics as stat\n",
    "std_dev1 = stat.stdev(x_array1)   #calculate standard deviation of input array\n",
    "_mean1 = stat.mean(x_array1)      #calculate mean of input array\n",
    "\n",
    "std_dev = 0.0431                  #set custom standard deviation\n",
    "_mean = 0.5                       #set custom mean\n",
    "print(\"deviation: \",std_dev,\"mean: \",_mean,\"DEVIATION: \",std_dev1,\"MEAN: \",_mean1)"
   ]
  },
  {
   "cell_type": "markdown",
   "metadata": {},
   "source": [
    "## compute box muller algorithm"
   ]
  },
  {
   "cell_type": "code",
   "execution_count": 10,
   "metadata": {},
   "outputs": [],
   "source": [
    "def box_muller(array,standard_deviation,mean):\n",
    "    random_vls = []\n",
    "    i = 0\n",
    "    it = 0\n",
    "    box_1 = []\n",
    "    box_2 = []\n",
    "    while i < len(array):\n",
    "        if(it == 0):\n",
    "            z1 =  rand.uniform(0,2*np.pi)\n",
    "            b  =  standard_deviation*np.sqrt(-2*math.log(rand.uniform(0,1)))\n",
    "            z2 =  b*(math.sin(z1))+mean\n",
    "            z3 =  b*(math.cos(z1))+mean\n",
    "            box_1.append(z2)\n",
    "            noise = array[i] + z2\n",
    "            random_vls.append(noise)\n",
    "            it = 1\n",
    "            i = i + 1\n",
    "        else:\n",
    "            it = 0\n",
    "            box_2.append(z3)\n",
    "            noise = array[i] + z3\n",
    "            random_vls.append(noise)\n",
    "            i= i + 1\n",
    "    return random_vls,box_1,box_2"
   ]
  },
  {
   "cell_type": "code",
   "execution_count": 11,
   "metadata": {},
   "outputs": [],
   "source": [
    "random_vals = []\n",
    "random_vals,b1,b2 = box_muller(x_save2,std_dev,_mean)"
   ]
  },
  {
   "cell_type": "markdown",
   "metadata": {},
   "source": [
    "## Noise plot"
   ]
  },
  {
   "cell_type": "code",
   "execution_count": 12,
   "metadata": {},
   "outputs": [
    {
     "data": {
      "image/png": "[encoded data removed]",
      "text/plain": [
       "<Figure size 432x288 with 1 Axes>"
      ]
     },
     "metadata": {
      "needs_background": "light"
     },
     "output_type": "display_data"
    }
   ],
   "source": [
    "y = random_vals\n",
    "x = t_save2\n",
    "plt.plot(x,y,\"b\") #actual\n",
    "plt.show()"
   ]
  },
  {
   "cell_type": "markdown",
   "metadata": {},
   "source": [
    "## Proof that numbers generated fall within a gaussian distribution"
   ]
  },
  {
   "cell_type": "code",
   "execution_count": 13,
   "metadata": {},
   "outputs": [
    {
     "data": {
      "text/plain": [
       "<matplotlib.axes._subplots.AxesSubplot at 0x2aa79bb8908>"
      ]
     },
     "execution_count": 13,
     "metadata": {},
     "output_type": "execute_result"
    },
    {
     "data": {
      "image/png": "[encoded data removed]",
      "text/plain": [
       "<Figure size 432x288 with 1 Axes>"
      ]
     },
     "metadata": {
      "needs_background": "light"
     },
     "output_type": "display_data"
    }
   ],
   "source": [
    "sns.distplot(b1)"
   ]
  },
  {
   "cell_type": "code",
   "execution_count": 14,
   "metadata": {},
   "outputs": [
    {
     "data": {
      "text/plain": [
       "<matplotlib.axes._subplots.AxesSubplot at 0x2aa79b39808>"
      ]
     },
     "execution_count": 14,
     "metadata": {},
     "output_type": "execute_result"
    },
    {
     "data": {
      "image/png": "[encoded data removed]",
      "text/plain": [
       "<Figure size 432x288 with 1 Axes>"
      ]
     },
     "metadata": {
      "needs_background": "light"
     },
     "output_type": "display_data"
    }
   ],
   "source": [
    "sns.distplot(b2)"
   ]
  },
  {
   "cell_type": "code",
   "execution_count": 15,
   "metadata": {},
   "outputs": [
    {
     "data": {
      "text/plain": [
       "<matplotlib.axes._subplots.AxesSubplot at 0x2aa79f10c48>"
      ]
     },
     "execution_count": 15,
     "metadata": {},
     "output_type": "execute_result"
    },
    {
     "data": {
      "image/png": "[encoded data removed]",
      "text/plain": [
       "<Figure size 432x288 with 1 Axes>"
      ]
     },
     "metadata": {
      "needs_background": "light"
     },
     "output_type": "display_data"
    }
   ],
   "source": [
    "sns.distplot(random_vals)"
   ]
  },
  {
   "cell_type": "markdown",
   "metadata": {},
   "source": [
    "# Part 3: Adding an intelligent agent to track the noise"
   ]
  },
  {
   "cell_type": "markdown",
   "metadata": {},
   "source": [
    "## Sigmoid Activation"
   ]
  },
  {
   "cell_type": "code",
   "execution_count": 60,
   "metadata": {},
   "outputs": [],
   "source": [
    "def sigmoid_activation(val):\n",
    "  sigmoid = 1/1+np.exp(-val)#sigmoid activation function\n",
    "  return sigmoid\n",
    "\n",
    "def train_weights3(array, lr, loops):\n",
    "    weights3 = [1,rand.uniform(0,1),rand.uniform(0,1),rand.uniform(0,1)]#weights initialisation\n",
    "    weights3_1 = []         #save weights\n",
    "    itr_array = []          #saves number of epochs done\n",
    "    sum_error_array = []    #saves sum_error generated per epoch\n",
    "    Accuracy_array = []\n",
    "    Accuracy_out = []\n",
    "    for loop in range(loops):               #for each epoch in epochs\n",
    "        net_array = []                      #saves network predictions\n",
    "        error_array = []                    #saves error\n",
    "        sum_error = 0.0                     #a variable that keeps track of error generated\n",
    "        c = 0                               #counter for initialising\n",
    "        w_adaptor = 0                       #used to iterate through saved weights in order to update them\n",
    "        if loop < 1:                        #if its less than one epoch, create new weights and append them to an array\n",
    "            for a in array:                 #for each input in input array\n",
    "                weights3_1.append([weights3[0],weights3[1],weights3[2],weights3[3]])  #append new weights to empty weight array\n",
    "                prediction, netwrk_sum = predict3(a,weights3)                         #predict function for sigmoid network\n",
    "                if c == 0:\n",
    "                    Target = a[2]\n",
    "                    #print(1)\n",
    "                elif c==1:\n",
    "                    Target = a[1]\n",
    "                else:\n",
    "                    Target = a[0]\n",
    "                delta = Target - prediction  #calculate error of the prediction\n",
    "                error = delta\n",
    "                Accuracy = accuracy(Target, prediction)\n",
    "                Accuracy_array.append(Accuracy)\n",
    "                error_array.append(error)    #save error\n",
    "                net_array.append(prediction) #save network\n",
    "                #------------------------WEIGHTS UPDATED BY CORRESPONDING CURRENT ERROR AND INPUT----------------------------------\n",
    "                weights3_change_bias = -a[0] *lr*(error)         #calculate weight change for bias\n",
    "                weights3[0] = weights3[0] + weights3_change_bias #add weight change calculated to current bias\n",
    "                weights3_change= -a[0]*(error)*lr                #calculate weight change for input weights\n",
    "                for i in range(len(a)):                          #iterate over every input weight\n",
    "                    weights3[i + 1] = weights3[i +1] + weights3_change     #update each input weight\n",
    "                sum_error += error**2                            #calculate sum error\n",
    "                c = c + 1                                        #increase counter\n",
    "            Average_accuracy = np.average(Accuracy_array)\n",
    "            Accuracy_out.append(Average_accuracy)\n",
    "            #Average_accuracy = int(sum(Accuracy_array))/len(Accuracy_array)\n",
    "            print('>epoch=%d, lrate=%.3f, error=%.3f,sum_error=%.3f,accuracy=%.3f' % (loop, lr, error, sum_error,Average_accuracy))\n",
    "            sum_error_array.append(sum_error)                    #append sum_error\n",
    "            itr_array.append(loop)                                #append iteration\n",
    "        else:\n",
    "            for a in array:\n",
    "                prediction, netwrk_sum = predict3(a,weights3_1[w_adaptor]) #calculate prediction based on created weights\n",
    "                if c == 0:\n",
    "                    Target = a[2]\n",
    "                    #print(1)\n",
    "                elif c==1:\n",
    "                    Target = a[1]\n",
    "                else:\n",
    "                    Target = a[0]\n",
    "                delta = Target - prediction        #calculate error change\n",
    "                error = delta \n",
    "                Accuracy = accuracy(Target, prediction)\n",
    "                #print(\"Accuracy\",Accuracy)\n",
    "                Accuracy_array[c] = Accuracy\n",
    "                error_array.append(error)          #append error\n",
    "                net_array.append(prediction)       #append network prediction \n",
    "                #------------------------WEIGHTS UPDATED BY CORRESPONDING CURRENT ERROR AND INPUT----------------------------------\n",
    "                weights3_change_bias = -a[0] *lr*(error) #calculate weight change for bias\n",
    "                weights3_1[w_adaptor][0] = weights3_1[w_adaptor][0] + weights3_change_bias #add weight change to current bias\n",
    "                weights3_change= -a[0]*(error)*lr  #calculate weight change\n",
    "                for i in range(len(a)):            #iterate through each input\n",
    "                     weights3_1[w_adaptor][i + 1] =  weights3_1[w_adaptor][i +1] + weights3_change #for each input weight add weight change\n",
    "                sum_error += error**2          #calculate error squared\n",
    "                c = c + 1                      #increment counter\n",
    "                w_adaptor = w_adaptor + 1      #increment weight adaptor\n",
    "            Average_accuracy = np.average(Accuracy_array)\n",
    "            Accuracy_out.append(Average_accuracy)\n",
    "            #Average_accuracy = int(sum(Accuracy_array))/len(Accuracy_array)\n",
    "            print('>epoch=%d, lrate=%.3f, error=%.3f,sum_error=%.3f,accuracy=%.3f' % (loop, lr, error, sum_error,Average_accuracy))\n",
    "            sum_error_array.append(sum_error)  #append error\n",
    "            itr_array.append(loop)             #append iteration\n",
    "    return net_array,error_array,weights3_1,sum_error_array,itr_array,Accuracy_out\n",
    "            \n",
    "def predict3(noise2,weights2):\n",
    "    net_sum = 0\n",
    "    net_sum = weights2[0] #obtain bias from weight array\n",
    "    for i in range(len(noise2)-1):\n",
    "        net_sum += weights2[i + 1] * noise2[i] #multiply input by respective weight to obtain a summation\n",
    "    activation2 = sigmoid_activation(net_sum)  #implement sigmoid function to summation obtained\n",
    "    return activation2, net_sum                #return activation and network sum\n",
    "\n",
    "def triple_converter(array):                   #converts input into a tuple so that we can pass 3 input weights per prediction\n",
    "    triple_array = []\n",
    "    c = 0                                      #counter\n",
    "    while c < len(array):\n",
    "        if c == 0:\n",
    "            triple_array.append([0,0,array[c]])\n",
    "        elif c == 1:\n",
    "            triple_array.append([0,array[c],array[c-1]])\n",
    "        else:\n",
    "            triple_array.append([array[c],array[c-1],array[c-2]])\n",
    "        c = c + 1                              #increment counter\n",
    "    return triple_array\n",
    "\n",
    "\n",
    "##----------------------------------------ACCURACY CALCULATOR--------------------------------------##\n",
    "def accuracy(Target, Predicted):\n",
    "    Expected = abs(Target - Predicted)\n",
    "    Example = Target - Expected\n",
    "    result = Example/Target * 100\n",
    "    return result\n"
   ]
  },
  {
   "cell_type": "markdown",
   "metadata": {},
   "source": [
    "## Step function activation"
   ]
  },
  {
   "cell_type": "code",
   "execution_count": 17,
   "metadata": {},
   "outputs": [],
   "source": [
    "##--------------------------------SINGLE PERCEPTRON-----------------------------------------------##\n",
    "def predict_step(noise1,weights1):\n",
    "    net_sum = 0                                #net_sum initialise\n",
    "    out = 0                                    #initialise output of step function\n",
    "    net_sum = weights1[0]                      #grab bias from weights and set as current net_sum \n",
    "    for i in range(len(noise1)-1):             #for every input\n",
    "        net_sum += weights1[i + 1] * noise1[i] #multiply each input to weight and add result to netsum\n",
    "    if net_sum > 1: #if netsum is greater than 1                        \n",
    "        out = 1     #set output of step to 1\n",
    "    else:           #else\n",
    "        out = 0     #set output to 0\n",
    "    return out      #return output\n",
    "\n",
    "def train_weights_step(array, lr, loops):\n",
    "    weights3 = [1,rand.uniform(0,1),rand.uniform(0,1),rand.uniform(0,1)] #initialise weights\n",
    "    weights3_1 = []             #append/save created weights\n",
    "    for loop in range(loops):   #for each epoch in epochs\n",
    "        net_array = []          #append network values\n",
    "        error_array = []        #append error array\n",
    "        sum_error = 0.0         #keep track of sum_error\n",
    "        c = 0                   #counter variable\n",
    "        w_adaptor = 0           #weight counter(used to iterate through each value in weights array)\n",
    "        if loop < 1:            #if its less than one epoch, create new weights and append them to an array\n",
    "            for a in array:     #for each input in array input\n",
    "                weights3_1.append([weights3[0],weights3[1],weights3[2],weights3[3]]) #append weights created\n",
    "                prediction = predict_step(a,weights3)                                #grab weights created and predict\n",
    "                if c == 0:\n",
    "                    Target = a[2]\n",
    "                    #print(1)\n",
    "                elif c==1:\n",
    "                    Target = a[1]\n",
    "                else:\n",
    "                    Target = a[0]\n",
    "                delta = Target - prediction      #calculate error\n",
    "                error = delta\n",
    "                error_array.append(error)        #append error\n",
    "                net_array.append(prediction)\n",
    "                #------------------------WEIGHTS UPDATED BY CORRESPONDING CURRENT ERROR AND INPUT----------------------------------\n",
    "                weights3_change_bias = -a[0]*lr*error           #calculate weight change for bias\n",
    "                weights3[0] = weights3[0] + weights3_change_bias#add calculated weight change to bias\n",
    "                weights3_change= -a[0]*lr*error                 #calculate weight change for inputs\n",
    "                for i in range(len(a)):                         #for each input in input array\n",
    "                    weights3[i + 1] = weights3[i +1] + weights3_change #obtain respective weight and add it with the weight change\n",
    "                sum_error += error**2            #calculate sum_error\n",
    "                c = c + 1                        #increment counter\n",
    "            print('>epoch=%d, lrate=%.3f, error=%.3f, , sum_error=%.3f' % (loop, lr, error, sum_error))\n",
    "        else:                               #if epoch is > 1\n",
    "            for a in array:                 #for each input in input array\n",
    "                prediction = predict_step(a,weights3_1[w_adaptor]) #calculate predictions using weights from previous epoch\n",
    "                if c == 0:\n",
    "                    Target = a[2]\n",
    "                elif c==1:\n",
    "                    Target = a[1]\n",
    "                else:\n",
    "                    Target = a[0]\n",
    "                delta = prediction - Target #calculate error\n",
    "                error = delta\n",
    "                error_array.append(error)   #append error\n",
    "                net_array.append(prediction)#append predictions\n",
    "                #------------------------WEIGHTS UPDATED BY CORRESPONDING CURRENT ERROR AND INPUT----------------------------------\n",
    "            \n",
    "                weights3_change_bias = -a[0] *lr*(error) #calulate weight change for bias\n",
    "                weights3_1[w_adaptor][0] = weights3_1[w_adaptor][0] + weights3_change_bias #update bias weight in the saved weights array\n",
    "                weights3_change= -a[0]*(error)*lr       #calculate weight change for weights in input\n",
    "                for i in range(len(a)):                 #for each input in input array\n",
    "                     weights3_1[w_adaptor][i + 1] =  weights3_1[w_adaptor][i +1] + weights3_change #update respective weights in weights array\n",
    "                sum_error += error**2                   #calculate sum_error\n",
    "                c = c + 1                               #increment counter\n",
    "                w_adaptor = w_adaptor + 1               #increment weight counter\n",
    "            print('>epoch=%d, lrate=%.3f, error=%.3f, , sum_error=%.3f' % (loop, lr, error, sum_error))\n",
    "    return net_array,error_array,weights3_1"
   ]
  },
  {
   "cell_type": "markdown",
   "metadata": {},
   "source": [
    "# Implement weights function(sigmoid)"
   ]
  },
  {
   "cell_type": "code",
   "execution_count": 52,
   "metadata": {},
   "outputs": [],
   "source": [
    "def implement_weights3(array,weights):\n",
    "    net_array = []\n",
    "    error_array = []\n",
    "    sum_error = 0.0\n",
    "    w_adaptor = 0\n",
    "    for a in array: #loop through each input in array\n",
    "        prediction, netwrk_sum = predict3(a,weights[w_adaptor]) #grab saved weight and predict\n",
    "        net_array.append(prediction)   #append prediction\n",
    "        Target = a[0]                  #current input\n",
    "        error = Target - prediction    #error calculation\n",
    "        error_array.append(error)      #append error\n",
    "        sum_error += error**2          #calculate sum_error\n",
    "        w_adaptor = w_adaptor + 1      #increment weight counter\n",
    "    print('>error=%.3f,sum_error=%.3f' % (error, sum_error))\n",
    "    return net_array,sum_error\n",
    "            \n",
    "def predict3(noise2,weights2):\n",
    "    net_sum = 0\n",
    "    net_sum = weights2[0]\n",
    "    for i in range(len(noise2)-1):\n",
    "        net_sum += weights2[i + 1] * noise2[i]\n",
    "    activation2 = sigmoid_activation(net_sum)\n",
    "    return activation2, net_sum\n",
    "#x_save2"
   ]
  },
  {
   "cell_type": "markdown",
   "metadata": {},
   "source": [
    "## Train network using sigmoid"
   ]
  },
  {
   "cell_type": "code",
   "execution_count": 61,
   "metadata": {},
   "outputs": [
    {
     "name": "stdout",
     "output_type": "stream",
     "text": [
      ">epoch=0, lrate=0.010, error=0.179,sum_error=36.330,accuracy=84.291\n",
      ">epoch=1, lrate=0.010, error=0.179,sum_error=36.330,accuracy=84.291\n",
      ">epoch=2, lrate=0.010, error=0.051,sum_error=31.465,accuracy=85.915\n",
      ">epoch=3, lrate=0.010, error=0.014,sum_error=27.952,accuracy=87.035\n",
      ">epoch=4, lrate=0.010, error=0.003,sum_error=25.010,accuracy=87.939\n",
      ">epoch=5, lrate=0.010, error=0.001,sum_error=22.445,accuracy=88.726\n",
      ">epoch=6, lrate=0.010, error=0.000,sum_error=20.161,accuracy=89.436\n",
      ">epoch=7, lrate=0.010, error=0.000,sum_error=18.102,accuracy=90.088\n",
      ">epoch=8, lrate=0.010, error=0.000,sum_error=16.232,accuracy=90.691\n",
      ">epoch=9, lrate=0.010, error=0.000,sum_error=14.532,accuracy=91.253\n",
      ">epoch=10, lrate=0.010, error=0.000,sum_error=12.988,accuracy=91.777\n",
      ">epoch=11, lrate=0.010, error=0.000,sum_error=11.592,accuracy=92.267\n",
      ">epoch=12, lrate=0.010, error=0.000,sum_error=10.338,accuracy=92.724\n",
      ">epoch=13, lrate=0.010, error=0.000,sum_error=9.218,accuracy=93.152\n",
      ">epoch=14, lrate=0.010, error=0.000,sum_error=8.223,accuracy=93.550\n",
      ">epoch=15, lrate=0.010, error=0.000,sum_error=7.344,accuracy=93.920\n",
      ">epoch=16, lrate=0.010, error=0.000,sum_error=6.570,accuracy=94.264\n",
      ">epoch=17, lrate=0.010, error=0.000,sum_error=5.889,accuracy=94.582\n",
      ">epoch=18, lrate=0.010, error=0.000,sum_error=5.290,accuracy=94.878\n",
      ">epoch=19, lrate=0.010, error=0.000,sum_error=4.764,accuracy=95.151\n",
      ">epoch=20, lrate=0.010, error=0.000,sum_error=4.300,accuracy=95.404\n",
      ">epoch=21, lrate=0.010, error=0.000,sum_error=3.890,accuracy=95.638\n",
      ">epoch=22, lrate=0.010, error=0.000,sum_error=3.527,accuracy=95.855\n",
      ">epoch=23, lrate=0.010, error=0.000,sum_error=3.206,accuracy=96.056\n",
      ">epoch=24, lrate=0.010, error=0.000,sum_error=2.920,accuracy=96.242\n",
      ">epoch=25, lrate=0.010, error=0.000,sum_error=2.665,accuracy=96.416\n",
      ">epoch=26, lrate=0.010, error=0.000,sum_error=2.437,accuracy=96.577\n",
      ">epoch=27, lrate=0.010, error=0.000,sum_error=2.234,accuracy=96.728\n",
      ">epoch=28, lrate=0.010, error=0.000,sum_error=2.051,accuracy=96.868\n",
      ">epoch=29, lrate=0.010, error=0.000,sum_error=1.888,accuracy=97.000\n",
      ">epoch=30, lrate=0.010, error=0.000,sum_error=1.741,accuracy=97.123\n",
      ">epoch=31, lrate=0.010, error=0.000,sum_error=1.609,accuracy=97.238\n",
      ">epoch=32, lrate=0.010, error=0.000,sum_error=1.490,accuracy=97.346\n",
      ">epoch=33, lrate=0.010, error=0.000,sum_error=1.383,accuracy=97.448\n",
      ">epoch=34, lrate=0.010, error=0.000,sum_error=1.286,accuracy=97.544\n",
      ">epoch=35, lrate=0.010, error=0.000,sum_error=1.199,accuracy=97.634\n",
      ">epoch=36, lrate=0.010, error=0.000,sum_error=1.120,accuracy=97.719\n",
      ">epoch=37, lrate=0.010, error=0.000,sum_error=1.049,accuracy=97.799\n",
      ">epoch=38, lrate=0.010, error=0.000,sum_error=0.984,accuracy=97.875\n",
      ">epoch=39, lrate=0.010, error=0.000,sum_error=0.926,accuracy=97.947\n",
      ">epoch=40, lrate=0.010, error=0.000,sum_error=0.872,accuracy=98.014\n",
      ">epoch=41, lrate=0.010, error=0.000,sum_error=0.824,accuracy=98.079\n",
      ">epoch=42, lrate=0.010, error=0.000,sum_error=0.780,accuracy=98.139\n",
      ">epoch=43, lrate=0.010, error=0.000,sum_error=0.740,accuracy=98.197\n",
      ">epoch=44, lrate=0.010, error=0.000,sum_error=0.704,accuracy=98.252\n",
      ">epoch=45, lrate=0.010, error=0.000,sum_error=0.671,accuracy=98.304\n",
      ">epoch=46, lrate=0.010, error=0.000,sum_error=0.640,accuracy=98.353\n",
      ">epoch=47, lrate=0.010, error=0.000,sum_error=0.612,accuracy=98.400\n",
      ">epoch=48, lrate=0.010, error=0.000,sum_error=0.587,accuracy=98.445\n",
      ">epoch=49, lrate=0.010, error=0.000,sum_error=0.563,accuracy=98.487\n",
      ">epoch=50, lrate=0.010, error=0.000,sum_error=0.542,accuracy=98.528\n",
      ">epoch=51, lrate=0.010, error=0.000,sum_error=0.522,accuracy=98.566\n",
      ">epoch=52, lrate=0.010, error=0.000,sum_error=0.504,accuracy=98.603\n",
      ">epoch=53, lrate=0.010, error=0.000,sum_error=0.487,accuracy=98.638\n",
      ">epoch=54, lrate=0.010, error=0.000,sum_error=0.472,accuracy=98.672\n",
      ">epoch=55, lrate=0.010, error=0.000,sum_error=0.457,accuracy=98.704\n",
      ">epoch=56, lrate=0.010, error=0.000,sum_error=0.444,accuracy=98.735\n",
      ">epoch=57, lrate=0.010, error=0.000,sum_error=0.432,accuracy=98.764\n",
      ">epoch=58, lrate=0.010, error=0.000,sum_error=0.420,accuracy=98.792\n",
      ">epoch=59, lrate=0.010, error=0.000,sum_error=0.409,accuracy=98.819\n",
      ">epoch=60, lrate=0.010, error=0.000,sum_error=0.399,accuracy=98.845\n",
      ">epoch=61, lrate=0.010, error=0.000,sum_error=0.390,accuracy=98.869\n",
      ">epoch=62, lrate=0.010, error=0.000,sum_error=0.381,accuracy=98.893\n",
      ">epoch=63, lrate=0.010, error=0.000,sum_error=0.373,accuracy=98.916\n",
      ">epoch=64, lrate=0.010, error=0.000,sum_error=0.366,accuracy=98.938\n",
      ">epoch=65, lrate=0.010, error=0.000,sum_error=0.358,accuracy=98.959\n",
      ">epoch=66, lrate=0.010, error=0.000,sum_error=0.352,accuracy=98.979\n",
      ">epoch=67, lrate=0.010, error=0.000,sum_error=0.345,accuracy=98.998\n",
      ">epoch=68, lrate=0.010, error=0.000,sum_error=0.340,accuracy=99.017\n",
      ">epoch=69, lrate=0.010, error=0.000,sum_error=0.334,accuracy=99.035\n",
      ">epoch=70, lrate=0.010, error=0.000,sum_error=0.329,accuracy=99.052\n",
      ">epoch=71, lrate=0.010, error=0.000,sum_error=0.324,accuracy=99.069\n",
      ">epoch=72, lrate=0.010, error=0.000,sum_error=0.319,accuracy=99.084\n",
      ">epoch=73, lrate=0.010, error=0.000,sum_error=0.315,accuracy=99.100\n",
      ">epoch=74, lrate=0.010, error=0.000,sum_error=0.311,accuracy=99.115\n",
      ">epoch=75, lrate=0.010, error=0.000,sum_error=0.307,accuracy=99.129\n",
      ">epoch=76, lrate=0.010, error=0.000,sum_error=0.303,accuracy=99.143\n",
      ">epoch=77, lrate=0.010, error=0.000,sum_error=0.299,accuracy=99.156\n",
      ">epoch=78, lrate=0.010, error=0.000,sum_error=0.296,accuracy=99.169\n",
      ">epoch=79, lrate=0.010, error=0.000,sum_error=0.293,accuracy=99.182\n",
      ">epoch=80, lrate=0.010, error=0.000,sum_error=0.290,accuracy=99.194\n",
      ">epoch=81, lrate=0.010, error=0.000,sum_error=0.287,accuracy=99.205\n",
      ">epoch=82, lrate=0.010, error=0.000,sum_error=0.284,accuracy=99.216\n",
      ">epoch=83, lrate=0.010, error=0.000,sum_error=0.282,accuracy=99.227\n",
      ">epoch=84, lrate=0.010, error=0.000,sum_error=0.279,accuracy=99.238\n",
      ">epoch=85, lrate=0.010, error=0.000,sum_error=0.277,accuracy=99.248\n",
      ">epoch=86, lrate=0.010, error=0.000,sum_error=0.275,accuracy=99.258\n",
      ">epoch=87, lrate=0.010, error=0.000,sum_error=0.273,accuracy=99.267\n",
      ">epoch=88, lrate=0.010, error=0.000,sum_error=0.271,accuracy=99.276\n",
      ">epoch=89, lrate=0.010, error=0.000,sum_error=0.269,accuracy=99.285\n",
      ">epoch=90, lrate=0.010, error=0.000,sum_error=0.267,accuracy=99.294\n",
      ">epoch=91, lrate=0.010, error=0.000,sum_error=0.265,accuracy=99.302\n",
      ">epoch=92, lrate=0.010, error=0.000,sum_error=0.264,accuracy=99.310\n",
      ">epoch=93, lrate=0.010, error=0.000,sum_error=0.262,accuracy=99.318\n",
      ">epoch=94, lrate=0.010, error=0.000,sum_error=0.261,accuracy=99.325\n",
      ">epoch=95, lrate=0.010, error=0.000,sum_error=0.259,accuracy=99.333\n",
      ">epoch=96, lrate=0.010, error=0.000,sum_error=0.258,accuracy=99.340\n",
      ">epoch=97, lrate=0.010, error=0.000,sum_error=0.257,accuracy=99.347\n",
      ">epoch=98, lrate=0.010, error=0.000,sum_error=0.255,accuracy=99.353\n",
      ">epoch=99, lrate=0.010, error=0.000,sum_error=0.254,accuracy=99.360\n"
     ]
    }
   ],
   "source": [
    "dat1 = triple_converter(random_vals)\n",
    "values,e,w,test,itrArray,accuracy_array = train_weights3(dat1, 0.01,100)\n",
    "#0.006531\n",
    "\n",
    "#save to dataframe\n",
    "data6= {'Noise_values':dat1,'Output of Perceptron':values,'Error':e,'T':t_save2}\n",
    "df6= pd.DataFrame(data6)"
   ]
  },
  {
   "cell_type": "markdown",
   "metadata": {},
   "source": [
    "## Implementation during training"
   ]
  },
  {
   "cell_type": "code",
   "execution_count": 62,
   "metadata": {},
   "outputs": [
    {
     "data": {
      "image/png": "[encoded data removed]",
      "text/plain": [
       "<Figure size 432x288 with 1 Axes>"
      ]
     },
     "metadata": {
      "needs_background": "light"
     },
     "output_type": "display_data"
    }
   ],
   "source": [
    "y_axis = values #network output\n",
    "y = random_vals\n",
    "x_axis = x = t_save2\n",
    "plt.plot(x,y,\"y\") #actual\n",
    "plt.plot(x_axis,y_axis,\"b\")#noise\n",
    "plt.show()"
   ]
  },
  {
   "cell_type": "markdown",
   "metadata": {},
   "source": [
    "## Weights implementation on unseen but similar data"
   ]
  },
  {
   "cell_type": "code",
   "execution_count": 63,
   "metadata": {},
   "outputs": [
    {
     "name": "stdout",
     "output_type": "stream",
     "text": [
      ">error=-0.162,sum_error=22.659\n"
     ]
    }
   ],
   "source": [
    "dat1 = triple_converter(x_save2)\n",
    "net_array,sum_error_array = implement_weights3(dat1,w) #use trained weights(w) on unseen data"
   ]
  },
  {
   "cell_type": "markdown",
   "metadata": {},
   "source": [
    "## Network ouput on unseen data(blue)"
   ]
  },
  {
   "cell_type": "code",
   "execution_count": 64,
   "metadata": {},
   "outputs": [
    {
     "data": {
      "image/png": "[encoded data removed]",
      "text/plain": [
       "<Figure size 432x288 with 1 Axes>"
      ]
     },
     "metadata": {
      "needs_background": "light"
     },
     "output_type": "display_data"
    }
   ],
   "source": [
    "y_axis = net_array #network output\n",
    "y = x_save2\n",
    "x_axis = x = t_save2\n",
    "plt.plot(x,y,\"y\") #actual\n",
    "plt.plot(x_axis,y_axis,\"b\")#noise\n",
    "plt.show()"
   ]
  },
  {
   "cell_type": "markdown",
   "metadata": {},
   "source": [
    "### Error plot per iteration"
   ]
  },
  {
   "cell_type": "code",
   "execution_count": 65,
   "metadata": {},
   "outputs": [
    {
     "data": {
      "image/png": "[encoded data removed]",
      "text/plain": [
       "<Figure size 432x288 with 1 Axes>"
      ]
     },
     "metadata": {
      "needs_background": "light"
     },
     "output_type": "display_data"
    }
   ],
   "source": [
    "error_dataframe = {'Error':test,'Epochs':itrArray}\n",
    "error_df = pd.DataFrame(error_dataframe)\n",
    "error_plt = sns.lineplot(x=\"Epochs\", y=\"Error\", data=error_df) #blue"
   ]
  },
  {
   "cell_type": "markdown",
   "metadata": {},
   "source": [
    "## Accuracy plot"
   ]
  },
  {
   "cell_type": "code",
   "execution_count": 66,
   "metadata": {},
   "outputs": [
    {
     "data": {
      "text/plain": [
       "100"
      ]
     },
     "execution_count": 66,
     "metadata": {},
     "output_type": "execute_result"
    }
   ],
   "source": [
    "len(test)"
   ]
  },
  {
   "cell_type": "code",
   "execution_count": 67,
   "metadata": {},
   "outputs": [
    {
     "data": {
      "image/png": "[encoded data removed]",
      "text/plain": [
       "<Figure size 432x288 with 1 Axes>"
      ]
     },
     "metadata": {
      "needs_background": "light"
     },
     "output_type": "display_data"
    }
   ],
   "source": [
    "error_dataframe = {'Accuracy':accuracy_array,'Epochs':itrArray}\n",
    "error_df = pd.DataFrame(error_dataframe)\n",
    "error_plt = sns.lineplot(x=\"Epochs\", y=\"Accuracy\", data=error_df) #blue"
   ]
  },
  {
   "cell_type": "markdown",
   "metadata": {},
   "source": [
    "## Dataframe containing noise values, trained values and error"
   ]
  },
  {
   "cell_type": "code",
   "execution_count": 24,
   "metadata": {},
   "outputs": [
    {
     "data": {
      "text/html": [
       "<div>\n",
       "<style scoped>\n",
       "    .dataframe tbody tr th:only-of-type {\n",
       "        vertical-align: middle;\n",
       "    }\n",
       "\n",
       "    .dataframe tbody tr th {\n",
       "        vertical-align: top;\n",
       "    }\n",
       "\n",
       "    .dataframe thead th {\n",
       "        text-align: right;\n",
       "    }\n",
       "</style>\n",
       "<table border=\"1\" class=\"dataframe\">\n",
       "  <thead>\n",
       "    <tr style=\"text-align: right;\">\n",
       "      <th></th>\n",
       "      <th>Noise_values</th>\n",
       "      <th>Output of Perceptron</th>\n",
       "      <th>Error</th>\n",
       "      <th>T</th>\n",
       "    </tr>\n",
       "  </thead>\n",
       "  <tbody>\n",
       "    <tr>\n",
       "      <td>0</td>\n",
       "      <td>[0, 0, 0.9195477011418824]</td>\n",
       "      <td>1.367879</td>\n",
       "      <td>-0.448332</td>\n",
       "      <td>0.1</td>\n",
       "    </tr>\n",
       "    <tr>\n",
       "      <td>1</td>\n",
       "      <td>[0, 1.1808137032504598, 0.9195477011418824]</td>\n",
       "      <td>1.199710</td>\n",
       "      <td>-0.018897</td>\n",
       "      <td>0.2</td>\n",
       "    </tr>\n",
       "    <tr>\n",
       "      <td>2</td>\n",
       "      <td>[1.4778335298271688, 1.1808137032504598, 0.919...</td>\n",
       "      <td>1.300620</td>\n",
       "      <td>0.177214</td>\n",
       "      <td>0.3</td>\n",
       "    </tr>\n",
       "    <tr>\n",
       "      <td>3</td>\n",
       "      <td>[1.6138179534532968, 1.4778335298271688, 1.180...</td>\n",
       "      <td>1.496579</td>\n",
       "      <td>0.117239</td>\n",
       "      <td>0.4</td>\n",
       "    </tr>\n",
       "    <tr>\n",
       "      <td>4</td>\n",
       "      <td>[1.8078624231898686, 1.6138179534532968, 1.477...</td>\n",
       "      <td>1.781266</td>\n",
       "      <td>0.026596</td>\n",
       "      <td>0.5</td>\n",
       "    </tr>\n",
       "    <tr>\n",
       "      <td>...</td>\n",
       "      <td>...</td>\n",
       "      <td>...</td>\n",
       "      <td>...</td>\n",
       "      <td>...</td>\n",
       "    </tr>\n",
       "    <tr>\n",
       "      <td>145</td>\n",
       "      <td>[3.5312753281548925, 3.5279722716818425, 3.406...</td>\n",
       "      <td>3.531275</td>\n",
       "      <td>0.000000</td>\n",
       "      <td>14.6</td>\n",
       "    </tr>\n",
       "    <tr>\n",
       "      <td>146</td>\n",
       "      <td>[3.546917620920887, 3.5312753281548925, 3.5279...</td>\n",
       "      <td>3.546918</td>\n",
       "      <td>0.000000</td>\n",
       "      <td>14.7</td>\n",
       "    </tr>\n",
       "    <tr>\n",
       "      <td>147</td>\n",
       "      <td>[3.611903305894132, 3.546917620920887, 3.53127...</td>\n",
       "      <td>3.611903</td>\n",
       "      <td>0.000000</td>\n",
       "      <td>14.8</td>\n",
       "    </tr>\n",
       "    <tr>\n",
       "      <td>148</td>\n",
       "      <td>[3.5210844073003167, 3.611903305894132, 3.5469...</td>\n",
       "      <td>3.521084</td>\n",
       "      <td>0.000000</td>\n",
       "      <td>14.9</td>\n",
       "    </tr>\n",
       "    <tr>\n",
       "      <td>149</td>\n",
       "      <td>[3.575751382104232, 3.5210844073003167, 3.6119...</td>\n",
       "      <td>3.575751</td>\n",
       "      <td>0.000000</td>\n",
       "      <td>15.0</td>\n",
       "    </tr>\n",
       "  </tbody>\n",
       "</table>\n",
       "<p>150 rows × 4 columns</p>\n",
       "</div>"
      ],
      "text/plain": [
       "                                          Noise_values  Output of Perceptron  \\\n",
       "0                           [0, 0, 0.9195477011418824]              1.367879   \n",
       "1          [0, 1.1808137032504598, 0.9195477011418824]              1.199710   \n",
       "2    [1.4778335298271688, 1.1808137032504598, 0.919...              1.300620   \n",
       "3    [1.6138179534532968, 1.4778335298271688, 1.180...              1.496579   \n",
       "4    [1.8078624231898686, 1.6138179534532968, 1.477...              1.781266   \n",
       "..                                                 ...                   ...   \n",
       "145  [3.5312753281548925, 3.5279722716818425, 3.406...              3.531275   \n",
       "146  [3.546917620920887, 3.5312753281548925, 3.5279...              3.546918   \n",
       "147  [3.611903305894132, 3.546917620920887, 3.53127...              3.611903   \n",
       "148  [3.5210844073003167, 3.611903305894132, 3.5469...              3.521084   \n",
       "149  [3.575751382104232, 3.5210844073003167, 3.6119...              3.575751   \n",
       "\n",
       "        Error     T  \n",
       "0   -0.448332   0.1  \n",
       "1   -0.018897   0.2  \n",
       "2    0.177214   0.3  \n",
       "3    0.117239   0.4  \n",
       "4    0.026596   0.5  \n",
       "..        ...   ...  \n",
       "145  0.000000  14.6  \n",
       "146  0.000000  14.7  \n",
       "147  0.000000  14.8  \n",
       "148  0.000000  14.9  \n",
       "149  0.000000  15.0  \n",
       "\n",
       "[150 rows x 4 columns]"
      ]
     },
     "execution_count": 24,
     "metadata": {},
     "output_type": "execute_result"
    }
   ],
   "source": [
    "df6"
   ]
  },
  {
   "cell_type": "markdown",
   "metadata": {},
   "source": [
    "## Train network using step function"
   ]
  },
  {
   "cell_type": "code",
   "execution_count": 25,
   "metadata": {},
   "outputs": [
    {
     "name": "stdout",
     "output_type": "stream",
     "text": [
      ">epoch=0, lrate=0.010, error=3.000, , sum_error=588.571\n",
      ">epoch=1, lrate=0.010, error=-3.000, , sum_error=588.571\n",
      ">epoch=2, lrate=0.010, error=-3.000, , sum_error=585.609\n",
      ">epoch=3, lrate=0.010, error=-3.000, , sum_error=582.640\n",
      ">epoch=4, lrate=0.010, error=-3.000, , sum_error=579.666\n",
      ">epoch=5, lrate=0.010, error=-3.000, , sum_error=576.687\n",
      ">epoch=6, lrate=0.010, error=-3.000, , sum_error=573.704\n",
      ">epoch=7, lrate=0.010, error=-3.000, , sum_error=570.718\n",
      ">epoch=8, lrate=0.010, error=-3.000, , sum_error=567.730\n",
      ">epoch=9, lrate=0.010, error=-3.000, , sum_error=564.739\n",
      ">epoch=10, lrate=0.010, error=-3.000, , sum_error=561.747\n",
      ">epoch=11, lrate=0.010, error=-3.000, , sum_error=558.753\n",
      ">epoch=12, lrate=0.010, error=-3.000, , sum_error=555.758\n",
      ">epoch=13, lrate=0.010, error=-3.000, , sum_error=552.762\n",
      ">epoch=14, lrate=0.010, error=-3.000, , sum_error=549.765\n",
      ">epoch=15, lrate=0.010, error=-3.000, , sum_error=546.768\n",
      ">epoch=16, lrate=0.010, error=-3.000, , sum_error=543.770\n",
      ">epoch=17, lrate=0.010, error=-3.000, , sum_error=540.772\n",
      ">epoch=18, lrate=0.010, error=-3.000, , sum_error=537.774\n",
      ">epoch=19, lrate=0.010, error=-3.000, , sum_error=534.775\n",
      ">epoch=20, lrate=0.010, error=-3.000, , sum_error=531.776\n",
      ">epoch=21, lrate=0.010, error=-3.000, , sum_error=528.777\n",
      ">epoch=22, lrate=0.010, error=-3.000, , sum_error=525.778\n",
      ">epoch=23, lrate=0.010, error=-3.000, , sum_error=522.778\n",
      ">epoch=24, lrate=0.010, error=-3.000, , sum_error=519.779\n",
      ">epoch=25, lrate=0.010, error=-3.000, , sum_error=516.779\n",
      ">epoch=26, lrate=0.010, error=-3.000, , sum_error=513.779\n",
      ">epoch=27, lrate=0.010, error=-3.000, , sum_error=510.779\n",
      ">epoch=28, lrate=0.010, error=-3.000, , sum_error=507.780\n",
      ">epoch=29, lrate=0.010, error=-3.000, , sum_error=504.780\n",
      ">epoch=30, lrate=0.010, error=-3.000, , sum_error=500.222\n",
      ">epoch=31, lrate=0.010, error=-3.000, , sum_error=477.324\n",
      ">epoch=32, lrate=0.010, error=-3.000, , sum_error=463.493\n",
      ">epoch=33, lrate=0.010, error=-3.000, , sum_error=454.617\n",
      ">epoch=34, lrate=0.010, error=-3.000, , sum_error=449.724\n",
      ">epoch=35, lrate=0.010, error=-3.000, , sum_error=433.431\n",
      ">epoch=36, lrate=0.010, error=-3.000, , sum_error=428.490\n",
      ">epoch=37, lrate=0.010, error=-3.000, , sum_error=423.538\n",
      ">epoch=38, lrate=0.010, error=-3.000, , sum_error=415.063\n",
      ">epoch=39, lrate=0.010, error=-3.000, , sum_error=410.095\n",
      ">epoch=40, lrate=0.010, error=-3.000, , sum_error=405.121\n",
      ">epoch=41, lrate=0.010, error=-3.000, , sum_error=400.143\n",
      ">epoch=42, lrate=0.010, error=-3.000, , sum_error=395.160\n",
      ">epoch=43, lrate=0.010, error=-3.000, , sum_error=384.631\n",
      ">epoch=44, lrate=0.010, error=-3.000, , sum_error=379.643\n",
      ">epoch=45, lrate=0.010, error=-3.000, , sum_error=374.652\n",
      ">epoch=46, lrate=0.010, error=-3.000, , sum_error=369.660\n",
      ">epoch=47, lrate=0.010, error=-3.000, , sum_error=364.666\n",
      ">epoch=48, lrate=0.010, error=-3.000, , sum_error=359.672\n",
      ">epoch=49, lrate=0.010, error=-3.000, , sum_error=354.676\n"
     ]
    }
   ],
   "source": [
    "values1,x,y = train_weights_step(dat1, 0.01,50)"
   ]
  },
  {
   "cell_type": "code",
   "execution_count": 26,
   "metadata": {},
   "outputs": [
    {
     "data": {
      "image/png": "[encoded data removed]",
      "text/plain": [
       "<Figure size 432x288 with 1 Axes>"
      ]
     },
     "metadata": {
      "needs_background": "light"
     },
     "output_type": "display_data"
    }
   ],
   "source": [
    "\n",
    "y_axis = random_vals #network output\n",
    "y = values1\n",
    "x_axis = x = t_save2\n",
    "plt.plot(x,y,\"y\") #robot\n",
    "plt.plot(x_axis,y_axis,\"b\")#tracker\n",
    "plt.show()\n"
   ]
  },
  {
   "cell_type": "markdown",
   "metadata": {},
   "source": [
    "# Perceptron model with different learning rates"
   ]
  },
  {
   "cell_type": "markdown",
   "metadata": {},
   "source": [
    "#### Example 1(Learning rate =0.5)"
   ]
  },
  {
   "cell_type": "code",
   "execution_count": 27,
   "metadata": {},
   "outputs": [
    {
     "name": "stdout",
     "output_type": "stream",
     "text": [
      ">epoch=0, lrate=0.500, error=2.548,sum_error=69292.413,accuracy=-25.777\n",
      ">epoch=1, lrate=0.500, error=2.548,sum_error=69292.413,accuracy=-25.777\n",
      ">epoch=2, lrate=0.500, error=2.548,sum_error=68045.939,accuracy=-25.476\n",
      ">epoch=3, lrate=0.500, error=2.548,sum_error=43398.260,accuracy=-10.759\n",
      ">epoch=4, lrate=0.500, error=2.548,sum_error=389.751,accuracy=46.344\n",
      ">epoch=5, lrate=0.500, error=2.548,sum_error=438.643,accuracy=44.856\n",
      ">epoch=6, lrate=0.500, error=2.548,sum_error=417.612,accuracy=45.513\n",
      ">epoch=7, lrate=0.500, error=2.548,sum_error=394.107,accuracy=46.048\n",
      ">epoch=8, lrate=0.500, error=2.548,sum_error=401.340,accuracy=46.015\n",
      ">epoch=9, lrate=0.500, error=2.548,sum_error=1036.406,accuracy=39.007\n",
      ">epoch=10, lrate=0.500, error=-5.187,sum_error=514.855,accuracy=42.915\n",
      ">epoch=11, lrate=0.500, error=2.548,sum_error=389.855,accuracy=46.460\n",
      ">epoch=12, lrate=0.500, error=2.548,sum_error=24877736379324952.000,accuracy=-30318882.230\n",
      ">epoch=13, lrate=0.500, error=0.393,sum_error=29278868213254496.000,accuracy=-32288714.307\n",
      ">epoch=14, lrate=0.500, error=-572.169,sum_error=287532293220726865920.000,accuracy=-3239472429.412\n",
      ">epoch=15, lrate=0.500, error=2.548,sum_error=389.780,accuracy=46.300\n",
      ">epoch=16, lrate=0.500, error=2.548,sum_error=383.931,accuracy=46.730\n",
      ">epoch=17, lrate=0.500, error=2.548,sum_error=22532669138025556165525504.000,accuracy=-902840232267.121\n",
      ">epoch=18, lrate=0.500, error=2.548,sum_error=42491638212344791040.000,accuracy=-1245757648.824\n",
      ">epoch=19, lrate=0.500, error=2.548,sum_error=382.104,accuracy=46.986\n",
      ">epoch=20, lrate=0.500, error=2.548,sum_error=1049902155941145242238976.000,accuracy=-199225811201.259\n",
      ">epoch=21, lrate=0.500, error=2.548,sum_error=430.210,accuracy=44.733\n",
      ">epoch=22, lrate=0.500, error=2.548,sum_error=1077475140497.614,accuracy=-199353.190\n",
      ">epoch=23, lrate=0.500, error=2.548,sum_error=2283750459271868568783814656.000,accuracy=-9081276572408.977\n",
      ">epoch=24, lrate=0.500, error=2.548,sum_error=172236529162249437184.000,accuracy=-2506938078.518\n",
      ">epoch=25, lrate=0.500, error=2.548,sum_error=388.337,accuracy=46.744\n",
      ">epoch=26, lrate=0.500, error=2.548,sum_error=53671767697611.133,accuracy=-1403960.072\n",
      ">epoch=27, lrate=0.500, error=2.548,sum_error=1222441813172221116416.000,accuracy=-6673177190.589\n",
      ">epoch=28, lrate=0.500, error=2.548,sum_error=3051878362.842,accuracy=-10670.783\n",
      ">epoch=29, lrate=0.500, error=2.548,sum_error=1684688767.335,accuracy=-7714.505\n",
      ">epoch=30, lrate=0.500, error=2.548,sum_error=369401041358.105,accuracy=-113193.490\n",
      ">epoch=31, lrate=0.500, error=2.548,sum_error=388.924,accuracy=46.570\n",
      ">epoch=32, lrate=0.500, error=2.548,sum_error=6366595864843.471,accuracy=-490141.270\n",
      ">epoch=33, lrate=0.500, error=2.548,sum_error=8557431513906569.000,accuracy=-17460273.311\n",
      ">epoch=34, lrate=0.500, error=2.548,sum_error=460422468188537792.000,accuracy=-126430174.926\n",
      ">epoch=35, lrate=0.500, error=2.548,sum_error=401.494,accuracy=45.660\n",
      ">epoch=36, lrate=0.500, error=2.548,sum_error=388.971,accuracy=46.603\n",
      ">epoch=37, lrate=0.500, error=2.548,sum_error=388.991,accuracy=46.555\n",
      ">epoch=38, lrate=0.500, error=2.548,sum_error=3271639371507084564627456.000,accuracy=-348187119227.433\n",
      ">epoch=39, lrate=0.500, error=2.548,sum_error=388.350,accuracy=46.660\n"
     ]
    }
   ],
   "source": [
    "random_vals1 = []\n",
    "random_vals1,_,_ = box_muller(x_save2,std_dev,_mean) #call box muller\n",
    "random_vals_t1 = []\n",
    "random_vals_t1 = triple_converter(random_vals1) #convert input to tuple\n",
    "values1,e1,w1,test1,itrArray1 = train_weights3(random_vals_t1, 0.5,40)"
   ]
  },
  {
   "cell_type": "markdown",
   "metadata": {},
   "source": [
    "## Network representation"
   ]
  },
  {
   "cell_type": "code",
   "execution_count": 28,
   "metadata": {},
   "outputs": [
    {
     "data": {
      "image/png": "[encoded data removed]",
      "text/plain": [
       "<Figure size 432x288 with 1 Axes>"
      ]
     },
     "metadata": {
      "needs_background": "light"
     },
     "output_type": "display_data"
    }
   ],
   "source": [
    "y_axis = values1 #network output\n",
    "y = random_vals1 # x noise\n",
    "x_axis = x = t_save2\n",
    "plt.plot(x,y,\"y\") #actual\n",
    "plt.plot(x_axis,y_axis,\"b\")#noise\n",
    "plt.show()"
   ]
  },
  {
   "cell_type": "markdown",
   "metadata": {},
   "source": [
    "## Error representation "
   ]
  },
  {
   "cell_type": "code",
   "execution_count": 29,
   "metadata": {},
   "outputs": [
    {
     "data": {
      "image/png": "[encoded data removed]",
      "text/plain": [
       "<Figure size 432x288 with 1 Axes>"
      ]
     },
     "metadata": {
      "needs_background": "light"
     },
     "output_type": "display_data"
    }
   ],
   "source": [
    "error_dataframe = {'Error':test1,'Epochs':itrArray1}\n",
    "error_df1 = pd.DataFrame(error_dataframe)\n",
    "error_plt = sns.lineplot(x=\"Epochs\", y=\"Error\", data=error_df1) #blue"
   ]
  },
  {
   "cell_type": "markdown",
   "metadata": {},
   "source": [
    "#### Example 2(learning rate = 0.2)"
   ]
  },
  {
   "cell_type": "code",
   "execution_count": 30,
   "metadata": {},
   "outputs": [
    {
     "name": "stdout",
     "output_type": "stream",
     "text": [
      ">epoch=0, lrate=0.200, error=2.437,sum_error=13604019.722,accuracy=-648.480\n",
      ">epoch=1, lrate=0.200, error=2.437,sum_error=13604019.722,accuracy=-648.480\n",
      ">epoch=2, lrate=0.200, error=2.437,sum_error=11082041.975,accuracy=-597.208\n",
      ">epoch=3, lrate=0.200, error=2.437,sum_error=14818164.621,accuracy=-686.026\n",
      ">epoch=4, lrate=0.200, error=2.437,sum_error=6403343.071,accuracy=-434.497\n",
      ">epoch=5, lrate=0.200, error=2.437,sum_error=3795970.791,accuracy=-321.764\n",
      ">epoch=6, lrate=0.200, error=2.437,sum_error=458611.275,accuracy=-116.004\n",
      ">epoch=7, lrate=0.200, error=2.437,sum_error=1084445512.310,accuracy=-6312.140\n",
      ">epoch=8, lrate=0.200, error=2.437,sum_error=404335139.665,accuracy=-3765.653\n",
      ">epoch=9, lrate=0.200, error=2.437,sum_error=30019628.065,accuracy=-1107.940\n",
      ">epoch=10, lrate=0.200, error=2.437,sum_error=327310129.325,accuracy=-3385.701\n",
      ">epoch=11, lrate=0.200, error=2.437,sum_error=502.449,accuracy=54.323\n",
      ">epoch=12, lrate=0.200, error=2.437,sum_error=30126918.780,accuracy=-1073.682\n",
      ">epoch=13, lrate=0.200, error=2.437,sum_error=2267436344.481,accuracy=-9026.298\n",
      ">epoch=14, lrate=0.200, error=2.437,sum_error=743.434,accuracy=53.110\n",
      ">epoch=15, lrate=0.200, error=2.437,sum_error=998.797,accuracy=49.331\n",
      ">epoch=16, lrate=0.200, error=2.437,sum_error=646182408.049,accuracy=-5289.140\n",
      ">epoch=17, lrate=0.200, error=2.437,sum_error=156175921.727,accuracy=-3137.242\n",
      ">epoch=18, lrate=0.200, error=2.437,sum_error=740.712,accuracy=49.767\n",
      ">epoch=19, lrate=0.200, error=2.437,sum_error=713.741,accuracy=50.083\n",
      ">epoch=20, lrate=0.200, error=2.437,sum_error=539.754,accuracy=54.299\n",
      ">epoch=21, lrate=0.200, error=2.437,sum_error=594.879,accuracy=53.643\n",
      ">epoch=22, lrate=0.200, error=2.437,sum_error=702.430,accuracy=50.376\n",
      ">epoch=23, lrate=0.200, error=2.437,sum_error=10516899.568,accuracy=-616.652\n",
      ">epoch=24, lrate=0.200, error=2.437,sum_error=5398.620,accuracy=28.912\n",
      ">epoch=25, lrate=0.200, error=2.437,sum_error=722621.388,accuracy=-126.693\n",
      ">epoch=26, lrate=0.200, error=2.437,sum_error=873.102,accuracy=48.491\n",
      ">epoch=27, lrate=0.200, error=2.437,sum_error=524.903,accuracy=55.468\n",
      ">epoch=28, lrate=0.200, error=2.437,sum_error=850.804,accuracy=46.973\n",
      ">epoch=29, lrate=0.200, error=2.437,sum_error=486.252,accuracy=55.429\n",
      ">epoch=30, lrate=0.200, error=2.437,sum_error=717.081,accuracy=52.374\n",
      ">epoch=31, lrate=0.200, error=2.437,sum_error=500.879,accuracy=57.727\n",
      ">epoch=32, lrate=0.200, error=2.437,sum_error=955.735,accuracy=48.044\n",
      ">epoch=33, lrate=0.200, error=2.437,sum_error=534.099,accuracy=53.179\n",
      ">epoch=34, lrate=0.200, error=2.437,sum_error=512.964,accuracy=55.308\n",
      ">epoch=35, lrate=0.200, error=2.437,sum_error=667.382,accuracy=51.982\n",
      ">epoch=36, lrate=0.200, error=2.437,sum_error=508.980,accuracy=54.304\n",
      ">epoch=37, lrate=0.200, error=2.437,sum_error=642.547,accuracy=50.563\n",
      ">epoch=38, lrate=0.200, error=2.437,sum_error=856.809,accuracy=45.861\n",
      ">epoch=39, lrate=0.200, error=2.437,sum_error=505.627,accuracy=55.968\n"
     ]
    }
   ],
   "source": [
    "random_vals2 = []\n",
    "random_vals2,_,_ = box_muller(x_save2,std_dev,_mean)\n",
    "random_vals_t2 =[]\n",
    "random_vals_t2 = triple_converter(random_vals2)\n",
    "values1,e1,w1,test1,itrArray1 = train_weights3(random_vals_t2, 0.2,40)"
   ]
  },
  {
   "cell_type": "markdown",
   "metadata": {},
   "source": [
    "## Network Representation"
   ]
  },
  {
   "cell_type": "code",
   "execution_count": 31,
   "metadata": {},
   "outputs": [
    {
     "data": {
      "image/png": "[encoded data removed]",
      "text/plain": [
       "<Figure size 432x288 with 1 Axes>"
      ]
     },
     "metadata": {
      "needs_background": "light"
     },
     "output_type": "display_data"
    }
   ],
   "source": [
    "y_axis = values1 #network output\n",
    "y = random_vals2 # x noise\n",
    "x_axis = x = t_save2\n",
    "plt.plot(x,y,\"y\") #actual\n",
    "plt.plot(x_axis,y_axis,\"b\")#noise\n",
    "plt.show()"
   ]
  },
  {
   "cell_type": "markdown",
   "metadata": {},
   "source": [
    "## Error representation"
   ]
  },
  {
   "cell_type": "code",
   "execution_count": 32,
   "metadata": {},
   "outputs": [
    {
     "data": {
      "image/png": "[encoded data removed]",
      "text/plain": [
       "<Figure size 432x288 with 1 Axes>"
      ]
     },
     "metadata": {
      "needs_background": "light"
     },
     "output_type": "display_data"
    }
   ],
   "source": [
    "error_dataframe = {'Error':test1,'Epochs':itrArray1}\n",
    "error_df1 = pd.DataFrame(error_dataframe)\n",
    "error_plt = sns.lineplot(x=\"Epochs\", y=\"Error\", data=error_df1) #blue"
   ]
  },
  {
   "cell_type": "markdown",
   "metadata": {},
   "source": [
    "#### Example 3(Learning rate = 0.01)"
   ]
  },
  {
   "cell_type": "code",
   "execution_count": 33,
   "metadata": {},
   "outputs": [
    {
     "name": "stdout",
     "output_type": "stream",
     "text": [
      ">epoch=0, lrate=0.010, error=0.027,sum_error=31.514,accuracy=85.895\n",
      ">epoch=1, lrate=0.010, error=0.027,sum_error=31.514,accuracy=85.895\n",
      ">epoch=2, lrate=0.010, error=0.008,sum_error=27.528,accuracy=87.121\n",
      ">epoch=3, lrate=0.010, error=0.002,sum_error=24.345,accuracy=88.073\n",
      ">epoch=4, lrate=0.010, error=0.001,sum_error=21.663,accuracy=88.885\n",
      ">epoch=5, lrate=0.010, error=0.000,sum_error=19.338,accuracy=89.608\n",
      ">epoch=6, lrate=0.010, error=0.000,sum_error=17.285,accuracy=90.266\n",
      ">epoch=7, lrate=0.010, error=0.000,sum_error=15.452,accuracy=90.870\n",
      ">epoch=8, lrate=0.010, error=0.000,sum_error=13.803,accuracy=91.430\n",
      ">epoch=9, lrate=0.010, error=0.000,sum_error=12.318,accuracy=91.949\n",
      ">epoch=10, lrate=0.010, error=0.000,sum_error=10.980,accuracy=92.434\n",
      ">epoch=11, lrate=0.010, error=0.000,sum_error=9.777,accuracy=92.885\n",
      ">epoch=12, lrate=0.010, error=0.000,sum_error=8.700,accuracy=93.306\n",
      ">epoch=13, lrate=0.010, error=0.000,sum_error=7.738,accuracy=93.698\n",
      ">epoch=14, lrate=0.010, error=0.000,sum_error=6.882,accuracy=94.064\n",
      ">epoch=15, lrate=0.010, error=0.000,sum_error=6.123,accuracy=94.404\n",
      ">epoch=16, lrate=0.010, error=0.000,sum_error=5.452,accuracy=94.720\n",
      ">epoch=17, lrate=0.010, error=0.000,sum_error=4.860,accuracy=95.014\n",
      ">epoch=18, lrate=0.010, error=0.000,sum_error=4.338,accuracy=95.287\n",
      ">epoch=19, lrate=0.010, error=0.000,sum_error=3.880,accuracy=95.540\n",
      ">epoch=20, lrate=0.010, error=0.000,sum_error=3.477,accuracy=95.775\n",
      ">epoch=21, lrate=0.010, error=0.000,sum_error=3.123,accuracy=95.993\n",
      ">epoch=22, lrate=0.010, error=0.000,sum_error=2.813,accuracy=96.194\n",
      ">epoch=23, lrate=0.010, error=0.000,sum_error=2.540,accuracy=96.381\n",
      ">epoch=24, lrate=0.010, error=0.000,sum_error=2.302,accuracy=96.555\n",
      ">epoch=25, lrate=0.010, error=0.000,sum_error=2.092,accuracy=96.716\n",
      ">epoch=26, lrate=0.010, error=0.000,sum_error=1.908,accuracy=96.865\n",
      ">epoch=27, lrate=0.010, error=0.000,sum_error=1.746,accuracy=97.004\n",
      ">epoch=28, lrate=0.010, error=0.000,sum_error=1.603,accuracy=97.133\n",
      ">epoch=29, lrate=0.010, error=0.000,sum_error=1.478,accuracy=97.253\n",
      ">epoch=30, lrate=0.010, error=0.000,sum_error=1.367,accuracy=97.365\n",
      ">epoch=31, lrate=0.010, error=0.000,sum_error=1.268,accuracy=97.469\n",
      ">epoch=32, lrate=0.010, error=0.000,sum_error=1.181,accuracy=97.566\n",
      ">epoch=33, lrate=0.010, error=0.000,sum_error=1.103,accuracy=97.657\n",
      ">epoch=34, lrate=0.010, error=0.000,sum_error=1.034,accuracy=97.742\n",
      ">epoch=35, lrate=0.010, error=0.000,sum_error=0.973,accuracy=97.822\n",
      ">epoch=36, lrate=0.010, error=0.000,sum_error=0.917,accuracy=97.897\n",
      ">epoch=37, lrate=0.010, error=0.000,sum_error=0.868,accuracy=97.967\n",
      ">epoch=38, lrate=0.010, error=0.000,sum_error=0.823,accuracy=98.033\n",
      ">epoch=39, lrate=0.010, error=0.000,sum_error=0.783,accuracy=98.095\n"
     ]
    }
   ],
   "source": [
    "random_vals2 = []\n",
    "random_vals2,_,_ = box_muller(x_save2,std_dev,_mean)\n",
    "random_vals_t2 =[]\n",
    "random_vals_t2 = triple_converter(random_vals2)\n",
    "values1,e1,w1,test1,itrArray1 = train_weights3(random_vals_t2, 0.01,40)"
   ]
  },
  {
   "cell_type": "markdown",
   "metadata": {},
   "source": [
    "## Network Representation"
   ]
  },
  {
   "cell_type": "code",
   "execution_count": 34,
   "metadata": {},
   "outputs": [
    {
     "data": {
      "image/png": "[encoded data removed]",
      "text/plain": [
       "<Figure size 432x288 with 1 Axes>"
      ]
     },
     "metadata": {
      "needs_background": "light"
     },
     "output_type": "display_data"
    }
   ],
   "source": [
    "y_axis = values1 #network output\n",
    "y = random_vals2 # x noise\n",
    "x_axis = x = t_save2\n",
    "plt.plot(x,y,\"y\") #actual\n",
    "plt.plot(x_axis,y_axis,\"b\")#noise\n",
    "plt.show()"
   ]
  },
  {
   "cell_type": "markdown",
   "metadata": {},
   "source": [
    "## Error representation"
   ]
  },
  {
   "cell_type": "code",
   "execution_count": 35,
   "metadata": {},
   "outputs": [
    {
     "data": {
      "image/png": "[encoded data removed]",
      "text/plain": [
       "<Figure size 432x288 with 1 Axes>"
      ]
     },
     "metadata": {
      "needs_background": "light"
     },
     "output_type": "display_data"
    }
   ],
   "source": [
    "error_dataframe = {'Error':test1,'Epochs':itrArray1}\n",
    "error_df1 = pd.DataFrame(error_dataframe)\n",
    "error_plt = sns.lineplot(x=\"Epochs\", y=\"Error\", data=error_df1) #blue"
   ]
  },
  {
   "cell_type": "code",
   "execution_count": null,
   "metadata": {},
   "outputs": [],
   "source": []
  },
  {
   "cell_type": "code",
   "execution_count": null,
   "metadata": {},
   "outputs": [],
   "source": []
  },
  {
   "cell_type": "code",
   "execution_count": null,
   "metadata": {},
   "outputs": [],
   "source": []
  },
  {
   "cell_type": "code",
   "execution_count": null,
   "metadata": {},
   "outputs": [],
   "source": []
  },
  {
   "cell_type": "code",
   "execution_count": null,
   "metadata": {},
   "outputs": [],
   "source": []
  },
  {
   "cell_type": "code",
   "execution_count": null,
   "metadata": {},
   "outputs": [],
   "source": []
  }
 ],
 "metadata": {
  "kernelspec": {
   "display_name": "Python 3",
   "language": "python",
   "name": "python3"
  },
  "language_info": {
   "codemirror_mode": {
    "name": "ipython",
    "version": 3
   },
   "file_extension": ".py",
   "mimetype": "text/x-python",
   "name": "python",
   "nbconvert_exporter": "python",
   "pygments_lexer": "ipython3",
   "version": "3.7.4"
  }
 },
 "nbformat": 4,
 "nbformat_minor": 2
}
