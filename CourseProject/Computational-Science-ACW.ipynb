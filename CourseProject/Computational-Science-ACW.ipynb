{
 "cells": [
  {
   "cell_type": "markdown",
   "metadata": {},
   "source": [
    "# Part 1: Simulating the robot"
   ]
  },
  {
   "cell_type": "code",
   "execution_count": 1,
   "metadata": {},
   "outputs": [],
   "source": [
    "import numpy as np\n",
    "import random as rand\n",
    "import numpy as np\n",
    "import matplotlib.pyplot as plt\n",
    "import math\n",
    "import csv\n",
    "from scipy.stats import norm\n",
    "import seaborn as sns\n",
    "import pandas as pd\n",
    "\n",
    "def func(U,x):\n",
    "    #-2x+2U\n",
    "    val = -(2*x) + 2*U\n",
    "    return val\n",
    "def simulation(x,t,h):\n",
    "    save = 0\n",
    "    U_save = []\n",
    "    t_save = []\n",
    "    x_save = []\n",
    "    x_exact_save = []\n",
    "\n",
    "    U_array = []\n",
    "    t_array = []\n",
    "    x_array = []\n",
    "    x_exact_array = []\n",
    "    while(t <= 15):\n",
    "        if(t <= 5):\n",
    "            U = 2\n",
    "        elif(t < 5 or t <= 10):\n",
    "            U = 1\n",
    "        elif(t < 10 or t <=15):\n",
    "            U = 3\n",
    "        #print(\"U value:\", x)\n",
    "        U_array.append(U)\n",
    "        k = h * func(U,x)\n",
    "        x = x + k\n",
    "        t = t + h\n",
    "        #value under graph\n",
    "        x_exact = U - math.exp(-2*t)\n",
    "        t_array.append(t)\n",
    "        x_array.append(x)\n",
    "        x_exact_array.append(x_exact)\n",
    "        save+=1\n",
    "        #save every 10th integral if h<=0.01\n",
    "        if(save%10 == 0 and h <= 0.01):\n",
    "            U_save.append(U)\n",
    "            t_save.append(t)\n",
    "            x_save.append(x)\n",
    "            x_exact_save.append(x_exact)\n",
    "            #print(\"save1: \",save)\n",
    "        #print(\"Where it is: \",x,\"Exact pos= \",x_exact,\"Time: \",t)\n",
    "    return U_save,t_save,x_save,x_exact_save,U_array,t_array,x_array,x_exact_array "
   ]
  },
  {
   "cell_type": "markdown",
   "metadata": {},
   "source": [
    "The following step sizes were provided to measure against: 0.75, .5, 0.25, 0.01, 0.001\n"
   ]
  },
  {
   "cell_type": "markdown",
   "metadata": {},
   "source": [
    "## Step size 0.001"
   ]
  },
  {
   "cell_type": "code",
   "execution_count": 2,
   "metadata": {},
   "outputs": [],
   "source": [
    "U_save1 = []\n",
    "t_save1 = []\n",
    "x_save1 = []\n",
    "x_exact_save1 = []\n",
    "\n",
    "\n",
    "##saves every time\n",
    "U_array1 = []\n",
    "t_array1 = []\n",
    "x_array1 = []\n",
    "x_exact_array1 = []\n",
    "\n",
    "#step size \n",
    "U_save1,t_save1,x_save1,x_exact_save1,U_array1,t_array1,x_array1,x_exact_array1=simulation(0,0,0.001)\n",
    "\n",
    "#0.35 for bell curve"
   ]
  },
  {
   "cell_type": "markdown",
   "metadata": {},
   "source": [
    "## Step size 0.01"
   ]
  },
  {
   "cell_type": "code",
   "execution_count": 3,
   "metadata": {},
   "outputs": [],
   "source": [
    "U_save2 = []\n",
    "t_save2 = []\n",
    "x_save2 = []\n",
    "x_exact_save2 = []\n",
    "\n",
    "\n",
    "##saves every time\n",
    "U_array2 = []\n",
    "t_array2 = []\n",
    "x_array2 = []\n",
    "x_exact_array2 = []\n",
    "\n",
    "#step size \n",
    "U_save2,t_save2,x_save2,x_exact_save2,U_array2,t_array2,x_array2,x_exact_array2=simulation(0,0,0.01)\n",
    "\n",
    "#0.35 for bell curve"
   ]
  },
  {
   "cell_type": "markdown",
   "metadata": {},
   "source": [
    "## Step size 0.25"
   ]
  },
  {
   "cell_type": "code",
   "execution_count": 4,
   "metadata": {},
   "outputs": [],
   "source": [
    "U_save3 = []\n",
    "t_save3 = []\n",
    "x_save3 = []\n",
    "x_exact_save3 = []\n",
    "\n",
    "\n",
    "##saves every time\n",
    "U_array3 = []\n",
    "t_array3 = []\n",
    "x_array3 = []\n",
    "x_exact_array3 = []\n",
    "\n",
    "#step size \n",
    "U_save3,t_save3,x_save3,x_exact_save3,U_array3,t_array3,x_array3,x_exact_array3=simulation(0,0,0.25)"
   ]
  },
  {
   "cell_type": "markdown",
   "metadata": {},
   "source": [
    "## Step size 0.5"
   ]
  },
  {
   "cell_type": "code",
   "execution_count": 5,
   "metadata": {},
   "outputs": [],
   "source": [
    "U_save4 = []\n",
    "t_save4 = []\n",
    "x_save4 = []\n",
    "x_exact_save4 = []\n",
    "\n",
    "\n",
    "##saves every time\n",
    "U_array4 = []\n",
    "t_array4 = []\n",
    "x_array4 = []\n",
    "x_exact_array4 = []\n",
    "\n",
    "#step size \n",
    "U_save4,t_save4,x_save4,x_exact_save4,U_array4,t_array4,x_array4,x_exact_array4=simulation(0,0,0.5)"
   ]
  },
  {
   "cell_type": "markdown",
   "metadata": {},
   "source": [
    "## Step size 0.75"
   ]
  },
  {
   "cell_type": "code",
   "execution_count": 6,
   "metadata": {},
   "outputs": [],
   "source": [
    "U_save5 = []\n",
    "t_save5 = []\n",
    "x_save5 = []\n",
    "x_exact_save5 = []\n",
    "\n",
    "\n",
    "##saves every time\n",
    "U_array5 = []\n",
    "t_array5 = []\n",
    "x_array5 = []\n",
    "x_exact_array5 = []\n",
    "\n",
    "#step size \n",
    "U_save5,t_save5,x_save5,x_exact_save5,U_array5,t_array5,x_array5,x_exact_array5=simulation(0,0,0.75)"
   ]
  },
  {
   "cell_type": "markdown",
   "metadata": {},
   "source": [
    "## Step Size 1"
   ]
  },
  {
   "cell_type": "code",
   "execution_count": 7,
   "metadata": {},
   "outputs": [],
   "source": [
    "U_save6 = []\n",
    "t_save6 = []\n",
    "x_save6 = []\n",
    "x_exact_save6 = []\n",
    "\n",
    "\n",
    "##saves every time\n",
    "U_array6 = []\n",
    "t_array6 = []\n",
    "x_array6 = []\n",
    "x_exact_array6 = []\n",
    "\n",
    "#step size \n",
    "U_save6,t_save6,x_save6,x_exact_save6,U_array6,t_array6,x_array6,x_exact_array6=simulation(0,0,1)"
   ]
  },
  {
   "cell_type": "markdown",
   "metadata": {},
   "source": [
    "## Saving values into a dataframe and plotting it "
   ]
  },
  {
   "cell_type": "code",
   "execution_count": 8,
   "metadata": {},
   "outputs": [],
   "source": [
    "data1 = {'X':x_array1,'T':t_array1}\n",
    "df1 = pd.DataFrame(data1)\n",
    "data2 = {'X':x_array2,'T':t_array2}\n",
    "df2= pd.DataFrame(data2)\n",
    "data3 = {'X':x_array3,'T':t_array3}\n",
    "df3= pd.DataFrame(data3)\n",
    "data4= {'X':x_array4,'T':t_array4}\n",
    "df4= pd.DataFrame(data4)\n",
    "data5= {'X':x_array5,'T':t_array5}\n",
    "df5= pd.DataFrame(data5)\n",
    "data6= {'X':x_array6,'T':t_array6}\n",
    "df6= pd.DataFrame(data6)"
   ]
  },
  {
   "cell_type": "code",
   "execution_count": 9,
   "metadata": {},
   "outputs": [
    {
     "data": {
      "image/png": "[encoded data removed]",
      "text/plain": [
       "<Figure size 432x288 with 1 Axes>"
      ]
     },
     "metadata": {
      "needs_background": "light"
     },
     "output_type": "display_data"
    }
   ],
   "source": [
    "plt3 = sns.lineplot(x=\"T\", y=\"X\", data=df1) #blue\n",
    "plt4 = sns.lineplot(x=\"T\", y=\"X\", data=df2) #Orange\n",
    "plt5 = sns.lineplot(x=\"T\", y=\"X\", data=df3) #Green\n",
    "plt6 = sns.lineplot(x=\"T\", y=\"X\", data=df4) #Red\n",
    "plt7 = sns.lineplot(x=\"T\", y=\"X\", data=df5) #Purple\n",
    "plt8 = sns.lineplot(x=\"T\", y=\"X\", data=df6) #Purple"
   ]
  },
  {
   "cell_type": "markdown",
   "metadata": {},
   "source": [
    "## Error evaluation against step size"
   ]
  },
  {
   "cell_type": "code",
   "execution_count": 10,
   "metadata": {},
   "outputs": [
    {
     "data": {
      "text/html": [
       "<div>\n",
       "<style scoped>\n",
       "    .dataframe tbody tr th:only-of-type {\n",
       "        vertical-align: middle;\n",
       "    }\n",
       "\n",
       "    .dataframe tbody tr th {\n",
       "        vertical-align: top;\n",
       "    }\n",
       "\n",
       "    .dataframe thead th {\n",
       "        text-align: right;\n",
       "    }\n",
       "</style>\n",
       "<table border=\"1\" class=\"dataframe\">\n",
       "  <thead>\n",
       "    <tr style=\"text-align: right;\">\n",
       "      <th></th>\n",
       "      <th>H = 0.001</th>\n",
       "      <th>Time(H = 0.001)</th>\n",
       "      <th>H(Exact)0.001</th>\n",
       "      <th>H = 0.01</th>\n",
       "      <th>Time(H = 0.01)</th>\n",
       "      <th>H(Exact)0.01</th>\n",
       "      <th>H = 0.25</th>\n",
       "      <th>Time(H = 0.25)</th>\n",
       "      <th>H(Exact)0.25</th>\n",
       "      <th>H = 0.5</th>\n",
       "      <th>Time(H = 0.5)</th>\n",
       "      <th>H(Exact)0.5</th>\n",
       "      <th>H = 0.75</th>\n",
       "      <th>Time(H = 0.75)</th>\n",
       "      <th>H(Exact)0.75</th>\n",
       "      <th>H = 1</th>\n",
       "      <th>Time(H = 1)</th>\n",
       "      <th>H(Exact)0.75</th>\n",
       "    </tr>\n",
       "  </thead>\n",
       "  <tbody>\n",
       "    <tr>\n",
       "      <td>0</td>\n",
       "      <td>0.039642</td>\n",
       "      <td>0.01</td>\n",
       "      <td>1.019801</td>\n",
       "      <td>0.365854</td>\n",
       "      <td>0.1</td>\n",
       "      <td>1.181269</td>\n",
       "      <td>1.0000</td>\n",
       "      <td>0.25</td>\n",
       "      <td>1.393469</td>\n",
       "      <td>2.0</td>\n",
       "      <td>0.5</td>\n",
       "      <td>1.632121</td>\n",
       "      <td>3.0000</td>\n",
       "      <td>0.75</td>\n",
       "      <td>1.776870</td>\n",
       "      <td>4.0</td>\n",
       "      <td>1.0</td>\n",
       "      <td>1.864665</td>\n",
       "    </tr>\n",
       "    <tr>\n",
       "      <td>1</td>\n",
       "      <td>0.078498</td>\n",
       "      <td>0.02</td>\n",
       "      <td>1.039211</td>\n",
       "      <td>0.664784</td>\n",
       "      <td>0.2</td>\n",
       "      <td>1.329680</td>\n",
       "      <td>1.5000</td>\n",
       "      <td>0.50</td>\n",
       "      <td>1.632121</td>\n",
       "      <td>2.0</td>\n",
       "      <td>1.0</td>\n",
       "      <td>1.864665</td>\n",
       "      <td>1.5000</td>\n",
       "      <td>1.50</td>\n",
       "      <td>1.950213</td>\n",
       "      <td>0.0</td>\n",
       "      <td>2.0</td>\n",
       "      <td>1.981684</td>\n",
       "    </tr>\n",
       "    <tr>\n",
       "      <td>2</td>\n",
       "      <td>0.116584</td>\n",
       "      <td>0.03</td>\n",
       "      <td>1.058235</td>\n",
       "      <td>0.909031</td>\n",
       "      <td>0.3</td>\n",
       "      <td>1.451188</td>\n",
       "      <td>1.7500</td>\n",
       "      <td>0.75</td>\n",
       "      <td>1.776870</td>\n",
       "      <td>2.0</td>\n",
       "      <td>1.5</td>\n",
       "      <td>1.950213</td>\n",
       "      <td>2.2500</td>\n",
       "      <td>2.25</td>\n",
       "      <td>1.988891</td>\n",
       "      <td>4.0</td>\n",
       "      <td>3.0</td>\n",
       "      <td>1.997521</td>\n",
       "    </tr>\n",
       "    <tr>\n",
       "      <td>3</td>\n",
       "      <td>0.153915</td>\n",
       "      <td>0.04</td>\n",
       "      <td>1.076884</td>\n",
       "      <td>1.108599</td>\n",
       "      <td>0.4</td>\n",
       "      <td>1.550671</td>\n",
       "      <td>1.8750</td>\n",
       "      <td>1.00</td>\n",
       "      <td>1.864665</td>\n",
       "      <td>2.0</td>\n",
       "      <td>2.0</td>\n",
       "      <td>1.981684</td>\n",
       "      <td>1.8750</td>\n",
       "      <td>3.00</td>\n",
       "      <td>1.997521</td>\n",
       "      <td>0.0</td>\n",
       "      <td>4.0</td>\n",
       "      <td>1.999665</td>\n",
       "    </tr>\n",
       "    <tr>\n",
       "      <td>4</td>\n",
       "      <td>0.190506</td>\n",
       "      <td>0.05</td>\n",
       "      <td>1.095163</td>\n",
       "      <td>1.271661</td>\n",
       "      <td>0.5</td>\n",
       "      <td>1.632121</td>\n",
       "      <td>1.9375</td>\n",
       "      <td>1.25</td>\n",
       "      <td>1.917915</td>\n",
       "      <td>2.0</td>\n",
       "      <td>2.5</td>\n",
       "      <td>1.993262</td>\n",
       "      <td>2.0625</td>\n",
       "      <td>3.75</td>\n",
       "      <td>1.999447</td>\n",
       "      <td>4.0</td>\n",
       "      <td>5.0</td>\n",
       "      <td>1.999955</td>\n",
       "    </tr>\n",
       "    <tr>\n",
       "      <td>...</td>\n",
       "      <td>...</td>\n",
       "      <td>...</td>\n",
       "      <td>...</td>\n",
       "      <td>...</td>\n",
       "      <td>...</td>\n",
       "      <td>...</td>\n",
       "      <td>...</td>\n",
       "      <td>...</td>\n",
       "      <td>...</td>\n",
       "      <td>...</td>\n",
       "      <td>...</td>\n",
       "      <td>...</td>\n",
       "      <td>...</td>\n",
       "      <td>...</td>\n",
       "      <td>...</td>\n",
       "      <td>...</td>\n",
       "      <td>...</td>\n",
       "      <td>...</td>\n",
       "    </tr>\n",
       "    <tr>\n",
       "      <td>1495</td>\n",
       "      <td>2.999902</td>\n",
       "      <td>14.96</td>\n",
       "      <td>3.000000</td>\n",
       "      <td>NaN</td>\n",
       "      <td>NaN</td>\n",
       "      <td>NaN</td>\n",
       "      <td>NaN</td>\n",
       "      <td>NaN</td>\n",
       "      <td>NaN</td>\n",
       "      <td>NaN</td>\n",
       "      <td>NaN</td>\n",
       "      <td>NaN</td>\n",
       "      <td>NaN</td>\n",
       "      <td>NaN</td>\n",
       "      <td>NaN</td>\n",
       "      <td>NaN</td>\n",
       "      <td>NaN</td>\n",
       "      <td>NaN</td>\n",
       "    </tr>\n",
       "    <tr>\n",
       "      <td>1496</td>\n",
       "      <td>2.999904</td>\n",
       "      <td>14.97</td>\n",
       "      <td>3.000000</td>\n",
       "      <td>NaN</td>\n",
       "      <td>NaN</td>\n",
       "      <td>NaN</td>\n",
       "      <td>NaN</td>\n",
       "      <td>NaN</td>\n",
       "      <td>NaN</td>\n",
       "      <td>NaN</td>\n",
       "      <td>NaN</td>\n",
       "      <td>NaN</td>\n",
       "      <td>NaN</td>\n",
       "      <td>NaN</td>\n",
       "      <td>NaN</td>\n",
       "      <td>NaN</td>\n",
       "      <td>NaN</td>\n",
       "      <td>NaN</td>\n",
       "    </tr>\n",
       "    <tr>\n",
       "      <td>1497</td>\n",
       "      <td>2.999906</td>\n",
       "      <td>14.98</td>\n",
       "      <td>3.000000</td>\n",
       "      <td>NaN</td>\n",
       "      <td>NaN</td>\n",
       "      <td>NaN</td>\n",
       "      <td>NaN</td>\n",
       "      <td>NaN</td>\n",
       "      <td>NaN</td>\n",
       "      <td>NaN</td>\n",
       "      <td>NaN</td>\n",
       "      <td>NaN</td>\n",
       "      <td>NaN</td>\n",
       "      <td>NaN</td>\n",
       "      <td>NaN</td>\n",
       "      <td>NaN</td>\n",
       "      <td>NaN</td>\n",
       "      <td>NaN</td>\n",
       "    </tr>\n",
       "    <tr>\n",
       "      <td>1498</td>\n",
       "      <td>2.999908</td>\n",
       "      <td>14.99</td>\n",
       "      <td>3.000000</td>\n",
       "      <td>NaN</td>\n",
       "      <td>NaN</td>\n",
       "      <td>NaN</td>\n",
       "      <td>NaN</td>\n",
       "      <td>NaN</td>\n",
       "      <td>NaN</td>\n",
       "      <td>NaN</td>\n",
       "      <td>NaN</td>\n",
       "      <td>NaN</td>\n",
       "      <td>NaN</td>\n",
       "      <td>NaN</td>\n",
       "      <td>NaN</td>\n",
       "      <td>NaN</td>\n",
       "      <td>NaN</td>\n",
       "      <td>NaN</td>\n",
       "    </tr>\n",
       "    <tr>\n",
       "      <td>1499</td>\n",
       "      <td>2.999910</td>\n",
       "      <td>15.00</td>\n",
       "      <td>3.000000</td>\n",
       "      <td>NaN</td>\n",
       "      <td>NaN</td>\n",
       "      <td>NaN</td>\n",
       "      <td>NaN</td>\n",
       "      <td>NaN</td>\n",
       "      <td>NaN</td>\n",
       "      <td>NaN</td>\n",
       "      <td>NaN</td>\n",
       "      <td>NaN</td>\n",
       "      <td>NaN</td>\n",
       "      <td>NaN</td>\n",
       "      <td>NaN</td>\n",
       "      <td>NaN</td>\n",
       "      <td>NaN</td>\n",
       "      <td>NaN</td>\n",
       "    </tr>\n",
       "  </tbody>\n",
       "</table>\n",
       "<p>1500 rows × 18 columns</p>\n",
       "</div>"
      ],
      "text/plain": [
       "      H = 0.001  Time(H = 0.001)  H(Exact)0.001  H = 0.01  Time(H = 0.01)  \\\n",
       "0      0.039642             0.01       1.019801  0.365854             0.1   \n",
       "1      0.078498             0.02       1.039211  0.664784             0.2   \n",
       "2      0.116584             0.03       1.058235  0.909031             0.3   \n",
       "3      0.153915             0.04       1.076884  1.108599             0.4   \n",
       "4      0.190506             0.05       1.095163  1.271661             0.5   \n",
       "...         ...              ...            ...       ...             ...   \n",
       "1495   2.999902            14.96       3.000000       NaN             NaN   \n",
       "1496   2.999904            14.97       3.000000       NaN             NaN   \n",
       "1497   2.999906            14.98       3.000000       NaN             NaN   \n",
       "1498   2.999908            14.99       3.000000       NaN             NaN   \n",
       "1499   2.999910            15.00       3.000000       NaN             NaN   \n",
       "\n",
       "      H(Exact)0.01  H = 0.25  Time(H = 0.25)  H(Exact)0.25  H = 0.5  \\\n",
       "0         1.181269    1.0000            0.25      1.393469      2.0   \n",
       "1         1.329680    1.5000            0.50      1.632121      2.0   \n",
       "2         1.451188    1.7500            0.75      1.776870      2.0   \n",
       "3         1.550671    1.8750            1.00      1.864665      2.0   \n",
       "4         1.632121    1.9375            1.25      1.917915      2.0   \n",
       "...            ...       ...             ...           ...      ...   \n",
       "1495           NaN       NaN             NaN           NaN      NaN   \n",
       "1496           NaN       NaN             NaN           NaN      NaN   \n",
       "1497           NaN       NaN             NaN           NaN      NaN   \n",
       "1498           NaN       NaN             NaN           NaN      NaN   \n",
       "1499           NaN       NaN             NaN           NaN      NaN   \n",
       "\n",
       "      Time(H = 0.5)  H(Exact)0.5  H = 0.75  Time(H = 0.75)  H(Exact)0.75  \\\n",
       "0               0.5     1.632121    3.0000            0.75      1.776870   \n",
       "1               1.0     1.864665    1.5000            1.50      1.950213   \n",
       "2               1.5     1.950213    2.2500            2.25      1.988891   \n",
       "3               2.0     1.981684    1.8750            3.00      1.997521   \n",
       "4               2.5     1.993262    2.0625            3.75      1.999447   \n",
       "...             ...          ...       ...             ...           ...   \n",
       "1495            NaN          NaN       NaN             NaN           NaN   \n",
       "1496            NaN          NaN       NaN             NaN           NaN   \n",
       "1497            NaN          NaN       NaN             NaN           NaN   \n",
       "1498            NaN          NaN       NaN             NaN           NaN   \n",
       "1499            NaN          NaN       NaN             NaN           NaN   \n",
       "\n",
       "      H = 1  Time(H = 1)  H(Exact)0.75  \n",
       "0       4.0          1.0      1.864665  \n",
       "1       0.0          2.0      1.981684  \n",
       "2       4.0          3.0      1.997521  \n",
       "3       0.0          4.0      1.999665  \n",
       "4       4.0          5.0      1.999955  \n",
       "...     ...          ...           ...  \n",
       "1495    NaN          NaN           NaN  \n",
       "1496    NaN          NaN           NaN  \n",
       "1497    NaN          NaN           NaN  \n",
       "1498    NaN          NaN           NaN  \n",
       "1499    NaN          NaN           NaN  \n",
       "\n",
       "[1500 rows x 18 columns]"
      ]
     },
     "execution_count": 10,
     "metadata": {},
     "output_type": "execute_result"
    }
   ],
   "source": [
    "data2 = {'H = 0.001':x_save1,'Time(H = 0.001)':t_save1}\n",
    "df2= pd.DataFrame(data2)\n",
    "data2_1 = {'H(Exact)0.001':x_exact_save1}\n",
    "df2_1 = pd.DataFrame(data2_1)\n",
    "data3 = {'H = 0.01':x_save2,'Time(H = 0.01)':t_save2}\n",
    "df3= pd.DataFrame(data3)\n",
    "data3_1 = {'H(Exact)0.01':x_exact_save2}\n",
    "df3_1 = pd.DataFrame(data3_1)\n",
    "data4= {'H = 0.25':x_array3,'Time(H = 0.25)':t_array3}\n",
    "df4= pd.DataFrame(data4)\n",
    "data4_1 = {'H(Exact)0.25':x_exact_array3}\n",
    "df4_1 = pd.DataFrame(data4_1)\n",
    "data5= {'H = 0.5':x_array4,'Time(H = 0.5)':t_array4}\n",
    "df5= pd.DataFrame(data5)\n",
    "data5_1 = {'H(Exact)0.5':x_exact_array4}\n",
    "df5_1 = pd.DataFrame(data5_1)\n",
    "data6= {'H = 0.75':x_array5,'Time(H = 0.75)':t_array5}\n",
    "df6= pd.DataFrame(data6)\n",
    "data6_1 = {'H(Exact)0.75':x_exact_array5}\n",
    "df6_1 = pd.DataFrame(data6_1)\n",
    "data7= {'H = 1':x_array6,'Time(H = 1)':t_array6}\n",
    "df7= pd.DataFrame(data7)\n",
    "data7_1 = {'H(Exact)0.75':x_exact_array6}\n",
    "df7_1 = pd.DataFrame(data7_1)\n",
    "frames = [df2,df2_1, df3,df3_1,df4,df4_1,df5,df5_1,df6,df6_1,df7,df7_1]\n",
    "result = pd.concat(frames, axis=1, sort=False)\n",
    "result"
   ]
  },
  {
   "cell_type": "code",
   "execution_count": 11,
   "metadata": {},
   "outputs": [],
   "source": [
    "result.to_csv(\"Step_sizes2.csv\")"
   ]
  },
  {
   "cell_type": "markdown",
   "metadata": {},
   "source": [
    "## Error evaluation for step size"
   ]
  },
  {
   "cell_type": "code",
   "execution_count": 12,
   "metadata": {},
   "outputs": [
    {
     "data": {
      "text/html": [
       "<div>\n",
       "<style scoped>\n",
       "    .dataframe tbody tr th:only-of-type {\n",
       "        vertical-align: middle;\n",
       "    }\n",
       "\n",
       "    .dataframe tbody tr th {\n",
       "        vertical-align: top;\n",
       "    }\n",
       "\n",
       "    .dataframe thead th {\n",
       "        text-align: right;\n",
       "    }\n",
       "</style>\n",
       "<table border=\"1\" class=\"dataframe\">\n",
       "  <thead>\n",
       "    <tr style=\"text-align: right;\">\n",
       "      <th></th>\n",
       "      <th>Unnamed: 0</th>\n",
       "      <th>H = 0.001</th>\n",
       "      <th>Time(H = 0.001)</th>\n",
       "      <th>H(Exact)0.001</th>\n",
       "      <th>H = 0.01</th>\n",
       "      <th>Time(H = 0.01)</th>\n",
       "      <th>H(Exact)0.01</th>\n",
       "      <th>H = 0.25</th>\n",
       "      <th>Time(H = 0.25)</th>\n",
       "      <th>H(Exact)0.25</th>\n",
       "      <th>...</th>\n",
       "      <th>H(Exact)0.75.1</th>\n",
       "      <th>Unnamed: 19</th>\n",
       "      <th>Unnamed: 20</th>\n",
       "      <th>2</th>\n",
       "      <th>4.5</th>\n",
       "      <th>5.5</th>\n",
       "      <th>5.01</th>\n",
       "      <th>Unnamed: 25</th>\n",
       "      <th>4.99</th>\n",
       "      <th>5.1</th>\n",
       "    </tr>\n",
       "  </thead>\n",
       "  <tbody>\n",
       "    <tr>\n",
       "      <td>0</td>\n",
       "      <td>0</td>\n",
       "      <td>0.039642</td>\n",
       "      <td>0.01</td>\n",
       "      <td>1.019801</td>\n",
       "      <td>0.365854</td>\n",
       "      <td>0.1</td>\n",
       "      <td>1.181269</td>\n",
       "      <td>1.0000</td>\n",
       "      <td>0.25</td>\n",
       "      <td>1.393469</td>\n",
       "      <td>...</td>\n",
       "      <td>1.864665</td>\n",
       "      <td>NaN</td>\n",
       "      <td>NaN</td>\n",
       "      <td>THIS ABOVE IS COLUMN NUMBER</td>\n",
       "      <td>condition</td>\n",
       "      <td>condition</td>\n",
       "      <td>NaN</td>\n",
       "      <td>NaN</td>\n",
       "      <td>4.90</td>\n",
       "      <td>5.10</td>\n",
       "    </tr>\n",
       "    <tr>\n",
       "      <td>1</td>\n",
       "      <td>1</td>\n",
       "      <td>0.078498</td>\n",
       "      <td>0.02</td>\n",
       "      <td>1.039211</td>\n",
       "      <td>0.664784</td>\n",
       "      <td>0.2</td>\n",
       "      <td>1.329680</td>\n",
       "      <td>1.5000</td>\n",
       "      <td>0.50</td>\n",
       "      <td>1.632121</td>\n",
       "      <td>...</td>\n",
       "      <td>1.981684</td>\n",
       "      <td>NaN</td>\n",
       "      <td>NaN</td>\n",
       "      <td>NaN</td>\n",
       "      <td>NaN</td>\n",
       "      <td>NaN</td>\n",
       "      <td>NaN</td>\n",
       "      <td>NaN</td>\n",
       "      <td>4.75</td>\n",
       "      <td>5.25</td>\n",
       "    </tr>\n",
       "    <tr>\n",
       "      <td>2</td>\n",
       "      <td>2</td>\n",
       "      <td>0.116584</td>\n",
       "      <td>0.03</td>\n",
       "      <td>1.058235</td>\n",
       "      <td>0.909031</td>\n",
       "      <td>0.3</td>\n",
       "      <td>1.451188</td>\n",
       "      <td>1.7500</td>\n",
       "      <td>0.75</td>\n",
       "      <td>1.776870</td>\n",
       "      <td>...</td>\n",
       "      <td>1.997521</td>\n",
       "      <td>NaN</td>\n",
       "      <td>NaN</td>\n",
       "      <td>STEP VALUE</td>\n",
       "      <td>TIME = 5</td>\n",
       "      <td>EXACT VALUE</td>\n",
       "      <td>ERROR</td>\n",
       "      <td>NaN</td>\n",
       "      <td>NaN</td>\n",
       "      <td>NaN</td>\n",
       "    </tr>\n",
       "    <tr>\n",
       "      <td>3</td>\n",
       "      <td>3</td>\n",
       "      <td>0.153915</td>\n",
       "      <td>0.04</td>\n",
       "      <td>1.076884</td>\n",
       "      <td>1.108599</td>\n",
       "      <td>0.4</td>\n",
       "      <td>1.550671</td>\n",
       "      <td>1.8750</td>\n",
       "      <td>1.00</td>\n",
       "      <td>1.864665</td>\n",
       "      <td>...</td>\n",
       "      <td>1.999665</td>\n",
       "      <td>NaN</td>\n",
       "      <td>Step =0.5</td>\n",
       "      <td>2</td>\n",
       "      <td>5</td>\n",
       "      <td>1.9999546</td>\n",
       "      <td>4.54</td>\n",
       "      <td>NaN</td>\n",
       "      <td>NaN</td>\n",
       "      <td>NaN</td>\n",
       "    </tr>\n",
       "    <tr>\n",
       "      <td>4</td>\n",
       "      <td>4</td>\n",
       "      <td>0.190506</td>\n",
       "      <td>0.05</td>\n",
       "      <td>1.095163</td>\n",
       "      <td>1.271661</td>\n",
       "      <td>0.5</td>\n",
       "      <td>1.632121</td>\n",
       "      <td>1.9375</td>\n",
       "      <td>1.25</td>\n",
       "      <td>1.917915</td>\n",
       "      <td>...</td>\n",
       "      <td>1.999955</td>\n",
       "      <td>NaN</td>\n",
       "      <td>Step =0.75</td>\n",
       "      <td>2.015625</td>\n",
       "      <td>5.25</td>\n",
       "      <td>1.999972464</td>\n",
       "      <td>1565.2536</td>\n",
       "      <td>NaN</td>\n",
       "      <td>NaN</td>\n",
       "      <td>NaN</td>\n",
       "    </tr>\n",
       "    <tr>\n",
       "      <td>...</td>\n",
       "      <td>...</td>\n",
       "      <td>...</td>\n",
       "      <td>...</td>\n",
       "      <td>...</td>\n",
       "      <td>...</td>\n",
       "      <td>...</td>\n",
       "      <td>...</td>\n",
       "      <td>...</td>\n",
       "      <td>...</td>\n",
       "      <td>...</td>\n",
       "      <td>...</td>\n",
       "      <td>...</td>\n",
       "      <td>...</td>\n",
       "      <td>...</td>\n",
       "      <td>...</td>\n",
       "      <td>...</td>\n",
       "      <td>...</td>\n",
       "      <td>...</td>\n",
       "      <td>...</td>\n",
       "      <td>...</td>\n",
       "      <td>...</td>\n",
       "    </tr>\n",
       "    <tr>\n",
       "      <td>1495</td>\n",
       "      <td>1495</td>\n",
       "      <td>2.999902</td>\n",
       "      <td>14.96</td>\n",
       "      <td>3.000000</td>\n",
       "      <td>NaN</td>\n",
       "      <td>NaN</td>\n",
       "      <td>NaN</td>\n",
       "      <td>NaN</td>\n",
       "      <td>NaN</td>\n",
       "      <td>NaN</td>\n",
       "      <td>...</td>\n",
       "      <td>NaN</td>\n",
       "      <td>NaN</td>\n",
       "      <td>NaN</td>\n",
       "      <td>NaN</td>\n",
       "      <td>NaN</td>\n",
       "      <td>NaN</td>\n",
       "      <td>NaN</td>\n",
       "      <td>NaN</td>\n",
       "      <td>NaN</td>\n",
       "      <td>NaN</td>\n",
       "    </tr>\n",
       "    <tr>\n",
       "      <td>1496</td>\n",
       "      <td>1496</td>\n",
       "      <td>2.999904</td>\n",
       "      <td>14.97</td>\n",
       "      <td>3.000000</td>\n",
       "      <td>NaN</td>\n",
       "      <td>NaN</td>\n",
       "      <td>NaN</td>\n",
       "      <td>NaN</td>\n",
       "      <td>NaN</td>\n",
       "      <td>NaN</td>\n",
       "      <td>...</td>\n",
       "      <td>NaN</td>\n",
       "      <td>NaN</td>\n",
       "      <td>NaN</td>\n",
       "      <td>NaN</td>\n",
       "      <td>NaN</td>\n",
       "      <td>NaN</td>\n",
       "      <td>NaN</td>\n",
       "      <td>NaN</td>\n",
       "      <td>NaN</td>\n",
       "      <td>NaN</td>\n",
       "    </tr>\n",
       "    <tr>\n",
       "      <td>1497</td>\n",
       "      <td>1497</td>\n",
       "      <td>2.999906</td>\n",
       "      <td>14.98</td>\n",
       "      <td>3.000000</td>\n",
       "      <td>NaN</td>\n",
       "      <td>NaN</td>\n",
       "      <td>NaN</td>\n",
       "      <td>NaN</td>\n",
       "      <td>NaN</td>\n",
       "      <td>NaN</td>\n",
       "      <td>...</td>\n",
       "      <td>NaN</td>\n",
       "      <td>NaN</td>\n",
       "      <td>NaN</td>\n",
       "      <td>NaN</td>\n",
       "      <td>NaN</td>\n",
       "      <td>NaN</td>\n",
       "      <td>NaN</td>\n",
       "      <td>NaN</td>\n",
       "      <td>NaN</td>\n",
       "      <td>NaN</td>\n",
       "    </tr>\n",
       "    <tr>\n",
       "      <td>1498</td>\n",
       "      <td>1498</td>\n",
       "      <td>2.999908</td>\n",
       "      <td>14.99</td>\n",
       "      <td>3.000000</td>\n",
       "      <td>NaN</td>\n",
       "      <td>NaN</td>\n",
       "      <td>NaN</td>\n",
       "      <td>NaN</td>\n",
       "      <td>NaN</td>\n",
       "      <td>NaN</td>\n",
       "      <td>...</td>\n",
       "      <td>NaN</td>\n",
       "      <td>NaN</td>\n",
       "      <td>NaN</td>\n",
       "      <td>NaN</td>\n",
       "      <td>NaN</td>\n",
       "      <td>NaN</td>\n",
       "      <td>NaN</td>\n",
       "      <td>NaN</td>\n",
       "      <td>NaN</td>\n",
       "      <td>NaN</td>\n",
       "    </tr>\n",
       "    <tr>\n",
       "      <td>1499</td>\n",
       "      <td>1499</td>\n",
       "      <td>2.999910</td>\n",
       "      <td>15.00</td>\n",
       "      <td>3.000000</td>\n",
       "      <td>NaN</td>\n",
       "      <td>NaN</td>\n",
       "      <td>NaN</td>\n",
       "      <td>NaN</td>\n",
       "      <td>NaN</td>\n",
       "      <td>NaN</td>\n",
       "      <td>...</td>\n",
       "      <td>NaN</td>\n",
       "      <td>NaN</td>\n",
       "      <td>NaN</td>\n",
       "      <td>NaN</td>\n",
       "      <td>NaN</td>\n",
       "      <td>NaN</td>\n",
       "      <td>NaN</td>\n",
       "      <td>NaN</td>\n",
       "      <td>NaN</td>\n",
       "      <td>NaN</td>\n",
       "    </tr>\n",
       "  </tbody>\n",
       "</table>\n",
       "<p>1500 rows × 28 columns</p>\n",
       "</div>"
      ],
      "text/plain": [
       "      Unnamed: 0  H = 0.001  Time(H = 0.001)  H(Exact)0.001  H = 0.01  \\\n",
       "0              0   0.039642             0.01       1.019801  0.365854   \n",
       "1              1   0.078498             0.02       1.039211  0.664784   \n",
       "2              2   0.116584             0.03       1.058235  0.909031   \n",
       "3              3   0.153915             0.04       1.076884  1.108599   \n",
       "4              4   0.190506             0.05       1.095163  1.271661   \n",
       "...          ...        ...              ...            ...       ...   \n",
       "1495        1495   2.999902            14.96       3.000000       NaN   \n",
       "1496        1496   2.999904            14.97       3.000000       NaN   \n",
       "1497        1497   2.999906            14.98       3.000000       NaN   \n",
       "1498        1498   2.999908            14.99       3.000000       NaN   \n",
       "1499        1499   2.999910            15.00       3.000000       NaN   \n",
       "\n",
       "      Time(H = 0.01)  H(Exact)0.01  H = 0.25  Time(H = 0.25)  H(Exact)0.25  \\\n",
       "0                0.1      1.181269    1.0000            0.25      1.393469   \n",
       "1                0.2      1.329680    1.5000            0.50      1.632121   \n",
       "2                0.3      1.451188    1.7500            0.75      1.776870   \n",
       "3                0.4      1.550671    1.8750            1.00      1.864665   \n",
       "4                0.5      1.632121    1.9375            1.25      1.917915   \n",
       "...              ...           ...       ...             ...           ...   \n",
       "1495             NaN           NaN       NaN             NaN           NaN   \n",
       "1496             NaN           NaN       NaN             NaN           NaN   \n",
       "1497             NaN           NaN       NaN             NaN           NaN   \n",
       "1498             NaN           NaN       NaN             NaN           NaN   \n",
       "1499             NaN           NaN       NaN             NaN           NaN   \n",
       "\n",
       "      ...  H(Exact)0.75.1  Unnamed: 19 Unnamed: 20  \\\n",
       "0     ...        1.864665          NaN         NaN   \n",
       "1     ...        1.981684          NaN         NaN   \n",
       "2     ...        1.997521          NaN         NaN   \n",
       "3     ...        1.999665          NaN   Step =0.5   \n",
       "4     ...        1.999955          NaN  Step =0.75   \n",
       "...   ...             ...          ...         ...   \n",
       "1495  ...             NaN          NaN         NaN   \n",
       "1496  ...             NaN          NaN         NaN   \n",
       "1497  ...             NaN          NaN         NaN   \n",
       "1498  ...             NaN          NaN         NaN   \n",
       "1499  ...             NaN          NaN         NaN   \n",
       "\n",
       "                                2        4.5          5.5       5.01  \\\n",
       "0     THIS ABOVE IS COLUMN NUMBER  condition    condition        NaN   \n",
       "1                             NaN        NaN          NaN        NaN   \n",
       "2                      STEP VALUE   TIME = 5  EXACT VALUE      ERROR   \n",
       "3                               2          5    1.9999546       4.54   \n",
       "4                        2.015625       5.25  1.999972464  1565.2536   \n",
       "...                           ...        ...          ...        ...   \n",
       "1495                          NaN        NaN          NaN        NaN   \n",
       "1496                          NaN        NaN          NaN        NaN   \n",
       "1497                          NaN        NaN          NaN        NaN   \n",
       "1498                          NaN        NaN          NaN        NaN   \n",
       "1499                          NaN        NaN          NaN        NaN   \n",
       "\n",
       "      Unnamed: 25  4.99   5.1  \n",
       "0             NaN  4.90  5.10  \n",
       "1             NaN  4.75  5.25  \n",
       "2             NaN   NaN   NaN  \n",
       "3             NaN   NaN   NaN  \n",
       "4             NaN   NaN   NaN  \n",
       "...           ...   ...   ...  \n",
       "1495          NaN   NaN   NaN  \n",
       "1496          NaN   NaN   NaN  \n",
       "1497          NaN   NaN   NaN  \n",
       "1498          NaN   NaN   NaN  \n",
       "1499          NaN   NaN   NaN  \n",
       "\n",
       "[1500 rows x 28 columns]"
      ]
     },
     "execution_count": 12,
     "metadata": {},
     "output_type": "execute_result"
    }
   ],
   "source": [
    "path = \"Step_sizes1.csv\"\n",
    "df = pd.read_csv(path, encoding = 'utf-8')\n",
    "df"
   ]
  },
  {
   "cell_type": "markdown",
   "metadata": {},
   "source": [
    "### Clean Data"
   ]
  },
  {
   "cell_type": "code",
   "execution_count": 13,
   "metadata": {},
   "outputs": [
    {
     "data": {
      "text/html": [
       "<div>\n",
       "<style scoped>\n",
       "    .dataframe tbody tr th:only-of-type {\n",
       "        vertical-align: middle;\n",
       "    }\n",
       "\n",
       "    .dataframe tbody tr th {\n",
       "        vertical-align: top;\n",
       "    }\n",
       "\n",
       "    .dataframe thead th {\n",
       "        text-align: right;\n",
       "    }\n",
       "</style>\n",
       "<table border=\"1\" class=\"dataframe\">\n",
       "  <thead>\n",
       "    <tr style=\"text-align: right;\">\n",
       "      <th></th>\n",
       "      <th>Unnamed: 20</th>\n",
       "      <th>2</th>\n",
       "      <th>4.5</th>\n",
       "      <th>5.5</th>\n",
       "      <th>5.01</th>\n",
       "    </tr>\n",
       "  </thead>\n",
       "  <tbody>\n",
       "    <tr>\n",
       "      <td>9</td>\n",
       "      <td>Step = 0.001</td>\n",
       "      <td>1.999910105</td>\n",
       "      <td>5</td>\n",
       "      <td>1.9999546</td>\n",
       "      <td>-4.4495</td>\n",
       "    </tr>\n",
       "    <tr>\n",
       "      <td>10</td>\n",
       "      <td>Step =0.01</td>\n",
       "      <td>1.999917952</td>\n",
       "      <td>5</td>\n",
       "      <td>1.9999546</td>\n",
       "      <td>-3.6648</td>\n",
       "    </tr>\n",
       "    <tr>\n",
       "      <td>11</td>\n",
       "      <td>Step = 0.25</td>\n",
       "      <td>1.999998093</td>\n",
       "      <td>5</td>\n",
       "      <td>1.9999546</td>\n",
       "      <td>4.3493</td>\n",
       "    </tr>\n",
       "    <tr>\n",
       "      <td>3</td>\n",
       "      <td>Step =0.5</td>\n",
       "      <td>2</td>\n",
       "      <td>5</td>\n",
       "      <td>1.9999546</td>\n",
       "      <td>4.54</td>\n",
       "    </tr>\n",
       "    <tr>\n",
       "      <td>4</td>\n",
       "      <td>Step =0.75</td>\n",
       "      <td>2.015625</td>\n",
       "      <td>5.25</td>\n",
       "      <td>1.999972464</td>\n",
       "      <td>1565.2536</td>\n",
       "    </tr>\n",
       "    <tr>\n",
       "      <td>5</td>\n",
       "      <td>Step = 1</td>\n",
       "      <td>4</td>\n",
       "      <td>5</td>\n",
       "      <td>1.9999546</td>\n",
       "      <td>200004.54</td>\n",
       "    </tr>\n",
       "  </tbody>\n",
       "</table>\n",
       "</div>"
      ],
      "text/plain": [
       "     Unnamed: 20            2   4.5          5.5       5.01\n",
       "9   Step = 0.001  1.999910105     5    1.9999546    -4.4495\n",
       "10    Step =0.01  1.999917952     5    1.9999546    -3.6648\n",
       "11   Step = 0.25  1.999998093     5    1.9999546     4.3493\n",
       "3      Step =0.5            2     5    1.9999546       4.54\n",
       "4     Step =0.75     2.015625  5.25  1.999972464  1565.2536\n",
       "5       Step = 1            4     5    1.9999546  200004.54"
      ]
     },
     "execution_count": 13,
     "metadata": {},
     "output_type": "execute_result"
    }
   ],
   "source": [
    "cleaned = df.iloc[[9,10,11,3,4,5],[20,21,22,23,24]]\n",
    "cleaned"
   ]
  },
  {
   "cell_type": "code",
   "execution_count": 14,
   "metadata": {},
   "outputs": [],
   "source": [
    "errors_y_axis = cleaned.iloc[:,-1]\n",
    "errors_y_axis\n",
    "error_y = []\n",
    "for a in errors_y_axis:\n",
    "    error_y.append(float(a))"
   ]
  },
  {
   "cell_type": "markdown",
   "metadata": {},
   "source": [
    "### Graphed data"
   ]
  },
  {
   "cell_type": "code",
   "execution_count": 15,
   "metadata": {},
   "outputs": [
    {
     "data": {
      "image/png": "[encoded data removed]",
      "text/plain": [
       "<Figure size 432x288 with 1 Axes>"
      ]
     },
     "metadata": {
      "needs_background": "light"
     },
     "output_type": "display_data"
    }
   ],
   "source": [
    "#6 data points...\n",
    "error_y\n",
    "error_step_x_axis = [0.001,0.01,0.25,0.5,0.75,1]\n",
    "#data6= {'X':x_array6,'T':t_array6}\n",
    "error_df = {'Error':error_y,'Step_size':error_step_x_axis}\n",
    "err_plt = pd.DataFrame(error_df)\n",
    "plot = sns.lineplot(x=\"Step_size\", y=\"Error\", data=err_plt) "
   ]
  },
  {
   "cell_type": "code",
   "execution_count": null,
   "metadata": {},
   "outputs": [],
   "source": []
  },
  {
   "cell_type": "markdown",
   "metadata": {},
   "source": [
    "# Part 2: Random Noise using Box Muller Method"
   ]
  },
  {
   "cell_type": "markdown",
   "metadata": {},
   "source": [
    "## Initialise/Compute standard deviation and mean"
   ]
  },
  {
   "cell_type": "code",
   "execution_count": 16,
   "metadata": {},
   "outputs": [
    {
     "name": "stdout",
     "output_type": "stream",
     "text": [
      "deviation:  0.0431 mean:  0.5 DEVIATION:  0.7789244866974134 MEAN:  1.900142980914039\n"
     ]
    }
   ],
   "source": [
    "import statistics as stat\n",
    "std_dev1 = stat.stdev(x_array1)   #calculate standard deviation of input array\n",
    "_mean1 = stat.mean(x_array1)      #calculate mean of input array\n",
    "\n",
    "std_dev = 0.0431                  #set custom standard deviation\n",
    "_mean = 0.5                       #set custom mean\n",
    "print(\"deviation: \",std_dev,\"mean: \",_mean,\"DEVIATION: \",std_dev1,\"MEAN: \",_mean1)"
   ]
  },
  {
   "cell_type": "markdown",
   "metadata": {},
   "source": [
    "## compute box muller algorithm"
   ]
  },
  {
   "cell_type": "code",
   "execution_count": 17,
   "metadata": {},
   "outputs": [],
   "source": [
    "def box_muller(array,standard_deviation,mean):\n",
    "    random_vls = []\n",
    "    i = 0\n",
    "    it = 0                    #switches between the 2 random numbers generated\n",
    "    box_1 = []                #saves value from one of the numbers generated\n",
    "    box_2 = []                #saves values from the other number generated\n",
    "    while i < len(array):     #while its not end of the input array\n",
    "        if(it == 0):\n",
    "            z1 =  rand.uniform(0,2*np.pi)       #generate random number between 0 and 2 * pi\n",
    "            b  =  standard_deviation*np.sqrt(-2*math.log(rand.uniform(0,1)))     \n",
    "            z2 =  b*(math.sin(z1))+mean\n",
    "            z3 =  b*(math.cos(z1))+mean\n",
    "            box_1.append(z2)\n",
    "            noise = array[i] + z2\n",
    "            random_vls.append(noise)\n",
    "            it = 1\n",
    "            i = i + 1\n",
    "        else:\n",
    "            it = 0\n",
    "            box_2.append(z3)\n",
    "            noise = array[i] + z3\n",
    "            random_vls.append(noise)\n",
    "            i= i + 1\n",
    "    return random_vls,box_1,box_2"
   ]
  },
  {
   "cell_type": "code",
   "execution_count": 18,
   "metadata": {},
   "outputs": [],
   "source": [
    "random_vals = []\n",
    "random_vals,b1,b2 = box_muller(x_save2,std_dev,_mean)\n",
    "noise_data= {'Noise_x':random_vals}\n",
    "noise_df= pd.DataFrame(noise_data)\n",
    "noise_df.to_csv(\"Noise_x.csv\")"
   ]
  },
  {
   "cell_type": "markdown",
   "metadata": {},
   "source": [
    "## Noise plot"
   ]
  },
  {
   "cell_type": "code",
   "execution_count": 19,
   "metadata": {},
   "outputs": [
    {
     "data": {
      "image/png": "[encoded data removed]",
      "text/plain": [
       "<Figure size 432x288 with 1 Axes>"
      ]
     },
     "metadata": {
      "needs_background": "light"
     },
     "output_type": "display_data"
    }
   ],
   "source": [
    "y = random_vals\n",
    "x = t_save2\n",
    "plt.plot(x,y,\"b\") #actual\n",
    "plt.show()"
   ]
  },
  {
   "cell_type": "markdown",
   "metadata": {},
   "source": [
    "## Proof that numbers generated fall within a gaussian distribution"
   ]
  },
  {
   "cell_type": "code",
   "execution_count": 20,
   "metadata": {},
   "outputs": [
    {
     "data": {
      "text/plain": [
       "<matplotlib.axes._subplots.AxesSubplot at 0x2259cc59b08>"
      ]
     },
     "execution_count": 20,
     "metadata": {},
     "output_type": "execute_result"
    },
    {
     "data": {
      "image/png": "[encoded data removed]",
      "text/plain": [
       "<Figure size 432x288 with 1 Axes>"
      ]
     },
     "metadata": {
      "needs_background": "light"
     },
     "output_type": "display_data"
    }
   ],
   "source": [
    "sns.distplot(b1)"
   ]
  },
  {
   "cell_type": "code",
   "execution_count": 21,
   "metadata": {},
   "outputs": [
    {
     "data": {
      "text/plain": [
       "<matplotlib.axes._subplots.AxesSubplot at 0x2259cf37448>"
      ]
     },
     "execution_count": 21,
     "metadata": {},
     "output_type": "execute_result"
    },
    {
     "data": {
      "image/png": "[encoded data removed]",
      "text/plain": [
       "<Figure size 432x288 with 1 Axes>"
      ]
     },
     "metadata": {
      "needs_background": "light"
     },
     "output_type": "display_data"
    }
   ],
   "source": [
    "sns.distplot(b2)"
   ]
  },
  {
   "cell_type": "code",
   "execution_count": 22,
   "metadata": {},
   "outputs": [
    {
     "data": {
      "text/plain": [
       "<matplotlib.axes._subplots.AxesSubplot at 0x2259cfb8688>"
      ]
     },
     "execution_count": 22,
     "metadata": {},
     "output_type": "execute_result"
    },
    {
     "data": {
      "image/png": "[encoded data removed]",
      "text/plain": [
       "<Figure size 432x288 with 1 Axes>"
      ]
     },
     "metadata": {
      "needs_background": "light"
     },
     "output_type": "display_data"
    }
   ],
   "source": [
    "sns.distplot(random_vals)"
   ]
  },
  {
   "cell_type": "markdown",
   "metadata": {},
   "source": [
    "# Part 3: Adding an intelligent agent to track the noise"
   ]
  },
  {
   "cell_type": "markdown",
   "metadata": {},
   "source": [
    "## Sigmoid Activation"
   ]
  },
  {
   "cell_type": "code",
   "execution_count": 23,
   "metadata": {},
   "outputs": [],
   "source": [
    "def sigmoid_activation(val):\n",
    "  sigmoid = 1/1+np.exp(-val)#sigmoid activation function\n",
    "  return sigmoid\n",
    "\n",
    "def train_weights3(array, lr, loops):\n",
    "    weights3 = [1,rand.uniform(0,1),rand.uniform(0,1),rand.uniform(0,1)]#weights initialisation\n",
    "    weights3_1 = []         #save weights\n",
    "    itr_array = []          #saves number of epochs done\n",
    "    sum_error_array = []    #saves sum_error generated per epoch\n",
    "    Accuracy_array = []\n",
    "    Accuracy_out = []\n",
    "    for loop in range(loops):               #for each epoch in epochs\n",
    "        net_array = []                      #saves network predictions\n",
    "        error_array = []                    #saves error\n",
    "        sum_error = 0.0                     #a variable that keeps track of error generated\n",
    "        c = 0                               #counter for initialising\n",
    "        w_adaptor = 0                       #used to iterate through saved weights in order to update them\n",
    "        if loop < 1:                        #if its less than one epoch, create new weights and append them to an array\n",
    "            for a in array:                 #for each input in input array\n",
    "                weights3_1.append([weights3[0],weights3[1],weights3[2],weights3[3]])  #append new weights to empty weight array\n",
    "                prediction, netwrk_sum = predict3(a,weights3)                         #predict function for sigmoid network\n",
    "                if c == 0:\n",
    "                    Target = a[2]\n",
    "                    #print(1)\n",
    "                elif c==1:\n",
    "                    Target = a[1]\n",
    "                else:\n",
    "                    Target = a[0]\n",
    "                delta = Target - prediction  #calculate error of the prediction\n",
    "                error = delta\n",
    "                Accuracy = accuracy(Target, prediction)\n",
    "                Accuracy_array.append(Accuracy)\n",
    "                error_array.append(error)    #save error\n",
    "                net_array.append(prediction) #save network\n",
    "                #------------------------WEIGHTS UPDATED BY CORRESPONDING CURRENT ERROR AND INPUT----------------------------------\n",
    "                weights3_change_bias = -a[0] *lr*(error)         #calculate weight change for bias\n",
    "                weights3[0] = weights3[0] + weights3_change_bias #add weight change calculated to current bias\n",
    "                weights3_change= -a[0]*(error)*lr                #calculate weight change for input weights\n",
    "                for i in range(len(a)):                          #iterate over every input weight\n",
    "                    weights3[i + 1] = weights3[i +1] + weights3_change     #update each input weight\n",
    "                sum_error += error**2                            #calculate sum error\n",
    "                c = c + 1                                        #increase counter\n",
    "            Average_accuracy = np.average(Accuracy_array)\n",
    "            Accuracy_out.append(Average_accuracy)\n",
    "            #Average_accuracy = int(sum(Accuracy_array))/len(Accuracy_array)\n",
    "            print('>epoch=%d, lrate=%.3f, error=%.3f,sum_error=%.3f,accuracy=%.3f' % (loop, lr, error, sum_error,Average_accuracy))\n",
    "            sum_error_array.append(sum_error)                    #append sum_error\n",
    "            itr_array.append(loop)                                #append iteration\n",
    "        else:\n",
    "            for a in array:\n",
    "                prediction, netwrk_sum = predict3(a,weights3_1[w_adaptor]) #calculate prediction based on created weights\n",
    "                if c == 0:\n",
    "                    Target = a[2]\n",
    "                    #print(1)\n",
    "                elif c==1:\n",
    "                    Target = a[1]\n",
    "                else:\n",
    "                    Target = a[0]\n",
    "                delta = Target - prediction        #calculate error change\n",
    "                error = delta \n",
    "                Accuracy = accuracy(Target, prediction)\n",
    "                #print(\"Accuracy\",Accuracy)\n",
    "                Accuracy_array[c] = Accuracy\n",
    "                error_array.append(error)          #append error\n",
    "                net_array.append(prediction)       #append network prediction \n",
    "                #------------------------WEIGHTS UPDATED BY CORRESPONDING CURRENT ERROR AND INPUT----------------------------------\n",
    "                weights3_change_bias = -a[0] *lr*(error) #calculate weight change for bias\n",
    "                weights3_1[w_adaptor][0] = weights3_1[w_adaptor][0] + weights3_change_bias #add weight change to current bias\n",
    "                weights3_change= -a[0]*(error)*lr  #calculate weight change\n",
    "                for i in range(len(a)):            #iterate through each input\n",
    "                     weights3_1[w_adaptor][i + 1] =  weights3_1[w_adaptor][i +1] + weights3_change #for each input weight add weight change\n",
    "                sum_error += error**2          #calculate error squared\n",
    "                c = c + 1                      #increment counter\n",
    "                w_adaptor = w_adaptor + 1      #increment weight adaptor\n",
    "            Average_accuracy = np.average(Accuracy_array)\n",
    "            Accuracy_out.append(Average_accuracy)\n",
    "            #Average_accuracy = int(sum(Accuracy_array))/len(Accuracy_array)\n",
    "            print('>epoch=%d, lrate=%.3f, error=%.3f,sum_error=%.3f,accuracy=%.3f' % (loop, lr, error, sum_error,Average_accuracy))\n",
    "            sum_error_array.append(sum_error)  #append error\n",
    "            itr_array.append(loop)             #append iteration\n",
    "    return net_array,error_array,weights3_1,sum_error_array,itr_array,Accuracy_out\n",
    "            \n",
    "def predict3(noise2,weights2):\n",
    "    net_sum = 0\n",
    "    net_sum = weights2[0] #obtain bias from weight array\n",
    "    for i in range(len(noise2)-1):\n",
    "        net_sum += weights2[i + 1] * noise2[i] #multiply input by respective weight to obtain a summation\n",
    "    activation2 = sigmoid_activation(net_sum)  #implement sigmoid function to summation obtained\n",
    "    return activation2, net_sum                #return activation and network sum\n",
    "\n",
    "def triple_converter(array):                   #converts input into a tuple so that we can pass 3 input weights per prediction\n",
    "    triple_array = []\n",
    "    c = 0                                      #counter\n",
    "    while c < len(array):\n",
    "        if c == 0:\n",
    "            triple_array.append([0,0,array[c]])\n",
    "        elif c == 1:\n",
    "            triple_array.append([0,array[c],array[c-1]])\n",
    "        else:\n",
    "            triple_array.append([array[c],array[c-1],array[c-2]])\n",
    "        c = c + 1                              #increment counter\n",
    "    return triple_array\n",
    "\n",
    "\n",
    "##----------------------------------------ACCURACY CALCULATOR--------------------------------------##\n",
    "def accuracy(Target, Predicted):\n",
    "    Expected = abs(Target - Predicted)\n",
    "    Example = Target - Expected\n",
    "    result = Example/Target * 100\n",
    "    return result\n"
   ]
  },
  {
   "cell_type": "markdown",
   "metadata": {},
   "source": [
    "## Step function activation"
   ]
  },
  {
   "cell_type": "code",
   "execution_count": 59,
   "metadata": {},
   "outputs": [],
   "source": [
    "##--------------------------------SINGLE PERCEPTRON-----------------------------------------------##\n",
    "def predict_step(noise1,weights1):\n",
    "    net_sum = 0                                #net_sum initialise\n",
    "    out = 0                                    #initialise output of step function\n",
    "    net_sum = weights1[0]                      #grab bias from weights and set as current net_sum \n",
    "    for i in range(len(noise1)-1):             #for every input\n",
    "        net_sum += weights1[i + 1] * noise1[i] #multiply each input to weight and add result to netsum\n",
    "    if net_sum > 1: #if netsum is greater than 1                        \n",
    "        out = 1     #set output of step to 1\n",
    "    else:           #else\n",
    "        out = 0     #set output to 0\n",
    "    return out      #return output\n",
    "\n",
    "def train_weights_step(array, lr, loops):\n",
    "    weights3 = [1,rand.uniform(0,1),rand.uniform(0,1),rand.uniform(0,1)] #initialise weights\n",
    "    weights3_1 = []             #append/save created weights\n",
    "    itr_array = []\n",
    "    sum_error_array = []\n",
    "    for loop in range(loops):   #for each epoch in epochs\n",
    "        net_array = []          #append network values\n",
    "        error_array = []        #append error array\n",
    "        sum_error = 0.0         #keep track of sum_error\n",
    "        c = 0                   #counter variable\n",
    "        w_adaptor = 0           #weight counter(used to iterate through each value in weights array)\n",
    "        if loop < 1:            #if its less than one epoch, create new weights and append them to an array\n",
    "            for a in array:     #for each input in array input\n",
    "                weights3_1.append([weights3[0],weights3[1],weights3[2],weights3[3]]) #append weights created\n",
    "                prediction = predict_step(a,weights3)                                #grab weights created and predict\n",
    "                if c == 0:\n",
    "                    Target = a[2]\n",
    "                    #print(1)\n",
    "                elif c==1:\n",
    "                    Target = a[1]\n",
    "                else:\n",
    "                    Target = a[0]\n",
    "                delta = Target - prediction      #calculate error\n",
    "                error = delta\n",
    "                error_array.append(error)        #append error\n",
    "                net_array.append(prediction)\n",
    "                #------------------------WEIGHTS UPDATED BY CORRESPONDING CURRENT ERROR AND INPUT----------------------------------\n",
    "                weights3_change_bias = -a[0]*lr*error           #calculate weight change for bias\n",
    "                weights3[0] = weights3[0] + weights3_change_bias#add calculated weight change to bias\n",
    "                weights3_change= -a[0]*lr*error                 #calculate weight change for inputs\n",
    "                for i in range(len(a)):                         #for each input in input array\n",
    "                    weights3[i + 1] = weights3[i +1] + weights3_change #obtain respective weight and add it with the weight change\n",
    "                sum_error += error**2            #calculate sum_error\n",
    "                c = c + 1                        #increment counter\n",
    "            sum_error_array.append(sum_error)\n",
    "            itr_array.append(loop)\n",
    "            print('>epoch=%d, lrate=%.3f, error=%.3f, , sum_error=%.3f' % (loop, lr, error, sum_error))\n",
    "        else:                               #if epoch is > 1\n",
    "            for a in array:                 #for each input in input array\n",
    "                prediction = predict_step(a,weights3_1[w_adaptor]) #calculate predictions using weights from previous epoch\n",
    "                if c == 0:\n",
    "                    Target = a[2]\n",
    "                elif c==1:\n",
    "                    Target = a[1]\n",
    "                else:\n",
    "                    Target = a[0]\n",
    "                delta = prediction - Target #calculate error\n",
    "                error = delta\n",
    "                error_array.append(error)   #append error\n",
    "                net_array.append(prediction)#append predictions\n",
    "                #------------------------WEIGHTS UPDATED BY CORRESPONDING CURRENT ERROR AND INPUT----------------------------------\n",
    "            \n",
    "                weights3_change_bias = -a[0] *lr*(error) #calulate weight change for bias\n",
    "                weights3_1[w_adaptor][0] = weights3_1[w_adaptor][0] + weights3_change_bias #update bias weight in the saved weights array\n",
    "                weights3_change= -a[0]*(error)*lr       #calculate weight change for weights in input\n",
    "                for i in range(len(a)):                 #for each input in input array\n",
    "                     weights3_1[w_adaptor][i + 1] =  weights3_1[w_adaptor][i +1] + weights3_change #update respective weights in weights array\n",
    "                sum_error += error**2                   #calculate sum_error\n",
    "                c = c + 1                               #increment counter\n",
    "                w_adaptor = w_adaptor + 1               #increment weight counter\n",
    "            itr_array.append(loop)\n",
    "            sum_error_array.append(sum_error)\n",
    "            print('>epoch=%d, lrate=%.3f, error=%.3f, , sum_error=%.3f' % (loop, lr, error, sum_error))\n",
    "    return net_array,sum_error_array,weights3_1,itr_array"
   ]
  },
  {
   "cell_type": "markdown",
   "metadata": {},
   "source": [
    "# Implement weights function(sigmoid)"
   ]
  },
  {
   "cell_type": "code",
   "execution_count": 60,
   "metadata": {},
   "outputs": [],
   "source": [
    "def implement_weights3(array,weights):\n",
    "    net_array = []\n",
    "    error_array = []\n",
    "    sum_error = 0.0\n",
    "    w_adaptor = 0\n",
    "    for a in array: #loop through each input in array\n",
    "        prediction, netwrk_sum = predict3(a,weights[w_adaptor]) #grab saved weight and predict\n",
    "        net_array.append(prediction)   #append prediction\n",
    "        Target = a[0]                  #current input\n",
    "        error = Target - prediction    #error calculation\n",
    "        error_array.append(error)      #append error\n",
    "        sum_error += error**2          #calculate sum_error\n",
    "        w_adaptor = w_adaptor + 1      #increment weight counter\n",
    "    print('>error=%.3f,sum_error=%.3f' % (error, sum_error))\n",
    "    return net_array,sum_error\n",
    "            \n",
    "def predict3(noise2,weights2):\n",
    "    net_sum = 0\n",
    "    net_sum = weights2[0]\n",
    "    for i in range(len(noise2)-1):\n",
    "        net_sum += weights2[i + 1] * noise2[i]\n",
    "    activation2 = sigmoid_activation(net_sum)\n",
    "    return activation2, net_sum\n",
    "#x_save2"
   ]
  },
  {
   "cell_type": "markdown",
   "metadata": {},
   "source": [
    "## Train network using sigmoid"
   ]
  },
  {
   "cell_type": "code",
   "execution_count": 93,
   "metadata": {},
   "outputs": [
    {
     "name": "stdout",
     "output_type": "stream",
     "text": [
      ">epoch=0, lrate=0.010, error=-0.030,sum_error=35.970,accuracy=85.128\n",
      ">epoch=1, lrate=0.010, error=-0.030,sum_error=35.970,accuracy=85.128\n",
      ">epoch=2, lrate=0.010, error=-0.008,sum_error=31.974,accuracy=86.241\n",
      ">epoch=3, lrate=0.010, error=-0.002,sum_error=28.660,accuracy=87.172\n",
      ">epoch=4, lrate=0.010, error=-0.001,sum_error=25.810,accuracy=87.994\n",
      ">epoch=5, lrate=0.010, error=-0.000,sum_error=23.298,accuracy=88.739\n",
      ">epoch=6, lrate=0.010, error=-0.000,sum_error=21.044,accuracy=89.424\n",
      ">epoch=7, lrate=0.010, error=-0.000,sum_error=18.997,accuracy=90.058\n",
      ">epoch=8, lrate=0.010, error=-0.000,sum_error=17.125,accuracy=90.650\n",
      ">epoch=9, lrate=0.010, error=-0.000,sum_error=15.408,accuracy=91.204\n",
      ">epoch=10, lrate=0.010, error=-0.000,sum_error=13.833,accuracy=91.723\n",
      ">epoch=11, lrate=0.010, error=-0.000,sum_error=12.390,accuracy=92.211\n",
      ">epoch=12, lrate=0.010, error=-0.000,sum_error=11.073,accuracy=92.670\n",
      ">epoch=13, lrate=0.010, error=-0.000,sum_error=9.874,accuracy=93.102\n",
      ">epoch=14, lrate=0.010, error=-0.000,sum_error=8.787,accuracy=93.507\n",
      ">epoch=15, lrate=0.010, error=-0.000,sum_error=7.808,accuracy=93.887\n",
      ">epoch=16, lrate=0.010, error=-0.000,sum_error=6.930,accuracy=94.243\n",
      ">epoch=17, lrate=0.010, error=-0.000,sum_error=6.147,accuracy=94.576\n",
      ">epoch=18, lrate=0.010, error=-0.000,sum_error=5.454,accuracy=94.886\n",
      ">epoch=19, lrate=0.010, error=-0.000,sum_error=4.843,accuracy=95.176\n",
      ">epoch=20, lrate=0.010, error=-0.000,sum_error=4.308,accuracy=95.445\n",
      ">epoch=21, lrate=0.010, error=-0.000,sum_error=3.841,accuracy=95.694\n",
      ">epoch=22, lrate=0.010, error=-0.000,sum_error=3.435,accuracy=95.926\n",
      ">epoch=23, lrate=0.010, error=-0.000,sum_error=3.084,accuracy=96.140\n",
      ">epoch=24, lrate=0.010, error=-0.000,sum_error=2.780,accuracy=96.337\n",
      ">epoch=25, lrate=0.010, error=-0.000,sum_error=2.516,accuracy=96.520\n",
      ">epoch=26, lrate=0.010, error=-0.000,sum_error=2.288,accuracy=96.689\n",
      ">epoch=27, lrate=0.010, error=-0.000,sum_error=2.089,accuracy=96.844\n",
      ">epoch=28, lrate=0.010, error=0.000,sum_error=1.916,accuracy=96.988\n",
      ">epoch=29, lrate=0.010, error=0.000,sum_error=1.763,accuracy=97.122\n",
      ">epoch=30, lrate=0.010, error=0.000,sum_error=1.629,accuracy=97.245\n",
      ">epoch=31, lrate=0.010, error=0.000,sum_error=1.510,accuracy=97.359\n",
      ">epoch=32, lrate=0.010, error=0.000,sum_error=1.404,accuracy=97.466\n",
      ">epoch=33, lrate=0.010, error=0.000,sum_error=1.309,accuracy=97.565\n",
      ">epoch=34, lrate=0.010, error=0.000,sum_error=1.224,accuracy=97.658\n",
      ">epoch=35, lrate=0.010, error=0.000,sum_error=1.146,accuracy=97.744\n",
      ">epoch=36, lrate=0.010, error=0.000,sum_error=1.076,accuracy=97.825\n",
      ">epoch=37, lrate=0.010, error=0.000,sum_error=1.013,accuracy=97.902\n",
      ">epoch=38, lrate=0.010, error=0.000,sum_error=0.955,accuracy=97.973\n",
      ">epoch=39, lrate=0.010, error=0.000,sum_error=0.902,accuracy=98.041\n",
      ">epoch=40, lrate=0.010, error=0.000,sum_error=0.853,accuracy=98.105\n",
      ">epoch=41, lrate=0.010, error=0.000,sum_error=0.808,accuracy=98.165\n",
      ">epoch=42, lrate=0.010, error=0.000,sum_error=0.767,accuracy=98.222\n",
      ">epoch=43, lrate=0.010, error=0.000,sum_error=0.729,accuracy=98.277\n",
      ">epoch=44, lrate=0.010, error=0.000,sum_error=0.694,accuracy=98.328\n",
      ">epoch=45, lrate=0.010, error=0.000,sum_error=0.662,accuracy=98.377\n",
      ">epoch=46, lrate=0.010, error=0.000,sum_error=0.632,accuracy=98.424\n",
      ">epoch=47, lrate=0.010, error=0.000,sum_error=0.605,accuracy=98.469\n",
      ">epoch=48, lrate=0.010, error=0.000,sum_error=0.579,accuracy=98.511\n",
      ">epoch=49, lrate=0.010, error=0.000,sum_error=0.556,accuracy=98.552\n",
      ">epoch=50, lrate=0.010, error=0.000,sum_error=0.534,accuracy=98.591\n",
      ">epoch=51, lrate=0.010, error=0.000,sum_error=0.513,accuracy=98.628\n",
      ">epoch=52, lrate=0.010, error=0.000,sum_error=0.494,accuracy=98.663\n",
      ">epoch=53, lrate=0.010, error=0.000,sum_error=0.477,accuracy=98.698\n",
      ">epoch=54, lrate=0.010, error=0.000,sum_error=0.461,accuracy=98.730\n",
      ">epoch=55, lrate=0.010, error=0.000,sum_error=0.445,accuracy=98.761\n",
      ">epoch=56, lrate=0.010, error=0.000,sum_error=0.431,accuracy=98.791\n",
      ">epoch=57, lrate=0.010, error=0.000,sum_error=0.418,accuracy=98.820\n",
      ">epoch=58, lrate=0.010, error=0.000,sum_error=0.406,accuracy=98.848\n",
      ">epoch=59, lrate=0.010, error=0.000,sum_error=0.394,accuracy=98.874\n",
      ">epoch=60, lrate=0.010, error=0.000,sum_error=0.383,accuracy=98.900\n",
      ">epoch=61, lrate=0.010, error=0.000,sum_error=0.373,accuracy=98.925\n",
      ">epoch=62, lrate=0.010, error=0.000,sum_error=0.364,accuracy=98.948\n",
      ">epoch=63, lrate=0.010, error=0.000,sum_error=0.355,accuracy=98.971\n",
      ">epoch=64, lrate=0.010, error=0.000,sum_error=0.346,accuracy=98.993\n",
      ">epoch=65, lrate=0.010, error=0.000,sum_error=0.338,accuracy=99.014\n",
      ">epoch=66, lrate=0.010, error=0.000,sum_error=0.331,accuracy=99.034\n",
      ">epoch=67, lrate=0.010, error=0.000,sum_error=0.324,accuracy=99.053\n",
      ">epoch=68, lrate=0.010, error=0.000,sum_error=0.318,accuracy=99.072\n",
      ">epoch=69, lrate=0.010, error=0.000,sum_error=0.312,accuracy=99.090\n",
      ">epoch=70, lrate=0.010, error=0.000,sum_error=0.306,accuracy=99.108\n",
      ">epoch=71, lrate=0.010, error=0.000,sum_error=0.300,accuracy=99.125\n",
      ">epoch=72, lrate=0.010, error=0.000,sum_error=0.295,accuracy=99.141\n",
      ">epoch=73, lrate=0.010, error=0.000,sum_error=0.290,accuracy=99.157\n",
      ">epoch=74, lrate=0.010, error=0.000,sum_error=0.286,accuracy=99.172\n",
      ">epoch=75, lrate=0.010, error=0.000,sum_error=0.281,accuracy=99.186\n",
      ">epoch=76, lrate=0.010, error=0.000,sum_error=0.277,accuracy=99.201\n",
      ">epoch=77, lrate=0.010, error=0.000,sum_error=0.273,accuracy=99.214\n",
      ">epoch=78, lrate=0.010, error=0.000,sum_error=0.270,accuracy=99.227\n",
      ">epoch=79, lrate=0.010, error=0.000,sum_error=0.266,accuracy=99.240\n",
      ">epoch=80, lrate=0.010, error=0.000,sum_error=0.263,accuracy=99.252\n",
      ">epoch=81, lrate=0.010, error=0.000,sum_error=0.260,accuracy=99.264\n",
      ">epoch=82, lrate=0.010, error=0.000,sum_error=0.257,accuracy=99.276\n",
      ">epoch=83, lrate=0.010, error=0.000,sum_error=0.254,accuracy=99.287\n",
      ">epoch=84, lrate=0.010, error=0.000,sum_error=0.252,accuracy=99.297\n",
      ">epoch=85, lrate=0.010, error=0.000,sum_error=0.249,accuracy=99.308\n",
      ">epoch=86, lrate=0.010, error=0.000,sum_error=0.247,accuracy=99.318\n",
      ">epoch=87, lrate=0.010, error=0.000,sum_error=0.244,accuracy=99.328\n",
      ">epoch=88, lrate=0.010, error=0.000,sum_error=0.242,accuracy=99.337\n",
      ">epoch=89, lrate=0.010, error=0.000,sum_error=0.240,accuracy=99.346\n",
      ">epoch=90, lrate=0.010, error=0.000,sum_error=0.238,accuracy=99.355\n",
      ">epoch=91, lrate=0.010, error=0.000,sum_error=0.237,accuracy=99.363\n",
      ">epoch=92, lrate=0.010, error=0.000,sum_error=0.235,accuracy=99.372\n",
      ">epoch=93, lrate=0.010, error=0.000,sum_error=0.233,accuracy=99.380\n",
      ">epoch=94, lrate=0.010, error=0.000,sum_error=0.232,accuracy=99.387\n",
      ">epoch=95, lrate=0.010, error=0.000,sum_error=0.230,accuracy=99.395\n",
      ">epoch=96, lrate=0.010, error=0.000,sum_error=0.229,accuracy=99.402\n",
      ">epoch=97, lrate=0.010, error=0.000,sum_error=0.227,accuracy=99.409\n",
      ">epoch=98, lrate=0.010, error=0.000,sum_error=0.226,accuracy=99.416\n",
      ">epoch=99, lrate=0.010, error=0.000,sum_error=0.225,accuracy=99.423\n"
     ]
    }
   ],
   "source": [
    "dat1 = triple_converter(random_vals)\n",
    "values,e,w,test,itrArray,accuracy_array = train_weights3(dat1, 0.01,100)\n",
    "#0.006531\n",
    "\n",
    "#save to dataframe\n",
    "data6= {'Noise_values':dat1,'Output of Perceptron':values,'Error':e,'T':t_save2}\n",
    "df6= pd.DataFrame(data6)"
   ]
  },
  {
   "cell_type": "markdown",
   "metadata": {},
   "source": [
    "## Implementation during training"
   ]
  },
  {
   "cell_type": "code",
   "execution_count": 94,
   "metadata": {},
   "outputs": [
    {
     "data": {
      "image/png": "[encoded data removed]",
      "text/plain": [
       "<Figure size 432x288 with 1 Axes>"
      ]
     },
     "metadata": {
      "needs_background": "light"
     },
     "output_type": "display_data"
    }
   ],
   "source": [
    "y_axis = values #network output\n",
    "y = random_vals\n",
    "x_axis = x = t_save2\n",
    "plt.plot(x,y,\"y\") #actual\n",
    "plt.plot(x_axis,y_axis,\"b\")#noise\n",
    "plt.show()"
   ]
  },
  {
   "cell_type": "markdown",
   "metadata": {},
   "source": [
    "## Weights implementation on unseen but similar data"
   ]
  },
  {
   "cell_type": "code",
   "execution_count": 95,
   "metadata": {},
   "outputs": [
    {
     "name": "stdout",
     "output_type": "stream",
     "text": [
      ">error=-0.093,sum_error=22.502\n"
     ]
    }
   ],
   "source": [
    "dat1 = triple_converter(x_save2)\n",
    "net_array,sum_error_array = implement_weights3(dat1,w) #use trained weights(w) on unseen data\n",
    "weights_data= {'Weights_data':w}\n",
    "weights_df= pd.DataFrame(weights_data)\n",
    "weights_df.to_csv(\"Sigmoid_Network_weights.csv\")"
   ]
  },
  {
   "cell_type": "markdown",
   "metadata": {},
   "source": [
    "## Network ouput on unseen data(blue)"
   ]
  },
  {
   "cell_type": "code",
   "execution_count": 96,
   "metadata": {},
   "outputs": [
    {
     "data": {
      "image/png": "[encoded data removed]",
      "text/plain": [
       "<Figure size 432x288 with 1 Axes>"
      ]
     },
     "metadata": {
      "needs_background": "light"
     },
     "output_type": "display_data"
    }
   ],
   "source": [
    "y_axis = net_array #network output\n",
    "y = x_save2\n",
    "x_axis = x = t_save2\n",
    "plt.plot(x,y,\"y\") #actual\n",
    "plt.plot(x_axis,y_axis,\"b\")#noise\n",
    "plt.show()"
   ]
  },
  {
   "cell_type": "markdown",
   "metadata": {},
   "source": [
    "### Error plot per iteration"
   ]
  },
  {
   "cell_type": "code",
   "execution_count": 97,
   "metadata": {},
   "outputs": [
    {
     "data": {
      "image/png": "[encoded data removed]",
      "text/plain": [
       "<Figure size 432x288 with 1 Axes>"
      ]
     },
     "metadata": {
      "needs_background": "light"
     },
     "output_type": "display_data"
    }
   ],
   "source": [
    "error_dataframe = {'Error':test,'Epochs':itrArray}\n",
    "error_df = pd.DataFrame(error_dataframe)\n",
    "error_plt = sns.lineplot(x=\"Epochs\", y=\"Error\", data=error_df) #blue"
   ]
  },
  {
   "cell_type": "markdown",
   "metadata": {},
   "source": [
    "## Accuracy plot"
   ]
  },
  {
   "cell_type": "code",
   "execution_count": 66,
   "metadata": {},
   "outputs": [
    {
     "data": {
      "text/plain": [
       "100"
      ]
     },
     "execution_count": 66,
     "metadata": {},
     "output_type": "execute_result"
    }
   ],
   "source": [
    "len(test)"
   ]
  },
  {
   "cell_type": "code",
   "execution_count": 67,
   "metadata": {},
   "outputs": [
    {
     "data": {
      "image/png": "[encoded data removed]",
      "text/plain": [
       "<Figure size 432x288 with 1 Axes>"
      ]
     },
     "metadata": {
      "needs_background": "light"
     },
     "output_type": "display_data"
    }
   ],
   "source": [
    "error_dataframe = {'Accuracy':accuracy_array,'Epochs':itrArray}\n",
    "error_df = pd.DataFrame(error_dataframe)\n",
    "error_plt = sns.lineplot(x=\"Epochs\", y=\"Accuracy\", data=error_df) #blue"
   ]
  },
  {
   "cell_type": "markdown",
   "metadata": {},
   "source": [
    "## Dataframe containing noise values, trained values and error"
   ]
  },
  {
   "cell_type": "code",
   "execution_count": 35,
   "metadata": {},
   "outputs": [
    {
     "data": {
      "text/html": [
       "<div>\n",
       "<style scoped>\n",
       "    .dataframe tbody tr th:only-of-type {\n",
       "        vertical-align: middle;\n",
       "    }\n",
       "\n",
       "    .dataframe tbody tr th {\n",
       "        vertical-align: top;\n",
       "    }\n",
       "\n",
       "    .dataframe thead th {\n",
       "        text-align: right;\n",
       "    }\n",
       "</style>\n",
       "<table border=\"1\" class=\"dataframe\">\n",
       "  <thead>\n",
       "    <tr style=\"text-align: right;\">\n",
       "      <th></th>\n",
       "      <th>Noise_values</th>\n",
       "      <th>Output of Perceptron</th>\n",
       "      <th>Error</th>\n",
       "      <th>T</th>\n",
       "    </tr>\n",
       "  </thead>\n",
       "  <tbody>\n",
       "    <tr>\n",
       "      <td>0</td>\n",
       "      <td>[0, 0, 0.924409186156801]</td>\n",
       "      <td>1.367879</td>\n",
       "      <td>-4.434703e-01</td>\n",
       "      <td>0.1</td>\n",
       "    </tr>\n",
       "    <tr>\n",
       "      <td>1</td>\n",
       "      <td>[0, 1.1310974868565908, 0.924409186156801]</td>\n",
       "      <td>1.360912</td>\n",
       "      <td>-2.298141e-01</td>\n",
       "      <td>0.2</td>\n",
       "    </tr>\n",
       "    <tr>\n",
       "      <td>2</td>\n",
       "      <td>[1.43967016875339, 1.1310974868565908, 0.92440...</td>\n",
       "      <td>1.325819</td>\n",
       "      <td>1.138514e-01</td>\n",
       "      <td>0.3</td>\n",
       "    </tr>\n",
       "    <tr>\n",
       "      <td>3</td>\n",
       "      <td>[1.5828204436092332, 1.43967016875339, 1.13109...</td>\n",
       "      <td>1.513971</td>\n",
       "      <td>6.884905e-02</td>\n",
       "      <td>0.4</td>\n",
       "    </tr>\n",
       "    <tr>\n",
       "      <td>4</td>\n",
       "      <td>[1.7135188372843648, 1.5828204436092332, 1.439...</td>\n",
       "      <td>1.686602</td>\n",
       "      <td>2.691669e-02</td>\n",
       "      <td>0.5</td>\n",
       "    </tr>\n",
       "    <tr>\n",
       "      <td>...</td>\n",
       "      <td>...</td>\n",
       "      <td>...</td>\n",
       "      <td>...</td>\n",
       "      <td>...</td>\n",
       "    </tr>\n",
       "    <tr>\n",
       "      <td>145</td>\n",
       "      <td>[3.5191919059732926, 3.551741103318215, 3.5186...</td>\n",
       "      <td>3.519192</td>\n",
       "      <td>0.000000e+00</td>\n",
       "      <td>14.6</td>\n",
       "    </tr>\n",
       "    <tr>\n",
       "      <td>146</td>\n",
       "      <td>[3.4538446705277637, 3.5191919059732926, 3.551...</td>\n",
       "      <td>3.453845</td>\n",
       "      <td>4.440892e-16</td>\n",
       "      <td>14.7</td>\n",
       "    </tr>\n",
       "    <tr>\n",
       "      <td>147</td>\n",
       "      <td>[3.486324342941476, 3.4538446705277637, 3.5191...</td>\n",
       "      <td>3.486324</td>\n",
       "      <td>4.440892e-16</td>\n",
       "      <td>14.8</td>\n",
       "    </tr>\n",
       "    <tr>\n",
       "      <td>148</td>\n",
       "      <td>[3.557197374199208, 3.486324342941476, 3.45384...</td>\n",
       "      <td>3.557197</td>\n",
       "      <td>0.000000e+00</td>\n",
       "      <td>14.9</td>\n",
       "    </tr>\n",
       "    <tr>\n",
       "      <td>149</td>\n",
       "      <td>[3.5156441598937507, 3.557197374199208, 3.4863...</td>\n",
       "      <td>3.515644</td>\n",
       "      <td>0.000000e+00</td>\n",
       "      <td>15.0</td>\n",
       "    </tr>\n",
       "  </tbody>\n",
       "</table>\n",
       "<p>150 rows × 4 columns</p>\n",
       "</div>"
      ],
      "text/plain": [
       "                                          Noise_values  Output of Perceptron  \\\n",
       "0                            [0, 0, 0.924409186156801]              1.367879   \n",
       "1           [0, 1.1310974868565908, 0.924409186156801]              1.360912   \n",
       "2    [1.43967016875339, 1.1310974868565908, 0.92440...              1.325819   \n",
       "3    [1.5828204436092332, 1.43967016875339, 1.13109...              1.513971   \n",
       "4    [1.7135188372843648, 1.5828204436092332, 1.439...              1.686602   \n",
       "..                                                 ...                   ...   \n",
       "145  [3.5191919059732926, 3.551741103318215, 3.5186...              3.519192   \n",
       "146  [3.4538446705277637, 3.5191919059732926, 3.551...              3.453845   \n",
       "147  [3.486324342941476, 3.4538446705277637, 3.5191...              3.486324   \n",
       "148  [3.557197374199208, 3.486324342941476, 3.45384...              3.557197   \n",
       "149  [3.5156441598937507, 3.557197374199208, 3.4863...              3.515644   \n",
       "\n",
       "            Error     T  \n",
       "0   -4.434703e-01   0.1  \n",
       "1   -2.298141e-01   0.2  \n",
       "2    1.138514e-01   0.3  \n",
       "3    6.884905e-02   0.4  \n",
       "4    2.691669e-02   0.5  \n",
       "..            ...   ...  \n",
       "145  0.000000e+00  14.6  \n",
       "146  4.440892e-16  14.7  \n",
       "147  4.440892e-16  14.8  \n",
       "148  0.000000e+00  14.9  \n",
       "149  0.000000e+00  15.0  \n",
       "\n",
       "[150 rows x 4 columns]"
      ]
     },
     "execution_count": 35,
     "metadata": {},
     "output_type": "execute_result"
    }
   ],
   "source": [
    "df6"
   ]
  },
  {
   "cell_type": "markdown",
   "metadata": {},
   "source": [
    "## Train network using step function"
   ]
  },
  {
   "cell_type": "markdown",
   "metadata": {},
   "source": [
    "### First 100 epochs"
   ]
  },
  {
   "cell_type": "code",
   "execution_count": 76,
   "metadata": {},
   "outputs": [
    {
     "name": "stdout",
     "output_type": "stream",
     "text": [
      ">epoch=0, lrate=0.010, error=3.000, , sum_error=552.762\n",
      ">epoch=1, lrate=0.010, error=-3.000, , sum_error=552.762\n",
      ">epoch=2, lrate=0.010, error=-3.000, , sum_error=549.765\n",
      ">epoch=3, lrate=0.010, error=-3.000, , sum_error=546.768\n",
      ">epoch=4, lrate=0.010, error=-3.000, , sum_error=543.770\n",
      ">epoch=5, lrate=0.010, error=-3.000, , sum_error=540.772\n",
      ">epoch=6, lrate=0.010, error=-3.000, , sum_error=537.774\n",
      ">epoch=7, lrate=0.010, error=-3.000, , sum_error=534.775\n",
      ">epoch=8, lrate=0.010, error=-3.000, , sum_error=531.776\n",
      ">epoch=9, lrate=0.010, error=-3.000, , sum_error=528.777\n",
      ">epoch=10, lrate=0.010, error=-3.000, , sum_error=525.778\n",
      ">epoch=11, lrate=0.010, error=-3.000, , sum_error=522.778\n",
      ">epoch=12, lrate=0.010, error=-3.000, , sum_error=519.779\n",
      ">epoch=13, lrate=0.010, error=-3.000, , sum_error=516.779\n",
      ">epoch=14, lrate=0.010, error=-3.000, , sum_error=513.779\n",
      ">epoch=15, lrate=0.010, error=-3.000, , sum_error=510.779\n",
      ">epoch=16, lrate=0.010, error=-3.000, , sum_error=507.780\n",
      ">epoch=17, lrate=0.010, error=-3.000, , sum_error=504.780\n",
      ">epoch=18, lrate=0.010, error=-3.000, , sum_error=504.780\n",
      ">epoch=19, lrate=0.010, error=-3.000, , sum_error=504.780\n",
      ">epoch=20, lrate=0.010, error=-3.000, , sum_error=504.780\n",
      ">epoch=21, lrate=0.010, error=-3.000, , sum_error=502.112\n",
      ">epoch=22, lrate=0.010, error=-3.000, , sum_error=502.112\n",
      ">epoch=23, lrate=0.010, error=-3.000, , sum_error=502.112\n",
      ">epoch=24, lrate=0.010, error=-3.000, , sum_error=479.931\n",
      ">epoch=25, lrate=0.010, error=-3.000, , sum_error=466.460\n",
      ">epoch=26, lrate=0.010, error=-3.000, , sum_error=459.294\n",
      ">epoch=27, lrate=0.010, error=-3.000, , sum_error=445.801\n",
      ">epoch=28, lrate=0.010, error=-3.000, , sum_error=440.909\n",
      ">epoch=29, lrate=0.010, error=-3.000, , sum_error=432.483\n",
      ">epoch=30, lrate=0.010, error=-3.000, , sum_error=427.555\n",
      ">epoch=31, lrate=0.010, error=-3.000, , sum_error=422.614\n",
      ">epoch=32, lrate=0.010, error=-3.000, , sum_error=415.548\n",
      ">epoch=33, lrate=0.010, error=-3.000, , sum_error=402.439\n",
      ">epoch=34, lrate=0.010, error=-3.000, , sum_error=397.465\n",
      ">epoch=35, lrate=0.010, error=-3.000, , sum_error=392.486\n",
      ">epoch=36, lrate=0.010, error=-3.000, , sum_error=387.504\n",
      ">epoch=37, lrate=0.010, error=-3.000, , sum_error=382.518\n",
      ">epoch=38, lrate=0.010, error=-3.000, , sum_error=375.620\n",
      ">epoch=39, lrate=0.010, error=-3.000, , sum_error=367.856\n",
      ">epoch=40, lrate=0.010, error=-3.000, , sum_error=362.864\n",
      ">epoch=41, lrate=0.010, error=-3.000, , sum_error=357.870\n",
      ">epoch=42, lrate=0.010, error=-3.000, , sum_error=352.875\n",
      ">epoch=43, lrate=0.010, error=-3.000, , sum_error=347.880\n",
      ">epoch=44, lrate=0.010, error=-3.000, , sum_error=341.140\n",
      ">epoch=45, lrate=0.010, error=-3.000, , sum_error=336.143\n",
      ">epoch=46, lrate=0.010, error=-3.000, , sum_error=331.145\n",
      ">epoch=47, lrate=0.010, error=-3.000, , sum_error=326.147\n",
      ">epoch=48, lrate=0.010, error=-3.000, , sum_error=321.148\n",
      ">epoch=49, lrate=0.010, error=-3.000, , sum_error=316.150\n",
      ">epoch=50, lrate=0.010, error=-3.000, , sum_error=309.544\n",
      ">epoch=51, lrate=0.010, error=-3.000, , sum_error=302.269\n",
      ">epoch=52, lrate=0.010, error=-3.000, , sum_error=297.270\n",
      ">epoch=53, lrate=0.010, error=-3.000, , sum_error=292.271\n",
      ">epoch=54, lrate=0.010, error=-3.000, , sum_error=287.271\n",
      ">epoch=55, lrate=0.010, error=-3.000, , sum_error=282.271\n",
      ">epoch=56, lrate=0.010, error=-3.000, , sum_error=275.776\n",
      ">epoch=57, lrate=0.010, error=-3.000, , sum_error=270.776\n",
      ">epoch=58, lrate=0.010, error=-3.000, , sum_error=265.776\n",
      ">epoch=59, lrate=0.010, error=-2.000, , sum_error=260.776\n",
      ">epoch=60, lrate=0.010, error=-2.000, , sum_error=260.776\n",
      ">epoch=61, lrate=0.010, error=-2.000, , sum_error=259.371\n",
      ">epoch=62, lrate=0.010, error=-2.000, , sum_error=259.371\n",
      ">epoch=63, lrate=0.010, error=-2.000, , sum_error=259.371\n",
      ">epoch=64, lrate=0.010, error=-2.000, , sum_error=259.371\n",
      ">epoch=65, lrate=0.010, error=-2.000, , sum_error=259.371\n",
      ">epoch=66, lrate=0.010, error=-2.000, , sum_error=259.371\n",
      ">epoch=67, lrate=0.010, error=-2.000, , sum_error=258.040\n",
      ">epoch=68, lrate=0.010, error=-2.000, , sum_error=258.040\n",
      ">epoch=69, lrate=0.010, error=-2.000, , sum_error=258.040\n",
      ">epoch=70, lrate=0.010, error=-2.000, , sum_error=258.040\n",
      ">epoch=71, lrate=0.010, error=-2.000, , sum_error=256.769\n",
      ">epoch=72, lrate=0.010, error=-2.000, , sum_error=256.769\n",
      ">epoch=73, lrate=0.010, error=-2.000, , sum_error=256.769\n",
      ">epoch=74, lrate=0.010, error=-2.000, , sum_error=256.769\n",
      ">epoch=75, lrate=0.010, error=-2.000, , sum_error=256.769\n",
      ">epoch=76, lrate=0.010, error=-2.000, , sum_error=255.548\n",
      ">epoch=77, lrate=0.010, error=-2.000, , sum_error=253.883\n",
      ">epoch=78, lrate=0.010, error=-2.000, , sum_error=253.883\n",
      ">epoch=79, lrate=0.010, error=-2.000, , sum_error=253.883\n",
      ">epoch=80, lrate=0.010, error=-2.000, , sum_error=252.702\n",
      ">epoch=81, lrate=0.010, error=-2.000, , sum_error=252.702\n",
      ">epoch=82, lrate=0.010, error=-2.000, , sum_error=252.702\n",
      ">epoch=83, lrate=0.010, error=-2.000, , sum_error=252.702\n",
      ">epoch=84, lrate=0.010, error=-2.000, , sum_error=251.554\n",
      ">epoch=85, lrate=0.010, error=-2.000, , sum_error=251.554\n",
      ">epoch=86, lrate=0.010, error=-2.000, , sum_error=251.554\n",
      ">epoch=87, lrate=0.010, error=-2.000, , sum_error=250.434\n",
      ">epoch=88, lrate=0.010, error=-2.000, , sum_error=250.434\n",
      ">epoch=89, lrate=0.010, error=-2.000, , sum_error=250.434\n",
      ">epoch=90, lrate=0.010, error=-2.000, , sum_error=249.335\n",
      ">epoch=91, lrate=0.010, error=-2.000, , sum_error=249.335\n",
      ">epoch=92, lrate=0.010, error=-2.000, , sum_error=249.335\n",
      ">epoch=93, lrate=0.010, error=-2.000, , sum_error=248.255\n",
      ">epoch=94, lrate=0.010, error=-2.000, , sum_error=248.255\n",
      ">epoch=95, lrate=0.010, error=-2.000, , sum_error=247.189\n",
      ">epoch=96, lrate=0.010, error=-2.000, , sum_error=247.189\n",
      ">epoch=97, lrate=0.010, error=-2.000, , sum_error=246.135\n",
      ">epoch=98, lrate=0.010, error=-2.000, , sum_error=246.135\n",
      ">epoch=99, lrate=0.010, error=-2.000, , sum_error=245.091\n"
     ]
    }
   ],
   "source": [
    "values1,error_step,weights_step,itr, = train_weights_step(dat1, 0.01,100)\n",
    "weights_data= {'Weights_data':weights_step}\n",
    "weights_df= pd.DataFrame(weights_data)\n",
    "weights_df.to_csv(\"Step_Network_weights.csv\")"
   ]
  },
  {
   "cell_type": "code",
   "execution_count": 77,
   "metadata": {},
   "outputs": [
    {
     "data": {
      "image/png": "[encoded data removed]",
      "text/plain": [
       "<Figure size 432x288 with 1 Axes>"
      ]
     },
     "metadata": {
      "needs_background": "light"
     },
     "output_type": "display_data"
    }
   ],
   "source": [
    "\n",
    "y_axis = random_vals #network output\n",
    "y = values1\n",
    "x_axis = x = t_save2\n",
    "plt.plot(x,y,\"y\") #robot\n",
    "plt.plot(x_axis,y_axis,\"b\")#tracker\n",
    "plt.show()\n"
   ]
  },
  {
   "cell_type": "code",
   "execution_count": 78,
   "metadata": {},
   "outputs": [
    {
     "data": {
      "text/plain": [
       "100"
      ]
     },
     "execution_count": 78,
     "metadata": {},
     "output_type": "execute_result"
    }
   ],
   "source": [
    "len(itr)"
   ]
  },
  {
   "cell_type": "code",
   "execution_count": 79,
   "metadata": {},
   "outputs": [
    {
     "data": {
      "image/png": "[encoded data removed]",
      "text/plain": [
       "<Figure size 432x288 with 1 Axes>"
      ]
     },
     "metadata": {
      "needs_background": "light"
     },
     "output_type": "display_data"
    }
   ],
   "source": [
    "x = itr\n",
    "y = error_step\n",
    "error_dataframe = {'Error':y,'Epochs':x}\n",
    "error_df = pd.DataFrame(error_dataframe)\n",
    "error_plt = sns.lineplot(x=\"Epochs\", y=\"Error\", data=error_df) #blue"
   ]
  },
  {
   "cell_type": "markdown",
   "metadata": {},
   "source": [
    "### First 200 epochs"
   ]
  },
  {
   "cell_type": "code",
   "execution_count": 85,
   "metadata": {},
   "outputs": [
    {
     "name": "stdout",
     "output_type": "stream",
     "text": [
      ">epoch=0, lrate=0.010, error=3.000, , sum_error=546.768\n",
      ">epoch=1, lrate=0.010, error=-3.000, , sum_error=546.768\n",
      ">epoch=2, lrate=0.010, error=-3.000, , sum_error=543.770\n",
      ">epoch=3, lrate=0.010, error=-3.000, , sum_error=540.772\n",
      ">epoch=4, lrate=0.010, error=-3.000, , sum_error=537.774\n",
      ">epoch=5, lrate=0.010, error=-3.000, , sum_error=534.775\n",
      ">epoch=6, lrate=0.010, error=-3.000, , sum_error=531.776\n",
      ">epoch=7, lrate=0.010, error=-3.000, , sum_error=528.777\n",
      ">epoch=8, lrate=0.010, error=-3.000, , sum_error=525.778\n",
      ">epoch=9, lrate=0.010, error=-3.000, , sum_error=522.778\n",
      ">epoch=10, lrate=0.010, error=-3.000, , sum_error=519.779\n",
      ">epoch=11, lrate=0.010, error=-3.000, , sum_error=516.779\n",
      ">epoch=12, lrate=0.010, error=-3.000, , sum_error=513.779\n",
      ">epoch=13, lrate=0.010, error=-3.000, , sum_error=510.779\n",
      ">epoch=14, lrate=0.010, error=-3.000, , sum_error=507.780\n",
      ">epoch=15, lrate=0.010, error=-3.000, , sum_error=504.780\n",
      ">epoch=16, lrate=0.010, error=-3.000, , sum_error=504.780\n",
      ">epoch=17, lrate=0.010, error=-3.000, , sum_error=504.780\n",
      ">epoch=18, lrate=0.010, error=-3.000, , sum_error=504.780\n",
      ">epoch=19, lrate=0.010, error=-3.000, , sum_error=502.112\n",
      ">epoch=20, lrate=0.010, error=-3.000, , sum_error=502.112\n",
      ">epoch=21, lrate=0.010, error=-3.000, , sum_error=502.112\n",
      ">epoch=22, lrate=0.010, error=-3.000, , sum_error=502.112\n",
      ">epoch=23, lrate=0.010, error=-3.000, , sum_error=479.931\n",
      ">epoch=24, lrate=0.010, error=-3.000, , sum_error=464.097\n",
      ">epoch=25, lrate=0.010, error=-3.000, , sum_error=455.509\n",
      ">epoch=26, lrate=0.010, error=-3.000, , sum_error=445.801\n",
      ">epoch=27, lrate=0.010, error=-3.000, , sum_error=437.395\n",
      ">epoch=28, lrate=0.010, error=-3.000, , sum_error=432.483\n",
      ">epoch=29, lrate=0.010, error=-3.000, , sum_error=425.442\n",
      ">epoch=30, lrate=0.010, error=-3.000, , sum_error=417.320\n",
      ">epoch=31, lrate=0.010, error=-3.000, , sum_error=412.368\n",
      ">epoch=32, lrate=0.010, error=-3.000, , sum_error=402.439\n",
      ">epoch=33, lrate=0.010, error=-3.000, , sum_error=397.465\n",
      ">epoch=34, lrate=0.010, error=-3.000, , sum_error=390.577\n",
      ">epoch=35, lrate=0.010, error=-3.000, , sum_error=385.594\n",
      ">epoch=36, lrate=0.010, error=-3.000, , sum_error=377.835\n",
      ">epoch=37, lrate=0.010, error=-3.000, , sum_error=372.846\n",
      ">epoch=38, lrate=0.010, error=-3.000, , sum_error=367.856\n",
      ">epoch=39, lrate=0.010, error=-3.000, , sum_error=362.864\n",
      ">epoch=40, lrate=0.010, error=-3.000, , sum_error=356.127\n",
      ">epoch=41, lrate=0.010, error=-3.000, , sum_error=351.132\n",
      ">epoch=42, lrate=0.010, error=-3.000, , sum_error=346.136\n",
      ">epoch=43, lrate=0.010, error=-3.000, , sum_error=341.140\n",
      ">epoch=44, lrate=0.010, error=-3.000, , sum_error=336.143\n",
      ">epoch=45, lrate=0.010, error=-3.000, , sum_error=329.538\n",
      ">epoch=46, lrate=0.010, error=-3.000, , sum_error=324.540\n",
      ">epoch=47, lrate=0.010, error=-3.000, , sum_error=317.266\n",
      ">epoch=48, lrate=0.010, error=-3.000, , sum_error=312.267\n",
      ">epoch=49, lrate=0.010, error=-3.000, , sum_error=307.268\n",
      ">epoch=50, lrate=0.010, error=-3.000, , sum_error=302.269\n",
      ">epoch=51, lrate=0.010, error=-3.000, , sum_error=295.774\n",
      ">epoch=52, lrate=0.010, error=-3.000, , sum_error=290.774\n",
      ">epoch=53, lrate=0.010, error=-3.000, , sum_error=285.775\n",
      ">epoch=54, lrate=0.010, error=-3.000, , sum_error=280.775\n",
      ">epoch=55, lrate=0.010, error=-3.000, , sum_error=275.776\n",
      ">epoch=56, lrate=0.010, error=-3.000, , sum_error=269.370\n",
      ">epoch=57, lrate=0.010, error=-3.000, , sum_error=264.371\n",
      ">epoch=58, lrate=0.010, error=-2.000, , sum_error=259.371\n",
      ">epoch=59, lrate=0.010, error=-2.000, , sum_error=259.371\n",
      ">epoch=60, lrate=0.010, error=-2.000, , sum_error=259.371\n",
      ">epoch=61, lrate=0.010, error=-2.000, , sum_error=258.040\n",
      ">epoch=62, lrate=0.010, error=-2.000, , sum_error=258.040\n",
      ">epoch=63, lrate=0.010, error=-2.000, , sum_error=258.040\n",
      ">epoch=64, lrate=0.010, error=-2.000, , sum_error=258.040\n",
      ">epoch=65, lrate=0.010, error=-2.000, , sum_error=258.040\n",
      ">epoch=66, lrate=0.010, error=-2.000, , sum_error=256.769\n",
      ">epoch=67, lrate=0.010, error=-2.000, , sum_error=256.769\n",
      ">epoch=68, lrate=0.010, error=-2.000, , sum_error=256.769\n",
      ">epoch=69, lrate=0.010, error=-2.000, , sum_error=256.769\n",
      ">epoch=70, lrate=0.010, error=-2.000, , sum_error=255.548\n",
      ">epoch=71, lrate=0.010, error=-2.000, , sum_error=253.883\n",
      ">epoch=72, lrate=0.010, error=-2.000, , sum_error=253.883\n",
      ">epoch=73, lrate=0.010, error=-2.000, , sum_error=253.883\n",
      ">epoch=74, lrate=0.010, error=-2.000, , sum_error=252.702\n",
      ">epoch=75, lrate=0.010, error=-2.000, , sum_error=252.702\n",
      ">epoch=76, lrate=0.010, error=-2.000, , sum_error=252.702\n",
      ">epoch=77, lrate=0.010, error=-2.000, , sum_error=251.554\n",
      ">epoch=78, lrate=0.010, error=-2.000, , sum_error=251.554\n",
      ">epoch=79, lrate=0.010, error=-2.000, , sum_error=251.554\n",
      ">epoch=80, lrate=0.010, error=-2.000, , sum_error=250.434\n",
      ">epoch=81, lrate=0.010, error=-2.000, , sum_error=250.434\n",
      ">epoch=82, lrate=0.010, error=-2.000, , sum_error=250.434\n",
      ">epoch=83, lrate=0.010, error=-2.000, , sum_error=249.335\n",
      ">epoch=84, lrate=0.010, error=-2.000, , sum_error=249.335\n",
      ">epoch=85, lrate=0.010, error=-2.000, , sum_error=249.335\n",
      ">epoch=86, lrate=0.010, error=-2.000, , sum_error=248.255\n",
      ">epoch=87, lrate=0.010, error=-2.000, , sum_error=248.255\n",
      ">epoch=88, lrate=0.010, error=-2.000, , sum_error=247.189\n",
      ">epoch=89, lrate=0.010, error=-2.000, , sum_error=247.189\n",
      ">epoch=90, lrate=0.010, error=-2.000, , sum_error=246.135\n",
      ">epoch=91, lrate=0.010, error=-2.000, , sum_error=246.135\n",
      ">epoch=92, lrate=0.010, error=-2.000, , sum_error=245.091\n",
      ">epoch=93, lrate=0.010, error=-2.000, , sum_error=245.091\n",
      ">epoch=94, lrate=0.010, error=-2.000, , sum_error=244.055\n",
      ">epoch=95, lrate=0.010, error=-2.000, , sum_error=243.026\n",
      ">epoch=96, lrate=0.010, error=-2.000, , sum_error=243.026\n",
      ">epoch=97, lrate=0.010, error=-2.000, , sum_error=242.002\n",
      ">epoch=98, lrate=0.010, error=-2.000, , sum_error=240.983\n",
      ">epoch=99, lrate=0.010, error=-2.000, , sum_error=240.983\n",
      ">epoch=100, lrate=0.010, error=-2.000, , sum_error=239.967\n",
      ">epoch=101, lrate=0.010, error=-2.000, , sum_error=238.953\n",
      ">epoch=102, lrate=0.010, error=-2.000, , sum_error=237.943\n",
      ">epoch=103, lrate=0.010, error=-2.000, , sum_error=236.934\n",
      ">epoch=104, lrate=0.010, error=-2.000, , sum_error=236.934\n",
      ">epoch=105, lrate=0.010, error=-2.000, , sum_error=235.927\n",
      ">epoch=106, lrate=0.010, error=-2.000, , sum_error=234.921\n",
      ">epoch=107, lrate=0.010, error=-2.000, , sum_error=233.916\n",
      ">epoch=108, lrate=0.010, error=-2.000, , sum_error=232.912\n",
      ">epoch=109, lrate=0.010, error=-2.000, , sum_error=231.909\n",
      ">epoch=110, lrate=0.010, error=-2.000, , sum_error=230.907\n",
      ">epoch=111, lrate=0.010, error=-2.000, , sum_error=229.905\n",
      ">epoch=112, lrate=0.010, error=-2.000, , sum_error=228.903\n",
      ">epoch=113, lrate=0.010, error=-2.000, , sum_error=227.901\n",
      ">epoch=114, lrate=0.010, error=-2.000, , sum_error=226.900\n",
      ">epoch=115, lrate=0.010, error=-2.000, , sum_error=225.899\n",
      ">epoch=116, lrate=0.010, error=-2.000, , sum_error=224.899\n",
      ">epoch=117, lrate=0.010, error=-2.000, , sum_error=223.898\n",
      ">epoch=118, lrate=0.010, error=-2.000, , sum_error=222.897\n",
      ">epoch=119, lrate=0.010, error=-2.000, , sum_error=221.897\n",
      ">epoch=120, lrate=0.010, error=-2.000, , sum_error=220.897\n",
      ">epoch=121, lrate=0.010, error=-2.000, , sum_error=219.896\n",
      ">epoch=122, lrate=0.010, error=-2.000, , sum_error=218.896\n",
      ">epoch=123, lrate=0.010, error=-2.000, , sum_error=217.896\n",
      ">epoch=124, lrate=0.010, error=-2.000, , sum_error=216.896\n",
      ">epoch=125, lrate=0.010, error=-2.000, , sum_error=215.896\n",
      ">epoch=126, lrate=0.010, error=-2.000, , sum_error=214.896\n",
      ">epoch=127, lrate=0.010, error=-2.000, , sum_error=213.895\n",
      ">epoch=128, lrate=0.010, error=-2.000, , sum_error=213.895\n",
      ">epoch=129, lrate=0.010, error=-2.000, , sum_error=213.895\n",
      ">epoch=130, lrate=0.010, error=-2.000, , sum_error=213.895\n",
      ">epoch=131, lrate=0.010, error=-2.000, , sum_error=213.895\n",
      ">epoch=132, lrate=0.010, error=-2.000, , sum_error=213.895\n",
      ">epoch=133, lrate=0.010, error=-2.000, , sum_error=213.895\n",
      ">epoch=134, lrate=0.010, error=-2.000, , sum_error=213.895\n",
      ">epoch=135, lrate=0.010, error=-2.000, , sum_error=213.895\n",
      ">epoch=136, lrate=0.010, error=-2.000, , sum_error=213.895\n",
      ">epoch=137, lrate=0.010, error=-2.000, , sum_error=213.895\n",
      ">epoch=138, lrate=0.010, error=-2.000, , sum_error=213.895\n",
      ">epoch=139, lrate=0.010, error=-2.000, , sum_error=213.895\n",
      ">epoch=140, lrate=0.010, error=-2.000, , sum_error=213.895\n",
      ">epoch=141, lrate=0.010, error=-2.000, , sum_error=213.895\n",
      ">epoch=142, lrate=0.010, error=-2.000, , sum_error=213.895\n",
      ">epoch=143, lrate=0.010, error=-2.000, , sum_error=213.895\n",
      ">epoch=144, lrate=0.010, error=-2.000, , sum_error=213.895\n",
      ">epoch=145, lrate=0.010, error=-2.000, , sum_error=213.895\n",
      ">epoch=146, lrate=0.010, error=-2.000, , sum_error=213.895\n",
      ">epoch=147, lrate=0.010, error=-2.000, , sum_error=213.895\n",
      ">epoch=148, lrate=0.010, error=-2.000, , sum_error=213.895\n",
      ">epoch=149, lrate=0.010, error=-2.000, , sum_error=213.895\n",
      ">epoch=150, lrate=0.010, error=-2.000, , sum_error=213.895\n",
      ">epoch=151, lrate=0.010, error=-2.000, , sum_error=213.895\n",
      ">epoch=152, lrate=0.010, error=-2.000, , sum_error=213.895\n",
      ">epoch=153, lrate=0.010, error=-2.000, , sum_error=213.895\n",
      ">epoch=154, lrate=0.010, error=-2.000, , sum_error=213.895\n",
      ">epoch=155, lrate=0.010, error=-2.000, , sum_error=213.895\n",
      ">epoch=156, lrate=0.010, error=-2.000, , sum_error=213.895\n",
      ">epoch=157, lrate=0.010, error=-2.000, , sum_error=213.895\n",
      ">epoch=158, lrate=0.010, error=-2.000, , sum_error=213.895\n",
      ">epoch=159, lrate=0.010, error=-2.000, , sum_error=213.895\n",
      ">epoch=160, lrate=0.010, error=-2.000, , sum_error=213.895\n",
      ">epoch=161, lrate=0.010, error=-2.000, , sum_error=213.895\n",
      ">epoch=162, lrate=0.010, error=-2.000, , sum_error=213.895\n",
      ">epoch=163, lrate=0.010, error=-2.000, , sum_error=213.895\n",
      ">epoch=164, lrate=0.010, error=-2.000, , sum_error=213.895\n",
      ">epoch=165, lrate=0.010, error=-2.000, , sum_error=213.895\n",
      ">epoch=166, lrate=0.010, error=-2.000, , sum_error=213.895\n",
      ">epoch=167, lrate=0.010, error=-2.000, , sum_error=213.895\n",
      ">epoch=168, lrate=0.010, error=-2.000, , sum_error=213.895\n",
      ">epoch=169, lrate=0.010, error=-2.000, , sum_error=213.895\n",
      ">epoch=170, lrate=0.010, error=-2.000, , sum_error=213.895\n",
      ">epoch=171, lrate=0.010, error=-2.000, , sum_error=213.895\n",
      ">epoch=172, lrate=0.010, error=-2.000, , sum_error=213.895\n",
      ">epoch=173, lrate=0.010, error=-2.000, , sum_error=213.895\n",
      ">epoch=174, lrate=0.010, error=-2.000, , sum_error=213.895\n",
      ">epoch=175, lrate=0.010, error=-2.000, , sum_error=213.895\n",
      ">epoch=176, lrate=0.010, error=-2.000, , sum_error=213.895\n",
      ">epoch=177, lrate=0.010, error=-2.000, , sum_error=213.895\n",
      ">epoch=178, lrate=0.010, error=-2.000, , sum_error=213.895\n",
      ">epoch=179, lrate=0.010, error=-2.000, , sum_error=213.895\n",
      ">epoch=180, lrate=0.010, error=-2.000, , sum_error=213.895\n",
      ">epoch=181, lrate=0.010, error=-2.000, , sum_error=213.895\n",
      ">epoch=182, lrate=0.010, error=-2.000, , sum_error=213.895\n",
      ">epoch=183, lrate=0.010, error=-2.000, , sum_error=213.895\n",
      ">epoch=184, lrate=0.010, error=-2.000, , sum_error=213.895\n",
      ">epoch=185, lrate=0.010, error=-2.000, , sum_error=213.895\n",
      ">epoch=186, lrate=0.010, error=-2.000, , sum_error=213.895\n",
      ">epoch=187, lrate=0.010, error=-2.000, , sum_error=213.895\n",
      ">epoch=188, lrate=0.010, error=-2.000, , sum_error=213.895\n",
      ">epoch=189, lrate=0.010, error=-2.000, , sum_error=213.895\n",
      ">epoch=190, lrate=0.010, error=-2.000, , sum_error=213.895\n",
      ">epoch=191, lrate=0.010, error=-2.000, , sum_error=213.895\n",
      ">epoch=192, lrate=0.010, error=-2.000, , sum_error=213.895\n",
      ">epoch=193, lrate=0.010, error=-2.000, , sum_error=213.895\n",
      ">epoch=194, lrate=0.010, error=-2.000, , sum_error=213.895\n",
      ">epoch=195, lrate=0.010, error=-2.000, , sum_error=213.895\n",
      ">epoch=196, lrate=0.010, error=-2.000, , sum_error=213.895\n",
      ">epoch=197, lrate=0.010, error=-2.000, , sum_error=213.895\n",
      ">epoch=198, lrate=0.010, error=-2.000, , sum_error=213.895\n",
      ">epoch=199, lrate=0.010, error=-2.000, , sum_error=213.895\n",
      ">epoch=200, lrate=0.010, error=-2.000, , sum_error=213.895\n",
      ">epoch=201, lrate=0.010, error=-2.000, , sum_error=213.895\n",
      ">epoch=202, lrate=0.010, error=-2.000, , sum_error=213.895\n",
      ">epoch=203, lrate=0.010, error=-2.000, , sum_error=213.895\n",
      ">epoch=204, lrate=0.010, error=-2.000, , sum_error=213.895\n",
      ">epoch=205, lrate=0.010, error=-2.000, , sum_error=213.895\n",
      ">epoch=206, lrate=0.010, error=-2.000, , sum_error=213.895\n",
      ">epoch=207, lrate=0.010, error=-2.000, , sum_error=213.895\n",
      ">epoch=208, lrate=0.010, error=-2.000, , sum_error=213.895\n",
      ">epoch=209, lrate=0.010, error=-2.000, , sum_error=213.895\n",
      ">epoch=210, lrate=0.010, error=-2.000, , sum_error=213.895\n",
      ">epoch=211, lrate=0.010, error=-2.000, , sum_error=213.895\n",
      ">epoch=212, lrate=0.010, error=-2.000, , sum_error=213.895\n",
      ">epoch=213, lrate=0.010, error=-2.000, , sum_error=213.895\n",
      ">epoch=214, lrate=0.010, error=-2.000, , sum_error=213.895\n",
      ">epoch=215, lrate=0.010, error=-2.000, , sum_error=213.895\n",
      ">epoch=216, lrate=0.010, error=-2.000, , sum_error=213.895\n",
      ">epoch=217, lrate=0.010, error=-2.000, , sum_error=213.895\n",
      ">epoch=218, lrate=0.010, error=-2.000, , sum_error=213.895\n",
      ">epoch=219, lrate=0.010, error=-2.000, , sum_error=213.895\n",
      ">epoch=220, lrate=0.010, error=-2.000, , sum_error=213.895\n",
      ">epoch=221, lrate=0.010, error=-2.000, , sum_error=213.895\n",
      ">epoch=222, lrate=0.010, error=-2.000, , sum_error=213.895\n",
      ">epoch=223, lrate=0.010, error=-2.000, , sum_error=213.895\n",
      ">epoch=224, lrate=0.010, error=-2.000, , sum_error=213.895\n",
      ">epoch=225, lrate=0.010, error=-2.000, , sum_error=213.895\n",
      ">epoch=226, lrate=0.010, error=-2.000, , sum_error=213.895\n",
      ">epoch=227, lrate=0.010, error=-2.000, , sum_error=213.895\n",
      ">epoch=228, lrate=0.010, error=-2.000, , sum_error=213.895\n",
      ">epoch=229, lrate=0.010, error=-2.000, , sum_error=213.895\n",
      ">epoch=230, lrate=0.010, error=-2.000, , sum_error=213.895\n",
      ">epoch=231, lrate=0.010, error=-2.000, , sum_error=213.895\n",
      ">epoch=232, lrate=0.010, error=-2.000, , sum_error=213.895\n",
      ">epoch=233, lrate=0.010, error=-2.000, , sum_error=213.895\n",
      ">epoch=234, lrate=0.010, error=-2.000, , sum_error=213.895\n",
      ">epoch=235, lrate=0.010, error=-2.000, , sum_error=213.895\n",
      ">epoch=236, lrate=0.010, error=-2.000, , sum_error=213.895\n",
      ">epoch=237, lrate=0.010, error=-2.000, , sum_error=213.895\n",
      ">epoch=238, lrate=0.010, error=-2.000, , sum_error=213.895\n",
      ">epoch=239, lrate=0.010, error=-2.000, , sum_error=213.895\n",
      ">epoch=240, lrate=0.010, error=-2.000, , sum_error=213.895\n",
      ">epoch=241, lrate=0.010, error=-2.000, , sum_error=213.895\n",
      ">epoch=242, lrate=0.010, error=-2.000, , sum_error=213.895\n",
      ">epoch=243, lrate=0.010, error=-2.000, , sum_error=213.895\n",
      ">epoch=244, lrate=0.010, error=-2.000, , sum_error=213.895\n",
      ">epoch=245, lrate=0.010, error=-2.000, , sum_error=213.895\n",
      ">epoch=246, lrate=0.010, error=-2.000, , sum_error=213.895\n",
      ">epoch=247, lrate=0.010, error=-2.000, , sum_error=213.895\n",
      ">epoch=248, lrate=0.010, error=-2.000, , sum_error=213.895\n",
      ">epoch=249, lrate=0.010, error=-2.000, , sum_error=213.895\n",
      ">epoch=250, lrate=0.010, error=-2.000, , sum_error=213.895\n",
      ">epoch=251, lrate=0.010, error=-2.000, , sum_error=213.895\n",
      ">epoch=252, lrate=0.010, error=-2.000, , sum_error=213.895\n",
      ">epoch=253, lrate=0.010, error=-2.000, , sum_error=213.895\n",
      ">epoch=254, lrate=0.010, error=-2.000, , sum_error=213.895\n",
      ">epoch=255, lrate=0.010, error=-2.000, , sum_error=213.895\n",
      ">epoch=256, lrate=0.010, error=-2.000, , sum_error=213.895\n",
      ">epoch=257, lrate=0.010, error=-2.000, , sum_error=213.895\n",
      ">epoch=258, lrate=0.010, error=-2.000, , sum_error=213.895\n",
      ">epoch=259, lrate=0.010, error=-2.000, , sum_error=213.895\n",
      ">epoch=260, lrate=0.010, error=-2.000, , sum_error=213.895\n",
      ">epoch=261, lrate=0.010, error=-2.000, , sum_error=213.895\n",
      ">epoch=262, lrate=0.010, error=-2.000, , sum_error=213.895\n",
      ">epoch=263, lrate=0.010, error=-2.000, , sum_error=213.895\n",
      ">epoch=264, lrate=0.010, error=-2.000, , sum_error=213.895\n",
      ">epoch=265, lrate=0.010, error=-2.000, , sum_error=213.895\n",
      ">epoch=266, lrate=0.010, error=-2.000, , sum_error=213.895\n",
      ">epoch=267, lrate=0.010, error=-2.000, , sum_error=213.895\n",
      ">epoch=268, lrate=0.010, error=-2.000, , sum_error=213.895\n",
      ">epoch=269, lrate=0.010, error=-2.000, , sum_error=213.895\n",
      ">epoch=270, lrate=0.010, error=-2.000, , sum_error=213.895\n",
      ">epoch=271, lrate=0.010, error=-2.000, , sum_error=213.895\n",
      ">epoch=272, lrate=0.010, error=-2.000, , sum_error=213.895\n",
      ">epoch=273, lrate=0.010, error=-2.000, , sum_error=213.895\n",
      ">epoch=274, lrate=0.010, error=-2.000, , sum_error=213.895\n",
      ">epoch=275, lrate=0.010, error=-2.000, , sum_error=213.895\n",
      ">epoch=276, lrate=0.010, error=-2.000, , sum_error=213.895\n",
      ">epoch=277, lrate=0.010, error=-2.000, , sum_error=213.895\n",
      ">epoch=278, lrate=0.010, error=-2.000, , sum_error=213.895\n",
      ">epoch=279, lrate=0.010, error=-2.000, , sum_error=213.895\n",
      ">epoch=280, lrate=0.010, error=-2.000, , sum_error=213.895\n",
      ">epoch=281, lrate=0.010, error=-2.000, , sum_error=213.895\n",
      ">epoch=282, lrate=0.010, error=-2.000, , sum_error=213.895\n",
      ">epoch=283, lrate=0.010, error=-2.000, , sum_error=213.895\n",
      ">epoch=284, lrate=0.010, error=-2.000, , sum_error=213.895\n",
      ">epoch=285, lrate=0.010, error=-2.000, , sum_error=213.895\n",
      ">epoch=286, lrate=0.010, error=-2.000, , sum_error=213.895\n",
      ">epoch=287, lrate=0.010, error=-2.000, , sum_error=213.895\n",
      ">epoch=288, lrate=0.010, error=-2.000, , sum_error=213.895\n",
      ">epoch=289, lrate=0.010, error=-2.000, , sum_error=213.895\n",
      ">epoch=290, lrate=0.010, error=-2.000, , sum_error=213.895\n",
      ">epoch=291, lrate=0.010, error=-2.000, , sum_error=213.895\n",
      ">epoch=292, lrate=0.010, error=-2.000, , sum_error=213.895\n",
      ">epoch=293, lrate=0.010, error=-2.000, , sum_error=213.895\n",
      ">epoch=294, lrate=0.010, error=-2.000, , sum_error=213.895\n",
      ">epoch=295, lrate=0.010, error=-2.000, , sum_error=213.895\n",
      ">epoch=296, lrate=0.010, error=-2.000, , sum_error=213.895\n",
      ">epoch=297, lrate=0.010, error=-2.000, , sum_error=213.895\n",
      ">epoch=298, lrate=0.010, error=-2.000, , sum_error=213.895\n",
      ">epoch=299, lrate=0.010, error=-2.000, , sum_error=213.895\n"
     ]
    }
   ],
   "source": [
    "values1,error_step,weights_step,itr, = train_weights_step(dat1, 0.01,300)"
   ]
  },
  {
   "cell_type": "code",
   "execution_count": 86,
   "metadata": {},
   "outputs": [
    {
     "data": {
      "image/png": "[encoded data removed]",
      "text/plain": [
       "<Figure size 432x288 with 1 Axes>"
      ]
     },
     "metadata": {
      "needs_background": "light"
     },
     "output_type": "display_data"
    }
   ],
   "source": [
    "y_axis = random_vals #network output\n",
    "y = values1\n",
    "x_axis = x = t_save2\n",
    "plt.plot(x,y,\"y\") #robot\n",
    "plt.plot(x_axis,y_axis,\"b\")#tracker\n",
    "plt.show()"
   ]
  },
  {
   "cell_type": "code",
   "execution_count": 87,
   "metadata": {},
   "outputs": [
    {
     "data": {
      "image/png": "[encoded data removed]",
      "text/plain": [
       "<Figure size 432x288 with 1 Axes>"
      ]
     },
     "metadata": {
      "needs_background": "light"
     },
     "output_type": "display_data"
    }
   ],
   "source": [
    "x = itr\n",
    "y = error_step\n",
    "error_dataframe = {'Error':y,'Epochs':x}\n",
    "error_df = pd.DataFrame(error_dataframe)\n",
    "error_plt = sns.lineplot(x=\"Epochs\", y=\"Error\", data=error_df) #blue"
   ]
  },
  {
   "cell_type": "markdown",
   "metadata": {},
   "source": [
    "# Perceptron model with different learning rates"
   ]
  },
  {
   "cell_type": "markdown",
   "metadata": {},
   "source": [
    "#### Example 1(Learning rate =0.5)"
   ]
  },
  {
   "cell_type": "code",
   "execution_count": 99,
   "metadata": {},
   "outputs": [
    {
     "name": "stdout",
     "output_type": "stream",
     "text": [
      ">epoch=0, lrate=0.500, error=2.485,sum_error=19300143622.639,accuracy=-27008.426\n",
      ">epoch=1, lrate=0.500, error=2.485,sum_error=19300143622.639,accuracy=-27008.426\n",
      ">epoch=2, lrate=0.500, error=2.485,sum_error=19764429064.734,accuracy=-27277.838\n",
      ">epoch=3, lrate=0.500, error=2.485,sum_error=24836354821.772,accuracy=-30546.145\n",
      ">epoch=4, lrate=0.500, error=2.485,sum_error=3831596567310.051,accuracy=-373973.782\n",
      ">epoch=5, lrate=0.500, error=2.485,sum_error=602000349.077,accuracy=-4728.395\n",
      ">epoch=6, lrate=0.500, error=2.485,sum_error=51350586422.279,accuracy=-44028.646\n",
      ">epoch=7, lrate=0.500, error=2.485,sum_error=2592270.606,accuracy=-505.955\n",
      ">epoch=8, lrate=0.500, error=2.485,sum_error=2209101.577,accuracy=-699.595\n",
      ">epoch=9, lrate=0.500, error=2.485,sum_error=7066476793304142839808.000,accuracy=-16807980440.486\n",
      ">epoch=10, lrate=0.500, error=2.485,sum_error=110512002291027066880.000,accuracy=-2119784475.091\n",
      ">epoch=11, lrate=0.500, error=2.485,sum_error=96028.052,accuracy=-56.070\n",
      ">epoch=12, lrate=0.500, error=2.485,sum_error=6475727428694.273,accuracy=-522643.590\n",
      ">epoch=13, lrate=0.500, error=2.485,sum_error=438.724,accuracy=44.678\n",
      ">epoch=14, lrate=0.500, error=2.485,sum_error=850736.671,accuracy=-298.891\n",
      ">epoch=15, lrate=0.500, error=2.485,sum_error=3786838633473974784.000,accuracy=-405998130.217\n",
      ">epoch=16, lrate=0.500, error=2.485,sum_error=399.018,accuracy=45.700\n",
      ">epoch=17, lrate=0.500, error=2.485,sum_error=389.375,accuracy=46.345\n",
      ">epoch=18, lrate=0.500, error=2.485,sum_error=17728.934,accuracy=1.030\n",
      ">epoch=19, lrate=0.500, error=2.485,sum_error=387.295,accuracy=46.613\n",
      ">epoch=20, lrate=0.500, error=2.485,sum_error=2338520.472,accuracy=-395.167\n",
      ">epoch=21, lrate=0.500, error=2.485,sum_error=681113811408.225,accuracy=-192213.242\n",
      ">epoch=22, lrate=0.500, error=2.485,sum_error=32882.369,accuracy=-15.604\n",
      ">epoch=23, lrate=0.500, error=2.485,sum_error=389.042,accuracy=46.447\n",
      ">epoch=24, lrate=0.500, error=2.485,sum_error=424.492,accuracy=44.643\n",
      ">epoch=25, lrate=0.500, error=2.485,sum_error=393.631,accuracy=45.782\n",
      ">epoch=26, lrate=0.500, error=2.485,sum_error=407.320,accuracy=45.531\n",
      ">epoch=27, lrate=0.500, error=2.485,sum_error=388.509,accuracy=46.636\n",
      ">epoch=28, lrate=0.500, error=2.485,sum_error=515.238,accuracy=43.707\n",
      ">epoch=29, lrate=0.500, error=2.485,sum_error=11492.343,accuracy=18.480\n",
      ">epoch=30, lrate=0.500, error=2.485,sum_error=2627.788,accuracy=34.573\n",
      ">epoch=31, lrate=0.500, error=2.485,sum_error=1573.788,accuracy=37.814\n",
      ">epoch=32, lrate=0.500, error=2.485,sum_error=521.159,accuracy=43.093\n",
      ">epoch=33, lrate=0.500, error=2.485,sum_error=13731670.502,accuracy=-795.176\n",
      ">epoch=34, lrate=0.500, error=2.485,sum_error=391.796,accuracy=46.112\n",
      ">epoch=35, lrate=0.500, error=2.485,sum_error=13604.958,accuracy=15.170\n",
      ">epoch=36, lrate=0.500, error=2.485,sum_error=7448.648,accuracy=16.481\n",
      ">epoch=37, lrate=0.500, error=2.485,sum_error=415.484,accuracy=45.015\n",
      ">epoch=38, lrate=0.500, error=2.485,sum_error=389.771,accuracy=46.259\n",
      ">epoch=39, lrate=0.500, error=2.485,sum_error=389.613,accuracy=46.293\n"
     ]
    }
   ],
   "source": [
    "random_vals1 = []\n",
    "random_vals1,_,_ = box_muller(x_save2,std_dev,_mean) #call box muller\n",
    "random_vals_t1 = []\n",
    "random_vals_t1 = triple_converter(random_vals1) #convert input to tuple\n",
    "values1,e1,w1,test1,itrArray1,_ = train_weights3(random_vals_t1, 0.5,40)"
   ]
  },
  {
   "cell_type": "markdown",
   "metadata": {},
   "source": [
    "## Network representation"
   ]
  },
  {
   "cell_type": "code",
   "execution_count": 100,
   "metadata": {},
   "outputs": [
    {
     "data": {
      "image/png": "[encoded data removed]",
      "text/plain": [
       "<Figure size 432x288 with 1 Axes>"
      ]
     },
     "metadata": {
      "needs_background": "light"
     },
     "output_type": "display_data"
    }
   ],
   "source": [
    "y_axis = values1 #network output\n",
    "y = random_vals1 # x noise\n",
    "x_axis = x = t_save2\n",
    "plt.plot(x,y,\"y\") #actual\n",
    "plt.plot(x_axis,y_axis,\"b\")#noise\n",
    "plt.show()"
   ]
  },
  {
   "cell_type": "markdown",
   "metadata": {},
   "source": [
    "## Error representation "
   ]
  },
  {
   "cell_type": "code",
   "execution_count": 101,
   "metadata": {},
   "outputs": [
    {
     "data": {
      "image/png": "[encoded data removed]",
      "text/plain": [
       "<Figure size 432x288 with 1 Axes>"
      ]
     },
     "metadata": {
      "needs_background": "light"
     },
     "output_type": "display_data"
    }
   ],
   "source": [
    "error_dataframe = {'Error':test1,'Epochs':itrArray1}\n",
    "error_df1 = pd.DataFrame(error_dataframe)\n",
    "error_plt = sns.lineplot(x=\"Epochs\", y=\"Error\", data=error_df1) #blue"
   ]
  },
  {
   "cell_type": "markdown",
   "metadata": {},
   "source": [
    "#### Example 2(learning rate = 0.2)"
   ]
  },
  {
   "cell_type": "code",
   "execution_count": 102,
   "metadata": {},
   "outputs": [
    {
     "name": "stdout",
     "output_type": "stream",
     "text": [
      ">epoch=0, lrate=0.200, error=2.525,sum_error=2050634.755,accuracy=-249.575\n",
      ">epoch=1, lrate=0.200, error=2.525,sum_error=2050634.755,accuracy=-249.575\n",
      ">epoch=2, lrate=0.200, error=2.525,sum_error=1670977.190,accuracy=-225.549\n",
      ">epoch=3, lrate=0.200, error=2.525,sum_error=909704.433,accuracy=-153.202\n",
      ">epoch=4, lrate=0.200, error=2.525,sum_error=56361.274,accuracy=0.326\n",
      ">epoch=5, lrate=0.200, error=2.525,sum_error=9865.011,accuracy=29.522\n",
      ">epoch=6, lrate=0.200, error=2.525,sum_error=785.517,accuracy=49.935\n",
      ">epoch=7, lrate=0.200, error=2.525,sum_error=468.623,accuracy=57.741\n",
      ">epoch=8, lrate=0.200, error=2.525,sum_error=1303.484,accuracy=47.369\n",
      ">epoch=9, lrate=0.200, error=2.525,sum_error=524.397,accuracy=53.994\n",
      ">epoch=10, lrate=0.200, error=2.525,sum_error=726.559,accuracy=50.763\n",
      ">epoch=11, lrate=0.200, error=2.525,sum_error=728.035,accuracy=51.572\n",
      ">epoch=12, lrate=0.200, error=2.525,sum_error=408.736,accuracy=59.030\n",
      ">epoch=13, lrate=0.200, error=2.525,sum_error=418.823,accuracy=58.143\n",
      ">epoch=14, lrate=0.200, error=2.525,sum_error=955.803,accuracy=47.275\n",
      ">epoch=15, lrate=0.200, error=2.525,sum_error=691.252,accuracy=51.191\n",
      ">epoch=16, lrate=0.200, error=2.525,sum_error=507.635,accuracy=55.700\n",
      ">epoch=17, lrate=0.200, error=2.525,sum_error=580.617,accuracy=53.000\n",
      ">epoch=18, lrate=0.200, error=2.525,sum_error=562.955,accuracy=55.158\n",
      ">epoch=19, lrate=0.200, error=2.525,sum_error=688.301,accuracy=49.529\n",
      ">epoch=20, lrate=0.200, error=2.525,sum_error=421.291,accuracy=58.772\n",
      ">epoch=21, lrate=0.200, error=2.525,sum_error=467.039,accuracy=56.779\n",
      ">epoch=22, lrate=0.200, error=2.525,sum_error=723.725,accuracy=49.929\n",
      ">epoch=23, lrate=0.200, error=2.525,sum_error=1006.730,accuracy=47.660\n",
      ">epoch=24, lrate=0.200, error=2.525,sum_error=684.779,accuracy=51.306\n",
      ">epoch=25, lrate=0.200, error=2.525,sum_error=747.376,accuracy=49.580\n",
      ">epoch=26, lrate=0.200, error=2.525,sum_error=600.861,accuracy=53.370\n",
      ">epoch=27, lrate=0.200, error=2.525,sum_error=568.603,accuracy=56.289\n",
      ">epoch=28, lrate=0.200, error=2.525,sum_error=429.728,accuracy=59.137\n",
      ">epoch=29, lrate=0.200, error=2.525,sum_error=1273.062,accuracy=45.827\n",
      ">epoch=30, lrate=0.200, error=2.525,sum_error=701.482,accuracy=52.240\n",
      ">epoch=31, lrate=0.200, error=2.525,sum_error=482.623,accuracy=57.656\n",
      ">epoch=32, lrate=0.200, error=2.525,sum_error=801.779,accuracy=46.813\n",
      ">epoch=33, lrate=0.200, error=2.525,sum_error=497.328,accuracy=56.099\n",
      ">epoch=34, lrate=0.200, error=2.525,sum_error=548.265,accuracy=55.765\n",
      ">epoch=35, lrate=0.200, error=2.525,sum_error=1147.149,accuracy=44.794\n",
      ">epoch=36, lrate=0.200, error=2.525,sum_error=665.460,accuracy=54.449\n",
      ">epoch=37, lrate=0.200, error=2.525,sum_error=605.005,accuracy=53.523\n",
      ">epoch=38, lrate=0.200, error=2.525,sum_error=819.557,accuracy=47.804\n",
      ">epoch=39, lrate=0.200, error=2.525,sum_error=560.643,accuracy=54.444\n"
     ]
    }
   ],
   "source": [
    "random_vals2 = []\n",
    "random_vals2,_,_ = box_muller(x_save2,std_dev,_mean)\n",
    "random_vals_t2 =[]\n",
    "random_vals_t2 = triple_converter(random_vals2)\n",
    "values1,e1,w1,test1,itrArray1,_ = train_weights3(random_vals_t2, 0.2,40)"
   ]
  },
  {
   "cell_type": "markdown",
   "metadata": {},
   "source": [
    "## Network Representation"
   ]
  },
  {
   "cell_type": "code",
   "execution_count": 103,
   "metadata": {},
   "outputs": [
    {
     "data": {
      "image/png": "[encoded data removed]",
      "text/plain": [
       "<Figure size 432x288 with 1 Axes>"
      ]
     },
     "metadata": {
      "needs_background": "light"
     },
     "output_type": "display_data"
    }
   ],
   "source": [
    "y_axis = values1 #network output\n",
    "y = random_vals2 # x noise\n",
    "x_axis = x = t_save2\n",
    "plt.plot(x,y,\"y\") #actual\n",
    "plt.plot(x_axis,y_axis,\"b\")#noise\n",
    "plt.show()"
   ]
  },
  {
   "cell_type": "markdown",
   "metadata": {},
   "source": [
    "## Error representation"
   ]
  },
  {
   "cell_type": "code",
   "execution_count": 104,
   "metadata": {},
   "outputs": [
    {
     "data": {
      "image/png": "[encoded data removed]",
      "text/plain": [
       "<Figure size 432x288 with 1 Axes>"
      ]
     },
     "metadata": {
      "needs_background": "light"
     },
     "output_type": "display_data"
    }
   ],
   "source": [
    "error_dataframe = {'Error':test1,'Epochs':itrArray1}\n",
    "error_df1 = pd.DataFrame(error_dataframe)\n",
    "error_plt = sns.lineplot(x=\"Epochs\", y=\"Error\", data=error_df1) #blue"
   ]
  },
  {
   "cell_type": "markdown",
   "metadata": {},
   "source": [
    "#### Example 3(Learning rate = 0.01)"
   ]
  },
  {
   "cell_type": "code",
   "execution_count": 105,
   "metadata": {},
   "outputs": [
    {
     "name": "stdout",
     "output_type": "stream",
     "text": [
      ">epoch=0, lrate=0.010, error=0.004,sum_error=15.426,accuracy=89.739\n",
      ">epoch=1, lrate=0.010, error=0.004,sum_error=15.426,accuracy=89.739\n",
      ">epoch=2, lrate=0.010, error=0.001,sum_error=12.576,accuracy=90.836\n",
      ">epoch=3, lrate=0.010, error=0.000,sum_error=10.446,accuracy=91.666\n",
      ">epoch=4, lrate=0.010, error=0.000,sum_error=8.770,accuracy=92.355\n",
      ">epoch=5, lrate=0.010, error=0.000,sum_error=7.418,accuracy=92.952\n",
      ">epoch=6, lrate=0.010, error=0.000,sum_error=6.308,accuracy=93.479\n",
      ">epoch=7, lrate=0.010, error=0.000,sum_error=5.387,accuracy=93.949\n",
      ">epoch=8, lrate=0.010, error=0.000,sum_error=4.618,accuracy=94.372\n",
      ">epoch=9, lrate=0.010, error=0.000,sum_error=3.974,accuracy=94.753\n",
      ">epoch=10, lrate=0.010, error=0.000,sum_error=3.433,accuracy=95.099\n",
      ">epoch=11, lrate=0.010, error=0.000,sum_error=2.977,accuracy=95.411\n",
      ">epoch=12, lrate=0.010, error=0.000,sum_error=2.593,accuracy=95.695\n",
      ">epoch=13, lrate=0.010, error=0.000,sum_error=2.269,accuracy=95.954\n",
      ">epoch=14, lrate=0.010, error=0.000,sum_error=1.995,accuracy=96.189\n",
      ">epoch=15, lrate=0.010, error=0.000,sum_error=1.762,accuracy=96.404\n",
      ">epoch=16, lrate=0.010, error=0.000,sum_error=1.566,accuracy=96.600\n",
      ">epoch=17, lrate=0.010, error=0.000,sum_error=1.398,accuracy=96.780\n",
      ">epoch=18, lrate=0.010, error=0.000,sum_error=1.255,accuracy=96.945\n",
      ">epoch=19, lrate=0.010, error=0.000,sum_error=1.133,accuracy=97.096\n",
      ">epoch=20, lrate=0.010, error=0.000,sum_error=1.029,accuracy=97.235\n",
      ">epoch=21, lrate=0.010, error=0.000,sum_error=0.940,accuracy=97.363\n",
      ">epoch=22, lrate=0.010, error=0.000,sum_error=0.862,accuracy=97.481\n",
      ">epoch=23, lrate=0.010, error=0.000,sum_error=0.796,accuracy=97.591\n",
      ">epoch=24, lrate=0.010, error=0.000,sum_error=0.738,accuracy=97.692\n",
      ">epoch=25, lrate=0.010, error=0.000,sum_error=0.688,accuracy=97.786\n",
      ">epoch=26, lrate=0.010, error=0.000,sum_error=0.644,accuracy=97.874\n",
      ">epoch=27, lrate=0.010, error=0.000,sum_error=0.605,accuracy=97.955\n",
      ">epoch=28, lrate=0.010, error=0.000,sum_error=0.572,accuracy=98.031\n",
      ">epoch=29, lrate=0.010, error=0.000,sum_error=0.542,accuracy=98.103\n",
      ">epoch=30, lrate=0.010, error=0.000,sum_error=0.515,accuracy=98.169\n",
      ">epoch=31, lrate=0.010, error=0.000,sum_error=0.492,accuracy=98.231\n",
      ">epoch=32, lrate=0.010, error=0.000,sum_error=0.471,accuracy=98.290\n",
      ">epoch=33, lrate=0.010, error=0.000,sum_error=0.452,accuracy=98.345\n",
      ">epoch=34, lrate=0.010, error=0.000,sum_error=0.435,accuracy=98.397\n",
      ">epoch=35, lrate=0.010, error=0.000,sum_error=0.420,accuracy=98.446\n",
      ">epoch=36, lrate=0.010, error=0.000,sum_error=0.406,accuracy=98.493\n",
      ">epoch=37, lrate=0.010, error=0.000,sum_error=0.394,accuracy=98.536\n",
      ">epoch=38, lrate=0.010, error=0.000,sum_error=0.382,accuracy=98.578\n",
      ">epoch=39, lrate=0.010, error=0.000,sum_error=0.372,accuracy=98.617\n"
     ]
    }
   ],
   "source": [
    "random_vals2 = []\n",
    "random_vals2,_,_ = box_muller(x_save2,std_dev,_mean)\n",
    "random_vals_t2 =[]\n",
    "random_vals_t2 = triple_converter(random_vals2)\n",
    "values1,e1,w1,test1,itrArray1,_= train_weights3(random_vals_t2, 0.01,40)"
   ]
  },
  {
   "cell_type": "markdown",
   "metadata": {},
   "source": [
    "## Network Representation"
   ]
  },
  {
   "cell_type": "code",
   "execution_count": 106,
   "metadata": {},
   "outputs": [
    {
     "data": {
      "image/png": "[encoded data removed]",
      "text/plain": [
       "<Figure size 432x288 with 1 Axes>"
      ]
     },
     "metadata": {
      "needs_background": "light"
     },
     "output_type": "display_data"
    }
   ],
   "source": [
    "y_axis = values1 #network output\n",
    "y = random_vals2 # x noise\n",
    "x_axis = x = t_save2\n",
    "plt.plot(x,y,\"y\") #actual\n",
    "plt.plot(x_axis,y_axis,\"b\")#noise\n",
    "plt.show()"
   ]
  },
  {
   "cell_type": "markdown",
   "metadata": {},
   "source": [
    "## Error representation"
   ]
  },
  {
   "cell_type": "code",
   "execution_count": 107,
   "metadata": {},
   "outputs": [
    {
     "data": {
      "image/png": "[encoded data removed]",
      "text/plain": [
       "<Figure size 432x288 with 1 Axes>"
      ]
     },
     "metadata": {
      "needs_background": "light"
     },
     "output_type": "display_data"
    }
   ],
   "source": [
    "error_dataframe = {'Error':test1,'Epochs':itrArray1}\n",
    "error_df1 = pd.DataFrame(error_dataframe)\n",
    "error_plt = sns.lineplot(x=\"Epochs\", y=\"Error\", data=error_df1) #blue"
   ]
  },
  {
   "cell_type": "code",
   "execution_count": null,
   "metadata": {},
   "outputs": [],
   "source": []
  },
  {
   "cell_type": "code",
   "execution_count": null,
   "metadata": {},
   "outputs": [],
   "source": []
  },
  {
   "cell_type": "code",
   "execution_count": null,
   "metadata": {},
   "outputs": [],
   "source": []
  },
  {
   "cell_type": "code",
   "execution_count": null,
   "metadata": {},
   "outputs": [],
   "source": []
  },
  {
   "cell_type": "code",
   "execution_count": null,
   "metadata": {},
   "outputs": [],
   "source": []
  },
  {
   "cell_type": "code",
   "execution_count": null,
   "metadata": {},
   "outputs": [],
   "source": []
  }
 ],
 "metadata": {
  "kernelspec": {
   "display_name": "Python 3",
   "language": "python",
   "name": "python3"
  },
  "language_info": {
   "codemirror_mode": {
    "name": "ipython",
    "version": 3
   },
   "file_extension": ".py",
   "mimetype": "text/x-python",
   "name": "python",
   "nbconvert_exporter": "python",
   "pygments_lexer": "ipython3",
   "version": "3.7.4"
  }
 },
 "nbformat": 4,
 "nbformat_minor": 2
}
