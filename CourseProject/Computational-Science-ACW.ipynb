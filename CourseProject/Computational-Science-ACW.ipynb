{
 "cells": [
  {
   "cell_type": "markdown",
   "metadata": {},
   "source": [
    "# Part 1: Simulating the robot"
   ]
  },
  {
   "cell_type": "code",
   "execution_count": 1,
   "metadata": {},
   "outputs": [],
   "source": [
    "import numpy as np\n",
    "import random as rand\n",
    "import numpy as np\n",
    "import matplotlib.pyplot as plt\n",
    "import math\n",
    "import csv\n",
    "from scipy.stats import norm\n",
    "import seaborn as sns\n",
    "import pandas as pd\n",
    "\n",
    "def func(U,x):\n",
    "    #-2x+2U\n",
    "    val = -(2*x) + 2*U\n",
    "    return val\n",
    "def simulation(x,t,h):\n",
    "    save = 0\n",
    "    U_save = []\n",
    "    t_save = []\n",
    "    x_save = []\n",
    "    x_exact_save = []\n",
    "\n",
    "    U_array = []\n",
    "    t_array = []\n",
    "    x_array = []\n",
    "    x_exact_array = []\n",
    "    while(t <= 15):\n",
    "        if(t <= 5):\n",
    "            U = 2\n",
    "        elif(t < 5 or t <= 10):\n",
    "            U = 1\n",
    "        elif(t < 10 or t <=15):\n",
    "            U = 3\n",
    "        #print(\"U value:\", x)\n",
    "        U_array.append(U)\n",
    "        k = h * func(U,x)\n",
    "        x = x + k\n",
    "        t = t + h\n",
    "        #value under graph\n",
    "        x_exact = U - math.exp(-2*t)\n",
    "        t_array.append(t)\n",
    "        x_array.append(x)\n",
    "        x_exact_array.append(x_exact)\n",
    "        save+=1\n",
    "        #save every 10th integral if h<=0.01\n",
    "        if(save%10 == 0):\n",
    "            U_save.append(U)\n",
    "            t_save.append(t)\n",
    "            x_save.append(x)\n",
    "            x_exact_save.append(x_exact)\n",
    "            #print(\"save1: \",save)\n",
    "        #print(\"Where it is: \",x,\"Exact pos= \",x_exact,\"Time: \",t)\n",
    "    return U_save,t_save,x_save,x_exact_save,U_array,t_array,x_array,x_exact_array "
   ]
  },
  {
   "cell_type": "markdown",
   "metadata": {},
   "source": [
    "The following step sizes were provided to measure against: 0.75, .5, 0.25, 0.01, 0.001\n"
   ]
  },
  {
   "cell_type": "markdown",
   "metadata": {},
   "source": [
    "## Step size 0.001"
   ]
  },
  {
   "cell_type": "code",
   "execution_count": 2,
   "metadata": {},
   "outputs": [],
   "source": [
    "U_save1 = []\n",
    "t_save1 = []\n",
    "x_save1 = []\n",
    "x_exact_save1 = []\n",
    "\n",
    "\n",
    "##saves every time\n",
    "U_array1 = []\n",
    "t_array1 = []\n",
    "x_array1 = []\n",
    "x_exact_array1 = []\n",
    "\n",
    "#step size \n",
    "U_save1,t_save1,x_save1,x_exact_save1,U_array1,t_array1,x_array1,x_exact_array1=simulation(0,0,0.001)\n",
    "\n",
    "#0.35 for bell curve"
   ]
  },
  {
   "cell_type": "markdown",
   "metadata": {},
   "source": [
    "## Step size 0.01"
   ]
  },
  {
   "cell_type": "code",
   "execution_count": 3,
   "metadata": {},
   "outputs": [],
   "source": [
    "U_save2 = []\n",
    "t_save2 = []\n",
    "x_save2 = []\n",
    "x_exact_save2 = []\n",
    "\n",
    "\n",
    "##saves every time\n",
    "U_array2 = []\n",
    "t_array2 = []\n",
    "x_array2 = []\n",
    "x_exact_array2 = []\n",
    "\n",
    "#step size \n",
    "U_save2,t_save2,x_save2,x_exact_save2,U_array2,t_array2,x_array2,x_exact_array2=simulation(0,0,0.01)\n",
    "\n",
    "#0.35 for bell curve"
   ]
  },
  {
   "cell_type": "markdown",
   "metadata": {},
   "source": [
    "## Step size 0.25"
   ]
  },
  {
   "cell_type": "code",
   "execution_count": 4,
   "metadata": {},
   "outputs": [],
   "source": [
    "U_save3 = []\n",
    "t_save3 = []\n",
    "x_save3 = []\n",
    "x_exact_save3 = []\n",
    "\n",
    "\n",
    "##saves every time\n",
    "U_array3 = []\n",
    "t_array3 = []\n",
    "x_array3 = []\n",
    "x_exact_array3 = []\n",
    "\n",
    "#step size \n",
    "U_save3,t_save3,x_save3,x_exact_save3,U_array3,t_array3,x_array3,x_exact_array3=simulation(0,0,0.25)"
   ]
  },
  {
   "cell_type": "markdown",
   "metadata": {},
   "source": [
    "## Step size 0.5"
   ]
  },
  {
   "cell_type": "code",
   "execution_count": 5,
   "metadata": {},
   "outputs": [],
   "source": [
    "U_save4 = []\n",
    "t_save4 = []\n",
    "x_save4 = []\n",
    "x_exact_save4 = []\n",
    "\n",
    "\n",
    "##saves every time\n",
    "U_array4 = []\n",
    "t_array4 = []\n",
    "x_array4 = []\n",
    "x_exact_array4 = []\n",
    "\n",
    "#step size \n",
    "U_save4,t_save4,x_save4,x_exact_save4,U_array4,t_array4,x_array4,x_exact_array4=simulation(0,0,0.5)"
   ]
  },
  {
   "cell_type": "markdown",
   "metadata": {},
   "source": [
    "## Step size 0.75"
   ]
  },
  {
   "cell_type": "code",
   "execution_count": 6,
   "metadata": {},
   "outputs": [],
   "source": [
    "U_save5 = []\n",
    "t_save5 = []\n",
    "x_save5 = []\n",
    "x_exact_save5 = []\n",
    "\n",
    "\n",
    "##saves every time\n",
    "U_array5 = []\n",
    "t_array5 = []\n",
    "x_array5 = []\n",
    "x_exact_array5 = []\n",
    "\n",
    "#step size \n",
    "U_save5,t_save5,x_save5,x_exact_save5,U_array5,t_array5,x_array5,x_exact_array5=simulation(0,0,0.75)"
   ]
  },
  {
   "cell_type": "markdown",
   "metadata": {},
   "source": [
    "## Saving values into a dataframe and plotting it "
   ]
  },
  {
   "cell_type": "code",
   "execution_count": 7,
   "metadata": {},
   "outputs": [],
   "source": [
    "data1 = {'X':x_array1,'T':t_array1}\n",
    "df1 = pd.DataFrame(data1)\n",
    "data2 = {'X':x_array2,'T':t_array2}\n",
    "df2= pd.DataFrame(data2)\n",
    "data3 = {'X':x_array3,'T':t_array3}\n",
    "df3= pd.DataFrame(data3)\n",
    "data4= {'X':x_array4,'T':t_array4}\n",
    "df4= pd.DataFrame(data4)\n",
    "data5= {'X':x_array5,'T':t_array5}\n",
    "df5= pd.DataFrame(data5)"
   ]
  },
  {
   "cell_type": "code",
   "execution_count": 8,
   "metadata": {},
   "outputs": [
    {
     "data": {
      "image/png": "[encoded data removed]",
      "text/plain": [
       "<Figure size 432x288 with 1 Axes>"
      ]
     },
     "metadata": {
      "needs_background": "light"
     },
     "output_type": "display_data"
    }
   ],
   "source": [
    "plt3 = sns.lineplot(x=\"T\", y=\"X\", data=df1) #blue\n",
    "plt4 = sns.lineplot(x=\"T\", y=\"X\", data=df2) #Orange\n",
    "plt5 = sns.lineplot(x=\"T\", y=\"X\", data=df3) #Green\n",
    "plt6 = sns.lineplot(x=\"T\", y=\"X\", data=df4) #Red\n",
    "plt7 = sns.lineplot(x=\"T\", y=\"X\", data=df5) #Purple"
   ]
  },
  {
   "cell_type": "markdown",
   "metadata": {},
   "source": [
    "## Error evaluation against step size"
   ]
  },
  {
   "cell_type": "code",
   "execution_count": null,
   "metadata": {},
   "outputs": [],
   "source": []
  },
  {
   "cell_type": "code",
   "execution_count": null,
   "metadata": {},
   "outputs": [],
   "source": []
  },
  {
   "cell_type": "code",
   "execution_count": null,
   "metadata": {},
   "outputs": [],
   "source": []
  },
  {
   "cell_type": "code",
   "execution_count": null,
   "metadata": {},
   "outputs": [],
   "source": []
  },
  {
   "cell_type": "markdown",
   "metadata": {},
   "source": [
    "# Part 2: Random Noise using Box Muller Method"
   ]
  },
  {
   "cell_type": "markdown",
   "metadata": {},
   "source": [
    "## Initialise/Compute standard deviation and mean"
   ]
  },
  {
   "cell_type": "code",
   "execution_count": 9,
   "metadata": {},
   "outputs": [
    {
     "name": "stdout",
     "output_type": "stream",
     "text": [
      "deviation:  0.0431 mean:  0.5 DEVIATION:  0.7789244866974134 MEAN:  1.900142980914039\n"
     ]
    }
   ],
   "source": [
    "import statistics as stat\n",
    "std_dev1 = stat.stdev(x_array1)   #calculate standard deviation of input array\n",
    "_mean1 = stat.mean(x_array1)      #calculate mean of input array\n",
    "\n",
    "std_dev = 0.0431                  #set custom standard deviation\n",
    "_mean = 0.5                       #set custom mean\n",
    "print(\"deviation: \",std_dev,\"mean: \",_mean,\"DEVIATION: \",std_dev1,\"MEAN: \",_mean1)"
   ]
  },
  {
   "cell_type": "markdown",
   "metadata": {},
   "source": [
    "## compute box muller algorithm"
   ]
  },
  {
   "cell_type": "code",
   "execution_count": 27,
   "metadata": {},
   "outputs": [],
   "source": [
    "def box_muller(array,standard_deviation,mean):\n",
    "    random_vls = []\n",
    "    i = 0\n",
    "    it = 0\n",
    "    box_1 = []\n",
    "    box_2 = []\n",
    "    while i < len(array):\n",
    "        if(it == 0):\n",
    "            z1 =  rand.uniform(0,2*np.pi)\n",
    "            b  =  standard_deviation*np.sqrt(-2*math.log(rand.uniform(0,1)))\n",
    "            z2 =  b*(math.sin(z1))+mean\n",
    "            z3 =  b*(math.cos(z1))+mean\n",
    "            box_1.append(z2)\n",
    "            noise = array[i] + z2\n",
    "            random_vls.append(noise)\n",
    "            it = 1\n",
    "            i = i + 1\n",
    "        else:\n",
    "            it = 0\n",
    "            box_2.append(z3)\n",
    "            noise = array[i] + z3\n",
    "            random_vls.append(noise)\n",
    "            i= i + 1\n",
    "    return random_vls,box_1,box_2"
   ]
  },
  {
   "cell_type": "code",
   "execution_count": 28,
   "metadata": {},
   "outputs": [],
   "source": [
    "random_vals = []\n",
    "random_vals,b1,b2 = box_muller(x_save2,std_dev,_mean)"
   ]
  },
  {
   "cell_type": "markdown",
   "metadata": {},
   "source": [
    "## Noise plot"
   ]
  },
  {
   "cell_type": "code",
   "execution_count": 29,
   "metadata": {},
   "outputs": [
    {
     "data": {
      "image/png": "[encoded data removed]",
      "text/plain": [
       "<Figure size 432x288 with 1 Axes>"
      ]
     },
     "metadata": {
      "needs_background": "light"
     },
     "output_type": "display_data"
    }
   ],
   "source": [
    "y = random_vals\n",
    "x = t_save2\n",
    "plt.plot(x,y,\"b\") #actual\n",
    "plt.show()"
   ]
  },
  {
   "cell_type": "markdown",
   "metadata": {},
   "source": [
    "## Proof that numbers generated fall within a gaussian distribution"
   ]
  },
  {
   "cell_type": "code",
   "execution_count": 30,
   "metadata": {},
   "outputs": [
    {
     "data": {
      "text/plain": [
       "<matplotlib.axes._subplots.AxesSubplot at 0x1cbb6e6bc08>"
      ]
     },
     "execution_count": 30,
     "metadata": {},
     "output_type": "execute_result"
    },
    {
     "data": {
      "image/png": "[encoded data removed]",
      "text/plain": [
       "<Figure size 432x288 with 1 Axes>"
      ]
     },
     "metadata": {
      "needs_background": "light"
     },
     "output_type": "display_data"
    }
   ],
   "source": [
    "sns.distplot(b1)"
   ]
  },
  {
   "cell_type": "code",
   "execution_count": 31,
   "metadata": {},
   "outputs": [
    {
     "data": {
      "text/plain": [
       "<matplotlib.axes._subplots.AxesSubplot at 0x1cbb6c58888>"
      ]
     },
     "execution_count": 31,
     "metadata": {},
     "output_type": "execute_result"
    },
    {
     "data": {
      "image/png": "[encoded data removed]",
      "text/plain": [
       "<Figure size 432x288 with 1 Axes>"
      ]
     },
     "metadata": {
      "needs_background": "light"
     },
     "output_type": "display_data"
    }
   ],
   "source": [
    "sns.distplot(b2)"
   ]
  },
  {
   "cell_type": "code",
   "execution_count": 13,
   "metadata": {},
   "outputs": [
    {
     "data": {
      "text/plain": [
       "<matplotlib.axes._subplots.AxesSubplot at 0x1cbb679f048>"
      ]
     },
     "execution_count": 13,
     "metadata": {},
     "output_type": "execute_result"
    },
    {
     "data": {
      "image/png": "[encoded data removed]",
      "text/plain": [
       "<Figure size 432x288 with 1 Axes>"
      ]
     },
     "metadata": {
      "needs_background": "light"
     },
     "output_type": "display_data"
    }
   ],
   "source": [
    "sns.distplot(random_vals)"
   ]
  },
  {
   "cell_type": "markdown",
   "metadata": {},
   "source": [
    "# Part 3: Adding an intelligent agent to track the noise"
   ]
  },
  {
   "cell_type": "markdown",
   "metadata": {},
   "source": [
    "## Sigmoid Activation"
   ]
  },
  {
   "cell_type": "code",
   "execution_count": 32,
   "metadata": {},
   "outputs": [],
   "source": [
    "def sigmoid_activation(val):\n",
    "  sigmoid = 1/1+np.exp(-val)#sigmoid activation function\n",
    "  return sigmoid\n",
    "\n",
    "def train_weights3(array, lr, loops):\n",
    "    weights3 = [1,rand.uniform(0,1),rand.uniform(0,1),rand.uniform(0,1)]#weights initialisation\n",
    "    itr = 0                 #used to switch between creation of a new weights array and updating created weights\n",
    "    weights3_1 = []         #save weights\n",
    "    itr_array = []          #saves number of epochs done\n",
    "    sum_error_array = []    #saves sum_error generated per epoch\n",
    "    for loop in range(loops):\n",
    "        net_array = []                      #saves network predictions\n",
    "        error_array = []                    #saves error\n",
    "        sum_error = 0.0                     #a variable that keeps track of error generated\n",
    "        c = 0                               #counter for initialising\n",
    "        w_adaptor = 0                       #used to iterate through saved weights in order to update them\n",
    "        if itr < 1:\n",
    "            for a in array:                 #for each input in input array\n",
    "                weights3_1.append([weights3[0],weights3[1],weights3[2],weights3[3]])  #append new weights to empty weight array\n",
    "                prediction, netwrk_sum = predict3(a,weights3)                         #predict function for sigmoid network\n",
    "                if c == 0:\n",
    "                    Target = a[2]\n",
    "                    #print(1)\n",
    "                elif c==1:\n",
    "                    Target = a[1]\n",
    "                else:\n",
    "                    Target = a[0]\n",
    "                delta = Target - prediction  #calculate error of the prediction\n",
    "                error = delta\n",
    "                error_array.append(error)    #save error\n",
    "                net_array.append(prediction) #save network\n",
    "                #------------------------WEIGHTS UPDATED BY CORRESPONDING CURRENT ERROR AND INPUT----------------------------------\n",
    "                weights3_change_bias = -a[0] *lr*(error)         #calculate weight change for bias\n",
    "                weights3[0] = weights3[0] + weights3_change_bias #add weight change calculated to current bias\n",
    "                weights3_change= -a[0]*(error)*lr                #calculate weight change for input weights\n",
    "                for i in range(len(a)):                          #iterate over every input weight\n",
    "                    weights3[i + 1] = weights3[i +1] + weights3_change     #update each input weight\n",
    "                sum_error += error**2                            #calculate sum error\n",
    "                c = c + 1                                        #increase counter\n",
    "            print('>epoch=%d, lrate=%.3f, error=%.3f, , sum_error=%.3f' % (loop, lr, error, sum_error))\n",
    "            sum_error_array.append(sum_error)                    #append sum_error\n",
    "            itr_array.append(itr)                                #append iteration\n",
    "            itr+=1                                               #increment itr so that it can switch to the else function\n",
    "        else:\n",
    "            for a in array:\n",
    "                prediction, netwrk_sum = predict3(a,weights3_1[w_adaptor]) #calculate prediction based on created weights\n",
    "                if c == 0:\n",
    "                    Target = a[2]\n",
    "                    #print(1)\n",
    "                elif c==1:\n",
    "                    Target = a[1]\n",
    "                else:\n",
    "                    Target = a[0]\n",
    "                delta = Target - prediction  #calculate error change\n",
    "                error = delta                \n",
    "                error_array.append(error)    #append error\n",
    "                net_array.append(prediction) #append network prediction \n",
    "                #------------------------WEIGHTS UPDATED BY CORRESPONDING CURRENT ERROR AND INPUT----------------------------------\n",
    "                weights3_change_bias = -a[0] *lr*(error) #calculate weight change for bias\n",
    "                weights3_1[w_adaptor][0] = weights3_1[w_adaptor][0] + weights3_change_bias #add weight change to current bias\n",
    "                weights3_change= -a[0]*(error)*lr  #calculate weight change\n",
    "                for i in range(len(a)):            #iterate through each input\n",
    "                     weights3_1[w_adaptor][i + 1] =  weights3_1[w_adaptor][i +1] + weights3_change #for each input weight add weight change\n",
    "                sum_error += error**2      #calculate error squared\n",
    "                c = c + 1                  #increment counter\n",
    "                w_adaptor = w_adaptor + 1  #increment weight adaptor\n",
    "            print('>epoch=%d, lrate=%.3f, error=%.3f, , sum_error=%.3f' % (loop, lr, error, sum_error))\n",
    "            sum_error_array.append(sum_error) #append error\n",
    "            itr_array.append(itr)             #append iteration\n",
    "            itr+=1                            #increase iteration counter\n",
    "    return net_array,error_array,weights3_1,sum_error_array,itr_array\n",
    "            \n",
    "def predict3(noise2,weights2):\n",
    "    net_sum = 0\n",
    "    net_sum = weights2[0] #obtain bias from weight array\n",
    "    for i in range(len(noise2)-1):\n",
    "        net_sum += weights2[i + 1] * noise2[i] #multiply input by respective weight to obtain a summation\n",
    "    activation2 = sigmoid_activation(net_sum)  #implement sigmoid function to summation obtained\n",
    "    return activation2, net_sum                #return activation and network sum\n",
    "\n",
    "def triple_converter(array):                   #converts input into a tuple so that we can pass 3 input weights per prediction\n",
    "    triple_array = []\n",
    "    c = 0                                      #counter\n",
    "    while c < len(array):\n",
    "        if c == 0:\n",
    "            triple_array.append([0,0,array[c]])\n",
    "        elif c == 1:\n",
    "            triple_array.append([0,array[c],array[c-1]])\n",
    "        else:\n",
    "            triple_array.append([array[c],array[c-1],array[c-2]])\n",
    "        c = c + 1                              #increment counter\n",
    "    return triple_array"
   ]
  },
  {
   "cell_type": "markdown",
   "metadata": {},
   "source": [
    "## Step function activation"
   ]
  },
  {
   "cell_type": "code",
   "execution_count": 33,
   "metadata": {},
   "outputs": [],
   "source": [
    "##--------------------------------SINGLE PERCEPTRON-----------------------------------------------##\n",
    "def predict_step(noise1,weights1):\n",
    "    net_sum = 0\n",
    "    out = 0\n",
    "    net_sum = weights1[0]\n",
    "    for i in range(len(noise1)-1):\n",
    "        net_sum += weights1[i + 1] * noise1[i]\n",
    "    #print(\"netsum: \",net_sum)\n",
    "    if net_sum > 1:\n",
    "        out = 1\n",
    "    else:\n",
    "        out = 0\n",
    "    return out\n",
    "\n",
    "def train_weights_step(array, lr, loops):\n",
    "    weights3 = [1,rand.uniform(0,1),rand.uniform(0,1),rand.uniform(0,1)]\n",
    "    itr = 0\n",
    "    weights3_1 = []\n",
    "    for loop in range(loops):\n",
    "        net_array = []\n",
    "        error_array = []\n",
    "        sum_error = 0.0\n",
    "        c = 0\n",
    "        w_adaptor = 0\n",
    "        if itr < 1:\n",
    "            for a in array:\n",
    "                weights3_1.append([weights3[0],weights3[1],weights3[2],weights3[3]])\n",
    "                prediction = predict_step(a,weights3)\n",
    "                if c == 0:\n",
    "                    Target = a[2]\n",
    "                    #print(1)\n",
    "                elif c==1:\n",
    "                    Target = a[1]\n",
    "                else:\n",
    "                    Target = a[0]\n",
    "                delta = Target - prediction\n",
    "                error = delta\n",
    "                error_array.append(error)\n",
    "                net_array.append(prediction)\n",
    "                #------------------------WEIGHTS UPDATED BY CORRESPONDING CURRENT ERROR AND INPUT----------------------------------\n",
    "                weights3_change_bias = -a[0]*lr*error \n",
    "                weights3[0] = weights3[0] + weights3_change_bias\n",
    "                weights3_change= -a[0]*lr*error\n",
    "                for i in range(len(a)):\n",
    "                    weights3[i + 1] = weights3[i +1] + weights3_change\n",
    "                sum_error += error**2\n",
    "                c = c + 1\n",
    "            print('>epoch=%d, lrate=%.3f, error=%.3f, , sum_error=%.3f' % (loop, lr, error, sum_error))\n",
    "            itr+=1\n",
    "        else:\n",
    "            for a in array:\n",
    "                prediction = predict_step(a,weights3_1[w_adaptor])\n",
    "                if c == 0:\n",
    "                    Target = a[2]\n",
    "                elif c==1:\n",
    "                    Target = a[1]\n",
    "                else:\n",
    "                    Target = a[0]\n",
    "                delta = prediction - Target\n",
    "                error = delta\n",
    "                error_array.append(error)\n",
    "                net_array.append(prediction)\n",
    "                #------------------------WEIGHTS UPDATED BY CORRESPONDING CURRENT ERROR AND INPUT----------------------------------\n",
    "            \n",
    "                weights3_change_bias = -a[0] *lr*(error) \n",
    "                weights3_1[w_adaptor][0] = weights3_1[w_adaptor][0] + weights3_change_bias\n",
    "                weights3_change= -a[0]*(error)*lr\n",
    "                for i in range(len(a)):\n",
    "                     weights3_1[w_adaptor][i + 1] =  weights3_1[w_adaptor][i +1] + weights3_change\n",
    "                sum_error += error**2\n",
    "                c = c + 1\n",
    "                w_adaptor = w_adaptor + 1\n",
    "            print('>epoch=%d, lrate=%.3f, error=%.3f, , sum_error=%.3f' % (loop, lr, error, sum_error))\n",
    "            itr+=1\n",
    "    return net_array,error_array,weights3_1"
   ]
  },
  {
   "cell_type": "markdown",
   "metadata": {},
   "source": [
    "# Implement weights(sigmoid)"
   ]
  },
  {
   "cell_type": "code",
   "execution_count": 34,
   "metadata": {},
   "outputs": [],
   "source": [
    "def sigmoid_activation(val):\n",
    "  sigmoid = 1/1+np.exp(-val)\n",
    "  return sigmoid\n",
    "\n",
    "def implement_weights3(array,loops,weights):\n",
    "    itr = 0\n",
    "    itr_array = []\n",
    "    sum_error_array = []\n",
    "    for loop in range(loops):\n",
    "        net_array = []\n",
    "        error_array = []\n",
    "        sum_error = 0.0\n",
    "        c = 0\n",
    "        w_adaptor = 0\n",
    "        for a in array:\n",
    "            prediction, netwrk_sum = predict3(a,weights[w_adaptor])\n",
    "            net_array.append(prediction)\n",
    "            Target = a[0]\n",
    "            error = Target - prediction\n",
    "            sum_error += error**2\n",
    "            c = c + 1\n",
    "            w_adaptor = w_adaptor + 1\n",
    "        print('>epoch=%d, error=%.3f, , sum_error=%.3f' % (loop, error, sum_error))\n",
    "        sum_error_array.append(sum_error)\n",
    "        itr_array.append(itr)\n",
    "        itr+=1\n",
    "    return net_array,sum_error_array,itr_array\n",
    "            \n",
    "def predict3(noise2,weights2):\n",
    "    net_sum = 0\n",
    "    net_sum = weights2[0]\n",
    "    for i in range(len(noise2)-1):\n",
    "        net_sum += weights2[i + 1] * noise2[i]\n",
    "    activation2 = sigmoid_activation(net_sum)\n",
    "    return activation2, net_sum\n",
    "#x_save2"
   ]
  },
  {
   "cell_type": "markdown",
   "metadata": {},
   "source": [
    "## Train network using sigmoid"
   ]
  },
  {
   "cell_type": "code",
   "execution_count": 36,
   "metadata": {},
   "outputs": [
    {
     "name": "stdout",
     "output_type": "stream",
     "text": [
      ">epoch=0, lrate=0.010, error=-0.094, , sum_error=50.602\n",
      ">epoch=1, lrate=0.010, error=-0.094, , sum_error=50.602\n",
      ">epoch=2, lrate=0.010, error=-0.026, , sum_error=45.836\n",
      ">epoch=3, lrate=0.010, error=-0.008, , sum_error=41.933\n",
      ">epoch=4, lrate=0.010, error=-0.002, , sum_error=38.578\n",
      ">epoch=5, lrate=0.010, error=-0.001, , sum_error=35.599\n",
      ">epoch=6, lrate=0.010, error=-0.000, , sum_error=32.889\n",
      ">epoch=7, lrate=0.010, error=-0.000, , sum_error=30.385\n",
      ">epoch=8, lrate=0.010, error=-0.000, , sum_error=28.048\n",
      ">epoch=9, lrate=0.010, error=-0.000, , sum_error=25.857\n",
      ">epoch=10, lrate=0.010, error=-0.000, , sum_error=23.796\n",
      ">epoch=11, lrate=0.010, error=-0.000, , sum_error=21.858\n",
      ">epoch=12, lrate=0.010, error=-0.000, , sum_error=20.034\n",
      ">epoch=13, lrate=0.010, error=-0.000, , sum_error=18.320\n",
      ">epoch=14, lrate=0.010, error=-0.000, , sum_error=16.714\n",
      ">epoch=15, lrate=0.010, error=-0.000, , sum_error=15.212\n",
      ">epoch=16, lrate=0.010, error=-0.000, , sum_error=13.814\n",
      ">epoch=17, lrate=0.010, error=-0.000, , sum_error=12.520\n",
      ">epoch=18, lrate=0.010, error=-0.000, , sum_error=11.328\n",
      ">epoch=19, lrate=0.010, error=-0.000, , sum_error=10.237\n",
      ">epoch=20, lrate=0.010, error=-0.000, , sum_error=9.244\n",
      ">epoch=21, lrate=0.010, error=-0.000, , sum_error=8.345\n",
      ">epoch=22, lrate=0.010, error=-0.000, , sum_error=7.535\n",
      ">epoch=23, lrate=0.010, error=-0.000, , sum_error=6.809\n",
      ">epoch=24, lrate=0.010, error=-0.000, , sum_error=6.160\n",
      ">epoch=25, lrate=0.010, error=-0.000, , sum_error=5.581\n",
      ">epoch=26, lrate=0.010, error=-0.000, , sum_error=5.065\n",
      ">epoch=27, lrate=0.010, error=-0.000, , sum_error=4.605\n",
      ">epoch=28, lrate=0.010, error=-0.000, , sum_error=4.196\n",
      ">epoch=29, lrate=0.010, error=0.000, , sum_error=3.830\n",
      ">epoch=30, lrate=0.010, error=0.000, , sum_error=3.504\n",
      ">epoch=31, lrate=0.010, error=0.000, , sum_error=3.212\n",
      ">epoch=32, lrate=0.010, error=0.000, , sum_error=2.950\n",
      ">epoch=33, lrate=0.010, error=0.000, , sum_error=2.716\n",
      ">epoch=34, lrate=0.010, error=0.000, , sum_error=2.505\n",
      ">epoch=35, lrate=0.010, error=0.000, , sum_error=2.316\n",
      ">epoch=36, lrate=0.010, error=0.000, , sum_error=2.147\n",
      ">epoch=37, lrate=0.010, error=0.000, , sum_error=1.994\n",
      ">epoch=38, lrate=0.010, error=0.000, , sum_error=1.857\n",
      ">epoch=39, lrate=0.010, error=0.000, , sum_error=1.733\n",
      ">epoch=40, lrate=0.010, error=0.000, , sum_error=1.622\n",
      ">epoch=41, lrate=0.010, error=0.000, , sum_error=1.521\n",
      ">epoch=42, lrate=0.010, error=0.000, , sum_error=1.430\n",
      ">epoch=43, lrate=0.010, error=0.000, , sum_error=1.348\n",
      ">epoch=44, lrate=0.010, error=0.000, , sum_error=1.273\n",
      ">epoch=45, lrate=0.010, error=0.000, , sum_error=1.205\n",
      ">epoch=46, lrate=0.010, error=0.000, , sum_error=1.142\n",
      ">epoch=47, lrate=0.010, error=0.000, , sum_error=1.085\n",
      ">epoch=48, lrate=0.010, error=0.000, , sum_error=1.033\n",
      ">epoch=49, lrate=0.010, error=0.000, , sum_error=0.985\n",
      ">epoch=50, lrate=0.010, error=0.000, , sum_error=0.940\n",
      ">epoch=51, lrate=0.010, error=0.000, , sum_error=0.899\n",
      ">epoch=52, lrate=0.010, error=0.000, , sum_error=0.862\n",
      ">epoch=53, lrate=0.010, error=0.000, , sum_error=0.826\n",
      ">epoch=54, lrate=0.010, error=0.000, , sum_error=0.794\n",
      ">epoch=55, lrate=0.010, error=0.000, , sum_error=0.763\n",
      ">epoch=56, lrate=0.010, error=0.000, , sum_error=0.735\n",
      ">epoch=57, lrate=0.010, error=0.000, , sum_error=0.708\n",
      ">epoch=58, lrate=0.010, error=0.000, , sum_error=0.683\n",
      ">epoch=59, lrate=0.010, error=0.000, , sum_error=0.660\n",
      ">epoch=60, lrate=0.010, error=0.000, , sum_error=0.638\n",
      ">epoch=61, lrate=0.010, error=0.000, , sum_error=0.617\n",
      ">epoch=62, lrate=0.010, error=0.000, , sum_error=0.598\n",
      ">epoch=63, lrate=0.010, error=0.000, , sum_error=0.580\n",
      ">epoch=64, lrate=0.010, error=0.000, , sum_error=0.563\n",
      ">epoch=65, lrate=0.010, error=0.000, , sum_error=0.547\n",
      ">epoch=66, lrate=0.010, error=0.000, , sum_error=0.532\n",
      ">epoch=67, lrate=0.010, error=0.000, , sum_error=0.518\n",
      ">epoch=68, lrate=0.010, error=0.000, , sum_error=0.504\n",
      ">epoch=69, lrate=0.010, error=0.000, , sum_error=0.492\n",
      ">epoch=70, lrate=0.010, error=0.000, , sum_error=0.480\n",
      ">epoch=71, lrate=0.010, error=0.000, , sum_error=0.469\n",
      ">epoch=72, lrate=0.010, error=0.000, , sum_error=0.458\n",
      ">epoch=73, lrate=0.010, error=0.000, , sum_error=0.448\n",
      ">epoch=74, lrate=0.010, error=0.000, , sum_error=0.439\n",
      ">epoch=75, lrate=0.010, error=0.000, , sum_error=0.430\n",
      ">epoch=76, lrate=0.010, error=0.000, , sum_error=0.422\n",
      ">epoch=77, lrate=0.010, error=0.000, , sum_error=0.414\n",
      ">epoch=78, lrate=0.010, error=0.000, , sum_error=0.407\n",
      ">epoch=79, lrate=0.010, error=0.000, , sum_error=0.400\n",
      ">epoch=80, lrate=0.010, error=0.000, , sum_error=0.394\n",
      ">epoch=81, lrate=0.010, error=0.000, , sum_error=0.388\n",
      ">epoch=82, lrate=0.010, error=0.000, , sum_error=0.382\n",
      ">epoch=83, lrate=0.010, error=0.000, , sum_error=0.376\n",
      ">epoch=84, lrate=0.010, error=0.000, , sum_error=0.371\n",
      ">epoch=85, lrate=0.010, error=0.000, , sum_error=0.367\n",
      ">epoch=86, lrate=0.010, error=0.000, , sum_error=0.362\n",
      ">epoch=87, lrate=0.010, error=0.000, , sum_error=0.358\n",
      ">epoch=88, lrate=0.010, error=0.000, , sum_error=0.354\n",
      ">epoch=89, lrate=0.010, error=0.000, , sum_error=0.350\n",
      ">epoch=90, lrate=0.010, error=0.000, , sum_error=0.347\n",
      ">epoch=91, lrate=0.010, error=0.000, , sum_error=0.343\n",
      ">epoch=92, lrate=0.010, error=0.000, , sum_error=0.340\n",
      ">epoch=93, lrate=0.010, error=0.000, , sum_error=0.337\n",
      ">epoch=94, lrate=0.010, error=0.000, , sum_error=0.335\n",
      ">epoch=95, lrate=0.010, error=0.000, , sum_error=0.332\n",
      ">epoch=96, lrate=0.010, error=0.000, , sum_error=0.329\n",
      ">epoch=97, lrate=0.010, error=0.000, , sum_error=0.327\n",
      ">epoch=98, lrate=0.010, error=0.000, , sum_error=0.325\n",
      ">epoch=99, lrate=0.010, error=0.000, , sum_error=0.323\n"
     ]
    }
   ],
   "source": [
    "dat1 = triple_converter(random_vals)\n",
    "values,e,w,test,itrArray = train_weights3(dat1, 0.01,100)\n",
    "#0.006531\n",
    "\n",
    "#save to dataframe\n",
    "data6= {'Noise_values':dat1,'Trained':values,'Error':e,'T':t_save2}\n",
    "df6= pd.DataFrame(data6)"
   ]
  },
  {
   "cell_type": "markdown",
   "metadata": {},
   "source": [
    "### Implementation during training"
   ]
  },
  {
   "cell_type": "code",
   "execution_count": 18,
   "metadata": {},
   "outputs": [
    {
     "data": {
      "image/png": "[encoded data removed]",
      "text/plain": [
       "<Figure size 432x288 with 1 Axes>"
      ]
     },
     "metadata": {
      "needs_background": "light"
     },
     "output_type": "display_data"
    }
   ],
   "source": [
    "y_axis = values #network output\n",
    "y = random_vals\n",
    "x_axis = x = t_save2\n",
    "plt.plot(x,y,\"y\") #actual\n",
    "plt.plot(x_axis,y_axis,\"b\")#noise\n",
    "plt.show()"
   ]
  },
  {
   "cell_type": "markdown",
   "metadata": {},
   "source": [
    "### Weights implementation on unseen data"
   ]
  },
  {
   "cell_type": "code",
   "execution_count": 19,
   "metadata": {},
   "outputs": [
    {
     "name": "stdout",
     "output_type": "stream",
     "text": [
      ">epoch=0, error=-0.148, , sum_error=23.804\n",
      ">epoch=1, error=-0.148, , sum_error=23.804\n",
      ">epoch=2, error=-0.148, , sum_error=23.804\n",
      ">epoch=3, error=-0.148, , sum_error=23.804\n",
      ">epoch=4, error=-0.148, , sum_error=23.804\n"
     ]
    }
   ],
   "source": [
    "dat1 = triple_converter(x_save2)\n",
    "net_array,sum_error_array,itr_array = implement_weights3(dat1, 5,w)\n",
    "#0.006531\n",
    "\n",
    "#save to dataframe\n",
    "#data6= {'Noise_values':dat1,'Trained':values,'Error':e,'T':t_save2}\n",
    "#df6= pd.DataFrame(data6)"
   ]
  },
  {
   "cell_type": "code",
   "execution_count": 20,
   "metadata": {},
   "outputs": [
    {
     "data": {
      "image/png": "[encoded data removed]",
      "text/plain": [
       "<Figure size 432x288 with 1 Axes>"
      ]
     },
     "metadata": {
      "needs_background": "light"
     },
     "output_type": "display_data"
    }
   ],
   "source": [
    "y_axis = net_array #network output\n",
    "y = x_save2\n",
    "x_axis = x = t_save2\n",
    "plt.plot(x,y,\"y\") #actual\n",
    "plt.plot(x_axis,y_axis,\"b\")#noise\n",
    "plt.show()"
   ]
  },
  {
   "cell_type": "markdown",
   "metadata": {},
   "source": [
    "### Error plot per iteration"
   ]
  },
  {
   "cell_type": "code",
   "execution_count": 21,
   "metadata": {},
   "outputs": [
    {
     "data": {
      "image/png": "[encoded data removed]",
      "text/plain": [
       "<Figure size 432x288 with 1 Axes>"
      ]
     },
     "metadata": {
      "needs_background": "light"
     },
     "output_type": "display_data"
    }
   ],
   "source": [
    "error_dataframe = {'Error':test,'Epochs':itrArray}\n",
    "error_df = pd.DataFrame(error_dataframe)\n",
    "error_plt = sns.lineplot(x=\"Epochs\", y=\"Error\", data=error_df) #blue"
   ]
  },
  {
   "cell_type": "code",
   "execution_count": null,
   "metadata": {},
   "outputs": [],
   "source": []
  },
  {
   "cell_type": "code",
   "execution_count": null,
   "metadata": {},
   "outputs": [],
   "source": []
  },
  {
   "cell_type": "code",
   "execution_count": 22,
   "metadata": {},
   "outputs": [
    {
     "data": {
      "text/html": [
       "<div>\n",
       "<style scoped>\n",
       "    .dataframe tbody tr th:only-of-type {\n",
       "        vertical-align: middle;\n",
       "    }\n",
       "\n",
       "    .dataframe tbody tr th {\n",
       "        vertical-align: top;\n",
       "    }\n",
       "\n",
       "    .dataframe thead th {\n",
       "        text-align: right;\n",
       "    }\n",
       "</style>\n",
       "<table border=\"1\" class=\"dataframe\">\n",
       "  <thead>\n",
       "    <tr style=\"text-align: right;\">\n",
       "      <th></th>\n",
       "      <th>Noise_values</th>\n",
       "      <th>Trained</th>\n",
       "      <th>Error</th>\n",
       "      <th>T</th>\n",
       "    </tr>\n",
       "  </thead>\n",
       "  <tbody>\n",
       "    <tr>\n",
       "      <td>0</td>\n",
       "      <td>[0, 0, 0.8546083119304264]</td>\n",
       "      <td>1.367879</td>\n",
       "      <td>-0.513271</td>\n",
       "      <td>0.1</td>\n",
       "    </tr>\n",
       "    <tr>\n",
       "      <td>1</td>\n",
       "      <td>[0, 1.137610571068201, 0.8546083119304264]</td>\n",
       "      <td>1.126687</td>\n",
       "      <td>0.010924</td>\n",
       "      <td>0.2</td>\n",
       "    </tr>\n",
       "    <tr>\n",
       "      <td>2</td>\n",
       "      <td>[1.39793026235662, 1.137610571068201, 0.854608...</td>\n",
       "      <td>1.270249</td>\n",
       "      <td>0.127681</td>\n",
       "      <td>0.3</td>\n",
       "    </tr>\n",
       "    <tr>\n",
       "      <td>3</td>\n",
       "      <td>[1.528207055406994, 1.39793026235662, 1.137610...</td>\n",
       "      <td>1.413531</td>\n",
       "      <td>0.114676</td>\n",
       "      <td>0.4</td>\n",
       "    </tr>\n",
       "    <tr>\n",
       "      <td>4</td>\n",
       "      <td>[1.8471919960937002, 1.528207055406994, 1.3979...</td>\n",
       "      <td>1.835936</td>\n",
       "      <td>0.011256</td>\n",
       "      <td>0.5</td>\n",
       "    </tr>\n",
       "    <tr>\n",
       "      <td>...</td>\n",
       "      <td>...</td>\n",
       "      <td>...</td>\n",
       "      <td>...</td>\n",
       "      <td>...</td>\n",
       "    </tr>\n",
       "    <tr>\n",
       "      <td>145</td>\n",
       "      <td>[3.489596897259936, 3.495350083758322, 3.40147...</td>\n",
       "      <td>3.489597</td>\n",
       "      <td>0.000000</td>\n",
       "      <td>14.6</td>\n",
       "    </tr>\n",
       "    <tr>\n",
       "      <td>146</td>\n",
       "      <td>[3.449649983729124, 3.489596897259936, 3.49535...</td>\n",
       "      <td>3.449650</td>\n",
       "      <td>0.000000</td>\n",
       "      <td>14.7</td>\n",
       "    </tr>\n",
       "    <tr>\n",
       "      <td>147</td>\n",
       "      <td>[3.5472167786757307, 3.449649983729124, 3.4895...</td>\n",
       "      <td>3.547217</td>\n",
       "      <td>0.000000</td>\n",
       "      <td>14.8</td>\n",
       "    </tr>\n",
       "    <tr>\n",
       "      <td>148</td>\n",
       "      <td>[3.5178219975916725, 3.5472167786757307, 3.449...</td>\n",
       "      <td>3.517822</td>\n",
       "      <td>0.000000</td>\n",
       "      <td>14.9</td>\n",
       "    </tr>\n",
       "    <tr>\n",
       "      <td>149</td>\n",
       "      <td>[3.377175318040345, 3.5178219975916725, 3.5472...</td>\n",
       "      <td>3.377175</td>\n",
       "      <td>0.000000</td>\n",
       "      <td>15.0</td>\n",
       "    </tr>\n",
       "  </tbody>\n",
       "</table>\n",
       "<p>150 rows × 4 columns</p>\n",
       "</div>"
      ],
      "text/plain": [
       "                                          Noise_values   Trained     Error  \\\n",
       "0                           [0, 0, 0.8546083119304264]  1.367879 -0.513271   \n",
       "1           [0, 1.137610571068201, 0.8546083119304264]  1.126687  0.010924   \n",
       "2    [1.39793026235662, 1.137610571068201, 0.854608...  1.270249  0.127681   \n",
       "3    [1.528207055406994, 1.39793026235662, 1.137610...  1.413531  0.114676   \n",
       "4    [1.8471919960937002, 1.528207055406994, 1.3979...  1.835936  0.011256   \n",
       "..                                                 ...       ...       ...   \n",
       "145  [3.489596897259936, 3.495350083758322, 3.40147...  3.489597  0.000000   \n",
       "146  [3.449649983729124, 3.489596897259936, 3.49535...  3.449650  0.000000   \n",
       "147  [3.5472167786757307, 3.449649983729124, 3.4895...  3.547217  0.000000   \n",
       "148  [3.5178219975916725, 3.5472167786757307, 3.449...  3.517822  0.000000   \n",
       "149  [3.377175318040345, 3.5178219975916725, 3.5472...  3.377175  0.000000   \n",
       "\n",
       "        T  \n",
       "0     0.1  \n",
       "1     0.2  \n",
       "2     0.3  \n",
       "3     0.4  \n",
       "4     0.5  \n",
       "..    ...  \n",
       "145  14.6  \n",
       "146  14.7  \n",
       "147  14.8  \n",
       "148  14.9  \n",
       "149  15.0  \n",
       "\n",
       "[150 rows x 4 columns]"
      ]
     },
     "execution_count": 22,
     "metadata": {},
     "output_type": "execute_result"
    }
   ],
   "source": [
    "df6"
   ]
  },
  {
   "cell_type": "markdown",
   "metadata": {},
   "source": [
    "## Network prediction(blue) against noise values(yellow)"
   ]
  },
  {
   "cell_type": "code",
   "execution_count": null,
   "metadata": {},
   "outputs": [],
   "source": []
  },
  {
   "cell_type": "code",
   "execution_count": null,
   "metadata": {},
   "outputs": [],
   "source": []
  },
  {
   "cell_type": "markdown",
   "metadata": {},
   "source": [
    "## Train network using step function"
   ]
  },
  {
   "cell_type": "code",
   "execution_count": 23,
   "metadata": {},
   "outputs": [
    {
     "name": "stdout",
     "output_type": "stream",
     "text": [
      ">epoch=0, lrate=0.010, error=3.000, , sum_error=579.666\n",
      ">epoch=1, lrate=0.010, error=-3.000, , sum_error=579.666\n",
      ">epoch=2, lrate=0.010, error=-3.000, , sum_error=576.687\n",
      ">epoch=3, lrate=0.010, error=-3.000, , sum_error=573.704\n",
      ">epoch=4, lrate=0.010, error=-3.000, , sum_error=570.718\n",
      ">epoch=5, lrate=0.010, error=-3.000, , sum_error=567.730\n",
      ">epoch=6, lrate=0.010, error=-3.000, , sum_error=564.739\n",
      ">epoch=7, lrate=0.010, error=-3.000, , sum_error=561.747\n",
      ">epoch=8, lrate=0.010, error=-3.000, , sum_error=558.753\n",
      ">epoch=9, lrate=0.010, error=-3.000, , sum_error=555.758\n",
      ">epoch=10, lrate=0.010, error=-3.000, , sum_error=552.762\n",
      ">epoch=11, lrate=0.010, error=-3.000, , sum_error=549.765\n",
      ">epoch=12, lrate=0.010, error=-3.000, , sum_error=546.768\n",
      ">epoch=13, lrate=0.010, error=-3.000, , sum_error=543.770\n",
      ">epoch=14, lrate=0.010, error=-3.000, , sum_error=540.772\n",
      ">epoch=15, lrate=0.010, error=-3.000, , sum_error=537.774\n",
      ">epoch=16, lrate=0.010, error=-3.000, , sum_error=534.775\n",
      ">epoch=17, lrate=0.010, error=-3.000, , sum_error=531.776\n",
      ">epoch=18, lrate=0.010, error=-3.000, , sum_error=528.777\n",
      ">epoch=19, lrate=0.010, error=-3.000, , sum_error=525.778\n",
      ">epoch=20, lrate=0.010, error=-3.000, , sum_error=522.778\n",
      ">epoch=21, lrate=0.010, error=-3.000, , sum_error=519.779\n",
      ">epoch=22, lrate=0.010, error=-3.000, , sum_error=516.779\n",
      ">epoch=23, lrate=0.010, error=-3.000, , sum_error=513.779\n",
      ">epoch=24, lrate=0.010, error=-3.000, , sum_error=510.779\n",
      ">epoch=25, lrate=0.010, error=-3.000, , sum_error=507.780\n",
      ">epoch=26, lrate=0.010, error=-3.000, , sum_error=504.780\n",
      ">epoch=27, lrate=0.010, error=-3.000, , sum_error=504.780\n",
      ">epoch=28, lrate=0.010, error=-3.000, , sum_error=504.780\n",
      ">epoch=29, lrate=0.010, error=-3.000, , sum_error=482.083\n",
      ">epoch=30, lrate=0.010, error=-3.000, , sum_error=468.332\n",
      ">epoch=31, lrate=0.010, error=-3.000, , sum_error=459.485\n",
      ">epoch=32, lrate=0.010, error=-3.000, , sum_error=447.057\n",
      ">epoch=33, lrate=0.010, error=-3.000, , sum_error=438.359\n",
      ">epoch=34, lrate=0.010, error=-3.000, , sum_error=433.431\n",
      ">epoch=35, lrate=0.010, error=-3.000, , sum_error=428.490\n",
      ">epoch=36, lrate=0.010, error=-3.000, , sum_error=420.024\n",
      ">epoch=37, lrate=0.010, error=-3.000, , sum_error=415.063\n",
      ">epoch=38, lrate=0.010, error=-3.000, , sum_error=405.121\n",
      ">epoch=39, lrate=0.010, error=-3.000, , sum_error=397.780\n",
      ">epoch=40, lrate=0.010, error=-3.000, , sum_error=392.798\n",
      ">epoch=41, lrate=0.010, error=-3.000, , sum_error=384.631\n",
      ">epoch=42, lrate=0.010, error=-3.000, , sum_error=379.643\n",
      ">epoch=43, lrate=0.010, error=-3.000, , sum_error=374.652\n",
      ">epoch=44, lrate=0.010, error=-3.000, , sum_error=369.660\n",
      ">epoch=45, lrate=0.010, error=-3.000, , sum_error=364.666\n",
      ">epoch=46, lrate=0.010, error=-3.000, , sum_error=357.558\n",
      ">epoch=47, lrate=0.010, error=-3.000, , sum_error=352.563\n",
      ">epoch=48, lrate=0.010, error=-3.000, , sum_error=347.566\n",
      ">epoch=49, lrate=0.010, error=-3.000, , sum_error=339.795\n"
     ]
    }
   ],
   "source": [
    "values1,x,y = train_weights_step(dat1, 0.01,50)"
   ]
  },
  {
   "cell_type": "code",
   "execution_count": 24,
   "metadata": {},
   "outputs": [
    {
     "data": {
      "image/png": "[encoded data removed]",
      "text/plain": [
       "<Figure size 432x288 with 1 Axes>"
      ]
     },
     "metadata": {
      "needs_background": "light"
     },
     "output_type": "display_data"
    }
   ],
   "source": [
    "\n",
    "y_axis = random_vals #network output\n",
    "y = values1\n",
    "x_axis = x = t_save2\n",
    "plt.plot(x,y,\"y\") #robot\n",
    "plt.plot(x_axis,y_axis,\"b\")#tracker\n",
    "plt.show()\n"
   ]
  },
  {
   "cell_type": "markdown",
   "metadata": {},
   "source": [
    "## Perceptron values against different noise samples(Sigmoid)"
   ]
  },
  {
   "cell_type": "markdown",
   "metadata": {},
   "source": [
    "### Adding noise to other step sizes using box muller"
   ]
  },
  {
   "cell_type": "markdown",
   "metadata": {},
   "source": [
    "#### Example 1(step size =0.1)"
   ]
  },
  {
   "cell_type": "code",
   "execution_count": 25,
   "metadata": {},
   "outputs": [
    {
     "name": "stdout",
     "output_type": "stream",
     "text": [
      ">epoch=0, lrate=0.010, error=-0.071, , sum_error=35.496\n",
      ">epoch=1, lrate=0.010, error=-0.071, , sum_error=35.496\n",
      ">epoch=2, lrate=0.010, error=-0.023, , sum_error=30.650\n",
      ">epoch=3, lrate=0.010, error=-0.008, , sum_error=28.355\n",
      ">epoch=4, lrate=0.010, error=-0.003, , sum_error=26.579\n",
      ">epoch=5, lrate=0.010, error=-0.001, , sum_error=25.038\n",
      ">epoch=6, lrate=0.010, error=-0.000, , sum_error=23.660\n",
      ">epoch=7, lrate=0.010, error=-0.000, , sum_error=22.409\n",
      ">epoch=8, lrate=0.010, error=-0.000, , sum_error=21.263\n",
      ">epoch=9, lrate=0.010, error=-0.000, , sum_error=20.206\n",
      ">epoch=10, lrate=0.010, error=-0.000, , sum_error=19.226\n",
      ">epoch=11, lrate=0.010, error=-0.000, , sum_error=18.315\n",
      ">epoch=12, lrate=0.010, error=-0.000, , sum_error=17.463\n",
      ">epoch=13, lrate=0.010, error=-0.000, , sum_error=16.667\n",
      ">epoch=14, lrate=0.010, error=-0.000, , sum_error=15.920\n",
      ">epoch=15, lrate=0.010, error=-0.000, , sum_error=15.219\n",
      ">epoch=16, lrate=0.010, error=-0.000, , sum_error=14.559\n",
      ">epoch=17, lrate=0.010, error=-0.000, , sum_error=13.939\n",
      ">epoch=18, lrate=0.010, error=-0.000, , sum_error=13.354\n",
      ">epoch=19, lrate=0.010, error=-0.000, , sum_error=12.802\n",
      ">epoch=20, lrate=0.010, error=-0.000, , sum_error=12.282\n",
      ">epoch=21, lrate=0.010, error=-0.000, , sum_error=11.791\n",
      ">epoch=22, lrate=0.010, error=-0.000, , sum_error=11.327\n",
      ">epoch=23, lrate=0.010, error=-0.000, , sum_error=10.888\n",
      ">epoch=24, lrate=0.010, error=-0.000, , sum_error=10.474\n",
      ">epoch=25, lrate=0.010, error=-0.000, , sum_error=10.082\n",
      ">epoch=26, lrate=0.010, error=-0.000, , sum_error=9.711\n",
      ">epoch=27, lrate=0.010, error=-0.000, , sum_error=9.360\n",
      ">epoch=28, lrate=0.010, error=-0.000, , sum_error=9.028\n",
      ">epoch=29, lrate=0.010, error=-0.000, , sum_error=8.714\n",
      ">epoch=30, lrate=0.010, error=-0.000, , sum_error=8.416\n",
      ">epoch=31, lrate=0.010, error=-0.000, , sum_error=8.134\n",
      ">epoch=32, lrate=0.010, error=0.000, , sum_error=7.867\n",
      ">epoch=33, lrate=0.010, error=0.000, , sum_error=7.613\n",
      ">epoch=34, lrate=0.010, error=0.000, , sum_error=7.373\n",
      ">epoch=35, lrate=0.010, error=0.000, , sum_error=7.145\n",
      ">epoch=36, lrate=0.010, error=0.000, , sum_error=6.929\n",
      ">epoch=37, lrate=0.010, error=0.000, , sum_error=6.725\n",
      ">epoch=38, lrate=0.010, error=0.000, , sum_error=6.531\n",
      ">epoch=39, lrate=0.010, error=0.000, , sum_error=6.346\n"
     ]
    },
    {
     "ename": "ValueError",
     "evalue": "too many values to unpack (expected 3)",
     "output_type": "error",
     "traceback": [
      "\u001b[1;31m---------------------------------------------------------------------------\u001b[0m",
      "\u001b[1;31mValueError\u001b[0m                                Traceback (most recent call last)",
      "\u001b[1;32m<ipython-input-25-128037c183db>\u001b[0m in \u001b[0;36m<module>\u001b[1;34m\u001b[0m\n\u001b[0;32m      6\u001b[0m \u001b[1;31m#values,e = train_weights3(dat1, 0.01,1)\u001b[0m\u001b[1;33m\u001b[0m\u001b[1;33m\u001b[0m\u001b[1;33m\u001b[0m\u001b[0m\n\u001b[0;32m      7\u001b[0m \u001b[1;31m#0.006531\u001b[0m\u001b[1;33m\u001b[0m\u001b[1;33m\u001b[0m\u001b[1;33m\u001b[0m\u001b[0m\n\u001b[1;32m----> 8\u001b[1;33m \u001b[0mvalues1\u001b[0m\u001b[1;33m,\u001b[0m\u001b[0me1\u001b[0m\u001b[1;33m,\u001b[0m\u001b[0mw\u001b[0m \u001b[1;33m=\u001b[0m \u001b[0mtrain_weights3\u001b[0m\u001b[1;33m(\u001b[0m\u001b[0mrandom_vals_t1\u001b[0m\u001b[1;33m,\u001b[0m \u001b[1;36m0.01\u001b[0m\u001b[1;33m,\u001b[0m\u001b[1;36m40\u001b[0m\u001b[1;33m)\u001b[0m\u001b[1;33m\u001b[0m\u001b[1;33m\u001b[0m\u001b[0m\n\u001b[0m",
      "\u001b[1;31mValueError\u001b[0m: too many values to unpack (expected 3)"
     ]
    }
   ],
   "source": [
    "random_vals1 = []\n",
    "random_vals1 = box_muller(x_save1,std_dev,_mean)\n",
    "random_vals_t1 = []\n",
    "random_vals_t1 = triple_converter(random_vals1)\n",
    "\n",
    "#values,e = train_weights3(dat1, 0.01,1)\n",
    "#0.006531\n",
    "values1,e1,w = train_weights3(random_vals_t1, 0.01,40)"
   ]
  },
  {
   "cell_type": "code",
   "execution_count": null,
   "metadata": {},
   "outputs": [],
   "source": [
    "y_axis = values1 #network output\n",
    "y = random_vals1\n",
    "x_axis = x = t_save1\n",
    "plt.plot(x,y,\"y\") #actual\n",
    "plt.plot(x_axis,y_axis,\"b\")#noise\n",
    "plt.show()"
   ]
  },
  {
   "cell_type": "markdown",
   "metadata": {},
   "source": [
    "## Error representation "
   ]
  },
  {
   "cell_type": "code",
   "execution_count": null,
   "metadata": {},
   "outputs": [],
   "source": [
    "e_array = e1\n",
    "c = 0\n",
    "while c < len(e_array):\n",
    "    e_array[c] = abs(e_array[c])\n",
    "    c=c+1\n",
    "    \n",
    "y_axis = e_array #network output\n",
    "#y = x_array2\n",
    "x_axis = x = t_save1\n",
    "#plt.plot(x,y,\"y\") #x_noise values\n",
    "plt.plot(x_axis,y_axis,\"b\")#percebtron(blue)\n",
    "plt.show()"
   ]
  },
  {
   "cell_type": "code",
   "execution_count": null,
   "metadata": {},
   "outputs": [],
   "source": [
    "len(e1)"
   ]
  },
  {
   "cell_type": "code",
   "execution_count": null,
   "metadata": {},
   "outputs": [],
   "source": [
    "data7= {'Noise_values':random_vals_t1,'Network_output':values1,'Error':e1,'T':t_save1}\n",
    "vis= pd.DataFrame(data7)\n",
    "vis"
   ]
  },
  {
   "cell_type": "markdown",
   "metadata": {},
   "source": [
    "#### Example 2(step size = 0.01)"
   ]
  },
  {
   "cell_type": "code",
   "execution_count": null,
   "metadata": {},
   "outputs": [],
   "source": [
    "random_vals2 = []\n",
    "random_vals2 = box_muller(x_save2,std_dev,_mean)\n",
    "random_vals_t2 =[]\n",
    "random_vals_t2 = triple_converter(random_vals2)\n",
    "values2,e2,w =train_weights3(random_vals_t2,0.01,20)"
   ]
  },
  {
   "cell_type": "code",
   "execution_count": null,
   "metadata": {},
   "outputs": [],
   "source": [
    "y_axis = values2 #network output\n",
    "y = random_vals2 # x noise\n",
    "x_axis = x = t_save2\n",
    "plt.plot(x,y,\"y\") #actual\n",
    "plt.plot(x_axis,y_axis,\"b\")#noise\n",
    "plt.show()"
   ]
  },
  {
   "cell_type": "markdown",
   "metadata": {},
   "source": [
    "## Error representation"
   ]
  },
  {
   "cell_type": "code",
   "execution_count": null,
   "metadata": {},
   "outputs": [],
   "source": [
    "e_array = e2\n",
    "c = 0\n",
    "while c < len(e_array):\n",
    "    e_array[c] = abs(e_array[c])\n",
    "    c=c+1\n",
    "    \n",
    "y_axis = e_array #network output\n",
    "#y = x_array2\n",
    "x_axis = x = t_save2\n",
    "#plt.plot(x,y,\"y\") #x_noise values\n",
    "plt.plot(x_axis,y_axis,\"b\")#percebtron(blue)\n",
    "plt.show()"
   ]
  },
  {
   "cell_type": "code",
   "execution_count": null,
   "metadata": {},
   "outputs": [],
   "source": [
    "len(values2)"
   ]
  },
  {
   "cell_type": "code",
   "execution_count": null,
   "metadata": {},
   "outputs": [],
   "source": [
    "data8= {'Noise_values':random_vals_t2,'Network_output':values2,'Error':e2,'T':t_save2}\n",
    "vis1= pd.DataFrame(data8)\n",
    "vis1"
   ]
  },
  {
   "cell_type": "markdown",
   "metadata": {},
   "source": [
    "#### Example 3(step size = 0.5)"
   ]
  },
  {
   "cell_type": "code",
   "execution_count": null,
   "metadata": {},
   "outputs": [],
   "source": [
    "random_vals3 = []\n",
    "random_vals3 = box_muller(x_array4,std_dev,_mean)\n",
    "random_vals_t3 = []\n",
    "random_vals_t3 = triple_converter(random_vals3)\n",
    "values3,e3,w = train_weights3(random_vals_t3, 0.011,100)"
   ]
  },
  {
   "cell_type": "code",
   "execution_count": null,
   "metadata": {},
   "outputs": [],
   "source": [
    "y_axis = values3 #network output\n",
    "y = random_vals3 # x noise\n",
    "x_axis = x = t_array4\n",
    "plt.plot(x,y,\"y\") #actual\n",
    "plt.plot(x_axis,y_axis,\"b\")#noise\n",
    "plt.show()"
   ]
  },
  {
   "cell_type": "markdown",
   "metadata": {},
   "source": [
    "## Error representation"
   ]
  },
  {
   "cell_type": "code",
   "execution_count": null,
   "metadata": {},
   "outputs": [],
   "source": [
    "e_array = e3\n",
    "c = 0\n",
    "while c < len(e_array):\n",
    "    e_array[c] = abs(e_array[c])\n",
    "    c=c+1\n",
    "    \n",
    "y_axis = e_array #network output\n",
    "#y = x_array2\n",
    "x_axis = x = t_array4\n",
    "#plt.plot(x,y,\"y\") #x_noise values\n",
    "plt.plot(x_axis,y_axis,\"b\")#percebtron(blue)\n",
    "plt.show()"
   ]
  },
  {
   "cell_type": "code",
   "execution_count": null,
   "metadata": {},
   "outputs": [],
   "source": [
    "data9= {'Noise_values':random_vals_t3,'Network_output':values3,'Error':e3,'T':t_array4}\n",
    "vis2= pd.DataFrame(data9)\n",
    "vis2"
   ]
  },
  {
   "cell_type": "markdown",
   "metadata": {},
   "source": [
    "#### Example 4(step size = 0.75)"
   ]
  },
  {
   "cell_type": "code",
   "execution_count": null,
   "metadata": {},
   "outputs": [],
   "source": [
    "random_vals4 = []\n",
    "random_vals4 = box_muller(x_array5,std_dev,_mean)\n",
    "random_vals_t4 = triple_converter(random_vals4)\n",
    "values4,e4,w = train_weights3(random_vals_t4, 0.01,15)"
   ]
  },
  {
   "cell_type": "code",
   "execution_count": null,
   "metadata": {},
   "outputs": [],
   "source": [
    "y_axis = values4 #network output\n",
    "y = random_vals4 # x noise\n",
    "x_axis = x = t_array5\n",
    "plt.plot(x,y,\"y\") #actual\n",
    "plt.plot(x_axis,y_axis,\"b\")#noise\n",
    "plt.show()"
   ]
  },
  {
   "cell_type": "markdown",
   "metadata": {},
   "source": [
    "## Error representation"
   ]
  },
  {
   "cell_type": "code",
   "execution_count": null,
   "metadata": {},
   "outputs": [],
   "source": [
    "e_array = e4\n",
    "c = 0\n",
    "while c < len(e_array):\n",
    "    e_array[c] = abs(e_array[c])\n",
    "    c=c+1\n",
    "    \n",
    "y_axis = e_array #network output\n",
    "#y = x_array2\n",
    "x_axis = x = t_array5\n",
    "#plt.plot(x,y,\"y\") #x_noise values\n",
    "plt.plot(x_axis,y_axis,\"b\")#percebtron(blue)\n",
    "plt.show()"
   ]
  },
  {
   "cell_type": "code",
   "execution_count": null,
   "metadata": {},
   "outputs": [],
   "source": [
    "#itr,input,output,error\n",
    "data_10= {'Noise_values':random_vals_t4,'Network_output':values4,'Error':e4,'T':t_array5}\n",
    "vis3= pd.DataFrame(data_10)\n",
    "vis3"
   ]
  },
  {
   "cell_type": "markdown",
   "metadata": {},
   "source": [
    "# Perceptron model with different learning rates"
   ]
  },
  {
   "cell_type": "markdown",
   "metadata": {},
   "source": [
    "## Example 1"
   ]
  },
  {
   "cell_type": "code",
   "execution_count": null,
   "metadata": {},
   "outputs": [],
   "source": [
    "random_vals1 = []\n",
    "random_vals1 = box_muller(x_save2,std_dev,_mean)\n",
    "values1,e1 = train_weights(random_vals1, 0.006531,5)"
   ]
  },
  {
   "cell_type": "code",
   "execution_count": null,
   "metadata": {},
   "outputs": [],
   "source": [
    "y_axis = values1 #network output\n",
    "y = random_vals1\n",
    "x_axis = x = t_save2\n",
    "plt.plot(x,y,\"y\") #actual\n",
    "plt.plot(x_axis,y_axis,\"b\")#noise\n",
    "plt.show()"
   ]
  },
  {
   "cell_type": "code",
   "execution_count": null,
   "metadata": {},
   "outputs": [],
   "source": [
    "y_axis = values2 #network output\n",
    "y = random_vals2 # x noise\n",
    "x_axis = x = t_save2\n",
    "plt.plot(x,y,\"y\") #actual\n",
    "plt.plot(x_axis,y_axis,\"b\")#noise\n",
    "plt.show()"
   ]
  },
  {
   "cell_type": "markdown",
   "metadata": {},
   "source": [
    "## Example 2"
   ]
  },
  {
   "cell_type": "code",
   "execution_count": null,
   "metadata": {},
   "outputs": [],
   "source": [
    "random_vals1 = []\n",
    "random_vals1 = box_muller(x_array2,std_dev,_mean)\n",
    "values1,e1 = train_weights(random_vals1, 0.06531,5)"
   ]
  },
  {
   "cell_type": "code",
   "execution_count": null,
   "metadata": {},
   "outputs": [],
   "source": [
    "y_axis = values1 #network output\n",
    "y = random_vals1\n",
    "x_axis = x = t_array2\n",
    "plt.plot(x,y,\"y\") #x_noise values\n",
    "plt.plot(x_axis,y_axis,\"b\")#percebtron(blue)\n",
    "plt.show()"
   ]
  },
  {
   "cell_type": "code",
   "execution_count": null,
   "metadata": {},
   "outputs": [],
   "source": []
  },
  {
   "cell_type": "markdown",
   "metadata": {},
   "source": [
    "## Example 3"
   ]
  },
  {
   "cell_type": "code",
   "execution_count": null,
   "metadata": {},
   "outputs": [],
   "source": [
    "random_vals8 = []\n",
    "random_vals8 = box_muller(x_array2,std_dev,_mean)\n",
    "values8,e8 = train_weights(random_vals8, 0.6531,5)"
   ]
  },
  {
   "cell_type": "code",
   "execution_count": null,
   "metadata": {},
   "outputs": [],
   "source": [
    "y_axis = values8 #network output\n",
    "y = random_vals8\n",
    "x_axis = x = t_array2\n",
    "plt.plot(x,y,\"y\") #x_noise values\n",
    "plt.plot(x_axis,y_axis,\"b\")#percebtron(blue)\n",
    "plt.show()"
   ]
  },
  {
   "cell_type": "code",
   "execution_count": null,
   "metadata": {},
   "outputs": [],
   "source": [
    "data_11= {'Noise_values':random_vals8,'Network_output':values8,'Error':e8,'T':t_array2}\n",
    "vis8= pd.DataFrame(data_11)\n",
    "vis8"
   ]
  },
  {
   "cell_type": "code",
   "execution_count": null,
   "metadata": {},
   "outputs": [],
   "source": [
    "#df.to_csv(r'Path where you want to store the exported CSV file\\File Name.csv', index = False)"
   ]
  },
  {
   "cell_type": "code",
   "execution_count": null,
   "metadata": {},
   "outputs": [],
   "source": [
    "random_vals3 = []\n",
    "random_vals3 = box_muller(x_array4,std_dev,_mean)\n",
    "random_vals_t3 = []\n",
    "random_vals_t3 = triple_converter(x_array2)\n",
    "values3,e3,w = train_weights3(random_vals_t3, 0.011,100)"
   ]
  },
  {
   "cell_type": "code",
   "execution_count": null,
   "metadata": {},
   "outputs": [],
   "source": [
    "y_axis = values3 #network output\n",
    "y = x_array2\n",
    "x_axis = x = t_array2\n",
    "plt.plot(x,y,\"y\") #u_values\n",
    "plt.plot(x_axis,y_axis,\"b\")#percebtron(blue)\n",
    "plt.show()"
   ]
  },
  {
   "cell_type": "code",
   "execution_count": null,
   "metadata": {},
   "outputs": [],
   "source": [
    "w"
   ]
  },
  {
   "cell_type": "code",
   "execution_count": null,
   "metadata": {},
   "outputs": [],
   "source": [
    "random_vals3 = []\n",
    "random_vals3 = box_muller(x_array4,std_dev,_mean)\n",
    "random_vals_t3 = []\n",
    "random_vals_t3 = triple_converter(x_array2)\n",
    "values3,e3 = train_weights(x_array2, 0.011,5)"
   ]
  },
  {
   "cell_type": "code",
   "execution_count": null,
   "metadata": {
    "scrolled": false
   },
   "outputs": [],
   "source": [
    "y_axis = values3 #network output\n",
    "y = x_array2\n",
    "x_axis = x = t_array2\n",
    "plt.plot(x,y,\"y\") #x_noise values\n",
    "plt.plot(x_axis,y_axis,\"b\")#percebtron(blue)\n",
    "plt.show()"
   ]
  },
  {
   "cell_type": "code",
   "execution_count": null,
   "metadata": {},
   "outputs": [],
   "source": [
    "len(values3)"
   ]
  },
  {
   "cell_type": "code",
   "execution_count": null,
   "metadata": {},
   "outputs": [],
   "source": [
    "e_array = e3\n",
    "c = 0\n",
    "while c < len(e_array):\n",
    "    e_array[c] = abs(e_array[c])\n",
    "    c=c+1\n",
    "    \n",
    "y_axis = e_array #network output\n",
    "#y = x_array2\n",
    "x_axis = x = t_array2\n",
    "#plt.plot(x,y,\"y\") #x_noise values\n",
    "plt.plot(x_axis,y_axis,\"b\")#percebtron(blue)\n",
    "plt.show()"
   ]
  },
  {
   "cell_type": "code",
   "execution_count": null,
   "metadata": {},
   "outputs": [],
   "source": [
    "y_axis = e_array #network output\n",
    "#y = x_array2\n",
    "x_axis = x = t_array2\n",
    "#plt.plot(x,y,\"y\") #x_noise values\n",
    "plt.plot(x_axis,y_axis,\"b\")#percebtron(blue)\n",
    "plt.show()"
   ]
  },
  {
   "cell_type": "code",
   "execution_count": null,
   "metadata": {},
   "outputs": [],
   "source": []
  },
  {
   "cell_type": "code",
   "execution_count": null,
   "metadata": {},
   "outputs": [],
   "source": []
  },
  {
   "cell_type": "code",
   "execution_count": null,
   "metadata": {},
   "outputs": [],
   "source": []
  },
  {
   "cell_type": "code",
   "execution_count": null,
   "metadata": {},
   "outputs": [],
   "source": []
  },
  {
   "cell_type": "code",
   "execution_count": null,
   "metadata": {},
   "outputs": [],
   "source": []
  },
  {
   "cell_type": "code",
   "execution_count": null,
   "metadata": {},
   "outputs": [],
   "source": []
  }
 ],
 "metadata": {
  "kernelspec": {
   "display_name": "Python 3",
   "language": "python",
   "name": "python3"
  },
  "language_info": {
   "codemirror_mode": {
    "name": "ipython",
    "version": 3
   },
   "file_extension": ".py",
   "mimetype": "text/x-python",
   "name": "python",
   "nbconvert_exporter": "python",
   "pygments_lexer": "ipython3",
   "version": "3.7.4"
  }
 },
 "nbformat": 4,
 "nbformat_minor": 2
}
