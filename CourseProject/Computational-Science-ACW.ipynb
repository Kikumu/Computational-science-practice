{
 "cells": [
  {
   "cell_type": "markdown",
   "metadata": {},
   "source": [
    "# Part 1: Simulating the robot"
   ]
  },
  {
   "cell_type": "code",
   "execution_count": 1,
   "metadata": {},
   "outputs": [],
   "source": [
    "import numpy as np\n",
    "import random as rand\n",
    "import numpy as np\n",
    "import matplotlib.pyplot as plt\n",
    "import math\n",
    "import csv\n",
    "from scipy.stats import norm\n",
    "import seaborn as sns\n",
    "import pandas as pd\n",
    "\n",
    "def func(U,x):\n",
    "    #-2x+2U\n",
    "    val = -(2*x) + 2*U\n",
    "    return val\n",
    "def simulation(x,t,h):\n",
    "    save = 0\n",
    "    U_save = []\n",
    "    t_save = []\n",
    "    x_save = []\n",
    "    x_exact_save = []\n",
    "\n",
    "    U_array = []\n",
    "    t_array = []\n",
    "    x_array = []\n",
    "    x_exact_array = []\n",
    "    while(t <= 15):\n",
    "        if(t <= 5):\n",
    "            U = 2\n",
    "        elif(t < 5 or t <= 10):\n",
    "            U = 1\n",
    "        elif(t < 10 or t <=15):\n",
    "            U = 3\n",
    "        #print(\"U value:\", x)\n",
    "        U_array.append(U)\n",
    "        k = h * func(U,x)\n",
    "        x = x + k\n",
    "        t = t + h\n",
    "        #value under graph\n",
    "        x_exact = U - math.exp(-2*t)\n",
    "        t_array.append(t)\n",
    "        x_array.append(x)\n",
    "        x_exact_array.append(x_exact)\n",
    "        save+=1\n",
    "        #save every 10th integral if h<=0.01\n",
    "        if(save%10 == 0):\n",
    "            U_save.append(U)\n",
    "            t_save.append(t)\n",
    "            x_save.append(x)\n",
    "            x_exact_save.append(x_exact)\n",
    "            #print(\"save1: \",save)\n",
    "        #print(\"Where it is: \",x,\"Exact pos= \",x_exact,\"Time: \",t)\n",
    "    return U_save,t_save,x_save,x_exact_save,U_array,t_array,x_array,x_exact_array "
   ]
  },
  {
   "cell_type": "markdown",
   "metadata": {},
   "source": [
    "The following step sizes were provided to measure against: 0.75, .5, 0.25, 0.01, 0.001\n"
   ]
  },
  {
   "cell_type": "markdown",
   "metadata": {},
   "source": [
    "## Step size 0.001"
   ]
  },
  {
   "cell_type": "code",
   "execution_count": 2,
   "metadata": {},
   "outputs": [],
   "source": [
    "U_save1 = []\n",
    "t_save1 = []\n",
    "x_save1 = []\n",
    "x_exact_save1 = []\n",
    "\n",
    "\n",
    "##saves every time\n",
    "U_array1 = []\n",
    "t_array1 = []\n",
    "x_array1 = []\n",
    "x_exact_array1 = []\n",
    "\n",
    "#step size \n",
    "U_save1,t_save1,x_save1,x_exact_save1,U_array1,t_array1,x_array1,x_exact_array1=simulation(0,0,0.001)\n",
    "\n",
    "#0.35 for bell curve"
   ]
  },
  {
   "cell_type": "markdown",
   "metadata": {},
   "source": [
    "## Step size 0.01"
   ]
  },
  {
   "cell_type": "code",
   "execution_count": 3,
   "metadata": {},
   "outputs": [],
   "source": [
    "U_save2 = []\n",
    "t_save2 = []\n",
    "x_save2 = []\n",
    "x_exact_save2 = []\n",
    "\n",
    "\n",
    "##saves every time\n",
    "U_array2 = []\n",
    "t_array2 = []\n",
    "x_array2 = []\n",
    "x_exact_array2 = []\n",
    "\n",
    "#step size \n",
    "U_save2,t_save2,x_save2,x_exact_save2,U_array2,t_array2,x_array2,x_exact_array2=simulation(0,0,0.01)\n",
    "\n",
    "#0.35 for bell curve"
   ]
  },
  {
   "cell_type": "markdown",
   "metadata": {},
   "source": [
    "## Step size 0.25"
   ]
  },
  {
   "cell_type": "code",
   "execution_count": 4,
   "metadata": {},
   "outputs": [],
   "source": [
    "U_save3 = []\n",
    "t_save3 = []\n",
    "x_save3 = []\n",
    "x_exact_save3 = []\n",
    "\n",
    "\n",
    "##saves every time\n",
    "U_array3 = []\n",
    "t_array3 = []\n",
    "x_array3 = []\n",
    "x_exact_array3 = []\n",
    "\n",
    "#step size \n",
    "U_save3,t_save3,x_save3,x_exact_save3,U_array3,t_array3,x_array3,x_exact_array3=simulation(0,0,0.25)"
   ]
  },
  {
   "cell_type": "markdown",
   "metadata": {},
   "source": [
    "## Step size 0.5"
   ]
  },
  {
   "cell_type": "code",
   "execution_count": 5,
   "metadata": {},
   "outputs": [],
   "source": [
    "U_save4 = []\n",
    "t_save4 = []\n",
    "x_save4 = []\n",
    "x_exact_save4 = []\n",
    "\n",
    "\n",
    "##saves every time\n",
    "U_array4 = []\n",
    "t_array4 = []\n",
    "x_array4 = []\n",
    "x_exact_array4 = []\n",
    "\n",
    "#step size \n",
    "U_save4,t_save4,x_save4,x_exact_save4,U_array4,t_array4,x_array4,x_exact_array4=simulation(0,0,0.5)"
   ]
  },
  {
   "cell_type": "markdown",
   "metadata": {},
   "source": [
    "## Step size 0.75"
   ]
  },
  {
   "cell_type": "code",
   "execution_count": 6,
   "metadata": {},
   "outputs": [],
   "source": [
    "U_save5 = []\n",
    "t_save5 = []\n",
    "x_save5 = []\n",
    "x_exact_save5 = []\n",
    "\n",
    "\n",
    "##saves every time\n",
    "U_array5 = []\n",
    "t_array5 = []\n",
    "x_array5 = []\n",
    "x_exact_array5 = []\n",
    "\n",
    "#step size \n",
    "U_save5,t_save5,x_save5,x_exact_save5,U_array5,t_array5,x_array5,x_exact_array5=simulation(0,0,0.75)"
   ]
  },
  {
   "cell_type": "markdown",
   "metadata": {},
   "source": [
    "## Saving values into a dataframe and plotting it "
   ]
  },
  {
   "cell_type": "code",
   "execution_count": 7,
   "metadata": {},
   "outputs": [],
   "source": [
    "data1 = {'X':x_array1,'T':t_array1}\n",
    "df1 = pd.DataFrame(data1)\n",
    "data2 = {'X':x_array2,'T':t_array2}\n",
    "df2= pd.DataFrame(data2)\n",
    "data3 = {'X':x_array3,'T':t_array3}\n",
    "df3= pd.DataFrame(data3)\n",
    "data4= {'X':x_array4,'T':t_array4}\n",
    "df4= pd.DataFrame(data4)\n",
    "data5= {'X':x_array5,'T':t_array5}\n",
    "df5= pd.DataFrame(data5)"
   ]
  },
  {
   "cell_type": "code",
   "execution_count": 8,
   "metadata": {},
   "outputs": [
    {
     "data": {
      "image/png": "[encoded data removed]",
      "text/plain": [
       "<Figure size 432x288 with 1 Axes>"
      ]
     },
     "metadata": {
      "needs_background": "light"
     },
     "output_type": "display_data"
    }
   ],
   "source": [
    "plt3 = sns.lineplot(x=\"T\", y=\"X\", data=df1) #blue\n",
    "plt4 = sns.lineplot(x=\"T\", y=\"X\", data=df2) #Orange\n",
    "plt5 = sns.lineplot(x=\"T\", y=\"X\", data=df3) #Green\n",
    "plt6 = sns.lineplot(x=\"T\", y=\"X\", data=df4) #Red\n",
    "plt7 = sns.lineplot(x=\"T\", y=\"X\", data=df5) #Purple"
   ]
  },
  {
   "cell_type": "markdown",
   "metadata": {},
   "source": [
    "## Error evaluation against step size"
   ]
  },
  {
   "cell_type": "code",
   "execution_count": null,
   "metadata": {},
   "outputs": [],
   "source": []
  },
  {
   "cell_type": "code",
   "execution_count": null,
   "metadata": {},
   "outputs": [],
   "source": []
  },
  {
   "cell_type": "code",
   "execution_count": null,
   "metadata": {},
   "outputs": [],
   "source": []
  },
  {
   "cell_type": "code",
   "execution_count": null,
   "metadata": {},
   "outputs": [],
   "source": []
  },
  {
   "cell_type": "markdown",
   "metadata": {},
   "source": [
    "# Part 2: Random Noise using Box Muller Method"
   ]
  },
  {
   "cell_type": "markdown",
   "metadata": {},
   "source": [
    "## Initialise/Compute standard deviation and mean"
   ]
  },
  {
   "cell_type": "code",
   "execution_count": 9,
   "metadata": {},
   "outputs": [
    {
     "name": "stdout",
     "output_type": "stream",
     "text": [
      "deviation:  0.0431 mean:  0.5 DEVIATION:  0.7789244866974134 MEAN:  1.900142980914039\n"
     ]
    }
   ],
   "source": [
    "import statistics as stat\n",
    "std_dev1 = stat.stdev(x_array1)   #calculate standard deviation of input array\n",
    "_mean1 = stat.mean(x_array1)      #calculate mean of input array\n",
    "\n",
    "std_dev = 0.0431                  #set custom standard deviation\n",
    "_mean = 0.5                       #set custom mean\n",
    "print(\"deviation: \",std_dev,\"mean: \",_mean,\"DEVIATION: \",std_dev1,\"MEAN: \",_mean1)"
   ]
  },
  {
   "cell_type": "markdown",
   "metadata": {},
   "source": [
    "## compute box muller algorithm"
   ]
  },
  {
   "cell_type": "code",
   "execution_count": 10,
   "metadata": {},
   "outputs": [],
   "source": [
    "def box_muller(array,standard_deviation,mean):\n",
    "    random_vls = []\n",
    "    i = 0\n",
    "    it = 0\n",
    "    box_1 = []\n",
    "    box_2 = []\n",
    "    while i < len(array):\n",
    "        if(it == 0):\n",
    "            z1 =  rand.uniform(0,2*np.pi)\n",
    "            b  =  standard_deviation*np.sqrt(-2*math.log(rand.uniform(0,1)))\n",
    "            z2 =  b*(math.sin(z1))+mean\n",
    "            z3 =  b*(math.cos(z1))+mean\n",
    "            box_1.append(z2)\n",
    "            noise = array[i] + z2\n",
    "            random_vls.append(noise)\n",
    "            it = 1\n",
    "            i = i + 1\n",
    "        else:\n",
    "            it = 0\n",
    "            box_2.append(z3)\n",
    "            noise = array[i] + z3\n",
    "            random_vls.append(noise)\n",
    "            i= i + 1\n",
    "    return random_vls,box_1,box_2"
   ]
  },
  {
   "cell_type": "code",
   "execution_count": 11,
   "metadata": {},
   "outputs": [],
   "source": [
    "random_vals = []\n",
    "random_vals,b1,b2 = box_muller(x_save2,std_dev,_mean)"
   ]
  },
  {
   "cell_type": "markdown",
   "metadata": {},
   "source": [
    "## Noise plot"
   ]
  },
  {
   "cell_type": "code",
   "execution_count": 12,
   "metadata": {},
   "outputs": [
    {
     "data": {
      "image/png": "[encoded data removed]",
      "text/plain": [
       "<Figure size 432x288 with 1 Axes>"
      ]
     },
     "metadata": {
      "needs_background": "light"
     },
     "output_type": "display_data"
    }
   ],
   "source": [
    "y = random_vals\n",
    "x = t_save2\n",
    "plt.plot(x,y,\"b\") #actual\n",
    "plt.show()"
   ]
  },
  {
   "cell_type": "markdown",
   "metadata": {},
   "source": [
    "## Proof that numbers generated fall within a gaussian distribution"
   ]
  },
  {
   "cell_type": "code",
   "execution_count": 13,
   "metadata": {},
   "outputs": [
    {
     "data": {
      "text/plain": [
       "<matplotlib.axes._subplots.AxesSubplot at 0x194a4e7f508>"
      ]
     },
     "execution_count": 13,
     "metadata": {},
     "output_type": "execute_result"
    },
    {
     "data": {
      "image/png": "[encoded data removed]",
      "text/plain": [
       "<Figure size 432x288 with 1 Axes>"
      ]
     },
     "metadata": {
      "needs_background": "light"
     },
     "output_type": "display_data"
    }
   ],
   "source": [
    "sns.distplot(b1)"
   ]
  },
  {
   "cell_type": "code",
   "execution_count": 14,
   "metadata": {},
   "outputs": [
    {
     "data": {
      "text/plain": [
       "<matplotlib.axes._subplots.AxesSubplot at 0x194a51a1408>"
      ]
     },
     "execution_count": 14,
     "metadata": {},
     "output_type": "execute_result"
    },
    {
     "data": {
      "image/png": "[encoded data removed]",
      "text/plain": [
       "<Figure size 432x288 with 1 Axes>"
      ]
     },
     "metadata": {
      "needs_background": "light"
     },
     "output_type": "display_data"
    }
   ],
   "source": [
    "sns.distplot(b2)"
   ]
  },
  {
   "cell_type": "code",
   "execution_count": 15,
   "metadata": {},
   "outputs": [
    {
     "data": {
      "text/plain": [
       "<matplotlib.axes._subplots.AxesSubplot at 0x194a5231448>"
      ]
     },
     "execution_count": 15,
     "metadata": {},
     "output_type": "execute_result"
    },
    {
     "data": {
      "image/png": "[encoded data removed]",
      "text/plain": [
       "<Figure size 432x288 with 1 Axes>"
      ]
     },
     "metadata": {
      "needs_background": "light"
     },
     "output_type": "display_data"
    }
   ],
   "source": [
    "sns.distplot(random_vals)"
   ]
  },
  {
   "cell_type": "markdown",
   "metadata": {},
   "source": [
    "# Part 3: Adding an intelligent agent to track the noise"
   ]
  },
  {
   "cell_type": "markdown",
   "metadata": {},
   "source": [
    "## Sigmoid Activation"
   ]
  },
  {
   "cell_type": "code",
   "execution_count": 16,
   "metadata": {},
   "outputs": [],
   "source": [
    "def sigmoid_activation(val):\n",
    "  sigmoid = 1/1+np.exp(-val)#sigmoid activation function\n",
    "  return sigmoid\n",
    "\n",
    "def train_weights3(array, lr, loops):\n",
    "    weights3 = [1,rand.uniform(0,1),rand.uniform(0,1),rand.uniform(0,1)]#weights initialisation\n",
    "    weights3_1 = []         #save weights\n",
    "    itr_array = []          #saves number of epochs done\n",
    "    sum_error_array = []    #saves sum_error generated per epoch\n",
    "    for loop in range(loops):               #for each epoch in epochs\n",
    "        net_array = []                      #saves network predictions\n",
    "        error_array = []                    #saves error\n",
    "        sum_error = 0.0                     #a variable that keeps track of error generated\n",
    "        c = 0                               #counter for initialising\n",
    "        w_adaptor = 0                       #used to iterate through saved weights in order to update them\n",
    "        if loop < 1:                        #if its less than one epoch, create new weights and append them to an array\n",
    "            for a in array:                 #for each input in input array\n",
    "                weights3_1.append([weights3[0],weights3[1],weights3[2],weights3[3]])  #append new weights to empty weight array\n",
    "                prediction, netwrk_sum = predict3(a,weights3)                         #predict function for sigmoid network\n",
    "                if c == 0:\n",
    "                    Target = a[2]\n",
    "                    #print(1)\n",
    "                elif c==1:\n",
    "                    Target = a[1]\n",
    "                else:\n",
    "                    Target = a[0]\n",
    "                delta = Target - prediction  #calculate error of the prediction\n",
    "                error = delta\n",
    "                error_array.append(error)    #save error\n",
    "                net_array.append(prediction) #save network\n",
    "                #------------------------WEIGHTS UPDATED BY CORRESPONDING CURRENT ERROR AND INPUT----------------------------------\n",
    "                weights3_change_bias = -a[0] *lr*(error)         #calculate weight change for bias\n",
    "                weights3[0] = weights3[0] + weights3_change_bias #add weight change calculated to current bias\n",
    "                weights3_change= -a[0]*(error)*lr                #calculate weight change for input weights\n",
    "                for i in range(len(a)):                          #iterate over every input weight\n",
    "                    weights3[i + 1] = weights3[i +1] + weights3_change     #update each input weight\n",
    "                sum_error += error**2                            #calculate sum error\n",
    "                c = c + 1                                        #increase counter\n",
    "            print('>epoch=%d, lrate=%.3f, error=%.3f, , sum_error=%.3f' % (loop, lr, error, sum_error))\n",
    "            sum_error_array.append(sum_error)                    #append sum_error\n",
    "            itr_array.append(loop)                                #append iteration\n",
    "        else:\n",
    "            for a in array:\n",
    "                prediction, netwrk_sum = predict3(a,weights3_1[w_adaptor]) #calculate prediction based on created weights\n",
    "                if c == 0:\n",
    "                    Target = a[2]\n",
    "                    #print(1)\n",
    "                elif c==1:\n",
    "                    Target = a[1]\n",
    "                else:\n",
    "                    Target = a[0]\n",
    "                delta = Target - prediction        #calculate error change\n",
    "                error = delta                \n",
    "                error_array.append(error)          #append error\n",
    "                net_array.append(prediction)       #append network prediction \n",
    "                #------------------------WEIGHTS UPDATED BY CORRESPONDING CURRENT ERROR AND INPUT----------------------------------\n",
    "                weights3_change_bias = -a[0] *lr*(error) #calculate weight change for bias\n",
    "                weights3_1[w_adaptor][0] = weights3_1[w_adaptor][0] + weights3_change_bias #add weight change to current bias\n",
    "                weights3_change= -a[0]*(error)*lr  #calculate weight change\n",
    "                for i in range(len(a)):            #iterate through each input\n",
    "                     weights3_1[w_adaptor][i + 1] =  weights3_1[w_adaptor][i +1] + weights3_change #for each input weight add weight change\n",
    "                sum_error += error**2          #calculate error squared\n",
    "                c = c + 1                      #increment counter\n",
    "                w_adaptor = w_adaptor + 1      #increment weight adaptor\n",
    "            print('>epoch=%d, lrate=%.3f, error=%.3f, , sum_error=%.3f' % (loop, lr, error, sum_error))\n",
    "            sum_error_array.append(sum_error)  #append error\n",
    "            itr_array.append(loop)             #append iteration\n",
    "    return net_array,error_array,weights3_1,sum_error_array,itr_array\n",
    "            \n",
    "def predict3(noise2,weights2):\n",
    "    net_sum = 0\n",
    "    net_sum = weights2[0] #obtain bias from weight array\n",
    "    for i in range(len(noise2)-1):\n",
    "        net_sum += weights2[i + 1] * noise2[i] #multiply input by respective weight to obtain a summation\n",
    "    activation2 = sigmoid_activation(net_sum)  #implement sigmoid function to summation obtained\n",
    "    return activation2, net_sum                #return activation and network sum\n",
    "\n",
    "def triple_converter(array):                   #converts input into a tuple so that we can pass 3 input weights per prediction\n",
    "    triple_array = []\n",
    "    c = 0                                      #counter\n",
    "    while c < len(array):\n",
    "        if c == 0:\n",
    "            triple_array.append([0,0,array[c]])\n",
    "        elif c == 1:\n",
    "            triple_array.append([0,array[c],array[c-1]])\n",
    "        else:\n",
    "            triple_array.append([array[c],array[c-1],array[c-2]])\n",
    "        c = c + 1                              #increment counter\n",
    "    return triple_array"
   ]
  },
  {
   "cell_type": "markdown",
   "metadata": {},
   "source": [
    "## Step function activation"
   ]
  },
  {
   "cell_type": "code",
   "execution_count": 17,
   "metadata": {},
   "outputs": [],
   "source": [
    "##--------------------------------SINGLE PERCEPTRON-----------------------------------------------##\n",
    "def predict_step(noise1,weights1):\n",
    "    net_sum = 0                                #net_sum initialise\n",
    "    out = 0                                    #initialise output of step function\n",
    "    net_sum = weights1[0]                      #grab bias from weights and set as current net_sum \n",
    "    for i in range(len(noise1)-1):             #for every input\n",
    "        net_sum += weights1[i + 1] * noise1[i] #multiply each input to weight and add result to netsum\n",
    "    if net_sum > 1: #if netsum is greater than 1                        \n",
    "        out = 1     #set output of step to 1\n",
    "    else:           #else\n",
    "        out = 0     #set output to 0\n",
    "    return out      #return output\n",
    "\n",
    "def train_weights_step(array, lr, loops):\n",
    "    weights3 = [1,rand.uniform(0,1),rand.uniform(0,1),rand.uniform(0,1)] #initialise weights\n",
    "    weights3_1 = []             #append/save created weights\n",
    "    for loop in range(loops):   #for each epoch in epochs\n",
    "        net_array = []          #append network values\n",
    "        error_array = []        #append error array\n",
    "        sum_error = 0.0         #keep track of sum_error\n",
    "        c = 0                   #counter variable\n",
    "        w_adaptor = 0           #weight counter(used to iterate through each value in weights array)\n",
    "        if loop < 1:            #if its less than one epoch, create new weights and append them to an array\n",
    "            for a in array:     #for each input in array input\n",
    "                weights3_1.append([weights3[0],weights3[1],weights3[2],weights3[3]]) #append weights created\n",
    "                prediction = predict_step(a,weights3)                                #grab weights created and predict\n",
    "                if c == 0:\n",
    "                    Target = a[2]\n",
    "                    #print(1)\n",
    "                elif c==1:\n",
    "                    Target = a[1]\n",
    "                else:\n",
    "                    Target = a[0]\n",
    "                delta = Target - prediction      #calculate error\n",
    "                error = delta\n",
    "                error_array.append(error)        #append error\n",
    "                net_array.append(prediction)\n",
    "                #------------------------WEIGHTS UPDATED BY CORRESPONDING CURRENT ERROR AND INPUT----------------------------------\n",
    "                weights3_change_bias = -a[0]*lr*error           #calculate weight change for bias\n",
    "                weights3[0] = weights3[0] + weights3_change_bias#add calculated weight change to bias\n",
    "                weights3_change= -a[0]*lr*error                 #calculate weight change for inputs\n",
    "                for i in range(len(a)):                         #for each input in input array\n",
    "                    weights3[i + 1] = weights3[i +1] + weights3_change #obtain respective weight and add it with the weight change\n",
    "                sum_error += error**2            #calculate sum_error\n",
    "                c = c + 1                        #increment counter\n",
    "            print('>epoch=%d, lrate=%.3f, error=%.3f, , sum_error=%.3f' % (loop, lr, error, sum_error))\n",
    "        else:                               #if epoch is > 1\n",
    "            for a in array:                 #for each input in input array\n",
    "                prediction = predict_step(a,weights3_1[w_adaptor]) #calculate predictions using weights from previous epoch\n",
    "                if c == 0:\n",
    "                    Target = a[2]\n",
    "                elif c==1:\n",
    "                    Target = a[1]\n",
    "                else:\n",
    "                    Target = a[0]\n",
    "                delta = prediction - Target #calculate error\n",
    "                error = delta\n",
    "                error_array.append(error)   #append error\n",
    "                net_array.append(prediction)#append predictions\n",
    "                #------------------------WEIGHTS UPDATED BY CORRESPONDING CURRENT ERROR AND INPUT----------------------------------\n",
    "            \n",
    "                weights3_change_bias = -a[0] *lr*(error) #calulate weight change for bias\n",
    "                weights3_1[w_adaptor][0] = weights3_1[w_adaptor][0] + weights3_change_bias #update bias weight in the saved weights array\n",
    "                weights3_change= -a[0]*(error)*lr       #calculate weight change for weights in input\n",
    "                for i in range(len(a)):                 #for each input in input array\n",
    "                     weights3_1[w_adaptor][i + 1] =  weights3_1[w_adaptor][i +1] + weights3_change #update respective weights in weights array\n",
    "                sum_error += error**2                   #calculate sum_error\n",
    "                c = c + 1                               #increment counter\n",
    "                w_adaptor = w_adaptor + 1               #increment weight counter\n",
    "            print('>epoch=%d, lrate=%.3f, error=%.3f, , sum_error=%.3f' % (loop, lr, error, sum_error))\n",
    "    return net_array,error_array,weights3_1"
   ]
  },
  {
   "cell_type": "markdown",
   "metadata": {},
   "source": [
    "# Implement weights(sigmoid)"
   ]
  },
  {
   "cell_type": "code",
   "execution_count": 18,
   "metadata": {},
   "outputs": [],
   "source": [
    "def implement_weights3(array,weights):\n",
    "    net_array = []\n",
    "    error_array = []\n",
    "    sum_error = 0.0\n",
    "    w_adaptor = 0\n",
    "    for a in array: #loop through each input in array\n",
    "        prediction, netwrk_sum = predict3(a,weights[w_adaptor]) #grab saved weight and predict\n",
    "        net_array.append(prediction)   #append prediction\n",
    "        Target = a[0]                  #current input\n",
    "        error = Target - prediction    #error calculation\n",
    "        error_array.append(error)      #append error\n",
    "        sum_error += error**2          #calculate sum_error\n",
    "        w_adaptor = w_adaptor + 1      #increment weight counter\n",
    "    print('>error=%.3f,sum_error=%.3f' % (error, sum_error))\n",
    "    return net_array,sum_error\n",
    "            \n",
    "def predict3(noise2,weights2):\n",
    "    net_sum = 0\n",
    "    net_sum = weights2[0]\n",
    "    for i in range(len(noise2)-1):\n",
    "        net_sum += weights2[i + 1] * noise2[i]\n",
    "    activation2 = sigmoid_activation(net_sum)\n",
    "    return activation2, net_sum\n",
    "#x_save2"
   ]
  },
  {
   "cell_type": "markdown",
   "metadata": {},
   "source": [
    "## Train network using sigmoid"
   ]
  },
  {
   "cell_type": "code",
   "execution_count": 58,
   "metadata": {},
   "outputs": [
    {
     "name": "stdout",
     "output_type": "stream",
     "text": [
      ">epoch=0, lrate=0.010, error=0.008, , sum_error=23.471\n",
      ">epoch=1, lrate=0.010, error=0.008, , sum_error=23.471\n",
      ">epoch=2, lrate=0.010, error=0.003, , sum_error=20.043\n",
      ">epoch=3, lrate=0.010, error=0.001, , sum_error=17.284\n",
      ">epoch=4, lrate=0.010, error=0.000, , sum_error=14.990\n",
      ">epoch=5, lrate=0.010, error=0.000, , sum_error=13.041\n",
      ">epoch=6, lrate=0.010, error=0.000, , sum_error=11.360\n",
      ">epoch=7, lrate=0.010, error=0.000, , sum_error=9.899\n",
      ">epoch=8, lrate=0.010, error=0.000, , sum_error=8.626\n",
      ">epoch=9, lrate=0.010, error=0.000, , sum_error=7.517\n",
      ">epoch=10, lrate=0.010, error=0.000, , sum_error=6.552\n",
      ">epoch=11, lrate=0.010, error=0.000, , sum_error=5.717\n",
      ">epoch=12, lrate=0.010, error=0.000, , sum_error=4.995\n",
      ">epoch=13, lrate=0.010, error=0.000, , sum_error=4.374\n",
      ">epoch=14, lrate=0.010, error=0.000, , sum_error=3.840\n",
      ">epoch=15, lrate=0.010, error=0.000, , sum_error=3.382\n",
      ">epoch=16, lrate=0.010, error=0.000, , sum_error=2.989\n",
      ">epoch=17, lrate=0.010, error=0.000, , sum_error=2.652\n",
      ">epoch=18, lrate=0.010, error=0.000, , sum_error=2.362\n",
      ">epoch=19, lrate=0.010, error=0.000, , sum_error=2.112\n",
      ">epoch=20, lrate=0.010, error=0.000, , sum_error=1.897\n",
      ">epoch=21, lrate=0.010, error=0.000, , sum_error=1.710\n",
      ">epoch=22, lrate=0.010, error=0.000, , sum_error=1.548\n",
      ">epoch=23, lrate=0.010, error=0.000, , sum_error=1.407\n",
      ">epoch=24, lrate=0.010, error=0.000, , sum_error=1.284\n",
      ">epoch=25, lrate=0.010, error=0.000, , sum_error=1.176\n",
      ">epoch=26, lrate=0.010, error=0.000, , sum_error=1.081\n",
      ">epoch=27, lrate=0.010, error=0.000, , sum_error=0.997\n",
      ">epoch=28, lrate=0.010, error=0.000, , sum_error=0.924\n",
      ">epoch=29, lrate=0.010, error=0.000, , sum_error=0.859\n",
      ">epoch=30, lrate=0.010, error=0.000, , sum_error=0.801\n",
      ">epoch=31, lrate=0.010, error=0.000, , sum_error=0.750\n",
      ">epoch=32, lrate=0.010, error=0.000, , sum_error=0.705\n",
      ">epoch=33, lrate=0.010, error=0.000, , sum_error=0.664\n",
      ">epoch=34, lrate=0.010, error=0.000, , sum_error=0.628\n",
      ">epoch=35, lrate=0.010, error=0.000, , sum_error=0.595\n",
      ">epoch=36, lrate=0.010, error=0.000, , sum_error=0.566\n",
      ">epoch=37, lrate=0.010, error=0.000, , sum_error=0.540\n",
      ">epoch=38, lrate=0.010, error=0.000, , sum_error=0.516\n",
      ">epoch=39, lrate=0.010, error=0.000, , sum_error=0.495\n",
      ">epoch=40, lrate=0.010, error=0.000, , sum_error=0.475\n",
      ">epoch=41, lrate=0.010, error=0.000, , sum_error=0.457\n",
      ">epoch=42, lrate=0.010, error=0.000, , sum_error=0.441\n",
      ">epoch=43, lrate=0.010, error=0.000, , sum_error=0.426\n",
      ">epoch=44, lrate=0.010, error=0.000, , sum_error=0.413\n",
      ">epoch=45, lrate=0.010, error=0.000, , sum_error=0.400\n",
      ">epoch=46, lrate=0.010, error=0.000, , sum_error=0.389\n",
      ">epoch=47, lrate=0.010, error=0.000, , sum_error=0.378\n",
      ">epoch=48, lrate=0.010, error=0.000, , sum_error=0.368\n",
      ">epoch=49, lrate=0.010, error=0.000, , sum_error=0.359\n",
      ">epoch=50, lrate=0.010, error=0.000, , sum_error=0.350\n",
      ">epoch=51, lrate=0.010, error=0.000, , sum_error=0.343\n",
      ">epoch=52, lrate=0.010, error=0.000, , sum_error=0.335\n",
      ">epoch=53, lrate=0.010, error=0.000, , sum_error=0.328\n",
      ">epoch=54, lrate=0.010, error=0.000, , sum_error=0.322\n",
      ">epoch=55, lrate=0.010, error=0.000, , sum_error=0.316\n",
      ">epoch=56, lrate=0.010, error=0.000, , sum_error=0.311\n",
      ">epoch=57, lrate=0.010, error=0.000, , sum_error=0.305\n",
      ">epoch=58, lrate=0.010, error=0.000, , sum_error=0.301\n",
      ">epoch=59, lrate=0.010, error=0.000, , sum_error=0.296\n",
      ">epoch=60, lrate=0.010, error=0.000, , sum_error=0.292\n",
      ">epoch=61, lrate=0.010, error=0.000, , sum_error=0.288\n",
      ">epoch=62, lrate=0.010, error=0.000, , sum_error=0.284\n",
      ">epoch=63, lrate=0.010, error=0.000, , sum_error=0.280\n",
      ">epoch=64, lrate=0.010, error=0.000, , sum_error=0.277\n",
      ">epoch=65, lrate=0.010, error=0.000, , sum_error=0.274\n",
      ">epoch=66, lrate=0.010, error=0.000, , sum_error=0.271\n",
      ">epoch=67, lrate=0.010, error=0.000, , sum_error=0.268\n",
      ">epoch=68, lrate=0.010, error=0.000, , sum_error=0.266\n",
      ">epoch=69, lrate=0.010, error=0.000, , sum_error=0.263\n",
      ">epoch=70, lrate=0.010, error=0.000, , sum_error=0.261\n",
      ">epoch=71, lrate=0.010, error=0.000, , sum_error=0.259\n",
      ">epoch=72, lrate=0.010, error=0.000, , sum_error=0.257\n",
      ">epoch=73, lrate=0.010, error=0.000, , sum_error=0.255\n",
      ">epoch=74, lrate=0.010, error=0.000, , sum_error=0.253\n",
      ">epoch=75, lrate=0.010, error=0.000, , sum_error=0.251\n",
      ">epoch=76, lrate=0.010, error=0.000, , sum_error=0.250\n",
      ">epoch=77, lrate=0.010, error=0.000, , sum_error=0.248\n",
      ">epoch=78, lrate=0.010, error=0.000, , sum_error=0.247\n",
      ">epoch=79, lrate=0.010, error=0.000, , sum_error=0.245\n",
      ">epoch=80, lrate=0.010, error=0.000, , sum_error=0.244\n",
      ">epoch=81, lrate=0.010, error=0.000, , sum_error=0.243\n",
      ">epoch=82, lrate=0.010, error=0.000, , sum_error=0.242\n",
      ">epoch=83, lrate=0.010, error=0.000, , sum_error=0.241\n",
      ">epoch=84, lrate=0.010, error=0.000, , sum_error=0.240\n",
      ">epoch=85, lrate=0.010, error=0.000, , sum_error=0.239\n",
      ">epoch=86, lrate=0.010, error=0.000, , sum_error=0.238\n",
      ">epoch=87, lrate=0.010, error=0.000, , sum_error=0.237\n",
      ">epoch=88, lrate=0.010, error=0.000, , sum_error=0.236\n",
      ">epoch=89, lrate=0.010, error=0.000, , sum_error=0.236\n",
      ">epoch=90, lrate=0.010, error=0.000, , sum_error=0.235\n",
      ">epoch=91, lrate=0.010, error=0.000, , sum_error=0.234\n",
      ">epoch=92, lrate=0.010, error=0.000, , sum_error=0.234\n",
      ">epoch=93, lrate=0.010, error=0.000, , sum_error=0.233\n",
      ">epoch=94, lrate=0.010, error=0.000, , sum_error=0.232\n",
      ">epoch=95, lrate=0.010, error=0.000, , sum_error=0.232\n",
      ">epoch=96, lrate=0.010, error=0.000, , sum_error=0.231\n",
      ">epoch=97, lrate=0.010, error=0.000, , sum_error=0.231\n",
      ">epoch=98, lrate=0.010, error=0.000, , sum_error=0.230\n",
      ">epoch=99, lrate=0.010, error=0.000, , sum_error=0.230\n"
     ]
    }
   ],
   "source": [
    "dat1 = triple_converter(random_vals)\n",
    "values,e,w,test,itrArray = train_weights3(dat1, 0.01,100)\n",
    "#0.006531\n",
    "\n",
    "#save to dataframe\n",
    "data6= {'Noise_values':dat1,'Output of Perceptron':values,'Error':e,'T':t_save2}\n",
    "df6= pd.DataFrame(data6)"
   ]
  },
  {
   "cell_type": "markdown",
   "metadata": {},
   "source": [
    "## Implementation during training"
   ]
  },
  {
   "cell_type": "code",
   "execution_count": 59,
   "metadata": {},
   "outputs": [
    {
     "data": {
      "image/png": "[encoded data removed]",
      "text/plain": [
       "<Figure size 432x288 with 1 Axes>"
      ]
     },
     "metadata": {
      "needs_background": "light"
     },
     "output_type": "display_data"
    }
   ],
   "source": [
    "y_axis = values #network output\n",
    "y = random_vals\n",
    "x_axis = x = t_save2\n",
    "plt.plot(x,y,\"y\") #actual\n",
    "plt.plot(x_axis,y_axis,\"b\")#noise\n",
    "plt.show()"
   ]
  },
  {
   "cell_type": "markdown",
   "metadata": {},
   "source": [
    "## Weights implementation on unseen but similar data"
   ]
  },
  {
   "cell_type": "code",
   "execution_count": 60,
   "metadata": {},
   "outputs": [
    {
     "name": "stdout",
     "output_type": "stream",
     "text": [
      ">error=-0.042,sum_error=19.069\n"
     ]
    }
   ],
   "source": [
    "dat1 = triple_converter(x_save2)\n",
    "net_array,sum_error_array = implement_weights3(dat1,w) #use trained weights(w) on unseen data"
   ]
  },
  {
   "cell_type": "markdown",
   "metadata": {},
   "source": [
    "## Network ouput on unseen data(blue)"
   ]
  },
  {
   "cell_type": "code",
   "execution_count": 61,
   "metadata": {},
   "outputs": [
    {
     "data": {
      "image/png": "[encoded data removed]",
      "text/plain": [
       "<Figure size 432x288 with 1 Axes>"
      ]
     },
     "metadata": {
      "needs_background": "light"
     },
     "output_type": "display_data"
    }
   ],
   "source": [
    "y_axis = net_array #network output\n",
    "y = x_save2\n",
    "x_axis = x = t_save2\n",
    "plt.plot(x,y,\"y\") #actual\n",
    "plt.plot(x_axis,y_axis,\"b\")#noise\n",
    "plt.show()"
   ]
  },
  {
   "cell_type": "markdown",
   "metadata": {},
   "source": [
    "### Error plot per iteration"
   ]
  },
  {
   "cell_type": "code",
   "execution_count": 62,
   "metadata": {},
   "outputs": [
    {
     "data": {
      "image/png": "[encoded data removed]",
      "text/plain": [
       "<Figure size 432x288 with 1 Axes>"
      ]
     },
     "metadata": {
      "needs_background": "light"
     },
     "output_type": "display_data"
    }
   ],
   "source": [
    "error_dataframe = {'Error':test,'Epochs':itrArray}\n",
    "error_df = pd.DataFrame(error_dataframe)\n",
    "error_plt = sns.lineplot(x=\"Epochs\", y=\"Error\", data=error_df) #blue"
   ]
  },
  {
   "cell_type": "markdown",
   "metadata": {},
   "source": [
    "## Dataframe containing noise values, trained values and error"
   ]
  },
  {
   "cell_type": "code",
   "execution_count": 63,
   "metadata": {},
   "outputs": [
    {
     "data": {
      "text/html": [
       "<div>\n",
       "<style scoped>\n",
       "    .dataframe tbody tr th:only-of-type {\n",
       "        vertical-align: middle;\n",
       "    }\n",
       "\n",
       "    .dataframe tbody tr th {\n",
       "        vertical-align: top;\n",
       "    }\n",
       "\n",
       "    .dataframe thead th {\n",
       "        text-align: right;\n",
       "    }\n",
       "</style>\n",
       "<table border=\"1\" class=\"dataframe\">\n",
       "  <thead>\n",
       "    <tr style=\"text-align: right;\">\n",
       "      <th></th>\n",
       "      <th>Noise_values</th>\n",
       "      <th>Output of Perceptron</th>\n",
       "      <th>Error</th>\n",
       "      <th>T</th>\n",
       "    </tr>\n",
       "  </thead>\n",
       "  <tbody>\n",
       "    <tr>\n",
       "      <td>0</td>\n",
       "      <td>[0, 0, 0.8996112417438289]</td>\n",
       "      <td>1.367879</td>\n",
       "      <td>-4.682682e-01</td>\n",
       "      <td>0.1</td>\n",
       "    </tr>\n",
       "    <tr>\n",
       "      <td>1</td>\n",
       "      <td>[0, 1.1924269228492117, 0.8996112417438289]</td>\n",
       "      <td>1.249174</td>\n",
       "      <td>-5.674738e-02</td>\n",
       "      <td>0.2</td>\n",
       "    </tr>\n",
       "    <tr>\n",
       "      <td>2</td>\n",
       "      <td>[1.461370111794119, 1.1924269228492117, 0.8996...</td>\n",
       "      <td>1.403538</td>\n",
       "      <td>5.783170e-02</td>\n",
       "      <td>0.3</td>\n",
       "    </tr>\n",
       "    <tr>\n",
       "      <td>3</td>\n",
       "      <td>[1.5480573346339261, 1.461370111794119, 1.1924...</td>\n",
       "      <td>1.505834</td>\n",
       "      <td>4.222359e-02</td>\n",
       "      <td>0.4</td>\n",
       "    </tr>\n",
       "    <tr>\n",
       "      <td>4</td>\n",
       "      <td>[1.6602576839762249, 1.5480573346339261, 1.461...</td>\n",
       "      <td>1.639221</td>\n",
       "      <td>2.103642e-02</td>\n",
       "      <td>0.5</td>\n",
       "    </tr>\n",
       "    <tr>\n",
       "      <td>...</td>\n",
       "      <td>...</td>\n",
       "      <td>...</td>\n",
       "      <td>...</td>\n",
       "      <td>...</td>\n",
       "    </tr>\n",
       "    <tr>\n",
       "      <td>145</td>\n",
       "      <td>[3.4740858164919293, 3.536777870412229, 3.4670...</td>\n",
       "      <td>3.474086</td>\n",
       "      <td>0.000000e+00</td>\n",
       "      <td>14.6</td>\n",
       "    </tr>\n",
       "    <tr>\n",
       "      <td>146</td>\n",
       "      <td>[3.4715873049933452, 3.4740858164919293, 3.536...</td>\n",
       "      <td>3.471587</td>\n",
       "      <td>-4.440892e-16</td>\n",
       "      <td>14.7</td>\n",
       "    </tr>\n",
       "    <tr>\n",
       "      <td>147</td>\n",
       "      <td>[3.48999599872184, 3.4715873049933452, 3.47408...</td>\n",
       "      <td>3.489996</td>\n",
       "      <td>0.000000e+00</td>\n",
       "      <td>14.8</td>\n",
       "    </tr>\n",
       "    <tr>\n",
       "      <td>148</td>\n",
       "      <td>[3.473119733107361, 3.48999599872184, 3.471587...</td>\n",
       "      <td>3.473120</td>\n",
       "      <td>0.000000e+00</td>\n",
       "      <td>14.9</td>\n",
       "    </tr>\n",
       "    <tr>\n",
       "      <td>149</td>\n",
       "      <td>[3.4855202375941903, 3.473119733107361, 3.4899...</td>\n",
       "      <td>3.485520</td>\n",
       "      <td>0.000000e+00</td>\n",
       "      <td>15.0</td>\n",
       "    </tr>\n",
       "  </tbody>\n",
       "</table>\n",
       "<p>150 rows × 4 columns</p>\n",
       "</div>"
      ],
      "text/plain": [
       "                                          Noise_values  Output of Perceptron  \\\n",
       "0                           [0, 0, 0.8996112417438289]              1.367879   \n",
       "1          [0, 1.1924269228492117, 0.8996112417438289]              1.249174   \n",
       "2    [1.461370111794119, 1.1924269228492117, 0.8996...              1.403538   \n",
       "3    [1.5480573346339261, 1.461370111794119, 1.1924...              1.505834   \n",
       "4    [1.6602576839762249, 1.5480573346339261, 1.461...              1.639221   \n",
       "..                                                 ...                   ...   \n",
       "145  [3.4740858164919293, 3.536777870412229, 3.4670...              3.474086   \n",
       "146  [3.4715873049933452, 3.4740858164919293, 3.536...              3.471587   \n",
       "147  [3.48999599872184, 3.4715873049933452, 3.47408...              3.489996   \n",
       "148  [3.473119733107361, 3.48999599872184, 3.471587...              3.473120   \n",
       "149  [3.4855202375941903, 3.473119733107361, 3.4899...              3.485520   \n",
       "\n",
       "            Error     T  \n",
       "0   -4.682682e-01   0.1  \n",
       "1   -5.674738e-02   0.2  \n",
       "2    5.783170e-02   0.3  \n",
       "3    4.222359e-02   0.4  \n",
       "4    2.103642e-02   0.5  \n",
       "..            ...   ...  \n",
       "145  0.000000e+00  14.6  \n",
       "146 -4.440892e-16  14.7  \n",
       "147  0.000000e+00  14.8  \n",
       "148  0.000000e+00  14.9  \n",
       "149  0.000000e+00  15.0  \n",
       "\n",
       "[150 rows x 4 columns]"
      ]
     },
     "execution_count": 63,
     "metadata": {},
     "output_type": "execute_result"
    }
   ],
   "source": [
    "df6"
   ]
  },
  {
   "cell_type": "markdown",
   "metadata": {},
   "source": [
    "## Train network using step function"
   ]
  },
  {
   "cell_type": "code",
   "execution_count": 25,
   "metadata": {},
   "outputs": [
    {
     "name": "stdout",
     "output_type": "stream",
     "text": [
      ">epoch=0, lrate=0.010, error=3.000, , sum_error=525.778\n",
      ">epoch=1, lrate=0.010, error=-3.000, , sum_error=525.778\n",
      ">epoch=2, lrate=0.010, error=-3.000, , sum_error=522.778\n",
      ">epoch=3, lrate=0.010, error=-3.000, , sum_error=519.779\n",
      ">epoch=4, lrate=0.010, error=-3.000, , sum_error=516.779\n",
      ">epoch=5, lrate=0.010, error=-3.000, , sum_error=513.779\n",
      ">epoch=6, lrate=0.010, error=-3.000, , sum_error=510.779\n",
      ">epoch=7, lrate=0.010, error=-3.000, , sum_error=507.780\n",
      ">epoch=8, lrate=0.010, error=-3.000, , sum_error=504.780\n",
      ">epoch=9, lrate=0.010, error=-3.000, , sum_error=504.780\n",
      ">epoch=10, lrate=0.010, error=-3.000, , sum_error=502.112\n",
      ">epoch=11, lrate=0.010, error=-3.000, , sum_error=502.112\n",
      ">epoch=12, lrate=0.010, error=-3.000, , sum_error=502.112\n",
      ">epoch=13, lrate=0.010, error=-3.000, , sum_error=502.112\n",
      ">epoch=14, lrate=0.010, error=-3.000, , sum_error=499.750\n",
      ">epoch=15, lrate=0.010, error=-3.000, , sum_error=499.750\n",
      ">epoch=16, lrate=0.010, error=-3.000, , sum_error=499.750\n",
      ">epoch=17, lrate=0.010, error=-3.000, , sum_error=497.637\n",
      ">epoch=18, lrate=0.010, error=-3.000, , sum_error=497.637\n",
      ">epoch=19, lrate=0.010, error=-3.000, , sum_error=476.086\n",
      ">epoch=20, lrate=0.010, error=-3.000, , sum_error=462.957\n",
      ">epoch=21, lrate=0.010, error=-3.000, , sum_error=456.289\n",
      ">epoch=22, lrate=0.010, error=-3.000, , sum_error=443.134\n",
      ">epoch=23, lrate=0.010, error=-3.000, , sum_error=438.265\n",
      ">epoch=24, lrate=0.010, error=-3.000, , sum_error=430.192\n",
      ">epoch=25, lrate=0.010, error=-3.000, , sum_error=425.280\n",
      ">epoch=26, lrate=0.010, error=-3.000, , sum_error=418.608\n",
      ">epoch=27, lrate=0.010, error=-3.000, , sum_error=408.715\n",
      ">epoch=28, lrate=0.010, error=-3.000, , sum_error=403.754\n",
      ">epoch=29, lrate=0.010, error=-3.000, , sum_error=396.012\n",
      ">epoch=30, lrate=0.010, error=-3.000, , sum_error=389.431\n",
      ">epoch=31, lrate=0.010, error=-3.000, , sum_error=384.453\n",
      ">epoch=32, lrate=0.010, error=-3.000, , sum_error=379.470\n",
      ">epoch=33, lrate=0.010, error=-3.000, , sum_error=374.484\n",
      ">epoch=34, lrate=0.010, error=-3.000, , sum_error=368.000\n",
      ">epoch=35, lrate=0.010, error=-3.000, , sum_error=363.010\n",
      ">epoch=36, lrate=0.010, error=-3.000, , sum_error=358.017\n",
      ">epoch=37, lrate=0.010, error=-3.000, , sum_error=353.024\n",
      ">epoch=38, lrate=0.010, error=-3.000, , sum_error=344.348\n",
      ">epoch=39, lrate=0.010, error=-3.000, , sum_error=339.353\n",
      ">epoch=40, lrate=0.010, error=-3.000, , sum_error=334.356\n",
      ">epoch=41, lrate=0.010, error=-3.000, , sum_error=329.359\n",
      ">epoch=42, lrate=0.010, error=-3.000, , sum_error=323.030\n",
      ">epoch=43, lrate=0.010, error=-3.000, , sum_error=318.032\n",
      ">epoch=44, lrate=0.010, error=-3.000, , sum_error=313.033\n",
      ">epoch=45, lrate=0.010, error=-3.000, , sum_error=306.764\n",
      ">epoch=46, lrate=0.010, error=-3.000, , sum_error=301.765\n",
      ">epoch=47, lrate=0.010, error=-3.000, , sum_error=296.766\n",
      ">epoch=48, lrate=0.010, error=-3.000, , sum_error=291.767\n",
      ">epoch=49, lrate=0.010, error=-3.000, , sum_error=285.546\n"
     ]
    }
   ],
   "source": [
    "values1,x,y = train_weights_step(dat1, 0.01,50)"
   ]
  },
  {
   "cell_type": "code",
   "execution_count": 26,
   "metadata": {},
   "outputs": [
    {
     "data": {
      "image/png": "[encoded data removed]",
      "text/plain": [
       "<Figure size 432x288 with 1 Axes>"
      ]
     },
     "metadata": {
      "needs_background": "light"
     },
     "output_type": "display_data"
    }
   ],
   "source": [
    "\n",
    "y_axis = random_vals #network output\n",
    "y = values1\n",
    "x_axis = x = t_save2\n",
    "plt.plot(x,y,\"y\") #robot\n",
    "plt.plot(x_axis,y_axis,\"b\")#tracker\n",
    "plt.show()\n"
   ]
  },
  {
   "cell_type": "markdown",
   "metadata": {},
   "source": [
    "# Perceptron model with different learning rates"
   ]
  },
  {
   "cell_type": "markdown",
   "metadata": {},
   "source": [
    "#### Example 1(Learning rate =0.5)"
   ]
  },
  {
   "cell_type": "code",
   "execution_count": 48,
   "metadata": {},
   "outputs": [
    {
     "name": "stdout",
     "output_type": "stream",
     "text": [
      ">epoch=0, lrate=0.500, error=2.473, , sum_error=131009952.590\n",
      ">epoch=1, lrate=0.500, error=2.473, , sum_error=131009952.590\n",
      ">epoch=2, lrate=0.500, error=2.473, , sum_error=60746674.140\n",
      ">epoch=3, lrate=0.500, error=2.473, , sum_error=288634.552\n",
      ">epoch=4, lrate=0.500, error=2.473, , sum_error=22985.036\n",
      ">epoch=5, lrate=0.500, error=2.473, , sum_error=522.294\n",
      ">epoch=6, lrate=0.500, error=2.473, , sum_error=9913442.693\n",
      ">epoch=7, lrate=0.500, error=2.473, , sum_error=1256618.492\n",
      ">epoch=8, lrate=0.500, error=2.473, , sum_error=458071.844\n",
      ">epoch=9, lrate=0.500, error=2.473, , sum_error=384.951\n",
      ">epoch=10, lrate=0.500, error=2.473, , sum_error=56380377.092\n",
      ">epoch=11, lrate=0.500, error=2.473, , sum_error=456.757\n",
      ">epoch=12, lrate=0.500, error=2.473, , sum_error=11977994.072\n",
      ">epoch=13, lrate=0.500, error=2.473, , sum_error=47256520.553\n",
      ">epoch=14, lrate=0.500, error=2.473, , sum_error=2163058.846\n",
      ">epoch=15, lrate=0.500, error=2.473, , sum_error=3041976.522\n",
      ">epoch=16, lrate=0.500, error=2.473, , sum_error=623.599\n",
      ">epoch=17, lrate=0.500, error=2.473, , sum_error=23149.750\n",
      ">epoch=18, lrate=0.500, error=2.473, , sum_error=197843082.927\n",
      ">epoch=19, lrate=0.500, error=2.473, , sum_error=1104881.145\n",
      ">epoch=20, lrate=0.500, error=2.473, , sum_error=1762.434\n",
      ">epoch=21, lrate=0.500, error=2.473, , sum_error=395.834\n",
      ">epoch=22, lrate=0.500, error=2.473, , sum_error=397229.489\n",
      ">epoch=23, lrate=0.500, error=2.473, , sum_error=3052454.000\n",
      ">epoch=24, lrate=0.500, error=2.473, , sum_error=118023.184\n",
      ">epoch=25, lrate=0.500, error=2.473, , sum_error=384.536\n",
      ">epoch=26, lrate=0.500, error=2.473, , sum_error=18730.744\n",
      ">epoch=27, lrate=0.500, error=2.473, , sum_error=4812.117\n",
      ">epoch=28, lrate=0.500, error=2.473, , sum_error=444.312\n",
      ">epoch=29, lrate=0.500, error=2.473, , sum_error=255328.299\n",
      ">epoch=30, lrate=0.500, error=2.473, , sum_error=630.947\n",
      ">epoch=31, lrate=0.500, error=2.473, , sum_error=790.858\n",
      ">epoch=32, lrate=0.500, error=2.473, , sum_error=212924.233\n",
      ">epoch=33, lrate=0.500, error=2.473, , sum_error=385.650\n",
      ">epoch=34, lrate=0.500, error=2.473, , sum_error=403.109\n",
      ">epoch=35, lrate=0.500, error=2.473, , sum_error=519862.420\n",
      ">epoch=36, lrate=0.500, error=2.473, , sum_error=233371.914\n",
      ">epoch=37, lrate=0.500, error=2.473, , sum_error=60952.495\n",
      ">epoch=38, lrate=0.500, error=2.473, , sum_error=5551.837\n",
      ">epoch=39, lrate=0.500, error=2.473, , sum_error=5583304.816\n"
     ]
    }
   ],
   "source": [
    "random_vals1 = []\n",
    "random_vals1,_,_ = box_muller(x_save2,std_dev,_mean) #call box muller\n",
    "random_vals_t1 = []\n",
    "random_vals_t1 = triple_converter(random_vals1) #convert input to tuple\n",
    "values1,e1,w1,test1,itrArray1 = train_weights3(random_vals_t1, 0.5,40)"
   ]
  },
  {
   "cell_type": "markdown",
   "metadata": {},
   "source": [
    "## Network representation"
   ]
  },
  {
   "cell_type": "code",
   "execution_count": 49,
   "metadata": {},
   "outputs": [
    {
     "data": {
      "image/png": "[encoded data removed]",
      "text/plain": [
       "<Figure size 432x288 with 1 Axes>"
      ]
     },
     "metadata": {
      "needs_background": "light"
     },
     "output_type": "display_data"
    }
   ],
   "source": [
    "y_axis = values1 #network output\n",
    "y = random_vals1 # x noise\n",
    "x_axis = x = t_save2\n",
    "plt.plot(x,y,\"y\") #actual\n",
    "plt.plot(x_axis,y_axis,\"b\")#noise\n",
    "plt.show()"
   ]
  },
  {
   "cell_type": "markdown",
   "metadata": {},
   "source": [
    "## Error representation "
   ]
  },
  {
   "cell_type": "code",
   "execution_count": 50,
   "metadata": {},
   "outputs": [
    {
     "data": {
      "image/png": "[encoded data removed]",
      "text/plain": [
       "<Figure size 432x288 with 1 Axes>"
      ]
     },
     "metadata": {
      "needs_background": "light"
     },
     "output_type": "display_data"
    }
   ],
   "source": [
    "error_dataframe = {'Error':test1,'Epochs':itrArray1}\n",
    "error_df1 = pd.DataFrame(error_dataframe)\n",
    "error_plt = sns.lineplot(x=\"Epochs\", y=\"Error\", data=error_df1) #blue"
   ]
  },
  {
   "cell_type": "markdown",
   "metadata": {},
   "source": [
    "#### Example 2(learning rate = 0.2)"
   ]
  },
  {
   "cell_type": "code",
   "execution_count": 41,
   "metadata": {},
   "outputs": [
    {
     "name": "stdout",
     "output_type": "stream",
     "text": [
      ">epoch=0, lrate=0.200, error=2.506, , sum_error=13046.207\n",
      ">epoch=1, lrate=0.200, error=2.506, , sum_error=13046.207\n",
      ">epoch=2, lrate=0.200, error=2.506, , sum_error=11517.143\n",
      ">epoch=3, lrate=0.200, error=2.506, , sum_error=10012.599\n",
      ">epoch=4, lrate=0.200, error=2.506, , sum_error=1762.937\n",
      ">epoch=5, lrate=0.200, error=2.506, , sum_error=696.453\n",
      ">epoch=6, lrate=0.200, error=-2.239, , sum_error=1064.344\n",
      ">epoch=7, lrate=0.200, error=2.506, , sum_error=1552.779\n",
      ">epoch=8, lrate=0.200, error=-18.868, , sum_error=2960.562\n",
      ">epoch=9, lrate=0.200, error=2.506, , sum_error=1373.600\n",
      ">epoch=10, lrate=0.200, error=2.506, , sum_error=576.414\n",
      ">epoch=11, lrate=0.200, error=2.506, , sum_error=622.660\n",
      ">epoch=12, lrate=0.200, error=2.506, , sum_error=70939868.029\n",
      ">epoch=13, lrate=0.200, error=2.506, , sum_error=1539.300\n",
      ">epoch=14, lrate=0.200, error=2.506, , sum_error=90304.192\n",
      ">epoch=15, lrate=0.200, error=2.506, , sum_error=1842139.584\n",
      ">epoch=16, lrate=0.200, error=2.494, , sum_error=15568.908\n",
      ">epoch=17, lrate=0.200, error=-15636.264, , sum_error=244493305.965\n",
      ">epoch=18, lrate=0.200, error=2.506, , sum_error=6383800798.779\n",
      ">epoch=19, lrate=0.200, error=2.506, , sum_error=148683197.828\n",
      ">epoch=20, lrate=0.200, error=2.506, , sum_error=465857665.642\n",
      ">epoch=21, lrate=0.200, error=2.506, , sum_error=245382053.334\n",
      ">epoch=22, lrate=0.200, error=2.506, , sum_error=188970260.431\n",
      ">epoch=23, lrate=0.200, error=2.506, , sum_error=58169.638\n",
      ">epoch=24, lrate=0.200, error=2.506, , sum_error=83215.039\n",
      ">epoch=25, lrate=0.200, error=2.506, , sum_error=26813.831\n",
      ">epoch=26, lrate=0.200, error=2.506, , sum_error=521.384\n",
      ">epoch=27, lrate=0.200, error=2.506, , sum_error=1678876.535\n",
      ">epoch=28, lrate=0.200, error=2.506, , sum_error=113639235.562\n",
      ">epoch=29, lrate=0.200, error=2.506, , sum_error=850.011\n",
      ">epoch=30, lrate=0.200, error=2.506, , sum_error=1031874336.796\n",
      ">epoch=31, lrate=0.200, error=2.506, , sum_error=685097739.703\n",
      ">epoch=32, lrate=0.200, error=2.506, , sum_error=25482083.087\n",
      ">epoch=33, lrate=0.200, error=2.506, , sum_error=451.611\n",
      ">epoch=34, lrate=0.200, error=2.506, , sum_error=99127317.848\n",
      ">epoch=35, lrate=0.200, error=2.506, , sum_error=105254.656\n",
      ">epoch=36, lrate=0.200, error=2.506, , sum_error=676.122\n",
      ">epoch=37, lrate=0.200, error=2.506, , sum_error=133946455.266\n",
      ">epoch=38, lrate=0.200, error=2.506, , sum_error=833.419\n",
      ">epoch=39, lrate=0.200, error=2.506, , sum_error=721.688\n"
     ]
    }
   ],
   "source": [
    "random_vals2 = []\n",
    "random_vals2,_,_ = box_muller(x_save2,std_dev,_mean)\n",
    "random_vals_t2 =[]\n",
    "random_vals_t2 = triple_converter(random_vals2)\n",
    "values1,e1,w1,test1,itrArray1 = train_weights3(random_vals_t2, 0.2,40)"
   ]
  },
  {
   "cell_type": "markdown",
   "metadata": {},
   "source": [
    "## Network Representation"
   ]
  },
  {
   "cell_type": "code",
   "execution_count": 43,
   "metadata": {},
   "outputs": [
    {
     "data": {
      "image/png": "[encoded data removed]",
      "text/plain": [
       "<Figure size 432x288 with 1 Axes>"
      ]
     },
     "metadata": {
      "needs_background": "light"
     },
     "output_type": "display_data"
    }
   ],
   "source": [
    "y_axis = values1 #network output\n",
    "y = random_vals2 # x noise\n",
    "x_axis = x = t_save2\n",
    "plt.plot(x,y,\"y\") #actual\n",
    "plt.plot(x_axis,y_axis,\"b\")#noise\n",
    "plt.show()"
   ]
  },
  {
   "cell_type": "markdown",
   "metadata": {},
   "source": [
    "## Error representation"
   ]
  },
  {
   "cell_type": "code",
   "execution_count": 44,
   "metadata": {},
   "outputs": [
    {
     "data": {
      "image/png": "[encoded data removed]",
      "text/plain": [
       "<Figure size 432x288 with 1 Axes>"
      ]
     },
     "metadata": {
      "needs_background": "light"
     },
     "output_type": "display_data"
    }
   ],
   "source": [
    "error_dataframe = {'Error':test1,'Epochs':itrArray1}\n",
    "error_df1 = pd.DataFrame(error_dataframe)\n",
    "error_plt = sns.lineplot(x=\"Epochs\", y=\"Error\", data=error_df1) #blue"
   ]
  },
  {
   "cell_type": "markdown",
   "metadata": {},
   "source": [
    "#### Example 3(Learning rate = 0.01)"
   ]
  },
  {
   "cell_type": "code",
   "execution_count": 45,
   "metadata": {},
   "outputs": [
    {
     "name": "stdout",
     "output_type": "stream",
     "text": [
      ">epoch=0, lrate=0.010, error=-0.005, , sum_error=26.251\n",
      ">epoch=1, lrate=0.010, error=-0.005, , sum_error=26.251\n",
      ">epoch=2, lrate=0.010, error=-0.002, , sum_error=22.709\n",
      ">epoch=3, lrate=0.010, error=-0.000, , sum_error=19.826\n",
      ">epoch=4, lrate=0.010, error=-0.000, , sum_error=17.398\n",
      ">epoch=5, lrate=0.010, error=-0.000, , sum_error=15.308\n",
      ">epoch=6, lrate=0.010, error=-0.000, , sum_error=13.482\n",
      ">epoch=7, lrate=0.010, error=-0.000, , sum_error=11.876\n",
      ">epoch=8, lrate=0.010, error=-0.000, , sum_error=10.458\n",
      ">epoch=9, lrate=0.010, error=-0.000, , sum_error=9.206\n",
      ">epoch=10, lrate=0.010, error=-0.000, , sum_error=8.103\n",
      ">epoch=11, lrate=0.010, error=-0.000, , sum_error=7.134\n",
      ">epoch=12, lrate=0.010, error=-0.000, , sum_error=6.285\n",
      ">epoch=13, lrate=0.010, error=-0.000, , sum_error=5.543\n",
      ">epoch=14, lrate=0.010, error=-0.000, , sum_error=4.897\n",
      ">epoch=15, lrate=0.010, error=-0.000, , sum_error=4.337\n",
      ">epoch=16, lrate=0.010, error=-0.000, , sum_error=3.852\n",
      ">epoch=17, lrate=0.010, error=-0.000, , sum_error=3.432\n",
      ">epoch=18, lrate=0.010, error=-0.000, , sum_error=3.068\n",
      ">epoch=19, lrate=0.010, error=-0.000, , sum_error=2.754\n",
      ">epoch=20, lrate=0.010, error=-0.000, , sum_error=2.480\n",
      ">epoch=21, lrate=0.010, error=-0.000, , sum_error=2.243\n",
      ">epoch=22, lrate=0.010, error=-0.000, , sum_error=2.036\n",
      ">epoch=23, lrate=0.010, error=-0.000, , sum_error=1.855\n",
      ">epoch=24, lrate=0.010, error=-0.000, , sum_error=1.696\n",
      ">epoch=25, lrate=0.010, error=-0.000, , sum_error=1.556\n",
      ">epoch=26, lrate=0.010, error=0.000, , sum_error=1.434\n",
      ">epoch=27, lrate=0.010, error=0.000, , sum_error=1.325\n",
      ">epoch=28, lrate=0.010, error=0.000, , sum_error=1.230\n",
      ">epoch=29, lrate=0.010, error=0.000, , sum_error=1.145\n",
      ">epoch=30, lrate=0.010, error=0.000, , sum_error=1.070\n",
      ">epoch=31, lrate=0.010, error=0.000, , sum_error=1.003\n",
      ">epoch=32, lrate=0.010, error=0.000, , sum_error=0.944\n",
      ">epoch=33, lrate=0.010, error=0.000, , sum_error=0.891\n",
      ">epoch=34, lrate=0.010, error=0.000, , sum_error=0.843\n",
      ">epoch=35, lrate=0.010, error=0.000, , sum_error=0.801\n",
      ">epoch=36, lrate=0.010, error=0.000, , sum_error=0.763\n",
      ">epoch=37, lrate=0.010, error=0.000, , sum_error=0.730\n",
      ">epoch=38, lrate=0.010, error=0.000, , sum_error=0.699\n",
      ">epoch=39, lrate=0.010, error=0.000, , sum_error=0.672\n"
     ]
    }
   ],
   "source": [
    "random_vals2 = []\n",
    "random_vals2,_,_ = box_muller(x_save2,std_dev,_mean)\n",
    "random_vals_t2 =[]\n",
    "random_vals_t2 = triple_converter(random_vals2)\n",
    "values1,e1,w1,test1,itrArray1 = train_weights3(random_vals_t2, 0.01,40)"
   ]
  },
  {
   "cell_type": "markdown",
   "metadata": {},
   "source": [
    "## Network Representation"
   ]
  },
  {
   "cell_type": "code",
   "execution_count": 46,
   "metadata": {},
   "outputs": [
    {
     "data": {
      "image/png": "[encoded data removed]",
      "text/plain": [
       "<Figure size 432x288 with 1 Axes>"
      ]
     },
     "metadata": {
      "needs_background": "light"
     },
     "output_type": "display_data"
    }
   ],
   "source": [
    "y_axis = values1 #network output\n",
    "y = random_vals2 # x noise\n",
    "x_axis = x = t_save2\n",
    "plt.plot(x,y,\"y\") #actual\n",
    "plt.plot(x_axis,y_axis,\"b\")#noise\n",
    "plt.show()"
   ]
  },
  {
   "cell_type": "markdown",
   "metadata": {},
   "source": [
    "## Error representation"
   ]
  },
  {
   "cell_type": "code",
   "execution_count": 47,
   "metadata": {},
   "outputs": [
    {
     "data": {
      "image/png": "[encoded data removed]",
      "text/plain": [
       "<Figure size 432x288 with 1 Axes>"
      ]
     },
     "metadata": {
      "needs_background": "light"
     },
     "output_type": "display_data"
    }
   ],
   "source": [
    "error_dataframe = {'Error':test1,'Epochs':itrArray1}\n",
    "error_df1 = pd.DataFrame(error_dataframe)\n",
    "error_plt = sns.lineplot(x=\"Epochs\", y=\"Error\", data=error_df1) #blue"
   ]
  },
  {
   "cell_type": "code",
   "execution_count": null,
   "metadata": {},
   "outputs": [],
   "source": []
  },
  {
   "cell_type": "code",
   "execution_count": null,
   "metadata": {},
   "outputs": [],
   "source": []
  },
  {
   "cell_type": "code",
   "execution_count": null,
   "metadata": {},
   "outputs": [],
   "source": []
  },
  {
   "cell_type": "code",
   "execution_count": null,
   "metadata": {},
   "outputs": [],
   "source": []
  },
  {
   "cell_type": "code",
   "execution_count": null,
   "metadata": {},
   "outputs": [],
   "source": []
  },
  {
   "cell_type": "code",
   "execution_count": null,
   "metadata": {},
   "outputs": [],
   "source": []
  }
 ],
 "metadata": {
  "kernelspec": {
   "display_name": "Python 3",
   "language": "python",
   "name": "python3"
  },
  "language_info": {
   "codemirror_mode": {
    "name": "ipython",
    "version": 3
   },
   "file_extension": ".py",
   "mimetype": "text/x-python",
   "name": "python",
   "nbconvert_exporter": "python",
   "pygments_lexer": "ipython3",
   "version": "3.7.4"
  }
 },
 "nbformat": 4,
 "nbformat_minor": 2
}
