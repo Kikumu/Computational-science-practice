{
 "cells": [
  {
   "cell_type": "markdown",
   "metadata": {},
   "source": [
    "# Part 1: Simulating the robot"
   ]
  },
  {
   "cell_type": "code",
   "execution_count": 1,
   "metadata": {},
   "outputs": [],
   "source": [
    "import numpy as np\n",
    "import random as rand\n",
    "import numpy as np\n",
    "import matplotlib.pyplot as plt\n",
    "import math\n",
    "import csv\n",
    "from scipy.stats import norm\n",
    "import seaborn as sns\n",
    "import pandas as pd\n",
    "\n",
    "def func(U,x):\n",
    "    #-2x+2U\n",
    "    val = -(2*x) + 2*U\n",
    "    return val\n",
    "def simulation(x,t,h):\n",
    "    save = 0\n",
    "    U_save = []\n",
    "    t_save = []\n",
    "    x_save = []\n",
    "    x_exact_save = []\n",
    "\n",
    "    U_array = []\n",
    "    t_array = []\n",
    "    x_array = []\n",
    "    x_exact_array = []\n",
    "    while(t <= 15):\n",
    "        if(t <= 5):\n",
    "            U = 2\n",
    "        elif(t < 5 or t <= 10):\n",
    "            U = 1\n",
    "        elif(t < 10 or t <=15):\n",
    "            U = 3\n",
    "        #print(\"U value:\", x)\n",
    "        U_array.append(U)\n",
    "        k = h * func(U,x)\n",
    "        x = x + k\n",
    "        t = t + h\n",
    "        #value under graph\n",
    "        x_exact = U - math.exp(-2*t)\n",
    "        t_array.append(t)\n",
    "        x_array.append(x)\n",
    "        x_exact_array.append(x_exact)\n",
    "        save+=1\n",
    "        #save every 10th integral if h<=0.01\n",
    "        if(save%10 == 0):\n",
    "            U_save.append(U)\n",
    "            t_save.append(t)\n",
    "            x_save.append(x)\n",
    "            x_exact_save.append(x_exact)\n",
    "            #print(\"save1: \",save)\n",
    "        #print(\"Where it is: \",x,\"Exact pos= \",x_exact,\"Time: \",t)\n",
    "    return U_save,t_save,x_save,x_exact_save,U_array,t_array,x_array,x_exact_array "
   ]
  },
  {
   "cell_type": "markdown",
   "metadata": {},
   "source": [
    "The following step sizes were provided to measure against: 0.75, .5, 0.25, 0.01, 0.001\n"
   ]
  },
  {
   "cell_type": "markdown",
   "metadata": {},
   "source": [
    "## Step size 0.001"
   ]
  },
  {
   "cell_type": "code",
   "execution_count": 2,
   "metadata": {},
   "outputs": [],
   "source": [
    "U_save1 = []\n",
    "t_save1 = []\n",
    "x_save1 = []\n",
    "x_exact_save1 = []\n",
    "\n",
    "\n",
    "##saves every time\n",
    "U_array1 = []\n",
    "t_array1 = []\n",
    "x_array1 = []\n",
    "x_exact_array1 = []\n",
    "\n",
    "#step size \n",
    "U_save1,t_save1,x_save1,x_exact_save1,U_array1,t_array1,x_array1,x_exact_array1=simulation(0,0,0.001)\n",
    "\n",
    "#0.35 for bell curve"
   ]
  },
  {
   "cell_type": "markdown",
   "metadata": {},
   "source": [
    "## Step size 0.01"
   ]
  },
  {
   "cell_type": "code",
   "execution_count": 3,
   "metadata": {},
   "outputs": [],
   "source": [
    "U_save2 = []\n",
    "t_save2 = []\n",
    "x_save2 = []\n",
    "x_exact_save2 = []\n",
    "\n",
    "\n",
    "##saves every time\n",
    "U_array2 = []\n",
    "t_array2 = []\n",
    "x_array2 = []\n",
    "x_exact_array2 = []\n",
    "\n",
    "#step size \n",
    "U_save2,t_save2,x_save2,x_exact_save2,U_array2,t_array2,x_array2,x_exact_array2=simulation(0,0,0.01)\n",
    "\n",
    "#0.35 for bell curve"
   ]
  },
  {
   "cell_type": "markdown",
   "metadata": {},
   "source": [
    "## Step size 0.25"
   ]
  },
  {
   "cell_type": "code",
   "execution_count": 4,
   "metadata": {},
   "outputs": [],
   "source": [
    "U_save3 = []\n",
    "t_save3 = []\n",
    "x_save3 = []\n",
    "x_exact_save3 = []\n",
    "\n",
    "\n",
    "##saves every time\n",
    "U_array3 = []\n",
    "t_array3 = []\n",
    "x_array3 = []\n",
    "x_exact_array3 = []\n",
    "\n",
    "#step size \n",
    "U_save3,t_save3,x_save3,x_exact_save3,U_array3,t_array3,x_array3,x_exact_array3=simulation(0,0,0.25)"
   ]
  },
  {
   "cell_type": "markdown",
   "metadata": {},
   "source": [
    "## Step size 0.5"
   ]
  },
  {
   "cell_type": "code",
   "execution_count": 5,
   "metadata": {},
   "outputs": [],
   "source": [
    "U_save4 = []\n",
    "t_save4 = []\n",
    "x_save4 = []\n",
    "x_exact_save4 = []\n",
    "\n",
    "\n",
    "##saves every time\n",
    "U_array4 = []\n",
    "t_array4 = []\n",
    "x_array4 = []\n",
    "x_exact_array4 = []\n",
    "\n",
    "#step size \n",
    "U_save4,t_save4,x_save4,x_exact_save4,U_array4,t_array4,x_array4,x_exact_array4=simulation(0,0,0.5)"
   ]
  },
  {
   "cell_type": "markdown",
   "metadata": {},
   "source": [
    "## Step size 0.75"
   ]
  },
  {
   "cell_type": "code",
   "execution_count": 6,
   "metadata": {},
   "outputs": [],
   "source": [
    "U_save5 = []\n",
    "t_save5 = []\n",
    "x_save5 = []\n",
    "x_exact_save5 = []\n",
    "\n",
    "\n",
    "##saves every time\n",
    "U_array5 = []\n",
    "t_array5 = []\n",
    "x_array5 = []\n",
    "x_exact_array5 = []\n",
    "\n",
    "#step size \n",
    "U_save5,t_save5,x_save5,x_exact_save5,U_array5,t_array5,x_array5,x_exact_array5=simulation(0,0,0.75)"
   ]
  },
  {
   "cell_type": "markdown",
   "metadata": {},
   "source": [
    "## Saving values into a dataframe and plotting it "
   ]
  },
  {
   "cell_type": "code",
   "execution_count": 7,
   "metadata": {},
   "outputs": [],
   "source": [
    "data1 = {'X':x_array1,'T':t_array1}\n",
    "df1 = pd.DataFrame(data1)\n",
    "data2 = {'X':x_array2,'T':t_array2}\n",
    "df2= pd.DataFrame(data2)\n",
    "data3 = {'X':x_array3,'T':t_array3}\n",
    "df3= pd.DataFrame(data3)\n",
    "data4= {'X':x_array4,'T':t_array4}\n",
    "df4= pd.DataFrame(data4)\n",
    "data5= {'X':x_array5,'T':t_array5}\n",
    "df5= pd.DataFrame(data5)"
   ]
  },
  {
   "cell_type": "code",
   "execution_count": 8,
   "metadata": {},
   "outputs": [
    {
     "data": {
      "image/png": "[encoded data removed]",
      "text/plain": [
       "<Figure size 432x288 with 1 Axes>"
      ]
     },
     "metadata": {
      "needs_background": "light"
     },
     "output_type": "display_data"
    }
   ],
   "source": [
    "plt3 = sns.lineplot(x=\"T\", y=\"X\", data=df1) #blue\n",
    "plt4 = sns.lineplot(x=\"T\", y=\"X\", data=df2) #Orange\n",
    "plt5 = sns.lineplot(x=\"T\", y=\"X\", data=df3) #Green\n",
    "plt6 = sns.lineplot(x=\"T\", y=\"X\", data=df4) #Red\n",
    "plt7 = sns.lineplot(x=\"T\", y=\"X\", data=df5) #Purple"
   ]
  },
  {
   "cell_type": "markdown",
   "metadata": {},
   "source": [
    "## Error evaluation against step size"
   ]
  },
  {
   "cell_type": "code",
   "execution_count": null,
   "metadata": {},
   "outputs": [],
   "source": []
  },
  {
   "cell_type": "code",
   "execution_count": null,
   "metadata": {},
   "outputs": [],
   "source": []
  },
  {
   "cell_type": "code",
   "execution_count": null,
   "metadata": {},
   "outputs": [],
   "source": []
  },
  {
   "cell_type": "code",
   "execution_count": null,
   "metadata": {},
   "outputs": [],
   "source": []
  },
  {
   "cell_type": "markdown",
   "metadata": {},
   "source": [
    "# Part 2: Random Noise using Box Muller Method"
   ]
  },
  {
   "cell_type": "markdown",
   "metadata": {},
   "source": [
    "## Initialise/Compute standard deviation and mean"
   ]
  },
  {
   "cell_type": "code",
   "execution_count": 9,
   "metadata": {},
   "outputs": [
    {
     "name": "stdout",
     "output_type": "stream",
     "text": [
      "deviation:  0.0431 mean:  0.5 DEVIATION:  0.7789244866974134 MEAN:  1.900142980914039\n"
     ]
    }
   ],
   "source": [
    "import statistics as stat\n",
    "std_dev1 = stat.stdev(x_array1)\n",
    "_mean1 = stat.mean(x_array1)\n",
    "\n",
    "std_dev = 0.0431\n",
    "_mean = 0.5\n",
    "print(\"deviation: \",std_dev,\"mean: \",_mean,\"DEVIATION: \",std_dev1,\"MEAN: \",_mean1)"
   ]
  },
  {
   "cell_type": "markdown",
   "metadata": {},
   "source": [
    "## compute box muller algorithm"
   ]
  },
  {
   "cell_type": "code",
   "execution_count": 10,
   "metadata": {},
   "outputs": [],
   "source": [
    "def box_muller(array,standard_deviation,mean):\n",
    "    random_vls = []\n",
    "    i = 0\n",
    "    it = 0\n",
    "    while i < len(array):\n",
    "        if(it == 0):\n",
    "            z1 =  rand.uniform(0,2*np.pi)\n",
    "            b  =  standard_deviation*np.sqrt(-2*math.log(rand.uniform(0,1)))\n",
    "            z2 =  b*(math.sin(z1))+mean\n",
    "            z3 =  b*(math.cos(z1))+mean\n",
    "            noise = array[i] + z2\n",
    "            random_vls.append(noise)\n",
    "            it = 1\n",
    "            i = i + 1\n",
    "        else:\n",
    "            it = 0\n",
    "            noise = array[i] + z3\n",
    "            random_vls.append(noise)\n",
    "            i= i + 1\n",
    "    return random_vls"
   ]
  },
  {
   "cell_type": "code",
   "execution_count": 11,
   "metadata": {},
   "outputs": [],
   "source": [
    "random_vals = []\n",
    "random_vals = box_muller(x_save2,std_dev,_mean)"
   ]
  },
  {
   "cell_type": "markdown",
   "metadata": {},
   "source": [
    "## Noise plot"
   ]
  },
  {
   "cell_type": "code",
   "execution_count": 12,
   "metadata": {},
   "outputs": [
    {
     "data": {
      "image/png": "[encoded data removed]",
      "text/plain": [
       "<Figure size 432x288 with 1 Axes>"
      ]
     },
     "metadata": {
      "needs_background": "light"
     },
     "output_type": "display_data"
    }
   ],
   "source": [
    "y = random_vals\n",
    "x = t_save2\n",
    "plt.plot(x,y,\"b\") #actual\n",
    "plt.show()"
   ]
  },
  {
   "cell_type": "markdown",
   "metadata": {},
   "source": [
    "## Proof that numbers generated fall within a gaussian distribution"
   ]
  },
  {
   "cell_type": "code",
   "execution_count": 13,
   "metadata": {},
   "outputs": [
    {
     "data": {
      "text/plain": [
       "<matplotlib.axes._subplots.AxesSubplot at 0x143759b0>"
      ]
     },
     "execution_count": 13,
     "metadata": {},
     "output_type": "execute_result"
    },
    {
     "data": {
      "image/png": "[encoded data removed]",
      "text/plain": [
       "<Figure size 432x288 with 1 Axes>"
      ]
     },
     "metadata": {
      "needs_background": "light"
     },
     "output_type": "display_data"
    }
   ],
   "source": [
    "sns.distplot(random_vals)"
   ]
  },
  {
   "cell_type": "markdown",
   "metadata": {},
   "source": [
    "# Part 3: Adding an intelligent agent to track the noise"
   ]
  },
  {
   "cell_type": "code",
   "execution_count": 14,
   "metadata": {},
   "outputs": [],
   "source": [
    "##--------------------------------SINGLE PERCEPTRON-----------------------------------------------##\n",
    "def sigmoid_activation(val):\n",
    "  sigmoid = 1/1+np.exp(-val)\n",
    "  return sigmoid\n",
    "\n",
    "def predict_step(noise1,weights1):\n",
    "    net_sum1 = 0\n",
    "    net_sum1 = weights1[0]\n",
    "    net_sum1+=weights1[1]*noise1\n",
    "    #print(\"netsum:  \",net_sum1)\n",
    "    return 1.0 if net_sum1 >= 1 else 0.0\n",
    "\n",
    "def predict(noise2,weights2):\n",
    "    net_sum = 0\n",
    "    net_sum = weights2[0]\n",
    "    net_sum += weights2[1]*noise2\n",
    "    activation2 = sigmoid_activation(net_sum)\n",
    "    return activation2, net_sum\n",
    "\n",
    "def train_weights(array, lr, loops):\n",
    "    weights3 = [-0.10,rand.uniform(0,1)]\n",
    "    for loop in range(loops):\n",
    "        net_array = []\n",
    "        error_array = []\n",
    "        sum_error = 0.0\n",
    "        for a in array:\n",
    "            prediction, netwrk_sum = predict(a,weights3)\n",
    "            Target = a\n",
    "            delta = Target - prediction\n",
    "            error = delta\n",
    "            error_array.append(error)\n",
    "            net_array.append(prediction)\n",
    "            weights3_change_bias= -lr*Target*error\n",
    "            weights3[0] = weights3[0] + weights3_change_bias\n",
    "            weights3_change= -lr*Target*error\n",
    "            weights3[1] = weights3[1] + weights3_change\n",
    "            sum_error += error**2\n",
    "        print('>epoch=%d, lrate=%.3f, error=%.3f' % (loop, lr, error))\n",
    "    return net_array,error_array\n",
    "\n",
    "def train_weights_step(array, lr, loops):\n",
    "    weights3 = [-0.10,rand.uniform(0,1)]\n",
    "    for loop in range(loops):\n",
    "        net_array = []\n",
    "        sum_error = 0.0\n",
    "        for a in array:\n",
    "            prediction = predict_step(a,weights3)\n",
    "            Target = a\n",
    "            delta = Target - prediction\n",
    "            error = delta\n",
    "            net_array.append(prediction)\n",
    "            weights3_change_bias= -lr*Target*error\n",
    "            weights3[0] = weights3[0] + weights3_change_bias\n",
    "            weights3_change= -lr*Target*error\n",
    "            weights3[1] = weights3[1] + weights3_change\n",
    "            #print(\"weight\",weights3[1])\n",
    "            sum_error += error**2\n",
    "        print('>epoch=%d, lrate=%.3f, error=%.3f' % (loop, lr, error))\n",
    "    return net_array\n",
    "####---------------------------------------MULTI PERCEPTRON---------------------------------------------####\n",
    "def train_weights3(array, lr, loops):\n",
    "    weights3 = [-0.10,rand.uniform(0,1),rand.uniform(0,1),rand.uniform(0,1)]\n",
    "    for loop in range(loops):\n",
    "        net_array = []\n",
    "        error_array = []\n",
    "        sum_error = 0.0\n",
    "        c = 0\n",
    "        c2 = 0\n",
    "        for a in array:\n",
    "            prediction, netwrk_sum = predict3(a,weights3)\n",
    "            if c == 0:\n",
    "                Target = a[2]\n",
    "                #print(1)\n",
    "            elif c==1:\n",
    "                Target = a[1]\n",
    "            else:\n",
    "                Target = a[0]\n",
    "            delta = Target - prediction\n",
    "            error = delta\n",
    "            error_array.append(error)\n",
    "            net_array.append(prediction)\n",
    "            weights3_change_bias= -lr*Target*error\n",
    "            weights3[0] = weights3[0] + weights3_change_bias\n",
    "            weights3_change= -lr*Target*error\n",
    "            for i in range(len(a)-1):\n",
    "                weights3[i + 1] = weights3[i +1] + weights3_change\n",
    "            sum_error += error**2\n",
    "            c = c + 1\n",
    "        print('>epoch=%d, lrate=%.3f, error=%.3f' % (loop, lr, error))\n",
    "    return net_array,error_array\n",
    "\n",
    "def predict3(noise2,weights2):\n",
    "    net_sum = 0\n",
    "    net_sum = weights2[0]\n",
    "    for i in range(len(noise2)-1):\n",
    "        net_sum += weights2[i + 1] * noise2[i]\n",
    "    activation2 = sigmoid_activation(net_sum)\n",
    "    #print(\"activation\",activation2,\"sum\",net_sum)\n",
    "    return activation2, net_sum\n",
    "\n",
    "def triple_converter(array):\n",
    "    triple_array = []\n",
    "    c = 0\n",
    "    while c < len(array):\n",
    "        if c == 0:\n",
    "            triple_array.append([0,0,array[c]])\n",
    "        elif c == 1:\n",
    "            triple_array.append([0,array[c],array[c-1]])\n",
    "        else:\n",
    "            triple_array.append([array[c],array[c-1],array[c-2]])\n",
    "        c = c + 1\n",
    "    return triple_array"
   ]
  },
  {
   "cell_type": "markdown",
   "metadata": {},
   "source": [
    "## Train network using sigmoid"
   ]
  },
  {
   "cell_type": "code",
   "execution_count": 15,
   "metadata": {},
   "outputs": [
    {
     "name": "stdout",
     "output_type": "stream",
     "text": [
      ">epoch=0, lrate=0.010, error=0.047\n"
     ]
    }
   ],
   "source": [
    "dat1 = triple_converter(random_vals)\n",
    "\n",
    "values,e = train_weights3(dat1, 0.01,1)\n",
    "#0.006531\n",
    "\n",
    "#save to dataframe\n",
    "data6= {'Noise_values':dat1,'Trained':values,'Error':e,'T':t_save2}\n",
    "df6= pd.DataFrame(data6)"
   ]
  },
  {
   "cell_type": "code",
   "execution_count": 16,
   "metadata": {},
   "outputs": [
    {
     "data": {
      "text/html": [
       "<div>\n",
       "<style scoped>\n",
       "    .dataframe tbody tr th:only-of-type {\n",
       "        vertical-align: middle;\n",
       "    }\n",
       "\n",
       "    .dataframe tbody tr th {\n",
       "        vertical-align: top;\n",
       "    }\n",
       "\n",
       "    .dataframe thead th {\n",
       "        text-align: right;\n",
       "    }\n",
       "</style>\n",
       "<table border=\"1\" class=\"dataframe\">\n",
       "  <thead>\n",
       "    <tr style=\"text-align: right;\">\n",
       "      <th></th>\n",
       "      <th>Noise_values</th>\n",
       "      <th>Trained</th>\n",
       "      <th>Error</th>\n",
       "      <th>T</th>\n",
       "    </tr>\n",
       "  </thead>\n",
       "  <tbody>\n",
       "    <tr>\n",
       "      <th>0</th>\n",
       "      <td>[0, 0, 0.8875202917819612]</td>\n",
       "      <td>2.105171</td>\n",
       "      <td>-1.217651</td>\n",
       "      <td>0.1</td>\n",
       "    </tr>\n",
       "    <tr>\n",
       "      <th>1</th>\n",
       "      <td>[0, 1.0975650942998987, 0.8875202917819612]</td>\n",
       "      <td>1.800340</td>\n",
       "      <td>-0.702775</td>\n",
       "      <td>0.2</td>\n",
       "    </tr>\n",
       "    <tr>\n",
       "      <th>2</th>\n",
       "      <td>[1.4176163487294013, 1.0975650942998987, 0.887...</td>\n",
       "      <td>1.262567</td>\n",
       "      <td>0.155049</td>\n",
       "      <td>0.3</td>\n",
       "    </tr>\n",
       "    <tr>\n",
       "      <th>3</th>\n",
       "      <td>[1.6445462973139549, 1.4176163487294013, 1.097...</td>\n",
       "      <td>1.202389</td>\n",
       "      <td>0.442158</td>\n",
       "      <td>0.4</td>\n",
       "    </tr>\n",
       "    <tr>\n",
       "      <th>4</th>\n",
       "      <td>[1.7038117228132812, 1.6445462973139549, 1.417...</td>\n",
       "      <td>1.186845</td>\n",
       "      <td>0.516967</td>\n",
       "      <td>0.5</td>\n",
       "    </tr>\n",
       "    <tr>\n",
       "      <th>...</th>\n",
       "      <td>...</td>\n",
       "      <td>...</td>\n",
       "      <td>...</td>\n",
       "      <td>...</td>\n",
       "    </tr>\n",
       "    <tr>\n",
       "      <th>145</th>\n",
       "      <td>[3.4796608653147056, 3.5472457855895607, 3.544...</td>\n",
       "      <td>3.584773</td>\n",
       "      <td>-0.105112</td>\n",
       "      <td>14.6</td>\n",
       "    </tr>\n",
       "    <tr>\n",
       "      <th>146</th>\n",
       "      <td>[3.5010608745159715, 3.4796608653147056, 3.547...</td>\n",
       "      <td>3.452555</td>\n",
       "      <td>0.048506</td>\n",
       "      <td>14.7</td>\n",
       "    </tr>\n",
       "    <tr>\n",
       "      <th>147</th>\n",
       "      <td>[3.501513948870689, 3.5010608745159715, 3.4796...</td>\n",
       "      <td>3.500686</td>\n",
       "      <td>0.000828</td>\n",
       "      <td>14.8</td>\n",
       "    </tr>\n",
       "    <tr>\n",
       "      <th>148</th>\n",
       "      <td>[3.5402946904406094, 3.501513948870689, 3.5010...</td>\n",
       "      <td>3.481899</td>\n",
       "      <td>0.058395</td>\n",
       "      <td>14.9</td>\n",
       "    </tr>\n",
       "    <tr>\n",
       "      <th>149</th>\n",
       "      <td>[3.5782881541070277, 3.5402946904406094, 3.501...</td>\n",
       "      <td>3.531714</td>\n",
       "      <td>0.046574</td>\n",
       "      <td>15.0</td>\n",
       "    </tr>\n",
       "  </tbody>\n",
       "</table>\n",
       "<p>150 rows × 4 columns</p>\n",
       "</div>"
      ],
      "text/plain": [
       "                                          Noise_values   Trained     Error  \\\n",
       "0                           [0, 0, 0.8875202917819612]  2.105171 -1.217651   \n",
       "1          [0, 1.0975650942998987, 0.8875202917819612]  1.800340 -0.702775   \n",
       "2    [1.4176163487294013, 1.0975650942998987, 0.887...  1.262567  0.155049   \n",
       "3    [1.6445462973139549, 1.4176163487294013, 1.097...  1.202389  0.442158   \n",
       "4    [1.7038117228132812, 1.6445462973139549, 1.417...  1.186845  0.516967   \n",
       "..                                                 ...       ...       ...   \n",
       "145  [3.4796608653147056, 3.5472457855895607, 3.544...  3.584773 -0.105112   \n",
       "146  [3.5010608745159715, 3.4796608653147056, 3.547...  3.452555  0.048506   \n",
       "147  [3.501513948870689, 3.5010608745159715, 3.4796...  3.500686  0.000828   \n",
       "148  [3.5402946904406094, 3.501513948870689, 3.5010...  3.481899  0.058395   \n",
       "149  [3.5782881541070277, 3.5402946904406094, 3.501...  3.531714  0.046574   \n",
       "\n",
       "        T  \n",
       "0     0.1  \n",
       "1     0.2  \n",
       "2     0.3  \n",
       "3     0.4  \n",
       "4     0.5  \n",
       "..    ...  \n",
       "145  14.6  \n",
       "146  14.7  \n",
       "147  14.8  \n",
       "148  14.9  \n",
       "149  15.0  \n",
       "\n",
       "[150 rows x 4 columns]"
      ]
     },
     "execution_count": 16,
     "metadata": {},
     "output_type": "execute_result"
    }
   ],
   "source": [
    "df6"
   ]
  },
  {
   "cell_type": "markdown",
   "metadata": {},
   "source": [
    "## Network prediction(blue) against noise values(yellow)"
   ]
  },
  {
   "cell_type": "code",
   "execution_count": null,
   "metadata": {},
   "outputs": [],
   "source": []
  },
  {
   "cell_type": "code",
   "execution_count": 17,
   "metadata": {},
   "outputs": [
    {
     "data": {
      "image/png": "[encoded data removed]",
      "text/plain": [
       "<Figure size 432x288 with 1 Axes>"
      ]
     },
     "metadata": {
      "needs_background": "light"
     },
     "output_type": "display_data"
    }
   ],
   "source": [
    "y_axis = values #network output\n",
    "y = random_vals\n",
    "x_axis = x = t_save2\n",
    "plt.plot(x,y,\"y\") #actual\n",
    "plt.plot(x_axis,y_axis,\"b\")#noise\n",
    "plt.show()"
   ]
  },
  {
   "cell_type": "markdown",
   "metadata": {},
   "source": [
    "## Train network using step function"
   ]
  },
  {
   "cell_type": "code",
   "execution_count": 18,
   "metadata": {},
   "outputs": [
    {
     "name": "stdout",
     "output_type": "stream",
     "text": [
      ">epoch=0, lrate=0.007, error=3.578\n",
      ">epoch=1, lrate=0.007, error=3.578\n",
      ">epoch=2, lrate=0.007, error=3.578\n",
      ">epoch=3, lrate=0.007, error=3.578\n",
      ">epoch=4, lrate=0.007, error=3.578\n",
      ">epoch=5, lrate=0.007, error=3.578\n",
      ">epoch=6, lrate=0.007, error=3.578\n",
      ">epoch=7, lrate=0.007, error=3.578\n",
      ">epoch=8, lrate=0.007, error=3.578\n",
      ">epoch=9, lrate=0.007, error=3.578\n"
     ]
    }
   ],
   "source": [
    "values1 = train_weights_step(random_vals, 0.006531,10)"
   ]
  },
  {
   "cell_type": "code",
   "execution_count": 19,
   "metadata": {},
   "outputs": [
    {
     "data": {
      "image/png": "[encoded data removed]",
      "text/plain": [
       "<Figure size 432x288 with 1 Axes>"
      ]
     },
     "metadata": {
      "needs_background": "light"
     },
     "output_type": "display_data"
    }
   ],
   "source": [
    "y_axis = values1 #network output\n",
    "y = random_vals\n",
    "x_axis = x = t_save2\n",
    "plt.plot(x,y,\"y\") #robot\n",
    "plt.plot(x_axis,y_axis,\"b\")#tracker\n",
    "plt.show()"
   ]
  },
  {
   "cell_type": "code",
   "execution_count": 20,
   "metadata": {},
   "outputs": [
    {
     "data": {
      "text/html": [
       "<div>\n",
       "<style scoped>\n",
       "    .dataframe tbody tr th:only-of-type {\n",
       "        vertical-align: middle;\n",
       "    }\n",
       "\n",
       "    .dataframe tbody tr th {\n",
       "        vertical-align: top;\n",
       "    }\n",
       "\n",
       "    .dataframe thead th {\n",
       "        text-align: right;\n",
       "    }\n",
       "</style>\n",
       "<table border=\"1\" class=\"dataframe\">\n",
       "  <thead>\n",
       "    <tr style=\"text-align: right;\">\n",
       "      <th></th>\n",
       "      <th>Noise_values</th>\n",
       "      <th>Trained</th>\n",
       "      <th>Error</th>\n",
       "      <th>T</th>\n",
       "    </tr>\n",
       "  </thead>\n",
       "  <tbody>\n",
       "    <tr>\n",
       "      <th>0</th>\n",
       "      <td>[0, 0, 0.8875202917819612]</td>\n",
       "      <td>2.105171</td>\n",
       "      <td>-1.217651</td>\n",
       "      <td>0.1</td>\n",
       "    </tr>\n",
       "    <tr>\n",
       "      <th>1</th>\n",
       "      <td>[0, 1.0975650942998987, 0.8875202917819612]</td>\n",
       "      <td>1.800340</td>\n",
       "      <td>-0.702775</td>\n",
       "      <td>0.2</td>\n",
       "    </tr>\n",
       "    <tr>\n",
       "      <th>2</th>\n",
       "      <td>[1.4176163487294013, 1.0975650942998987, 0.887...</td>\n",
       "      <td>1.262567</td>\n",
       "      <td>0.155049</td>\n",
       "      <td>0.3</td>\n",
       "    </tr>\n",
       "    <tr>\n",
       "      <th>3</th>\n",
       "      <td>[1.6445462973139549, 1.4176163487294013, 1.097...</td>\n",
       "      <td>1.202389</td>\n",
       "      <td>0.442158</td>\n",
       "      <td>0.4</td>\n",
       "    </tr>\n",
       "    <tr>\n",
       "      <th>4</th>\n",
       "      <td>[1.7038117228132812, 1.6445462973139549, 1.417...</td>\n",
       "      <td>1.186845</td>\n",
       "      <td>0.516967</td>\n",
       "      <td>0.5</td>\n",
       "    </tr>\n",
       "    <tr>\n",
       "      <th>...</th>\n",
       "      <td>...</td>\n",
       "      <td>...</td>\n",
       "      <td>...</td>\n",
       "      <td>...</td>\n",
       "    </tr>\n",
       "    <tr>\n",
       "      <th>145</th>\n",
       "      <td>[3.4796608653147056, 3.5472457855895607, 3.544...</td>\n",
       "      <td>3.584773</td>\n",
       "      <td>-0.105112</td>\n",
       "      <td>14.6</td>\n",
       "    </tr>\n",
       "    <tr>\n",
       "      <th>146</th>\n",
       "      <td>[3.5010608745159715, 3.4796608653147056, 3.547...</td>\n",
       "      <td>3.452555</td>\n",
       "      <td>0.048506</td>\n",
       "      <td>14.7</td>\n",
       "    </tr>\n",
       "    <tr>\n",
       "      <th>147</th>\n",
       "      <td>[3.501513948870689, 3.5010608745159715, 3.4796...</td>\n",
       "      <td>3.500686</td>\n",
       "      <td>0.000828</td>\n",
       "      <td>14.8</td>\n",
       "    </tr>\n",
       "    <tr>\n",
       "      <th>148</th>\n",
       "      <td>[3.5402946904406094, 3.501513948870689, 3.5010...</td>\n",
       "      <td>3.481899</td>\n",
       "      <td>0.058395</td>\n",
       "      <td>14.9</td>\n",
       "    </tr>\n",
       "    <tr>\n",
       "      <th>149</th>\n",
       "      <td>[3.5782881541070277, 3.5402946904406094, 3.501...</td>\n",
       "      <td>3.531714</td>\n",
       "      <td>0.046574</td>\n",
       "      <td>15.0</td>\n",
       "    </tr>\n",
       "  </tbody>\n",
       "</table>\n",
       "<p>150 rows × 4 columns</p>\n",
       "</div>"
      ],
      "text/plain": [
       "                                          Noise_values   Trained     Error  \\\n",
       "0                           [0, 0, 0.8875202917819612]  2.105171 -1.217651   \n",
       "1          [0, 1.0975650942998987, 0.8875202917819612]  1.800340 -0.702775   \n",
       "2    [1.4176163487294013, 1.0975650942998987, 0.887...  1.262567  0.155049   \n",
       "3    [1.6445462973139549, 1.4176163487294013, 1.097...  1.202389  0.442158   \n",
       "4    [1.7038117228132812, 1.6445462973139549, 1.417...  1.186845  0.516967   \n",
       "..                                                 ...       ...       ...   \n",
       "145  [3.4796608653147056, 3.5472457855895607, 3.544...  3.584773 -0.105112   \n",
       "146  [3.5010608745159715, 3.4796608653147056, 3.547...  3.452555  0.048506   \n",
       "147  [3.501513948870689, 3.5010608745159715, 3.4796...  3.500686  0.000828   \n",
       "148  [3.5402946904406094, 3.501513948870689, 3.5010...  3.481899  0.058395   \n",
       "149  [3.5782881541070277, 3.5402946904406094, 3.501...  3.531714  0.046574   \n",
       "\n",
       "        T  \n",
       "0     0.1  \n",
       "1     0.2  \n",
       "2     0.3  \n",
       "3     0.4  \n",
       "4     0.5  \n",
       "..    ...  \n",
       "145  14.6  \n",
       "146  14.7  \n",
       "147  14.8  \n",
       "148  14.9  \n",
       "149  15.0  \n",
       "\n",
       "[150 rows x 4 columns]"
      ]
     },
     "execution_count": 20,
     "metadata": {},
     "output_type": "execute_result"
    }
   ],
   "source": [
    "df6"
   ]
  },
  {
   "cell_type": "markdown",
   "metadata": {},
   "source": [
    "## Perceptron values against different noise samples(Sigmoid)"
   ]
  },
  {
   "cell_type": "markdown",
   "metadata": {},
   "source": [
    "### Adding noise to other step sizes using box muller"
   ]
  },
  {
   "cell_type": "markdown",
   "metadata": {},
   "source": [
    "#### Example 1(step size =0.1)"
   ]
  },
  {
   "cell_type": "code",
   "execution_count": 21,
   "metadata": {},
   "outputs": [
    {
     "name": "stdout",
     "output_type": "stream",
     "text": [
      ">epoch=0, lrate=0.010, error=-0.034\n"
     ]
    }
   ],
   "source": [
    "random_vals1 = []\n",
    "random_vals1 = box_muller(x_save1,std_dev,_mean)\n",
    "random_vals_t1 = []\n",
    "random_vals_t1 = triple_converter(random_vals1)\n",
    "\n",
    "#values,e = train_weights3(dat1, 0.01,1)\n",
    "#0.006531\n",
    "values1,e1 = train_weights3(random_vals_t1, 0.01,1)"
   ]
  },
  {
   "cell_type": "code",
   "execution_count": 22,
   "metadata": {},
   "outputs": [
    {
     "data": {
      "image/png": "[encoded data removed]",
      "text/plain": [
       "<Figure size 432x288 with 1 Axes>"
      ]
     },
     "metadata": {
      "needs_background": "light"
     },
     "output_type": "display_data"
    }
   ],
   "source": [
    "y_axis = values1 #network output\n",
    "y = random_vals1\n",
    "x_axis = x = t_save1\n",
    "plt.plot(x,y,\"y\") #actual\n",
    "plt.plot(x_axis,y_axis,\"b\")#noise\n",
    "plt.show()"
   ]
  },
  {
   "cell_type": "code",
   "execution_count": 23,
   "metadata": {},
   "outputs": [
    {
     "data": {
      "text/plain": [
       "1500"
      ]
     },
     "execution_count": 23,
     "metadata": {},
     "output_type": "execute_result"
    }
   ],
   "source": [
    "len(e1)"
   ]
  },
  {
   "cell_type": "code",
   "execution_count": 24,
   "metadata": {},
   "outputs": [
    {
     "data": {
      "text/html": [
       "<div>\n",
       "<style scoped>\n",
       "    .dataframe tbody tr th:only-of-type {\n",
       "        vertical-align: middle;\n",
       "    }\n",
       "\n",
       "    .dataframe tbody tr th {\n",
       "        vertical-align: top;\n",
       "    }\n",
       "\n",
       "    .dataframe thead th {\n",
       "        text-align: right;\n",
       "    }\n",
       "</style>\n",
       "<table border=\"1\" class=\"dataframe\">\n",
       "  <thead>\n",
       "    <tr style=\"text-align: right;\">\n",
       "      <th></th>\n",
       "      <th>Noise_values</th>\n",
       "      <th>Network_output</th>\n",
       "      <th>Error</th>\n",
       "      <th>T</th>\n",
       "    </tr>\n",
       "  </thead>\n",
       "  <tbody>\n",
       "    <tr>\n",
       "      <th>0</th>\n",
       "      <td>[0, 0, 0.4940031966567732]</td>\n",
       "      <td>2.105171</td>\n",
       "      <td>-1.611168</td>\n",
       "      <td>0.01</td>\n",
       "    </tr>\n",
       "    <tr>\n",
       "      <th>1</th>\n",
       "      <td>[0, 0.5368767105437104, 0.4940031966567732]</td>\n",
       "      <td>1.801329</td>\n",
       "      <td>-1.264452</td>\n",
       "      <td>0.02</td>\n",
       "    </tr>\n",
       "    <tr>\n",
       "      <th>2</th>\n",
       "      <td>[0.5847631263886017, 0.5368767105437104, 0.494...</td>\n",
       "      <td>1.675103</td>\n",
       "      <td>-1.090340</td>\n",
       "      <td>0.03</td>\n",
       "    </tr>\n",
       "    <tr>\n",
       "      <th>3</th>\n",
       "      <td>[0.695111404611286, 0.5847631263886017, 0.5368...</td>\n",
       "      <td>1.627449</td>\n",
       "      <td>-0.932338</td>\n",
       "      <td>0.04</td>\n",
       "    </tr>\n",
       "    <tr>\n",
       "      <th>4</th>\n",
       "      <td>[0.6617756545124919, 0.695111404611286, 0.5847...</td>\n",
       "      <td>1.583990</td>\n",
       "      <td>-0.922214</td>\n",
       "      <td>0.05</td>\n",
       "    </tr>\n",
       "    <tr>\n",
       "      <th>...</th>\n",
       "      <td>...</td>\n",
       "      <td>...</td>\n",
       "      <td>...</td>\n",
       "      <td>...</td>\n",
       "    </tr>\n",
       "    <tr>\n",
       "      <th>1495</th>\n",
       "      <td>[3.5503903118350197, 3.495557445460004, 3.4876...</td>\n",
       "      <td>3.516350</td>\n",
       "      <td>0.034041</td>\n",
       "      <td>14.96</td>\n",
       "    </tr>\n",
       "    <tr>\n",
       "      <th>1496</th>\n",
       "      <td>[3.4935564819349887, 3.5503903118350197, 3.495...</td>\n",
       "      <td>3.496320</td>\n",
       "      <td>-0.002764</td>\n",
       "      <td>14.97</td>\n",
       "    </tr>\n",
       "    <tr>\n",
       "      <th>1497</th>\n",
       "      <td>[3.5151927417776236, 3.4935564819349887, 3.550...</td>\n",
       "      <td>3.520982</td>\n",
       "      <td>-0.005789</td>\n",
       "      <td>14.98</td>\n",
       "    </tr>\n",
       "    <tr>\n",
       "      <th>1498</th>\n",
       "      <td>[3.5063498556974118, 3.5151927417776236, 3.493...</td>\n",
       "      <td>3.506411</td>\n",
       "      <td>-0.000061</td>\n",
       "      <td>14.99</td>\n",
       "    </tr>\n",
       "    <tr>\n",
       "      <th>1499</th>\n",
       "      <td>[3.4414297029007526, 3.5063498556974118, 3.515...</td>\n",
       "      <td>3.475129</td>\n",
       "      <td>-0.033699</td>\n",
       "      <td>15.00</td>\n",
       "    </tr>\n",
       "  </tbody>\n",
       "</table>\n",
       "<p>1500 rows × 4 columns</p>\n",
       "</div>"
      ],
      "text/plain": [
       "                                           Noise_values  Network_output  \\\n",
       "0                            [0, 0, 0.4940031966567732]        2.105171   \n",
       "1           [0, 0.5368767105437104, 0.4940031966567732]        1.801329   \n",
       "2     [0.5847631263886017, 0.5368767105437104, 0.494...        1.675103   \n",
       "3     [0.695111404611286, 0.5847631263886017, 0.5368...        1.627449   \n",
       "4     [0.6617756545124919, 0.695111404611286, 0.5847...        1.583990   \n",
       "...                                                 ...             ...   \n",
       "1495  [3.5503903118350197, 3.495557445460004, 3.4876...        3.516350   \n",
       "1496  [3.4935564819349887, 3.5503903118350197, 3.495...        3.496320   \n",
       "1497  [3.5151927417776236, 3.4935564819349887, 3.550...        3.520982   \n",
       "1498  [3.5063498556974118, 3.5151927417776236, 3.493...        3.506411   \n",
       "1499  [3.4414297029007526, 3.5063498556974118, 3.515...        3.475129   \n",
       "\n",
       "         Error      T  \n",
       "0    -1.611168   0.01  \n",
       "1    -1.264452   0.02  \n",
       "2    -1.090340   0.03  \n",
       "3    -0.932338   0.04  \n",
       "4    -0.922214   0.05  \n",
       "...        ...    ...  \n",
       "1495  0.034041  14.96  \n",
       "1496 -0.002764  14.97  \n",
       "1497 -0.005789  14.98  \n",
       "1498 -0.000061  14.99  \n",
       "1499 -0.033699  15.00  \n",
       "\n",
       "[1500 rows x 4 columns]"
      ]
     },
     "execution_count": 24,
     "metadata": {},
     "output_type": "execute_result"
    }
   ],
   "source": [
    "data7= {'Noise_values':random_vals_t1,'Network_output':values1,'Error':e1,'T':t_save1}\n",
    "vis= pd.DataFrame(data7)\n",
    "vis"
   ]
  },
  {
   "cell_type": "markdown",
   "metadata": {},
   "source": [
    "#### Example 2(step size = 0.01)"
   ]
  },
  {
   "cell_type": "code",
   "execution_count": 25,
   "metadata": {},
   "outputs": [
    {
     "name": "stdout",
     "output_type": "stream",
     "text": [
      ">epoch=0, lrate=0.010, error=0.124\n"
     ]
    }
   ],
   "source": [
    "random_vals2 = []\n",
    "random_vals2 = box_muller(x_save2,std_dev,_mean)\n",
    "random_vals_t2 =[]\n",
    "random_vals_t2 = triple_converter(random_vals2)\n",
    "values2,e2 =train_weights3(random_vals_t2,0.01,1)"
   ]
  },
  {
   "cell_type": "code",
   "execution_count": 26,
   "metadata": {},
   "outputs": [
    {
     "data": {
      "image/png": "[encoded data removed]",
      "text/plain": [
       "<Figure size 432x288 with 1 Axes>"
      ]
     },
     "metadata": {
      "needs_background": "light"
     },
     "output_type": "display_data"
    }
   ],
   "source": [
    "y_axis = values2 #network output\n",
    "y = random_vals2 # x noise\n",
    "x_axis = x = t_save2\n",
    "plt.plot(x,y,\"y\") #actual\n",
    "plt.plot(x_axis,y_axis,\"b\")#noise\n",
    "plt.show()"
   ]
  },
  {
   "cell_type": "code",
   "execution_count": 27,
   "metadata": {},
   "outputs": [
    {
     "data": {
      "text/plain": [
       "150"
      ]
     },
     "execution_count": 27,
     "metadata": {},
     "output_type": "execute_result"
    }
   ],
   "source": [
    "len(values2)"
   ]
  },
  {
   "cell_type": "code",
   "execution_count": 28,
   "metadata": {},
   "outputs": [
    {
     "data": {
      "text/html": [
       "<div>\n",
       "<style scoped>\n",
       "    .dataframe tbody tr th:only-of-type {\n",
       "        vertical-align: middle;\n",
       "    }\n",
       "\n",
       "    .dataframe tbody tr th {\n",
       "        vertical-align: top;\n",
       "    }\n",
       "\n",
       "    .dataframe thead th {\n",
       "        text-align: right;\n",
       "    }\n",
       "</style>\n",
       "<table border=\"1\" class=\"dataframe\">\n",
       "  <thead>\n",
       "    <tr style=\"text-align: right;\">\n",
       "      <th></th>\n",
       "      <th>Noise_values</th>\n",
       "      <th>Network_output</th>\n",
       "      <th>Error</th>\n",
       "      <th>T</th>\n",
       "    </tr>\n",
       "  </thead>\n",
       "  <tbody>\n",
       "    <tr>\n",
       "      <th>0</th>\n",
       "      <td>[0, 0, 0.7789175746091841]</td>\n",
       "      <td>2.105171</td>\n",
       "      <td>-1.326253</td>\n",
       "      <td>0.1</td>\n",
       "    </tr>\n",
       "    <tr>\n",
       "      <th>1</th>\n",
       "      <td>[0, 1.1321418898663425, 0.7789175746091841]</td>\n",
       "      <td>1.916519</td>\n",
       "      <td>-0.784377</td>\n",
       "      <td>0.2</td>\n",
       "    </tr>\n",
       "    <tr>\n",
       "      <th>2</th>\n",
       "      <td>[1.4465443006948657, 1.1321418898663425, 0.778...</td>\n",
       "      <td>1.470940</td>\n",
       "      <td>-0.024395</td>\n",
       "      <td>0.3</td>\n",
       "    </tr>\n",
       "    <tr>\n",
       "      <th>3</th>\n",
       "      <td>[1.5177400820930198, 1.4465443006948657, 1.132...</td>\n",
       "      <td>1.432503</td>\n",
       "      <td>0.085237</td>\n",
       "      <td>0.4</td>\n",
       "    </tr>\n",
       "    <tr>\n",
       "      <th>4</th>\n",
       "      <td>[1.79330336260381, 1.5177400820930198, 1.44654...</td>\n",
       "      <td>1.379955</td>\n",
       "      <td>0.413348</td>\n",
       "      <td>0.5</td>\n",
       "    </tr>\n",
       "    <tr>\n",
       "      <th>...</th>\n",
       "      <td>...</td>\n",
       "      <td>...</td>\n",
       "      <td>...</td>\n",
       "      <td>...</td>\n",
       "    </tr>\n",
       "    <tr>\n",
       "      <th>145</th>\n",
       "      <td>[3.459345298716713, 3.4548236383735023, 3.4583...</td>\n",
       "      <td>3.452110</td>\n",
       "      <td>0.007236</td>\n",
       "      <td>14.6</td>\n",
       "    </tr>\n",
       "    <tr>\n",
       "      <th>146</th>\n",
       "      <td>[3.493375014542748, 3.459345298716713, 3.45482...</td>\n",
       "      <td>3.452883</td>\n",
       "      <td>0.040492</td>\n",
       "      <td>14.7</td>\n",
       "    </tr>\n",
       "    <tr>\n",
       "      <th>147</th>\n",
       "      <td>[3.4513997108116232, 3.493375014542748, 3.4593...</td>\n",
       "      <td>3.506054</td>\n",
       "      <td>-0.054654</td>\n",
       "      <td>14.8</td>\n",
       "    </tr>\n",
       "    <tr>\n",
       "      <th>148</th>\n",
       "      <td>[3.4455148205533597, 3.4513997108116232, 3.493...</td>\n",
       "      <td>3.448693</td>\n",
       "      <td>-0.003178</td>\n",
       "      <td>14.9</td>\n",
       "    </tr>\n",
       "    <tr>\n",
       "      <th>149</th>\n",
       "      <td>[3.5484507380638277, 3.4455148205533597, 3.451...</td>\n",
       "      <td>3.424362</td>\n",
       "      <td>0.124089</td>\n",
       "      <td>15.0</td>\n",
       "    </tr>\n",
       "  </tbody>\n",
       "</table>\n",
       "<p>150 rows × 4 columns</p>\n",
       "</div>"
      ],
      "text/plain": [
       "                                          Noise_values  Network_output  \\\n",
       "0                           [0, 0, 0.7789175746091841]        2.105171   \n",
       "1          [0, 1.1321418898663425, 0.7789175746091841]        1.916519   \n",
       "2    [1.4465443006948657, 1.1321418898663425, 0.778...        1.470940   \n",
       "3    [1.5177400820930198, 1.4465443006948657, 1.132...        1.432503   \n",
       "4    [1.79330336260381, 1.5177400820930198, 1.44654...        1.379955   \n",
       "..                                                 ...             ...   \n",
       "145  [3.459345298716713, 3.4548236383735023, 3.4583...        3.452110   \n",
       "146  [3.493375014542748, 3.459345298716713, 3.45482...        3.452883   \n",
       "147  [3.4513997108116232, 3.493375014542748, 3.4593...        3.506054   \n",
       "148  [3.4455148205533597, 3.4513997108116232, 3.493...        3.448693   \n",
       "149  [3.5484507380638277, 3.4455148205533597, 3.451...        3.424362   \n",
       "\n",
       "        Error     T  \n",
       "0   -1.326253   0.1  \n",
       "1   -0.784377   0.2  \n",
       "2   -0.024395   0.3  \n",
       "3    0.085237   0.4  \n",
       "4    0.413348   0.5  \n",
       "..        ...   ...  \n",
       "145  0.007236  14.6  \n",
       "146  0.040492  14.7  \n",
       "147 -0.054654  14.8  \n",
       "148 -0.003178  14.9  \n",
       "149  0.124089  15.0  \n",
       "\n",
       "[150 rows x 4 columns]"
      ]
     },
     "execution_count": 28,
     "metadata": {},
     "output_type": "execute_result"
    }
   ],
   "source": [
    "data8= {'Noise_values':random_vals_t2,'Network_output':values2,'Error':e2,'T':t_save2}\n",
    "vis1= pd.DataFrame(data8)\n",
    "vis1"
   ]
  },
  {
   "cell_type": "markdown",
   "metadata": {},
   "source": [
    "#### Example 3(step size = 0.5)"
   ]
  },
  {
   "cell_type": "code",
   "execution_count": 29,
   "metadata": {},
   "outputs": [
    {
     "name": "stdout",
     "output_type": "stream",
     "text": [
      ">epoch=0, lrate=0.011, error=-0.024\n",
      ">epoch=1, lrate=0.011, error=-0.025\n",
      ">epoch=2, lrate=0.011, error=-0.025\n",
      ">epoch=3, lrate=0.011, error=-0.025\n",
      ">epoch=4, lrate=0.011, error=-0.025\n"
     ]
    }
   ],
   "source": [
    "random_vals3 = []\n",
    "random_vals3 = box_muller(x_array4,std_dev,_mean)\n",
    "random_vals_t3 = []\n",
    "random_vals_t3 = triple_converter(random_vals3)\n",
    "values3,e3 = train_weights3(random_vals_t3, 0.011,5)"
   ]
  },
  {
   "cell_type": "code",
   "execution_count": 43,
   "metadata": {},
   "outputs": [
    {
     "data": {
      "image/png": "[encoded data removed]",
      "text/plain": [
       "<Figure size 432x288 with 1 Axes>"
      ]
     },
     "metadata": {
      "needs_background": "light"
     },
     "output_type": "display_data"
    }
   ],
   "source": [
    "y_axis = values3 #network output\n",
    "y = random_vals3 # x noise\n",
    "x_axis = x = t_array4\n",
    "plt.plot(x,y,\"y\") #actual\n",
    "plt.plot(x_axis,y_axis,\"b\")#noise\n",
    "plt.show()"
   ]
  },
  {
   "cell_type": "code",
   "execution_count": 31,
   "metadata": {},
   "outputs": [
    {
     "data": {
      "text/html": [
       "<div>\n",
       "<style scoped>\n",
       "    .dataframe tbody tr th:only-of-type {\n",
       "        vertical-align: middle;\n",
       "    }\n",
       "\n",
       "    .dataframe tbody tr th {\n",
       "        vertical-align: top;\n",
       "    }\n",
       "\n",
       "    .dataframe thead th {\n",
       "        text-align: right;\n",
       "    }\n",
       "</style>\n",
       "<table border=\"1\" class=\"dataframe\">\n",
       "  <thead>\n",
       "    <tr style=\"text-align: right;\">\n",
       "      <th></th>\n",
       "      <th>Noise_values</th>\n",
       "      <th>Network_output</th>\n",
       "      <th>Error</th>\n",
       "      <th>T</th>\n",
       "    </tr>\n",
       "  </thead>\n",
       "  <tbody>\n",
       "    <tr>\n",
       "      <th>0</th>\n",
       "      <td>[0, 0, 2.377245555065313]</td>\n",
       "      <td>2.939269</td>\n",
       "      <td>-0.562024</td>\n",
       "      <td>0.5</td>\n",
       "    </tr>\n",
       "    <tr>\n",
       "      <th>1</th>\n",
       "      <td>[0, 2.498050583390408, 2.377245555065313]</td>\n",
       "      <td>3.024081</td>\n",
       "      <td>-0.526030</td>\n",
       "      <td>1.0</td>\n",
       "    </tr>\n",
       "    <tr>\n",
       "      <th>2</th>\n",
       "      <td>[2.5434260382408054, 2.498050583390408, 2.3772...</td>\n",
       "      <td>2.951828</td>\n",
       "      <td>-0.408402</td>\n",
       "      <td>1.5</td>\n",
       "    </tr>\n",
       "    <tr>\n",
       "      <th>3</th>\n",
       "      <td>[2.431660227299647, 2.5434260382408054, 2.4980...</td>\n",
       "      <td>2.822589</td>\n",
       "      <td>-0.390929</td>\n",
       "      <td>2.0</td>\n",
       "    </tr>\n",
       "    <tr>\n",
       "      <th>4</th>\n",
       "      <td>[2.491972968375717, 2.431660227299647, 2.54342...</td>\n",
       "      <td>2.713066</td>\n",
       "      <td>-0.221093</td>\n",
       "      <td>2.5</td>\n",
       "    </tr>\n",
       "    <tr>\n",
       "      <th>5</th>\n",
       "      <td>[2.399287949318082, 2.491972968375717, 2.43166...</td>\n",
       "      <td>2.654150</td>\n",
       "      <td>-0.254862</td>\n",
       "      <td>3.0</td>\n",
       "    </tr>\n",
       "    <tr>\n",
       "      <th>6</th>\n",
       "      <td>[2.5421770467738534, 2.399287949318082, 2.4919...</td>\n",
       "      <td>2.587126</td>\n",
       "      <td>-0.044949</td>\n",
       "      <td>3.5</td>\n",
       "    </tr>\n",
       "    <tr>\n",
       "      <th>7</th>\n",
       "      <td>[2.4908497265084577, 2.5421770467738534, 2.399...</td>\n",
       "      <td>2.571615</td>\n",
       "      <td>-0.080766</td>\n",
       "      <td>4.0</td>\n",
       "    </tr>\n",
       "    <tr>\n",
       "      <th>8</th>\n",
       "      <td>[2.4307885950885546, 2.4908497265084577, 2.542...</td>\n",
       "      <td>2.556168</td>\n",
       "      <td>-0.125380</td>\n",
       "      <td>4.5</td>\n",
       "    </tr>\n",
       "    <tr>\n",
       "      <th>9</th>\n",
       "      <td>[2.516091711835813, 2.4307885950885546, 2.4908...</td>\n",
       "      <td>2.523925</td>\n",
       "      <td>-0.007833</td>\n",
       "      <td>5.0</td>\n",
       "    </tr>\n",
       "    <tr>\n",
       "      <th>10</th>\n",
       "      <td>[2.544821475742934, 2.516091711835813, 2.43078...</td>\n",
       "      <td>2.516090</td>\n",
       "      <td>0.028731</td>\n",
       "      <td>5.5</td>\n",
       "    </tr>\n",
       "    <tr>\n",
       "      <th>11</th>\n",
       "      <td>[1.5401702523828773, 2.544821475742934, 2.5160...</td>\n",
       "      <td>2.577058</td>\n",
       "      <td>-1.036887</td>\n",
       "      <td>6.0</td>\n",
       "    </tr>\n",
       "    <tr>\n",
       "      <th>12</th>\n",
       "      <td>[1.493527031873973, 1.5401702523828773, 2.5448...</td>\n",
       "      <td>2.520197</td>\n",
       "      <td>-1.026670</td>\n",
       "      <td>6.5</td>\n",
       "    </tr>\n",
       "    <tr>\n",
       "      <th>13</th>\n",
       "      <td>[1.4666793782257643, 1.493527031873973, 1.5401...</td>\n",
       "      <td>2.427309</td>\n",
       "      <td>-0.960630</td>\n",
       "      <td>7.0</td>\n",
       "    </tr>\n",
       "    <tr>\n",
       "      <th>14</th>\n",
       "      <td>[1.510866431749634, 1.4666793782257643, 1.4935...</td>\n",
       "      <td>2.340251</td>\n",
       "      <td>-0.829384</td>\n",
       "      <td>7.5</td>\n",
       "    </tr>\n",
       "    <tr>\n",
       "      <th>15</th>\n",
       "      <td>[1.5595464352336976, 1.510866431749634, 1.4666...</td>\n",
       "      <td>2.257298</td>\n",
       "      <td>-0.697751</td>\n",
       "      <td>8.0</td>\n",
       "    </tr>\n",
       "    <tr>\n",
       "      <th>16</th>\n",
       "      <td>[1.5394255399196006, 1.5595464352336976, 1.510...</td>\n",
       "      <td>2.193890</td>\n",
       "      <td>-0.654465</td>\n",
       "      <td>8.5</td>\n",
       "    </tr>\n",
       "    <tr>\n",
       "      <th>17</th>\n",
       "      <td>[1.511166689339209, 1.5394255399196006, 1.5595...</td>\n",
       "      <td>2.147559</td>\n",
       "      <td>-0.636392</td>\n",
       "      <td>9.0</td>\n",
       "    </tr>\n",
       "    <tr>\n",
       "      <th>18</th>\n",
       "      <td>[1.4729928060434787, 1.511166689339209, 1.5394...</td>\n",
       "      <td>2.109064</td>\n",
       "      <td>-0.636071</td>\n",
       "      <td>9.5</td>\n",
       "    </tr>\n",
       "    <tr>\n",
       "      <th>19</th>\n",
       "      <td>[1.5443060219296894, 1.4729928060434787, 1.511...</td>\n",
       "      <td>2.059294</td>\n",
       "      <td>-0.514988</td>\n",
       "      <td>10.0</td>\n",
       "    </tr>\n",
       "    <tr>\n",
       "      <th>20</th>\n",
       "      <td>[1.5181621399820462, 1.5443060219296894, 1.472...</td>\n",
       "      <td>2.015943</td>\n",
       "      <td>-0.497781</td>\n",
       "      <td>10.5</td>\n",
       "    </tr>\n",
       "    <tr>\n",
       "      <th>21</th>\n",
       "      <td>[3.5728235504906536, 1.5181621399820462, 1.544...</td>\n",
       "      <td>1.709883</td>\n",
       "      <td>1.862941</td>\n",
       "      <td>11.0</td>\n",
       "    </tr>\n",
       "    <tr>\n",
       "      <th>22</th>\n",
       "      <td>[3.5000266000086873, 3.5728235504906536, 1.518...</td>\n",
       "      <td>1.939279</td>\n",
       "      <td>1.560748</td>\n",
       "      <td>11.5</td>\n",
       "    </tr>\n",
       "    <tr>\n",
       "      <th>23</th>\n",
       "      <td>[3.45086094168927, 3.5000266000086873, 3.57282...</td>\n",
       "      <td>2.530342</td>\n",
       "      <td>0.920519</td>\n",
       "      <td>12.0</td>\n",
       "    </tr>\n",
       "    <tr>\n",
       "      <th>24</th>\n",
       "      <td>[3.555595248204253, 3.45086094168927, 3.500026...</td>\n",
       "      <td>3.021065</td>\n",
       "      <td>0.534530</td>\n",
       "      <td>12.5</td>\n",
       "    </tr>\n",
       "    <tr>\n",
       "      <th>25</th>\n",
       "      <td>[3.4353882848208404, 3.555595248204253, 3.4508...</td>\n",
       "      <td>3.388991</td>\n",
       "      <td>0.046397</td>\n",
       "      <td>13.0</td>\n",
       "    </tr>\n",
       "    <tr>\n",
       "      <th>26</th>\n",
       "      <td>[3.4837407113713117, 3.4353882848208404, 3.555...</td>\n",
       "      <td>3.416465</td>\n",
       "      <td>0.067276</td>\n",
       "      <td>13.5</td>\n",
       "    </tr>\n",
       "    <tr>\n",
       "      <th>27</th>\n",
       "      <td>[3.466281178390714, 3.4837407113713117, 3.4353...</td>\n",
       "      <td>3.469212</td>\n",
       "      <td>-0.002931</td>\n",
       "      <td>14.0</td>\n",
       "    </tr>\n",
       "    <tr>\n",
       "      <th>28</th>\n",
       "      <td>[3.500761491921034, 3.466281178390714, 3.48374...</td>\n",
       "      <td>3.468292</td>\n",
       "      <td>0.032470</td>\n",
       "      <td>14.5</td>\n",
       "    </tr>\n",
       "    <tr>\n",
       "      <th>29</th>\n",
       "      <td>[3.5267003554140617, 3.500761491921034, 3.4662...</td>\n",
       "      <td>3.498475</td>\n",
       "      <td>0.028225</td>\n",
       "      <td>15.0</td>\n",
       "    </tr>\n",
       "    <tr>\n",
       "      <th>30</th>\n",
       "      <td>[3.495606652140915, 3.5267003554140617, 3.5007...</td>\n",
       "      <td>3.520264</td>\n",
       "      <td>-0.024657</td>\n",
       "      <td>15.5</td>\n",
       "    </tr>\n",
       "  </tbody>\n",
       "</table>\n",
       "</div>"
      ],
      "text/plain": [
       "                                         Noise_values  Network_output  \\\n",
       "0                           [0, 0, 2.377245555065313]        2.939269   \n",
       "1           [0, 2.498050583390408, 2.377245555065313]        3.024081   \n",
       "2   [2.5434260382408054, 2.498050583390408, 2.3772...        2.951828   \n",
       "3   [2.431660227299647, 2.5434260382408054, 2.4980...        2.822589   \n",
       "4   [2.491972968375717, 2.431660227299647, 2.54342...        2.713066   \n",
       "5   [2.399287949318082, 2.491972968375717, 2.43166...        2.654150   \n",
       "6   [2.5421770467738534, 2.399287949318082, 2.4919...        2.587126   \n",
       "7   [2.4908497265084577, 2.5421770467738534, 2.399...        2.571615   \n",
       "8   [2.4307885950885546, 2.4908497265084577, 2.542...        2.556168   \n",
       "9   [2.516091711835813, 2.4307885950885546, 2.4908...        2.523925   \n",
       "10  [2.544821475742934, 2.516091711835813, 2.43078...        2.516090   \n",
       "11  [1.5401702523828773, 2.544821475742934, 2.5160...        2.577058   \n",
       "12  [1.493527031873973, 1.5401702523828773, 2.5448...        2.520197   \n",
       "13  [1.4666793782257643, 1.493527031873973, 1.5401...        2.427309   \n",
       "14  [1.510866431749634, 1.4666793782257643, 1.4935...        2.340251   \n",
       "15  [1.5595464352336976, 1.510866431749634, 1.4666...        2.257298   \n",
       "16  [1.5394255399196006, 1.5595464352336976, 1.510...        2.193890   \n",
       "17  [1.511166689339209, 1.5394255399196006, 1.5595...        2.147559   \n",
       "18  [1.4729928060434787, 1.511166689339209, 1.5394...        2.109064   \n",
       "19  [1.5443060219296894, 1.4729928060434787, 1.511...        2.059294   \n",
       "20  [1.5181621399820462, 1.5443060219296894, 1.472...        2.015943   \n",
       "21  [3.5728235504906536, 1.5181621399820462, 1.544...        1.709883   \n",
       "22  [3.5000266000086873, 3.5728235504906536, 1.518...        1.939279   \n",
       "23  [3.45086094168927, 3.5000266000086873, 3.57282...        2.530342   \n",
       "24  [3.555595248204253, 3.45086094168927, 3.500026...        3.021065   \n",
       "25  [3.4353882848208404, 3.555595248204253, 3.4508...        3.388991   \n",
       "26  [3.4837407113713117, 3.4353882848208404, 3.555...        3.416465   \n",
       "27  [3.466281178390714, 3.4837407113713117, 3.4353...        3.469212   \n",
       "28  [3.500761491921034, 3.466281178390714, 3.48374...        3.468292   \n",
       "29  [3.5267003554140617, 3.500761491921034, 3.4662...        3.498475   \n",
       "30  [3.495606652140915, 3.5267003554140617, 3.5007...        3.520264   \n",
       "\n",
       "       Error     T  \n",
       "0  -0.562024   0.5  \n",
       "1  -0.526030   1.0  \n",
       "2  -0.408402   1.5  \n",
       "3  -0.390929   2.0  \n",
       "4  -0.221093   2.5  \n",
       "5  -0.254862   3.0  \n",
       "6  -0.044949   3.5  \n",
       "7  -0.080766   4.0  \n",
       "8  -0.125380   4.5  \n",
       "9  -0.007833   5.0  \n",
       "10  0.028731   5.5  \n",
       "11 -1.036887   6.0  \n",
       "12 -1.026670   6.5  \n",
       "13 -0.960630   7.0  \n",
       "14 -0.829384   7.5  \n",
       "15 -0.697751   8.0  \n",
       "16 -0.654465   8.5  \n",
       "17 -0.636392   9.0  \n",
       "18 -0.636071   9.5  \n",
       "19 -0.514988  10.0  \n",
       "20 -0.497781  10.5  \n",
       "21  1.862941  11.0  \n",
       "22  1.560748  11.5  \n",
       "23  0.920519  12.0  \n",
       "24  0.534530  12.5  \n",
       "25  0.046397  13.0  \n",
       "26  0.067276  13.5  \n",
       "27 -0.002931  14.0  \n",
       "28  0.032470  14.5  \n",
       "29  0.028225  15.0  \n",
       "30 -0.024657  15.5  "
      ]
     },
     "execution_count": 31,
     "metadata": {},
     "output_type": "execute_result"
    }
   ],
   "source": [
    "data9= {'Noise_values':random_vals_t3,'Network_output':values3,'Error':e3,'T':t_array4}\n",
    "vis2= pd.DataFrame(data9)\n",
    "vis2"
   ]
  },
  {
   "cell_type": "markdown",
   "metadata": {},
   "source": [
    "#### Example 4(step size = 0.75)"
   ]
  },
  {
   "cell_type": "code",
   "execution_count": 44,
   "metadata": {},
   "outputs": [
    {
     "name": "stdout",
     "output_type": "stream",
     "text": [
      ">epoch=0, lrate=0.010, error=-0.003\n",
      ">epoch=1, lrate=0.010, error=-0.018\n",
      ">epoch=2, lrate=0.010, error=-0.018\n",
      ">epoch=3, lrate=0.010, error=-0.018\n",
      ">epoch=4, lrate=0.010, error=-0.018\n"
     ]
    }
   ],
   "source": [
    "random_vals4 = []\n",
    "random_vals4 = box_muller(x_array5,std_dev,_mean)\n",
    "random_vals_t4 = triple_converter(random_vals4)\n",
    "values4,e4 = train_weights3(random_vals_t4, 0.01,5)"
   ]
  },
  {
   "cell_type": "code",
   "execution_count": 45,
   "metadata": {},
   "outputs": [
    {
     "data": {
      "image/png": "[encoded data removed]",
      "text/plain": [
       "<Figure size 432x288 with 1 Axes>"
      ]
     },
     "metadata": {
      "needs_background": "light"
     },
     "output_type": "display_data"
    }
   ],
   "source": [
    "y_axis = values4 #network output\n",
    "y = random_vals4 # x noise\n",
    "x_axis = x = t_array5\n",
    "plt.plot(x,y,\"y\") #actual\n",
    "plt.plot(x_axis,y_axis,\"b\")#noise\n",
    "plt.show()"
   ]
  },
  {
   "cell_type": "code",
   "execution_count": 46,
   "metadata": {},
   "outputs": [
    {
     "data": {
      "text/html": [
       "<div>\n",
       "<style scoped>\n",
       "    .dataframe tbody tr th:only-of-type {\n",
       "        vertical-align: middle;\n",
       "    }\n",
       "\n",
       "    .dataframe tbody tr th {\n",
       "        vertical-align: top;\n",
       "    }\n",
       "\n",
       "    .dataframe thead th {\n",
       "        text-align: right;\n",
       "    }\n",
       "</style>\n",
       "<table border=\"1\" class=\"dataframe\">\n",
       "  <thead>\n",
       "    <tr style=\"text-align: right;\">\n",
       "      <th></th>\n",
       "      <th>Noise_values</th>\n",
       "      <th>Network_output</th>\n",
       "      <th>Error</th>\n",
       "      <th>T</th>\n",
       "    </tr>\n",
       "  </thead>\n",
       "  <tbody>\n",
       "    <tr>\n",
       "      <th>0</th>\n",
       "      <td>[0, 0, 3.5100475447774824]</td>\n",
       "      <td>2.608080</td>\n",
       "      <td>0.901967</td>\n",
       "      <td>0.75</td>\n",
       "    </tr>\n",
       "    <tr>\n",
       "      <th>1</th>\n",
       "      <td>[0, 1.9029781767067542, 3.5100475447774824]</td>\n",
       "      <td>2.207805</td>\n",
       "      <td>-0.304826</td>\n",
       "      <td>1.50</td>\n",
       "    </tr>\n",
       "    <tr>\n",
       "      <th>2</th>\n",
       "      <td>[2.7819682895477706, 1.9029781767067542, 3.510...</td>\n",
       "      <td>4.146585</td>\n",
       "      <td>-1.364617</td>\n",
       "      <td>2.25</td>\n",
       "    </tr>\n",
       "    <tr>\n",
       "      <th>3</th>\n",
       "      <td>[2.313705951811431, 2.7819682895477706, 1.9029...</td>\n",
       "      <td>2.820237</td>\n",
       "      <td>-0.506531</td>\n",
       "      <td>3.00</td>\n",
       "    </tr>\n",
       "    <tr>\n",
       "      <th>4</th>\n",
       "      <td>[2.5974013702195835, 2.313705951811431, 2.7819...</td>\n",
       "      <td>3.048277</td>\n",
       "      <td>-0.450876</td>\n",
       "      <td>3.75</td>\n",
       "    </tr>\n",
       "    <tr>\n",
       "      <th>5</th>\n",
       "      <td>[2.49280830352852, 2.5974013702195835, 2.31370...</td>\n",
       "      <td>2.735174</td>\n",
       "      <td>-0.242366</td>\n",
       "      <td>4.50</td>\n",
       "    </tr>\n",
       "    <tr>\n",
       "      <th>6</th>\n",
       "      <td>[2.508257913809775, 2.49280830352852, 2.597401...</td>\n",
       "      <td>2.722565</td>\n",
       "      <td>-0.214307</td>\n",
       "      <td>5.25</td>\n",
       "    </tr>\n",
       "    <tr>\n",
       "      <th>7</th>\n",
       "      <td>[1.0307792424628799, 2.508257913809775, 2.4928...</td>\n",
       "      <td>2.102817</td>\n",
       "      <td>-1.072037</td>\n",
       "      <td>6.00</td>\n",
       "    </tr>\n",
       "    <tr>\n",
       "      <th>8</th>\n",
       "      <td>[1.7823706306011773, 1.0307792424628799, 2.508...</td>\n",
       "      <td>2.872372</td>\n",
       "      <td>-1.090001</td>\n",
       "      <td>6.75</td>\n",
       "    </tr>\n",
       "    <tr>\n",
       "      <th>9</th>\n",
       "      <td>[1.3696967277322236, 1.7823706306011773, 1.030...</td>\n",
       "      <td>2.275922</td>\n",
       "      <td>-0.906225</td>\n",
       "      <td>7.50</td>\n",
       "    </tr>\n",
       "    <tr>\n",
       "      <th>10</th>\n",
       "      <td>[1.6434851785593645, 1.3696967277322236, 1.782...</td>\n",
       "      <td>2.455608</td>\n",
       "      <td>-0.812123</td>\n",
       "      <td>8.25</td>\n",
       "    </tr>\n",
       "    <tr>\n",
       "      <th>11</th>\n",
       "      <td>[1.4566374779495859, 1.6434851785593645, 1.369...</td>\n",
       "      <td>2.218808</td>\n",
       "      <td>-0.762171</td>\n",
       "      <td>9.00</td>\n",
       "    </tr>\n",
       "    <tr>\n",
       "      <th>12</th>\n",
       "      <td>[1.5310646641441887, 1.4566374779495859, 1.643...</td>\n",
       "      <td>2.254170</td>\n",
       "      <td>-0.723105</td>\n",
       "      <td>9.75</td>\n",
       "    </tr>\n",
       "    <tr>\n",
       "      <th>13</th>\n",
       "      <td>[1.4910261365423105, 1.5310646641441887, 1.456...</td>\n",
       "      <td>2.162110</td>\n",
       "      <td>-0.671083</td>\n",
       "      <td>10.50</td>\n",
       "    </tr>\n",
       "    <tr>\n",
       "      <th>14</th>\n",
       "      <td>[4.494985733006412, 1.4910261365423105, 1.5310...</td>\n",
       "      <td>2.996005</td>\n",
       "      <td>1.498980</td>\n",
       "      <td>11.25</td>\n",
       "    </tr>\n",
       "    <tr>\n",
       "      <th>15</th>\n",
       "      <td>[2.966118769218902, 4.494985733006412, 1.49102...</td>\n",
       "      <td>1.969195</td>\n",
       "      <td>0.996924</td>\n",
       "      <td>12.00</td>\n",
       "    </tr>\n",
       "    <tr>\n",
       "      <th>16</th>\n",
       "      <td>[3.7821933607458567, 2.966118769218902, 4.4949...</td>\n",
       "      <td>3.258752</td>\n",
       "      <td>0.523441</td>\n",
       "      <td>12.75</td>\n",
       "    </tr>\n",
       "    <tr>\n",
       "      <th>17</th>\n",
       "      <td>[3.3377435891980602, 3.7821933607458567, 2.966...</td>\n",
       "      <td>2.925057</td>\n",
       "      <td>0.412687</td>\n",
       "      <td>13.50</td>\n",
       "    </tr>\n",
       "    <tr>\n",
       "      <th>18</th>\n",
       "      <td>[3.6087164813483996, 3.3377435891980602, 3.782...</td>\n",
       "      <td>3.569881</td>\n",
       "      <td>0.038836</td>\n",
       "      <td>14.25</td>\n",
       "    </tr>\n",
       "    <tr>\n",
       "      <th>19</th>\n",
       "      <td>[3.472672079435894, 3.6087164813483996, 3.3377...</td>\n",
       "      <td>3.355035</td>\n",
       "      <td>0.117637</td>\n",
       "      <td>15.00</td>\n",
       "    </tr>\n",
       "    <tr>\n",
       "      <th>20</th>\n",
       "      <td>[3.52711635405789, 3.472672079435894, 3.608716...</td>\n",
       "      <td>3.545206</td>\n",
       "      <td>-0.018089</td>\n",
       "      <td>15.75</td>\n",
       "    </tr>\n",
       "  </tbody>\n",
       "</table>\n",
       "</div>"
      ],
      "text/plain": [
       "                                         Noise_values  Network_output  \\\n",
       "0                          [0, 0, 3.5100475447774824]        2.608080   \n",
       "1         [0, 1.9029781767067542, 3.5100475447774824]        2.207805   \n",
       "2   [2.7819682895477706, 1.9029781767067542, 3.510...        4.146585   \n",
       "3   [2.313705951811431, 2.7819682895477706, 1.9029...        2.820237   \n",
       "4   [2.5974013702195835, 2.313705951811431, 2.7819...        3.048277   \n",
       "5   [2.49280830352852, 2.5974013702195835, 2.31370...        2.735174   \n",
       "6   [2.508257913809775, 2.49280830352852, 2.597401...        2.722565   \n",
       "7   [1.0307792424628799, 2.508257913809775, 2.4928...        2.102817   \n",
       "8   [1.7823706306011773, 1.0307792424628799, 2.508...        2.872372   \n",
       "9   [1.3696967277322236, 1.7823706306011773, 1.030...        2.275922   \n",
       "10  [1.6434851785593645, 1.3696967277322236, 1.782...        2.455608   \n",
       "11  [1.4566374779495859, 1.6434851785593645, 1.369...        2.218808   \n",
       "12  [1.5310646641441887, 1.4566374779495859, 1.643...        2.254170   \n",
       "13  [1.4910261365423105, 1.5310646641441887, 1.456...        2.162110   \n",
       "14  [4.494985733006412, 1.4910261365423105, 1.5310...        2.996005   \n",
       "15  [2.966118769218902, 4.494985733006412, 1.49102...        1.969195   \n",
       "16  [3.7821933607458567, 2.966118769218902, 4.4949...        3.258752   \n",
       "17  [3.3377435891980602, 3.7821933607458567, 2.966...        2.925057   \n",
       "18  [3.6087164813483996, 3.3377435891980602, 3.782...        3.569881   \n",
       "19  [3.472672079435894, 3.6087164813483996, 3.3377...        3.355035   \n",
       "20  [3.52711635405789, 3.472672079435894, 3.608716...        3.545206   \n",
       "\n",
       "       Error      T  \n",
       "0   0.901967   0.75  \n",
       "1  -0.304826   1.50  \n",
       "2  -1.364617   2.25  \n",
       "3  -0.506531   3.00  \n",
       "4  -0.450876   3.75  \n",
       "5  -0.242366   4.50  \n",
       "6  -0.214307   5.25  \n",
       "7  -1.072037   6.00  \n",
       "8  -1.090001   6.75  \n",
       "9  -0.906225   7.50  \n",
       "10 -0.812123   8.25  \n",
       "11 -0.762171   9.00  \n",
       "12 -0.723105   9.75  \n",
       "13 -0.671083  10.50  \n",
       "14  1.498980  11.25  \n",
       "15  0.996924  12.00  \n",
       "16  0.523441  12.75  \n",
       "17  0.412687  13.50  \n",
       "18  0.038836  14.25  \n",
       "19  0.117637  15.00  \n",
       "20 -0.018089  15.75  "
      ]
     },
     "execution_count": 46,
     "metadata": {},
     "output_type": "execute_result"
    }
   ],
   "source": [
    "#itr,input,output,error\n",
    "data_10= {'Noise_values':random_vals_t4,'Network_output':values4,'Error':e4,'T':t_array5}\n",
    "vis3= pd.DataFrame(data_10)\n",
    "vis3"
   ]
  },
  {
   "cell_type": "markdown",
   "metadata": {},
   "source": [
    "# Perceptron model with different learning rates"
   ]
  },
  {
   "cell_type": "markdown",
   "metadata": {},
   "source": [
    "## Example 1"
   ]
  },
  {
   "cell_type": "code",
   "execution_count": 47,
   "metadata": {},
   "outputs": [
    {
     "name": "stdout",
     "output_type": "stream",
     "text": [
      ">epoch=0, lrate=0.007, error=-0.028\n",
      ">epoch=1, lrate=0.007, error=-0.028\n",
      ">epoch=2, lrate=0.007, error=-0.028\n",
      ">epoch=3, lrate=0.007, error=-0.028\n",
      ">epoch=4, lrate=0.007, error=-0.028\n"
     ]
    }
   ],
   "source": [
    "random_vals1 = []\n",
    "random_vals1 = box_muller(x_save2,std_dev,_mean)\n",
    "values1,e1 = train_weights(random_vals1, 0.006531,5)"
   ]
  },
  {
   "cell_type": "code",
   "execution_count": 49,
   "metadata": {},
   "outputs": [
    {
     "data": {
      "image/png": "[encoded data removed]",
      "text/plain": [
       "<Figure size 432x288 with 1 Axes>"
      ]
     },
     "metadata": {
      "needs_background": "light"
     },
     "output_type": "display_data"
    }
   ],
   "source": [
    "y_axis = values1 #network output\n",
    "y = random_vals1\n",
    "x_axis = x = t_save2\n",
    "plt.plot(x,y,\"y\") #actual\n",
    "plt.plot(x_axis,y_axis,\"b\")#noise\n",
    "plt.show()"
   ]
  },
  {
   "cell_type": "code",
   "execution_count": 50,
   "metadata": {},
   "outputs": [
    {
     "data": {
      "image/png": "[encoded data removed]",
      "text/plain": [
       "<Figure size 432x288 with 1 Axes>"
      ]
     },
     "metadata": {
      "needs_background": "light"
     },
     "output_type": "display_data"
    }
   ],
   "source": [
    "y_axis = values2 #network output\n",
    "y = random_vals2 # x noise\n",
    "x_axis = x = t_save2\n",
    "plt.plot(x,y,\"y\") #actual\n",
    "plt.plot(x_axis,y_axis,\"b\")#noise\n",
    "plt.show()"
   ]
  },
  {
   "cell_type": "markdown",
   "metadata": {},
   "source": [
    "## Example 2"
   ]
  },
  {
   "cell_type": "code",
   "execution_count": 37,
   "metadata": {},
   "outputs": [
    {
     "name": "stdout",
     "output_type": "stream",
     "text": [
      ">epoch=0, lrate=0.065, error=1.989\n",
      ">epoch=1, lrate=0.065, error=1.989\n",
      ">epoch=2, lrate=0.065, error=1.989\n",
      ">epoch=3, lrate=0.065, error=1.989\n",
      ">epoch=4, lrate=0.065, error=1.989\n"
     ]
    }
   ],
   "source": [
    "random_vals1 = []\n",
    "random_vals1 = box_muller(x_array2,std_dev,_mean)\n",
    "values1,e1 = train_weights(random_vals1, 0.06531,5)"
   ]
  },
  {
   "cell_type": "code",
   "execution_count": 38,
   "metadata": {},
   "outputs": [
    {
     "data": {
      "image/png": "[encoded data removed]",
      "text/plain": [
       "<Figure size 432x288 with 1 Axes>"
      ]
     },
     "metadata": {
      "needs_background": "light"
     },
     "output_type": "display_data"
    }
   ],
   "source": [
    "y_axis = values1 #network output\n",
    "y = random_vals1\n",
    "x_axis = x = t_array2\n",
    "plt.plot(x,y,\"y\") #x_noise values\n",
    "plt.plot(x_axis,y_axis,\"b\")#percebtron(blue)\n",
    "plt.show()"
   ]
  },
  {
   "cell_type": "code",
   "execution_count": null,
   "metadata": {},
   "outputs": [],
   "source": []
  },
  {
   "cell_type": "markdown",
   "metadata": {},
   "source": [
    "## Example 3"
   ]
  },
  {
   "cell_type": "code",
   "execution_count": 39,
   "metadata": {},
   "outputs": [
    {
     "name": "stdout",
     "output_type": "stream",
     "text": [
      ">epoch=0, lrate=0.653, error=2.333\n",
      ">epoch=1, lrate=0.653, error=2.333\n",
      ">epoch=2, lrate=0.653, error=2.333\n",
      ">epoch=3, lrate=0.653, error=2.333\n",
      ">epoch=4, lrate=0.653, error=2.333\n"
     ]
    }
   ],
   "source": [
    "random_vals8 = []\n",
    "random_vals8 = box_muller(x_array2,std_dev,_mean)\n",
    "values8,e8 = train_weights(random_vals8, 0.6531,5)"
   ]
  },
  {
   "cell_type": "code",
   "execution_count": 40,
   "metadata": {},
   "outputs": [
    {
     "data": {
      "image/png": "[encoded data removed]",
      "text/plain": [
       "<Figure size 432x288 with 1 Axes>"
      ]
     },
     "metadata": {
      "needs_background": "light"
     },
     "output_type": "display_data"
    }
   ],
   "source": [
    "y_axis = values8 #network output\n",
    "y = random_vals8\n",
    "x_axis = x = t_array2\n",
    "plt.plot(x,y,\"y\") #x_noise values\n",
    "plt.plot(x_axis,y_axis,\"b\")#percebtron(blue)\n",
    "plt.show()"
   ]
  },
  {
   "cell_type": "code",
   "execution_count": 41,
   "metadata": {},
   "outputs": [
    {
     "data": {
      "text/html": [
       "<div>\n",
       "<style scoped>\n",
       "    .dataframe tbody tr th:only-of-type {\n",
       "        vertical-align: middle;\n",
       "    }\n",
       "\n",
       "    .dataframe tbody tr th {\n",
       "        vertical-align: top;\n",
       "    }\n",
       "\n",
       "    .dataframe thead th {\n",
       "        text-align: right;\n",
       "    }\n",
       "</style>\n",
       "<table border=\"1\" class=\"dataframe\">\n",
       "  <thead>\n",
       "    <tr style=\"text-align: right;\">\n",
       "      <th></th>\n",
       "      <th>Noise_values</th>\n",
       "      <th>Network_output</th>\n",
       "      <th>Error</th>\n",
       "      <th>T</th>\n",
       "    </tr>\n",
       "  </thead>\n",
       "  <tbody>\n",
       "    <tr>\n",
       "      <th>0</th>\n",
       "      <td>0.544102</td>\n",
       "      <td>1.0</td>\n",
       "      <td>-0.455898</td>\n",
       "      <td>0.01</td>\n",
       "    </tr>\n",
       "    <tr>\n",
       "      <th>1</th>\n",
       "      <td>0.561030</td>\n",
       "      <td>1.0</td>\n",
       "      <td>-0.438970</td>\n",
       "      <td>0.02</td>\n",
       "    </tr>\n",
       "    <tr>\n",
       "      <th>2</th>\n",
       "      <td>0.591235</td>\n",
       "      <td>1.0</td>\n",
       "      <td>-0.408765</td>\n",
       "      <td>0.03</td>\n",
       "    </tr>\n",
       "    <tr>\n",
       "      <th>3</th>\n",
       "      <td>0.617401</td>\n",
       "      <td>1.0</td>\n",
       "      <td>-0.382599</td>\n",
       "      <td>0.04</td>\n",
       "    </tr>\n",
       "    <tr>\n",
       "      <th>4</th>\n",
       "      <td>0.673789</td>\n",
       "      <td>1.0</td>\n",
       "      <td>-0.326211</td>\n",
       "      <td>0.05</td>\n",
       "    </tr>\n",
       "    <tr>\n",
       "      <th>...</th>\n",
       "      <td>...</td>\n",
       "      <td>...</td>\n",
       "      <td>...</td>\n",
       "      <td>...</td>\n",
       "    </tr>\n",
       "    <tr>\n",
       "      <th>1496</th>\n",
       "      <td>3.552855</td>\n",
       "      <td>1.0</td>\n",
       "      <td>2.552855</td>\n",
       "      <td>14.97</td>\n",
       "    </tr>\n",
       "    <tr>\n",
       "      <th>1497</th>\n",
       "      <td>3.467910</td>\n",
       "      <td>1.0</td>\n",
       "      <td>2.467910</td>\n",
       "      <td>14.98</td>\n",
       "    </tr>\n",
       "    <tr>\n",
       "      <th>1498</th>\n",
       "      <td>3.412719</td>\n",
       "      <td>1.0</td>\n",
       "      <td>2.412719</td>\n",
       "      <td>14.99</td>\n",
       "    </tr>\n",
       "    <tr>\n",
       "      <th>1499</th>\n",
       "      <td>3.477536</td>\n",
       "      <td>1.0</td>\n",
       "      <td>2.477536</td>\n",
       "      <td>15.00</td>\n",
       "    </tr>\n",
       "    <tr>\n",
       "      <th>1500</th>\n",
       "      <td>3.333459</td>\n",
       "      <td>1.0</td>\n",
       "      <td>2.333459</td>\n",
       "      <td>15.01</td>\n",
       "    </tr>\n",
       "  </tbody>\n",
       "</table>\n",
       "<p>1501 rows × 4 columns</p>\n",
       "</div>"
      ],
      "text/plain": [
       "      Noise_values  Network_output     Error      T\n",
       "0         0.544102             1.0 -0.455898   0.01\n",
       "1         0.561030             1.0 -0.438970   0.02\n",
       "2         0.591235             1.0 -0.408765   0.03\n",
       "3         0.617401             1.0 -0.382599   0.04\n",
       "4         0.673789             1.0 -0.326211   0.05\n",
       "...            ...             ...       ...    ...\n",
       "1496      3.552855             1.0  2.552855  14.97\n",
       "1497      3.467910             1.0  2.467910  14.98\n",
       "1498      3.412719             1.0  2.412719  14.99\n",
       "1499      3.477536             1.0  2.477536  15.00\n",
       "1500      3.333459             1.0  2.333459  15.01\n",
       "\n",
       "[1501 rows x 4 columns]"
      ]
     },
     "execution_count": 41,
     "metadata": {},
     "output_type": "execute_result"
    }
   ],
   "source": [
    "data_11= {'Noise_values':random_vals8,'Network_output':values8,'Error':e8,'T':t_array2}\n",
    "vis8= pd.DataFrame(data_11)\n",
    "vis8"
   ]
  },
  {
   "cell_type": "code",
   "execution_count": 42,
   "metadata": {},
   "outputs": [
    {
     "ename": "NameError",
     "evalue": "name 'df' is not defined",
     "output_type": "error",
     "traceback": [
      "\u001b[1;31m---------------------------------------------------------------------------\u001b[0m",
      "\u001b[1;31mNameError\u001b[0m                                 Traceback (most recent call last)",
      "\u001b[1;32m<ipython-input-42-d0fed2326857>\u001b[0m in \u001b[0;36m<module>\u001b[1;34m\u001b[0m\n\u001b[1;32m----> 1\u001b[1;33m \u001b[0mdf\u001b[0m\u001b[1;33m.\u001b[0m\u001b[0mto_csv\u001b[0m\u001b[1;33m(\u001b[0m\u001b[1;34mr'Path where you want to store the exported CSV file\\File Name.csv'\u001b[0m\u001b[1;33m,\u001b[0m \u001b[0mindex\u001b[0m \u001b[1;33m=\u001b[0m \u001b[1;32mFalse\u001b[0m\u001b[1;33m)\u001b[0m\u001b[1;33m\u001b[0m\u001b[1;33m\u001b[0m\u001b[0m\n\u001b[0m",
      "\u001b[1;31mNameError\u001b[0m: name 'df' is not defined"
     ]
    }
   ],
   "source": [
    "df.to_csv(r'Path where you want to store the exported CSV file\\File Name.csv', index = False)"
   ]
  },
  {
   "cell_type": "code",
   "execution_count": 51,
   "metadata": {},
   "outputs": [
    {
     "name": "stdout",
     "output_type": "stream",
     "text": [
      ">epoch=0, lrate=0.011, error=0.000\n",
      ">epoch=1, lrate=0.011, error=0.000\n",
      ">epoch=2, lrate=0.011, error=0.000\n",
      ">epoch=3, lrate=0.011, error=0.000\n",
      ">epoch=4, lrate=0.011, error=0.000\n"
     ]
    }
   ],
   "source": [
    "random_vals3 = []\n",
    "random_vals3 = box_muller(x_array4,std_dev,_mean)\n",
    "random_vals_t3 = []\n",
    "random_vals_t3 = triple_converter(x_array2)\n",
    "values3,e3 = train_weights3(random_vals_t3, 0.011,5)"
   ]
  },
  {
   "cell_type": "code",
   "execution_count": 52,
   "metadata": {},
   "outputs": [
    {
     "data": {
      "image/png": "[encoded data removed]",
      "text/plain": [
       "<Figure size 432x288 with 1 Axes>"
      ]
     },
     "metadata": {
      "needs_background": "light"
     },
     "output_type": "display_data"
    }
   ],
   "source": [
    "y_axis = values3 #network output\n",
    "y = x_array2\n",
    "x_axis = x = t_array2\n",
    "plt.plot(x,y,\"y\") #x_noise values\n",
    "plt.plot(x_axis,y_axis,\"b\")#percebtron(blue)\n",
    "plt.show()"
   ]
  },
  {
   "cell_type": "code",
   "execution_count": null,
   "metadata": {},
   "outputs": [],
   "source": []
  },
  {
   "cell_type": "code",
   "execution_count": 56,
   "metadata": {},
   "outputs": [
    {
     "name": "stdout",
     "output_type": "stream",
     "text": [
      ">epoch=0, lrate=0.011, error=0.000\n",
      ">epoch=1, lrate=0.011, error=0.000\n",
      ">epoch=2, lrate=0.011, error=0.000\n",
      ">epoch=3, lrate=0.011, error=0.000\n",
      ">epoch=4, lrate=0.011, error=0.000\n"
     ]
    }
   ],
   "source": [
    "random_vals3 = []\n",
    "random_vals3 = box_muller(x_array4,std_dev,_mean)\n",
    "random_vals_t3 = []\n",
    "random_vals_t3 = triple_converter(x_array2)\n",
    "values3,e3 = train_weights(x_array2, 0.011,5)"
   ]
  },
  {
   "cell_type": "code",
   "execution_count": 57,
   "metadata": {
    "scrolled": false
   },
   "outputs": [
    {
     "data": {
      "image/png": "[encoded data removed]",
      "text/plain": [
       "<Figure size 432x288 with 1 Axes>"
      ]
     },
     "metadata": {
      "needs_background": "light"
     },
     "output_type": "display_data"
    }
   ],
   "source": [
    "y_axis = values3 #network output\n",
    "y = x_array2\n",
    "x_axis = x = t_array2\n",
    "plt.plot(x,y,\"y\") #x_noise values\n",
    "plt.plot(x_axis,y_axis,\"b\")#percebtron(blue)\n",
    "plt.show()"
   ]
  },
  {
   "cell_type": "code",
   "execution_count": 55,
   "metadata": {},
   "outputs": [
    {
     "data": {
      "text/plain": [
       "31"
      ]
     },
     "execution_count": 55,
     "metadata": {},
     "output_type": "execute_result"
    }
   ],
   "source": [
    "len(values3)"
   ]
  },
  {
   "cell_type": "code",
   "execution_count": null,
   "metadata": {},
   "outputs": [],
   "source": []
  },
  {
   "cell_type": "code",
   "execution_count": null,
   "metadata": {},
   "outputs": [],
   "source": []
  },
  {
   "cell_type": "code",
   "execution_count": null,
   "metadata": {},
   "outputs": [],
   "source": []
  },
  {
   "cell_type": "code",
   "execution_count": null,
   "metadata": {},
   "outputs": [],
   "source": []
  }
 ],
 "metadata": {
  "kernelspec": {
   "display_name": "Python 3",
   "language": "python",
   "name": "python3"
  },
  "language_info": {
   "codemirror_mode": {
    "name": "ipython",
    "version": 3
   },
   "file_extension": ".py",
   "mimetype": "text/x-python",
   "name": "python",
   "nbconvert_exporter": "python",
   "pygments_lexer": "ipython3",
   "version": "3.7.3"
  }
 },
 "nbformat": 4,
 "nbformat_minor": 2
}
