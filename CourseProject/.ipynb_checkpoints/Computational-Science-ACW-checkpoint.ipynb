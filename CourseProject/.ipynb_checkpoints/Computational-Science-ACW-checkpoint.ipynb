{
 "cells": [
  {
   "cell_type": "markdown",
   "metadata": {},
   "source": [
    "# Part 1: Simulating the robot"
   ]
  },
  {
   "cell_type": "code",
   "execution_count": 1,
   "metadata": {},
   "outputs": [],
   "source": [
    "import numpy as np\n",
    "import random as rand\n",
    "import numpy as np\n",
    "import matplotlib.pyplot as plt\n",
    "import math\n",
    "import csv\n",
    "from scipy.stats import norm\n",
    "import seaborn as sns\n",
    "import pandas as pd\n",
    "from sklearn import preprocessing\n",
    "\n",
    "def func(U,x):\n",
    "    #-2x+2U\n",
    "    val = -(2*x) + 2*U\n",
    "    return val\n",
    "def simulation(x,t,h):\n",
    "    save = 0\n",
    "    U_save = []\n",
    "    t_save = []\n",
    "    x_save = []\n",
    "    x_exact_save = []\n",
    "\n",
    "    U_array = []\n",
    "    t_array = []\n",
    "    x_array = []\n",
    "    x_exact_array = []\n",
    "    while(t <= 15):\n",
    "        if(t <= 5):\n",
    "            U = 2\n",
    "        elif(t < 5 or t <= 10):\n",
    "            U = 1\n",
    "        elif(t < 10 or t <=15):\n",
    "            U = 3\n",
    "        #print(\"U value:\", x)\n",
    "        U_array.append(U)\n",
    "        k = h * func(U,x)\n",
    "        x = x + k\n",
    "        t = t + h\n",
    "        #value under graph\n",
    "        x_exact = U - math.exp(-2*t)\n",
    "        t_array.append(t)\n",
    "        x_array.append(x)\n",
    "        x_exact_array.append(x_exact)\n",
    "        save+=1\n",
    "        #save every 10th integral if h<=0.01\n",
    "        if(save%10 == 0 and h <= 0.01):\n",
    "            U_save.append(U)\n",
    "            t_save.append(t)\n",
    "            x_save.append(x)\n",
    "            x_exact_save.append(x_exact)\n",
    "            #print(\"save1: \",save)\n",
    "        #print(\"Where it is: \",x,\"Exact pos= \",x_exact,\"Time: \",t)\n",
    "    return U_save,t_save,x_save,x_exact_save,U_array,t_array,x_array,x_exact_array "
   ]
  },
  {
   "cell_type": "markdown",
   "metadata": {},
   "source": [
    "The following step sizes were provided to measure against: 0.75, .5, 0.25, 0.01, 0.001\n"
   ]
  },
  {
   "cell_type": "markdown",
   "metadata": {},
   "source": [
    "## Step size 0.001"
   ]
  },
  {
   "cell_type": "code",
   "execution_count": 2,
   "metadata": {},
   "outputs": [],
   "source": [
    "U_save1 = []\n",
    "t_save1 = []\n",
    "x_save1 = []\n",
    "x_exact_save1 = []\n",
    "\n",
    "\n",
    "##saves every time\n",
    "U_array1 = []\n",
    "t_array1 = []\n",
    "x_array1 = []\n",
    "x_exact_array1 = []\n",
    "\n",
    "#step size \n",
    "U_save1,t_save1,x_save1,x_exact_save1,U_array1,t_array1,x_array1,x_exact_array1=simulation(0,0,0.001)\n",
    "\n",
    "#0.35 for bell curve"
   ]
  },
  {
   "cell_type": "markdown",
   "metadata": {},
   "source": [
    "## Step size 0.01"
   ]
  },
  {
   "cell_type": "code",
   "execution_count": 3,
   "metadata": {},
   "outputs": [],
   "source": [
    "U_save2 = []\n",
    "t_save2 = []\n",
    "x_save2 = []\n",
    "x_exact_save2 = []\n",
    "\n",
    "\n",
    "##saves every time\n",
    "U_array2 = []\n",
    "t_array2 = []\n",
    "x_array2 = []\n",
    "x_exact_array2 = []\n",
    "\n",
    "#step size \n",
    "U_save2,t_save2,x_save2,x_exact_save2,U_array2,t_array2,x_array2,x_exact_array2=simulation(0,0,0.01)\n",
    "\n",
    "#0.35 for bell curve"
   ]
  },
  {
   "cell_type": "markdown",
   "metadata": {},
   "source": [
    "## Step size 0.25"
   ]
  },
  {
   "cell_type": "code",
   "execution_count": 4,
   "metadata": {},
   "outputs": [],
   "source": [
    "U_save3 = []\n",
    "t_save3 = []\n",
    "x_save3 = []\n",
    "x_exact_save3 = []\n",
    "\n",
    "\n",
    "##saves every time\n",
    "U_array3 = []\n",
    "t_array3 = []\n",
    "x_array3 = []\n",
    "x_exact_array3 = []\n",
    "\n",
    "#step size \n",
    "U_save3,t_save3,x_save3,x_exact_save3,U_array3,t_array3,x_array3,x_exact_array3=simulation(0,0,0.25)"
   ]
  },
  {
   "cell_type": "markdown",
   "metadata": {},
   "source": [
    "## Step size 0.5"
   ]
  },
  {
   "cell_type": "code",
   "execution_count": 5,
   "metadata": {},
   "outputs": [],
   "source": [
    "U_save4 = []\n",
    "t_save4 = []\n",
    "x_save4 = []\n",
    "x_exact_save4 = []\n",
    "\n",
    "\n",
    "##saves every time\n",
    "U_array4 = []\n",
    "t_array4 = []\n",
    "x_array4 = []\n",
    "x_exact_array4 = []\n",
    "\n",
    "#step size \n",
    "U_save4,t_save4,x_save4,x_exact_save4,U_array4,t_array4,x_array4,x_exact_array4=simulation(0,0,0.5)"
   ]
  },
  {
   "cell_type": "markdown",
   "metadata": {},
   "source": [
    "## Step size 0.75"
   ]
  },
  {
   "cell_type": "code",
   "execution_count": 6,
   "metadata": {},
   "outputs": [],
   "source": [
    "U_save5 = []\n",
    "t_save5 = []\n",
    "x_save5 = []\n",
    "x_exact_save5 = []\n",
    "\n",
    "\n",
    "##saves every time\n",
    "U_array5 = []\n",
    "t_array5 = []\n",
    "x_array5 = []\n",
    "x_exact_array5 = []\n",
    "\n",
    "#step size \n",
    "U_save5,t_save5,x_save5,x_exact_save5,U_array5,t_array5,x_array5,x_exact_array5=simulation(0,0,0.75)"
   ]
  },
  {
   "cell_type": "markdown",
   "metadata": {},
   "source": [
    "## Step Size 1"
   ]
  },
  {
   "cell_type": "code",
   "execution_count": 7,
   "metadata": {},
   "outputs": [],
   "source": [
    "U_save6 = []\n",
    "t_save6 = []\n",
    "x_save6 = []\n",
    "x_exact_save6 = []\n",
    "\n",
    "\n",
    "##saves every time\n",
    "U_array6 = []\n",
    "t_array6 = []\n",
    "x_array6 = []\n",
    "x_exact_array6 = []\n",
    "\n",
    "#step size \n",
    "U_save6,t_save6,x_save6,x_exact_save6,U_array6,t_array6,x_array6,x_exact_array6=simulation(0,0,1)"
   ]
  },
  {
   "cell_type": "markdown",
   "metadata": {},
   "source": [
    "## Saving values into a dataframe and plotting it "
   ]
  },
  {
   "cell_type": "code",
   "execution_count": 8,
   "metadata": {},
   "outputs": [],
   "source": [
    "data1 = {'X':x_array1,'T':t_array1}\n",
    "df1 = pd.DataFrame(data1)\n",
    "data2 = {'X':x_array2,'T':t_array2}\n",
    "df2= pd.DataFrame(data2)\n",
    "data3 = {'X':x_array3,'T':t_array3}\n",
    "df3= pd.DataFrame(data3)\n",
    "data4= {'X':x_array4,'T':t_array4}\n",
    "df4= pd.DataFrame(data4)\n",
    "data5= {'X':x_array5,'T':t_array5}\n",
    "df5= pd.DataFrame(data5)\n",
    "data6= {'X':x_array6,'T':t_array6}\n",
    "df6= pd.DataFrame(data6)"
   ]
  },
  {
   "cell_type": "code",
   "execution_count": 9,
   "metadata": {},
   "outputs": [
    {
     "data": {
      "image/png": "[encoded data removed]",
      "text/plain": [
       "<Figure size 432x288 with 1 Axes>"
      ]
     },
     "metadata": {
      "needs_background": "light"
     },
     "output_type": "display_data"
    }
   ],
   "source": [
    "plt3 = sns.lineplot(x=\"T\", y=\"X\", data=df1) #blue\n",
    "plt4 = sns.lineplot(x=\"T\", y=\"X\", data=df2) #Orange\n",
    "plt5 = sns.lineplot(x=\"T\", y=\"X\", data=df3) #Green\n",
    "plt6 = sns.lineplot(x=\"T\", y=\"X\", data=df4) #Red\n",
    "plt7 = sns.lineplot(x=\"T\", y=\"X\", data=df5) #Purple\n",
    "plt8 = sns.lineplot(x=\"T\", y=\"X\", data=df6) #Purple"
   ]
  },
  {
   "cell_type": "markdown",
   "metadata": {},
   "source": [
    "## Error evaluation against step size"
   ]
  },
  {
   "cell_type": "code",
   "execution_count": 10,
   "metadata": {},
   "outputs": [
    {
     "data": {
      "text/html": [
       "<div>\n",
       "<style scoped>\n",
       "    .dataframe tbody tr th:only-of-type {\n",
       "        vertical-align: middle;\n",
       "    }\n",
       "\n",
       "    .dataframe tbody tr th {\n",
       "        vertical-align: top;\n",
       "    }\n",
       "\n",
       "    .dataframe thead th {\n",
       "        text-align: right;\n",
       "    }\n",
       "</style>\n",
       "<table border=\"1\" class=\"dataframe\">\n",
       "  <thead>\n",
       "    <tr style=\"text-align: right;\">\n",
       "      <th></th>\n",
       "      <th>H = 0.001</th>\n",
       "      <th>Time(H = 0.001)</th>\n",
       "      <th>H(Exact)0.001</th>\n",
       "      <th>H = 0.01</th>\n",
       "      <th>Time(H = 0.01)</th>\n",
       "      <th>H(Exact)0.01</th>\n",
       "      <th>H = 0.25</th>\n",
       "      <th>Time(H = 0.25)</th>\n",
       "      <th>H(Exact)0.25</th>\n",
       "      <th>H = 0.5</th>\n",
       "      <th>Time(H = 0.5)</th>\n",
       "      <th>H(Exact)0.5</th>\n",
       "      <th>H = 0.75</th>\n",
       "      <th>Time(H = 0.75)</th>\n",
       "      <th>H(Exact)0.75</th>\n",
       "      <th>H = 1</th>\n",
       "      <th>Time(H = 1)</th>\n",
       "      <th>H(Exact)0.75</th>\n",
       "    </tr>\n",
       "  </thead>\n",
       "  <tbody>\n",
       "    <tr>\n",
       "      <th>0</th>\n",
       "      <td>0.039642</td>\n",
       "      <td>0.01</td>\n",
       "      <td>1.019801</td>\n",
       "      <td>0.365854</td>\n",
       "      <td>0.1</td>\n",
       "      <td>1.181269</td>\n",
       "      <td>1.0000</td>\n",
       "      <td>0.25</td>\n",
       "      <td>1.393469</td>\n",
       "      <td>2.0</td>\n",
       "      <td>0.5</td>\n",
       "      <td>1.632121</td>\n",
       "      <td>3.0000</td>\n",
       "      <td>0.75</td>\n",
       "      <td>1.776870</td>\n",
       "      <td>4.0</td>\n",
       "      <td>1.0</td>\n",
       "      <td>1.864665</td>\n",
       "    </tr>\n",
       "    <tr>\n",
       "      <th>1</th>\n",
       "      <td>0.078498</td>\n",
       "      <td>0.02</td>\n",
       "      <td>1.039211</td>\n",
       "      <td>0.664784</td>\n",
       "      <td>0.2</td>\n",
       "      <td>1.329680</td>\n",
       "      <td>1.5000</td>\n",
       "      <td>0.50</td>\n",
       "      <td>1.632121</td>\n",
       "      <td>2.0</td>\n",
       "      <td>1.0</td>\n",
       "      <td>1.864665</td>\n",
       "      <td>1.5000</td>\n",
       "      <td>1.50</td>\n",
       "      <td>1.950213</td>\n",
       "      <td>0.0</td>\n",
       "      <td>2.0</td>\n",
       "      <td>1.981684</td>\n",
       "    </tr>\n",
       "    <tr>\n",
       "      <th>2</th>\n",
       "      <td>0.116584</td>\n",
       "      <td>0.03</td>\n",
       "      <td>1.058235</td>\n",
       "      <td>0.909031</td>\n",
       "      <td>0.3</td>\n",
       "      <td>1.451188</td>\n",
       "      <td>1.7500</td>\n",
       "      <td>0.75</td>\n",
       "      <td>1.776870</td>\n",
       "      <td>2.0</td>\n",
       "      <td>1.5</td>\n",
       "      <td>1.950213</td>\n",
       "      <td>2.2500</td>\n",
       "      <td>2.25</td>\n",
       "      <td>1.988891</td>\n",
       "      <td>4.0</td>\n",
       "      <td>3.0</td>\n",
       "      <td>1.997521</td>\n",
       "    </tr>\n",
       "    <tr>\n",
       "      <th>3</th>\n",
       "      <td>0.153915</td>\n",
       "      <td>0.04</td>\n",
       "      <td>1.076884</td>\n",
       "      <td>1.108599</td>\n",
       "      <td>0.4</td>\n",
       "      <td>1.550671</td>\n",
       "      <td>1.8750</td>\n",
       "      <td>1.00</td>\n",
       "      <td>1.864665</td>\n",
       "      <td>2.0</td>\n",
       "      <td>2.0</td>\n",
       "      <td>1.981684</td>\n",
       "      <td>1.8750</td>\n",
       "      <td>3.00</td>\n",
       "      <td>1.997521</td>\n",
       "      <td>0.0</td>\n",
       "      <td>4.0</td>\n",
       "      <td>1.999665</td>\n",
       "    </tr>\n",
       "    <tr>\n",
       "      <th>4</th>\n",
       "      <td>0.190506</td>\n",
       "      <td>0.05</td>\n",
       "      <td>1.095163</td>\n",
       "      <td>1.271661</td>\n",
       "      <td>0.5</td>\n",
       "      <td>1.632121</td>\n",
       "      <td>1.9375</td>\n",
       "      <td>1.25</td>\n",
       "      <td>1.917915</td>\n",
       "      <td>2.0</td>\n",
       "      <td>2.5</td>\n",
       "      <td>1.993262</td>\n",
       "      <td>2.0625</td>\n",
       "      <td>3.75</td>\n",
       "      <td>1.999447</td>\n",
       "      <td>4.0</td>\n",
       "      <td>5.0</td>\n",
       "      <td>1.999955</td>\n",
       "    </tr>\n",
       "    <tr>\n",
       "      <th>...</th>\n",
       "      <td>...</td>\n",
       "      <td>...</td>\n",
       "      <td>...</td>\n",
       "      <td>...</td>\n",
       "      <td>...</td>\n",
       "      <td>...</td>\n",
       "      <td>...</td>\n",
       "      <td>...</td>\n",
       "      <td>...</td>\n",
       "      <td>...</td>\n",
       "      <td>...</td>\n",
       "      <td>...</td>\n",
       "      <td>...</td>\n",
       "      <td>...</td>\n",
       "      <td>...</td>\n",
       "      <td>...</td>\n",
       "      <td>...</td>\n",
       "      <td>...</td>\n",
       "    </tr>\n",
       "    <tr>\n",
       "      <th>1495</th>\n",
       "      <td>2.999902</td>\n",
       "      <td>14.96</td>\n",
       "      <td>3.000000</td>\n",
       "      <td>NaN</td>\n",
       "      <td>NaN</td>\n",
       "      <td>NaN</td>\n",
       "      <td>NaN</td>\n",
       "      <td>NaN</td>\n",
       "      <td>NaN</td>\n",
       "      <td>NaN</td>\n",
       "      <td>NaN</td>\n",
       "      <td>NaN</td>\n",
       "      <td>NaN</td>\n",
       "      <td>NaN</td>\n",
       "      <td>NaN</td>\n",
       "      <td>NaN</td>\n",
       "      <td>NaN</td>\n",
       "      <td>NaN</td>\n",
       "    </tr>\n",
       "    <tr>\n",
       "      <th>1496</th>\n",
       "      <td>2.999904</td>\n",
       "      <td>14.97</td>\n",
       "      <td>3.000000</td>\n",
       "      <td>NaN</td>\n",
       "      <td>NaN</td>\n",
       "      <td>NaN</td>\n",
       "      <td>NaN</td>\n",
       "      <td>NaN</td>\n",
       "      <td>NaN</td>\n",
       "      <td>NaN</td>\n",
       "      <td>NaN</td>\n",
       "      <td>NaN</td>\n",
       "      <td>NaN</td>\n",
       "      <td>NaN</td>\n",
       "      <td>NaN</td>\n",
       "      <td>NaN</td>\n",
       "      <td>NaN</td>\n",
       "      <td>NaN</td>\n",
       "    </tr>\n",
       "    <tr>\n",
       "      <th>1497</th>\n",
       "      <td>2.999906</td>\n",
       "      <td>14.98</td>\n",
       "      <td>3.000000</td>\n",
       "      <td>NaN</td>\n",
       "      <td>NaN</td>\n",
       "      <td>NaN</td>\n",
       "      <td>NaN</td>\n",
       "      <td>NaN</td>\n",
       "      <td>NaN</td>\n",
       "      <td>NaN</td>\n",
       "      <td>NaN</td>\n",
       "      <td>NaN</td>\n",
       "      <td>NaN</td>\n",
       "      <td>NaN</td>\n",
       "      <td>NaN</td>\n",
       "      <td>NaN</td>\n",
       "      <td>NaN</td>\n",
       "      <td>NaN</td>\n",
       "    </tr>\n",
       "    <tr>\n",
       "      <th>1498</th>\n",
       "      <td>2.999908</td>\n",
       "      <td>14.99</td>\n",
       "      <td>3.000000</td>\n",
       "      <td>NaN</td>\n",
       "      <td>NaN</td>\n",
       "      <td>NaN</td>\n",
       "      <td>NaN</td>\n",
       "      <td>NaN</td>\n",
       "      <td>NaN</td>\n",
       "      <td>NaN</td>\n",
       "      <td>NaN</td>\n",
       "      <td>NaN</td>\n",
       "      <td>NaN</td>\n",
       "      <td>NaN</td>\n",
       "      <td>NaN</td>\n",
       "      <td>NaN</td>\n",
       "      <td>NaN</td>\n",
       "      <td>NaN</td>\n",
       "    </tr>\n",
       "    <tr>\n",
       "      <th>1499</th>\n",
       "      <td>2.999910</td>\n",
       "      <td>15.00</td>\n",
       "      <td>3.000000</td>\n",
       "      <td>NaN</td>\n",
       "      <td>NaN</td>\n",
       "      <td>NaN</td>\n",
       "      <td>NaN</td>\n",
       "      <td>NaN</td>\n",
       "      <td>NaN</td>\n",
       "      <td>NaN</td>\n",
       "      <td>NaN</td>\n",
       "      <td>NaN</td>\n",
       "      <td>NaN</td>\n",
       "      <td>NaN</td>\n",
       "      <td>NaN</td>\n",
       "      <td>NaN</td>\n",
       "      <td>NaN</td>\n",
       "      <td>NaN</td>\n",
       "    </tr>\n",
       "  </tbody>\n",
       "</table>\n",
       "<p>1500 rows × 18 columns</p>\n",
       "</div>"
      ],
      "text/plain": [
       "      H = 0.001  Time(H = 0.001)  H(Exact)0.001  H = 0.01  Time(H = 0.01)  \\\n",
       "0      0.039642             0.01       1.019801  0.365854             0.1   \n",
       "1      0.078498             0.02       1.039211  0.664784             0.2   \n",
       "2      0.116584             0.03       1.058235  0.909031             0.3   \n",
       "3      0.153915             0.04       1.076884  1.108599             0.4   \n",
       "4      0.190506             0.05       1.095163  1.271661             0.5   \n",
       "...         ...              ...            ...       ...             ...   \n",
       "1495   2.999902            14.96       3.000000       NaN             NaN   \n",
       "1496   2.999904            14.97       3.000000       NaN             NaN   \n",
       "1497   2.999906            14.98       3.000000       NaN             NaN   \n",
       "1498   2.999908            14.99       3.000000       NaN             NaN   \n",
       "1499   2.999910            15.00       3.000000       NaN             NaN   \n",
       "\n",
       "      H(Exact)0.01  H = 0.25  Time(H = 0.25)  H(Exact)0.25  H = 0.5  \\\n",
       "0         1.181269    1.0000            0.25      1.393469      2.0   \n",
       "1         1.329680    1.5000            0.50      1.632121      2.0   \n",
       "2         1.451188    1.7500            0.75      1.776870      2.0   \n",
       "3         1.550671    1.8750            1.00      1.864665      2.0   \n",
       "4         1.632121    1.9375            1.25      1.917915      2.0   \n",
       "...            ...       ...             ...           ...      ...   \n",
       "1495           NaN       NaN             NaN           NaN      NaN   \n",
       "1496           NaN       NaN             NaN           NaN      NaN   \n",
       "1497           NaN       NaN             NaN           NaN      NaN   \n",
       "1498           NaN       NaN             NaN           NaN      NaN   \n",
       "1499           NaN       NaN             NaN           NaN      NaN   \n",
       "\n",
       "      Time(H = 0.5)  H(Exact)0.5  H = 0.75  Time(H = 0.75)  H(Exact)0.75  \\\n",
       "0               0.5     1.632121    3.0000            0.75      1.776870   \n",
       "1               1.0     1.864665    1.5000            1.50      1.950213   \n",
       "2               1.5     1.950213    2.2500            2.25      1.988891   \n",
       "3               2.0     1.981684    1.8750            3.00      1.997521   \n",
       "4               2.5     1.993262    2.0625            3.75      1.999447   \n",
       "...             ...          ...       ...             ...           ...   \n",
       "1495            NaN          NaN       NaN             NaN           NaN   \n",
       "1496            NaN          NaN       NaN             NaN           NaN   \n",
       "1497            NaN          NaN       NaN             NaN           NaN   \n",
       "1498            NaN          NaN       NaN             NaN           NaN   \n",
       "1499            NaN          NaN       NaN             NaN           NaN   \n",
       "\n",
       "      H = 1  Time(H = 1)  H(Exact)0.75  \n",
       "0       4.0          1.0      1.864665  \n",
       "1       0.0          2.0      1.981684  \n",
       "2       4.0          3.0      1.997521  \n",
       "3       0.0          4.0      1.999665  \n",
       "4       4.0          5.0      1.999955  \n",
       "...     ...          ...           ...  \n",
       "1495    NaN          NaN           NaN  \n",
       "1496    NaN          NaN           NaN  \n",
       "1497    NaN          NaN           NaN  \n",
       "1498    NaN          NaN           NaN  \n",
       "1499    NaN          NaN           NaN  \n",
       "\n",
       "[1500 rows x 18 columns]"
      ]
     },
     "execution_count": 10,
     "metadata": {},
     "output_type": "execute_result"
    }
   ],
   "source": [
    "data2 = {'H = 0.001':x_save1,'Time(H = 0.001)':t_save1}\n",
    "df2= pd.DataFrame(data2)\n",
    "data2_1 = {'H(Exact)0.001':x_exact_save1}\n",
    "df2_1 = pd.DataFrame(data2_1)\n",
    "data3 = {'H = 0.01':x_save2,'Time(H = 0.01)':t_save2}\n",
    "df3= pd.DataFrame(data3)\n",
    "data3_1 = {'H(Exact)0.01':x_exact_save2}\n",
    "df3_1 = pd.DataFrame(data3_1)\n",
    "data4= {'H = 0.25':x_array3,'Time(H = 0.25)':t_array3}\n",
    "df4= pd.DataFrame(data4)\n",
    "data4_1 = {'H(Exact)0.25':x_exact_array3}\n",
    "df4_1 = pd.DataFrame(data4_1)\n",
    "data5= {'H = 0.5':x_array4,'Time(H = 0.5)':t_array4}\n",
    "df5= pd.DataFrame(data5)\n",
    "data5_1 = {'H(Exact)0.5':x_exact_array4}\n",
    "df5_1 = pd.DataFrame(data5_1)\n",
    "data6= {'H = 0.75':x_array5,'Time(H = 0.75)':t_array5}\n",
    "df6= pd.DataFrame(data6)\n",
    "data6_1 = {'H(Exact)0.75':x_exact_array5}\n",
    "df6_1 = pd.DataFrame(data6_1)\n",
    "data7= {'H = 1':x_array6,'Time(H = 1)':t_array6}\n",
    "df7= pd.DataFrame(data7)\n",
    "data7_1 = {'H(Exact)0.75':x_exact_array6}\n",
    "df7_1 = pd.DataFrame(data7_1)\n",
    "frames = [df2,df2_1, df3,df3_1,df4,df4_1,df5,df5_1,df6,df6_1,df7,df7_1]\n",
    "result = pd.concat(frames, axis=1, sort=False)\n",
    "result"
   ]
  },
  {
   "cell_type": "code",
   "execution_count": 11,
   "metadata": {},
   "outputs": [],
   "source": [
    "result.to_csv(\"Step_sizes2.csv\")"
   ]
  },
  {
   "cell_type": "markdown",
   "metadata": {},
   "source": [
    "## Error evaluation for step size"
   ]
  },
  {
   "cell_type": "code",
   "execution_count": 12,
   "metadata": {},
   "outputs": [
    {
     "data": {
      "text/html": [
       "<div>\n",
       "<style scoped>\n",
       "    .dataframe tbody tr th:only-of-type {\n",
       "        vertical-align: middle;\n",
       "    }\n",
       "\n",
       "    .dataframe tbody tr th {\n",
       "        vertical-align: top;\n",
       "    }\n",
       "\n",
       "    .dataframe thead th {\n",
       "        text-align: right;\n",
       "    }\n",
       "</style>\n",
       "<table border=\"1\" class=\"dataframe\">\n",
       "  <thead>\n",
       "    <tr style=\"text-align: right;\">\n",
       "      <th></th>\n",
       "      <th>Unnamed: 0</th>\n",
       "      <th>H = 0.001</th>\n",
       "      <th>Time(H = 0.001)</th>\n",
       "      <th>H(Exact)0.001</th>\n",
       "      <th>H = 0.01</th>\n",
       "      <th>Time(H = 0.01)</th>\n",
       "      <th>H(Exact)0.01</th>\n",
       "      <th>H = 0.25</th>\n",
       "      <th>Time(H = 0.25)</th>\n",
       "      <th>H(Exact)0.25</th>\n",
       "      <th>...</th>\n",
       "      <th>H(Exact)0.75.1</th>\n",
       "      <th>Unnamed: 19</th>\n",
       "      <th>Unnamed: 20</th>\n",
       "      <th>2</th>\n",
       "      <th>4.5</th>\n",
       "      <th>5.5</th>\n",
       "      <th>5.01</th>\n",
       "      <th>Unnamed: 25</th>\n",
       "      <th>4.99</th>\n",
       "      <th>5.1</th>\n",
       "    </tr>\n",
       "  </thead>\n",
       "  <tbody>\n",
       "    <tr>\n",
       "      <th>0</th>\n",
       "      <td>0</td>\n",
       "      <td>0.039642</td>\n",
       "      <td>0.01</td>\n",
       "      <td>1.019801</td>\n",
       "      <td>0.365854</td>\n",
       "      <td>0.1</td>\n",
       "      <td>1.181269</td>\n",
       "      <td>1.0000</td>\n",
       "      <td>0.25</td>\n",
       "      <td>1.393469</td>\n",
       "      <td>...</td>\n",
       "      <td>1.864665</td>\n",
       "      <td>NaN</td>\n",
       "      <td>NaN</td>\n",
       "      <td>THIS ABOVE IS COLUMN NUMBER</td>\n",
       "      <td>condition</td>\n",
       "      <td>condition</td>\n",
       "      <td>NaN</td>\n",
       "      <td>NaN</td>\n",
       "      <td>4.90</td>\n",
       "      <td>5.10</td>\n",
       "    </tr>\n",
       "    <tr>\n",
       "      <th>1</th>\n",
       "      <td>1</td>\n",
       "      <td>0.078498</td>\n",
       "      <td>0.02</td>\n",
       "      <td>1.039211</td>\n",
       "      <td>0.664784</td>\n",
       "      <td>0.2</td>\n",
       "      <td>1.329680</td>\n",
       "      <td>1.5000</td>\n",
       "      <td>0.50</td>\n",
       "      <td>1.632121</td>\n",
       "      <td>...</td>\n",
       "      <td>1.981684</td>\n",
       "      <td>NaN</td>\n",
       "      <td>NaN</td>\n",
       "      <td>NaN</td>\n",
       "      <td>NaN</td>\n",
       "      <td>NaN</td>\n",
       "      <td>NaN</td>\n",
       "      <td>NaN</td>\n",
       "      <td>4.75</td>\n",
       "      <td>5.25</td>\n",
       "    </tr>\n",
       "    <tr>\n",
       "      <th>2</th>\n",
       "      <td>2</td>\n",
       "      <td>0.116584</td>\n",
       "      <td>0.03</td>\n",
       "      <td>1.058235</td>\n",
       "      <td>0.909031</td>\n",
       "      <td>0.3</td>\n",
       "      <td>1.451188</td>\n",
       "      <td>1.7500</td>\n",
       "      <td>0.75</td>\n",
       "      <td>1.776870</td>\n",
       "      <td>...</td>\n",
       "      <td>1.997521</td>\n",
       "      <td>NaN</td>\n",
       "      <td>NaN</td>\n",
       "      <td>STEP VALUE</td>\n",
       "      <td>TIME = 5</td>\n",
       "      <td>EXACT VALUE</td>\n",
       "      <td>ERROR</td>\n",
       "      <td>NaN</td>\n",
       "      <td>NaN</td>\n",
       "      <td>NaN</td>\n",
       "    </tr>\n",
       "    <tr>\n",
       "      <th>3</th>\n",
       "      <td>3</td>\n",
       "      <td>0.153915</td>\n",
       "      <td>0.04</td>\n",
       "      <td>1.076884</td>\n",
       "      <td>1.108599</td>\n",
       "      <td>0.4</td>\n",
       "      <td>1.550671</td>\n",
       "      <td>1.8750</td>\n",
       "      <td>1.00</td>\n",
       "      <td>1.864665</td>\n",
       "      <td>...</td>\n",
       "      <td>1.999665</td>\n",
       "      <td>NaN</td>\n",
       "      <td>Step =0.5</td>\n",
       "      <td>2</td>\n",
       "      <td>5</td>\n",
       "      <td>1.9999546</td>\n",
       "      <td>4.54</td>\n",
       "      <td>NaN</td>\n",
       "      <td>NaN</td>\n",
       "      <td>NaN</td>\n",
       "    </tr>\n",
       "    <tr>\n",
       "      <th>4</th>\n",
       "      <td>4</td>\n",
       "      <td>0.190506</td>\n",
       "      <td>0.05</td>\n",
       "      <td>1.095163</td>\n",
       "      <td>1.271661</td>\n",
       "      <td>0.5</td>\n",
       "      <td>1.632121</td>\n",
       "      <td>1.9375</td>\n",
       "      <td>1.25</td>\n",
       "      <td>1.917915</td>\n",
       "      <td>...</td>\n",
       "      <td>1.999955</td>\n",
       "      <td>NaN</td>\n",
       "      <td>Step =0.75</td>\n",
       "      <td>2.015625</td>\n",
       "      <td>5.25</td>\n",
       "      <td>1.999972464</td>\n",
       "      <td>1565.2536</td>\n",
       "      <td>NaN</td>\n",
       "      <td>NaN</td>\n",
       "      <td>NaN</td>\n",
       "    </tr>\n",
       "    <tr>\n",
       "      <th>...</th>\n",
       "      <td>...</td>\n",
       "      <td>...</td>\n",
       "      <td>...</td>\n",
       "      <td>...</td>\n",
       "      <td>...</td>\n",
       "      <td>...</td>\n",
       "      <td>...</td>\n",
       "      <td>...</td>\n",
       "      <td>...</td>\n",
       "      <td>...</td>\n",
       "      <td>...</td>\n",
       "      <td>...</td>\n",
       "      <td>...</td>\n",
       "      <td>...</td>\n",
       "      <td>...</td>\n",
       "      <td>...</td>\n",
       "      <td>...</td>\n",
       "      <td>...</td>\n",
       "      <td>...</td>\n",
       "      <td>...</td>\n",
       "      <td>...</td>\n",
       "    </tr>\n",
       "    <tr>\n",
       "      <th>1495</th>\n",
       "      <td>1495</td>\n",
       "      <td>2.999902</td>\n",
       "      <td>14.96</td>\n",
       "      <td>3.000000</td>\n",
       "      <td>NaN</td>\n",
       "      <td>NaN</td>\n",
       "      <td>NaN</td>\n",
       "      <td>NaN</td>\n",
       "      <td>NaN</td>\n",
       "      <td>NaN</td>\n",
       "      <td>...</td>\n",
       "      <td>NaN</td>\n",
       "      <td>NaN</td>\n",
       "      <td>NaN</td>\n",
       "      <td>NaN</td>\n",
       "      <td>NaN</td>\n",
       "      <td>NaN</td>\n",
       "      <td>NaN</td>\n",
       "      <td>NaN</td>\n",
       "      <td>NaN</td>\n",
       "      <td>NaN</td>\n",
       "    </tr>\n",
       "    <tr>\n",
       "      <th>1496</th>\n",
       "      <td>1496</td>\n",
       "      <td>2.999904</td>\n",
       "      <td>14.97</td>\n",
       "      <td>3.000000</td>\n",
       "      <td>NaN</td>\n",
       "      <td>NaN</td>\n",
       "      <td>NaN</td>\n",
       "      <td>NaN</td>\n",
       "      <td>NaN</td>\n",
       "      <td>NaN</td>\n",
       "      <td>...</td>\n",
       "      <td>NaN</td>\n",
       "      <td>NaN</td>\n",
       "      <td>NaN</td>\n",
       "      <td>NaN</td>\n",
       "      <td>NaN</td>\n",
       "      <td>NaN</td>\n",
       "      <td>NaN</td>\n",
       "      <td>NaN</td>\n",
       "      <td>NaN</td>\n",
       "      <td>NaN</td>\n",
       "    </tr>\n",
       "    <tr>\n",
       "      <th>1497</th>\n",
       "      <td>1497</td>\n",
       "      <td>2.999906</td>\n",
       "      <td>14.98</td>\n",
       "      <td>3.000000</td>\n",
       "      <td>NaN</td>\n",
       "      <td>NaN</td>\n",
       "      <td>NaN</td>\n",
       "      <td>NaN</td>\n",
       "      <td>NaN</td>\n",
       "      <td>NaN</td>\n",
       "      <td>...</td>\n",
       "      <td>NaN</td>\n",
       "      <td>NaN</td>\n",
       "      <td>NaN</td>\n",
       "      <td>NaN</td>\n",
       "      <td>NaN</td>\n",
       "      <td>NaN</td>\n",
       "      <td>NaN</td>\n",
       "      <td>NaN</td>\n",
       "      <td>NaN</td>\n",
       "      <td>NaN</td>\n",
       "    </tr>\n",
       "    <tr>\n",
       "      <th>1498</th>\n",
       "      <td>1498</td>\n",
       "      <td>2.999908</td>\n",
       "      <td>14.99</td>\n",
       "      <td>3.000000</td>\n",
       "      <td>NaN</td>\n",
       "      <td>NaN</td>\n",
       "      <td>NaN</td>\n",
       "      <td>NaN</td>\n",
       "      <td>NaN</td>\n",
       "      <td>NaN</td>\n",
       "      <td>...</td>\n",
       "      <td>NaN</td>\n",
       "      <td>NaN</td>\n",
       "      <td>NaN</td>\n",
       "      <td>NaN</td>\n",
       "      <td>NaN</td>\n",
       "      <td>NaN</td>\n",
       "      <td>NaN</td>\n",
       "      <td>NaN</td>\n",
       "      <td>NaN</td>\n",
       "      <td>NaN</td>\n",
       "    </tr>\n",
       "    <tr>\n",
       "      <th>1499</th>\n",
       "      <td>1499</td>\n",
       "      <td>2.999910</td>\n",
       "      <td>15.00</td>\n",
       "      <td>3.000000</td>\n",
       "      <td>NaN</td>\n",
       "      <td>NaN</td>\n",
       "      <td>NaN</td>\n",
       "      <td>NaN</td>\n",
       "      <td>NaN</td>\n",
       "      <td>NaN</td>\n",
       "      <td>...</td>\n",
       "      <td>NaN</td>\n",
       "      <td>NaN</td>\n",
       "      <td>NaN</td>\n",
       "      <td>NaN</td>\n",
       "      <td>NaN</td>\n",
       "      <td>NaN</td>\n",
       "      <td>NaN</td>\n",
       "      <td>NaN</td>\n",
       "      <td>NaN</td>\n",
       "      <td>NaN</td>\n",
       "    </tr>\n",
       "  </tbody>\n",
       "</table>\n",
       "<p>1500 rows × 28 columns</p>\n",
       "</div>"
      ],
      "text/plain": [
       "      Unnamed: 0  H = 0.001  Time(H = 0.001)  H(Exact)0.001  H = 0.01  \\\n",
       "0              0   0.039642             0.01       1.019801  0.365854   \n",
       "1              1   0.078498             0.02       1.039211  0.664784   \n",
       "2              2   0.116584             0.03       1.058235  0.909031   \n",
       "3              3   0.153915             0.04       1.076884  1.108599   \n",
       "4              4   0.190506             0.05       1.095163  1.271661   \n",
       "...          ...        ...              ...            ...       ...   \n",
       "1495        1495   2.999902            14.96       3.000000       NaN   \n",
       "1496        1496   2.999904            14.97       3.000000       NaN   \n",
       "1497        1497   2.999906            14.98       3.000000       NaN   \n",
       "1498        1498   2.999908            14.99       3.000000       NaN   \n",
       "1499        1499   2.999910            15.00       3.000000       NaN   \n",
       "\n",
       "      Time(H = 0.01)  H(Exact)0.01  H = 0.25  Time(H = 0.25)  H(Exact)0.25  \\\n",
       "0                0.1      1.181269    1.0000            0.25      1.393469   \n",
       "1                0.2      1.329680    1.5000            0.50      1.632121   \n",
       "2                0.3      1.451188    1.7500            0.75      1.776870   \n",
       "3                0.4      1.550671    1.8750            1.00      1.864665   \n",
       "4                0.5      1.632121    1.9375            1.25      1.917915   \n",
       "...              ...           ...       ...             ...           ...   \n",
       "1495             NaN           NaN       NaN             NaN           NaN   \n",
       "1496             NaN           NaN       NaN             NaN           NaN   \n",
       "1497             NaN           NaN       NaN             NaN           NaN   \n",
       "1498             NaN           NaN       NaN             NaN           NaN   \n",
       "1499             NaN           NaN       NaN             NaN           NaN   \n",
       "\n",
       "      ...  H(Exact)0.75.1  Unnamed: 19 Unnamed: 20  \\\n",
       "0     ...        1.864665          NaN         NaN   \n",
       "1     ...        1.981684          NaN         NaN   \n",
       "2     ...        1.997521          NaN         NaN   \n",
       "3     ...        1.999665          NaN   Step =0.5   \n",
       "4     ...        1.999955          NaN  Step =0.75   \n",
       "...   ...             ...          ...         ...   \n",
       "1495  ...             NaN          NaN         NaN   \n",
       "1496  ...             NaN          NaN         NaN   \n",
       "1497  ...             NaN          NaN         NaN   \n",
       "1498  ...             NaN          NaN         NaN   \n",
       "1499  ...             NaN          NaN         NaN   \n",
       "\n",
       "                                2        4.5          5.5       5.01  \\\n",
       "0     THIS ABOVE IS COLUMN NUMBER  condition    condition        NaN   \n",
       "1                             NaN        NaN          NaN        NaN   \n",
       "2                      STEP VALUE   TIME = 5  EXACT VALUE      ERROR   \n",
       "3                               2          5    1.9999546       4.54   \n",
       "4                        2.015625       5.25  1.999972464  1565.2536   \n",
       "...                           ...        ...          ...        ...   \n",
       "1495                          NaN        NaN          NaN        NaN   \n",
       "1496                          NaN        NaN          NaN        NaN   \n",
       "1497                          NaN        NaN          NaN        NaN   \n",
       "1498                          NaN        NaN          NaN        NaN   \n",
       "1499                          NaN        NaN          NaN        NaN   \n",
       "\n",
       "      Unnamed: 25  4.99   5.1  \n",
       "0             NaN  4.90  5.10  \n",
       "1             NaN  4.75  5.25  \n",
       "2             NaN   NaN   NaN  \n",
       "3             NaN   NaN   NaN  \n",
       "4             NaN   NaN   NaN  \n",
       "...           ...   ...   ...  \n",
       "1495          NaN   NaN   NaN  \n",
       "1496          NaN   NaN   NaN  \n",
       "1497          NaN   NaN   NaN  \n",
       "1498          NaN   NaN   NaN  \n",
       "1499          NaN   NaN   NaN  \n",
       "\n",
       "[1500 rows x 28 columns]"
      ]
     },
     "execution_count": 12,
     "metadata": {},
     "output_type": "execute_result"
    }
   ],
   "source": [
    "path = \"Step_sizes1.csv\"\n",
    "df = pd.read_csv(path, encoding = 'utf-8')\n",
    "df"
   ]
  },
  {
   "cell_type": "markdown",
   "metadata": {},
   "source": [
    "### Clean Data"
   ]
  },
  {
   "cell_type": "code",
   "execution_count": 13,
   "metadata": {},
   "outputs": [
    {
     "data": {
      "text/html": [
       "<div>\n",
       "<style scoped>\n",
       "    .dataframe tbody tr th:only-of-type {\n",
       "        vertical-align: middle;\n",
       "    }\n",
       "\n",
       "    .dataframe tbody tr th {\n",
       "        vertical-align: top;\n",
       "    }\n",
       "\n",
       "    .dataframe thead th {\n",
       "        text-align: right;\n",
       "    }\n",
       "</style>\n",
       "<table border=\"1\" class=\"dataframe\">\n",
       "  <thead>\n",
       "    <tr style=\"text-align: right;\">\n",
       "      <th></th>\n",
       "      <th>Unnamed: 20</th>\n",
       "      <th>2</th>\n",
       "      <th>4.5</th>\n",
       "      <th>5.5</th>\n",
       "      <th>5.01</th>\n",
       "    </tr>\n",
       "  </thead>\n",
       "  <tbody>\n",
       "    <tr>\n",
       "      <th>9</th>\n",
       "      <td>Step = 0.001</td>\n",
       "      <td>1.999910105</td>\n",
       "      <td>5</td>\n",
       "      <td>1.9999546</td>\n",
       "      <td>-4.4495</td>\n",
       "    </tr>\n",
       "    <tr>\n",
       "      <th>10</th>\n",
       "      <td>Step =0.01</td>\n",
       "      <td>1.999917952</td>\n",
       "      <td>5</td>\n",
       "      <td>1.9999546</td>\n",
       "      <td>-3.6648</td>\n",
       "    </tr>\n",
       "    <tr>\n",
       "      <th>11</th>\n",
       "      <td>Step = 0.25</td>\n",
       "      <td>1.999998093</td>\n",
       "      <td>5</td>\n",
       "      <td>1.9999546</td>\n",
       "      <td>4.3493</td>\n",
       "    </tr>\n",
       "    <tr>\n",
       "      <th>3</th>\n",
       "      <td>Step =0.5</td>\n",
       "      <td>2</td>\n",
       "      <td>5</td>\n",
       "      <td>1.9999546</td>\n",
       "      <td>4.54</td>\n",
       "    </tr>\n",
       "    <tr>\n",
       "      <th>4</th>\n",
       "      <td>Step =0.75</td>\n",
       "      <td>2.015625</td>\n",
       "      <td>5.25</td>\n",
       "      <td>1.999972464</td>\n",
       "      <td>1565.2536</td>\n",
       "    </tr>\n",
       "    <tr>\n",
       "      <th>5</th>\n",
       "      <td>Step = 1</td>\n",
       "      <td>4</td>\n",
       "      <td>5</td>\n",
       "      <td>1.9999546</td>\n",
       "      <td>200004.54</td>\n",
       "    </tr>\n",
       "  </tbody>\n",
       "</table>\n",
       "</div>"
      ],
      "text/plain": [
       "     Unnamed: 20            2   4.5          5.5       5.01\n",
       "9   Step = 0.001  1.999910105     5    1.9999546    -4.4495\n",
       "10    Step =0.01  1.999917952     5    1.9999546    -3.6648\n",
       "11   Step = 0.25  1.999998093     5    1.9999546     4.3493\n",
       "3      Step =0.5            2     5    1.9999546       4.54\n",
       "4     Step =0.75     2.015625  5.25  1.999972464  1565.2536\n",
       "5       Step = 1            4     5    1.9999546  200004.54"
      ]
     },
     "execution_count": 13,
     "metadata": {},
     "output_type": "execute_result"
    }
   ],
   "source": [
    "cleaned = df.iloc[[9,10,11,3,4,5],[20,21,22,23,24]]\n",
    "cleaned"
   ]
  },
  {
   "cell_type": "code",
   "execution_count": 14,
   "metadata": {},
   "outputs": [],
   "source": [
    "errors_y_axis = cleaned.iloc[:,-1]\n",
    "errors_y_axis\n",
    "error_y = []\n",
    "for a in errors_y_axis:\n",
    "    error_y.append(float(a))"
   ]
  },
  {
   "cell_type": "markdown",
   "metadata": {},
   "source": [
    "### Graphed data"
   ]
  },
  {
   "cell_type": "code",
   "execution_count": 15,
   "metadata": {},
   "outputs": [
    {
     "data": {
      "image/png": "[encoded data removed]",
      "text/plain": [
       "<Figure size 432x288 with 1 Axes>"
      ]
     },
     "metadata": {
      "needs_background": "light"
     },
     "output_type": "display_data"
    }
   ],
   "source": [
    "#6 data points...\n",
    "error_y\n",
    "error_step_x_axis = [0.001,0.01,0.25,0.5,0.75,1]\n",
    "#data6= {'X':x_array6,'T':t_array6}\n",
    "error_df = {'Error':error_y,'Step_size':error_step_x_axis}\n",
    "err_plt = pd.DataFrame(error_df)\n",
    "plot = sns.lineplot(x=\"Step_size\", y=\"Error\", data=err_plt) "
   ]
  },
  {
   "cell_type": "code",
   "execution_count": null,
   "metadata": {},
   "outputs": [],
   "source": []
  },
  {
   "cell_type": "markdown",
   "metadata": {},
   "source": [
    "# Part 2: Random Noise using Box Muller Method"
   ]
  },
  {
   "cell_type": "markdown",
   "metadata": {},
   "source": [
    "## Initialise/Compute standard deviation and mean"
   ]
  },
  {
   "cell_type": "code",
   "execution_count": 36,
   "metadata": {},
   "outputs": [
    {
     "name": "stdout",
     "output_type": "stream",
     "text": [
      "deviation:  0.05 mean:  0.5 DEVIATION:  0.7789244866974134 MEAN:  1.900142980914039\n"
     ]
    }
   ],
   "source": [
    "import statistics as stat\n",
    "std_dev1 = stat.stdev(x_array1)   #calculate standard deviation of input array\n",
    "_mean1 = stat.mean(x_array1)      #calculate mean of input array\n",
    "\n",
    "std_dev = 0.05                  #set custom standard deviation\n",
    "_mean = 0.5                       #set custom mean\n",
    "print(\"deviation: \",std_dev,\"mean: \",_mean,\"DEVIATION: \",std_dev1,\"MEAN: \",_mean1)"
   ]
  },
  {
   "cell_type": "markdown",
   "metadata": {},
   "source": [
    "## compute box muller algorithm"
   ]
  },
  {
   "cell_type": "code",
   "execution_count": 37,
   "metadata": {},
   "outputs": [],
   "source": [
    "def box_muller(array,standard_deviation,mean):\n",
    "    random_vls = []\n",
    "    i = 0\n",
    "    it = 0                    #switches between the 2 random numbers generated\n",
    "    box_1 = []                #saves value from one of the numbers generated\n",
    "    box_2 = []                #saves values from the other number generated\n",
    "    while i < len(array):     #while its not end of the input array\n",
    "        if(it == 0):\n",
    "            z1 =  rand.uniform(0,2*np.pi)       #generate random number between 0 and 2 * pi\n",
    "            b  =  standard_deviation*np.sqrt(-2*math.log(rand.uniform(0,1)))     \n",
    "            z2 =  b*(math.sin(z1))+mean\n",
    "            z3 =  b*(math.cos(z1))+mean\n",
    "            box_1.append(z2)\n",
    "            noise = array[i] + z2\n",
    "            random_vls.append(noise)\n",
    "            it = 1\n",
    "            i = i + 1\n",
    "        else:\n",
    "            it = 0\n",
    "            box_2.append(z3)\n",
    "            noise = array[i] + z3\n",
    "            random_vls.append(noise)\n",
    "            i= i + 1\n",
    "    return random_vls,box_1,box_2"
   ]
  },
  {
   "cell_type": "code",
   "execution_count": 38,
   "metadata": {},
   "outputs": [],
   "source": [
    "random_vals = []\n",
    "random_vals,b1,b2 = box_muller(x_save2,std_dev,_mean)\n",
    "noise_data= {'Noise_x':random_vals}\n",
    "noise_df= pd.DataFrame(noise_data)\n",
    "noise_df.to_csv(\"Noise_x.csv\")"
   ]
  },
  {
   "cell_type": "markdown",
   "metadata": {},
   "source": [
    "## Noise plot"
   ]
  },
  {
   "cell_type": "code",
   "execution_count": 39,
   "metadata": {},
   "outputs": [
    {
     "data": {
      "image/png": "[encoded data removed]",
      "text/plain": [
       "<Figure size 432x288 with 1 Axes>"
      ]
     },
     "metadata": {
      "needs_background": "light"
     },
     "output_type": "display_data"
    }
   ],
   "source": [
    "y = random_vals\n",
    "x = t_save2\n",
    "plt.plot(x,y,\"b\") #actual\n",
    "plt.show()"
   ]
  },
  {
   "cell_type": "markdown",
   "metadata": {},
   "source": [
    "## Proof that numbers generated fall within a gaussian distribution"
   ]
  },
  {
   "cell_type": "code",
   "execution_count": 20,
   "metadata": {},
   "outputs": [
    {
     "data": {
      "text/plain": [
       "<matplotlib.axes._subplots.AxesSubplot at 0x1f65a3474c8>"
      ]
     },
     "execution_count": 20,
     "metadata": {},
     "output_type": "execute_result"
    },
    {
     "data": {
      "image/png": "[encoded data removed]",
      "text/plain": [
       "<Figure size 432x288 with 1 Axes>"
      ]
     },
     "metadata": {
      "needs_background": "light"
     },
     "output_type": "display_data"
    }
   ],
   "source": [
    "sns.distplot(b1)"
   ]
  },
  {
   "cell_type": "code",
   "execution_count": 21,
   "metadata": {},
   "outputs": [
    {
     "data": {
      "text/plain": [
       "<matplotlib.axes._subplots.AxesSubplot at 0x1f65a3cf388>"
      ]
     },
     "execution_count": 21,
     "metadata": {},
     "output_type": "execute_result"
    },
    {
     "data": {
      "image/png": "[encoded data removed]",
      "text/plain": [
       "<Figure size 432x288 with 1 Axes>"
      ]
     },
     "metadata": {
      "needs_background": "light"
     },
     "output_type": "display_data"
    }
   ],
   "source": [
    "sns.distplot(b2)"
   ]
  },
  {
   "cell_type": "code",
   "execution_count": 22,
   "metadata": {},
   "outputs": [
    {
     "data": {
      "text/plain": [
       "<matplotlib.axes._subplots.AxesSubplot at 0x1f65a672ac8>"
      ]
     },
     "execution_count": 22,
     "metadata": {},
     "output_type": "execute_result"
    },
    {
     "data": {
      "image/png": "[encoded data removed]",
      "text/plain": [
       "<Figure size 432x288 with 1 Axes>"
      ]
     },
     "metadata": {
      "needs_background": "light"
     },
     "output_type": "display_data"
    }
   ],
   "source": [
    "sns.distplot(random_vals)"
   ]
  },
  {
   "cell_type": "markdown",
   "metadata": {},
   "source": [
    "# Part 3: Adding an intelligent agent to track the noise"
   ]
  },
  {
   "cell_type": "markdown",
   "metadata": {},
   "source": [
    "## Sigmoid Activation"
   ]
  },
  {
   "cell_type": "code",
   "execution_count": 23,
   "metadata": {},
   "outputs": [],
   "source": [
    "def sigmoid_activation(val):\n",
    "    sigmoid = 1/(1+np.exp(-val))#sigmoid activation function\n",
    "    return sigmoid\n",
    "\n",
    "def train_weights3(array, lr, loops):\n",
    "    weights3 = [rand.uniform(0,1),rand.uniform(0,1),rand.uniform(0,1),rand.uniform(0,1)] #initialise weights\n",
    "    weights3_1 = []             #append/save created weights\n",
    "    itr_array = []\n",
    "    sum_error_array = []\n",
    "    future = 0\n",
    "    for loop in range(loops):   #for each epoch in epochs\n",
    "        net_array = []          #append network values\n",
    "        error_array = []        #append error array\n",
    "        sum_error = 0.0         #keep track of sum_error\n",
    "        c = 0                   #counter variable\n",
    "        w_adaptor = 0           #weight counter(used to iterate through each value in weights array)\n",
    "        if loop < 1:            #if its less than one epoch, create new weights and append them to an array\n",
    "            for a in array:     #for each input in array input\n",
    "                weights3_1.append([weights3[0],weights3[1],weights3[2],weights3[3]]) #append weights created\n",
    "                prediction = predict3(a,weights3)                                #grab weights created and predict\n",
    "                if c == 0:\n",
    "                    if(c < (len(array)-1)):\n",
    "                        future = array[c+1][1]\n",
    "                        Target = future\n",
    "                elif c==1:\n",
    "                    if(c < (len(array)-1)):\n",
    "                        future = array[c+1][0]\n",
    "                        Target = future\n",
    "                else:\n",
    "                    if(c < (len(array)-1)):\n",
    "                        future = array[c+1][0]\n",
    "                        Target = future\n",
    "                delta = Target - prediction      #calculate error\n",
    "                error = delta\n",
    "                error_array.append(error)        #append error\n",
    "                net_array.append(prediction)\n",
    "                #------------------------WEIGHTS UPDATED BY CORRESPONDING CURRENT ERROR AND INPUT----------------------------------\n",
    "                weights3_change = lr*error*Target           #calculate weight change for bias\n",
    "                weights3[0] = weights3[0] + weights3_change#add calculated weight change to bias\n",
    "                for i in range(len(a)):                         #for each input in input array\n",
    "                    weights3[i + 1] = weights3[i +1] + weights3_change #obtain respective weight and add it with the weight change\n",
    "                sum_error += error**2            #calculate sum_error\n",
    "                c = c + 1                        #increment counter\n",
    "            sum_error_array.append(sum_error)\n",
    "            itr_array.append(loop)\n",
    "            #print('>epoch=%d, lrate=%.3f, error=%.3f, , sum_error=%.3f' % (loop, lr, error, sum_error))\n",
    "        else:                               #if epoch is > 1\n",
    "            for a in array:                 #for each input in input array\n",
    "                prediction = predict3(a,weights3_1[w_adaptor]) #calculate predictions using weights from previous epoch\n",
    "                if c == 0:\n",
    "                    if(c < (len(array)-1)):\n",
    "                        future = array[c+1][1]\n",
    "                        Target = future\n",
    "                elif c==1:\n",
    "                    if(c < (len(array)-1)):\n",
    "                        future = array[c+1][0]\n",
    "                        Target = future\n",
    "                else:\n",
    "                    if(c < (len(array)-1)):\n",
    "                        future = array[c+1][0]\n",
    "                        Target = future\n",
    "                delta = Target - prediction #calculate error\n",
    "                error = delta\n",
    "                error_array.append(error)   #append error\n",
    "                net_array.append(prediction)#append predictions\n",
    "                #------------------------WEIGHTS UPDATED BY CORRESPONDING CURRENT ERROR AND INPUT----------------------------------\n",
    "            \n",
    "                weights3_change = lr*error*Target  #calulate weight change for bias\n",
    "                weights3_1[w_adaptor][0] = weights3_1[w_adaptor][0] + weights3_change #update bias weight in the saved weights array\n",
    "                for i in range(len(a)):                 #for each input in input array\n",
    "                     weights3_1[w_adaptor][i + 1] =  weights3_1[w_adaptor][i +1] + weights3_change #update respective weights in weights array\n",
    "                sum_error += error**2                   #calculate sum_error\n",
    "                c = c + 1                               #increment counter\n",
    "                w_adaptor = w_adaptor + 1               #increment weight counter\n",
    "            itr_array.append(loop)\n",
    "            sum_error_array.append(sum_error)\n",
    "            #print('>epoch=%d, lrate=%.3f, error=%.3f, , sum_error=%.3f' % (loop, lr, error, sum_error))\n",
    "    return net_array,sum_error_array,weights3_1,itr_array\n",
    "            \n",
    "def predict3(noise2,weights2):\n",
    "    net_sum = 1\n",
    "    net_sum +=net_sum*weights2[0] #obtain bias from weight array\n",
    "    for i in range(len(noise2)-1):\n",
    "        net_sum += weights2[i + 1] * noise2[i] #multiply input by respective weight to obtain a summation\n",
    "    activation2 = sigmoid_activation(net_sum)  #implement sigmoid function to summation obtained\n",
    "    return activation2               #return activation and network sum\n",
    "\n",
    "#normalize data and feed into tuple\n",
    "def triple_converter(array):                   #converts input into a tuple so that we can pass 3 input weights per prediction\n",
    "    triple_array = []\n",
    "    c = 0 #counter\n",
    "    while c < len(array):\n",
    "        if c == 0:\n",
    "            triple_array.append([0,0,array[c]])\n",
    "        elif c == 1:\n",
    "            triple_array.append([0,array[c],array[c-1]])\n",
    "        else:\n",
    "            triple_array.append([array[c],array[c-1],array[c-2]])\n",
    "        c = c + 1                              #increment counter\n",
    "    return triple_array\n",
    "\n",
    "\n",
    "##----------------------------------------ACCURACY CALCULATOR--------------------------------------##\n",
    "def accuracy(Target, Predicted):\n",
    "    Expected = abs(Target - Predicted)\n",
    "    result = Expected/Target * 100\n",
    "    return result\n"
   ]
  },
  {
   "cell_type": "markdown",
   "metadata": {},
   "source": [
    "## Step function activation"
   ]
  },
  {
   "cell_type": "code",
   "execution_count": 24,
   "metadata": {},
   "outputs": [],
   "source": [
    "##--------------------------------SINGLE PERCEPTRON-----------------------------------------------##\n",
    "def predict_step(noise1,weights1):\n",
    "    net_sum = 0                                #net_sum initialise\n",
    "    out = 0                                    #initialise output of step function\n",
    "    net_sum = weights1[0]                      #grab bias from weights and set as current net_sum \n",
    "    for i in range(len(noise1)-1):             #for every input\n",
    "        net_sum += weights1[i + 1] * noise1[i] #multiply each input to weight and add result to netsum\n",
    "    if net_sum > 1: #if netsum is greater than 1                        \n",
    "        out = 1     #set output of step to 1\n",
    "    else:           #else\n",
    "        out = 0     #set output to 0\n",
    "    return out      #return output\n",
    "\n",
    "def train_weights_step(array, lr, loops):\n",
    "    weights3 = [rand.uniform(0,1),rand.uniform(0,1),rand.uniform(0,1),rand.uniform(0,1)] #initialise weights\n",
    "    weights3_1 = []             #append/save created weights\n",
    "    itr_array = []\n",
    "    sum_error_array = []\n",
    "    for loop in range(loops):   #for each epoch in epochs\n",
    "        net_array = []          #append network values\n",
    "        error_array = []        #append error array\n",
    "        sum_error = 0.0         #keep track of sum_error\n",
    "        c = 0                   #counter variable\n",
    "        w_adaptor = 0           #weight counter(used to iterate through each value in weights array)\n",
    "        future = 0\n",
    "        if loop < 1:            #if its less than one epoch, create new weights and append them to an array\n",
    "            for a in array:     #for each input in array input\n",
    "                weights3_1.append([weights3[0],weights3[1],weights3[2],weights3[3]]) #append weights created\n",
    "                prediction = predict_step(a,weights3)                                #grab weights created and predict\n",
    "                if c == 0:\n",
    "                    if(c < (len(array)-1)):\n",
    "                        future = array[c+1][1]\n",
    "                        Target = future\n",
    "                elif c==1:\n",
    "                    if(c < (len(array)-1)):\n",
    "                        future = array[c+1][0]\n",
    "                        Target = future\n",
    "                else:\n",
    "                    if(c < (len(array)-1)):\n",
    "                        future = array[c+1][0]\n",
    "                        Target = future\n",
    "                delta = Target - prediction      #calculate error\n",
    "                error = delta\n",
    "                #print(error)\n",
    "                error_array.append(error)        #append error\n",
    "                net_array.append(prediction)\n",
    "                #------------------------WEIGHTS UPDATED BY CORRESPONDING CURRENT ERROR AND INPUT----------------------------------\n",
    "                weights3_change = lr*error*Target           #calculate weight change for bias\n",
    "                weights3[0] = weights3[0] + weights3_change#add calculated weight change to bias\n",
    "                for i in range(len(a)):                         #for each input in input array\n",
    "                    weights3[i + 1] = weights3[i +1] + weights3_change #obtain respective weight and add it with the weight change\n",
    "                sum_error += error**2            #calculate sum_error\n",
    "                c = c + 1                        #increment counter\n",
    "            sum_error_array.append(sum_error)\n",
    "            itr_array.append(loop)\n",
    "            #print('>epoch=%d, lrate=%.3f, error=%.3f, , sum_error=%.3f' % (loop, lr, error, sum_error))\n",
    "        else:                               #if epoch is > 1\n",
    "            for a in array:                 #for each input in input array\n",
    "                prediction = predict_step(a,weights3_1[w_adaptor]) #calculate predictions using weights from previous epoch\n",
    "                if c == 0:\n",
    "                    if(c < (len(array)-1)):\n",
    "                        future = array[c+1][1]\n",
    "                        Target = future\n",
    "                elif c==1:\n",
    "                    if(c < (len(array)-1)):\n",
    "                        future = array[c+1][0]\n",
    "                        Target = future\n",
    "                else:\n",
    "                    if(c < (len(array)-1)):\n",
    "                        future = array[c+1][0]\n",
    "                        Target = future\n",
    "                delta = Target - prediction #calculate error\n",
    "                error = delta\n",
    "                error_array.append(error)   #append error\n",
    "                net_array.append(prediction)#append predictions\n",
    "                #------------------------WEIGHTS UPDATED BY CORRESPONDING CURRENT ERROR AND INPUT----------------------------------\n",
    "            \n",
    "                weights3_change = lr*error*Target #calulate weight change for bias\n",
    "                weights3_1[w_adaptor][0] = weights3_1[w_adaptor][0] + weights3_change #update bias weight in the saved weights array\n",
    "                for i in range(len(a)):                 #for each input in input array\n",
    "                     weights3_1[w_adaptor][i + 1] =  weights3_1[w_adaptor][i +1] + weights3_change #update respective weights in weights array\n",
    "                sum_error += error**2                   #calculate sum_error\n",
    "                c = c + 1                               #increment counter\n",
    "                w_adaptor = w_adaptor + 1               #increment weight counter\n",
    "            itr_array.append(loop)\n",
    "            sum_error_array.append(sum_error)\n",
    "            #print('>epoch=%d, lrate=%.3f, error=%.3f, , sum_error=%.3f' % (loop, lr, error, sum_error))\n",
    "    return net_array,sum_error_array,weights3_1,itr_array"
   ]
  },
  {
   "cell_type": "code",
   "execution_count": 25,
   "metadata": {},
   "outputs": [],
   "source": [
    "# "
   ]
  },
  {
   "cell_type": "code",
   "execution_count": null,
   "metadata": {},
   "outputs": [],
   "source": []
  },
  {
   "cell_type": "code",
   "execution_count": null,
   "metadata": {},
   "outputs": [],
   "source": []
  },
  {
   "cell_type": "markdown",
   "metadata": {},
   "source": [
    "## Implementation during training"
   ]
  },
  {
   "cell_type": "code",
   "execution_count": null,
   "metadata": {},
   "outputs": [],
   "source": []
  },
  {
   "cell_type": "markdown",
   "metadata": {},
   "source": [
    "## Weights implementation on unseen but similar data"
   ]
  },
  {
   "cell_type": "code",
   "execution_count": null,
   "metadata": {},
   "outputs": [],
   "source": []
  },
  {
   "cell_type": "code",
   "execution_count": 26,
   "metadata": {},
   "outputs": [],
   "source": [
    "#net_array"
   ]
  },
  {
   "cell_type": "markdown",
   "metadata": {},
   "source": [
    "## Network ouput on unseen data(blue)"
   ]
  },
  {
   "cell_type": "code",
   "execution_count": null,
   "metadata": {},
   "outputs": [],
   "source": []
  },
  {
   "cell_type": "markdown",
   "metadata": {},
   "source": [
    "### Error plot per iteration"
   ]
  },
  {
   "cell_type": "code",
   "execution_count": null,
   "metadata": {},
   "outputs": [],
   "source": []
  },
  {
   "cell_type": "markdown",
   "metadata": {},
   "source": [
    "## Accuracy plot"
   ]
  },
  {
   "cell_type": "code",
   "execution_count": 27,
   "metadata": {},
   "outputs": [],
   "source": [
    "#len(test)"
   ]
  },
  {
   "cell_type": "code",
   "execution_count": 28,
   "metadata": {},
   "outputs": [],
   "source": [
    "#error_dataframe = {'Accuracy':accuracy_array,'Epochs':itrArray}\n",
    "#error_df = pd.DataFrame(error_dataframe)\n",
    "#error_plt = sns.lineplot(x=\"Epochs\", y=\"Accuracy\", data=error_df) #blue"
   ]
  },
  {
   "cell_type": "markdown",
   "metadata": {},
   "source": [
    "## Dataframe containing noise values, trained values and error"
   ]
  },
  {
   "cell_type": "code",
   "execution_count": 29,
   "metadata": {},
   "outputs": [],
   "source": [
    "#df6"
   ]
  },
  {
   "cell_type": "markdown",
   "metadata": {},
   "source": [
    "## Train network using step function"
   ]
  },
  {
   "cell_type": "code",
   "execution_count": 30,
   "metadata": {},
   "outputs": [],
   "source": [
    "#dat1 = preprocessing.normalize(dat1)\n",
    "#values1,error_step,weights_step,itr, = train_weights_step(dat1, 0.01,1000)\n",
    "#weights_data= {'Weights_data':weights_step}\n",
    "#weights_df= pd.DataFrame(weights_data)\n",
    "#weights_df.to_csv(\"Step_Network_weights.csv\")"
   ]
  },
  {
   "cell_type": "code",
   "execution_count": 31,
   "metadata": {},
   "outputs": [],
   "source": [
    "\n",
    "#y_axis = x_scaled #network output\n",
    "#y_axis = norm\n",
    "#y = values1\n",
    "#x_axis = x = t_save2\n",
    "#plt.plot(x,y,\"y\") #robot\n",
    "#plt.plot(x_axis,y_axis,\"b\")#tracker\n",
    "#plt.show()\n"
   ]
  },
  {
   "cell_type": "code",
   "execution_count": 32,
   "metadata": {},
   "outputs": [],
   "source": [
    "#x = itr\n",
    "#y = error_step\n",
    "#error_dataframe = {'Error':y,'Epochs':x}\n",
    "#error_df = pd.DataFrame(error_dataframe)\n",
    "#error_plt = sns.lineplot(x=\"Epochs\", y=\"Error\", data=error_df) #blue"
   ]
  },
  {
   "cell_type": "markdown",
   "metadata": {},
   "source": [
    "# Perceptron model with different learning rates"
   ]
  },
  {
   "cell_type": "markdown",
   "metadata": {},
   "source": [
    "#### Example 1(Learning rate =50)"
   ]
  },
  {
   "cell_type": "code",
   "execution_count": 33,
   "metadata": {},
   "outputs": [],
   "source": [
    "random_vals1 = []\n",
    "#data,std_dev.mean\n",
    "random_vals1,_,_ = box_muller(x_save2,0.001,_mean) #call box muller\n",
    "x_scaled = preprocessing.minmax_scale(random_vals1)\n",
    "random_vals_t1 = triple_converter(x_scaled)\n",
    "values1,e1,w1,itrArray1 = train_weights3(random_vals_t1, 50,1000)"
   ]
  },
  {
   "cell_type": "markdown",
   "metadata": {},
   "source": [
    "## Network representation"
   ]
  },
  {
   "cell_type": "code",
   "execution_count": 34,
   "metadata": {},
   "outputs": [
    {
     "data": {
      "image/png": "[encoded data removed]",
      "text/plain": [
       "<Figure size 432x288 with 1 Axes>"
      ]
     },
     "metadata": {
      "needs_background": "light"
     },
     "output_type": "display_data"
    }
   ],
   "source": [
    "y_axis = values1 #network output\n",
    "y = x_scaled # x noise\n",
    "x_axis = x = t_save2\n",
    "plt.plot(x,y,\"b\") #actual\n",
    "plt.plot(x_axis,y_axis,\"y\")#noise\n",
    "plt.show()"
   ]
  },
  {
   "cell_type": "markdown",
   "metadata": {},
   "source": [
    "## Error representation "
   ]
  },
  {
   "cell_type": "code",
   "execution_count": 35,
   "metadata": {},
   "outputs": [
    {
     "data": {
      "image/png": "[encoded data removed]",
      "text/plain": [
       "<Figure size 432x288 with 1 Axes>"
      ]
     },
     "metadata": {
      "needs_background": "light"
     },
     "output_type": "display_data"
    }
   ],
   "source": [
    "error_dataframe = {'Error':e1,'Epochs':itrArray1}\n",
    "error_df1 = pd.DataFrame(error_dataframe)\n",
    "error_plt = sns.lineplot(x=\"Epochs\", y=\"Error\", data=error_df1) #blue"
   ]
  },
  {
   "cell_type": "markdown",
   "metadata": {},
   "source": [
    "### Example 2(learning rate =10)"
   ]
  },
  {
   "cell_type": "code",
   "execution_count": 36,
   "metadata": {},
   "outputs": [],
   "source": [
    "values1,e1,w1,itrArray1 = train_weights3(random_vals_t1, 10,1000)"
   ]
  },
  {
   "cell_type": "markdown",
   "metadata": {},
   "source": [
    "#### Network Representation"
   ]
  },
  {
   "cell_type": "code",
   "execution_count": 37,
   "metadata": {},
   "outputs": [
    {
     "data": {
      "image/png": "[encoded data removed]",
      "text/plain": [
       "<Figure size 432x288 with 1 Axes>"
      ]
     },
     "metadata": {
      "needs_background": "light"
     },
     "output_type": "display_data"
    }
   ],
   "source": [
    "y_axis = values1 #network output\n",
    "y = x_scaled # x noise\n",
    "x_axis = x = t_save2\n",
    "plt.plot(x,y,\"b\") #actual\n",
    "plt.plot(x_axis,y_axis,\"y\")#noise\n",
    "plt.show()"
   ]
  },
  {
   "cell_type": "markdown",
   "metadata": {},
   "source": [
    "#### Error representation"
   ]
  },
  {
   "cell_type": "code",
   "execution_count": 38,
   "metadata": {},
   "outputs": [
    {
     "data": {
      "image/png": "[encoded data removed]",
      "text/plain": [
       "<Figure size 432x288 with 1 Axes>"
      ]
     },
     "metadata": {
      "needs_background": "light"
     },
     "output_type": "display_data"
    }
   ],
   "source": [
    "error_dataframe = {'Error':e1,'Epochs':itrArray1}\n",
    "error_df1 = pd.DataFrame(error_dataframe)\n",
    "error_plt = sns.lineplot(x=\"Epochs\", y=\"Error\", data=error_df1) #blue"
   ]
  },
  {
   "cell_type": "markdown",
   "metadata": {},
   "source": [
    "### Example 3(Learning rate = 0.01)"
   ]
  },
  {
   "cell_type": "code",
   "execution_count": 39,
   "metadata": {},
   "outputs": [],
   "source": [
    "values1,e1,w1,itrArray1 = train_weights3(random_vals_t1, 0.01,1000)"
   ]
  },
  {
   "cell_type": "markdown",
   "metadata": {},
   "source": [
    "#### Network Representation"
   ]
  },
  {
   "cell_type": "code",
   "execution_count": 40,
   "metadata": {},
   "outputs": [
    {
     "data": {
      "image/png": "[encoded data removed]",
      "text/plain": [
       "<Figure size 432x288 with 1 Axes>"
      ]
     },
     "metadata": {
      "needs_background": "light"
     },
     "output_type": "display_data"
    }
   ],
   "source": [
    "y_axis = values1 #network output\n",
    "y = x_scaled # x noise\n",
    "x_axis = x = t_save2\n",
    "plt.plot(x,y,\"b\") #actual\n",
    "plt.plot(x_axis,y_axis,\"y\")#noise\n",
    "plt.show()"
   ]
  },
  {
   "cell_type": "markdown",
   "metadata": {},
   "source": [
    "#### Error representation"
   ]
  },
  {
   "cell_type": "code",
   "execution_count": 41,
   "metadata": {},
   "outputs": [
    {
     "data": {
      "image/png": "[encoded data removed]",
      "text/plain": [
       "<Figure size 432x288 with 1 Axes>"
      ]
     },
     "metadata": {
      "needs_background": "light"
     },
     "output_type": "display_data"
    }
   ],
   "source": [
    "error_dataframe = {'Error':e1,'Epochs':itrArray1}\n",
    "error_df1 = pd.DataFrame(error_dataframe)\n",
    "error_plt = sns.lineplot(x=\"Epochs\", y=\"Error\", data=error_df1) #blue"
   ]
  },
  {
   "cell_type": "markdown",
   "metadata": {},
   "source": [
    "### Example 3(Learning rate = 0.0001)"
   ]
  },
  {
   "cell_type": "code",
   "execution_count": 42,
   "metadata": {},
   "outputs": [],
   "source": [
    "values1,e1,w1,itrArray1 = train_weights3(random_vals_t1, 0.001,1000)"
   ]
  },
  {
   "cell_type": "code",
   "execution_count": null,
   "metadata": {},
   "outputs": [],
   "source": []
  },
  {
   "cell_type": "code",
   "execution_count": 43,
   "metadata": {},
   "outputs": [
    {
     "data": {
      "image/png": "[encoded data removed]",
      "text/plain": [
       "<Figure size 432x288 with 1 Axes>"
      ]
     },
     "metadata": {
      "needs_background": "light"
     },
     "output_type": "display_data"
    }
   ],
   "source": [
    "y_axis = values1 #network output\n",
    "y = x_scaled # x noise\n",
    "x_axis = x = t_save2\n",
    "plt.plot(x,y,\"b\") #actual\n",
    "plt.plot(x_axis,y_axis,\"y\")#noise\n",
    "plt.show()"
   ]
  },
  {
   "cell_type": "code",
   "execution_count": null,
   "metadata": {},
   "outputs": [],
   "source": []
  },
  {
   "cell_type": "code",
   "execution_count": 44,
   "metadata": {},
   "outputs": [
    {
     "data": {
      "image/png": "[encoded data removed]",
      "text/plain": [
       "<Figure size 432x288 with 1 Axes>"
      ]
     },
     "metadata": {
      "needs_background": "light"
     },
     "output_type": "display_data"
    }
   ],
   "source": [
    "error_dataframe = {'Error':e1,'Epochs':itrArray1}\n",
    "error_df1 = pd.DataFrame(error_dataframe)\n",
    "error_plt = sns.lineplot(x=\"Epochs\", y=\"Error\", data=error_df1) #blue"
   ]
  },
  {
   "cell_type": "markdown",
   "metadata": {},
   "source": [
    "# Testing perceptron with different number of inputs"
   ]
  },
  {
   "cell_type": "markdown",
   "metadata": {},
   "source": [
    "## One input"
   ]
  },
  {
   "cell_type": "code",
   "execution_count": 45,
   "metadata": {},
   "outputs": [],
   "source": [
    "def sigmoid_activation(val):\n",
    "    sigmoid = 1/(1+np.exp(-val))#sigmoid activation function\n",
    "    return sigmoid\n",
    "\n",
    "def train_weights1(array, lr, loops):\n",
    "    weights3 = [rand.uniform(0,1),rand.uniform(0,1)] #initialise weights\n",
    "    weights3_1 = []             #append/save created weights\n",
    "    itr_array = []\n",
    "    sum_error_array = []\n",
    "    for loop in range(loops):   #for each epoch in epochs\n",
    "        net_array = []          #append network values\n",
    "        error_array = []        #append error array\n",
    "        sum_error = 0.0         #keep track of sum_error\n",
    "        c = 0                   #counter variable\n",
    "        w_adaptor = 0           #weight counter(used to iterate through each value in weights array)\n",
    "        future = 0\n",
    "        if loop < 1:            #if its less than one epoch, create new weights and append them to an array\n",
    "            for a in array:     #for each input in array input\n",
    "                weights3_1.append([weights3[0],weights3[1]]) #append weights created\n",
    "                if(c < (len(array)-1)):\n",
    "                    future = array[c+1]\n",
    "                    #print(\"first\",a,\"second\",future)\n",
    "                prediction = predict1(a,weights3)                                #grab weights created and predict\n",
    "                Target = future\n",
    "                delta = Target - prediction      #calculate error\n",
    "                error = delta\n",
    "                error_array.append(error)        #append error\n",
    "                net_array.append(prediction)\n",
    "                #------------------------WEIGHTS UPDATED BY CORRESPONDING CURRENT ERROR AND INPUT----------------------------------\n",
    "                weights3_change = lr*error*Target\n",
    "                weights3[0] = weights3[0] + weights3_change #obtain respective weight and add it with the weight change\n",
    "                weights3[1] = weights3[1] + weights3_change #obtain respective weight and add it with the weight change\n",
    "                sum_error += error**2            #calculate sum_error\n",
    "                c = c + 1                        #increment counter\n",
    "            sum_error_array.append(sum_error)\n",
    "            itr_array.append(loop)\n",
    "            #print('>epoch=%d, lrate=%.3f, error=%.3f, , sum_error=%.3f' % (loop, lr, error, sum_error))\n",
    "        else:                               #if epoch is > 1\n",
    "            for a in array:                 #for each input in input array\n",
    "                prediction = predict1(a,weights3_1[w_adaptor]) #calculate predictions using weights from previous epoch\n",
    "                if(c < (len(array)-1)):\n",
    "                    future = array[c+1]\n",
    "                Target = future\n",
    "                delta = Target - prediction #calculate error\n",
    "                #print(\"error\",error)\n",
    "                error = delta\n",
    "                error_array.append(error)   #append error\n",
    "                net_array.append(prediction)#append predictions\n",
    "                #------------------------WEIGHTS UPDATED BY CORRESPONDING CURRENT ERROR AND INPUT----------------------------------\n",
    "                weights3_change = lr*error*Target\n",
    "                weights3_1[w_adaptor][0] =  weights3_1[w_adaptor][0] + weights3_change #update respective weights in weights array\n",
    "                weights3_1[w_adaptor][1] =  weights3_1[w_adaptor][1] + weights3_change #update respective weights in weights array\n",
    "                sum_error += error**2                   #calculate sum_error\n",
    "                c = c + 1                               #increment counter\n",
    "                w_adaptor = w_adaptor + 1               #increment weight counter\n",
    "            itr_array.append(loop)\n",
    "            sum_error_array.append(sum_error)\n",
    "            #print('>epoch=%d, lrate=%.3f, error=%.3f, , sum_error=%.3f' % (loop, lr, error, sum_error))\n",
    "    return net_array,sum_error_array,weights3_1,itr_array\n",
    "            \n",
    "def predict1(noise2,weights2):\n",
    "    net_sum = 1\n",
    "    net_sum +=net_sum*weights2[0] #obtain bias from weight array\n",
    "    net_sum += weights2[1] * noise2 #multiply input by respective weight to obtain a summation\n",
    "    activation2 = sigmoid_activation(net_sum)  #implement sigmoid function to summation obtained\n",
    "    return activation2               #return activation and network sum\n",
    "\n",
    "#normalize data and feed into tuple\n",
    "def triple_converter(array):                   #converts input into a tuple so that we can pass 3 input weights per prediction\n",
    "    triple_array = []\n",
    "    c = 0 #counter\n",
    "    while c < len(array):\n",
    "        if c == 0:\n",
    "            triple_array.append([0,0,array[c]])\n",
    "        elif c == 1:\n",
    "            triple_array.append([0,array[c],array[c-1]])\n",
    "        else:\n",
    "            triple_array.append([array[c],array[c-1],array[c-2]])\n",
    "        c = c + 1                              #increment counter\n",
    "    return triple_array\n",
    "\n",
    "\n",
    "##----------------------------------------ACCURACY CALCULATOR--------------------------------------##\n",
    "def accuracy(Target, Predicted):\n",
    "    Expected = abs(Target - Predicted)\n",
    "    result = Expected/Target * 100\n",
    "    return result"
   ]
  },
  {
   "cell_type": "code",
   "execution_count": 46,
   "metadata": {},
   "outputs": [],
   "source": [
    "random_vals1 = []\n",
    "#data,std_dev.mean\n",
    "random_vals1,_,_ = box_muller(x_save2,0.001,_mean) #call box muller\n",
    "x_scaled = preprocessing.minmax_scale(random_vals1)\n",
    "#random_vals_t1 = triple_converter(x_scaled)\n",
    "values1,e1,w1,itrArray1 = train_weights1(x_scaled, 0.01,10)"
   ]
  },
  {
   "cell_type": "code",
   "execution_count": 47,
   "metadata": {},
   "outputs": [
    {
     "data": {
      "image/png": "[encoded data removed]",
      "text/plain": [
       "<Figure size 432x288 with 1 Axes>"
      ]
     },
     "metadata": {
      "needs_background": "light"
     },
     "output_type": "display_data"
    }
   ],
   "source": [
    "y_axis = values1 #network output\n",
    "y = x_scaled # x noise\n",
    "x_axis = x = t_save2\n",
    "plt.plot(x,y,\"b\") #actual\n",
    "plt.plot(x_axis,y_axis,\"y\")#noise\n",
    "plt.show()"
   ]
  },
  {
   "cell_type": "code",
   "execution_count": 48,
   "metadata": {
    "scrolled": true
   },
   "outputs": [
    {
     "data": {
      "image/png": "[encoded data removed]",
      "text/plain": [
       "<Figure size 432x288 with 1 Axes>"
      ]
     },
     "metadata": {
      "needs_background": "light"
     },
     "output_type": "display_data"
    }
   ],
   "source": [
    "error_dataframe = {'Error':e1,'Epochs':itrArray1}\n",
    "error_df1 = pd.DataFrame(error_dataframe)\n",
    "error_plt = sns.lineplot(x=\"Epochs\", y=\"Error\", data=error_df1) #blue"
   ]
  },
  {
   "cell_type": "markdown",
   "metadata": {},
   "source": [
    "## 5 inputs"
   ]
  },
  {
   "cell_type": "code",
   "execution_count": 75,
   "metadata": {},
   "outputs": [],
   "source": [
    "def train_weights5(array, lr, loops):\n",
    "    weights3 = [rand.uniform(0,1),rand.uniform(0,1),rand.uniform(0,1),rand.uniform(0,1),rand.uniform(0,1),rand.uniform(0,1)] #initialise weights\n",
    "    weights3_1 = []             #append/save created weights\n",
    "    itr_array = []\n",
    "    sum_error_array = []\n",
    "    for loop in range(loops):   #for each epoch in epochs\n",
    "        net_array = []          #append network values\n",
    "        error_array = []        #append error array\n",
    "        sum_error = 0.0         #keep track of sum_error\n",
    "        c = 0                   #counter variable\n",
    "        future = 0\n",
    "        w_adaptor = 0           #weight counter(used to iterate through each value in weights array)\n",
    "        if loop < 1:            #if its less than one epoch, create new weights and append them to an array\n",
    "            for a in array:     #for each input in array input\n",
    "                weights3_1.append([weights3[0],weights3[1],weights3[2],weights3[3],weights3[4],weights3[5]]) #append weights created\n",
    "                prediction = predict3(a,weights3)                                #grab weights created and predict\n",
    "                if c == 0:\n",
    "                    if(c < (len(array)-1)):\n",
    "                        future = array[c+1][3]\n",
    "                        Target = future\n",
    "                elif c==1:\n",
    "                    if(c < (len(array)-1)):\n",
    "                        future = array[c+1][2]\n",
    "                        Target = future\n",
    "                elif c==2:\n",
    "                    if(c < (len(array)-1)):\n",
    "                        future = array[c+1][1]\n",
    "                        Target = future\n",
    "                elif c==3:\n",
    "                    if(c < (len(array)-1)):\n",
    "                        future = array[c+1][0]\n",
    "                        Target = future\n",
    "                else:\n",
    "                    if(c < (len(array)-1)):\n",
    "                        future = array[c+1][0]\n",
    "                        Target = future\n",
    "                delta = Target - prediction      #calculate error\n",
    "                error = delta\n",
    "                error_array.append(error)        #append error\n",
    "                net_array.append(prediction)\n",
    "                #------------------------WEIGHTS UPDATED BY CORRESPONDING CURRENT ERROR AND INPUT----------------------------------\n",
    "                weights3_change = lr*error*Target           #calculate weight change for bias\n",
    "                weights3[0] = weights3[0] + weights3_change#add calculated weight change to bias\n",
    "                for i in range(len(a)):                         #for each input in input array\n",
    "                    weights3[i + 1] = weights3[i +1] + weights3_change #obtain respective weight and add it with the weight change\n",
    "                sum_error += error**2            #calculate sum_error\n",
    "                c = c + 1                        #increment counter\n",
    "            sum_error_array.append(sum_error)\n",
    "            itr_array.append(loop)\n",
    "            #print('>epoch=%d, lrate=%.3f, error=%.3f, , sum_error=%.3f' % (loop, lr, error, sum_error))\n",
    "        else:                               #if epoch is > 1\n",
    "            for a in array:                 #for each input in input array\n",
    "                prediction = predict3(a,weights3_1[w_adaptor]) #calculate predictions using weights from previous epoch\n",
    "                if c == 0:\n",
    "                    if(c < (len(array)-1)):\n",
    "                        future = array[c+1][3]\n",
    "                        Target = future\n",
    "                elif c==1:\n",
    "                    if(c < (len(array)-1)):\n",
    "                        future = array[c+1][2]\n",
    "                        Target = future\n",
    "                elif c==2:\n",
    "                    if(c < (len(array)-1)):\n",
    "                        future = array[c+1][1]\n",
    "                        Target = future\n",
    "                elif c==3:\n",
    "                    if(c < (len(array)-1)):\n",
    "                        future = array[c+1][0]\n",
    "                        Target = future\n",
    "                else:\n",
    "                    if(c < (len(array)-1)):\n",
    "                        future = array[c+1][0]\n",
    "                        Target = future\n",
    "                delta = Target - prediction #calculate error\n",
    "                error = delta\n",
    "                error_array.append(error)   #append error\n",
    "                net_array.append(prediction)#append predictions\n",
    "                #------------------------WEIGHTS UPDATED BY CORRESPONDING CURRENT ERROR AND INPUT----------------------------------\n",
    "            \n",
    "                weights3_change = lr*error*Target #calulate weight change for bias\n",
    "                weights3_1[w_adaptor][0] = weights3_1[w_adaptor][0] + weights3_change #update bias weight in the saved weights array\n",
    "                for i in range(len(a)):                 #for each input in input array\n",
    "                     weights3_1[w_adaptor][i + 1] =  weights3_1[w_adaptor][i +1] + weights3_change #update respective weights in weights array\n",
    "                sum_error += error**2                   #calculate sum_error\n",
    "                c = c + 1                               #increment counter\n",
    "                w_adaptor = w_adaptor + 1               #increment weight counter\n",
    "            itr_array.append(loop)\n",
    "            sum_error_array.append(sum_error)\n",
    "            #print('>epoch=%d, lrate=%.3f, error=%.3f, , sum_error=%.3f' % (loop, lr, error, sum_error))\n",
    "    return net_array,sum_error_array,weights3_1,itr_array\n",
    "            \n",
    "def predict3(noise2,weights2):\n",
    "    net_sum = 1\n",
    "    net_sum +=net_sum*weights2[0] #obtain bias from weight array\n",
    "    for i in range(len(noise2)-1):\n",
    "        net_sum += weights2[i + 1] * noise2[i] #multiply input by respective weight to obtain a summation\n",
    "    activation2 = sigmoid_activation(net_sum)  #implement sigmoid function to summation obtained\n",
    "    return activation2               #return activation and network sum\n",
    "\n",
    "#normalize data and feed into tuple\n",
    "def penta_converter(array):                   #converts input into a tuple so that we can pass 3 input weights per prediction\n",
    "    penta_array = []\n",
    "    c = 0 #counter\n",
    "    while c < len(array):\n",
    "        if c == 0:\n",
    "            penta_array.append([0,0,0,0,array[c]])\n",
    "        elif c == 1:\n",
    "            penta_array.append([0,0,0,array[c],array[c-1]])\n",
    "        elif c ==2:\n",
    "            penta_array.append([0,0,array[c],array[c-1],array[c-2]])\n",
    "        elif c ==3:\n",
    "            penta_array.append([0,array[c],array[c-1],array[c-2],array[c-3]])\n",
    "        else:\n",
    "            penta_array.append([array[c],array[c-1],array[c-2],array[c-3],array[c-4]])\n",
    "        c = c + 1                              #increment counter\n",
    "    return penta_array\n",
    "\n"
   ]
  },
  {
   "cell_type": "code",
   "execution_count": 76,
   "metadata": {},
   "outputs": [],
   "source": [
    "five_inputs = penta_converter(x_scaled)"
   ]
  },
  {
   "cell_type": "code",
   "execution_count": 77,
   "metadata": {},
   "outputs": [],
   "source": [
    "values1,e1,w1,itrArray1 = train_weights5(five_inputs, 0.01,10)"
   ]
  },
  {
   "cell_type": "code",
   "execution_count": 78,
   "metadata": {},
   "outputs": [
    {
     "data": {
      "image/png": "[encoded data removed]",
      "text/plain": [
       "<Figure size 432x288 with 1 Axes>"
      ]
     },
     "metadata": {
      "needs_background": "light"
     },
     "output_type": "display_data"
    }
   ],
   "source": [
    "y_axis = values1 #network output\n",
    "y = x_scaled # x noise\n",
    "x_axis = x = t_save2\n",
    "plt.plot(x,y,\"b\") #actual\n",
    "plt.plot(x_axis,y_axis,\"y\")#noise\n",
    "plt.show()"
   ]
  },
  {
   "cell_type": "code",
   "execution_count": 79,
   "metadata": {},
   "outputs": [
    {
     "data": {
      "image/png": "[encoded data removed]",
      "text/plain": [
       "<Figure size 432x288 with 1 Axes>"
      ]
     },
     "metadata": {
      "needs_background": "light"
     },
     "output_type": "display_data"
    }
   ],
   "source": [
    "error_dataframe = {'Error':e1,'Epochs':itrArray1}\n",
    "error_df1 = pd.DataFrame(error_dataframe)\n",
    "error_plt = sns.lineplot(x=\"Epochs\", y=\"Error\", data=error_df1) #blue"
   ]
  },
  {
   "cell_type": "markdown",
   "metadata": {},
   "source": [
    "## 8 inputs"
   ]
  },
  {
   "cell_type": "code",
   "execution_count": 80,
   "metadata": {},
   "outputs": [],
   "source": [
    "def train_weights8(array, lr, loops):\n",
    "    weights3 = [rand.uniform(0,1),rand.uniform(0,1),rand.uniform(0,1),rand.uniform(0,1),rand.uniform(0,1),rand.uniform(0,1),rand.uniform(0,1),rand.uniform(0,1),rand.uniform(0,1)] #initialise weights\n",
    "    weights3_1 = []             #append/save created weights\n",
    "    itr_array = []\n",
    "    sum_error_array = []\n",
    "    for loop in range(loops):   #for each epoch in epochs\n",
    "        net_array = []          #append network values\n",
    "        error_array = []        #append error array\n",
    "        sum_error = 0.0         #keep track of sum_error\n",
    "        c = 0                   #counter variable\n",
    "        w_adaptor = 0           #weight counter(used to iterate through each value in weights array)\n",
    "        future = 0\n",
    "        if loop < 1:            #if its less than one epoch, create new weights and append them to an array\n",
    "            for a in array:     #for each input in array input\n",
    "                weights3_1.append([weights3[0],weights3[1],weights3[2],weights3[3],weights3[4],weights3[5],weights3[6],weights3[7],weights3[8]]) #append weights created\n",
    "                prediction = predict3(a,weights3)                                #grab weights created and predict\n",
    "                if c == 0:\n",
    "                    if(c < (len(array)-1)):\n",
    "                        future = array[c+1][6]\n",
    "                        Target = future\n",
    "                elif c==1:\n",
    "                    if(c < (len(array)-1)):\n",
    "                        future = array[c+1][5]\n",
    "                        Target = future\n",
    "                elif c==2:\n",
    "                    if(c < (len(array)-1)):\n",
    "                        future = array[c+1][4]\n",
    "                        Target = future\n",
    "                elif c==3:\n",
    "                    if(c < (len(array)-1)):\n",
    "                        future = array[c+1][3]\n",
    "                        Target = future\n",
    "                elif c==4:\n",
    "                    if(c < (len(array)-1)):\n",
    "                        future = array[c+1][2]\n",
    "                        Target = future\n",
    "                elif c==5:\n",
    "                    if(c < (len(array)-1)):\n",
    "                        future = array[c+1][1]\n",
    "                        Target = future\n",
    "                elif c==6:\n",
    "                    if(c < (len(array)-1)):\n",
    "                        future = array[c+1][0]\n",
    "                        Target = future\n",
    "                else:\n",
    "                    if(c < (len(array)-1)):\n",
    "                        future = array[c+1][0]\n",
    "                        Target = future\n",
    "                #given a certain position a, predict a+1\n",
    "                delta = Target - prediction      #calculate error\n",
    "                #print(\"prediction: \",prediction,\" Target:\", Target,\"Delta: \", delta)\n",
    "                error = delta\n",
    "                error_array.append(error)        #append error\n",
    "                net_array.append(prediction)\n",
    "                #------------------------WEIGHTS UPDATED BY CORRESPONDING CURRENT ERROR AND INPUT----------------------------------\n",
    "                weights3_change = lr*error*Target       #calculate weight change for bias(Target is input)\n",
    "                #print(\"weight change\",weights3_change_bias)\n",
    "                weights3[0] = weights3[0] + weights3_change#add calculated weight change to bias\n",
    "                for i in range(len(a)):                         #for each input in input array\n",
    "                    weights3[i + 1] = weights3[i +1] + weights3_change #obtain respective weight and add it with the weight change\n",
    "                sum_error += error**2            #calculate sum_error\n",
    "                c = c + 1                        #increment counter\n",
    "            sum_error_array.append(sum_error)\n",
    "            itr_array.append(loop)\n",
    "            #print('>epoch=%d, lrate=%.3f, error=%.3f, , sum_error=%.3f' % (loop, lr, error, sum_error))\n",
    "        else:                               #if epoch is > 1\n",
    "            for a in array:                 #for each input in input array\n",
    "                prediction = predict3(a,weights3_1[w_adaptor]) #calculate predictions using weights from previous epoch\n",
    "                if c == 0:\n",
    "                    if(c < (len(array)-1)):\n",
    "                        future = array[c+1][6]\n",
    "                        Target = future\n",
    "                elif c==1:\n",
    "                    if(c < (len(array)-1)):\n",
    "                        future = array[c+1][5]\n",
    "                        Target = future\n",
    "                elif c==2:\n",
    "                    if(c < (len(array)-1)):\n",
    "                        future = array[c+1][4]\n",
    "                        Target = future\n",
    "                elif c==3:\n",
    "                    if(c < (len(array)-1)):\n",
    "                        future = array[c+1][3]\n",
    "                        Target = future\n",
    "                elif c==4:\n",
    "                    if(c < (len(array)-1)):\n",
    "                        future = array[c+1][2]\n",
    "                        Target = future\n",
    "                elif c==5:\n",
    "                    if(c < (len(array)-1)):\n",
    "                        future = array[c+1][1]\n",
    "                        Target = future\n",
    "                elif c==6:\n",
    "                    if(c < (len(array)-1)):\n",
    "                        future = array[c+1][0]\n",
    "                        Target = future\n",
    "                else:\n",
    "                    if(c < (len(array)-1)):\n",
    "                        future = array[c+1][0]\n",
    "                        Target = future\n",
    "                delta = Target - prediction #calculate error\n",
    "                error = delta\n",
    "                #print(\"prediction: \",prediction,\" Target:\", Target,\"Delta: \", delta)\n",
    "                error_array.append(error)   #append error\n",
    "                net_array.append(prediction)#append predictions\n",
    "                #------------------------WEIGHTS UPDATED BY CORRESPONDING CURRENT ERROR AND INPUT----------------------------------\n",
    "            \n",
    "                weights3_change = lr*error*Target #calulate weight change for bias\n",
    "                #print(\"weight change\",weights3_change_bias)\n",
    "                weights3_1[w_adaptor][0] = weights3_1[w_adaptor][0] + weights3_change #update bias weight in the saved weights array\n",
    "                for i in range(len(a)):                 #for each input in input array\n",
    "                     weights3_1[w_adaptor][i + 1] =  weights3_1[w_adaptor][i +1] + weights3_change #update respective weights in weights array\n",
    "                sum_error += error**2                   #calculate sum_error\n",
    "                c = c + 1                               #increment counter\n",
    "                w_adaptor = w_adaptor + 1               #increment weight counter\n",
    "            itr_array.append(loop)\n",
    "            sum_error_array.append(sum_error)\n",
    "            #print('>epoch=%d, lrate=%.3f, error=%.3f, , sum_error=%.3f' % (loop, lr, error, sum_error))\n",
    "    return net_array,sum_error_array,weights3_1,itr_array\n",
    "            \n",
    "def predict3(noise2,weights2):\n",
    "    net_sum = 1 #bias\n",
    "    net_sum +=net_sum*weights2[0] #obtain bias from weight array\n",
    "    for i in range(len(noise2)-1):\n",
    "        net_sum += weights2[i + 1] * noise2[i] #multiply input by respective weight to obtain a summation\n",
    "    activation2 = sigmoid_activation(net_sum)  #implement sigmoid function to summation obtained\n",
    "    return activation2               #return activation and network sum\n",
    "\n",
    "#normalize data and feed into tuple\n",
    "def octa_converter(array):                   #converts input into a tuple so that we can pass 3 input weights per prediction\n",
    "    octa_array = []\n",
    "    c = 0 #counter\n",
    "    while c < len(array):\n",
    "        if c == 0:\n",
    "            octa_array.append([0,0,0,0,0,0,0,array[c]])\n",
    "        elif c == 1:\n",
    "            octa_array.append([0,0,0,0,0,0,array[c],array[c-1]])\n",
    "        elif c ==2:\n",
    "            octa_array.append([0,0,0,0,0,array[c],array[c-1],array[c-2]])\n",
    "        elif c ==3:\n",
    "            octa_array.append([0,0,0,0,array[c],array[c-1],array[c-2],array[c-3]])\n",
    "        elif c ==4:\n",
    "            octa_array.append([0,0,0,array[c],array[c-1],array[c-2],array[c-3],array[c-4]])\n",
    "        elif c ==5:\n",
    "            octa_array.append([0,0,array[c],array[c-1],array[c-2],array[c-3],array[c-4],array[c-5]])\n",
    "        elif c ==6:\n",
    "            octa_array.append([0,array[c],array[c-1],array[c-2],array[c-3],array[c-4],array[c-5],array[c-6]])\n",
    "        else:\n",
    "            octa_array.append([array[c],array[c-1],array[c-2],array[c-3],array[c-4],array[c-5],array[c-6],array[c-7]])\n",
    "        c = c + 1                              #increment counter\n",
    "    return octa_array\n"
   ]
  },
  {
   "cell_type": "code",
   "execution_count": 81,
   "metadata": {},
   "outputs": [],
   "source": [
    "eight_inputs = octa_converter(x_scaled)\n",
    "values1,e1,w1,itrArray1 = train_weights8(eight_inputs, 0.01,10)"
   ]
  },
  {
   "cell_type": "code",
   "execution_count": 82,
   "metadata": {},
   "outputs": [
    {
     "data": {
      "image/png": "[encoded data removed]",
      "text/plain": [
       "<Figure size 432x288 with 1 Axes>"
      ]
     },
     "metadata": {
      "needs_background": "light"
     },
     "output_type": "display_data"
    }
   ],
   "source": [
    "y_axis = values1 #network output\n",
    "y = x_scaled # x noise\n",
    "x_axis = x = t_save2\n",
    "plt.plot(x,y,\"b\") #actual\n",
    "plt.plot(x_axis,y_axis,\"y\")#noise\n",
    "plt.show()"
   ]
  },
  {
   "cell_type": "code",
   "execution_count": 83,
   "metadata": {},
   "outputs": [
    {
     "data": {
      "image/png": "[encoded data removed]",
      "text/plain": [
       "<Figure size 432x288 with 1 Axes>"
      ]
     },
     "metadata": {
      "needs_background": "light"
     },
     "output_type": "display_data"
    }
   ],
   "source": [
    "error_dataframe = {'Error':e1,'Epochs':itrArray1}\n",
    "error_df1 = pd.DataFrame(error_dataframe)\n",
    "error_plt = sns.lineplot(x=\"Epochs\", y=\"Error\", data=error_df1) #blue"
   ]
  },
  {
   "cell_type": "code",
   "execution_count": 84,
   "metadata": {},
   "outputs": [],
   "source": [
    "weights_df= pd.DataFrame(w1)\n",
    "weights_df.to_csv(\"Sigmoid_Network_weights_8_inputs.csv\")"
   ]
  },
  {
   "cell_type": "markdown",
   "metadata": {},
   "source": [
    "# Weights implementation on unseen data"
   ]
  },
  {
   "cell_type": "markdown",
   "metadata": {},
   "source": [
    "## Train weights(Triple inputs)"
   ]
  },
  {
   "cell_type": "code",
   "execution_count": 85,
   "metadata": {},
   "outputs": [],
   "source": [
    "def implement_weights3(array,weights):\n",
    "    net_array = []\n",
    "    error_array = []\n",
    "    sum_error = 0.0\n",
    "    w_adaptor = 0\n",
    "    c = 0\n",
    "    for a in array: #loop through each input in array\n",
    "        prediction = predict3(a,weights[w_adaptor]) #grab saved weight and predict\n",
    "        net_array.append(prediction)   #append prediction\n",
    "        w_adaptor = w_adaptor + 1      #increment weight counter\n",
    "        c = c + 1\n",
    "    #print('>error=%.3f,sum_error=%.3f' % (error))\n",
    "    return net_array     "
   ]
  },
  {
   "cell_type": "code",
   "execution_count": 89,
   "metadata": {},
   "outputs": [],
   "source": [
    "x_scaled = preprocessing.minmax_scale(x_save2)\n",
    "#dat1 = triple_converter(random_vals)\n",
    "dat2 = triple_converter(x_scaled)\n",
    "values,e,weights,itr = train_weights3(dat2, 0.01,100000)"
   ]
  },
  {
   "cell_type": "code",
   "execution_count": 90,
   "metadata": {},
   "outputs": [
    {
     "data": {
      "image/png": "[encoded data removed]",
      "text/plain": [
       "<Figure size 432x288 with 1 Axes>"
      ]
     },
     "metadata": {
      "needs_background": "light"
     },
     "output_type": "display_data"
    }
   ],
   "source": [
    "y_axis = values #network output\n",
    "x_axis = x = t_save2\n",
    "plt.plot(x_axis,y_axis,\"y\")#noise\n",
    "plt.show()"
   ]
  },
  {
   "cell_type": "code",
   "execution_count": 91,
   "metadata": {},
   "outputs": [
    {
     "data": {
      "image/png": "[encoded data removed]",
      "text/plain": [
       "<Figure size 432x288 with 1 Axes>"
      ]
     },
     "metadata": {
      "needs_background": "light"
     },
     "output_type": "display_data"
    }
   ],
   "source": [
    "y = x_scaled\n",
    "x_axis = x = t_save2\n",
    "plt.plot(x,y,\"b\") #actual\n",
    "plt.plot(x_axis,y_axis,\"y\")#network\n",
    "plt.show()"
   ]
  },
  {
   "cell_type": "markdown",
   "metadata": {},
   "source": [
    "## Implement Trained weights on unseen data"
   ]
  },
  {
   "cell_type": "code",
   "execution_count": 92,
   "metadata": {},
   "outputs": [],
   "source": [
    "random_vals1 = []\n",
    "#data,std_dev.mean\n",
    "random_vals1,_,_ = box_muller(x_save2,0.1,_mean) #call box muller\n",
    "x_scaled = preprocessing.minmax_scale(random_vals1)\n",
    "dat1 = triple_converter(x_scaled)\n",
    "net_array = implement_weights3(dat1,weights) #use trained weights(w) on unseen data\n",
    "#weights_data= {'Weights_data':w}\n",
    "#weights_df= pd.DataFrame(weights)\n",
    "#weights_df.to_csv(\"Sigmoid_Network_weights.csv\")"
   ]
  },
  {
   "cell_type": "code",
   "execution_count": 93,
   "metadata": {},
   "outputs": [
    {
     "data": {
      "image/png": "[encoded data removed]",
      "text/plain": [
       "<Figure size 432x288 with 1 Axes>"
      ]
     },
     "metadata": {
      "needs_background": "light"
     },
     "output_type": "display_data"
    }
   ],
   "source": [
    "y_axis = net_array #network output\n",
    "y = x_scaled\n",
    "x_axis = x = t_save2\n",
    "plt.plot(x,y,\"y\") #actual\n",
    "plt.plot(x_axis,y_axis,\"b\")#noise\n",
    "plt.show()"
   ]
  },
  {
   "cell_type": "markdown",
   "metadata": {},
   "source": [
    "## 5 Inputs"
   ]
  },
  {
   "cell_type": "code",
   "execution_count": 94,
   "metadata": {},
   "outputs": [],
   "source": [
    "x_scaled = preprocessing.minmax_scale(x_save2)\n",
    "dat2 = penta_converter(x_scaled)\n",
    "values,e,weights5,itr = train_weights5(dat2, 0.01,100000)"
   ]
  },
  {
   "cell_type": "code",
   "execution_count": 95,
   "metadata": {},
   "outputs": [
    {
     "data": {
      "image/png": "[encoded data removed]",
      "text/plain": [
       "<Figure size 432x288 with 1 Axes>"
      ]
     },
     "metadata": {
      "needs_background": "light"
     },
     "output_type": "display_data"
    }
   ],
   "source": [
    "y_axis = values #network output\n",
    "x_axis = x = t_save2\n",
    "plt.plot(x_axis,y_axis,\"y\")#noise\n",
    "plt.show()"
   ]
  },
  {
   "cell_type": "code",
   "execution_count": 96,
   "metadata": {},
   "outputs": [
    {
     "data": {
      "image/png": "[encoded data removed]",
      "text/plain": [
       "<Figure size 432x288 with 1 Axes>"
      ]
     },
     "metadata": {
      "needs_background": "light"
     },
     "output_type": "display_data"
    }
   ],
   "source": [
    "y = x_scaled\n",
    "x_axis = x = t_save2\n",
    "plt.plot(x,y,\"b\") #actual\n",
    "plt.plot(x_axis,y_axis,\"y\")#network\n",
    "plt.show()"
   ]
  },
  {
   "cell_type": "code",
   "execution_count": 97,
   "metadata": {},
   "outputs": [],
   "source": [
    "random_vals1 = []\n",
    "#data,std_dev.mean\n",
    "random_vals1,_,_ = box_muller(x_save2,0.1,_mean) #call box muller\n",
    "x_scaled = preprocessing.minmax_scale(random_vals1)\n",
    "dat1 = penta_converter(x_scaled)\n",
    "net_array = implement_weights3(dat1,weights5) #use trained weights(w) on unseen data"
   ]
  },
  {
   "cell_type": "code",
   "execution_count": 98,
   "metadata": {},
   "outputs": [
    {
     "data": {
      "image/png": "[encoded data removed]",
      "text/plain": [
       "<Figure size 432x288 with 1 Axes>"
      ]
     },
     "metadata": {
      "needs_background": "light"
     },
     "output_type": "display_data"
    }
   ],
   "source": [
    "y_axis = net_array #network output\n",
    "y = x_scaled\n",
    "x_axis = x = t_save2\n",
    "plt.plot(x,y,\"y\") #actual\n",
    "plt.plot(x_axis,y_axis,\"b\")#noise\n",
    "plt.show()"
   ]
  },
  {
   "cell_type": "markdown",
   "metadata": {},
   "source": [
    "## 8 inputs"
   ]
  },
  {
   "cell_type": "code",
   "execution_count": 99,
   "metadata": {},
   "outputs": [],
   "source": [
    "x_scaled = preprocessing.minmax_scale(x_save2)\n",
    "dat2 = octa_converter(x_scaled)\n",
    "values,e,weights5,itr = train_weights8(dat2, 0.01,100000)"
   ]
  },
  {
   "cell_type": "code",
   "execution_count": 100,
   "metadata": {},
   "outputs": [
    {
     "data": {
      "image/png": "[encoded data removed]",
      "text/plain": [
       "<Figure size 432x288 with 1 Axes>"
      ]
     },
     "metadata": {
      "needs_background": "light"
     },
     "output_type": "display_data"
    }
   ],
   "source": [
    "y_axis = values #network output\n",
    "x_axis = x = t_save2\n",
    "plt.plot(x_axis,y_axis,\"y\")#noise\n",
    "plt.show()"
   ]
  },
  {
   "cell_type": "code",
   "execution_count": 101,
   "metadata": {},
   "outputs": [
    {
     "data": {
      "image/png": "[encoded data removed]",
      "text/plain": [
       "<Figure size 432x288 with 1 Axes>"
      ]
     },
     "metadata": {
      "needs_background": "light"
     },
     "output_type": "display_data"
    }
   ],
   "source": [
    "y = x_scaled\n",
    "x_axis = x = t_save2\n",
    "plt.plot(x,y,\"b\") #actual\n",
    "plt.plot(x_axis,y_axis,\"y\")#network\n",
    "plt.show()"
   ]
  },
  {
   "cell_type": "code",
   "execution_count": 102,
   "metadata": {},
   "outputs": [],
   "source": [
    "random_vals1 = []\n",
    "#data,std_dev.mean\n",
    "random_vals1,_,_ = box_muller(x_save2,0.1,_mean) #call box muller\n",
    "x_scaled = preprocessing.minmax_scale(random_vals1)\n",
    "dat1 = octa_converter(x_scaled)\n",
    "net_array = implement_weights3(dat1,weights5) #use trained weights(w) on unseen data"
   ]
  },
  {
   "cell_type": "code",
   "execution_count": 103,
   "metadata": {},
   "outputs": [
    {
     "data": {
      "image/png": "[encoded data removed]",
      "text/plain": [
       "<Figure size 432x288 with 1 Axes>"
      ]
     },
     "metadata": {
      "needs_background": "light"
     },
     "output_type": "display_data"
    }
   ],
   "source": [
    "y_axis = net_array #network output\n",
    "y = x_scaled\n",
    "x_axis = x = t_save2\n",
    "plt.plot(x,y,\"y\") #actual\n",
    "plt.plot(x_axis,y_axis,\"b\")#noise\n",
    "plt.show()"
   ]
  },
  {
   "cell_type": "code",
   "execution_count": null,
   "metadata": {},
   "outputs": [],
   "source": []
  },
  {
   "cell_type": "code",
   "execution_count": null,
   "metadata": {},
   "outputs": [],
   "source": []
  }
 ],
 "metadata": {
  "kernelspec": {
   "display_name": "Python 3",
   "language": "python",
   "name": "python3"
  },
  "language_info": {
   "codemirror_mode": {
    "name": "ipython",
    "version": 3
   },
   "file_extension": ".py",
   "mimetype": "text/x-python",
   "name": "python",
   "nbconvert_exporter": "python",
   "pygments_lexer": "ipython3",
   "version": "3.7.9"
  }
 },
 "nbformat": 4,
 "nbformat_minor": 2
}
